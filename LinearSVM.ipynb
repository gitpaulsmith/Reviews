{
 "metadata": {
  "name": "",
  "signature": "sha256:239cf14fe833082b921f96354fd5390bfe16502118757d6bba4b05721bb66e66"
 },
 "nbformat": 3,
 "nbformat_minor": 0,
 "worksheets": [
  {
   "cells": [
    {
     "cell_type": "markdown",
     "metadata": {},
     "source": [
      "Load the libraries"
     ]
    },
    {
     "cell_type": "code",
     "collapsed": false,
     "input": [
      "#import pylab as pl\n",
      "import scipy\n",
      "import numpy as np\n",
      "import pandas as pd\n",
      "#pd.options.display.mpl_style = 'default'\n",
      "\n",
      "from time import time\n",
      "\n",
      "import matplotlib.pyplot as plt\n",
      "%matplotlib inline\n",
      "\n",
      "from sklearn.feature_extraction.text import CountVectorizer\n",
      "from sklearn.feature_extraction.text import TfidfVectorizer\n",
      "from sklearn import svm\n",
      "from sklearn.metrics import confusion_matrix, precision_recall_curve, auc\n",
      "from sklearn.cross_validation import train_test_split"
     ],
     "language": "python",
     "metadata": {},
     "outputs": [
      {
       "output_type": "stream",
       "stream": "stderr",
       "text": [
        "/usr/local/lib/python2.7/site-packages/pandas/io/excel.py:626: UserWarning: Installed openpyxl is not supported at this time. Use >=1.6.1 and <2.0.0.\n",
        "  .format(openpyxl_compat.start_ver, openpyxl_compat.stop_ver))\n"
       ]
      }
     ],
     "prompt_number": 1
    },
    {
     "cell_type": "markdown",
     "metadata": {},
     "source": [
      "Load the data from the preprocessed csv file"
     ]
    },
    {
     "cell_type": "code",
     "collapsed": false,
     "input": [
      "t0 = time() \n",
      "df = pd.read_csv('scrubbed_foods.csv','\\t!\\t')\n",
      "t1 = time()\n",
      "print 'Elapsed time: ', t1 - t0"
     ],
     "language": "python",
     "metadata": {},
     "outputs": [
      {
       "output_type": "stream",
       "stream": "stdout",
       "text": [
        "Elapsed time:  7.38368105888\n"
       ]
      },
      {
       "output_type": "stream",
       "stream": "stderr",
       "text": [
        "/usr/local/lib/python2.7/site-packages/pandas/io/parsers.py:615: ParserWarning: Falling back to the 'python' engine because the 'c' engine does not support regex separators; you can avoid this warning by specifying engine='python'.\n",
        "  ParserWarning)\n"
       ]
      }
     ],
     "prompt_number": 2
    },
    {
     "cell_type": "markdown",
     "metadata": {},
     "source": [
      "Next we will drop duplicate reviews. Applying shape both before and after, we can tell how many duplicates are eliminated."
     ]
    },
    {
     "cell_type": "code",
     "collapsed": false,
     "input": [
      "print 'Shape before dropping duplicates: ', df.shape\n",
      "df = df.drop_duplicates('text')\n",
      "print 'Shape after dropping duplicates: ', df.shape"
     ],
     "language": "python",
     "metadata": {},
     "outputs": [
      {
       "output_type": "stream",
       "stream": "stdout",
       "text": [
        "Shape before dropping duplicates:  (568447, 8)\n",
        "Shape after dropping duplicates: "
       ]
      },
      {
       "output_type": "stream",
       "stream": "stdout",
       "text": [
        " (393573, 8)\n"
       ]
      }
     ],
     "prompt_number": 3
    },
    {
     "cell_type": "markdown",
     "metadata": {},
     "source": [
      "Next we partition the reviews into \"good\" reviews and \"bad\" reviews. Here we adopt the convention that 4- and 5-star reviews are good and 1- and 2-star reviews are bad. For the time being we ignore 3-star reviews."
     ]
    },
    {
     "cell_type": "code",
     "collapsed": false,
     "input": [
      "dfhi = df[df['score']>3]\n",
      "dflo = df[df['score']<3]\n",
      "dfconcat = pd.concat([dfhi, dflo])"
     ],
     "language": "python",
     "metadata": {},
     "outputs": [],
     "prompt_number": 4
    },
    {
     "cell_type": "markdown",
     "metadata": {},
     "source": [
      "We take dfconcat, which contains all reviews except those earning 3 stars, and randomly split it into training and test data. Here we put 60% of the data into the training set and reserve 40% for the test set. Note that we independently draw from dfconcat as a whole and not from dfhi or dflo separately; as a result, the precise good/bad review split in the training data can vary from run to run."
     ]
    },
    {
     "cell_type": "code",
     "collapsed": false,
     "input": [
      "#np.random.seed(0)\n",
      "dfconcat = dfconcat.reindex(np.random.permutation(dfconcat.index))\n",
      "n_sample = len(dfconcat)\n",
      "m_train = int(0.6*n_sample)\n",
      "dftrain = dfconcat.head(m_train)\n",
      "dfextremestest = dfconcat.tail(n_sample-m_train)"
     ],
     "language": "python",
     "metadata": {},
     "outputs": [],
     "prompt_number": 5
    },
    {
     "cell_type": "markdown",
     "metadata": {},
     "source": [
      "Here we construct the support vector machine. Because of the (large) size of the data, and to establish a decent baseline, we opt for a linear model. We use the 'l1' penalty so as to obtain sparse coefficient vectors."
     ]
    },
    {
     "cell_type": "code",
     "collapsed": false,
     "input": [
      "clf = svm.LinearSVC(loss='l2', penalty='l1', dual=False)"
     ],
     "language": "python",
     "metadata": {},
     "outputs": [],
     "prompt_number": 6
    },
    {
     "cell_type": "code",
     "collapsed": false,
     "input": [
      "def makeCM_plot(y_test, y_pred):\n",
      "    cm = confusion_matrix(y_test, y_pred)\n",
      "    print cm\n",
      "    plt.matshow(cm)\n",
      "    plt.title('Confusion matrix')\n",
      "    plt.colorbar()\n",
      "    plt.ylabel('True label')\n",
      "    plt.xlabel('Predicted label')\n",
      "    plt.show()"
     ],
     "language": "python",
     "metadata": {},
     "outputs": [],
     "prompt_number": 7
    },
    {
     "cell_type": "code",
     "collapsed": false,
     "input": [
      "def makePR_plot(x,y):\n",
      "    plt.figure\n",
      "    plt.plot(x, y)\n",
      "    plt.xlabel('Recall')\n",
      "    plt.ylabel('Precision')\n",
      "    plt.ylim([0.0, 1.05])\n",
      "    plt.xlim([0.0, 1.0])\n",
      "    plt.title('Precision-Recall curve')\n",
      "    plt.fill_between(x,0,y)\n",
      "    plt.show()"
     ],
     "language": "python",
     "metadata": {},
     "outputs": [],
     "prompt_number": 8
    },
    {
     "cell_type": "code",
     "collapsed": false,
     "input": [
      "def run_model(dftrain, count_vect):\n",
      "    t0 = time()\n",
      "    X_train = count_vect.fit_transform(dftrain['text'])\n",
      "    X_train = X_train.tocsr()\n",
      "    ds = dftrain['score']>3\n",
      "    y_train = ds.astype(np.int).values\n",
      "    t1 = time()\n",
      "    print 'Training data prep time:', t1 - t0\n",
      "    \n",
      "    t0 = time()\n",
      "    clf.fit(X_train, y_train)\n",
      "    t1 = time()\n",
      "    print 'Model fit time: ', t1 - t0\n",
      "    \n",
      "    t0 = time()\n",
      "    X_extremestest = count_vect.transform(dfextremestest['text'])\n",
      "    dstest = dfextremestest['score']>3\n",
      "    y_extremestest = dstest.astype(np.int).values\n",
      "    t1 = time()\n",
      "    print 'Test data prep time:', t1 - t0\n",
      "    \n",
      "    print 'Score on the training data: ', clf.score(X_train, y_train)\n",
      "    print 'Score on the test data: ', clf.score(X_extremestest, y_extremestest)\n",
      "    y_predict = clf.predict(X_extremestest)\n",
      "    makeCM_plot(y_extremestest, y_predict)"
     ],
     "language": "python",
     "metadata": {},
     "outputs": [],
     "prompt_number": 9
    },
    {
     "cell_type": "heading",
     "level": 1,
     "metadata": {},
     "source": [
      "Linear SVM, l1 penalty, tf, no stop words"
     ]
    },
    {
     "cell_type": "markdown",
     "metadata": {},
     "source": [
      "Next we create a count_vect object that we will use to create a document-term matrix. In order to avoid load errors, we specify the decode_error as 'replace' rather than the default 'strict'. In an effort to generate a cleaner set of terms, we also set the strip_accents option to 'ascii'.\n",
      "\n",
      "The fit_transform method creates the document-term matrix in (sparse) coo format. We convert this to csr to achieve performance gains in the svm step.\n",
      "\n",
      "The y_train vector is a numpy array and is not expected to be sparse."
     ]
    },
    {
     "cell_type": "code",
     "collapsed": false,
     "input": [
      "t0 = time()\n",
      "count_vect = CountVectorizer(decode_error='replace', strip_accents='ascii')\n",
      "X_train = count_vect.fit_transform(dftrain['text'])\n",
      "X_train = X_train.tocsr()\n",
      "ds = dftrain['score']>3\n",
      "y_train = ds.astype(np.int).values\n",
      "t1 = time()\n",
      "print 'Elapsed time:', t1 - t0"
     ],
     "language": "python",
     "metadata": {},
     "outputs": [
      {
       "output_type": "stream",
       "stream": "stdout",
       "text": [
        "Elapsed time: 24.6157279015\n"
       ]
      }
     ],
     "prompt_number": 20
    },
    {
     "cell_type": "markdown",
     "metadata": {},
     "source": [
      "The training step, which is next, takes about 1.5 minutes to run on my machine."
     ]
    },
    {
     "cell_type": "code",
     "collapsed": false,
     "input": [
      "t0 = time()\n",
      "clf.fit(X_train, y_train)\n",
      "t1 = time()\n",
      "print 'Elapsed time:', t1 - t0"
     ],
     "language": "python",
     "metadata": {},
     "outputs": [
      {
       "output_type": "stream",
       "stream": "stdout",
       "text": [
        "Elapsed time: 106.104427099\n"
       ]
      }
     ],
     "prompt_number": 21
    },
    {
     "cell_type": "markdown",
     "metadata": {},
     "source": [
      "Feature names (words in the reviews) are only extracted from the training data. We create an iterable object of these to use in converting the test data into a document-term matrix."
     ]
    },
    {
     "cell_type": "code",
     "collapsed": false,
     "input": [
      "t0 = time()\n",
      "X_extremestest = count_vect.transform(dfextremestest['text'])\n",
      "dstest = dfextremestest['score']>3\n",
      "y_extremestest = dstest.astype(np.int).values\n",
      "t1 = time()\n",
      "print 'Elapsed time:', t1 - t0"
     ],
     "language": "python",
     "metadata": {},
     "outputs": [
      {
       "output_type": "stream",
       "stream": "stdout",
       "text": [
        "Elapsed time: 15.5838279724\n"
       ]
      }
     ],
     "prompt_number": 22
    },
    {
     "cell_type": "markdown",
     "metadata": {},
     "source": [
      "Next we check to see how the classifier performs on the training data and test data."
     ]
    },
    {
     "cell_type": "code",
     "collapsed": false,
     "input": [
      "print 'Score on the training data: ', clf.score(X_train, y_train)\n",
      "print 'Score on the test data: ', clf.score(X_extremestest, y_extremestest)"
     ],
     "language": "python",
     "metadata": {},
     "outputs": [
      {
       "output_type": "stream",
       "stream": "stdout",
       "text": [
        "Score on the training data:  "
       ]
      },
      {
       "output_type": "stream",
       "stream": "stdout",
       "text": [
        "0.973824052187\n",
        "Score on the test data:  "
       ]
      },
      {
       "output_type": "stream",
       "stream": "stdout",
       "text": [
        "0.923306855038\n"
       ]
      }
     ],
     "prompt_number": 23
    },
    {
     "cell_type": "markdown",
     "metadata": {},
     "source": [
      "We can visualize the peformance with the following confusion matrix."
     ]
    },
    {
     "cell_type": "code",
     "collapsed": false,
     "input": [
      "y_predict = clf.predict(X_extremestest)\n",
      "makeCM_plot(y_extremestest, y_predict)"
     ],
     "language": "python",
     "metadata": {},
     "outputs": [
      {
       "output_type": "stream",
       "stream": "stdout",
       "text": [
        "[[ 16442   6406]\n",
        " [  4755 117925]]\n"
       ]
      },
      {
       "metadata": {},
       "output_type": "display_data",
       "png": "[encoded data removed]",
       "text": [
        "<matplotlib.figure.Figure at 0x1136b8410>"
       ]
      }
     ],
     "prompt_number": 28
    },
    {
     "cell_type": "markdown",
     "metadata": {},
     "source": [
      "Below we present an alternative way to run cross-validation. Unlike the procedure used above, this procedure creates the document-term matrix using all words in the available data (i.e., including words in the test data that do not occur in the training data)."
     ]
    },
    {
     "cell_type": "code",
     "collapsed": false,
     "input": [
      "count_vect = CountVectorizer(decode_error='replace', strip_accents='ascii')\n",
      "X = count_vect.fit_transform(dfconcat['text'])\n",
      "X = X.tocsr()\n",
      "ds = dfconcat['score']>3\n",
      "y = ds.astype(np.int).values"
     ],
     "language": "python",
     "metadata": {},
     "outputs": [],
     "prompt_number": 20
    },
    {
     "cell_type": "code",
     "collapsed": false,
     "input": [
      "X_train, X_test, y_train, y_test = train_test_split(X, y, random_state=0)"
     ],
     "language": "python",
     "metadata": {},
     "outputs": [],
     "prompt_number": 21
    },
    {
     "cell_type": "heading",
     "level": 1,
     "metadata": {},
     "source": [
      "Variations of the model"
     ]
    },
    {
     "cell_type": "code",
     "collapsed": false,
     "input": [
      "start_time = time()\n",
      "print \"Linear SVM, l1 penalty, tf, 'english' stop words...\"\n",
      "count_vect = CountVectorizer(decode_error='replace', strip_accents='ascii', stop_words = 'english')\n",
      "run_model(dftrain, count_vect)\n",
      "\n",
      "print \"Linear SVM, l1 penalty, tfidf, no stop words...\"\n",
      "count_vect = TfidfVectorizer(decode_error='replace', strip_accents='ascii')\n",
      "run_model(dftrain, count_vect)\n",
      "\n",
      "print \"Linear SVM, l1 penalty, tfidf, 'english' stop words...\"\n",
      "count_vect = TfidfVectorizer(decode_error='replace', strip_accents='ascii', stop_words='english')\n",
      "run_model(dftrain, count_vect)\n",
      "\n",
      "print \"Linear SVM, l1 penalty, tfidf, no stop words, unigrams and bigrams...\"\n",
      "count_vect = TfidfVectorizer(ngram_range = (1,2), decode_error='replace', strip_accents='ascii')\n",
      "run_model(dftrain, count_vect)\n",
      "finish_time = time()\n",
      "\n",
      "print 'Total time to run: ', finish_time - start_time"
     ],
     "language": "python",
     "metadata": {},
     "outputs": [
      {
       "output_type": "stream",
       "stream": "stdout",
       "text": [
        "Linear SVM, l1 penalty, tf, 'english' stop words...\n",
        "Training data prep time:"
       ]
      },
      {
       "output_type": "stream",
       "stream": "stdout",
       "text": [
        " 23.5792279243\n",
        "Model fit time: "
       ]
      },
      {
       "output_type": "stream",
       "stream": "stdout",
       "text": [
        " 85.4681410789\n",
        "Test data prep time:"
       ]
      },
      {
       "output_type": "stream",
       "stream": "stdout",
       "text": [
        " 14.1972711086\n",
        "Score on the training data:  "
       ]
      },
      {
       "output_type": "stream",
       "stream": "stdout",
       "text": [
        "0.969568284683\n",
        "Score on the test data:  0.917259908746\n",
        "[[ 15748   7087]\n",
        " [  4954 117739]]"
       ]
      },
      {
       "output_type": "stream",
       "stream": "stdout",
       "text": [
        "\n"
       ]
      },
      {
       "metadata": {},
       "output_type": "display_data",
       "png": "[encoded data removed]",
       "text": [
        "<matplotlib.figure.Figure at 0x107d6c950>"
       ]
      },
      {
       "output_type": "stream",
       "stream": "stdout",
       "text": [
        "Linear SVM, l1 penalty, tfidf, no stop words...\n",
        "Training data prep time:"
       ]
      },
      {
       "output_type": "stream",
       "stream": "stdout",
       "text": [
        " 24.5291409492\n",
        "Model fit time: "
       ]
      },
      {
       "output_type": "stream",
       "stream": "stdout",
       "text": [
        " 36.8293540478\n",
        "Test data prep time:"
       ]
      },
      {
       "output_type": "stream",
       "stream": "stdout",
       "text": [
        " 15.0225789547\n",
        "Score on the training data:  "
       ]
      },
      {
       "output_type": "stream",
       "stream": "stdout",
       "text": [
        "0.951115936452\n",
        "Score on the test data:  0.931648892309\n",
        "[[ 16378   6457]\n",
        " [  3490 119203]]"
       ]
      },
      {
       "output_type": "stream",
       "stream": "stdout",
       "text": [
        "\n"
       ]
      },
      {
       "metadata": {},
       "output_type": "display_data",
       "png": "[encoded data removed]",
       "text": [
        "<matplotlib.figure.Figure at 0x11cf82e90>"
       ]
      },
      {
       "output_type": "stream",
       "stream": "stdout",
       "text": [
        "Linear SVM, l1 penalty, tfidf, 'english' stop words...\n",
        "Training data prep time:"
       ]
      },
      {
       "output_type": "stream",
       "stream": "stdout",
       "text": [
        " 22.8182480335\n",
        "Model fit time: "
       ]
      },
      {
       "output_type": "stream",
       "stream": "stdout",
       "text": [
        " 18.0337450504\n",
        "Test data prep time:"
       ]
      },
      {
       "output_type": "stream",
       "stream": "stdout",
       "text": [
        " 14.4448020458\n",
        "Score on the training data:  0.947583970095\n",
        "Score on the test data:  "
       ]
      },
      {
       "output_type": "stream",
       "stream": "stdout",
       "text": [
        "0.925691275906\n",
        "[[ 15645   7190]\n",
        " [  3624 119069]]"
       ]
      },
      {
       "output_type": "stream",
       "stream": "stdout",
       "text": [
        "\n"
       ]
      },
      {
       "metadata": {},
       "output_type": "display_data",
       "png": "[encoded data removed]",
       "text": [
        "<matplotlib.figure.Figure at 0x10786d9d0>"
       ]
      },
      {
       "output_type": "stream",
       "stream": "stdout",
       "text": [
        "Linear SVM, l1 penalty, tfidf, no stop words, unigrams and bigrams...\n",
        "Training data prep time:"
       ]
      },
      {
       "output_type": "stream",
       "stream": "stdout",
       "text": [
        " 95.392373085\n",
        "Model fit time: "
       ]
      },
      {
       "output_type": "stream",
       "stream": "stdout",
       "text": [
        " 63.2881541252\n",
        "Test data prep time:"
       ]
      },
      {
       "output_type": "stream",
       "stream": "stdout",
       "text": [
        " 45.3780920506\n",
        "Score on the training data:  "
       ]
      },
      {
       "output_type": "stream",
       "stream": "stdout",
       "text": [
        "0.972692540267\n",
        "Score on the test data:  "
       ]
      },
      {
       "output_type": "stream",
       "stream": "stdout",
       "text": [
        "0.948731515585\n",
        "[[ 18142   4693]\n",
        " [  2768 119925]]"
       ]
      },
      {
       "output_type": "stream",
       "stream": "stdout",
       "text": [
        "\n"
       ]
      },
      {
       "metadata": {},
       "output_type": "display_data",
       "png": "[encoded data removed]",
       "text": [
        "<matplotlib.figure.Figure at 0x10740ffd0>"
       ]
      },
      {
       "output_type": "stream",
       "stream": "stdout",
       "text": [
        "Total time to run:  462.497045994\n"
       ]
      }
     ],
     "prompt_number": 13
    },
    {
     "cell_type": "markdown",
     "metadata": {},
     "source": []
    }
   ],
   "metadata": {}
  }
 ]
}