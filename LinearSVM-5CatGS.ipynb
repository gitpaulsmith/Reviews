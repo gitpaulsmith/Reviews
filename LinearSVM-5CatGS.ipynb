{
 "metadata": {
  "name": "",
  "signature": "sha256:1f146c9aad1deecc408723764fa0e2330e1fef2f112badd6b06e2f703540470e"
 },
 "nbformat": 3,
 "nbformat_minor": 0,
 "worksheets": [
  {
   "cells": [
    {
     "cell_type": "code",
     "collapsed": false,
     "input": [
      "#import pylab as pl\n",
      "import scipy\n",
      "import numpy as np\n",
      "import pandas as pd\n",
      "#pd.options.display.mpl_style = 'default'\n",
      "\n",
      "from time import time\n",
      "\n",
      "import matplotlib.pyplot as plt\n",
      "%matplotlib inline\n",
      "\n",
      "#from sklearn.feature_extraction.text import CountVectorizer\n",
      "from sklearn.feature_extraction.text import TfidfVectorizer\n",
      "from sklearn.pipeline import Pipeline\n",
      "from sklearn import svm\n",
      "from sklearn.metrics import confusion_matrix, precision_recall_curve, auc\n",
      "from sklearn.cross_validation import ShuffleSplit, train_test_split\n",
      "\n",
      "from sklearn.grid_search import GridSearchCV\n",
      "from sklearn.metrics import f1_score\n",
      "\n",
      "\n",
      "def grid_search_model(clf_factory, X, Y):\n",
      "    #cv = ShuffleSplit(\n",
      "        #n=len(X), n_iter=10, test_size=0.3, indices=True, random_state=0)\n",
      "    X_train, X_test, y_train, y_test= train_test_split(X, Y, test_size=0.6, random_state=0)\n",
      "    \n",
      "    param_grid = dict(vect__ngram_range=[(1, 1), (1, 2)],\n",
      "     #                 vect__min_df=[1, 2],\n",
      "                      vect__min_df=[2, 2],\n",
      "     #                 vect__stop_words=[None, 'english'],\n",
      "                      vect__stop_words=[None],\n",
      "                      vect__smooth_idf=[False, True],\n",
      "     #                 vect__smooth_idf=[True],\n",
      "     #                 vect__use_idf=[False, True],\n",
      "                      vect__use_idf=[True],\n",
      "     #                 vect__sublinear_tf=[False, True],\n",
      "                      vect__sublinear_tf=[False],\n",
      "     #                 vect__binary=[False, True],\n",
      "                      vect__binary=[True],\n",
      "                      #clf__alpha=[0, 0.01, 0.05, 0.1, 0.5, 1],\n",
      "                      )\n",
      "     #Restrict the grid search for test purposes\n",
      "\n",
      "    grid_search = GridSearchCV(clf_factory(),\n",
      "                               param_grid=param_grid,\n",
      "                               score_func=f1_score,\n",
      "                               cv=3,\n",
      "                               verbose=10)\n",
      "    grid_search.fit(X_train,y_train) \n",
      " \n",
      "    return grid_search.best_estimator_\n",
      "\n",
      "\n",
      "def create_l1_LinearSVC():\n",
      "    tfidf_ngrams=TfidfVectorizer(ngram_range=(1,2),analyzer=\"word\",binary=False)\n",
      "    clf=svm.LinearSVC(loss='l2', penalty='l1', dual=False)\n",
      "    pipeline=Pipeline([('vect',tfidf_ngrams),('clf',clf)])\n",
      "    return pipeline\n",
      "\n",
      "\n",
      "def create_l2_LinearSVC():\n",
      "    tfidf_ngrams=TfidfVectorizer(ngram_range=(1,2),analyzer=\"word\",binary=False)\n",
      "    clf=svm.LinearSVC(loss='l2', penalty='l1', dual=False)\n",
      "    pipeline=Pipeline([('vect',tfidf_ngrams),('clf',clf)])\n",
      "    return pipeline\n",
      "\n",
      "    \n",
      "def decodeArray(text):\n",
      "    try:\n",
      "        return text.decode(\"utf-8\",\"replace\")\n",
      "    except:\n",
      "        return 0\n",
      "    \n",
      "    \n",
      "def makeCM_plot(y_test, y_pred):\n",
      "    cm = confusion_matrix(y_test, y_pred)\n",
      "    print cm\n",
      "    plt.matshow(cm)\n",
      "    plt.title('Confusion matrix')\n",
      "    plt.colorbar()\n",
      "    plt.ylabel('True label')\n",
      "    plt.xlabel('Predicted label')\n",
      "    plt.show()\n",
      "    \n",
      "    \n",
      "def makePR_plot(x,y):\n",
      "    plt.figure\n",
      "    plt.plot(x, y)\n",
      "    plt.xlabel('Recall')\n",
      "    plt.ylabel('Precision')\n",
      "    plt.ylim([0.0, 1.05])\n",
      "    plt.xlim([0.0, 1.0])\n",
      "    plt.title('Precision-Recall curve')\n",
      "    plt.fill_between(x,0,y)\n",
      "    plt.show()"
     ],
     "language": "python",
     "metadata": {},
     "outputs": [],
     "prompt_number": 2
    },
    {
     "cell_type": "code",
     "collapsed": false,
     "input": [
      "t0 = time() \n",
      "df = pd.read_csv('scrubbed_foods.csv','\\t!\\t')\n",
      "t1 = time()\n",
      "print 'Data load time: ', t1 - t0\n",
      "\n",
      "print 'Shape before dropping duplicates: ', df.shape\n",
      "df = df.drop_duplicates('text')\n",
      "print 'Shape after dropping duplicates: ', df.shape"
     ],
     "language": "python",
     "metadata": {},
     "outputs": [
      {
       "output_type": "stream",
       "stream": "stdout",
       "text": [
        "Data load time:  6.96497797966\n",
        "Shape before dropping duplicates:  (568447, 8)\n",
        "Shape after dropping duplicates: "
       ]
      },
      {
       "output_type": "stream",
       "stream": "stdout",
       "text": [
        " (393573, 8)\n"
       ]
      },
      {
       "output_type": "stream",
       "stream": "stderr",
       "text": [
        "/usr/local/lib/python2.7/site-packages/pandas/io/parsers.py:615: ParserWarning: Falling back to the 'python' engine because the 'c' engine does not support regex separators; you can avoid this warning by specifying engine='python'.\n",
        "  ParserWarning)\n"
       ]
      }
     ],
     "prompt_number": 4
    },
    {
     "cell_type": "code",
     "collapsed": false,
     "input": [
      "df = df.reindex(np.random.permutation(df.index))\n",
      "df_1star = pd.DataFrame(df[df['score']==1],columns=['score','text'])\n",
      "df_2star = pd.DataFrame(df[df['score']==2],columns=['score','text'])\n",
      "df_3star = pd.DataFrame(df[df['score']==3],columns=['score','text'])\n",
      "df_4star = pd.DataFrame(df[df['score']==4],columns=['score','text'])\n",
      "df_5star = pd.DataFrame(df[df['score']==5],columns=['score','text'])\n",
      "\n",
      "dfhi = pd.DataFrame(df[df['score']>3], columns = ['score', 'text'])\n",
      "dflo = pd.DataFrame(df[df['score']<3], columns = ['score', 'text'])\n",
      "\n",
      "\n",
      "sampleSize=10000\n",
      "sampleStart=200000\n",
      "\n",
      "pieces=[df_1star[:sampleSize/5],df_2star[:sampleSize/5], df_3star[:sampleSize/5], df_4star[:sampleSize/5], df_5star[:sampleSize/5]]\n",
      "leftovers = [df_1star[sampleSize/5:],df_2star[sampleSize/5:], df_3star[sampleSize/5:], df_4star[sampleSize/5:], df_5star[sampleSize/5:]]\n",
      "final_df=pd.concat(pieces)\n",
      "holdout_df = pd.concat(leftovers)\n",
      "final_df=final_df.reindex(np.random.permutation(final_df.index))\n",
      "X=final_df['text'].apply(decodeArray)\n",
      "Y=final_df['score']\n",
      "X_holdout = holdout_df['text'].apply(decodeArray)\n",
      "y_holdout = holdout_df['score']"
     ],
     "language": "python",
     "metadata": {},
     "outputs": [],
     "prompt_number": 14
    },
    {
     "cell_type": "code",
     "collapsed": false,
     "input": [
      "classes = np.unique(Y)\n",
      "print classes\n",
      "for c in classes:\n",
      "        print(\"#%s: %i\" % (c, sum(Y==c)))"
     ],
     "language": "python",
     "metadata": {},
     "outputs": [
      {
       "output_type": "stream",
       "stream": "stdout",
       "text": [
        "[ 1.  2.  3.  4.  5.]\n",
        "#1.0: 2000"
       ]
      },
      {
       "output_type": "stream",
       "stream": "stdout",
       "text": [
        "\n",
        "#2.0: 2000"
       ]
      },
      {
       "output_type": "stream",
       "stream": "stdout",
       "text": [
        "\n",
        "#3.0: 2000"
       ]
      },
      {
       "output_type": "stream",
       "stream": "stdout",
       "text": [
        "\n",
        "#4.0: 2000"
       ]
      },
      {
       "output_type": "stream",
       "stream": "stdout",
       "text": [
        "\n",
        "#5.0: 2000"
       ]
      },
      {
       "output_type": "stream",
       "stream": "stdout",
       "text": [
        "\n"
       ]
      }
     ],
     "prompt_number": 6
    },
    {
     "cell_type": "code",
     "collapsed": false,
     "input": [
      "clf=grid_search_model(create_l1_LinearSVC,X,Y)"
     ],
     "language": "python",
     "metadata": {},
     "outputs": [
      {
       "output_type": "stream",
       "stream": "stdout",
       "text": [
        "Fitting 3 folds for each of 128 candidates, totalling 384 fits\n",
        "[GridSearchCV] vect__ngram_range=(1, 1), vect__smooth_idf=False, vect__sublinear_tf=False, vect__binary=False, vect__min_df=1, vect__stop_words=None, vect__use_idf=False \n",
        "[GridSearchCV]  vect__ngram_range=(1, 1), vect__smooth_idf=False, vect__sublinear_tf=False, vect__binary=False, vect__min_df=1, vect__stop_words=None, vect__use_idf=False, score=0.452092 -   1.7s"
       ]
      },
      {
       "output_type": "stream",
       "stream": "stderr",
       "text": [
        "/usr/local/lib/python2.7/site-packages/sklearn/grid_search.py:466: DeprecationWarning: Passing function as ``score_func`` is deprecated and will be removed in 0.15. Either use strings or score objects.The relevant new parameter is called ''scoring''.\n",
        "  self.loss_func, self.score_func, self.scoring)\n",
        "[Parallel(n_jobs=1)]: Done   1 jobs       | elapsed:    1.7s\n"
       ]
      },
      {
       "output_type": "stream",
       "stream": "stdout",
       "text": [
        "\n",
        "[GridSearchCV] vect__ngram_range=(1, 1), vect__smooth_idf=False, vect__sublinear_tf=False, vect__binary=False, vect__min_df=1, vect__stop_words=None, vect__use_idf=False \n",
        "[GridSearchCV]  vect__ngram_range=(1, 1), vect__smooth_idf=False, vect__sublinear_tf=False, vect__binary=False, vect__min_df=1, vect__stop_words=None, vect__use_idf=False, score=0.446916 -   1.4s"
       ]
      },
      {
       "output_type": "stream",
       "stream": "stdout",
       "text": [
        "\n",
        "[GridSearchCV] vect__ngram_range=(1, 1), vect__smooth_idf=False, vect__sublinear_tf=False, vect__binary=False, vect__min_df=1, vect__stop_words=None, vect__use_idf=False \n",
        "[GridSearchCV]  vect__ngram_range=(1, 1), vect__smooth_idf=False, vect__sublinear_tf=False, vect__binary=False, vect__min_df=1, vect__stop_words=None, vect__use_idf=False, score=0.440516 -   1.7s"
       ]
      },
      {
       "output_type": "stream",
       "stream": "stdout",
       "text": [
        "\n",
        "[GridSearchCV] vect__ngram_range=(1, 1), vect__smooth_idf=False, vect__sublinear_tf=False, vect__binary=False, vect__min_df=1, vect__stop_words=None, vect__use_idf=True \n",
        "[GridSearchCV]  vect__ngram_range=(1, 1), vect__smooth_idf=False, vect__sublinear_tf=False, vect__binary=False, vect__min_df=1, vect__stop_words=None, vect__use_idf=True, score=0.436975 -   1.4s"
       ]
      },
      {
       "output_type": "stream",
       "stream": "stdout",
       "text": [
        "\n",
        "[GridSearchCV] vect__ngram_range=(1, 1), vect__smooth_idf=False, vect__sublinear_tf=False, vect__binary=False, vect__min_df=1, vect__stop_words=None, vect__use_idf=True \n",
        "[GridSearchCV]  vect__ngram_range=(1, 1), vect__smooth_idf=False, vect__sublinear_tf=False, vect__binary=False, vect__min_df=1, vect__stop_words=None, vect__use_idf=True, score=0.468599 -   1.4s"
       ]
      },
      {
       "output_type": "stream",
       "stream": "stderr",
       "text": [
        "[Parallel(n_jobs=1)]: Done   2 jobs       | elapsed:    3.1s\n",
        "[Parallel(n_jobs=1)]: Done   5 jobs       | elapsed:    7.6s\n"
       ]
      },
      {
       "output_type": "stream",
       "stream": "stdout",
       "text": [
        "\n",
        "[GridSearchCV] vect__ngram_range=(1, 1), vect__smooth_idf=False, vect__sublinear_tf=False, vect__binary=False, vect__min_df=1, vect__stop_words=None, vect__use_idf=True \n",
        "[GridSearchCV]  vect__ngram_range=(1, 1), vect__smooth_idf=False, vect__sublinear_tf=False, vect__binary=False, vect__min_df=1, vect__stop_words=None, vect__use_idf=True, score=0.438062 -   1.3s"
       ]
      },
      {
       "output_type": "stream",
       "stream": "stdout",
       "text": [
        "\n",
        "[GridSearchCV] vect__ngram_range=(1, 1), vect__smooth_idf=False, vect__sublinear_tf=True, vect__binary=False, vect__min_df=1, vect__stop_words=None, vect__use_idf=False \n",
        "[GridSearchCV]  vect__ngram_range=(1, 1), vect__smooth_idf=False, vect__sublinear_tf=True, vect__binary=False, vect__min_df=1, vect__stop_words=None, vect__use_idf=False, score=0.437646 -   2.5s"
       ]
      },
      {
       "output_type": "stream",
       "stream": "stdout",
       "text": [
        "\n",
        "[GridSearchCV] vect__ngram_range=(1, 1), vect__smooth_idf=False, vect__sublinear_tf=True, vect__binary=False, vect__min_df=1, vect__stop_words=None, vect__use_idf=False \n",
        "[GridSearchCV]  vect__ngram_range=(1, 1), vect__smooth_idf=False, vect__sublinear_tf=True, vect__binary=False, vect__min_df=1, vect__stop_words=None, vect__use_idf=False, score=0.458677 -   2.0s"
       ]
      },
      {
       "output_type": "stream",
       "stream": "stdout",
       "text": [
        "\n",
        "[GridSearchCV] vect__ngram_range=(1, 1), vect__smooth_idf=False, vect__sublinear_tf=True, vect__binary=False, vect__min_df=1, vect__stop_words=None, vect__use_idf=False \n",
        "[GridSearchCV]  vect__ngram_range=(1, 1), vect__smooth_idf=False, vect__sublinear_tf=True, vect__binary=False, vect__min_df=1, vect__stop_words=None, vect__use_idf=False, score=0.437276 -   1.8s"
       ]
      },
      {
       "output_type": "stream",
       "stream": "stdout",
       "text": [
        "\n",
        "[GridSearchCV] vect__ngram_range=(1, 1), vect__smooth_idf=False, vect__sublinear_tf=True, vect__binary=False, vect__min_df=1, vect__stop_words=None, vect__use_idf=True \n",
        "[GridSearchCV]  vect__ngram_range=(1, 1), vect__smooth_idf=False, vect__sublinear_tf=True, vect__binary=False, vect__min_df=1, vect__stop_words=None, vect__use_idf=True, score=0.441999 -   1.5s"
       ]
      },
      {
       "output_type": "stream",
       "stream": "stdout",
       "text": [
        "\n",
        "[GridSearchCV] vect__ngram_range=(1, 1), vect__smooth_idf=False, vect__sublinear_tf=True, vect__binary=False, vect__min_df=1, vect__stop_words=None, vect__use_idf=True \n",
        "[GridSearchCV]  vect__ngram_range=(1, 1), vect__smooth_idf=False, vect__sublinear_tf=True, vect__binary=False, vect__min_df=1, vect__stop_words=None, vect__use_idf=True, score=0.461876 -   1.5s"
       ]
      },
      {
       "output_type": "stream",
       "stream": "stdout",
       "text": [
        "\n",
        "[GridSearchCV] vect__ngram_range=(1, 1), vect__smooth_idf=False, vect__sublinear_tf=True, vect__binary=False, vect__min_df=1, vect__stop_words=None, vect__use_idf=True \n",
        "[GridSearchCV]  vect__ngram_range=(1, 1), vect__smooth_idf=False, vect__sublinear_tf=True, vect__binary=False, vect__min_df=1, vect__stop_words=None, vect__use_idf=True, score=0.433098 -   1.4s"
       ]
      },
      {
       "output_type": "stream",
       "stream": "stdout",
       "text": [
        "\n",
        "[GridSearchCV] vect__ngram_range=(1, 1), vect__smooth_idf=False, vect__sublinear_tf=False, vect__binary=False, vect__min_df=1, vect__stop_words=english, vect__use_idf=False \n",
        "[GridSearchCV]  vect__ngram_range=(1, 1), vect__smooth_idf=False, vect__sublinear_tf=False, vect__binary=False, vect__min_df=1, vect__stop_words=english, vect__use_idf=False, score=0.437283 -   0.8s"
       ]
      },
      {
       "output_type": "stream",
       "stream": "stderr",
       "text": [
        "[Parallel(n_jobs=1)]: Done   8 jobs       | elapsed:   13.4s\n",
        "[Parallel(n_jobs=1)]: Done  13 jobs       | elapsed:   20.5s\n"
       ]
      },
      {
       "output_type": "stream",
       "stream": "stdout",
       "text": [
        "\n",
        "[GridSearchCV] vect__ngram_range=(1, 1), vect__smooth_idf=False, vect__sublinear_tf=False, vect__binary=False, vect__min_df=1, vect__stop_words=english, vect__use_idf=False \n",
        "[GridSearchCV]  vect__ngram_range=(1, 1), vect__smooth_idf=False, vect__sublinear_tf=False, vect__binary=False, vect__min_df=1, vect__stop_words=english, vect__use_idf=False, score=0.436680 -   0.9s"
       ]
      },
      {
       "output_type": "stream",
       "stream": "stdout",
       "text": [
        "\n",
        "[GridSearchCV] vect__ngram_range=(1, 1), vect__smooth_idf=False, vect__sublinear_tf=False, vect__binary=False, vect__min_df=1, vect__stop_words=english, vect__use_idf=False \n",
        "[GridSearchCV]  vect__ngram_range=(1, 1), vect__smooth_idf=False, vect__sublinear_tf=False, vect__binary=False, vect__min_df=1, vect__stop_words=english, vect__use_idf=False, score=0.411505 -   0.9s"
       ]
      },
      {
       "output_type": "stream",
       "stream": "stdout",
       "text": [
        "\n",
        "[GridSearchCV] vect__ngram_range=(1, 1), vect__smooth_idf=False, vect__sublinear_tf=False, vect__binary=False, vect__min_df=1, vect__stop_words=english, vect__use_idf=True \n",
        "[GridSearchCV]  vect__ngram_range=(1, 1), vect__smooth_idf=False, vect__sublinear_tf=False, vect__binary=False, vect__min_df=1, vect__stop_words=english, vect__use_idf=True, score=0.434445 -   0.8s"
       ]
      },
      {
       "output_type": "stream",
       "stream": "stdout",
       "text": [
        "\n",
        "[GridSearchCV] vect__ngram_range=(1, 1), vect__smooth_idf=False, vect__sublinear_tf=False, vect__binary=False, vect__min_df=1, vect__stop_words=english, vect__use_idf=True \n",
        "[GridSearchCV]  vect__ngram_range=(1, 1), vect__smooth_idf=False, vect__sublinear_tf=False, vect__binary=False, vect__min_df=1, vect__stop_words=english, vect__use_idf=True, score=0.439074 -   0.8s"
       ]
      },
      {
       "output_type": "stream",
       "stream": "stdout",
       "text": [
        "\n",
        "[GridSearchCV] vect__ngram_range=(1, 1), vect__smooth_idf=False, vect__sublinear_tf=False, vect__binary=False, vect__min_df=1, vect__stop_words=english, vect__use_idf=True \n",
        "[GridSearchCV]  vect__ngram_range=(1, 1), vect__smooth_idf=False, vect__sublinear_tf=False, vect__binary=False, vect__min_df=1, vect__stop_words=english, vect__use_idf=True, score=0.406152 -   0.7s"
       ]
      },
      {
       "output_type": "stream",
       "stream": "stdout",
       "text": [
        "\n",
        "[GridSearchCV] vect__ngram_range=(1, 1), vect__smooth_idf=False, vect__sublinear_tf=True, vect__binary=False, vect__min_df=1, vect__stop_words=english, vect__use_idf=False \n",
        "[GridSearchCV]  vect__ngram_range=(1, 1), vect__smooth_idf=False, vect__sublinear_tf=True, vect__binary=False, vect__min_df=1, vect__stop_words=english, vect__use_idf=False, score=0.432992 -   0.8s"
       ]
      },
      {
       "output_type": "stream",
       "stream": "stdout",
       "text": [
        "\n",
        "[GridSearchCV] vect__ngram_range=(1, 1), vect__smooth_idf=False, vect__sublinear_tf=True, vect__binary=False, vect__min_df=1, vect__stop_words=english, vect__use_idf=False \n",
        "[GridSearchCV]  vect__ngram_range=(1, 1), vect__smooth_idf=False, vect__sublinear_tf=True, vect__binary=False, vect__min_df=1, vect__stop_words=english, vect__use_idf=False, score=0.425575 -   0.8s"
       ]
      },
      {
       "output_type": "stream",
       "stream": "stdout",
       "text": [
        "\n",
        "[GridSearchCV] vect__ngram_range=(1, 1), vect__smooth_idf=False, vect__sublinear_tf=True, vect__binary=False, vect__min_df=1, vect__stop_words=english, vect__use_idf=False \n",
        "[GridSearchCV]  vect__ngram_range=(1, 1), vect__smooth_idf=False, vect__sublinear_tf=True, vect__binary=False, vect__min_df=1, vect__stop_words=english, vect__use_idf=False, score=0.408617 -   0.8s"
       ]
      },
      {
       "output_type": "stream",
       "stream": "stdout",
       "text": [
        "\n",
        "[GridSearchCV] vect__ngram_range=(1, 1), vect__smooth_idf=False, vect__sublinear_tf=True, vect__binary=False, vect__min_df=1, vect__stop_words=english, vect__use_idf=True \n",
        "[GridSearchCV]  vect__ngram_range=(1, 1), vect__smooth_idf=False, vect__sublinear_tf=True, vect__binary=False, vect__min_df=1, vect__stop_words=english, vect__use_idf=True, score=0.433237 -   0.7s"
       ]
      },
      {
       "output_type": "stream",
       "stream": "stdout",
       "text": [
        "\n",
        "[GridSearchCV] vect__ngram_range=(1, 1), vect__smooth_idf=False, vect__sublinear_tf=True, vect__binary=False, vect__min_df=1, vect__stop_words=english, vect__use_idf=True \n",
        "[GridSearchCV]  vect__ngram_range=(1, 1), vect__smooth_idf=False, vect__sublinear_tf=True, vect__binary=False, vect__min_df=1, vect__stop_words=english, vect__use_idf=True, score=0.438898 -   0.7s"
       ]
      },
      {
       "output_type": "stream",
       "stream": "stdout",
       "text": [
        "\n",
        "[GridSearchCV] vect__ngram_range=(1, 1), vect__smooth_idf=False, vect__sublinear_tf=True, vect__binary=False, vect__min_df=1, vect__stop_words=english, vect__use_idf=True \n",
        "[GridSearchCV]  vect__ngram_range=(1, 1), vect__smooth_idf=False, vect__sublinear_tf=True, vect__binary=False, vect__min_df=1, vect__stop_words=english, vect__use_idf=True, score=0.401013 -   0.7s"
       ]
      },
      {
       "output_type": "stream",
       "stream": "stdout",
       "text": [
        "\n",
        "[GridSearchCV] vect__ngram_range=(1, 1), vect__smooth_idf=True, vect__sublinear_tf=False, vect__binary=False, vect__min_df=1, vect__stop_words=None, vect__use_idf=False \n",
        "[GridSearchCV]  vect__ngram_range=(1, 1), vect__smooth_idf=True, vect__sublinear_tf=False, vect__binary=False, vect__min_df=1, vect__stop_words=None, vect__use_idf=False, score=0.452092 -   1.7s"
       ]
      },
      {
       "output_type": "stream",
       "stream": "stderr",
       "text": [
        "[Parallel(n_jobs=1)]: Done  18 jobs       | elapsed:   24.6s\n",
        "[Parallel(n_jobs=1)]: Done  25 jobs       | elapsed:   31.0s\n"
       ]
      },
      {
       "output_type": "stream",
       "stream": "stdout",
       "text": [
        "\n",
        "[GridSearchCV] vect__ngram_range=(1, 1), vect__smooth_idf=True, vect__sublinear_tf=False, vect__binary=False, vect__min_df=1, vect__stop_words=None, vect__use_idf=False \n",
        "[GridSearchCV]  vect__ngram_range=(1, 1), vect__smooth_idf=True, vect__sublinear_tf=False, vect__binary=False, vect__min_df=1, vect__stop_words=None, vect__use_idf=False, score=0.446916 -   1.6s"
       ]
      },
      {
       "output_type": "stream",
       "stream": "stdout",
       "text": [
        "\n",
        "[GridSearchCV] vect__ngram_range=(1, 1), vect__smooth_idf=True, vect__sublinear_tf=False, vect__binary=False, vect__min_df=1, vect__stop_words=None, vect__use_idf=False \n",
        "[GridSearchCV]  vect__ngram_range=(1, 1), vect__smooth_idf=True, vect__sublinear_tf=False, vect__binary=False, vect__min_df=1, vect__stop_words=None, vect__use_idf=False, score=0.440516 -   1.7s"
       ]
      },
      {
       "output_type": "stream",
       "stream": "stdout",
       "text": [
        "\n",
        "[GridSearchCV] vect__ngram_range=(1, 1), vect__smooth_idf=True, vect__sublinear_tf=False, vect__binary=False, vect__min_df=1, vect__stop_words=None, vect__use_idf=True \n",
        "[GridSearchCV]  vect__ngram_range=(1, 1), vect__smooth_idf=True, vect__sublinear_tf=False, vect__binary=False, vect__min_df=1, vect__stop_words=None, vect__use_idf=True, score=0.437043 -   1.3s"
       ]
      },
      {
       "output_type": "stream",
       "stream": "stdout",
       "text": [
        "\n",
        "[GridSearchCV] vect__ngram_range=(1, 1), vect__smooth_idf=True, vect__sublinear_tf=False, vect__binary=False, vect__min_df=1, vect__stop_words=None, vect__use_idf=True \n",
        "[GridSearchCV]  vect__ngram_range=(1, 1), vect__smooth_idf=True, vect__sublinear_tf=False, vect__binary=False, vect__min_df=1, vect__stop_words=None, vect__use_idf=True, score=0.465247 -   1.3s"
       ]
      },
      {
       "output_type": "stream",
       "stream": "stdout",
       "text": [
        "\n",
        "[GridSearchCV] vect__ngram_range=(1, 1), vect__smooth_idf=True, vect__sublinear_tf=False, vect__binary=False, vect__min_df=1, vect__stop_words=None, vect__use_idf=True \n",
        "[GridSearchCV]  vect__ngram_range=(1, 1), vect__smooth_idf=True, vect__sublinear_tf=False, vect__binary=False, vect__min_df=1, vect__stop_words=None, vect__use_idf=True, score=0.439562 -   1.3s"
       ]
      },
      {
       "output_type": "stream",
       "stream": "stdout",
       "text": [
        "\n",
        "[GridSearchCV] vect__ngram_range=(1, 1), vect__smooth_idf=True, vect__sublinear_tf=True, vect__binary=False, vect__min_df=1, vect__stop_words=None, vect__use_idf=False \n",
        "[GridSearchCV]  vect__ngram_range=(1, 1), vect__smooth_idf=True, vect__sublinear_tf=True, vect__binary=False, vect__min_df=1, vect__stop_words=None, vect__use_idf=False, score=0.437646 -   1.8s"
       ]
      },
      {
       "output_type": "stream",
       "stream": "stdout",
       "text": [
        "\n",
        "[GridSearchCV] vect__ngram_range=(1, 1), vect__smooth_idf=True, vect__sublinear_tf=True, vect__binary=False, vect__min_df=1, vect__stop_words=None, vect__use_idf=False \n",
        "[GridSearchCV]  vect__ngram_range=(1, 1), vect__smooth_idf=True, vect__sublinear_tf=True, vect__binary=False, vect__min_df=1, vect__stop_words=None, vect__use_idf=False, score=0.458677 -   1.7s"
       ]
      },
      {
       "output_type": "stream",
       "stream": "stdout",
       "text": [
        "\n",
        "[GridSearchCV] vect__ngram_range=(1, 1), vect__smooth_idf=True, vect__sublinear_tf=True, vect__binary=False, vect__min_df=1, vect__stop_words=None, vect__use_idf=False \n",
        "[GridSearchCV]  vect__ngram_range=(1, 1), vect__smooth_idf=True, vect__sublinear_tf=True, vect__binary=False, vect__min_df=1, vect__stop_words=None, vect__use_idf=False, score=0.437276 -   1.8s"
       ]
      },
      {
       "output_type": "stream",
       "stream": "stdout",
       "text": [
        "\n",
        "[GridSearchCV] vect__ngram_range=(1, 1), vect__smooth_idf=True, vect__sublinear_tf=True, vect__binary=False, vect__min_df=1, vect__stop_words=None, vect__use_idf=True \n",
        "[GridSearchCV]  vect__ngram_range=(1, 1), vect__smooth_idf=True, vect__sublinear_tf=True, vect__binary=False, vect__min_df=1, vect__stop_words=None, vect__use_idf=True, score=0.441170 -   1.5s"
       ]
      },
      {
       "output_type": "stream",
       "stream": "stdout",
       "text": [
        "\n",
        "[GridSearchCV] vect__ngram_range=(1, 1), vect__smooth_idf=True, vect__sublinear_tf=True, vect__binary=False, vect__min_df=1, vect__stop_words=None, vect__use_idf=True \n",
        "[GridSearchCV]  vect__ngram_range=(1, 1), vect__smooth_idf=True, vect__sublinear_tf=True, vect__binary=False, vect__min_df=1, vect__stop_words=None, vect__use_idf=True, score=0.461322 -   1.5s"
       ]
      },
      {
       "output_type": "stream",
       "stream": "stdout",
       "text": [
        "\n",
        "[GridSearchCV] vect__ngram_range=(1, 1), vect__smooth_idf=True, vect__sublinear_tf=True, vect__binary=False, vect__min_df=1, vect__stop_words=None, vect__use_idf=True \n",
        "[GridSearchCV]  vect__ngram_range=(1, 1), vect__smooth_idf=True, vect__sublinear_tf=True, vect__binary=False, vect__min_df=1, vect__stop_words=None, vect__use_idf=True, score=0.434768 -   1.5s"
       ]
      },
      {
       "output_type": "stream",
       "stream": "stdout",
       "text": [
        "\n",
        "[GridSearchCV] vect__ngram_range=(1, 1), vect__smooth_idf=True, vect__sublinear_tf=False, vect__binary=False, vect__min_df=1, vect__stop_words=english, vect__use_idf=False \n",
        "[GridSearchCV]  vect__ngram_range=(1, 1), vect__smooth_idf=True, vect__sublinear_tf=False, vect__binary=False, vect__min_df=1, vect__stop_words=english, vect__use_idf=False, score=0.437283 -   0.8s"
       ]
      },
      {
       "output_type": "stream",
       "stream": "stdout",
       "text": [
        "\n",
        "[GridSearchCV] vect__ngram_range=(1, 1), vect__smooth_idf=True, vect__sublinear_tf=False, vect__binary=False, vect__min_df=1, vect__stop_words=english, vect__use_idf=False \n",
        "[GridSearchCV]  vect__ngram_range=(1, 1), vect__smooth_idf=True, vect__sublinear_tf=False, vect__binary=False, vect__min_df=1, vect__stop_words=english, vect__use_idf=False, score=0.436680 -   0.8s"
       ]
      },
      {
       "output_type": "stream",
       "stream": "stdout",
       "text": [
        "\n",
        "[GridSearchCV] vect__ngram_range=(1, 1), vect__smooth_idf=True, vect__sublinear_tf=False, vect__binary=False, vect__min_df=1, vect__stop_words=english, vect__use_idf=False \n",
        "[GridSearchCV]  vect__ngram_range=(1, 1), vect__smooth_idf=True, vect__sublinear_tf=False, vect__binary=False, vect__min_df=1, vect__stop_words=english, vect__use_idf=False, score=0.411505 -   0.8s"
       ]
      },
      {
       "output_type": "stream",
       "stream": "stdout",
       "text": [
        "\n",
        "[GridSearchCV] vect__ngram_range=(1, 1), vect__smooth_idf=True, vect__sublinear_tf=False, vect__binary=False, vect__min_df=1, vect__stop_words=english, vect__use_idf=True \n",
        "[GridSearchCV]  vect__ngram_range=(1, 1), vect__smooth_idf=True, vect__sublinear_tf=False, vect__binary=False, vect__min_df=1, vect__stop_words=english, vect__use_idf=True, score=0.435815 -   0.8s"
       ]
      },
      {
       "output_type": "stream",
       "stream": "stdout",
       "text": [
        "\n",
        "[GridSearchCV] vect__ngram_range=(1, 1), vect__smooth_idf=True, vect__sublinear_tf=False, vect__binary=False, vect__min_df=1, vect__stop_words=english, vect__use_idf=True \n",
        "[GridSearchCV]  vect__ngram_range=(1, 1), vect__smooth_idf=True, vect__sublinear_tf=False, vect__binary=False, vect__min_df=1, vect__stop_words=english, vect__use_idf=True, score=0.440775 -   0.7s"
       ]
      },
      {
       "output_type": "stream",
       "stream": "stderr",
       "text": [
        "[Parallel(n_jobs=1)]: Done  32 jobs       | elapsed:   41.7s\n",
        "[Parallel(n_jobs=1)]: Done  41 jobs       | elapsed:   52.0s\n"
       ]
      },
      {
       "output_type": "stream",
       "stream": "stdout",
       "text": [
        "\n",
        "[GridSearchCV] vect__ngram_range=(1, 1), vect__smooth_idf=True, vect__sublinear_tf=False, vect__binary=False, vect__min_df=1, vect__stop_words=english, vect__use_idf=True \n",
        "[GridSearchCV]  vect__ngram_range=(1, 1), vect__smooth_idf=True, vect__sublinear_tf=False, vect__binary=False, vect__min_df=1, vect__stop_words=english, vect__use_idf=True, score=0.407222 -   0.8s"
       ]
      },
      {
       "output_type": "stream",
       "stream": "stdout",
       "text": [
        "\n",
        "[GridSearchCV] vect__ngram_range=(1, 1), vect__smooth_idf=True, vect__sublinear_tf=True, vect__binary=False, vect__min_df=1, vect__stop_words=english, vect__use_idf=False \n",
        "[GridSearchCV]  vect__ngram_range=(1, 1), vect__smooth_idf=True, vect__sublinear_tf=True, vect__binary=False, vect__min_df=1, vect__stop_words=english, vect__use_idf=False, score=0.432992 -   0.8s"
       ]
      },
      {
       "output_type": "stream",
       "stream": "stdout",
       "text": [
        "\n",
        "[GridSearchCV] vect__ngram_range=(1, 1), vect__smooth_idf=True, vect__sublinear_tf=True, vect__binary=False, vect__min_df=1, vect__stop_words=english, vect__use_idf=False \n",
        "[GridSearchCV]  vect__ngram_range=(1, 1), vect__smooth_idf=True, vect__sublinear_tf=True, vect__binary=False, vect__min_df=1, vect__stop_words=english, vect__use_idf=False, score=0.425575 -   0.8s"
       ]
      },
      {
       "output_type": "stream",
       "stream": "stdout",
       "text": [
        "\n",
        "[GridSearchCV] vect__ngram_range=(1, 1), vect__smooth_idf=True, vect__sublinear_tf=True, vect__binary=False, vect__min_df=1, vect__stop_words=english, vect__use_idf=False \n",
        "[GridSearchCV]  vect__ngram_range=(1, 1), vect__smooth_idf=True, vect__sublinear_tf=True, vect__binary=False, vect__min_df=1, vect__stop_words=english, vect__use_idf=False, score=0.408617 -   0.8s"
       ]
      },
      {
       "output_type": "stream",
       "stream": "stdout",
       "text": [
        "\n",
        "[GridSearchCV] vect__ngram_range=(1, 1), vect__smooth_idf=True, vect__sublinear_tf=True, vect__binary=False, vect__min_df=1, vect__stop_words=english, vect__use_idf=True \n",
        "[GridSearchCV]  vect__ngram_range=(1, 1), vect__smooth_idf=True, vect__sublinear_tf=True, vect__binary=False, vect__min_df=1, vect__stop_words=english, vect__use_idf=True, score=0.429279 -   0.8s"
       ]
      },
      {
       "output_type": "stream",
       "stream": "stdout",
       "text": [
        "\n",
        "[GridSearchCV] vect__ngram_range=(1, 1), vect__smooth_idf=True, vect__sublinear_tf=True, vect__binary=False, vect__min_df=1, vect__stop_words=english, vect__use_idf=True \n",
        "[GridSearchCV]  vect__ngram_range=(1, 1), vect__smooth_idf=True, vect__sublinear_tf=True, vect__binary=False, vect__min_df=1, vect__stop_words=english, vect__use_idf=True, score=0.436653 -   0.8s"
       ]
      },
      {
       "output_type": "stream",
       "stream": "stdout",
       "text": [
        "\n",
        "[GridSearchCV] vect__ngram_range=(1, 1), vect__smooth_idf=True, vect__sublinear_tf=True, vect__binary=False, vect__min_df=1, vect__stop_words=english, vect__use_idf=True \n",
        "[GridSearchCV]  vect__ngram_range=(1, 1), vect__smooth_idf=True, vect__sublinear_tf=True, vect__binary=False, vect__min_df=1, vect__stop_words=english, vect__use_idf=True, score=0.398936 -   0.7s"
       ]
      },
      {
       "output_type": "stream",
       "stream": "stdout",
       "text": [
        "\n",
        "[GridSearchCV] vect__ngram_range=(1, 2), vect__smooth_idf=False, vect__sublinear_tf=False, vect__binary=False, vect__min_df=1, vect__stop_words=None, vect__use_idf=False \n",
        "[GridSearchCV]  vect__ngram_range=(1, 2), vect__smooth_idf=False, vect__sublinear_tf=False, vect__binary=False, vect__min_df=1, vect__stop_words=None, vect__use_idf=False, score=0.439842 -   2.9s"
       ]
      },
      {
       "output_type": "stream",
       "stream": "stdout",
       "text": [
        "\n",
        "[GridSearchCV] vect__ngram_range=(1, 2), vect__smooth_idf=False, vect__sublinear_tf=False, vect__binary=False, vect__min_df=1, vect__stop_words=None, vect__use_idf=False \n",
        "[GridSearchCV]  vect__ngram_range=(1, 2), vect__smooth_idf=False, vect__sublinear_tf=False, vect__binary=False, vect__min_df=1, vect__stop_words=None, vect__use_idf=False, score=0.468450 -   3.1s"
       ]
      },
      {
       "output_type": "stream",
       "stream": "stdout",
       "text": [
        "\n",
        "[GridSearchCV] vect__ngram_range=(1, 2), vect__smooth_idf=False, vect__sublinear_tf=False, vect__binary=False, vect__min_df=1, vect__stop_words=None, vect__use_idf=False \n",
        "[GridSearchCV]  vect__ngram_range=(1, 2), vect__smooth_idf=False, vect__sublinear_tf=False, vect__binary=False, vect__min_df=1, vect__stop_words=None, vect__use_idf=False, score=0.454293 -   3.0s"
       ]
      },
      {
       "output_type": "stream",
       "stream": "stdout",
       "text": [
        "\n",
        "[GridSearchCV] vect__ngram_range=(1, 2), vect__smooth_idf=False, vect__sublinear_tf=False, vect__binary=False, vect__min_df=1, vect__stop_words=None, vect__use_idf=True \n",
        "[GridSearchCV]  vect__ngram_range=(1, 2), vect__smooth_idf=False, vect__sublinear_tf=False, vect__binary=False, vect__min_df=1, vect__stop_words=None, vect__use_idf=True, score=0.460553 -   2.5s"
       ]
      },
      {
       "output_type": "stream",
       "stream": "stdout",
       "text": [
        "\n",
        "[GridSearchCV] vect__ngram_range=(1, 2), vect__smooth_idf=False, vect__sublinear_tf=False, vect__binary=False, vect__min_df=1, vect__stop_words=None, vect__use_idf=True \n",
        "[GridSearchCV]  vect__ngram_range=(1, 2), vect__smooth_idf=False, vect__sublinear_tf=False, vect__binary=False, vect__min_df=1, vect__stop_words=None, vect__use_idf=True, score=0.465055 -   2.6s"
       ]
      },
      {
       "output_type": "stream",
       "stream": "stdout",
       "text": [
        "\n",
        "[GridSearchCV] vect__ngram_range=(1, 2), vect__smooth_idf=False, vect__sublinear_tf=False, vect__binary=False, vect__min_df=1, vect__stop_words=None, vect__use_idf=True \n",
        "[GridSearchCV]  vect__ngram_range=(1, 2), vect__smooth_idf=False, vect__sublinear_tf=False, vect__binary=False, vect__min_df=1, vect__stop_words=None, vect__use_idf=True, score=0.453887 -   3.0s"
       ]
      },
      {
       "output_type": "stream",
       "stream": "stdout",
       "text": [
        "\n",
        "[GridSearchCV] vect__ngram_range=(1, 2), vect__smooth_idf=False, vect__sublinear_tf=True, vect__binary=False, vect__min_df=1, vect__stop_words=None, vect__use_idf=False \n",
        "[GridSearchCV]  vect__ngram_range=(1, 2), vect__smooth_idf=False, vect__sublinear_tf=True, vect__binary=False, vect__min_df=1, vect__stop_words=None, vect__use_idf=False, score=0.449316 -   4.0s"
       ]
      },
      {
       "output_type": "stream",
       "stream": "stdout",
       "text": [
        "\n",
        "[GridSearchCV] vect__ngram_range=(1, 2), vect__smooth_idf=False, vect__sublinear_tf=True, vect__binary=False, vect__min_df=1, vect__stop_words=None, vect__use_idf=False \n",
        "[GridSearchCV]  vect__ngram_range=(1, 2), vect__smooth_idf=False, vect__sublinear_tf=True, vect__binary=False, vect__min_df=1, vect__stop_words=None, vect__use_idf=False, score=0.462464 -   3.4s"
       ]
      },
      {
       "output_type": "stream",
       "stream": "stdout",
       "text": [
        "\n",
        "[GridSearchCV] vect__ngram_range=(1, 2), vect__smooth_idf=False, vect__sublinear_tf=True, vect__binary=False, vect__min_df=1, vect__stop_words=None, vect__use_idf=False \n",
        "[GridSearchCV]  vect__ngram_range=(1, 2), vect__smooth_idf=False, vect__sublinear_tf=True, vect__binary=False, vect__min_df=1, vect__stop_words=None, vect__use_idf=False, score=0.462074 -   3.4s"
       ]
      },
      {
       "output_type": "stream",
       "stream": "stdout",
       "text": [
        "\n",
        "[GridSearchCV] vect__ngram_range=(1, 2), vect__smooth_idf=False, vect__sublinear_tf=True, vect__binary=False, vect__min_df=1, vect__stop_words=None, vect__use_idf=True \n",
        "[GridSearchCV]  vect__ngram_range=(1, 2), vect__smooth_idf=False, vect__sublinear_tf=True, vect__binary=False, vect__min_df=1, vect__stop_words=None, vect__use_idf=True, score=0.472498 -   2.6s"
       ]
      },
      {
       "output_type": "stream",
       "stream": "stdout",
       "text": [
        "\n",
        "[GridSearchCV] vect__ngram_range=(1, 2), vect__smooth_idf=False, vect__sublinear_tf=True, vect__binary=False, vect__min_df=1, vect__stop_words=None, vect__use_idf=True \n",
        "[GridSearchCV]  vect__ngram_range=(1, 2), vect__smooth_idf=False, vect__sublinear_tf=True, vect__binary=False, vect__min_df=1, vect__stop_words=None, vect__use_idf=True, score=0.477013 -   2.7s"
       ]
      },
      {
       "output_type": "stream",
       "stream": "stdout",
       "text": [
        "\n",
        "[GridSearchCV] vect__ngram_range=(1, 2), vect__smooth_idf=False, vect__sublinear_tf=True, vect__binary=False, vect__min_df=1, vect__stop_words=None, vect__use_idf=True \n",
        "[GridSearchCV]  vect__ngram_range=(1, 2), vect__smooth_idf=False, vect__sublinear_tf=True, vect__binary=False, vect__min_df=1, vect__stop_words=None, vect__use_idf=True, score=0.463507 -   2.7s"
       ]
      },
      {
       "output_type": "stream",
       "stream": "stdout",
       "text": [
        "\n",
        "[GridSearchCV] vect__ngram_range=(1, 2), vect__smooth_idf=False, vect__sublinear_tf=False, vect__binary=False, vect__min_df=1, vect__stop_words=english, vect__use_idf=False \n",
        "[GridSearchCV]  vect__ngram_range=(1, 2), vect__smooth_idf=False, vect__sublinear_tf=False, vect__binary=False, vect__min_df=1, vect__stop_words=english, vect__use_idf=False, score=0.450074 -   1.7s"
       ]
      },
      {
       "output_type": "stream",
       "stream": "stderr",
       "text": [
        "[Parallel(n_jobs=1)]: Done  50 jobs       | elapsed:  1.1min\n",
        "[Parallel(n_jobs=1)]: Done  61 jobs       | elapsed:  1.6min\n"
       ]
      },
      {
       "output_type": "stream",
       "stream": "stdout",
       "text": [
        "\n",
        "[GridSearchCV] vect__ngram_range=(1, 2), vect__smooth_idf=False, vect__sublinear_tf=False, vect__binary=False, vect__min_df=1, vect__stop_words=english, vect__use_idf=False \n",
        "[GridSearchCV]  vect__ngram_range=(1, 2), vect__smooth_idf=False, vect__sublinear_tf=False, vect__binary=False, vect__min_df=1, vect__stop_words=english, vect__use_idf=False, score=0.442894 -   1.8s"
       ]
      },
      {
       "output_type": "stream",
       "stream": "stdout",
       "text": [
        "\n",
        "[GridSearchCV] vect__ngram_range=(1, 2), vect__smooth_idf=False, vect__sublinear_tf=False, vect__binary=False, vect__min_df=1, vect__stop_words=english, vect__use_idf=False \n",
        "[GridSearchCV]  vect__ngram_range=(1, 2), vect__smooth_idf=False, vect__sublinear_tf=False, vect__binary=False, vect__min_df=1, vect__stop_words=english, vect__use_idf=False, score=0.433389 -   1.8s"
       ]
      },
      {
       "output_type": "stream",
       "stream": "stdout",
       "text": [
        "\n",
        "[GridSearchCV] vect__ngram_range=(1, 2), vect__smooth_idf=False, vect__sublinear_tf=False, vect__binary=False, vect__min_df=1, vect__stop_words=english, vect__use_idf=True \n",
        "[GridSearchCV]  vect__ngram_range=(1, 2), vect__smooth_idf=False, vect__sublinear_tf=False, vect__binary=False, vect__min_df=1, vect__stop_words=english, vect__use_idf=True, score=0.452050 -   1.7s"
       ]
      },
      {
       "output_type": "stream",
       "stream": "stdout",
       "text": [
        "\n",
        "[GridSearchCV] vect__ngram_range=(1, 2), vect__smooth_idf=False, vect__sublinear_tf=False, vect__binary=False, vect__min_df=1, vect__stop_words=english, vect__use_idf=True \n",
        "[GridSearchCV]  vect__ngram_range=(1, 2), vect__smooth_idf=False, vect__sublinear_tf=False, vect__binary=False, vect__min_df=1, vect__stop_words=english, vect__use_idf=True, score=0.450720 -   1.7s"
       ]
      },
      {
       "output_type": "stream",
       "stream": "stdout",
       "text": [
        "\n",
        "[GridSearchCV] vect__ngram_range=(1, 2), vect__smooth_idf=False, vect__sublinear_tf=False, vect__binary=False, vect__min_df=1, vect__stop_words=english, vect__use_idf=True \n",
        "[GridSearchCV]  vect__ngram_range=(1, 2), vect__smooth_idf=False, vect__sublinear_tf=False, vect__binary=False, vect__min_df=1, vect__stop_words=english, vect__use_idf=True, score=0.429977 -   1.8s"
       ]
      },
      {
       "output_type": "stream",
       "stream": "stdout",
       "text": [
        "\n",
        "[GridSearchCV] vect__ngram_range=(1, 2), vect__smooth_idf=False, vect__sublinear_tf=True, vect__binary=False, vect__min_df=1, vect__stop_words=english, vect__use_idf=False \n",
        "[GridSearchCV]  vect__ngram_range=(1, 2), vect__smooth_idf=False, vect__sublinear_tf=True, vect__binary=False, vect__min_df=1, vect__stop_words=english, vect__use_idf=False, score=0.452255 -   1.8s"
       ]
      },
      {
       "output_type": "stream",
       "stream": "stdout",
       "text": [
        "\n",
        "[GridSearchCV] vect__ngram_range=(1, 2), vect__smooth_idf=False, vect__sublinear_tf=True, vect__binary=False, vect__min_df=1, vect__stop_words=english, vect__use_idf=False \n",
        "[GridSearchCV]  vect__ngram_range=(1, 2), vect__smooth_idf=False, vect__sublinear_tf=True, vect__binary=False, vect__min_df=1, vect__stop_words=english, vect__use_idf=False, score=0.449105 -   1.8s"
       ]
      },
      {
       "output_type": "stream",
       "stream": "stdout",
       "text": [
        "\n",
        "[GridSearchCV] vect__ngram_range=(1, 2), vect__smooth_idf=False, vect__sublinear_tf=True, vect__binary=False, vect__min_df=1, vect__stop_words=english, vect__use_idf=False \n",
        "[GridSearchCV]  vect__ngram_range=(1, 2), vect__smooth_idf=False, vect__sublinear_tf=True, vect__binary=False, vect__min_df=1, vect__stop_words=english, vect__use_idf=False, score=0.431299 -   1.8s"
       ]
      },
      {
       "output_type": "stream",
       "stream": "stdout",
       "text": [
        "\n",
        "[GridSearchCV] vect__ngram_range=(1, 2), vect__smooth_idf=False, vect__sublinear_tf=True, vect__binary=False, vect__min_df=1, vect__stop_words=english, vect__use_idf=True \n",
        "[GridSearchCV]  vect__ngram_range=(1, 2), vect__smooth_idf=False, vect__sublinear_tf=True, vect__binary=False, vect__min_df=1, vect__stop_words=english, vect__use_idf=True, score=0.443514 -   1.7s"
       ]
      },
      {
       "output_type": "stream",
       "stream": "stdout",
       "text": [
        "\n",
        "[GridSearchCV] vect__ngram_range=(1, 2), vect__smooth_idf=False, vect__sublinear_tf=True, vect__binary=False, vect__min_df=1, vect__stop_words=english, vect__use_idf=True \n",
        "[GridSearchCV]  vect__ngram_range=(1, 2), vect__smooth_idf=False, vect__sublinear_tf=True, vect__binary=False, vect__min_df=1, vect__stop_words=english, vect__use_idf=True, score=0.448209 -   1.6s"
       ]
      },
      {
       "output_type": "stream",
       "stream": "stdout",
       "text": [
        "\n",
        "[GridSearchCV] vect__ngram_range=(1, 2), vect__smooth_idf=False, vect__sublinear_tf=True, vect__binary=False, vect__min_df=1, vect__stop_words=english, vect__use_idf=True \n",
        "[GridSearchCV]  vect__ngram_range=(1, 2), vect__smooth_idf=False, vect__sublinear_tf=True, vect__binary=False, vect__min_df=1, vect__stop_words=english, vect__use_idf=True, score=0.432598 -   1.7s"
       ]
      },
      {
       "output_type": "stream",
       "stream": "stdout",
       "text": [
        "\n",
        "[GridSearchCV] vect__ngram_range=(1, 2), vect__smooth_idf=True, vect__sublinear_tf=False, vect__binary=False, vect__min_df=1, vect__stop_words=None, vect__use_idf=False \n",
        "[GridSearchCV]  vect__ngram_range=(1, 2), vect__smooth_idf=True, vect__sublinear_tf=False, vect__binary=False, vect__min_df=1, vect__stop_words=None, vect__use_idf=False, score=0.439842 -   2.9s"
       ]
      },
      {
       "output_type": "stream",
       "stream": "stdout",
       "text": [
        "\n",
        "[GridSearchCV] vect__ngram_range=(1, 2), vect__smooth_idf=True, vect__sublinear_tf=False, vect__binary=False, vect__min_df=1, vect__stop_words=None, vect__use_idf=False \n",
        "[GridSearchCV]  vect__ngram_range=(1, 2), vect__smooth_idf=True, vect__sublinear_tf=False, vect__binary=False, vect__min_df=1, vect__stop_words=None, vect__use_idf=False, score=0.468450 -   3.0s"
       ]
      },
      {
       "output_type": "stream",
       "stream": "stdout",
       "text": [
        "\n",
        "[GridSearchCV] vect__ngram_range=(1, 2), vect__smooth_idf=True, vect__sublinear_tf=False, vect__binary=False, vect__min_df=1, vect__stop_words=None, vect__use_idf=False \n",
        "[GridSearchCV]  vect__ngram_range=(1, 2), vect__smooth_idf=True, vect__sublinear_tf=False, vect__binary=False, vect__min_df=1, vect__stop_words=None, vect__use_idf=False, score=0.454293 -   3.0s"
       ]
      },
      {
       "output_type": "stream",
       "stream": "stdout",
       "text": [
        "\n",
        "[GridSearchCV] vect__ngram_range=(1, 2), vect__smooth_idf=True, vect__sublinear_tf=False, vect__binary=False, vect__min_df=1, vect__stop_words=None, vect__use_idf=True \n",
        "[GridSearchCV]  vect__ngram_range=(1, 2), vect__smooth_idf=True, vect__sublinear_tf=False, vect__binary=False, vect__min_df=1, vect__stop_words=None, vect__use_idf=True, score=0.457114 -   2.5s"
       ]
      },
      {
       "output_type": "stream",
       "stream": "stdout",
       "text": [
        "\n",
        "[GridSearchCV] vect__ngram_range=(1, 2), vect__smooth_idf=True, vect__sublinear_tf=False, vect__binary=False, vect__min_df=1, vect__stop_words=None, vect__use_idf=True \n",
        "[GridSearchCV]  vect__ngram_range=(1, 2), vect__smooth_idf=True, vect__sublinear_tf=False, vect__binary=False, vect__min_df=1, vect__stop_words=None, vect__use_idf=True, score=0.466176 -   2.6s"
       ]
      },
      {
       "output_type": "stream",
       "stream": "stdout",
       "text": [
        "\n",
        "[GridSearchCV] vect__ngram_range=(1, 2), vect__smooth_idf=True, vect__sublinear_tf=False, vect__binary=False, vect__min_df=1, vect__stop_words=None, vect__use_idf=True \n",
        "[GridSearchCV]  vect__ngram_range=(1, 2), vect__smooth_idf=True, vect__sublinear_tf=False, vect__binary=False, vect__min_df=1, vect__stop_words=None, vect__use_idf=True, score=0.455638 -   2.6s"
       ]
      },
      {
       "output_type": "stream",
       "stream": "stdout",
       "text": [
        "\n",
        "[GridSearchCV] vect__ngram_range=(1, 2), vect__smooth_idf=True, vect__sublinear_tf=True, vect__binary=False, vect__min_df=1, vect__stop_words=None, vect__use_idf=False \n",
        "[GridSearchCV]  vect__ngram_range=(1, 2), vect__smooth_idf=True, vect__sublinear_tf=True, vect__binary=False, vect__min_df=1, vect__stop_words=None, vect__use_idf=False, score=0.449316 -   3.4s"
       ]
      },
      {
       "output_type": "stream",
       "stream": "stdout",
       "text": [
        "\n",
        "[GridSearchCV] vect__ngram_range=(1, 2), vect__smooth_idf=True, vect__sublinear_tf=True, vect__binary=False, vect__min_df=1, vect__stop_words=None, vect__use_idf=False \n",
        "[GridSearchCV]  vect__ngram_range=(1, 2), vect__smooth_idf=True, vect__sublinear_tf=True, vect__binary=False, vect__min_df=1, vect__stop_words=None, vect__use_idf=False, score=0.462464 -   3.3s"
       ]
      },
      {
       "output_type": "stream",
       "stream": "stdout",
       "text": [
        "\n",
        "[GridSearchCV] vect__ngram_range=(1, 2), vect__smooth_idf=True, vect__sublinear_tf=True, vect__binary=False, vect__min_df=1, vect__stop_words=None, vect__use_idf=False \n",
        "[GridSearchCV]  vect__ngram_range=(1, 2), vect__smooth_idf=True, vect__sublinear_tf=True, vect__binary=False, vect__min_df=1, vect__stop_words=None, vect__use_idf=False, score=0.462074 -   3.3s"
       ]
      },
      {
       "output_type": "stream",
       "stream": "stdout",
       "text": [
        "\n",
        "[GridSearchCV] vect__ngram_range=(1, 2), vect__smooth_idf=True, vect__sublinear_tf=True, vect__binary=False, vect__min_df=1, vect__stop_words=None, vect__use_idf=True \n",
        "[GridSearchCV]  vect__ngram_range=(1, 2), vect__smooth_idf=True, vect__sublinear_tf=True, vect__binary=False, vect__min_df=1, vect__stop_words=None, vect__use_idf=True, score=0.469004 -   2.7s"
       ]
      },
      {
       "output_type": "stream",
       "stream": "stdout",
       "text": [
        "\n",
        "[GridSearchCV] vect__ngram_range=(1, 2), vect__smooth_idf=True, vect__sublinear_tf=True, vect__binary=False, vect__min_df=1, vect__stop_words=None, vect__use_idf=True \n",
        "[GridSearchCV]  vect__ngram_range=(1, 2), vect__smooth_idf=True, vect__sublinear_tf=True, vect__binary=False, vect__min_df=1, vect__stop_words=None, vect__use_idf=True, score=0.476451 -   2.8s"
       ]
      },
      {
       "output_type": "stream",
       "stream": "stdout",
       "text": [
        "\n",
        "[GridSearchCV] vect__ngram_range=(1, 2), vect__smooth_idf=True, vect__sublinear_tf=True, vect__binary=False, vect__min_df=1, vect__stop_words=None, vect__use_idf=True \n",
        "[GridSearchCV]  vect__ngram_range=(1, 2), vect__smooth_idf=True, vect__sublinear_tf=True, vect__binary=False, vect__min_df=1, vect__stop_words=None, vect__use_idf=True, score=0.457838 -   2.7s"
       ]
      },
      {
       "output_type": "stream",
       "stream": "stdout",
       "text": [
        "\n",
        "[GridSearchCV] vect__ngram_range=(1, 2), vect__smooth_idf=True, vect__sublinear_tf=False, vect__binary=False, vect__min_df=1, vect__stop_words=english, vect__use_idf=False \n",
        "[GridSearchCV]  vect__ngram_range=(1, 2), vect__smooth_idf=True, vect__sublinear_tf=False, vect__binary=False, vect__min_df=1, vect__stop_words=english, vect__use_idf=False, score=0.450074 -   1.9s"
       ]
      },
      {
       "output_type": "stream",
       "stream": "stderr",
       "text": [
        "[Parallel(n_jobs=1)]: Done  72 jobs       | elapsed:  1.9min\n",
        "[Parallel(n_jobs=1)]: Done  85 jobs       | elapsed:  2.5min\n"
       ]
      },
      {
       "output_type": "stream",
       "stream": "stdout",
       "text": [
        "\n",
        "[GridSearchCV] vect__ngram_range=(1, 2), vect__smooth_idf=True, vect__sublinear_tf=False, vect__binary=False, vect__min_df=1, vect__stop_words=english, vect__use_idf=False \n",
        "[GridSearchCV]  vect__ngram_range=(1, 2), vect__smooth_idf=True, vect__sublinear_tf=False, vect__binary=False, vect__min_df=1, vect__stop_words=english, vect__use_idf=False, score=0.442894 -   1.8s"
       ]
      },
      {
       "output_type": "stream",
       "stream": "stdout",
       "text": [
        "\n",
        "[GridSearchCV] vect__ngram_range=(1, 2), vect__smooth_idf=True, vect__sublinear_tf=False, vect__binary=False, vect__min_df=1, vect__stop_words=english, vect__use_idf=False \n",
        "[GridSearchCV]  vect__ngram_range=(1, 2), vect__smooth_idf=True, vect__sublinear_tf=False, vect__binary=False, vect__min_df=1, vect__stop_words=english, vect__use_idf=False, score=0.433389 -   1.8s"
       ]
      },
      {
       "output_type": "stream",
       "stream": "stdout",
       "text": [
        "\n",
        "[GridSearchCV] vect__ngram_range=(1, 2), vect__smooth_idf=True, vect__sublinear_tf=False, vect__binary=False, vect__min_df=1, vect__stop_words=english, vect__use_idf=True \n",
        "[GridSearchCV]  vect__ngram_range=(1, 2), vect__smooth_idf=True, vect__sublinear_tf=False, vect__binary=False, vect__min_df=1, vect__stop_words=english, vect__use_idf=True, score=0.449637 -   1.7s"
       ]
      },
      {
       "output_type": "stream",
       "stream": "stdout",
       "text": [
        "\n",
        "[GridSearchCV] vect__ngram_range=(1, 2), vect__smooth_idf=True, vect__sublinear_tf=False, vect__binary=False, vect__min_df=1, vect__stop_words=english, vect__use_idf=True \n",
        "[GridSearchCV]  vect__ngram_range=(1, 2), vect__smooth_idf=True, vect__sublinear_tf=False, vect__binary=False, vect__min_df=1, vect__stop_words=english, vect__use_idf=True, score=0.453798 -   1.7s"
       ]
      },
      {
       "output_type": "stream",
       "stream": "stdout",
       "text": [
        "\n",
        "[GridSearchCV] vect__ngram_range=(1, 2), vect__smooth_idf=True, vect__sublinear_tf=False, vect__binary=False, vect__min_df=1, vect__stop_words=english, vect__use_idf=True \n",
        "[GridSearchCV]  vect__ngram_range=(1, 2), vect__smooth_idf=True, vect__sublinear_tf=False, vect__binary=False, vect__min_df=1, vect__stop_words=english, vect__use_idf=True, score=0.432261 -   1.7s"
       ]
      },
      {
       "output_type": "stream",
       "stream": "stdout",
       "text": [
        "\n",
        "[GridSearchCV] vect__ngram_range=(1, 2), vect__smooth_idf=True, vect__sublinear_tf=True, vect__binary=False, vect__min_df=1, vect__stop_words=english, vect__use_idf=False \n",
        "[GridSearchCV]  vect__ngram_range=(1, 2), vect__smooth_idf=True, vect__sublinear_tf=True, vect__binary=False, vect__min_df=1, vect__stop_words=english, vect__use_idf=False, score=0.452255 -   1.8s"
       ]
      },
      {
       "output_type": "stream",
       "stream": "stdout",
       "text": [
        "\n",
        "[GridSearchCV] vect__ngram_range=(1, 2), vect__smooth_idf=True, vect__sublinear_tf=True, vect__binary=False, vect__min_df=1, vect__stop_words=english, vect__use_idf=False \n",
        "[GridSearchCV]  vect__ngram_range=(1, 2), vect__smooth_idf=True, vect__sublinear_tf=True, vect__binary=False, vect__min_df=1, vect__stop_words=english, vect__use_idf=False, score=0.449105 -   1.8s"
       ]
      },
      {
       "output_type": "stream",
       "stream": "stdout",
       "text": [
        "\n",
        "[GridSearchCV] vect__ngram_range=(1, 2), vect__smooth_idf=True, vect__sublinear_tf=True, vect__binary=False, vect__min_df=1, vect__stop_words=english, vect__use_idf=False \n",
        "[GridSearchCV]  vect__ngram_range=(1, 2), vect__smooth_idf=True, vect__sublinear_tf=True, vect__binary=False, vect__min_df=1, vect__stop_words=english, vect__use_idf=False, score=0.431299 -   1.8s"
       ]
      },
      {
       "output_type": "stream",
       "stream": "stdout",
       "text": [
        "\n",
        "[GridSearchCV] vect__ngram_range=(1, 2), vect__smooth_idf=True, vect__sublinear_tf=True, vect__binary=False, vect__min_df=1, vect__stop_words=english, vect__use_idf=True \n",
        "[GridSearchCV]  vect__ngram_range=(1, 2), vect__smooth_idf=True, vect__sublinear_tf=True, vect__binary=False, vect__min_df=1, vect__stop_words=english, vect__use_idf=True, score=0.440356 -   1.7s"
       ]
      },
      {
       "output_type": "stream",
       "stream": "stdout",
       "text": [
        "\n",
        "[GridSearchCV] vect__ngram_range=(1, 2), vect__smooth_idf=True, vect__sublinear_tf=True, vect__binary=False, vect__min_df=1, vect__stop_words=english, vect__use_idf=True \n",
        "[GridSearchCV]  vect__ngram_range=(1, 2), vect__smooth_idf=True, vect__sublinear_tf=True, vect__binary=False, vect__min_df=1, vect__stop_words=english, vect__use_idf=True, score=0.448310 -   1.6s"
       ]
      },
      {
       "output_type": "stream",
       "stream": "stdout",
       "text": [
        "\n",
        "[GridSearchCV] vect__ngram_range=(1, 2), vect__smooth_idf=True, vect__sublinear_tf=True, vect__binary=False, vect__min_df=1, vect__stop_words=english, vect__use_idf=True \n",
        "[GridSearchCV]  vect__ngram_range=(1, 2), vect__smooth_idf=True, vect__sublinear_tf=True, vect__binary=False, vect__min_df=1, vect__stop_words=english, vect__use_idf=True, score=0.428991 -   1.8s"
       ]
      },
      {
       "output_type": "stream",
       "stream": "stdout",
       "text": [
        "\n",
        "[GridSearchCV] vect__ngram_range=(1, 1), vect__smooth_idf=False, vect__sublinear_tf=False, vect__binary=False, vect__min_df=2, vect__stop_words=None, vect__use_idf=False \n",
        "[GridSearchCV]  vect__ngram_range=(1, 1), vect__smooth_idf=False, vect__sublinear_tf=False, vect__binary=False, vect__min_df=2, vect__stop_words=None, vect__use_idf=False, score=0.451917 -   1.6s"
       ]
      },
      {
       "output_type": "stream",
       "stream": "stdout",
       "text": [
        "\n",
        "[GridSearchCV] vect__ngram_range=(1, 1), vect__smooth_idf=False, vect__sublinear_tf=False, vect__binary=False, vect__min_df=2, vect__stop_words=None, vect__use_idf=False \n",
        "[GridSearchCV]  vect__ngram_range=(1, 1), vect__smooth_idf=False, vect__sublinear_tf=False, vect__binary=False, vect__min_df=2, vect__stop_words=None, vect__use_idf=False, score=0.445997 -   1.5s"
       ]
      },
      {
       "output_type": "stream",
       "stream": "stdout",
       "text": [
        "\n",
        "[GridSearchCV] vect__ngram_range=(1, 1), vect__smooth_idf=False, vect__sublinear_tf=False, vect__binary=False, vect__min_df=2, vect__stop_words=None, vect__use_idf=False \n",
        "[GridSearchCV]  vect__ngram_range=(1, 1), vect__smooth_idf=False, vect__sublinear_tf=False, vect__binary=False, vect__min_df=2, vect__stop_words=None, vect__use_idf=False, score=0.439886 -   1.7s"
       ]
      },
      {
       "output_type": "stream",
       "stream": "stdout",
       "text": [
        "\n",
        "[GridSearchCV] vect__ngram_range=(1, 1), vect__smooth_idf=False, vect__sublinear_tf=False, vect__binary=False, vect__min_df=2, vect__stop_words=None, vect__use_idf=True \n",
        "[GridSearchCV]  vect__ngram_range=(1, 1), vect__smooth_idf=False, vect__sublinear_tf=False, vect__binary=False, vect__min_df=2, vect__stop_words=None, vect__use_idf=True, score=0.433402 -   1.4s"
       ]
      },
      {
       "output_type": "stream",
       "stream": "stdout",
       "text": [
        "\n",
        "[GridSearchCV] vect__ngram_range=(1, 1), vect__smooth_idf=False, vect__sublinear_tf=False, vect__binary=False, vect__min_df=2, vect__stop_words=None, vect__use_idf=True \n",
        "[GridSearchCV]  vect__ngram_range=(1, 1), vect__smooth_idf=False, vect__sublinear_tf=False, vect__binary=False, vect__min_df=2, vect__stop_words=None, vect__use_idf=True, score=0.467358 -   1.3s"
       ]
      },
      {
       "output_type": "stream",
       "stream": "stdout",
       "text": [
        "\n",
        "[GridSearchCV] vect__ngram_range=(1, 1), vect__smooth_idf=False, vect__sublinear_tf=False, vect__binary=False, vect__min_df=2, vect__stop_words=None, vect__use_idf=True \n",
        "[GridSearchCV]  vect__ngram_range=(1, 1), vect__smooth_idf=False, vect__sublinear_tf=False, vect__binary=False, vect__min_df=2, vect__stop_words=None, vect__use_idf=True, score=0.435309 -   1.4s"
       ]
      },
      {
       "output_type": "stream",
       "stream": "stdout",
       "text": [
        "\n",
        "[GridSearchCV] vect__ngram_range=(1, 1), vect__smooth_idf=False, vect__sublinear_tf=True, vect__binary=False, vect__min_df=2, vect__stop_words=None, vect__use_idf=False \n",
        "[GridSearchCV]  vect__ngram_range=(1, 1), vect__smooth_idf=False, vect__sublinear_tf=True, vect__binary=False, vect__min_df=2, vect__stop_words=None, vect__use_idf=False, score=0.435168 -   1.8s"
       ]
      },
      {
       "output_type": "stream",
       "stream": "stdout",
       "text": [
        "\n",
        "[GridSearchCV] vect__ngram_range=(1, 1), vect__smooth_idf=False, vect__sublinear_tf=True, vect__binary=False, vect__min_df=2, vect__stop_words=None, vect__use_idf=False \n",
        "[GridSearchCV]  vect__ngram_range=(1, 1), vect__smooth_idf=False, vect__sublinear_tf=True, vect__binary=False, vect__min_df=2, vect__stop_words=None, vect__use_idf=False, score=0.458848 -   1.7s"
       ]
      },
      {
       "output_type": "stream",
       "stream": "stdout",
       "text": [
        "\n",
        "[GridSearchCV] vect__ngram_range=(1, 1), vect__smooth_idf=False, vect__sublinear_tf=True, vect__binary=False, vect__min_df=2, vect__stop_words=None, vect__use_idf=False \n",
        "[GridSearchCV]  vect__ngram_range=(1, 1), vect__smooth_idf=False, vect__sublinear_tf=True, vect__binary=False, vect__min_df=2, vect__stop_words=None, vect__use_idf=False, score=0.439448 -   1.8s"
       ]
      },
      {
       "output_type": "stream",
       "stream": "stdout",
       "text": [
        "\n",
        "[GridSearchCV] vect__ngram_range=(1, 1), vect__smooth_idf=False, vect__sublinear_tf=True, vect__binary=False, vect__min_df=2, vect__stop_words=None, vect__use_idf=True \n",
        "[GridSearchCV]  vect__ngram_range=(1, 1), vect__smooth_idf=False, vect__sublinear_tf=True, vect__binary=False, vect__min_df=2, vect__stop_words=None, vect__use_idf=True, score=0.439091 -   1.6s"
       ]
      },
      {
       "output_type": "stream",
       "stream": "stdout",
       "text": [
        "\n",
        "[GridSearchCV] vect__ngram_range=(1, 1), vect__smooth_idf=False, vect__sublinear_tf=True, vect__binary=False, vect__min_df=2, vect__stop_words=None, vect__use_idf=True \n",
        "[GridSearchCV]  vect__ngram_range=(1, 1), vect__smooth_idf=False, vect__sublinear_tf=True, vect__binary=False, vect__min_df=2, vect__stop_words=None, vect__use_idf=True, score=0.463259 -   1.5s"
       ]
      },
      {
       "output_type": "stream",
       "stream": "stdout",
       "text": [
        "\n",
        "[GridSearchCV] vect__ngram_range=(1, 1), vect__smooth_idf=False, vect__sublinear_tf=True, vect__binary=False, vect__min_df=2, vect__stop_words=None, vect__use_idf=True \n",
        "[GridSearchCV]  vect__ngram_range=(1, 1), vect__smooth_idf=False, vect__sublinear_tf=True, vect__binary=False, vect__min_df=2, vect__stop_words=None, vect__use_idf=True, score=0.430332 -   1.6s"
       ]
      },
      {
       "output_type": "stream",
       "stream": "stdout",
       "text": [
        "\n",
        "[GridSearchCV] vect__ngram_range=(1, 1), vect__smooth_idf=False, vect__sublinear_tf=False, vect__binary=False, vect__min_df=2, vect__stop_words=english, vect__use_idf=False \n",
        "[GridSearchCV]  vect__ngram_range=(1, 1), vect__smooth_idf=False, vect__sublinear_tf=False, vect__binary=False, vect__min_df=2, vect__stop_words=english, vect__use_idf=False, score=0.438781 -   0.8s"
       ]
      },
      {
       "output_type": "stream",
       "stream": "stdout",
       "text": [
        "\n",
        "[GridSearchCV] vect__ngram_range=(1, 1), vect__smooth_idf=False, vect__sublinear_tf=False, vect__binary=False, vect__min_df=2, vect__stop_words=english, vect__use_idf=False \n",
        "[GridSearchCV]  vect__ngram_range=(1, 1), vect__smooth_idf=False, vect__sublinear_tf=False, vect__binary=False, vect__min_df=2, vect__stop_words=english, vect__use_idf=False, score=0.440683 -   0.8s"
       ]
      },
      {
       "output_type": "stream",
       "stream": "stdout",
       "text": [
        "\n",
        "[GridSearchCV] vect__ngram_range=(1, 1), vect__smooth_idf=False, vect__sublinear_tf=False, vect__binary=False, vect__min_df=2, vect__stop_words=english, vect__use_idf=False \n",
        "[GridSearchCV]  vect__ngram_range=(1, 1), vect__smooth_idf=False, vect__sublinear_tf=False, vect__binary=False, vect__min_df=2, vect__stop_words=english, vect__use_idf=False, score=0.413470 -   0.8s"
       ]
      },
      {
       "output_type": "stream",
       "stream": "stdout",
       "text": [
        "\n",
        "[GridSearchCV] vect__ngram_range=(1, 1), vect__smooth_idf=False, vect__sublinear_tf=False, vect__binary=False, vect__min_df=2, vect__stop_words=english, vect__use_idf=True \n",
        "[GridSearchCV]  vect__ngram_range=(1, 1), vect__smooth_idf=False, vect__sublinear_tf=False, vect__binary=False, vect__min_df=2, vect__stop_words=english, vect__use_idf=True, score=0.430289 -   0.8s"
       ]
      },
      {
       "output_type": "stream",
       "stream": "stdout",
       "text": [
        "\n",
        "[GridSearchCV] vect__ngram_range=(1, 1), vect__smooth_idf=False, vect__sublinear_tf=False, vect__binary=False, vect__min_df=2, vect__stop_words=english, vect__use_idf=True \n",
        "[GridSearchCV]  vect__ngram_range=(1, 1), vect__smooth_idf=False, vect__sublinear_tf=False, vect__binary=False, vect__min_df=2, vect__stop_words=english, vect__use_idf=True, score=0.439679 -   0.8s"
       ]
      },
      {
       "output_type": "stream",
       "stream": "stderr",
       "text": [
        "[Parallel(n_jobs=1)]: Done  98 jobs       | elapsed:  2.9min\n",
        "[Parallel(n_jobs=1)]: Done 113 jobs       | elapsed:  3.2min\n"
       ]
      },
      {
       "output_type": "stream",
       "stream": "stdout",
       "text": [
        "\n",
        "[GridSearchCV] vect__ngram_range=(1, 1), vect__smooth_idf=False, vect__sublinear_tf=False, vect__binary=False, vect__min_df=2, vect__stop_words=english, vect__use_idf=True \n",
        "[GridSearchCV]  vect__ngram_range=(1, 1), vect__smooth_idf=False, vect__sublinear_tf=False, vect__binary=False, vect__min_df=2, vect__stop_words=english, vect__use_idf=True, score=0.405097 -   0.8s"
       ]
      },
      {
       "output_type": "stream",
       "stream": "stdout",
       "text": [
        "\n",
        "[GridSearchCV] vect__ngram_range=(1, 1), vect__smooth_idf=False, vect__sublinear_tf=True, vect__binary=False, vect__min_df=2, vect__stop_words=english, vect__use_idf=False \n",
        "[GridSearchCV]  vect__ngram_range=(1, 1), vect__smooth_idf=False, vect__sublinear_tf=True, vect__binary=False, vect__min_df=2, vect__stop_words=english, vect__use_idf=False, score=0.432631 -   0.8s"
       ]
      },
      {
       "output_type": "stream",
       "stream": "stdout",
       "text": [
        "\n",
        "[GridSearchCV] vect__ngram_range=(1, 1), vect__smooth_idf=False, vect__sublinear_tf=True, vect__binary=False, vect__min_df=2, vect__stop_words=english, vect__use_idf=False \n",
        "[GridSearchCV]  vect__ngram_range=(1, 1), vect__smooth_idf=False, vect__sublinear_tf=True, vect__binary=False, vect__min_df=2, vect__stop_words=english, vect__use_idf=False, score=0.431674 -   0.8s"
       ]
      },
      {
       "output_type": "stream",
       "stream": "stdout",
       "text": [
        "\n",
        "[GridSearchCV] vect__ngram_range=(1, 1), vect__smooth_idf=False, vect__sublinear_tf=True, vect__binary=False, vect__min_df=2, vect__stop_words=english, vect__use_idf=False \n",
        "[GridSearchCV]  vect__ngram_range=(1, 1), vect__smooth_idf=False, vect__sublinear_tf=True, vect__binary=False, vect__min_df=2, vect__stop_words=english, vect__use_idf=False, score=0.407808 -   0.8s"
       ]
      },
      {
       "output_type": "stream",
       "stream": "stdout",
       "text": [
        "\n",
        "[GridSearchCV] vect__ngram_range=(1, 1), vect__smooth_idf=False, vect__sublinear_tf=True, vect__binary=False, vect__min_df=2, vect__stop_words=english, vect__use_idf=True \n",
        "[GridSearchCV]  vect__ngram_range=(1, 1), vect__smooth_idf=False, vect__sublinear_tf=True, vect__binary=False, vect__min_df=2, vect__stop_words=english, vect__use_idf=True, score=0.432827 -   0.8s"
       ]
      },
      {
       "output_type": "stream",
       "stream": "stdout",
       "text": [
        "\n",
        "[GridSearchCV] vect__ngram_range=(1, 1), vect__smooth_idf=False, vect__sublinear_tf=True, vect__binary=False, vect__min_df=2, vect__stop_words=english, vect__use_idf=True \n",
        "[GridSearchCV]  vect__ngram_range=(1, 1), vect__smooth_idf=False, vect__sublinear_tf=True, vect__binary=False, vect__min_df=2, vect__stop_words=english, vect__use_idf=True, score=0.435837 -   0.8s"
       ]
      },
      {
       "output_type": "stream",
       "stream": "stdout",
       "text": [
        "\n",
        "[GridSearchCV] vect__ngram_range=(1, 1), vect__smooth_idf=False, vect__sublinear_tf=True, vect__binary=False, vect__min_df=2, vect__stop_words=english, vect__use_idf=True \n",
        "[GridSearchCV]  vect__ngram_range=(1, 1), vect__smooth_idf=False, vect__sublinear_tf=True, vect__binary=False, vect__min_df=2, vect__stop_words=english, vect__use_idf=True, score=0.399375 -   0.7s"
       ]
      },
      {
       "output_type": "stream",
       "stream": "stdout",
       "text": [
        "\n",
        "[GridSearchCV] vect__ngram_range=(1, 1), vect__smooth_idf=True, vect__sublinear_tf=False, vect__binary=False, vect__min_df=2, vect__stop_words=None, vect__use_idf=False \n",
        "[GridSearchCV]  vect__ngram_range=(1, 1), vect__smooth_idf=True, vect__sublinear_tf=False, vect__binary=False, vect__min_df=2, vect__stop_words=None, vect__use_idf=False, score=0.451917 -   1.6s"
       ]
      },
      {
       "output_type": "stream",
       "stream": "stdout",
       "text": [
        "\n",
        "[GridSearchCV] vect__ngram_range=(1, 1), vect__smooth_idf=True, vect__sublinear_tf=False, vect__binary=False, vect__min_df=2, vect__stop_words=None, vect__use_idf=False \n",
        "[GridSearchCV]  vect__ngram_range=(1, 1), vect__smooth_idf=True, vect__sublinear_tf=False, vect__binary=False, vect__min_df=2, vect__stop_words=None, vect__use_idf=False, score=0.445997 -   1.6s"
       ]
      },
      {
       "output_type": "stream",
       "stream": "stdout",
       "text": [
        "\n",
        "[GridSearchCV] vect__ngram_range=(1, 1), vect__smooth_idf=True, vect__sublinear_tf=False, vect__binary=False, vect__min_df=2, vect__stop_words=None, vect__use_idf=False \n",
        "[GridSearchCV]  vect__ngram_range=(1, 1), vect__smooth_idf=True, vect__sublinear_tf=False, vect__binary=False, vect__min_df=2, vect__stop_words=None, vect__use_idf=False, score=0.439886 -   1.7s"
       ]
      },
      {
       "output_type": "stream",
       "stream": "stdout",
       "text": [
        "\n",
        "[GridSearchCV] vect__ngram_range=(1, 1), vect__smooth_idf=True, vect__sublinear_tf=False, vect__binary=False, vect__min_df=2, vect__stop_words=None, vect__use_idf=True \n",
        "[GridSearchCV]  vect__ngram_range=(1, 1), vect__smooth_idf=True, vect__sublinear_tf=False, vect__binary=False, vect__min_df=2, vect__stop_words=None, vect__use_idf=True, score=0.434252 -   1.3s"
       ]
      },
      {
       "output_type": "stream",
       "stream": "stdout",
       "text": [
        "\n",
        "[GridSearchCV] vect__ngram_range=(1, 1), vect__smooth_idf=True, vect__sublinear_tf=False, vect__binary=False, vect__min_df=2, vect__stop_words=None, vect__use_idf=True \n",
        "[GridSearchCV]  vect__ngram_range=(1, 1), vect__smooth_idf=True, vect__sublinear_tf=False, vect__binary=False, vect__min_df=2, vect__stop_words=None, vect__use_idf=True, score=0.466559 -   1.4s"
       ]
      },
      {
       "output_type": "stream",
       "stream": "stdout",
       "text": [
        "\n",
        "[GridSearchCV] vect__ngram_range=(1, 1), vect__smooth_idf=True, vect__sublinear_tf=False, vect__binary=False, vect__min_df=2, vect__stop_words=None, vect__use_idf=True \n",
        "[GridSearchCV]  vect__ngram_range=(1, 1), vect__smooth_idf=True, vect__sublinear_tf=False, vect__binary=False, vect__min_df=2, vect__stop_words=None, vect__use_idf=True, score=0.438410 -   1.4s"
       ]
      },
      {
       "output_type": "stream",
       "stream": "stdout",
       "text": [
        "\n",
        "[GridSearchCV] vect__ngram_range=(1, 1), vect__smooth_idf=True, vect__sublinear_tf=True, vect__binary=False, vect__min_df=2, vect__stop_words=None, vect__use_idf=False \n",
        "[GridSearchCV]  vect__ngram_range=(1, 1), vect__smooth_idf=True, vect__sublinear_tf=True, vect__binary=False, vect__min_df=2, vect__stop_words=None, vect__use_idf=False, score=0.435168 -   1.8s"
       ]
      },
      {
       "output_type": "stream",
       "stream": "stdout",
       "text": [
        "\n",
        "[GridSearchCV] vect__ngram_range=(1, 1), vect__smooth_idf=True, vect__sublinear_tf=True, vect__binary=False, vect__min_df=2, vect__stop_words=None, vect__use_idf=False \n",
        "[GridSearchCV]  vect__ngram_range=(1, 1), vect__smooth_idf=True, vect__sublinear_tf=True, vect__binary=False, vect__min_df=2, vect__stop_words=None, vect__use_idf=False, score=0.458848 -   1.7s"
       ]
      },
      {
       "output_type": "stream",
       "stream": "stdout",
       "text": [
        "\n",
        "[GridSearchCV] vect__ngram_range=(1, 1), vect__smooth_idf=True, vect__sublinear_tf=True, vect__binary=False, vect__min_df=2, vect__stop_words=None, vect__use_idf=False \n",
        "[GridSearchCV]  vect__ngram_range=(1, 1), vect__smooth_idf=True, vect__sublinear_tf=True, vect__binary=False, vect__min_df=2, vect__stop_words=None, vect__use_idf=False, score=0.439448 -   1.8s"
       ]
      },
      {
       "output_type": "stream",
       "stream": "stdout",
       "text": [
        "\n",
        "[GridSearchCV] vect__ngram_range=(1, 1), vect__smooth_idf=True, vect__sublinear_tf=True, vect__binary=False, vect__min_df=2, vect__stop_words=None, vect__use_idf=True \n",
        "[GridSearchCV]  vect__ngram_range=(1, 1), vect__smooth_idf=True, vect__sublinear_tf=True, vect__binary=False, vect__min_df=2, vect__stop_words=None, vect__use_idf=True, score=0.433749 -   1.6s"
       ]
      },
      {
       "output_type": "stream",
       "stream": "stdout",
       "text": [
        "\n",
        "[GridSearchCV] vect__ngram_range=(1, 1), vect__smooth_idf=True, vect__sublinear_tf=True, vect__binary=False, vect__min_df=2, vect__stop_words=None, vect__use_idf=True \n",
        "[GridSearchCV]  vect__ngram_range=(1, 1), vect__smooth_idf=True, vect__sublinear_tf=True, vect__binary=False, vect__min_df=2, vect__stop_words=None, vect__use_idf=True, score=0.461051 -   1.4s"
       ]
      },
      {
       "output_type": "stream",
       "stream": "stdout",
       "text": [
        "\n",
        "[GridSearchCV] vect__ngram_range=(1, 1), vect__smooth_idf=True, vect__sublinear_tf=True, vect__binary=False, vect__min_df=2, vect__stop_words=None, vect__use_idf=True \n",
        "[GridSearchCV]  vect__ngram_range=(1, 1), vect__smooth_idf=True, vect__sublinear_tf=True, vect__binary=False, vect__min_df=2, vect__stop_words=None, vect__use_idf=True, score=0.431176 -   1.6s"
       ]
      },
      {
       "output_type": "stream",
       "stream": "stdout",
       "text": [
        "\n",
        "[GridSearchCV] vect__ngram_range=(1, 1), vect__smooth_idf=True, vect__sublinear_tf=False, vect__binary=False, vect__min_df=2, vect__stop_words=english, vect__use_idf=False \n",
        "[GridSearchCV]  vect__ngram_range=(1, 1), vect__smooth_idf=True, vect__sublinear_tf=False, vect__binary=False, vect__min_df=2, vect__stop_words=english, vect__use_idf=False, score=0.438781 -   0.8s"
       ]
      },
      {
       "output_type": "stream",
       "stream": "stdout",
       "text": [
        "\n",
        "[GridSearchCV] vect__ngram_range=(1, 1), vect__smooth_idf=True, vect__sublinear_tf=False, vect__binary=False, vect__min_df=2, vect__stop_words=english, vect__use_idf=False \n",
        "[GridSearchCV]  vect__ngram_range=(1, 1), vect__smooth_idf=True, vect__sublinear_tf=False, vect__binary=False, vect__min_df=2, vect__stop_words=english, vect__use_idf=False, score=0.440683 -   0.9s"
       ]
      },
      {
       "output_type": "stream",
       "stream": "stdout",
       "text": [
        "\n",
        "[GridSearchCV] vect__ngram_range=(1, 1), vect__smooth_idf=True, vect__sublinear_tf=False, vect__binary=False, vect__min_df=2, vect__stop_words=english, vect__use_idf=False \n",
        "[GridSearchCV]  vect__ngram_range=(1, 1), vect__smooth_idf=True, vect__sublinear_tf=False, vect__binary=False, vect__min_df=2, vect__stop_words=english, vect__use_idf=False, score=0.413470 -   0.8s"
       ]
      },
      {
       "output_type": "stream",
       "stream": "stdout",
       "text": [
        "\n",
        "[GridSearchCV] vect__ngram_range=(1, 1), vect__smooth_idf=True, vect__sublinear_tf=False, vect__binary=False, vect__min_df=2, vect__stop_words=english, vect__use_idf=True \n",
        "[GridSearchCV]  vect__ngram_range=(1, 1), vect__smooth_idf=True, vect__sublinear_tf=False, vect__binary=False, vect__min_df=2, vect__stop_words=english, vect__use_idf=True, score=0.429376 -   0.8s"
       ]
      },
      {
       "output_type": "stream",
       "stream": "stdout",
       "text": [
        "\n",
        "[GridSearchCV] vect__ngram_range=(1, 1), vect__smooth_idf=True, vect__sublinear_tf=False, vect__binary=False, vect__min_df=2, vect__stop_words=english, vect__use_idf=True \n",
        "[GridSearchCV]  vect__ngram_range=(1, 1), vect__smooth_idf=True, vect__sublinear_tf=False, vect__binary=False, vect__min_df=2, vect__stop_words=english, vect__use_idf=True, score=0.439143 -   0.8s"
       ]
      },
      {
       "output_type": "stream",
       "stream": "stdout",
       "text": [
        "\n",
        "[GridSearchCV] vect__ngram_range=(1, 1), vect__smooth_idf=True, vect__sublinear_tf=False, vect__binary=False, vect__min_df=2, vect__stop_words=english, vect__use_idf=True \n",
        "[GridSearchCV]  vect__ngram_range=(1, 1), vect__smooth_idf=True, vect__sublinear_tf=False, vect__binary=False, vect__min_df=2, vect__stop_words=english, vect__use_idf=True, score=0.404819 -   0.8s"
       ]
      },
      {
       "output_type": "stream",
       "stream": "stdout",
       "text": [
        "\n",
        "[GridSearchCV] vect__ngram_range=(1, 1), vect__smooth_idf=True, vect__sublinear_tf=True, vect__binary=False, vect__min_df=2, vect__stop_words=english, vect__use_idf=False \n",
        "[GridSearchCV]  vect__ngram_range=(1, 1), vect__smooth_idf=True, vect__sublinear_tf=True, vect__binary=False, vect__min_df=2, vect__stop_words=english, vect__use_idf=False, score=0.432631 -   0.8s"
       ]
      },
      {
       "output_type": "stream",
       "stream": "stdout",
       "text": [
        "\n",
        "[GridSearchCV] vect__ngram_range=(1, 1), vect__smooth_idf=True, vect__sublinear_tf=True, vect__binary=False, vect__min_df=2, vect__stop_words=english, vect__use_idf=False \n",
        "[GridSearchCV]  vect__ngram_range=(1, 1), vect__smooth_idf=True, vect__sublinear_tf=True, vect__binary=False, vect__min_df=2, vect__stop_words=english, vect__use_idf=False, score=0.431674 -   0.8s"
       ]
      },
      {
       "output_type": "stream",
       "stream": "stdout",
       "text": [
        "\n",
        "[GridSearchCV] vect__ngram_range=(1, 1), vect__smooth_idf=True, vect__sublinear_tf=True, vect__binary=False, vect__min_df=2, vect__stop_words=english, vect__use_idf=False \n",
        "[GridSearchCV]  vect__ngram_range=(1, 1), vect__smooth_idf=True, vect__sublinear_tf=True, vect__binary=False, vect__min_df=2, vect__stop_words=english, vect__use_idf=False, score=0.407808 -   0.8s"
       ]
      },
      {
       "output_type": "stream",
       "stream": "stdout",
       "text": [
        "\n",
        "[GridSearchCV] vect__ngram_range=(1, 1), vect__smooth_idf=True, vect__sublinear_tf=True, vect__binary=False, vect__min_df=2, vect__stop_words=english, vect__use_idf=True \n",
        "[GridSearchCV]  vect__ngram_range=(1, 1), vect__smooth_idf=True, vect__sublinear_tf=True, vect__binary=False, vect__min_df=2, vect__stop_words=english, vect__use_idf=True, score=0.432975 -   0.8s"
       ]
      },
      {
       "output_type": "stream",
       "stream": "stdout",
       "text": [
        "\n",
        "[GridSearchCV] vect__ngram_range=(1, 1), vect__smooth_idf=True, vect__sublinear_tf=True, vect__binary=False, vect__min_df=2, vect__stop_words=english, vect__use_idf=True \n",
        "[GridSearchCV]  vect__ngram_range=(1, 1), vect__smooth_idf=True, vect__sublinear_tf=True, vect__binary=False, vect__min_df=2, vect__stop_words=english, vect__use_idf=True, score=0.435044 -   0.8s"
       ]
      },
      {
       "output_type": "stream",
       "stream": "stdout",
       "text": [
        "\n",
        "[GridSearchCV] vect__ngram_range=(1, 1), vect__smooth_idf=True, vect__sublinear_tf=True, vect__binary=False, vect__min_df=2, vect__stop_words=english, vect__use_idf=True \n",
        "[GridSearchCV]  vect__ngram_range=(1, 1), vect__smooth_idf=True, vect__sublinear_tf=True, vect__binary=False, vect__min_df=2, vect__stop_words=english, vect__use_idf=True, score=0.394716 -   0.8s"
       ]
      },
      {
       "output_type": "stream",
       "stream": "stdout",
       "text": [
        "\n",
        "[GridSearchCV] vect__ngram_range=(1, 2), vect__smooth_idf=False, vect__sublinear_tf=False, vect__binary=False, vect__min_df=2, vect__stop_words=None, vect__use_idf=False \n",
        "[GridSearchCV]  vect__ngram_range=(1, 2), vect__smooth_idf=False, vect__sublinear_tf=False, vect__binary=False, vect__min_df=2, vect__stop_words=None, vect__use_idf=False, score=0.447018 -   2.8s"
       ]
      },
      {
       "output_type": "stream",
       "stream": "stderr",
       "text": [
        "[Parallel(n_jobs=1)]: Done 128 jobs       | elapsed:  3.5min\n",
        "[Parallel(n_jobs=1)]: Done 145 jobs       | elapsed:  3.9min\n"
       ]
      },
      {
       "output_type": "stream",
       "stream": "stdout",
       "text": [
        "\n",
        "[GridSearchCV] vect__ngram_range=(1, 2), vect__smooth_idf=False, vect__sublinear_tf=False, vect__binary=False, vect__min_df=2, vect__stop_words=None, vect__use_idf=False \n",
        "[GridSearchCV]  vect__ngram_range=(1, 2), vect__smooth_idf=False, vect__sublinear_tf=False, vect__binary=False, vect__min_df=2, vect__stop_words=None, vect__use_idf=False, score=0.458792 -   2.7s"
       ]
      },
      {
       "output_type": "stream",
       "stream": "stdout",
       "text": [
        "\n",
        "[GridSearchCV] vect__ngram_range=(1, 2), vect__smooth_idf=False, vect__sublinear_tf=False, vect__binary=False, vect__min_df=2, vect__stop_words=None, vect__use_idf=False \n",
        "[GridSearchCV]  vect__ngram_range=(1, 2), vect__smooth_idf=False, vect__sublinear_tf=False, vect__binary=False, vect__min_df=2, vect__stop_words=None, vect__use_idf=False, score=0.451823 -   2.8s"
       ]
      },
      {
       "output_type": "stream",
       "stream": "stdout",
       "text": [
        "\n",
        "[GridSearchCV] vect__ngram_range=(1, 2), vect__smooth_idf=False, vect__sublinear_tf=False, vect__binary=False, vect__min_df=2, vect__stop_words=None, vect__use_idf=True \n",
        "[GridSearchCV]  vect__ngram_range=(1, 2), vect__smooth_idf=False, vect__sublinear_tf=False, vect__binary=False, vect__min_df=2, vect__stop_words=None, vect__use_idf=True, score=0.456450 -   2.4s"
       ]
      },
      {
       "output_type": "stream",
       "stream": "stdout",
       "text": [
        "\n",
        "[GridSearchCV] vect__ngram_range=(1, 2), vect__smooth_idf=False, vect__sublinear_tf=False, vect__binary=False, vect__min_df=2, vect__stop_words=None, vect__use_idf=True \n",
        "[GridSearchCV]  vect__ngram_range=(1, 2), vect__smooth_idf=False, vect__sublinear_tf=False, vect__binary=False, vect__min_df=2, vect__stop_words=None, vect__use_idf=True, score=0.463966 -   2.4s"
       ]
      },
      {
       "output_type": "stream",
       "stream": "stdout",
       "text": [
        "\n",
        "[GridSearchCV] vect__ngram_range=(1, 2), vect__smooth_idf=False, vect__sublinear_tf=False, vect__binary=False, vect__min_df=2, vect__stop_words=None, vect__use_idf=True \n",
        "[GridSearchCV]  vect__ngram_range=(1, 2), vect__smooth_idf=False, vect__sublinear_tf=False, vect__binary=False, vect__min_df=2, vect__stop_words=None, vect__use_idf=True, score=0.452371 -   2.4s"
       ]
      },
      {
       "output_type": "stream",
       "stream": "stdout",
       "text": [
        "\n",
        "[GridSearchCV] vect__ngram_range=(1, 2), vect__smooth_idf=False, vect__sublinear_tf=True, vect__binary=False, vect__min_df=2, vect__stop_words=None, vect__use_idf=False \n",
        "[GridSearchCV]  vect__ngram_range=(1, 2), vect__smooth_idf=False, vect__sublinear_tf=True, vect__binary=False, vect__min_df=2, vect__stop_words=None, vect__use_idf=False, score=0.449683 -   3.1s"
       ]
      },
      {
       "output_type": "stream",
       "stream": "stdout",
       "text": [
        "\n",
        "[GridSearchCV] vect__ngram_range=(1, 2), vect__smooth_idf=False, vect__sublinear_tf=True, vect__binary=False, vect__min_df=2, vect__stop_words=None, vect__use_idf=False \n",
        "[GridSearchCV]  vect__ngram_range=(1, 2), vect__smooth_idf=False, vect__sublinear_tf=True, vect__binary=False, vect__min_df=2, vect__stop_words=None, vect__use_idf=False, score=0.457152 -   3.1s"
       ]
      },
      {
       "output_type": "stream",
       "stream": "stdout",
       "text": [
        "\n",
        "[GridSearchCV] vect__ngram_range=(1, 2), vect__smooth_idf=False, vect__sublinear_tf=True, vect__binary=False, vect__min_df=2, vect__stop_words=None, vect__use_idf=False \n",
        "[GridSearchCV]  vect__ngram_range=(1, 2), vect__smooth_idf=False, vect__sublinear_tf=True, vect__binary=False, vect__min_df=2, vect__stop_words=None, vect__use_idf=False, score=0.459340 -   3.0s"
       ]
      },
      {
       "output_type": "stream",
       "stream": "stdout",
       "text": [
        "\n",
        "[GridSearchCV] vect__ngram_range=(1, 2), vect__smooth_idf=False, vect__sublinear_tf=True, vect__binary=False, vect__min_df=2, vect__stop_words=None, vect__use_idf=True \n",
        "[GridSearchCV]  vect__ngram_range=(1, 2), vect__smooth_idf=False, vect__sublinear_tf=True, vect__binary=False, vect__min_df=2, vect__stop_words=None, vect__use_idf=True, score=0.458953 -   2.5s"
       ]
      },
      {
       "output_type": "stream",
       "stream": "stdout",
       "text": [
        "\n",
        "[GridSearchCV] vect__ngram_range=(1, 2), vect__smooth_idf=False, vect__sublinear_tf=True, vect__binary=False, vect__min_df=2, vect__stop_words=None, vect__use_idf=True \n",
        "[GridSearchCV]  vect__ngram_range=(1, 2), vect__smooth_idf=False, vect__sublinear_tf=True, vect__binary=False, vect__min_df=2, vect__stop_words=None, vect__use_idf=True, score=0.482169 -   2.6s"
       ]
      },
      {
       "output_type": "stream",
       "stream": "stdout",
       "text": [
        "\n",
        "[GridSearchCV] vect__ngram_range=(1, 2), vect__smooth_idf=False, vect__sublinear_tf=True, vect__binary=False, vect__min_df=2, vect__stop_words=None, vect__use_idf=True \n",
        "[GridSearchCV]  vect__ngram_range=(1, 2), vect__smooth_idf=False, vect__sublinear_tf=True, vect__binary=False, vect__min_df=2, vect__stop_words=None, vect__use_idf=True, score=0.457003 -   2.4s"
       ]
      },
      {
       "output_type": "stream",
       "stream": "stdout",
       "text": [
        "\n",
        "[GridSearchCV] vect__ngram_range=(1, 2), vect__smooth_idf=False, vect__sublinear_tf=False, vect__binary=False, vect__min_df=2, vect__stop_words=english, vect__use_idf=False \n",
        "[GridSearchCV]  vect__ngram_range=(1, 2), vect__smooth_idf=False, vect__sublinear_tf=False, vect__binary=False, vect__min_df=2, vect__stop_words=english, vect__use_idf=False, score=0.444211 -   1.6s"
       ]
      },
      {
       "output_type": "stream",
       "stream": "stdout",
       "text": [
        "\n",
        "[GridSearchCV] vect__ngram_range=(1, 2), vect__smooth_idf=False, vect__sublinear_tf=False, vect__binary=False, vect__min_df=2, vect__stop_words=english, vect__use_idf=False \n",
        "[GridSearchCV]  vect__ngram_range=(1, 2), vect__smooth_idf=False, vect__sublinear_tf=False, vect__binary=False, vect__min_df=2, vect__stop_words=english, vect__use_idf=False, score=0.438788 -   1.6s"
       ]
      },
      {
       "output_type": "stream",
       "stream": "stdout",
       "text": [
        "\n",
        "[GridSearchCV] vect__ngram_range=(1, 2), vect__smooth_idf=False, vect__sublinear_tf=False, vect__binary=False, vect__min_df=2, vect__stop_words=english, vect__use_idf=False \n",
        "[GridSearchCV]  vect__ngram_range=(1, 2), vect__smooth_idf=False, vect__sublinear_tf=False, vect__binary=False, vect__min_df=2, vect__stop_words=english, vect__use_idf=False, score=0.426227 -   1.6s"
       ]
      },
      {
       "output_type": "stream",
       "stream": "stdout",
       "text": [
        "\n",
        "[GridSearchCV] vect__ngram_range=(1, 2), vect__smooth_idf=False, vect__sublinear_tf=False, vect__binary=False, vect__min_df=2, vect__stop_words=english, vect__use_idf=True \n",
        "[GridSearchCV]  vect__ngram_range=(1, 2), vect__smooth_idf=False, vect__sublinear_tf=False, vect__binary=False, vect__min_df=2, vect__stop_words=english, vect__use_idf=True, score=0.444569 -   1.5s"
       ]
      },
      {
       "output_type": "stream",
       "stream": "stdout",
       "text": [
        "\n",
        "[GridSearchCV] vect__ngram_range=(1, 2), vect__smooth_idf=False, vect__sublinear_tf=False, vect__binary=False, vect__min_df=2, vect__stop_words=english, vect__use_idf=True \n",
        "[GridSearchCV]  vect__ngram_range=(1, 2), vect__smooth_idf=False, vect__sublinear_tf=False, vect__binary=False, vect__min_df=2, vect__stop_words=english, vect__use_idf=True, score=0.439381 -   1.6s"
       ]
      },
      {
       "output_type": "stream",
       "stream": "stdout",
       "text": [
        "\n",
        "[GridSearchCV] vect__ngram_range=(1, 2), vect__smooth_idf=False, vect__sublinear_tf=False, vect__binary=False, vect__min_df=2, vect__stop_words=english, vect__use_idf=True \n",
        "[GridSearchCV]  vect__ngram_range=(1, 2), vect__smooth_idf=False, vect__sublinear_tf=False, vect__binary=False, vect__min_df=2, vect__stop_words=english, vect__use_idf=True, score=0.426859 -   1.6s"
       ]
      },
      {
       "output_type": "stream",
       "stream": "stdout",
       "text": [
        "\n",
        "[GridSearchCV] vect__ngram_range=(1, 2), vect__smooth_idf=False, vect__sublinear_tf=True, vect__binary=False, vect__min_df=2, vect__stop_words=english, vect__use_idf=False \n",
        "[GridSearchCV]  vect__ngram_range=(1, 2), vect__smooth_idf=False, vect__sublinear_tf=True, vect__binary=False, vect__min_df=2, vect__stop_words=english, vect__use_idf=False, score=0.436609 -   1.7s"
       ]
      },
      {
       "output_type": "stream",
       "stream": "stdout",
       "text": [
        "\n",
        "[GridSearchCV] vect__ngram_range=(1, 2), vect__smooth_idf=False, vect__sublinear_tf=True, vect__binary=False, vect__min_df=2, vect__stop_words=english, vect__use_idf=False \n",
        "[GridSearchCV]  vect__ngram_range=(1, 2), vect__smooth_idf=False, vect__sublinear_tf=True, vect__binary=False, vect__min_df=2, vect__stop_words=english, vect__use_idf=False, score=0.429318 -   1.6s"
       ]
      },
      {
       "output_type": "stream",
       "stream": "stdout",
       "text": [
        "\n",
        "[GridSearchCV] vect__ngram_range=(1, 2), vect__smooth_idf=False, vect__sublinear_tf=True, vect__binary=False, vect__min_df=2, vect__stop_words=english, vect__use_idf=False \n",
        "[GridSearchCV]  vect__ngram_range=(1, 2), vect__smooth_idf=False, vect__sublinear_tf=True, vect__binary=False, vect__min_df=2, vect__stop_words=english, vect__use_idf=False, score=0.417627 -   1.6s"
       ]
      },
      {
       "output_type": "stream",
       "stream": "stdout",
       "text": [
        "\n",
        "[GridSearchCV] vect__ngram_range=(1, 2), vect__smooth_idf=False, vect__sublinear_tf=True, vect__binary=False, vect__min_df=2, vect__stop_words=english, vect__use_idf=True \n",
        "[GridSearchCV]  vect__ngram_range=(1, 2), vect__smooth_idf=False, vect__sublinear_tf=True, vect__binary=False, vect__min_df=2, vect__stop_words=english, vect__use_idf=True, score=0.437183 -   1.5s"
       ]
      },
      {
       "output_type": "stream",
       "stream": "stdout",
       "text": [
        "\n",
        "[GridSearchCV] vect__ngram_range=(1, 2), vect__smooth_idf=False, vect__sublinear_tf=True, vect__binary=False, vect__min_df=2, vect__stop_words=english, vect__use_idf=True \n",
        "[GridSearchCV]  vect__ngram_range=(1, 2), vect__smooth_idf=False, vect__sublinear_tf=True, vect__binary=False, vect__min_df=2, vect__stop_words=english, vect__use_idf=True, score=0.439879 -   1.5s"
       ]
      },
      {
       "output_type": "stream",
       "stream": "stdout",
       "text": [
        "\n",
        "[GridSearchCV] vect__ngram_range=(1, 2), vect__smooth_idf=False, vect__sublinear_tf=True, vect__binary=False, vect__min_df=2, vect__stop_words=english, vect__use_idf=True \n",
        "[GridSearchCV]  vect__ngram_range=(1, 2), vect__smooth_idf=False, vect__sublinear_tf=True, vect__binary=False, vect__min_df=2, vect__stop_words=english, vect__use_idf=True, score=0.421499 -   1.5s"
       ]
      },
      {
       "output_type": "stream",
       "stream": "stdout",
       "text": [
        "\n",
        "[GridSearchCV] vect__ngram_range=(1, 2), vect__smooth_idf=True, vect__sublinear_tf=False, vect__binary=False, vect__min_df=2, vect__stop_words=None, vect__use_idf=False \n",
        "[GridSearchCV]  vect__ngram_range=(1, 2), vect__smooth_idf=True, vect__sublinear_tf=False, vect__binary=False, vect__min_df=2, vect__stop_words=None, vect__use_idf=False, score=0.447018 -   2.7s"
       ]
      },
      {
       "output_type": "stream",
       "stream": "stdout",
       "text": [
        "\n",
        "[GridSearchCV] vect__ngram_range=(1, 2), vect__smooth_idf=True, vect__sublinear_tf=False, vect__binary=False, vect__min_df=2, vect__stop_words=None, vect__use_idf=False \n",
        "[GridSearchCV]  vect__ngram_range=(1, 2), vect__smooth_idf=True, vect__sublinear_tf=False, vect__binary=False, vect__min_df=2, vect__stop_words=None, vect__use_idf=False, score=0.458792 -   2.7s"
       ]
      },
      {
       "output_type": "stream",
       "stream": "stdout",
       "text": [
        "\n",
        "[GridSearchCV] vect__ngram_range=(1, 2), vect__smooth_idf=True, vect__sublinear_tf=False, vect__binary=False, vect__min_df=2, vect__stop_words=None, vect__use_idf=False \n",
        "[GridSearchCV]  vect__ngram_range=(1, 2), vect__smooth_idf=True, vect__sublinear_tf=False, vect__binary=False, vect__min_df=2, vect__stop_words=None, vect__use_idf=False, score=0.451823 -   2.8s"
       ]
      },
      {
       "output_type": "stream",
       "stream": "stdout",
       "text": [
        "\n",
        "[GridSearchCV] vect__ngram_range=(1, 2), vect__smooth_idf=True, vect__sublinear_tf=False, vect__binary=False, vect__min_df=2, vect__stop_words=None, vect__use_idf=True \n",
        "[GridSearchCV]  vect__ngram_range=(1, 2), vect__smooth_idf=True, vect__sublinear_tf=False, vect__binary=False, vect__min_df=2, vect__stop_words=None, vect__use_idf=True, score=0.455640 -   2.4s"
       ]
      },
      {
       "output_type": "stream",
       "stream": "stdout",
       "text": [
        "\n",
        "[GridSearchCV] vect__ngram_range=(1, 2), vect__smooth_idf=True, vect__sublinear_tf=False, vect__binary=False, vect__min_df=2, vect__stop_words=None, vect__use_idf=True \n",
        "[GridSearchCV]  vect__ngram_range=(1, 2), vect__smooth_idf=True, vect__sublinear_tf=False, vect__binary=False, vect__min_df=2, vect__stop_words=None, vect__use_idf=True, score=0.462055 -   2.4s"
       ]
      },
      {
       "output_type": "stream",
       "stream": "stdout",
       "text": [
        "\n",
        "[GridSearchCV] vect__ngram_range=(1, 2), vect__smooth_idf=True, vect__sublinear_tf=False, vect__binary=False, vect__min_df=2, vect__stop_words=None, vect__use_idf=True \n",
        "[GridSearchCV]  vect__ngram_range=(1, 2), vect__smooth_idf=True, vect__sublinear_tf=False, vect__binary=False, vect__min_df=2, vect__stop_words=None, vect__use_idf=True, score=0.453919 -   2.5s"
       ]
      },
      {
       "output_type": "stream",
       "stream": "stdout",
       "text": [
        "\n",
        "[GridSearchCV] vect__ngram_range=(1, 2), vect__smooth_idf=True, vect__sublinear_tf=True, vect__binary=False, vect__min_df=2, vect__stop_words=None, vect__use_idf=False \n",
        "[GridSearchCV]  vect__ngram_range=(1, 2), vect__smooth_idf=True, vect__sublinear_tf=True, vect__binary=False, vect__min_df=2, vect__stop_words=None, vect__use_idf=False, score=0.449683 -   3.4s"
       ]
      },
      {
       "output_type": "stream",
       "stream": "stdout",
       "text": [
        "\n",
        "[GridSearchCV] vect__ngram_range=(1, 2), vect__smooth_idf=True, vect__sublinear_tf=True, vect__binary=False, vect__min_df=2, vect__stop_words=None, vect__use_idf=False \n",
        "[GridSearchCV]  vect__ngram_range=(1, 2), vect__smooth_idf=True, vect__sublinear_tf=True, vect__binary=False, vect__min_df=2, vect__stop_words=None, vect__use_idf=False, score=0.457152 -   3.2s"
       ]
      },
      {
       "output_type": "stream",
       "stream": "stdout",
       "text": [
        "\n",
        "[GridSearchCV] vect__ngram_range=(1, 2), vect__smooth_idf=True, vect__sublinear_tf=True, vect__binary=False, vect__min_df=2, vect__stop_words=None, vect__use_idf=False \n",
        "[GridSearchCV]  vect__ngram_range=(1, 2), vect__smooth_idf=True, vect__sublinear_tf=True, vect__binary=False, vect__min_df=2, vect__stop_words=None, vect__use_idf=False, score=0.459340 -   3.1s"
       ]
      },
      {
       "output_type": "stream",
       "stream": "stdout",
       "text": [
        "\n",
        "[GridSearchCV] vect__ngram_range=(1, 2), vect__smooth_idf=True, vect__sublinear_tf=True, vect__binary=False, vect__min_df=2, vect__stop_words=None, vect__use_idf=True \n",
        "[GridSearchCV]  vect__ngram_range=(1, 2), vect__smooth_idf=True, vect__sublinear_tf=True, vect__binary=False, vect__min_df=2, vect__stop_words=None, vect__use_idf=True, score=0.458931 -   2.6s"
       ]
      },
      {
       "output_type": "stream",
       "stream": "stdout",
       "text": [
        "\n",
        "[GridSearchCV] vect__ngram_range=(1, 2), vect__smooth_idf=True, vect__sublinear_tf=True, vect__binary=False, vect__min_df=2, vect__stop_words=None, vect__use_idf=True \n",
        "[GridSearchCV]  vect__ngram_range=(1, 2), vect__smooth_idf=True, vect__sublinear_tf=True, vect__binary=False, vect__min_df=2, vect__stop_words=None, vect__use_idf=True, score=0.480650 -   2.5s"
       ]
      },
      {
       "output_type": "stream",
       "stream": "stdout",
       "text": [
        "\n",
        "[GridSearchCV] vect__ngram_range=(1, 2), vect__smooth_idf=True, vect__sublinear_tf=True, vect__binary=False, vect__min_df=2, vect__stop_words=None, vect__use_idf=True \n",
        "[GridSearchCV]  vect__ngram_range=(1, 2), vect__smooth_idf=True, vect__sublinear_tf=True, vect__binary=False, vect__min_df=2, vect__stop_words=None, vect__use_idf=True, score=0.458138 -   2.6s"
       ]
      },
      {
       "output_type": "stream",
       "stream": "stdout",
       "text": [
        "\n",
        "[GridSearchCV] vect__ngram_range=(1, 2), vect__smooth_idf=True, vect__sublinear_tf=False, vect__binary=False, vect__min_df=2, vect__stop_words=english, vect__use_idf=False \n",
        "[GridSearchCV]  vect__ngram_range=(1, 2), vect__smooth_idf=True, vect__sublinear_tf=False, vect__binary=False, vect__min_df=2, vect__stop_words=english, vect__use_idf=False, score=0.444211 -   1.6s"
       ]
      },
      {
       "output_type": "stream",
       "stream": "stderr",
       "text": [
        "[Parallel(n_jobs=1)]: Done 162 jobs       | elapsed:  4.5min\n",
        "[Parallel(n_jobs=1)]: Done 181 jobs       | elapsed:  5.3min\n"
       ]
      },
      {
       "output_type": "stream",
       "stream": "stdout",
       "text": [
        "\n",
        "[GridSearchCV] vect__ngram_range=(1, 2), vect__smooth_idf=True, vect__sublinear_tf=False, vect__binary=False, vect__min_df=2, vect__stop_words=english, vect__use_idf=False \n",
        "[GridSearchCV]  vect__ngram_range=(1, 2), vect__smooth_idf=True, vect__sublinear_tf=False, vect__binary=False, vect__min_df=2, vect__stop_words=english, vect__use_idf=False, score=0.438788 -   1.7s"
       ]
      },
      {
       "output_type": "stream",
       "stream": "stdout",
       "text": [
        "\n",
        "[GridSearchCV] vect__ngram_range=(1, 2), vect__smooth_idf=True, vect__sublinear_tf=False, vect__binary=False, vect__min_df=2, vect__stop_words=english, vect__use_idf=False \n",
        "[GridSearchCV]  vect__ngram_range=(1, 2), vect__smooth_idf=True, vect__sublinear_tf=False, vect__binary=False, vect__min_df=2, vect__stop_words=english, vect__use_idf=False, score=0.426227 -   1.7s"
       ]
      },
      {
       "output_type": "stream",
       "stream": "stdout",
       "text": [
        "\n",
        "[GridSearchCV] vect__ngram_range=(1, 2), vect__smooth_idf=True, vect__sublinear_tf=False, vect__binary=False, vect__min_df=2, vect__stop_words=english, vect__use_idf=True \n",
        "[GridSearchCV]  vect__ngram_range=(1, 2), vect__smooth_idf=True, vect__sublinear_tf=False, vect__binary=False, vect__min_df=2, vect__stop_words=english, vect__use_idf=True, score=0.444717 -   1.6s"
       ]
      },
      {
       "output_type": "stream",
       "stream": "stdout",
       "text": [
        "\n",
        "[GridSearchCV] vect__ngram_range=(1, 2), vect__smooth_idf=True, vect__sublinear_tf=False, vect__binary=False, vect__min_df=2, vect__stop_words=english, vect__use_idf=True \n",
        "[GridSearchCV]  vect__ngram_range=(1, 2), vect__smooth_idf=True, vect__sublinear_tf=False, vect__binary=False, vect__min_df=2, vect__stop_words=english, vect__use_idf=True, score=0.439870 -   1.7s"
       ]
      },
      {
       "output_type": "stream",
       "stream": "stdout",
       "text": [
        "\n",
        "[GridSearchCV] vect__ngram_range=(1, 2), vect__smooth_idf=True, vect__sublinear_tf=False, vect__binary=False, vect__min_df=2, vect__stop_words=english, vect__use_idf=True \n",
        "[GridSearchCV]  vect__ngram_range=(1, 2), vect__smooth_idf=True, vect__sublinear_tf=False, vect__binary=False, vect__min_df=2, vect__stop_words=english, vect__use_idf=True, score=0.423108 -   1.6s"
       ]
      },
      {
       "output_type": "stream",
       "stream": "stdout",
       "text": [
        "\n",
        "[GridSearchCV] vect__ngram_range=(1, 2), vect__smooth_idf=True, vect__sublinear_tf=True, vect__binary=False, vect__min_df=2, vect__stop_words=english, vect__use_idf=False \n",
        "[GridSearchCV]  vect__ngram_range=(1, 2), vect__smooth_idf=True, vect__sublinear_tf=True, vect__binary=False, vect__min_df=2, vect__stop_words=english, vect__use_idf=False, score=0.436609 -   1.7s"
       ]
      },
      {
       "output_type": "stream",
       "stream": "stdout",
       "text": [
        "\n",
        "[GridSearchCV] vect__ngram_range=(1, 2), vect__smooth_idf=True, vect__sublinear_tf=True, vect__binary=False, vect__min_df=2, vect__stop_words=english, vect__use_idf=False \n",
        "[GridSearchCV]  vect__ngram_range=(1, 2), vect__smooth_idf=True, vect__sublinear_tf=True, vect__binary=False, vect__min_df=2, vect__stop_words=english, vect__use_idf=False, score=0.429318 -   1.7s"
       ]
      },
      {
       "output_type": "stream",
       "stream": "stdout",
       "text": [
        "\n",
        "[GridSearchCV] vect__ngram_range=(1, 2), vect__smooth_idf=True, vect__sublinear_tf=True, vect__binary=False, vect__min_df=2, vect__stop_words=english, vect__use_idf=False \n",
        "[GridSearchCV]  vect__ngram_range=(1, 2), vect__smooth_idf=True, vect__sublinear_tf=True, vect__binary=False, vect__min_df=2, vect__stop_words=english, vect__use_idf=False, score=0.417627 -   1.7s"
       ]
      },
      {
       "output_type": "stream",
       "stream": "stdout",
       "text": [
        "\n",
        "[GridSearchCV] vect__ngram_range=(1, 2), vect__smooth_idf=True, vect__sublinear_tf=True, vect__binary=False, vect__min_df=2, vect__stop_words=english, vect__use_idf=True \n",
        "[GridSearchCV]  vect__ngram_range=(1, 2), vect__smooth_idf=True, vect__sublinear_tf=True, vect__binary=False, vect__min_df=2, vect__stop_words=english, vect__use_idf=True, score=0.439511 -   1.7s"
       ]
      },
      {
       "output_type": "stream",
       "stream": "stdout",
       "text": [
        "\n",
        "[GridSearchCV] vect__ngram_range=(1, 2), vect__smooth_idf=True, vect__sublinear_tf=True, vect__binary=False, vect__min_df=2, vect__stop_words=english, vect__use_idf=True \n",
        "[GridSearchCV]  vect__ngram_range=(1, 2), vect__smooth_idf=True, vect__sublinear_tf=True, vect__binary=False, vect__min_df=2, vect__stop_words=english, vect__use_idf=True, score=0.438409 -   1.6s"
       ]
      },
      {
       "output_type": "stream",
       "stream": "stdout",
       "text": [
        "\n",
        "[GridSearchCV] vect__ngram_range=(1, 2), vect__smooth_idf=True, vect__sublinear_tf=True, vect__binary=False, vect__min_df=2, vect__stop_words=english, vect__use_idf=True \n",
        "[GridSearchCV]  vect__ngram_range=(1, 2), vect__smooth_idf=True, vect__sublinear_tf=True, vect__binary=False, vect__min_df=2, vect__stop_words=english, vect__use_idf=True, score=0.417604 -   1.6s"
       ]
      },
      {
       "output_type": "stream",
       "stream": "stdout",
       "text": [
        "\n",
        "[GridSearchCV] vect__ngram_range=(1, 1), vect__smooth_idf=False, vect__sublinear_tf=False, vect__binary=True, vect__min_df=1, vect__stop_words=None, vect__use_idf=False \n",
        "[GridSearchCV]  vect__ngram_range=(1, 1), vect__smooth_idf=False, vect__sublinear_tf=False, vect__binary=True, vect__min_df=1, vect__stop_words=None, vect__use_idf=False, score=0.444534 -   2.3s"
       ]
      },
      {
       "output_type": "stream",
       "stream": "stdout",
       "text": [
        "\n",
        "[GridSearchCV] vect__ngram_range=(1, 1), vect__smooth_idf=False, vect__sublinear_tf=False, vect__binary=True, vect__min_df=1, vect__stop_words=None, vect__use_idf=False \n",
        "[GridSearchCV]  vect__ngram_range=(1, 1), vect__smooth_idf=False, vect__sublinear_tf=False, vect__binary=True, vect__min_df=1, vect__stop_words=None, vect__use_idf=False, score=0.434444 -   2.1s"
       ]
      },
      {
       "output_type": "stream",
       "stream": "stdout",
       "text": [
        "\n",
        "[GridSearchCV] vect__ngram_range=(1, 1), vect__smooth_idf=False, vect__sublinear_tf=False, vect__binary=True, vect__min_df=1, vect__stop_words=None, vect__use_idf=False \n",
        "[GridSearchCV]  vect__ngram_range=(1, 1), vect__smooth_idf=False, vect__sublinear_tf=False, vect__binary=True, vect__min_df=1, vect__stop_words=None, vect__use_idf=False, score=0.421374 -   2.3s"
       ]
      },
      {
       "output_type": "stream",
       "stream": "stdout",
       "text": [
        "\n",
        "[GridSearchCV] vect__ngram_range=(1, 1), vect__smooth_idf=False, vect__sublinear_tf=False, vect__binary=True, vect__min_df=1, vect__stop_words=None, vect__use_idf=True \n",
        "[GridSearchCV]  vect__ngram_range=(1, 1), vect__smooth_idf=False, vect__sublinear_tf=False, vect__binary=True, vect__min_df=1, vect__stop_words=None, vect__use_idf=True, score=0.442614 -   1.8s"
       ]
      },
      {
       "output_type": "stream",
       "stream": "stdout",
       "text": [
        "\n",
        "[GridSearchCV] vect__ngram_range=(1, 1), vect__smooth_idf=False, vect__sublinear_tf=False, vect__binary=True, vect__min_df=1, vect__stop_words=None, vect__use_idf=True \n",
        "[GridSearchCV]  vect__ngram_range=(1, 1), vect__smooth_idf=False, vect__sublinear_tf=False, vect__binary=True, vect__min_df=1, vect__stop_words=None, vect__use_idf=True, score=0.457802 -   1.8s"
       ]
      },
      {
       "output_type": "stream",
       "stream": "stdout",
       "text": [
        "\n",
        "[GridSearchCV] vect__ngram_range=(1, 1), vect__smooth_idf=False, vect__sublinear_tf=False, vect__binary=True, vect__min_df=1, vect__stop_words=None, vect__use_idf=True \n",
        "[GridSearchCV]  vect__ngram_range=(1, 1), vect__smooth_idf=False, vect__sublinear_tf=False, vect__binary=True, vect__min_df=1, vect__stop_words=None, vect__use_idf=True, score=0.422653 -   1.5s"
       ]
      },
      {
       "output_type": "stream",
       "stream": "stdout",
       "text": [
        "\n",
        "[GridSearchCV] vect__ngram_range=(1, 1), vect__smooth_idf=False, vect__sublinear_tf=True, vect__binary=True, vect__min_df=1, vect__stop_words=None, vect__use_idf=False \n",
        "[GridSearchCV]  vect__ngram_range=(1, 1), vect__smooth_idf=False, vect__sublinear_tf=True, vect__binary=True, vect__min_df=1, vect__stop_words=None, vect__use_idf=False, score=0.444534 -   2.5s"
       ]
      },
      {
       "output_type": "stream",
       "stream": "stdout",
       "text": [
        "\n",
        "[GridSearchCV] vect__ngram_range=(1, 1), vect__smooth_idf=False, vect__sublinear_tf=True, vect__binary=True, vect__min_df=1, vect__stop_words=None, vect__use_idf=False \n",
        "[GridSearchCV]  vect__ngram_range=(1, 1), vect__smooth_idf=False, vect__sublinear_tf=True, vect__binary=True, vect__min_df=1, vect__stop_words=None, vect__use_idf=False, score=0.434444 -   2.2s"
       ]
      },
      {
       "output_type": "stream",
       "stream": "stdout",
       "text": [
        "\n",
        "[GridSearchCV] vect__ngram_range=(1, 1), vect__smooth_idf=False, vect__sublinear_tf=True, vect__binary=True, vect__min_df=1, vect__stop_words=None, vect__use_idf=False \n",
        "[GridSearchCV]  vect__ngram_range=(1, 1), vect__smooth_idf=False, vect__sublinear_tf=True, vect__binary=True, vect__min_df=1, vect__stop_words=None, vect__use_idf=False, score=0.421374 -   2.5s"
       ]
      },
      {
       "output_type": "stream",
       "stream": "stdout",
       "text": [
        "\n",
        "[GridSearchCV] vect__ngram_range=(1, 1), vect__smooth_idf=False, vect__sublinear_tf=True, vect__binary=True, vect__min_df=1, vect__stop_words=None, vect__use_idf=True \n",
        "[GridSearchCV]  vect__ngram_range=(1, 1), vect__smooth_idf=False, vect__sublinear_tf=True, vect__binary=True, vect__min_df=1, vect__stop_words=None, vect__use_idf=True, score=0.442614 -   1.7s"
       ]
      },
      {
       "output_type": "stream",
       "stream": "stdout",
       "text": [
        "\n",
        "[GridSearchCV] vect__ngram_range=(1, 1), vect__smooth_idf=False, vect__sublinear_tf=True, vect__binary=True, vect__min_df=1, vect__stop_words=None, vect__use_idf=True \n",
        "[GridSearchCV]  vect__ngram_range=(1, 1), vect__smooth_idf=False, vect__sublinear_tf=True, vect__binary=True, vect__min_df=1, vect__stop_words=None, vect__use_idf=True, score=0.457802 -   1.8s"
       ]
      },
      {
       "output_type": "stream",
       "stream": "stdout",
       "text": [
        "\n",
        "[GridSearchCV] vect__ngram_range=(1, 1), vect__smooth_idf=False, vect__sublinear_tf=True, vect__binary=True, vect__min_df=1, vect__stop_words=None, vect__use_idf=True \n",
        "[GridSearchCV]  vect__ngram_range=(1, 1), vect__smooth_idf=False, vect__sublinear_tf=True, vect__binary=True, vect__min_df=1, vect__stop_words=None, vect__use_idf=True, score=0.423268 -   1.6s"
       ]
      },
      {
       "output_type": "stream",
       "stream": "stdout",
       "text": [
        "\n",
        "[GridSearchCV] vect__ngram_range=(1, 1), vect__smooth_idf=False, vect__sublinear_tf=False, vect__binary=True, vect__min_df=1, vect__stop_words=english, vect__use_idf=False \n",
        "[GridSearchCV]  vect__ngram_range=(1, 1), vect__smooth_idf=False, vect__sublinear_tf=False, vect__binary=True, vect__min_df=1, vect__stop_words=english, vect__use_idf=False, score=0.413868 -   0.9s"
       ]
      },
      {
       "output_type": "stream",
       "stream": "stdout",
       "text": [
        "\n",
        "[GridSearchCV] vect__ngram_range=(1, 1), vect__smooth_idf=False, vect__sublinear_tf=False, vect__binary=True, vect__min_df=1, vect__stop_words=english, vect__use_idf=False \n",
        "[GridSearchCV]  vect__ngram_range=(1, 1), vect__smooth_idf=False, vect__sublinear_tf=False, vect__binary=True, vect__min_df=1, vect__stop_words=english, vect__use_idf=False, score=0.440206 -   1.1s"
       ]
      },
      {
       "output_type": "stream",
       "stream": "stdout",
       "text": [
        "\n",
        "[GridSearchCV] vect__ngram_range=(1, 1), vect__smooth_idf=False, vect__sublinear_tf=False, vect__binary=True, vect__min_df=1, vect__stop_words=english, vect__use_idf=False \n",
        "[GridSearchCV]  vect__ngram_range=(1, 1), vect__smooth_idf=False, vect__sublinear_tf=False, vect__binary=True, vect__min_df=1, vect__stop_words=english, vect__use_idf=False, score=0.406308 -   0.9s"
       ]
      },
      {
       "output_type": "stream",
       "stream": "stdout",
       "text": [
        "\n",
        "[GridSearchCV] vect__ngram_range=(1, 1), vect__smooth_idf=False, vect__sublinear_tf=False, vect__binary=True, vect__min_df=1, vect__stop_words=english, vect__use_idf=True \n",
        "[GridSearchCV]  vect__ngram_range=(1, 1), vect__smooth_idf=False, vect__sublinear_tf=False, vect__binary=True, vect__min_df=1, vect__stop_words=english, vect__use_idf=True, score=0.420066 -   0.8s"
       ]
      },
      {
       "output_type": "stream",
       "stream": "stdout",
       "text": [
        "\n",
        "[GridSearchCV] vect__ngram_range=(1, 1), vect__smooth_idf=False, vect__sublinear_tf=False, vect__binary=True, vect__min_df=1, vect__stop_words=english, vect__use_idf=True \n",
        "[GridSearchCV]  vect__ngram_range=(1, 1), vect__smooth_idf=False, vect__sublinear_tf=False, vect__binary=True, vect__min_df=1, vect__stop_words=english, vect__use_idf=True, score=0.446335 -   0.8s"
       ]
      },
      {
       "output_type": "stream",
       "stream": "stdout",
       "text": [
        "\n",
        "[GridSearchCV] vect__ngram_range=(1, 1), vect__smooth_idf=False, vect__sublinear_tf=False, vect__binary=True, vect__min_df=1, vect__stop_words=english, vect__use_idf=True \n",
        "[GridSearchCV]  vect__ngram_range=(1, 1), vect__smooth_idf=False, vect__sublinear_tf=False, vect__binary=True, vect__min_df=1, vect__stop_words=english, vect__use_idf=True, score=0.394817 -   0.8s"
       ]
      },
      {
       "output_type": "stream",
       "stream": "stdout",
       "text": [
        "\n",
        "[GridSearchCV] vect__ngram_range=(1, 1), vect__smooth_idf=False, vect__sublinear_tf=True, vect__binary=True, vect__min_df=1, vect__stop_words=english, vect__use_idf=False \n",
        "[GridSearchCV]  vect__ngram_range=(1, 1), vect__smooth_idf=False, vect__sublinear_tf=True, vect__binary=True, vect__min_df=1, vect__stop_words=english, vect__use_idf=False, score=0.413156 -   0.9s"
       ]
      },
      {
       "output_type": "stream",
       "stream": "stdout",
       "text": [
        "\n",
        "[GridSearchCV] vect__ngram_range=(1, 1), vect__smooth_idf=False, vect__sublinear_tf=True, vect__binary=True, vect__min_df=1, vect__stop_words=english, vect__use_idf=False \n",
        "[GridSearchCV]  vect__ngram_range=(1, 1), vect__smooth_idf=False, vect__sublinear_tf=True, vect__binary=True, vect__min_df=1, vect__stop_words=english, vect__use_idf=False, score=0.440206 -   0.8s"
       ]
      },
      {
       "output_type": "stream",
       "stream": "stdout",
       "text": [
        "\n",
        "[GridSearchCV] vect__ngram_range=(1, 1), vect__smooth_idf=False, vect__sublinear_tf=True, vect__binary=True, vect__min_df=1, vect__stop_words=english, vect__use_idf=False \n",
        "[GridSearchCV]  vect__ngram_range=(1, 1), vect__smooth_idf=False, vect__sublinear_tf=True, vect__binary=True, vect__min_df=1, vect__stop_words=english, vect__use_idf=False, score=0.406308 -   0.8s"
       ]
      },
      {
       "output_type": "stream",
       "stream": "stdout",
       "text": [
        "\n",
        "[GridSearchCV] vect__ngram_range=(1, 1), vect__smooth_idf=False, vect__sublinear_tf=True, vect__binary=True, vect__min_df=1, vect__stop_words=english, vect__use_idf=True \n",
        "[GridSearchCV]  vect__ngram_range=(1, 1), vect__smooth_idf=False, vect__sublinear_tf=True, vect__binary=True, vect__min_df=1, vect__stop_words=english, vect__use_idf=True, score=0.420066 -   0.8s"
       ]
      },
      {
       "output_type": "stream",
       "stream": "stdout",
       "text": [
        "\n",
        "[GridSearchCV] vect__ngram_range=(1, 1), vect__smooth_idf=False, vect__sublinear_tf=True, vect__binary=True, vect__min_df=1, vect__stop_words=english, vect__use_idf=True \n",
        "[GridSearchCV]  vect__ngram_range=(1, 1), vect__smooth_idf=False, vect__sublinear_tf=True, vect__binary=True, vect__min_df=1, vect__stop_words=english, vect__use_idf=True, score=0.446335 -   0.8s"
       ]
      },
      {
       "output_type": "stream",
       "stream": "stdout",
       "text": [
        "\n",
        "[GridSearchCV] vect__ngram_range=(1, 1), vect__smooth_idf=False, vect__sublinear_tf=True, vect__binary=True, vect__min_df=1, vect__stop_words=english, vect__use_idf=True \n",
        "[GridSearchCV]  vect__ngram_range=(1, 1), vect__smooth_idf=False, vect__sublinear_tf=True, vect__binary=True, vect__min_df=1, vect__stop_words=english, vect__use_idf=True, score=0.396408 -   0.8s"
       ]
      },
      {
       "output_type": "stream",
       "stream": "stdout",
       "text": [
        "\n",
        "[GridSearchCV] vect__ngram_range=(1, 1), vect__smooth_idf=True, vect__sublinear_tf=False, vect__binary=True, vect__min_df=1, vect__stop_words=None, vect__use_idf=False \n",
        "[GridSearchCV]  vect__ngram_range=(1, 1), vect__smooth_idf=True, vect__sublinear_tf=False, vect__binary=True, vect__min_df=1, vect__stop_words=None, vect__use_idf=False, score=0.444534 -   2.7s"
       ]
      },
      {
       "output_type": "stream",
       "stream": "stdout",
       "text": [
        "\n",
        "[GridSearchCV] vect__ngram_range=(1, 1), vect__smooth_idf=True, vect__sublinear_tf=False, vect__binary=True, vect__min_df=1, vect__stop_words=None, vect__use_idf=False \n",
        "[GridSearchCV]  vect__ngram_range=(1, 1), vect__smooth_idf=True, vect__sublinear_tf=False, vect__binary=True, vect__min_df=1, vect__stop_words=None, vect__use_idf=False, score=0.434444 -   2.1s"
       ]
      },
      {
       "output_type": "stream",
       "stream": "stdout",
       "text": [
        "\n",
        "[GridSearchCV] vect__ngram_range=(1, 1), vect__smooth_idf=True, vect__sublinear_tf=False, vect__binary=True, vect__min_df=1, vect__stop_words=None, vect__use_idf=False \n",
        "[GridSearchCV]  vect__ngram_range=(1, 1), vect__smooth_idf=True, vect__sublinear_tf=False, vect__binary=True, vect__min_df=1, vect__stop_words=None, vect__use_idf=False, score=0.421374 -   2.1s"
       ]
      },
      {
       "output_type": "stream",
       "stream": "stdout",
       "text": [
        "\n",
        "[GridSearchCV] vect__ngram_range=(1, 1), vect__smooth_idf=True, vect__sublinear_tf=False, vect__binary=True, vect__min_df=1, vect__stop_words=None, vect__use_idf=True \n",
        "[GridSearchCV]  vect__ngram_range=(1, 1), vect__smooth_idf=True, vect__sublinear_tf=False, vect__binary=True, vect__min_df=1, vect__stop_words=None, vect__use_idf=True, score=0.440409 -   1.5s"
       ]
      },
      {
       "output_type": "stream",
       "stream": "stdout",
       "text": [
        "\n",
        "[GridSearchCV] vect__ngram_range=(1, 1), vect__smooth_idf=True, vect__sublinear_tf=False, vect__binary=True, vect__min_df=1, vect__stop_words=None, vect__use_idf=True \n",
        "[GridSearchCV]  vect__ngram_range=(1, 1), vect__smooth_idf=True, vect__sublinear_tf=False, vect__binary=True, vect__min_df=1, vect__stop_words=None, vect__use_idf=True, score=0.459143 -   1.6s"
       ]
      },
      {
       "output_type": "stream",
       "stream": "stderr",
       "text": [
        "[Parallel(n_jobs=1)]: Done 200 jobs       | elapsed:  5.8min\n",
        "[Parallel(n_jobs=1)]: Done 221 jobs       | elapsed:  6.3min\n"
       ]
      },
      {
       "output_type": "stream",
       "stream": "stdout",
       "text": [
        "\n",
        "[GridSearchCV] vect__ngram_range=(1, 1), vect__smooth_idf=True, vect__sublinear_tf=False, vect__binary=True, vect__min_df=1, vect__stop_words=None, vect__use_idf=True \n",
        "[GridSearchCV]  vect__ngram_range=(1, 1), vect__smooth_idf=True, vect__sublinear_tf=False, vect__binary=True, vect__min_df=1, vect__stop_words=None, vect__use_idf=True, score=0.417552 -   1.5s"
       ]
      },
      {
       "output_type": "stream",
       "stream": "stdout",
       "text": [
        "\n",
        "[GridSearchCV] vect__ngram_range=(1, 1), vect__smooth_idf=True, vect__sublinear_tf=True, vect__binary=True, vect__min_df=1, vect__stop_words=None, vect__use_idf=False \n",
        "[GridSearchCV]  vect__ngram_range=(1, 1), vect__smooth_idf=True, vect__sublinear_tf=True, vect__binary=True, vect__min_df=1, vect__stop_words=None, vect__use_idf=False, score=0.444534 -   2.1s"
       ]
      },
      {
       "output_type": "stream",
       "stream": "stdout",
       "text": [
        "\n",
        "[GridSearchCV] vect__ngram_range=(1, 1), vect__smooth_idf=True, vect__sublinear_tf=True, vect__binary=True, vect__min_df=1, vect__stop_words=None, vect__use_idf=False \n",
        "[GridSearchCV]  vect__ngram_range=(1, 1), vect__smooth_idf=True, vect__sublinear_tf=True, vect__binary=True, vect__min_df=1, vect__stop_words=None, vect__use_idf=False, score=0.434444 -   2.0s"
       ]
      },
      {
       "output_type": "stream",
       "stream": "stdout",
       "text": [
        "\n",
        "[GridSearchCV] vect__ngram_range=(1, 1), vect__smooth_idf=True, vect__sublinear_tf=True, vect__binary=True, vect__min_df=1, vect__stop_words=None, vect__use_idf=False \n",
        "[GridSearchCV]  vect__ngram_range=(1, 1), vect__smooth_idf=True, vect__sublinear_tf=True, vect__binary=True, vect__min_df=1, vect__stop_words=None, vect__use_idf=False, score=0.421374 -   2.2s"
       ]
      },
      {
       "output_type": "stream",
       "stream": "stdout",
       "text": [
        "\n",
        "[GridSearchCV] vect__ngram_range=(1, 1), vect__smooth_idf=True, vect__sublinear_tf=True, vect__binary=True, vect__min_df=1, vect__stop_words=None, vect__use_idf=True \n",
        "[GridSearchCV]  vect__ngram_range=(1, 1), vect__smooth_idf=True, vect__sublinear_tf=True, vect__binary=True, vect__min_df=1, vect__stop_words=None, vect__use_idf=True, score=0.440409 -   1.9s"
       ]
      },
      {
       "output_type": "stream",
       "stream": "stdout",
       "text": [
        "\n",
        "[GridSearchCV] vect__ngram_range=(1, 1), vect__smooth_idf=True, vect__sublinear_tf=True, vect__binary=True, vect__min_df=1, vect__stop_words=None, vect__use_idf=True \n",
        "[GridSearchCV]  vect__ngram_range=(1, 1), vect__smooth_idf=True, vect__sublinear_tf=True, vect__binary=True, vect__min_df=1, vect__stop_words=None, vect__use_idf=True, score=0.459143 -   2.0s"
       ]
      },
      {
       "output_type": "stream",
       "stream": "stdout",
       "text": [
        "\n",
        "[GridSearchCV] vect__ngram_range=(1, 1), vect__smooth_idf=True, vect__sublinear_tf=True, vect__binary=True, vect__min_df=1, vect__stop_words=None, vect__use_idf=True \n",
        "[GridSearchCV]  vect__ngram_range=(1, 1), vect__smooth_idf=True, vect__sublinear_tf=True, vect__binary=True, vect__min_df=1, vect__stop_words=None, vect__use_idf=True, score=0.418165 -   1.5s"
       ]
      },
      {
       "output_type": "stream",
       "stream": "stdout",
       "text": [
        "\n",
        "[GridSearchCV] vect__ngram_range=(1, 1), vect__smooth_idf=True, vect__sublinear_tf=False, vect__binary=True, vect__min_df=1, vect__stop_words=english, vect__use_idf=False \n",
        "[GridSearchCV]  vect__ngram_range=(1, 1), vect__smooth_idf=True, vect__sublinear_tf=False, vect__binary=True, vect__min_df=1, vect__stop_words=english, vect__use_idf=False, score=0.413868 -   0.8s"
       ]
      },
      {
       "output_type": "stream",
       "stream": "stdout",
       "text": [
        "\n",
        "[GridSearchCV] vect__ngram_range=(1, 1), vect__smooth_idf=True, vect__sublinear_tf=False, vect__binary=True, vect__min_df=1, vect__stop_words=english, vect__use_idf=False \n",
        "[GridSearchCV]  vect__ngram_range=(1, 1), vect__smooth_idf=True, vect__sublinear_tf=False, vect__binary=True, vect__min_df=1, vect__stop_words=english, vect__use_idf=False, score=0.440206 -   0.8s"
       ]
      },
      {
       "output_type": "stream",
       "stream": "stdout",
       "text": [
        "\n",
        "[GridSearchCV] vect__ngram_range=(1, 1), vect__smooth_idf=True, vect__sublinear_tf=False, vect__binary=True, vect__min_df=1, vect__stop_words=english, vect__use_idf=False \n",
        "[GridSearchCV]  vect__ngram_range=(1, 1), vect__smooth_idf=True, vect__sublinear_tf=False, vect__binary=True, vect__min_df=1, vect__stop_words=english, vect__use_idf=False, score=0.406308 -   0.9s"
       ]
      },
      {
       "output_type": "stream",
       "stream": "stdout",
       "text": [
        "\n",
        "[GridSearchCV] vect__ngram_range=(1, 1), vect__smooth_idf=True, vect__sublinear_tf=False, vect__binary=True, vect__min_df=1, vect__stop_words=english, vect__use_idf=True \n",
        "[GridSearchCV]  vect__ngram_range=(1, 1), vect__smooth_idf=True, vect__sublinear_tf=False, vect__binary=True, vect__min_df=1, vect__stop_words=english, vect__use_idf=True, score=0.421865 -   0.8s"
       ]
      },
      {
       "output_type": "stream",
       "stream": "stdout",
       "text": [
        "\n",
        "[GridSearchCV] vect__ngram_range=(1, 1), vect__smooth_idf=True, vect__sublinear_tf=False, vect__binary=True, vect__min_df=1, vect__stop_words=english, vect__use_idf=True \n",
        "[GridSearchCV]  vect__ngram_range=(1, 1), vect__smooth_idf=True, vect__sublinear_tf=False, vect__binary=True, vect__min_df=1, vect__stop_words=english, vect__use_idf=True, score=0.442178 -   0.8s"
       ]
      },
      {
       "output_type": "stream",
       "stream": "stdout",
       "text": [
        "\n",
        "[GridSearchCV] vect__ngram_range=(1, 1), vect__smooth_idf=True, vect__sublinear_tf=False, vect__binary=True, vect__min_df=1, vect__stop_words=english, vect__use_idf=True \n",
        "[GridSearchCV]  vect__ngram_range=(1, 1), vect__smooth_idf=True, vect__sublinear_tf=False, vect__binary=True, vect__min_df=1, vect__stop_words=english, vect__use_idf=True, score=0.396521 -   0.8s"
       ]
      },
      {
       "output_type": "stream",
       "stream": "stdout",
       "text": [
        "\n",
        "[GridSearchCV] vect__ngram_range=(1, 1), vect__smooth_idf=True, vect__sublinear_tf=True, vect__binary=True, vect__min_df=1, vect__stop_words=english, vect__use_idf=False \n",
        "[GridSearchCV]  vect__ngram_range=(1, 1), vect__smooth_idf=True, vect__sublinear_tf=True, vect__binary=True, vect__min_df=1, vect__stop_words=english, vect__use_idf=False, score=0.413156 -   1.0s"
       ]
      },
      {
       "output_type": "stream",
       "stream": "stdout",
       "text": [
        "\n",
        "[GridSearchCV] vect__ngram_range=(1, 1), vect__smooth_idf=True, vect__sublinear_tf=True, vect__binary=True, vect__min_df=1, vect__stop_words=english, vect__use_idf=False \n",
        "[GridSearchCV]  vect__ngram_range=(1, 1), vect__smooth_idf=True, vect__sublinear_tf=True, vect__binary=True, vect__min_df=1, vect__stop_words=english, vect__use_idf=False, score=0.440206 -   0.9s"
       ]
      },
      {
       "output_type": "stream",
       "stream": "stdout",
       "text": [
        "\n",
        "[GridSearchCV] vect__ngram_range=(1, 1), vect__smooth_idf=True, vect__sublinear_tf=True, vect__binary=True, vect__min_df=1, vect__stop_words=english, vect__use_idf=False \n",
        "[GridSearchCV]  vect__ngram_range=(1, 1), vect__smooth_idf=True, vect__sublinear_tf=True, vect__binary=True, vect__min_df=1, vect__stop_words=english, vect__use_idf=False, score=0.406308 -   0.9s"
       ]
      },
      {
       "output_type": "stream",
       "stream": "stdout",
       "text": [
        "\n",
        "[GridSearchCV] vect__ngram_range=(1, 1), vect__smooth_idf=True, vect__sublinear_tf=True, vect__binary=True, vect__min_df=1, vect__stop_words=english, vect__use_idf=True \n",
        "[GridSearchCV]  vect__ngram_range=(1, 1), vect__smooth_idf=True, vect__sublinear_tf=True, vect__binary=True, vect__min_df=1, vect__stop_words=english, vect__use_idf=True, score=0.421865 -   0.9s"
       ]
      },
      {
       "output_type": "stream",
       "stream": "stdout",
       "text": [
        "\n",
        "[GridSearchCV] vect__ngram_range=(1, 1), vect__smooth_idf=True, vect__sublinear_tf=True, vect__binary=True, vect__min_df=1, vect__stop_words=english, vect__use_idf=True \n",
        "[GridSearchCV]  vect__ngram_range=(1, 1), vect__smooth_idf=True, vect__sublinear_tf=True, vect__binary=True, vect__min_df=1, vect__stop_words=english, vect__use_idf=True, score=0.442178 -   0.8s"
       ]
      },
      {
       "output_type": "stream",
       "stream": "stdout",
       "text": [
        "\n",
        "[GridSearchCV] vect__ngram_range=(1, 1), vect__smooth_idf=True, vect__sublinear_tf=True, vect__binary=True, vect__min_df=1, vect__stop_words=english, vect__use_idf=True \n",
        "[GridSearchCV]  vect__ngram_range=(1, 1), vect__smooth_idf=True, vect__sublinear_tf=True, vect__binary=True, vect__min_df=1, vect__stop_words=english, vect__use_idf=True, score=0.395684 -   0.7s"
       ]
      },
      {
       "output_type": "stream",
       "stream": "stdout",
       "text": [
        "\n",
        "[GridSearchCV] vect__ngram_range=(1, 2), vect__smooth_idf=False, vect__sublinear_tf=False, vect__binary=True, vect__min_df=1, vect__stop_words=None, vect__use_idf=False \n",
        "[GridSearchCV]  vect__ngram_range=(1, 2), vect__smooth_idf=False, vect__sublinear_tf=False, vect__binary=True, vect__min_df=1, vect__stop_words=None, vect__use_idf=False, score=0.453964 -   4.1s"
       ]
      },
      {
       "output_type": "stream",
       "stream": "stdout",
       "text": [
        "\n",
        "[GridSearchCV] vect__ngram_range=(1, 2), vect__smooth_idf=False, vect__sublinear_tf=False, vect__binary=True, vect__min_df=1, vect__stop_words=None, vect__use_idf=False \n",
        "[GridSearchCV]  vect__ngram_range=(1, 2), vect__smooth_idf=False, vect__sublinear_tf=False, vect__binary=True, vect__min_df=1, vect__stop_words=None, vect__use_idf=False, score=0.467506 -   3.6s"
       ]
      },
      {
       "output_type": "stream",
       "stream": "stdout",
       "text": [
        "\n",
        "[GridSearchCV] vect__ngram_range=(1, 2), vect__smooth_idf=False, vect__sublinear_tf=False, vect__binary=True, vect__min_df=1, vect__stop_words=None, vect__use_idf=False \n",
        "[GridSearchCV]  vect__ngram_range=(1, 2), vect__smooth_idf=False, vect__sublinear_tf=False, vect__binary=True, vect__min_df=1, vect__stop_words=None, vect__use_idf=False, score=0.437138 -   3.8s"
       ]
      },
      {
       "output_type": "stream",
       "stream": "stdout",
       "text": [
        "\n",
        "[GridSearchCV] vect__ngram_range=(1, 2), vect__smooth_idf=False, vect__sublinear_tf=False, vect__binary=True, vect__min_df=1, vect__stop_words=None, vect__use_idf=True \n",
        "[GridSearchCV]  vect__ngram_range=(1, 2), vect__smooth_idf=False, vect__sublinear_tf=False, vect__binary=True, vect__min_df=1, vect__stop_words=None, vect__use_idf=True, score=0.472833 -   2.7s"
       ]
      },
      {
       "output_type": "stream",
       "stream": "stdout",
       "text": [
        "\n",
        "[GridSearchCV] vect__ngram_range=(1, 2), vect__smooth_idf=False, vect__sublinear_tf=False, vect__binary=True, vect__min_df=1, vect__stop_words=None, vect__use_idf=True \n",
        "[GridSearchCV]  vect__ngram_range=(1, 2), vect__smooth_idf=False, vect__sublinear_tf=False, vect__binary=True, vect__min_df=1, vect__stop_words=None, vect__use_idf=True, score=0.477440 -   2.7s"
       ]
      },
      {
       "output_type": "stream",
       "stream": "stdout",
       "text": [
        "\n",
        "[GridSearchCV] vect__ngram_range=(1, 2), vect__smooth_idf=False, vect__sublinear_tf=False, vect__binary=True, vect__min_df=1, vect__stop_words=None, vect__use_idf=True \n",
        "[GridSearchCV]  vect__ngram_range=(1, 2), vect__smooth_idf=False, vect__sublinear_tf=False, vect__binary=True, vect__min_df=1, vect__stop_words=None, vect__use_idf=True, score=0.451711 -   2.7s"
       ]
      },
      {
       "output_type": "stream",
       "stream": "stdout",
       "text": [
        "\n",
        "[GridSearchCV] vect__ngram_range=(1, 2), vect__smooth_idf=False, vect__sublinear_tf=True, vect__binary=True, vect__min_df=1, vect__stop_words=None, vect__use_idf=False \n",
        "[GridSearchCV]  vect__ngram_range=(1, 2), vect__smooth_idf=False, vect__sublinear_tf=True, vect__binary=True, vect__min_df=1, vect__stop_words=None, vect__use_idf=False, score=0.453964 -   4.1s"
       ]
      },
      {
       "output_type": "stream",
       "stream": "stdout",
       "text": [
        "\n",
        "[GridSearchCV] vect__ngram_range=(1, 2), vect__smooth_idf=False, vect__sublinear_tf=True, vect__binary=True, vect__min_df=1, vect__stop_words=None, vect__use_idf=False \n",
        "[GridSearchCV]  vect__ngram_range=(1, 2), vect__smooth_idf=False, vect__sublinear_tf=True, vect__binary=True, vect__min_df=1, vect__stop_words=None, vect__use_idf=False, score=0.467506 -   4.3s"
       ]
      },
      {
       "output_type": "stream",
       "stream": "stdout",
       "text": [
        "\n",
        "[GridSearchCV] vect__ngram_range=(1, 2), vect__smooth_idf=False, vect__sublinear_tf=True, vect__binary=True, vect__min_df=1, vect__stop_words=None, vect__use_idf=False \n",
        "[GridSearchCV]  vect__ngram_range=(1, 2), vect__smooth_idf=False, vect__sublinear_tf=True, vect__binary=True, vect__min_df=1, vect__stop_words=None, vect__use_idf=False, score=0.437138 -   4.3s"
       ]
      },
      {
       "output_type": "stream",
       "stream": "stdout",
       "text": [
        "\n",
        "[GridSearchCV] vect__ngram_range=(1, 2), vect__smooth_idf=False, vect__sublinear_tf=True, vect__binary=True, vect__min_df=1, vect__stop_words=None, vect__use_idf=True \n",
        "[GridSearchCV]  vect__ngram_range=(1, 2), vect__smooth_idf=False, vect__sublinear_tf=True, vect__binary=True, vect__min_df=1, vect__stop_words=None, vect__use_idf=True, score=0.472833 -   2.7s"
       ]
      },
      {
       "output_type": "stream",
       "stream": "stdout",
       "text": [
        "\n",
        "[GridSearchCV] vect__ngram_range=(1, 2), vect__smooth_idf=False, vect__sublinear_tf=True, vect__binary=True, vect__min_df=1, vect__stop_words=None, vect__use_idf=True \n",
        "[GridSearchCV]  vect__ngram_range=(1, 2), vect__smooth_idf=False, vect__sublinear_tf=True, vect__binary=True, vect__min_df=1, vect__stop_words=None, vect__use_idf=True, score=0.477440 -   2.7s"
       ]
      },
      {
       "output_type": "stream",
       "stream": "stdout",
       "text": [
        "\n",
        "[GridSearchCV] vect__ngram_range=(1, 2), vect__smooth_idf=False, vect__sublinear_tf=True, vect__binary=True, vect__min_df=1, vect__stop_words=None, vect__use_idf=True \n",
        "[GridSearchCV]  vect__ngram_range=(1, 2), vect__smooth_idf=False, vect__sublinear_tf=True, vect__binary=True, vect__min_df=1, vect__stop_words=None, vect__use_idf=True, score=0.452385 -   2.6s"
       ]
      },
      {
       "output_type": "stream",
       "stream": "stdout",
       "text": [
        "\n",
        "[GridSearchCV] vect__ngram_range=(1, 2), vect__smooth_idf=False, vect__sublinear_tf=False, vect__binary=True, vect__min_df=1, vect__stop_words=english, vect__use_idf=False \n",
        "[GridSearchCV]  vect__ngram_range=(1, 2), vect__smooth_idf=False, vect__sublinear_tf=False, vect__binary=True, vect__min_df=1, vect__stop_words=english, vect__use_idf=False, score=0.432383 -   2.0s"
       ]
      },
      {
       "output_type": "stream",
       "stream": "stdout",
       "text": [
        "\n",
        "[GridSearchCV] vect__ngram_range=(1, 2), vect__smooth_idf=False, vect__sublinear_tf=False, vect__binary=True, vect__min_df=1, vect__stop_words=english, vect__use_idf=False \n",
        "[GridSearchCV]  vect__ngram_range=(1, 2), vect__smooth_idf=False, vect__sublinear_tf=False, vect__binary=True, vect__min_df=1, vect__stop_words=english, vect__use_idf=False, score=0.446583 -   2.3s"
       ]
      },
      {
       "output_type": "stream",
       "stream": "stdout",
       "text": [
        "\n",
        "[GridSearchCV] vect__ngram_range=(1, 2), vect__smooth_idf=False, vect__sublinear_tf=False, vect__binary=True, vect__min_df=1, vect__stop_words=english, vect__use_idf=False \n",
        "[GridSearchCV]  vect__ngram_range=(1, 2), vect__smooth_idf=False, vect__sublinear_tf=False, vect__binary=True, vect__min_df=1, vect__stop_words=english, vect__use_idf=False, score=0.414646 -   2.2s"
       ]
      },
      {
       "output_type": "stream",
       "stream": "stdout",
       "text": [
        "\n",
        "[GridSearchCV] vect__ngram_range=(1, 2), vect__smooth_idf=False, vect__sublinear_tf=False, vect__binary=True, vect__min_df=1, vect__stop_words=english, vect__use_idf=True \n",
        "[GridSearchCV]  vect__ngram_range=(1, 2), vect__smooth_idf=False, vect__sublinear_tf=False, vect__binary=True, vect__min_df=1, vect__stop_words=english, vect__use_idf=True, score=0.424315 -   1.7s"
       ]
      },
      {
       "output_type": "stream",
       "stream": "stdout",
       "text": [
        "\n",
        "[GridSearchCV] vect__ngram_range=(1, 2), vect__smooth_idf=False, vect__sublinear_tf=False, vect__binary=True, vect__min_df=1, vect__stop_words=english, vect__use_idf=True \n",
        "[GridSearchCV]  vect__ngram_range=(1, 2), vect__smooth_idf=False, vect__sublinear_tf=False, vect__binary=True, vect__min_df=1, vect__stop_words=english, vect__use_idf=True, score=0.440243 -   1.9s"
       ]
      },
      {
       "output_type": "stream",
       "stream": "stdout",
       "text": [
        "\n",
        "[GridSearchCV] vect__ngram_range=(1, 2), vect__smooth_idf=False, vect__sublinear_tf=False, vect__binary=True, vect__min_df=1, vect__stop_words=english, vect__use_idf=True \n",
        "[GridSearchCV]  vect__ngram_range=(1, 2), vect__smooth_idf=False, vect__sublinear_tf=False, vect__binary=True, vect__min_df=1, vect__stop_words=english, vect__use_idf=True, score=0.414736 -   1.9s"
       ]
      },
      {
       "output_type": "stream",
       "stream": "stdout",
       "text": [
        "\n",
        "[GridSearchCV] vect__ngram_range=(1, 2), vect__smooth_idf=False, vect__sublinear_tf=True, vect__binary=True, vect__min_df=1, vect__stop_words=english, vect__use_idf=False \n",
        "[GridSearchCV]  vect__ngram_range=(1, 2), vect__smooth_idf=False, vect__sublinear_tf=True, vect__binary=True, vect__min_df=1, vect__stop_words=english, vect__use_idf=False, score=0.432383 -   2.2s"
       ]
      },
      {
       "output_type": "stream",
       "stream": "stdout",
       "text": [
        "\n",
        "[GridSearchCV] vect__ngram_range=(1, 2), vect__smooth_idf=False, vect__sublinear_tf=True, vect__binary=True, vect__min_df=1, vect__stop_words=english, vect__use_idf=False \n",
        "[GridSearchCV]  vect__ngram_range=(1, 2), vect__smooth_idf=False, vect__sublinear_tf=True, vect__binary=True, vect__min_df=1, vect__stop_words=english, vect__use_idf=False, score=0.446583 -   2.2s"
       ]
      },
      {
       "output_type": "stream",
       "stream": "stdout",
       "text": [
        "\n",
        "[GridSearchCV] vect__ngram_range=(1, 2), vect__smooth_idf=False, vect__sublinear_tf=True, vect__binary=True, vect__min_df=1, vect__stop_words=english, vect__use_idf=False \n",
        "[GridSearchCV]  vect__ngram_range=(1, 2), vect__smooth_idf=False, vect__sublinear_tf=True, vect__binary=True, vect__min_df=1, vect__stop_words=english, vect__use_idf=False, score=0.414646 -   2.0s"
       ]
      },
      {
       "output_type": "stream",
       "stream": "stdout",
       "text": [
        "\n",
        "[GridSearchCV] vect__ngram_range=(1, 2), vect__smooth_idf=False, vect__sublinear_tf=True, vect__binary=True, vect__min_df=1, vect__stop_words=english, vect__use_idf=True \n",
        "[GridSearchCV]  vect__ngram_range=(1, 2), vect__smooth_idf=False, vect__sublinear_tf=True, vect__binary=True, vect__min_df=1, vect__stop_words=english, vect__use_idf=True, score=0.424315 -   1.7s"
       ]
      },
      {
       "output_type": "stream",
       "stream": "stdout",
       "text": [
        "\n",
        "[GridSearchCV] vect__ngram_range=(1, 2), vect__smooth_idf=False, vect__sublinear_tf=True, vect__binary=True, vect__min_df=1, vect__stop_words=english, vect__use_idf=True \n",
        "[GridSearchCV]  vect__ngram_range=(1, 2), vect__smooth_idf=False, vect__sublinear_tf=True, vect__binary=True, vect__min_df=1, vect__stop_words=english, vect__use_idf=True, score=0.440243 -   1.7s"
       ]
      },
      {
       "output_type": "stream",
       "stream": "stdout",
       "text": [
        "\n",
        "[GridSearchCV] vect__ngram_range=(1, 2), vect__smooth_idf=False, vect__sublinear_tf=True, vect__binary=True, vect__min_df=1, vect__stop_words=english, vect__use_idf=True \n",
        "[GridSearchCV]  vect__ngram_range=(1, 2), vect__smooth_idf=False, vect__sublinear_tf=True, vect__binary=True, vect__min_df=1, vect__stop_words=english, vect__use_idf=True, score=0.414736 -   1.7s"
       ]
      },
      {
       "output_type": "stream",
       "stream": "stdout",
       "text": [
        "\n",
        "[GridSearchCV] vect__ngram_range=(1, 2), vect__smooth_idf=True, vect__sublinear_tf=False, vect__binary=True, vect__min_df=1, vect__stop_words=None, vect__use_idf=False \n",
        "[GridSearchCV]  vect__ngram_range=(1, 2), vect__smooth_idf=True, vect__sublinear_tf=False, vect__binary=True, vect__min_df=1, vect__stop_words=None, vect__use_idf=False, score=0.453964 -   3.8s"
       ]
      },
      {
       "output_type": "stream",
       "stream": "stderr",
       "text": [
        "[Parallel(n_jobs=1)]: Done 242 jobs       | elapsed:  6.8min\n",
        "[Parallel(n_jobs=1)]: Done 265 jobs       | elapsed:  7.8min\n"
       ]
      },
      {
       "output_type": "stream",
       "stream": "stdout",
       "text": [
        "\n",
        "[GridSearchCV] vect__ngram_range=(1, 2), vect__smooth_idf=True, vect__sublinear_tf=False, vect__binary=True, vect__min_df=1, vect__stop_words=None, vect__use_idf=False \n",
        "[GridSearchCV]  vect__ngram_range=(1, 2), vect__smooth_idf=True, vect__sublinear_tf=False, vect__binary=True, vect__min_df=1, vect__stop_words=None, vect__use_idf=False, score=0.467506 -   3.6s"
       ]
      },
      {
       "output_type": "stream",
       "stream": "stdout",
       "text": [
        "\n",
        "[GridSearchCV] vect__ngram_range=(1, 2), vect__smooth_idf=True, vect__sublinear_tf=False, vect__binary=True, vect__min_df=1, vect__stop_words=None, vect__use_idf=False \n",
        "[GridSearchCV]  vect__ngram_range=(1, 2), vect__smooth_idf=True, vect__sublinear_tf=False, vect__binary=True, vect__min_df=1, vect__stop_words=None, vect__use_idf=False, score=0.437138 -   3.7s"
       ]
      },
      {
       "output_type": "stream",
       "stream": "stdout",
       "text": [
        "\n",
        "[GridSearchCV] vect__ngram_range=(1, 2), vect__smooth_idf=True, vect__sublinear_tf=False, vect__binary=True, vect__min_df=1, vect__stop_words=None, vect__use_idf=True \n",
        "[GridSearchCV]  vect__ngram_range=(1, 2), vect__smooth_idf=True, vect__sublinear_tf=False, vect__binary=True, vect__min_df=1, vect__stop_words=None, vect__use_idf=True, score=0.470953 -   3.1s"
       ]
      },
      {
       "output_type": "stream",
       "stream": "stdout",
       "text": [
        "\n",
        "[GridSearchCV] vect__ngram_range=(1, 2), vect__smooth_idf=True, vect__sublinear_tf=False, vect__binary=True, vect__min_df=1, vect__stop_words=None, vect__use_idf=True \n",
        "[GridSearchCV]  vect__ngram_range=(1, 2), vect__smooth_idf=True, vect__sublinear_tf=False, vect__binary=True, vect__min_df=1, vect__stop_words=None, vect__use_idf=True, score=0.477222 -   3.1s"
       ]
      },
      {
       "output_type": "stream",
       "stream": "stdout",
       "text": [
        "\n",
        "[GridSearchCV] vect__ngram_range=(1, 2), vect__smooth_idf=True, vect__sublinear_tf=False, vect__binary=True, vect__min_df=1, vect__stop_words=None, vect__use_idf=True \n",
        "[GridSearchCV]  vect__ngram_range=(1, 2), vect__smooth_idf=True, vect__sublinear_tf=False, vect__binary=True, vect__min_df=1, vect__stop_words=None, vect__use_idf=True, score=0.450648 -   2.7s"
       ]
      },
      {
       "output_type": "stream",
       "stream": "stdout",
       "text": [
        "\n",
        "[GridSearchCV] vect__ngram_range=(1, 2), vect__smooth_idf=True, vect__sublinear_tf=True, vect__binary=True, vect__min_df=1, vect__stop_words=None, vect__use_idf=False \n",
        "[GridSearchCV]  vect__ngram_range=(1, 2), vect__smooth_idf=True, vect__sublinear_tf=True, vect__binary=True, vect__min_df=1, vect__stop_words=None, vect__use_idf=False, score=0.453964 -   3.7s"
       ]
      },
      {
       "output_type": "stream",
       "stream": "stdout",
       "text": [
        "\n",
        "[GridSearchCV] vect__ngram_range=(1, 2), vect__smooth_idf=True, vect__sublinear_tf=True, vect__binary=True, vect__min_df=1, vect__stop_words=None, vect__use_idf=False \n",
        "[GridSearchCV]  vect__ngram_range=(1, 2), vect__smooth_idf=True, vect__sublinear_tf=True, vect__binary=True, vect__min_df=1, vect__stop_words=None, vect__use_idf=False, score=0.467506 -   3.7s"
       ]
      },
      {
       "output_type": "stream",
       "stream": "stdout",
       "text": [
        "\n",
        "[GridSearchCV] vect__ngram_range=(1, 2), vect__smooth_idf=True, vect__sublinear_tf=True, vect__binary=True, vect__min_df=1, vect__stop_words=None, vect__use_idf=False \n",
        "[GridSearchCV]  vect__ngram_range=(1, 2), vect__smooth_idf=True, vect__sublinear_tf=True, vect__binary=True, vect__min_df=1, vect__stop_words=None, vect__use_idf=False, score=0.437138 -   3.8s"
       ]
      },
      {
       "output_type": "stream",
       "stream": "stdout",
       "text": [
        "\n",
        "[GridSearchCV] vect__ngram_range=(1, 2), vect__smooth_idf=True, vect__sublinear_tf=True, vect__binary=True, vect__min_df=1, vect__stop_words=None, vect__use_idf=True \n",
        "[GridSearchCV]  vect__ngram_range=(1, 2), vect__smooth_idf=True, vect__sublinear_tf=True, vect__binary=True, vect__min_df=1, vect__stop_words=None, vect__use_idf=True, score=0.470953 -   2.8s"
       ]
      },
      {
       "output_type": "stream",
       "stream": "stdout",
       "text": [
        "\n",
        "[GridSearchCV] vect__ngram_range=(1, 2), vect__smooth_idf=True, vect__sublinear_tf=True, vect__binary=True, vect__min_df=1, vect__stop_words=None, vect__use_idf=True \n",
        "[GridSearchCV]  vect__ngram_range=(1, 2), vect__smooth_idf=True, vect__sublinear_tf=True, vect__binary=True, vect__min_df=1, vect__stop_words=None, vect__use_idf=True, score=0.477222 -   2.6s"
       ]
      },
      {
       "output_type": "stream",
       "stream": "stdout",
       "text": [
        "\n",
        "[GridSearchCV] vect__ngram_range=(1, 2), vect__smooth_idf=True, vect__sublinear_tf=True, vect__binary=True, vect__min_df=1, vect__stop_words=None, vect__use_idf=True \n",
        "[GridSearchCV]  vect__ngram_range=(1, 2), vect__smooth_idf=True, vect__sublinear_tf=True, vect__binary=True, vect__min_df=1, vect__stop_words=None, vect__use_idf=True, score=0.450648 -   2.7s"
       ]
      },
      {
       "output_type": "stream",
       "stream": "stdout",
       "text": [
        "\n",
        "[GridSearchCV] vect__ngram_range=(1, 2), vect__smooth_idf=True, vect__sublinear_tf=False, vect__binary=True, vect__min_df=1, vect__stop_words=english, vect__use_idf=False \n",
        "[GridSearchCV]  vect__ngram_range=(1, 2), vect__smooth_idf=True, vect__sublinear_tf=False, vect__binary=True, vect__min_df=1, vect__stop_words=english, vect__use_idf=False, score=0.432383 -   1.8s"
       ]
      },
      {
       "output_type": "stream",
       "stream": "stdout",
       "text": [
        "\n",
        "[GridSearchCV] vect__ngram_range=(1, 2), vect__smooth_idf=True, vect__sublinear_tf=False, vect__binary=True, vect__min_df=1, vect__stop_words=english, vect__use_idf=False \n",
        "[GridSearchCV]  vect__ngram_range=(1, 2), vect__smooth_idf=True, vect__sublinear_tf=False, vect__binary=True, vect__min_df=1, vect__stop_words=english, vect__use_idf=False, score=0.446583 -   1.8s"
       ]
      },
      {
       "output_type": "stream",
       "stream": "stdout",
       "text": [
        "\n",
        "[GridSearchCV] vect__ngram_range=(1, 2), vect__smooth_idf=True, vect__sublinear_tf=False, vect__binary=True, vect__min_df=1, vect__stop_words=english, vect__use_idf=False \n",
        "[GridSearchCV]  vect__ngram_range=(1, 2), vect__smooth_idf=True, vect__sublinear_tf=False, vect__binary=True, vect__min_df=1, vect__stop_words=english, vect__use_idf=False, score=0.414646 -   1.8s"
       ]
      },
      {
       "output_type": "stream",
       "stream": "stdout",
       "text": [
        "\n",
        "[GridSearchCV] vect__ngram_range=(1, 2), vect__smooth_idf=True, vect__sublinear_tf=False, vect__binary=True, vect__min_df=1, vect__stop_words=english, vect__use_idf=True \n",
        "[GridSearchCV]  vect__ngram_range=(1, 2), vect__smooth_idf=True, vect__sublinear_tf=False, vect__binary=True, vect__min_df=1, vect__stop_words=english, vect__use_idf=True, score=0.422997 -   1.7s"
       ]
      },
      {
       "output_type": "stream",
       "stream": "stdout",
       "text": [
        "\n",
        "[GridSearchCV] vect__ngram_range=(1, 2), vect__smooth_idf=True, vect__sublinear_tf=False, vect__binary=True, vect__min_df=1, vect__stop_words=english, vect__use_idf=True \n",
        "[GridSearchCV]  vect__ngram_range=(1, 2), vect__smooth_idf=True, vect__sublinear_tf=False, vect__binary=True, vect__min_df=1, vect__stop_words=english, vect__use_idf=True, score=0.442323 -   1.7s"
       ]
      },
      {
       "output_type": "stream",
       "stream": "stdout",
       "text": [
        "\n",
        "[GridSearchCV] vect__ngram_range=(1, 2), vect__smooth_idf=True, vect__sublinear_tf=False, vect__binary=True, vect__min_df=1, vect__stop_words=english, vect__use_idf=True \n",
        "[GridSearchCV]  vect__ngram_range=(1, 2), vect__smooth_idf=True, vect__sublinear_tf=False, vect__binary=True, vect__min_df=1, vect__stop_words=english, vect__use_idf=True, score=0.414026 -   1.7s"
       ]
      },
      {
       "output_type": "stream",
       "stream": "stdout",
       "text": [
        "\n",
        "[GridSearchCV] vect__ngram_range=(1, 2), vect__smooth_idf=True, vect__sublinear_tf=True, vect__binary=True, vect__min_df=1, vect__stop_words=english, vect__use_idf=False \n",
        "[GridSearchCV]  vect__ngram_range=(1, 2), vect__smooth_idf=True, vect__sublinear_tf=True, vect__binary=True, vect__min_df=1, vect__stop_words=english, vect__use_idf=False, score=0.432383 -   1.7s"
       ]
      },
      {
       "output_type": "stream",
       "stream": "stdout",
       "text": [
        "\n",
        "[GridSearchCV] vect__ngram_range=(1, 2), vect__smooth_idf=True, vect__sublinear_tf=True, vect__binary=True, vect__min_df=1, vect__stop_words=english, vect__use_idf=False \n",
        "[GridSearchCV]  vect__ngram_range=(1, 2), vect__smooth_idf=True, vect__sublinear_tf=True, vect__binary=True, vect__min_df=1, vect__stop_words=english, vect__use_idf=False, score=0.446583 -   1.7s"
       ]
      },
      {
       "output_type": "stream",
       "stream": "stdout",
       "text": [
        "\n",
        "[GridSearchCV] vect__ngram_range=(1, 2), vect__smooth_idf=True, vect__sublinear_tf=True, vect__binary=True, vect__min_df=1, vect__stop_words=english, vect__use_idf=False \n",
        "[GridSearchCV]  vect__ngram_range=(1, 2), vect__smooth_idf=True, vect__sublinear_tf=True, vect__binary=True, vect__min_df=1, vect__stop_words=english, vect__use_idf=False, score=0.414646 -   1.7s"
       ]
      },
      {
       "output_type": "stream",
       "stream": "stdout",
       "text": [
        "\n",
        "[GridSearchCV] vect__ngram_range=(1, 2), vect__smooth_idf=True, vect__sublinear_tf=True, vect__binary=True, vect__min_df=1, vect__stop_words=english, vect__use_idf=True \n",
        "[GridSearchCV]  vect__ngram_range=(1, 2), vect__smooth_idf=True, vect__sublinear_tf=True, vect__binary=True, vect__min_df=1, vect__stop_words=english, vect__use_idf=True, score=0.422997 -   1.6s"
       ]
      },
      {
       "output_type": "stream",
       "stream": "stdout",
       "text": [
        "\n",
        "[GridSearchCV] vect__ngram_range=(1, 2), vect__smooth_idf=True, vect__sublinear_tf=True, vect__binary=True, vect__min_df=1, vect__stop_words=english, vect__use_idf=True \n",
        "[GridSearchCV]  vect__ngram_range=(1, 2), vect__smooth_idf=True, vect__sublinear_tf=True, vect__binary=True, vect__min_df=1, vect__stop_words=english, vect__use_idf=True, score=0.442323 -   1.7s"
       ]
      },
      {
       "output_type": "stream",
       "stream": "stdout",
       "text": [
        "\n",
        "[GridSearchCV] vect__ngram_range=(1, 2), vect__smooth_idf=True, vect__sublinear_tf=True, vect__binary=True, vect__min_df=1, vect__stop_words=english, vect__use_idf=True \n",
        "[GridSearchCV]  vect__ngram_range=(1, 2), vect__smooth_idf=True, vect__sublinear_tf=True, vect__binary=True, vect__min_df=1, vect__stop_words=english, vect__use_idf=True, score=0.414026 -   1.7s"
       ]
      },
      {
       "output_type": "stream",
       "stream": "stdout",
       "text": [
        "\n",
        "[GridSearchCV] vect__ngram_range=(1, 1), vect__smooth_idf=False, vect__sublinear_tf=False, vect__binary=True, vect__min_df=2, vect__stop_words=None, vect__use_idf=False \n",
        "[GridSearchCV]  vect__ngram_range=(1, 1), vect__smooth_idf=False, vect__sublinear_tf=False, vect__binary=True, vect__min_df=2, vect__stop_words=None, vect__use_idf=False, score=0.445292 -   2.3s"
       ]
      },
      {
       "output_type": "stream",
       "stream": "stdout",
       "text": [
        "\n",
        "[GridSearchCV] vect__ngram_range=(1, 1), vect__smooth_idf=False, vect__sublinear_tf=False, vect__binary=True, vect__min_df=2, vect__stop_words=None, vect__use_idf=False \n",
        "[GridSearchCV]  vect__ngram_range=(1, 1), vect__smooth_idf=False, vect__sublinear_tf=False, vect__binary=True, vect__min_df=2, vect__stop_words=None, vect__use_idf=False, score=0.439727 -   2.1s"
       ]
      },
      {
       "output_type": "stream",
       "stream": "stdout",
       "text": [
        "\n",
        "[GridSearchCV] vect__ngram_range=(1, 1), vect__smooth_idf=False, vect__sublinear_tf=False, vect__binary=True, vect__min_df=2, vect__stop_words=None, vect__use_idf=False \n",
        "[GridSearchCV]  vect__ngram_range=(1, 1), vect__smooth_idf=False, vect__sublinear_tf=False, vect__binary=True, vect__min_df=2, vect__stop_words=None, vect__use_idf=False, score=0.419377 -   2.6s"
       ]
      },
      {
       "output_type": "stream",
       "stream": "stdout",
       "text": [
        "\n",
        "[GridSearchCV] vect__ngram_range=(1, 1), vect__smooth_idf=False, vect__sublinear_tf=False, vect__binary=True, vect__min_df=2, vect__stop_words=None, vect__use_idf=True \n",
        "[GridSearchCV]  vect__ngram_range=(1, 1), vect__smooth_idf=False, vect__sublinear_tf=False, vect__binary=True, vect__min_df=2, vect__stop_words=None, vect__use_idf=True, score=0.438372 -   2.0s"
       ]
      },
      {
       "output_type": "stream",
       "stream": "stdout",
       "text": [
        "\n",
        "[GridSearchCV] vect__ngram_range=(1, 1), vect__smooth_idf=False, vect__sublinear_tf=False, vect__binary=True, vect__min_df=2, vect__stop_words=None, vect__use_idf=True \n",
        "[GridSearchCV]  vect__ngram_range=(1, 1), vect__smooth_idf=False, vect__sublinear_tf=False, vect__binary=True, vect__min_df=2, vect__stop_words=None, vect__use_idf=True, score=0.458972 -   2.0s"
       ]
      },
      {
       "output_type": "stream",
       "stream": "stdout",
       "text": [
        "\n",
        "[GridSearchCV] vect__ngram_range=(1, 1), vect__smooth_idf=False, vect__sublinear_tf=False, vect__binary=True, vect__min_df=2, vect__stop_words=None, vect__use_idf=True \n",
        "[GridSearchCV]  vect__ngram_range=(1, 1), vect__smooth_idf=False, vect__sublinear_tf=False, vect__binary=True, vect__min_df=2, vect__stop_words=None, vect__use_idf=True, score=0.417944 -   1.7s"
       ]
      },
      {
       "output_type": "stream",
       "stream": "stdout",
       "text": [
        "\n",
        "[GridSearchCV] vect__ngram_range=(1, 1), vect__smooth_idf=False, vect__sublinear_tf=True, vect__binary=True, vect__min_df=2, vect__stop_words=None, vect__use_idf=False \n",
        "[GridSearchCV]  vect__ngram_range=(1, 1), vect__smooth_idf=False, vect__sublinear_tf=True, vect__binary=True, vect__min_df=2, vect__stop_words=None, vect__use_idf=False, score=0.445292 -   2.2s"
       ]
      },
      {
       "output_type": "stream",
       "stream": "stdout",
       "text": [
        "\n",
        "[GridSearchCV] vect__ngram_range=(1, 1), vect__smooth_idf=False, vect__sublinear_tf=True, vect__binary=True, vect__min_df=2, vect__stop_words=None, vect__use_idf=False \n",
        "[GridSearchCV]  vect__ngram_range=(1, 1), vect__smooth_idf=False, vect__sublinear_tf=True, vect__binary=True, vect__min_df=2, vect__stop_words=None, vect__use_idf=False, score=0.439727 -   2.0s"
       ]
      },
      {
       "output_type": "stream",
       "stream": "stdout",
       "text": [
        "\n",
        "[GridSearchCV] vect__ngram_range=(1, 1), vect__smooth_idf=False, vect__sublinear_tf=True, vect__binary=True, vect__min_df=2, vect__stop_words=None, vect__use_idf=False \n",
        "[GridSearchCV]  vect__ngram_range=(1, 1), vect__smooth_idf=False, vect__sublinear_tf=True, vect__binary=True, vect__min_df=2, vect__stop_words=None, vect__use_idf=False, score=0.419377 -   2.1s"
       ]
      },
      {
       "output_type": "stream",
       "stream": "stdout",
       "text": [
        "\n",
        "[GridSearchCV] vect__ngram_range=(1, 1), vect__smooth_idf=False, vect__sublinear_tf=True, vect__binary=True, vect__min_df=2, vect__stop_words=None, vect__use_idf=True \n",
        "[GridSearchCV]  vect__ngram_range=(1, 1), vect__smooth_idf=False, vect__sublinear_tf=True, vect__binary=True, vect__min_df=2, vect__stop_words=None, vect__use_idf=True, score=0.438372 -   1.6s"
       ]
      },
      {
       "output_type": "stream",
       "stream": "stdout",
       "text": [
        "\n",
        "[GridSearchCV] vect__ngram_range=(1, 1), vect__smooth_idf=False, vect__sublinear_tf=True, vect__binary=True, vect__min_df=2, vect__stop_words=None, vect__use_idf=True \n",
        "[GridSearchCV]  vect__ngram_range=(1, 1), vect__smooth_idf=False, vect__sublinear_tf=True, vect__binary=True, vect__min_df=2, vect__stop_words=None, vect__use_idf=True, score=0.458972 -   1.7s"
       ]
      },
      {
       "output_type": "stream",
       "stream": "stdout",
       "text": [
        "\n",
        "[GridSearchCV] vect__ngram_range=(1, 1), vect__smooth_idf=False, vect__sublinear_tf=True, vect__binary=True, vect__min_df=2, vect__stop_words=None, vect__use_idf=True \n",
        "[GridSearchCV]  vect__ngram_range=(1, 1), vect__smooth_idf=False, vect__sublinear_tf=True, vect__binary=True, vect__min_df=2, vect__stop_words=None, vect__use_idf=True, score=0.417944 -   1.6s"
       ]
      },
      {
       "output_type": "stream",
       "stream": "stdout",
       "text": [
        "\n",
        "[GridSearchCV] vect__ngram_range=(1, 1), vect__smooth_idf=False, vect__sublinear_tf=False, vect__binary=True, vect__min_df=2, vect__stop_words=english, vect__use_idf=False \n",
        "[GridSearchCV]  vect__ngram_range=(1, 1), vect__smooth_idf=False, vect__sublinear_tf=False, vect__binary=True, vect__min_df=2, vect__stop_words=english, vect__use_idf=False, score=0.412817 -   0.8s"
       ]
      },
      {
       "output_type": "stream",
       "stream": "stdout",
       "text": [
        "\n",
        "[GridSearchCV] vect__ngram_range=(1, 1), vect__smooth_idf=False, vect__sublinear_tf=False, vect__binary=True, vect__min_df=2, vect__stop_words=english, vect__use_idf=False \n",
        "[GridSearchCV]  vect__ngram_range=(1, 1), vect__smooth_idf=False, vect__sublinear_tf=False, vect__binary=True, vect__min_df=2, vect__stop_words=english, vect__use_idf=False, score=0.438030 -   0.8s"
       ]
      },
      {
       "output_type": "stream",
       "stream": "stdout",
       "text": [
        "\n",
        "[GridSearchCV] vect__ngram_range=(1, 1), vect__smooth_idf=False, vect__sublinear_tf=False, vect__binary=True, vect__min_df=2, vect__stop_words=english, vect__use_idf=False \n",
        "[GridSearchCV]  vect__ngram_range=(1, 1), vect__smooth_idf=False, vect__sublinear_tf=False, vect__binary=True, vect__min_df=2, vect__stop_words=english, vect__use_idf=False, score=0.406166 -   0.9s"
       ]
      },
      {
       "output_type": "stream",
       "stream": "stdout",
       "text": [
        "\n",
        "[GridSearchCV] vect__ngram_range=(1, 1), vect__smooth_idf=False, vect__sublinear_tf=False, vect__binary=True, vect__min_df=2, vect__stop_words=english, vect__use_idf=True \n",
        "[GridSearchCV]  vect__ngram_range=(1, 1), vect__smooth_idf=False, vect__sublinear_tf=False, vect__binary=True, vect__min_df=2, vect__stop_words=english, vect__use_idf=True, score=0.422507 -   0.8s"
       ]
      },
      {
       "output_type": "stream",
       "stream": "stdout",
       "text": [
        "\n",
        "[GridSearchCV] vect__ngram_range=(1, 1), vect__smooth_idf=False, vect__sublinear_tf=False, vect__binary=True, vect__min_df=2, vect__stop_words=english, vect__use_idf=True \n",
        "[GridSearchCV]  vect__ngram_range=(1, 1), vect__smooth_idf=False, vect__sublinear_tf=False, vect__binary=True, vect__min_df=2, vect__stop_words=english, vect__use_idf=True, score=0.437665 -   0.8s"
       ]
      },
      {
       "output_type": "stream",
       "stream": "stdout",
       "text": [
        "\n",
        "[GridSearchCV] vect__ngram_range=(1, 1), vect__smooth_idf=False, vect__sublinear_tf=False, vect__binary=True, vect__min_df=2, vect__stop_words=english, vect__use_idf=True \n",
        "[GridSearchCV]  vect__ngram_range=(1, 1), vect__smooth_idf=False, vect__sublinear_tf=False, vect__binary=True, vect__min_df=2, vect__stop_words=english, vect__use_idf=True, score=0.392120 -   0.8s"
       ]
      },
      {
       "output_type": "stream",
       "stream": "stdout",
       "text": [
        "\n",
        "[GridSearchCV] vect__ngram_range=(1, 1), vect__smooth_idf=False, vect__sublinear_tf=True, vect__binary=True, vect__min_df=2, vect__stop_words=english, vect__use_idf=False \n",
        "[GridSearchCV]  vect__ngram_range=(1, 1), vect__smooth_idf=False, vect__sublinear_tf=True, vect__binary=True, vect__min_df=2, vect__stop_words=english, vect__use_idf=False, score=0.413532 -   0.8s"
       ]
      },
      {
       "output_type": "stream",
       "stream": "stdout",
       "text": [
        "\n",
        "[GridSearchCV] vect__ngram_range=(1, 1), vect__smooth_idf=False, vect__sublinear_tf=True, vect__binary=True, vect__min_df=2, vect__stop_words=english, vect__use_idf=False \n",
        "[GridSearchCV]  vect__ngram_range=(1, 1), vect__smooth_idf=False, vect__sublinear_tf=True, vect__binary=True, vect__min_df=2, vect__stop_words=english, vect__use_idf=False, score=0.438030 -   0.9s"
       ]
      },
      {
       "output_type": "stream",
       "stream": "stdout",
       "text": [
        "\n",
        "[GridSearchCV] vect__ngram_range=(1, 1), vect__smooth_idf=False, vect__sublinear_tf=True, vect__binary=True, vect__min_df=2, vect__stop_words=english, vect__use_idf=False \n",
        "[GridSearchCV]  vect__ngram_range=(1, 1), vect__smooth_idf=False, vect__sublinear_tf=True, vect__binary=True, vect__min_df=2, vect__stop_words=english, vect__use_idf=False, score=0.406166 -   0.9s"
       ]
      },
      {
       "output_type": "stream",
       "stream": "stdout",
       "text": [
        "\n",
        "[GridSearchCV] vect__ngram_range=(1, 1), vect__smooth_idf=False, vect__sublinear_tf=True, vect__binary=True, vect__min_df=2, vect__stop_words=english, vect__use_idf=True \n",
        "[GridSearchCV]  vect__ngram_range=(1, 1), vect__smooth_idf=False, vect__sublinear_tf=True, vect__binary=True, vect__min_df=2, vect__stop_words=english, vect__use_idf=True, score=0.422507 -   0.8s"
       ]
      },
      {
       "output_type": "stream",
       "stream": "stdout",
       "text": [
        "\n",
        "[GridSearchCV] vect__ngram_range=(1, 1), vect__smooth_idf=False, vect__sublinear_tf=True, vect__binary=True, vect__min_df=2, vect__stop_words=english, vect__use_idf=True \n",
        "[GridSearchCV]  vect__ngram_range=(1, 1), vect__smooth_idf=False, vect__sublinear_tf=True, vect__binary=True, vect__min_df=2, vect__stop_words=english, vect__use_idf=True, score=0.437665 -   0.8s"
       ]
      },
      {
       "output_type": "stream",
       "stream": "stdout",
       "text": [
        "\n",
        "[GridSearchCV] vect__ngram_range=(1, 1), vect__smooth_idf=False, vect__sublinear_tf=True, vect__binary=True, vect__min_df=2, vect__stop_words=english, vect__use_idf=True \n",
        "[GridSearchCV]  vect__ngram_range=(1, 1), vect__smooth_idf=False, vect__sublinear_tf=True, vect__binary=True, vect__min_df=2, vect__stop_words=english, vect__use_idf=True, score=0.392120 -   0.8s"
       ]
      },
      {
       "output_type": "stream",
       "stream": "stdout",
       "text": [
        "\n",
        "[GridSearchCV] vect__ngram_range=(1, 1), vect__smooth_idf=True, vect__sublinear_tf=False, vect__binary=True, vect__min_df=2, vect__stop_words=None, vect__use_idf=False \n",
        "[GridSearchCV]  vect__ngram_range=(1, 1), vect__smooth_idf=True, vect__sublinear_tf=False, vect__binary=True, vect__min_df=2, vect__stop_words=None, vect__use_idf=False, score=0.445292 -   2.2s"
       ]
      },
      {
       "output_type": "stream",
       "stream": "stderr",
       "text": [
        "[Parallel(n_jobs=1)]: Done 288 jobs       | elapsed:  8.8min\n",
        "[Parallel(n_jobs=1)]: Done 313 jobs       | elapsed:  9.4min\n"
       ]
      },
      {
       "output_type": "stream",
       "stream": "stdout",
       "text": [
        "\n",
        "[GridSearchCV] vect__ngram_range=(1, 1), vect__smooth_idf=True, vect__sublinear_tf=False, vect__binary=True, vect__min_df=2, vect__stop_words=None, vect__use_idf=False \n",
        "[GridSearchCV]  vect__ngram_range=(1, 1), vect__smooth_idf=True, vect__sublinear_tf=False, vect__binary=True, vect__min_df=2, vect__stop_words=None, vect__use_idf=False, score=0.439727 -   1.9s"
       ]
      },
      {
       "output_type": "stream",
       "stream": "stdout",
       "text": [
        "\n",
        "[GridSearchCV] vect__ngram_range=(1, 1), vect__smooth_idf=True, vect__sublinear_tf=False, vect__binary=True, vect__min_df=2, vect__stop_words=None, vect__use_idf=False \n",
        "[GridSearchCV]  vect__ngram_range=(1, 1), vect__smooth_idf=True, vect__sublinear_tf=False, vect__binary=True, vect__min_df=2, vect__stop_words=None, vect__use_idf=False, score=0.419377 -   2.1s"
       ]
      },
      {
       "output_type": "stream",
       "stream": "stdout",
       "text": [
        "\n",
        "[GridSearchCV] vect__ngram_range=(1, 1), vect__smooth_idf=True, vect__sublinear_tf=False, vect__binary=True, vect__min_df=2, vect__stop_words=None, vect__use_idf=True \n",
        "[GridSearchCV]  vect__ngram_range=(1, 1), vect__smooth_idf=True, vect__sublinear_tf=False, vect__binary=True, vect__min_df=2, vect__stop_words=None, vect__use_idf=True, score=0.440431 -   1.7s"
       ]
      },
      {
       "output_type": "stream",
       "stream": "stdout",
       "text": [
        "\n",
        "[GridSearchCV] vect__ngram_range=(1, 1), vect__smooth_idf=True, vect__sublinear_tf=False, vect__binary=True, vect__min_df=2, vect__stop_words=None, vect__use_idf=True \n",
        "[GridSearchCV]  vect__ngram_range=(1, 1), vect__smooth_idf=True, vect__sublinear_tf=False, vect__binary=True, vect__min_df=2, vect__stop_words=None, vect__use_idf=True, score=0.457646 -   1.7s"
       ]
      },
      {
       "output_type": "stream",
       "stream": "stdout",
       "text": [
        "\n",
        "[GridSearchCV] vect__ngram_range=(1, 1), vect__smooth_idf=True, vect__sublinear_tf=False, vect__binary=True, vect__min_df=2, vect__stop_words=None, vect__use_idf=True \n",
        "[GridSearchCV]  vect__ngram_range=(1, 1), vect__smooth_idf=True, vect__sublinear_tf=False, vect__binary=True, vect__min_df=2, vect__stop_words=None, vect__use_idf=True, score=0.415836 -   1.6s"
       ]
      },
      {
       "output_type": "stream",
       "stream": "stdout",
       "text": [
        "\n",
        "[GridSearchCV] vect__ngram_range=(1, 1), vect__smooth_idf=True, vect__sublinear_tf=True, vect__binary=True, vect__min_df=2, vect__stop_words=None, vect__use_idf=False \n",
        "[GridSearchCV]  vect__ngram_range=(1, 1), vect__smooth_idf=True, vect__sublinear_tf=True, vect__binary=True, vect__min_df=2, vect__stop_words=None, vect__use_idf=False, score=0.445292 -   2.3s"
       ]
      },
      {
       "output_type": "stream",
       "stream": "stdout",
       "text": [
        "\n",
        "[GridSearchCV] vect__ngram_range=(1, 1), vect__smooth_idf=True, vect__sublinear_tf=True, vect__binary=True, vect__min_df=2, vect__stop_words=None, vect__use_idf=False \n",
        "[GridSearchCV]  vect__ngram_range=(1, 1), vect__smooth_idf=True, vect__sublinear_tf=True, vect__binary=True, vect__min_df=2, vect__stop_words=None, vect__use_idf=False, score=0.439727 -   2.0s"
       ]
      },
      {
       "output_type": "stream",
       "stream": "stdout",
       "text": [
        "\n",
        "[GridSearchCV] vect__ngram_range=(1, 1), vect__smooth_idf=True, vect__sublinear_tf=True, vect__binary=True, vect__min_df=2, vect__stop_words=None, vect__use_idf=False \n",
        "[GridSearchCV]  vect__ngram_range=(1, 1), vect__smooth_idf=True, vect__sublinear_tf=True, vect__binary=True, vect__min_df=2, vect__stop_words=None, vect__use_idf=False, score=0.419377 -   1.9s"
       ]
      },
      {
       "output_type": "stream",
       "stream": "stdout",
       "text": [
        "\n",
        "[GridSearchCV] vect__ngram_range=(1, 1), vect__smooth_idf=True, vect__sublinear_tf=True, vect__binary=True, vect__min_df=2, vect__stop_words=None, vect__use_idf=True \n",
        "[GridSearchCV]  vect__ngram_range=(1, 1), vect__smooth_idf=True, vect__sublinear_tf=True, vect__binary=True, vect__min_df=2, vect__stop_words=None, vect__use_idf=True, score=0.440431 -   1.7s"
       ]
      },
      {
       "output_type": "stream",
       "stream": "stdout",
       "text": [
        "\n",
        "[GridSearchCV] vect__ngram_range=(1, 1), vect__smooth_idf=True, vect__sublinear_tf=True, vect__binary=True, vect__min_df=2, vect__stop_words=None, vect__use_idf=True \n",
        "[GridSearchCV]  vect__ngram_range=(1, 1), vect__smooth_idf=True, vect__sublinear_tf=True, vect__binary=True, vect__min_df=2, vect__stop_words=None, vect__use_idf=True, score=0.457646 -   1.9s"
       ]
      },
      {
       "output_type": "stream",
       "stream": "stdout",
       "text": [
        "\n",
        "[GridSearchCV] vect__ngram_range=(1, 1), vect__smooth_idf=True, vect__sublinear_tf=True, vect__binary=True, vect__min_df=2, vect__stop_words=None, vect__use_idf=True \n",
        "[GridSearchCV]  vect__ngram_range=(1, 1), vect__smooth_idf=True, vect__sublinear_tf=True, vect__binary=True, vect__min_df=2, vect__stop_words=None, vect__use_idf=True, score=0.415836 -   1.5s"
       ]
      },
      {
       "output_type": "stream",
       "stream": "stdout",
       "text": [
        "\n",
        "[GridSearchCV] vect__ngram_range=(1, 1), vect__smooth_idf=True, vect__sublinear_tf=False, vect__binary=True, vect__min_df=2, vect__stop_words=english, vect__use_idf=False \n",
        "[GridSearchCV]  vect__ngram_range=(1, 1), vect__smooth_idf=True, vect__sublinear_tf=False, vect__binary=True, vect__min_df=2, vect__stop_words=english, vect__use_idf=False, score=0.412817 -   0.9s"
       ]
      },
      {
       "output_type": "stream",
       "stream": "stdout",
       "text": [
        "\n",
        "[GridSearchCV] vect__ngram_range=(1, 1), vect__smooth_idf=True, vect__sublinear_tf=False, vect__binary=True, vect__min_df=2, vect__stop_words=english, vect__use_idf=False \n",
        "[GridSearchCV]  vect__ngram_range=(1, 1), vect__smooth_idf=True, vect__sublinear_tf=False, vect__binary=True, vect__min_df=2, vect__stop_words=english, vect__use_idf=False, score=0.438030 -   1.0s"
       ]
      },
      {
       "output_type": "stream",
       "stream": "stdout",
       "text": [
        "\n",
        "[GridSearchCV] vect__ngram_range=(1, 1), vect__smooth_idf=True, vect__sublinear_tf=False, vect__binary=True, vect__min_df=2, vect__stop_words=english, vect__use_idf=False \n",
        "[GridSearchCV]  vect__ngram_range=(1, 1), vect__smooth_idf=True, vect__sublinear_tf=False, vect__binary=True, vect__min_df=2, vect__stop_words=english, vect__use_idf=False, score=0.406166 -   1.1s"
       ]
      },
      {
       "output_type": "stream",
       "stream": "stdout",
       "text": [
        "\n",
        "[GridSearchCV] vect__ngram_range=(1, 1), vect__smooth_idf=True, vect__sublinear_tf=False, vect__binary=True, vect__min_df=2, vect__stop_words=english, vect__use_idf=True \n",
        "[GridSearchCV]  vect__ngram_range=(1, 1), vect__smooth_idf=True, vect__sublinear_tf=False, vect__binary=True, vect__min_df=2, vect__stop_words=english, vect__use_idf=True, score=0.424071 -   0.9s"
       ]
      },
      {
       "output_type": "stream",
       "stream": "stdout",
       "text": [
        "\n",
        "[GridSearchCV] vect__ngram_range=(1, 1), vect__smooth_idf=True, vect__sublinear_tf=False, vect__binary=True, vect__min_df=2, vect__stop_words=english, vect__use_idf=True \n",
        "[GridSearchCV]  vect__ngram_range=(1, 1), vect__smooth_idf=True, vect__sublinear_tf=False, vect__binary=True, vect__min_df=2, vect__stop_words=english, vect__use_idf=True, score=0.440835 -   0.9s"
       ]
      },
      {
       "output_type": "stream",
       "stream": "stdout",
       "text": [
        "\n",
        "[GridSearchCV] vect__ngram_range=(1, 1), vect__smooth_idf=True, vect__sublinear_tf=False, vect__binary=True, vect__min_df=2, vect__stop_words=english, vect__use_idf=True \n",
        "[GridSearchCV]  vect__ngram_range=(1, 1), vect__smooth_idf=True, vect__sublinear_tf=False, vect__binary=True, vect__min_df=2, vect__stop_words=english, vect__use_idf=True, score=0.395201 -   1.0s"
       ]
      },
      {
       "output_type": "stream",
       "stream": "stdout",
       "text": [
        "\n",
        "[GridSearchCV] vect__ngram_range=(1, 1), vect__smooth_idf=True, vect__sublinear_tf=True, vect__binary=True, vect__min_df=2, vect__stop_words=english, vect__use_idf=False \n",
        "[GridSearchCV]  vect__ngram_range=(1, 1), vect__smooth_idf=True, vect__sublinear_tf=True, vect__binary=True, vect__min_df=2, vect__stop_words=english, vect__use_idf=False, score=0.412817 -   1.1s"
       ]
      },
      {
       "output_type": "stream",
       "stream": "stdout",
       "text": [
        "\n",
        "[GridSearchCV] vect__ngram_range=(1, 1), vect__smooth_idf=True, vect__sublinear_tf=True, vect__binary=True, vect__min_df=2, vect__stop_words=english, vect__use_idf=False \n",
        "[GridSearchCV]  vect__ngram_range=(1, 1), vect__smooth_idf=True, vect__sublinear_tf=True, vect__binary=True, vect__min_df=2, vect__stop_words=english, vect__use_idf=False, score=0.438030 -   1.0s"
       ]
      },
      {
       "output_type": "stream",
       "stream": "stdout",
       "text": [
        "\n",
        "[GridSearchCV] vect__ngram_range=(1, 1), vect__smooth_idf=True, vect__sublinear_tf=True, vect__binary=True, vect__min_df=2, vect__stop_words=english, vect__use_idf=False \n",
        "[GridSearchCV]  vect__ngram_range=(1, 1), vect__smooth_idf=True, vect__sublinear_tf=True, vect__binary=True, vect__min_df=2, vect__stop_words=english, vect__use_idf=False, score=0.406166 -   1.0s"
       ]
      },
      {
       "output_type": "stream",
       "stream": "stdout",
       "text": [
        "\n",
        "[GridSearchCV] vect__ngram_range=(1, 1), vect__smooth_idf=True, vect__sublinear_tf=True, vect__binary=True, vect__min_df=2, vect__stop_words=english, vect__use_idf=True \n",
        "[GridSearchCV]  vect__ngram_range=(1, 1), vect__smooth_idf=True, vect__sublinear_tf=True, vect__binary=True, vect__min_df=2, vect__stop_words=english, vect__use_idf=True, score=0.424071 -   0.9s"
       ]
      },
      {
       "output_type": "stream",
       "stream": "stdout",
       "text": [
        "\n",
        "[GridSearchCV] vect__ngram_range=(1, 1), vect__smooth_idf=True, vect__sublinear_tf=True, vect__binary=True, vect__min_df=2, vect__stop_words=english, vect__use_idf=True \n",
        "[GridSearchCV]  vect__ngram_range=(1, 1), vect__smooth_idf=True, vect__sublinear_tf=True, vect__binary=True, vect__min_df=2, vect__stop_words=english, vect__use_idf=True, score=0.440835 -   1.1s"
       ]
      },
      {
       "output_type": "stream",
       "stream": "stdout",
       "text": [
        "\n",
        "[GridSearchCV] vect__ngram_range=(1, 1), vect__smooth_idf=True, vect__sublinear_tf=True, vect__binary=True, vect__min_df=2, vect__stop_words=english, vect__use_idf=True \n",
        "[GridSearchCV]  vect__ngram_range=(1, 1), vect__smooth_idf=True, vect__sublinear_tf=True, vect__binary=True, vect__min_df=2, vect__stop_words=english, vect__use_idf=True, score=0.396043 -   0.9s"
       ]
      },
      {
       "output_type": "stream",
       "stream": "stdout",
       "text": [
        "\n",
        "[GridSearchCV] vect__ngram_range=(1, 2), vect__smooth_idf=False, vect__sublinear_tf=False, vect__binary=True, vect__min_df=2, vect__stop_words=None, vect__use_idf=False \n",
        "[GridSearchCV]  vect__ngram_range=(1, 2), vect__smooth_idf=False, vect__sublinear_tf=False, vect__binary=True, vect__min_df=2, vect__stop_words=None, vect__use_idf=False, score=0.455128 -   4.2s"
       ]
      },
      {
       "output_type": "stream",
       "stream": "stdout",
       "text": [
        "\n",
        "[GridSearchCV] vect__ngram_range=(1, 2), vect__smooth_idf=False, vect__sublinear_tf=False, vect__binary=True, vect__min_df=2, vect__stop_words=None, vect__use_idf=False \n",
        "[GridSearchCV]  vect__ngram_range=(1, 2), vect__smooth_idf=False, vect__sublinear_tf=False, vect__binary=True, vect__min_df=2, vect__stop_words=None, vect__use_idf=False, score=0.463365 -   3.6s"
       ]
      },
      {
       "output_type": "stream",
       "stream": "stdout",
       "text": [
        "\n",
        "[GridSearchCV] vect__ngram_range=(1, 2), vect__smooth_idf=False, vect__sublinear_tf=False, vect__binary=True, vect__min_df=2, vect__stop_words=None, vect__use_idf=False \n",
        "[GridSearchCV]  vect__ngram_range=(1, 2), vect__smooth_idf=False, vect__sublinear_tf=False, vect__binary=True, vect__min_df=2, vect__stop_words=None, vect__use_idf=False, score=0.440195 -   3.5s"
       ]
      },
      {
       "output_type": "stream",
       "stream": "stdout",
       "text": [
        "\n",
        "[GridSearchCV] vect__ngram_range=(1, 2), vect__smooth_idf=False, vect__sublinear_tf=False, vect__binary=True, vect__min_df=2, vect__stop_words=None, vect__use_idf=True \n",
        "[GridSearchCV]  vect__ngram_range=(1, 2), vect__smooth_idf=False, vect__sublinear_tf=False, vect__binary=True, vect__min_df=2, vect__stop_words=None, vect__use_idf=True, score=0.467632 -   2.5s"
       ]
      },
      {
       "output_type": "stream",
       "stream": "stdout",
       "text": [
        "\n",
        "[GridSearchCV] vect__ngram_range=(1, 2), vect__smooth_idf=False, vect__sublinear_tf=False, vect__binary=True, vect__min_df=2, vect__stop_words=None, vect__use_idf=True \n",
        "[GridSearchCV]  vect__ngram_range=(1, 2), vect__smooth_idf=False, vect__sublinear_tf=False, vect__binary=True, vect__min_df=2, vect__stop_words=None, vect__use_idf=True, score=0.469223 -   2.6s"
       ]
      },
      {
       "output_type": "stream",
       "stream": "stdout",
       "text": [
        "\n",
        "[GridSearchCV] vect__ngram_range=(1, 2), vect__smooth_idf=False, vect__sublinear_tf=False, vect__binary=True, vect__min_df=2, vect__stop_words=None, vect__use_idf=True \n",
        "[GridSearchCV]  vect__ngram_range=(1, 2), vect__smooth_idf=False, vect__sublinear_tf=False, vect__binary=True, vect__min_df=2, vect__stop_words=None, vect__use_idf=True, score=0.449399 -   2.5s"
       ]
      },
      {
       "output_type": "stream",
       "stream": "stdout",
       "text": [
        "\n",
        "[GridSearchCV] vect__ngram_range=(1, 2), vect__smooth_idf=False, vect__sublinear_tf=True, vect__binary=True, vect__min_df=2, vect__stop_words=None, vect__use_idf=False \n",
        "[GridSearchCV]  vect__ngram_range=(1, 2), vect__smooth_idf=False, vect__sublinear_tf=True, vect__binary=True, vect__min_df=2, vect__stop_words=None, vect__use_idf=False, score=0.455128 -   3.7s"
       ]
      },
      {
       "output_type": "stream",
       "stream": "stdout",
       "text": [
        "\n",
        "[GridSearchCV] vect__ngram_range=(1, 2), vect__smooth_idf=False, vect__sublinear_tf=True, vect__binary=True, vect__min_df=2, vect__stop_words=None, vect__use_idf=False \n",
        "[GridSearchCV]  vect__ngram_range=(1, 2), vect__smooth_idf=False, vect__sublinear_tf=True, vect__binary=True, vect__min_df=2, vect__stop_words=None, vect__use_idf=False, score=0.463365 -   3.7s"
       ]
      },
      {
       "output_type": "stream",
       "stream": "stdout",
       "text": [
        "\n",
        "[GridSearchCV] vect__ngram_range=(1, 2), vect__smooth_idf=False, vect__sublinear_tf=True, vect__binary=True, vect__min_df=2, vect__stop_words=None, vect__use_idf=False \n",
        "[GridSearchCV]  vect__ngram_range=(1, 2), vect__smooth_idf=False, vect__sublinear_tf=True, vect__binary=True, vect__min_df=2, vect__stop_words=None, vect__use_idf=False, score=0.440195 -   3.5s"
       ]
      },
      {
       "output_type": "stream",
       "stream": "stdout",
       "text": [
        "\n",
        "[GridSearchCV] vect__ngram_range=(1, 2), vect__smooth_idf=False, vect__sublinear_tf=True, vect__binary=True, vect__min_df=2, vect__stop_words=None, vect__use_idf=True \n",
        "[GridSearchCV]  vect__ngram_range=(1, 2), vect__smooth_idf=False, vect__sublinear_tf=True, vect__binary=True, vect__min_df=2, vect__stop_words=None, vect__use_idf=True, score=0.467632 -   2.5s"
       ]
      },
      {
       "output_type": "stream",
       "stream": "stdout",
       "text": [
        "\n",
        "[GridSearchCV] vect__ngram_range=(1, 2), vect__smooth_idf=False, vect__sublinear_tf=True, vect__binary=True, vect__min_df=2, vect__stop_words=None, vect__use_idf=True \n",
        "[GridSearchCV]  vect__ngram_range=(1, 2), vect__smooth_idf=False, vect__sublinear_tf=True, vect__binary=True, vect__min_df=2, vect__stop_words=None, vect__use_idf=True, score=0.469223 -   2.5s"
       ]
      },
      {
       "output_type": "stream",
       "stream": "stdout",
       "text": [
        "\n",
        "[GridSearchCV] vect__ngram_range=(1, 2), vect__smooth_idf=False, vect__sublinear_tf=True, vect__binary=True, vect__min_df=2, vect__stop_words=None, vect__use_idf=True \n",
        "[GridSearchCV]  vect__ngram_range=(1, 2), vect__smooth_idf=False, vect__sublinear_tf=True, vect__binary=True, vect__min_df=2, vect__stop_words=None, vect__use_idf=True, score=0.449399 -   2.5s"
       ]
      },
      {
       "output_type": "stream",
       "stream": "stdout",
       "text": [
        "\n",
        "[GridSearchCV] vect__ngram_range=(1, 2), vect__smooth_idf=False, vect__sublinear_tf=False, vect__binary=True, vect__min_df=2, vect__stop_words=english, vect__use_idf=False \n",
        "[GridSearchCV]  vect__ngram_range=(1, 2), vect__smooth_idf=False, vect__sublinear_tf=False, vect__binary=True, vect__min_df=2, vect__stop_words=english, vect__use_idf=False, score=0.427434 -   1.6s"
       ]
      },
      {
       "output_type": "stream",
       "stream": "stdout",
       "text": [
        "\n",
        "[GridSearchCV] vect__ngram_range=(1, 2), vect__smooth_idf=False, vect__sublinear_tf=False, vect__binary=True, vect__min_df=2, vect__stop_words=english, vect__use_idf=False \n",
        "[GridSearchCV]  vect__ngram_range=(1, 2), vect__smooth_idf=False, vect__sublinear_tf=False, vect__binary=True, vect__min_df=2, vect__stop_words=english, vect__use_idf=False, score=0.445849 -   1.6s"
       ]
      },
      {
       "output_type": "stream",
       "stream": "stdout",
       "text": [
        "\n",
        "[GridSearchCV] vect__ngram_range=(1, 2), vect__smooth_idf=False, vect__sublinear_tf=False, vect__binary=True, vect__min_df=2, vect__stop_words=english, vect__use_idf=False \n",
        "[GridSearchCV]  vect__ngram_range=(1, 2), vect__smooth_idf=False, vect__sublinear_tf=False, vect__binary=True, vect__min_df=2, vect__stop_words=english, vect__use_idf=False, score=0.414648 -   1.6s"
       ]
      },
      {
       "output_type": "stream",
       "stream": "stdout",
       "text": [
        "\n",
        "[GridSearchCV] vect__ngram_range=(1, 2), vect__smooth_idf=False, vect__sublinear_tf=False, vect__binary=True, vect__min_df=2, vect__stop_words=english, vect__use_idf=True \n",
        "[GridSearchCV]  vect__ngram_range=(1, 2), vect__smooth_idf=False, vect__sublinear_tf=False, vect__binary=True, vect__min_df=2, vect__stop_words=english, vect__use_idf=True, score=0.422494 -   1.5s"
       ]
      },
      {
       "output_type": "stream",
       "stream": "stdout",
       "text": [
        "\n",
        "[GridSearchCV] vect__ngram_range=(1, 2), vect__smooth_idf=False, vect__sublinear_tf=False, vect__binary=True, vect__min_df=2, vect__stop_words=english, vect__use_idf=True \n",
        "[GridSearchCV]  vect__ngram_range=(1, 2), vect__smooth_idf=False, vect__sublinear_tf=False, vect__binary=True, vect__min_df=2, vect__stop_words=english, vect__use_idf=True, score=0.445387 -   1.5s"
       ]
      },
      {
       "output_type": "stream",
       "stream": "stdout",
       "text": [
        "\n",
        "[GridSearchCV] vect__ngram_range=(1, 2), vect__smooth_idf=False, vect__sublinear_tf=False, vect__binary=True, vect__min_df=2, vect__stop_words=english, vect__use_idf=True \n",
        "[GridSearchCV]  vect__ngram_range=(1, 2), vect__smooth_idf=False, vect__sublinear_tf=False, vect__binary=True, vect__min_df=2, vect__stop_words=english, vect__use_idf=True, score=0.410525 -   1.8s"
       ]
      },
      {
       "output_type": "stream",
       "stream": "stdout",
       "text": [
        "\n",
        "[GridSearchCV] vect__ngram_range=(1, 2), vect__smooth_idf=False, vect__sublinear_tf=True, vect__binary=True, vect__min_df=2, vect__stop_words=english, vect__use_idf=False \n",
        "[GridSearchCV]  vect__ngram_range=(1, 2), vect__smooth_idf=False, vect__sublinear_tf=True, vect__binary=True, vect__min_df=2, vect__stop_words=english, vect__use_idf=False, score=0.426710 -   2.1s"
       ]
      },
      {
       "output_type": "stream",
       "stream": "stdout",
       "text": [
        "\n",
        "[GridSearchCV] vect__ngram_range=(1, 2), vect__smooth_idf=False, vect__sublinear_tf=True, vect__binary=True, vect__min_df=2, vect__stop_words=english, vect__use_idf=False \n",
        "[GridSearchCV]  vect__ngram_range=(1, 2), vect__smooth_idf=False, vect__sublinear_tf=True, vect__binary=True, vect__min_df=2, vect__stop_words=english, vect__use_idf=False, score=0.445849 -   1.9s"
       ]
      },
      {
       "output_type": "stream",
       "stream": "stdout",
       "text": [
        "\n",
        "[GridSearchCV] vect__ngram_range=(1, 2), vect__smooth_idf=False, vect__sublinear_tf=True, vect__binary=True, vect__min_df=2, vect__stop_words=english, vect__use_idf=False \n",
        "[GridSearchCV]  vect__ngram_range=(1, 2), vect__smooth_idf=False, vect__sublinear_tf=True, vect__binary=True, vect__min_df=2, vect__stop_words=english, vect__use_idf=False, score=0.414648 -   2.0s"
       ]
      },
      {
       "output_type": "stream",
       "stream": "stdout",
       "text": [
        "\n",
        "[GridSearchCV] vect__ngram_range=(1, 2), vect__smooth_idf=False, vect__sublinear_tf=True, vect__binary=True, vect__min_df=2, vect__stop_words=english, vect__use_idf=True \n",
        "[GridSearchCV]  vect__ngram_range=(1, 2), vect__smooth_idf=False, vect__sublinear_tf=True, vect__binary=True, vect__min_df=2, vect__stop_words=english, vect__use_idf=True, score=0.422494 -   1.6s"
       ]
      },
      {
       "output_type": "stream",
       "stream": "stdout",
       "text": [
        "\n",
        "[GridSearchCV] vect__ngram_range=(1, 2), vect__smooth_idf=False, vect__sublinear_tf=True, vect__binary=True, vect__min_df=2, vect__stop_words=english, vect__use_idf=True \n",
        "[GridSearchCV]  vect__ngram_range=(1, 2), vect__smooth_idf=False, vect__sublinear_tf=True, vect__binary=True, vect__min_df=2, vect__stop_words=english, vect__use_idf=True, score=0.445387 -   1.5s"
       ]
      },
      {
       "output_type": "stream",
       "stream": "stdout",
       "text": [
        "\n",
        "[GridSearchCV] vect__ngram_range=(1, 2), vect__smooth_idf=False, vect__sublinear_tf=True, vect__binary=True, vect__min_df=2, vect__stop_words=english, vect__use_idf=True \n",
        "[GridSearchCV]  vect__ngram_range=(1, 2), vect__smooth_idf=False, vect__sublinear_tf=True, vect__binary=True, vect__min_df=2, vect__stop_words=english, vect__use_idf=True, score=0.410525 -   1.5s"
       ]
      },
      {
       "output_type": "stream",
       "stream": "stdout",
       "text": [
        "\n",
        "[GridSearchCV] vect__ngram_range=(1, 2), vect__smooth_idf=True, vect__sublinear_tf=False, vect__binary=True, vect__min_df=2, vect__stop_words=None, vect__use_idf=False \n",
        "[GridSearchCV]  vect__ngram_range=(1, 2), vect__smooth_idf=True, vect__sublinear_tf=False, vect__binary=True, vect__min_df=2, vect__stop_words=None, vect__use_idf=False, score=0.455128 -   3.7s"
       ]
      },
      {
       "output_type": "stream",
       "stream": "stdout",
       "text": [
        "\n",
        "[GridSearchCV] vect__ngram_range=(1, 2), vect__smooth_idf=True, vect__sublinear_tf=False, vect__binary=True, vect__min_df=2, vect__stop_words=None, vect__use_idf=False \n",
        "[GridSearchCV]  vect__ngram_range=(1, 2), vect__smooth_idf=True, vect__sublinear_tf=False, vect__binary=True, vect__min_df=2, vect__stop_words=None, vect__use_idf=False, score=0.463365 -   4.1s"
       ]
      },
      {
       "output_type": "stream",
       "stream": "stdout",
       "text": [
        "\n",
        "[GridSearchCV] vect__ngram_range=(1, 2), vect__smooth_idf=True, vect__sublinear_tf=False, vect__binary=True, vect__min_df=2, vect__stop_words=None, vect__use_idf=False \n",
        "[GridSearchCV]  vect__ngram_range=(1, 2), vect__smooth_idf=True, vect__sublinear_tf=False, vect__binary=True, vect__min_df=2, vect__stop_words=None, vect__use_idf=False, score=0.440195 -   4.1s"
       ]
      },
      {
       "output_type": "stream",
       "stream": "stdout",
       "text": [
        "\n",
        "[GridSearchCV] vect__ngram_range=(1, 2), vect__smooth_idf=True, vect__sublinear_tf=False, vect__binary=True, vect__min_df=2, vect__stop_words=None, vect__use_idf=True \n",
        "[GridSearchCV]  vect__ngram_range=(1, 2), vect__smooth_idf=True, vect__sublinear_tf=False, vect__binary=True, vect__min_df=2, vect__stop_words=None, vect__use_idf=True, score=0.466648 -   2.6s"
       ]
      },
      {
       "output_type": "stream",
       "stream": "stdout",
       "text": [
        "\n",
        "[GridSearchCV] vect__ngram_range=(1, 2), vect__smooth_idf=True, vect__sublinear_tf=False, vect__binary=True, vect__min_df=2, vect__stop_words=None, vect__use_idf=True \n",
        "[GridSearchCV]  vect__ngram_range=(1, 2), vect__smooth_idf=True, vect__sublinear_tf=False, vect__binary=True, vect__min_df=2, vect__stop_words=None, vect__use_idf=True, score=0.469241 -   2.6s"
       ]
      },
      {
       "output_type": "stream",
       "stream": "stderr",
       "text": [
        "[Parallel(n_jobs=1)]: Done 338 jobs       | elapsed: 10.1min\n",
        "[Parallel(n_jobs=1)]: Done 365 jobs       | elapsed: 11.2min\n"
       ]
      },
      {
       "output_type": "stream",
       "stream": "stdout",
       "text": [
        "\n",
        "[GridSearchCV] vect__ngram_range=(1, 2), vect__smooth_idf=True, vect__sublinear_tf=False, vect__binary=True, vect__min_df=2, vect__stop_words=None, vect__use_idf=True \n",
        "[GridSearchCV]  vect__ngram_range=(1, 2), vect__smooth_idf=True, vect__sublinear_tf=False, vect__binary=True, vect__min_df=2, vect__stop_words=None, vect__use_idf=True, score=0.452324 -   2.6s"
       ]
      },
      {
       "output_type": "stream",
       "stream": "stdout",
       "text": [
        "\n",
        "[GridSearchCV] vect__ngram_range=(1, 2), vect__smooth_idf=True, vect__sublinear_tf=True, vect__binary=True, vect__min_df=2, vect__stop_words=None, vect__use_idf=False \n",
        "[GridSearchCV]  vect__ngram_range=(1, 2), vect__smooth_idf=True, vect__sublinear_tf=True, vect__binary=True, vect__min_df=2, vect__stop_words=None, vect__use_idf=False, score=0.455128 -   4.1s"
       ]
      },
      {
       "output_type": "stream",
       "stream": "stdout",
       "text": [
        "\n",
        "[GridSearchCV] vect__ngram_range=(1, 2), vect__smooth_idf=True, vect__sublinear_tf=True, vect__binary=True, vect__min_df=2, vect__stop_words=None, vect__use_idf=False \n",
        "[GridSearchCV]  vect__ngram_range=(1, 2), vect__smooth_idf=True, vect__sublinear_tf=True, vect__binary=True, vect__min_df=2, vect__stop_words=None, vect__use_idf=False, score=0.463365 -   3.7s"
       ]
      },
      {
       "output_type": "stream",
       "stream": "stdout",
       "text": [
        "\n",
        "[GridSearchCV] vect__ngram_range=(1, 2), vect__smooth_idf=True, vect__sublinear_tf=True, vect__binary=True, vect__min_df=2, vect__stop_words=None, vect__use_idf=False \n",
        "[GridSearchCV]  vect__ngram_range=(1, 2), vect__smooth_idf=True, vect__sublinear_tf=True, vect__binary=True, vect__min_df=2, vect__stop_words=None, vect__use_idf=False, score=0.439375 -   3.9s"
       ]
      },
      {
       "output_type": "stream",
       "stream": "stdout",
       "text": [
        "\n",
        "[GridSearchCV] vect__ngram_range=(1, 2), vect__smooth_idf=True, vect__sublinear_tf=True, vect__binary=True, vect__min_df=2, vect__stop_words=None, vect__use_idf=True \n",
        "[GridSearchCV]  vect__ngram_range=(1, 2), vect__smooth_idf=True, vect__sublinear_tf=True, vect__binary=True, vect__min_df=2, vect__stop_words=None, vect__use_idf=True, score=0.466648 -   3.1s"
       ]
      },
      {
       "output_type": "stream",
       "stream": "stdout",
       "text": [
        "\n",
        "[GridSearchCV] vect__ngram_range=(1, 2), vect__smooth_idf=True, vect__sublinear_tf=True, vect__binary=True, vect__min_df=2, vect__stop_words=None, vect__use_idf=True \n",
        "[GridSearchCV]  vect__ngram_range=(1, 2), vect__smooth_idf=True, vect__sublinear_tf=True, vect__binary=True, vect__min_df=2, vect__stop_words=None, vect__use_idf=True, score=0.469241 -   3.3s"
       ]
      },
      {
       "output_type": "stream",
       "stream": "stdout",
       "text": [
        "\n",
        "[GridSearchCV] vect__ngram_range=(1, 2), vect__smooth_idf=True, vect__sublinear_tf=True, vect__binary=True, vect__min_df=2, vect__stop_words=None, vect__use_idf=True \n",
        "[GridSearchCV]  vect__ngram_range=(1, 2), vect__smooth_idf=True, vect__sublinear_tf=True, vect__binary=True, vect__min_df=2, vect__stop_words=None, vect__use_idf=True, score=0.452324 -   3.1s"
       ]
      },
      {
       "output_type": "stream",
       "stream": "stdout",
       "text": [
        "\n",
        "[GridSearchCV] vect__ngram_range=(1, 2), vect__smooth_idf=True, vect__sublinear_tf=False, vect__binary=True, vect__min_df=2, vect__stop_words=english, vect__use_idf=False \n",
        "[GridSearchCV]  vect__ngram_range=(1, 2), vect__smooth_idf=True, vect__sublinear_tf=False, vect__binary=True, vect__min_df=2, vect__stop_words=english, vect__use_idf=False, score=0.427434 -   2.1s"
       ]
      },
      {
       "output_type": "stream",
       "stream": "stdout",
       "text": [
        "\n",
        "[GridSearchCV] vect__ngram_range=(1, 2), vect__smooth_idf=True, vect__sublinear_tf=False, vect__binary=True, vect__min_df=2, vect__stop_words=english, vect__use_idf=False \n",
        "[GridSearchCV]  vect__ngram_range=(1, 2), vect__smooth_idf=True, vect__sublinear_tf=False, vect__binary=True, vect__min_df=2, vect__stop_words=english, vect__use_idf=False, score=0.445849 -   2.1s"
       ]
      },
      {
       "output_type": "stream",
       "stream": "stdout",
       "text": [
        "\n",
        "[GridSearchCV] vect__ngram_range=(1, 2), vect__smooth_idf=True, vect__sublinear_tf=False, vect__binary=True, vect__min_df=2, vect__stop_words=english, vect__use_idf=False \n",
        "[GridSearchCV]  vect__ngram_range=(1, 2), vect__smooth_idf=True, vect__sublinear_tf=False, vect__binary=True, vect__min_df=2, vect__stop_words=english, vect__use_idf=False, score=0.414648 -   2.2s"
       ]
      },
      {
       "output_type": "stream",
       "stream": "stdout",
       "text": [
        "\n",
        "[GridSearchCV] vect__ngram_range=(1, 2), vect__smooth_idf=True, vect__sublinear_tf=False, vect__binary=True, vect__min_df=2, vect__stop_words=english, vect__use_idf=True \n",
        "[GridSearchCV]  vect__ngram_range=(1, 2), vect__smooth_idf=True, vect__sublinear_tf=False, vect__binary=True, vect__min_df=2, vect__stop_words=english, vect__use_idf=True, score=0.422796 -   1.6s"
       ]
      },
      {
       "output_type": "stream",
       "stream": "stdout",
       "text": [
        "\n",
        "[GridSearchCV] vect__ngram_range=(1, 2), vect__smooth_idf=True, vect__sublinear_tf=False, vect__binary=True, vect__min_df=2, vect__stop_words=english, vect__use_idf=True \n",
        "[GridSearchCV]  vect__ngram_range=(1, 2), vect__smooth_idf=True, vect__sublinear_tf=False, vect__binary=True, vect__min_df=2, vect__stop_words=english, vect__use_idf=True, score=0.442773 -   1.7s"
       ]
      },
      {
       "output_type": "stream",
       "stream": "stdout",
       "text": [
        "\n",
        "[GridSearchCV] vect__ngram_range=(1, 2), vect__smooth_idf=True, vect__sublinear_tf=False, vect__binary=True, vect__min_df=2, vect__stop_words=english, vect__use_idf=True \n",
        "[GridSearchCV]  vect__ngram_range=(1, 2), vect__smooth_idf=True, vect__sublinear_tf=False, vect__binary=True, vect__min_df=2, vect__stop_words=english, vect__use_idf=True, score=0.411987 -   1.8s"
       ]
      },
      {
       "output_type": "stream",
       "stream": "stdout",
       "text": [
        "\n",
        "[GridSearchCV] vect__ngram_range=(1, 2), vect__smooth_idf=True, vect__sublinear_tf=True, vect__binary=True, vect__min_df=2, vect__stop_words=english, vect__use_idf=False \n",
        "[GridSearchCV]  vect__ngram_range=(1, 2), vect__smooth_idf=True, vect__sublinear_tf=True, vect__binary=True, vect__min_df=2, vect__stop_words=english, vect__use_idf=False, score=0.427434 -   1.8s"
       ]
      },
      {
       "output_type": "stream",
       "stream": "stdout",
       "text": [
        "\n",
        "[GridSearchCV] vect__ngram_range=(1, 2), vect__smooth_idf=True, vect__sublinear_tf=True, vect__binary=True, vect__min_df=2, vect__stop_words=english, vect__use_idf=False \n",
        "[GridSearchCV]  vect__ngram_range=(1, 2), vect__smooth_idf=True, vect__sublinear_tf=True, vect__binary=True, vect__min_df=2, vect__stop_words=english, vect__use_idf=False, score=0.445849 -   1.7s"
       ]
      },
      {
       "output_type": "stream",
       "stream": "stdout",
       "text": [
        "\n",
        "[GridSearchCV] vect__ngram_range=(1, 2), vect__smooth_idf=True, vect__sublinear_tf=True, vect__binary=True, vect__min_df=2, vect__stop_words=english, vect__use_idf=False \n",
        "[GridSearchCV]  vect__ngram_range=(1, 2), vect__smooth_idf=True, vect__sublinear_tf=True, vect__binary=True, vect__min_df=2, vect__stop_words=english, vect__use_idf=False, score=0.415262 -   1.9s"
       ]
      },
      {
       "output_type": "stream",
       "stream": "stdout",
       "text": [
        "\n",
        "[GridSearchCV] vect__ngram_range=(1, 2), vect__smooth_idf=True, vect__sublinear_tf=True, vect__binary=True, vect__min_df=2, vect__stop_words=english, vect__use_idf=True \n",
        "[GridSearchCV]  vect__ngram_range=(1, 2), vect__smooth_idf=True, vect__sublinear_tf=True, vect__binary=True, vect__min_df=2, vect__stop_words=english, vect__use_idf=True, score=0.422796 -   1.6s"
       ]
      },
      {
       "output_type": "stream",
       "stream": "stdout",
       "text": [
        "\n",
        "[GridSearchCV] vect__ngram_range=(1, 2), vect__smooth_idf=True, vect__sublinear_tf=True, vect__binary=True, vect__min_df=2, vect__stop_words=english, vect__use_idf=True \n",
        "[GridSearchCV]  vect__ngram_range=(1, 2), vect__smooth_idf=True, vect__sublinear_tf=True, vect__binary=True, vect__min_df=2, vect__stop_words=english, vect__use_idf=True, score=0.442773 -   1.8s"
       ]
      },
      {
       "output_type": "stream",
       "stream": "stdout",
       "text": [
        "\n",
        "[GridSearchCV] vect__ngram_range=(1, 2), vect__smooth_idf=True, vect__sublinear_tf=True, vect__binary=True, vect__min_df=2, vect__stop_words=english, vect__use_idf=True \n",
        "[GridSearchCV]  vect__ngram_range=(1, 2), vect__smooth_idf=True, vect__sublinear_tf=True, vect__binary=True, vect__min_df=2, vect__stop_words=english, vect__use_idf=True, score=0.411987 -   1.8s"
       ]
      },
      {
       "output_type": "stream",
       "stream": "stdout",
       "text": [
        "\n"
       ]
      },
      {
       "output_type": "stream",
       "stream": "stderr",
       "text": [
        "[Parallel(n_jobs=1)]: Done 384 out of 384 | elapsed: 11.9min finished\n"
       ]
      }
     ],
     "prompt_number": 7
    },
    {
     "cell_type": "code",
     "collapsed": false,
     "input": [
      "best_clf=clf\n",
      "print best_clf.get_params()"
     ],
     "language": "python",
     "metadata": {},
     "outputs": [
      {
       "output_type": "stream",
       "stream": "stdout",
       "text": [
        "{'vect__smooth_idf': False, 'clf__multi_class': 'ovr', 'clf__verbose': 0, 'clf__random_state': None, 'clf__intercept_scaling': 1, 'vect__norm': u'l2', 'vect__charset': None, 'vect__charset_error': None, 'clf__penalty': 'l1', 'vect__analyzer': 'word', 'vect__max_df': 1.0, 'clf__tol': 0.0001, 'clf': LinearSVC(C=1.0, class_weight=None, dual=False, fit_intercept=True,\n",
        "     intercept_scaling=1, loss='l2', multi_class='ovr', penalty='l1',\n",
        "     random_state=None, tol=0.0001, verbose=0), 'vect__lowercase': True, 'vect__binary': False, 'vect__stop_words': None, 'vect__encoding': u'utf-8', 'vect__max_features': None, 'vect__dtype': <type 'numpy.int64'>, 'vect__strip_accents': None, 'vect__sublinear_tf': True, 'clf__dual': False, 'vect': TfidfVectorizer(analyzer='word', binary=False, charset=None,\n",
        "        charset_error=None, decode_error=u'strict',\n",
        "        dtype=<type 'numpy.int64'>, encoding=u'utf-8', input=u'content',\n",
        "        lowercase=True, max_df=1.0, max_features=None, min_df=1,\n",
        "        ngram_range=(1, 2), norm=u'l2', preprocessor=None,\n",
        "        smooth_idf=False, stop_words=None, strip_accents=None,\n",
        "        sublinear_tf=True, token_pattern=u'(?u)\\\\b\\\\w\\\\w+\\\\b',\n",
        "        tokenizer=None, use_idf=True, vocabulary=None), 'clf__loss': 'l2', 'vect__min_df': 1, 'vect__tokenizer': None, 'vect__use_idf': True, 'clf__C': 1.0, 'vect__input': u'content', 'vect__ngram_range': (1, 2), 'vect__preprocessor': None, 'vect__vocabulary': None, 'clf__fit_intercept': True, 'vect__decode_error': u'strict', 'clf__class_weight': None, 'vect__token_pattern': u'(?u)\\\\b\\\\w\\\\w+\\\\b'}\n"
       ]
      }
     ],
     "prompt_number": 8
    }
   ],
   "metadata": {}
  }
 ]
}