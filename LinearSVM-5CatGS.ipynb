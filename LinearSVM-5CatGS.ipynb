{
 "metadata": {
  "name": "",
  "signature": "sha256:e9f291ff2025183ddf6bc19f8cff160b2cb1310c4d60a94a3fa0283b7776e70c"
 },
 "nbformat": 3,
 "nbformat_minor": 0,
 "worksheets": [
  {
   "cells": [
    {
     "cell_type": "code",
     "collapsed": false,
     "input": [
      "#import pylab as pl\n",
      "import scipy\n",
      "import numpy as np\n",
      "import pandas as pd\n",
      "#pd.options.display.mpl_style = 'default'\n",
      "\n",
      "from time import time\n",
      "\n",
      "import matplotlib.pyplot as plt\n",
      "%matplotlib inline\n",
      "\n",
      "from sklearn.feature_extraction.text import CountVectorizer\n",
      "from sklearn.feature_extraction.text import TfidfVectorizer\n",
      "from sklearn.pipeline import Pipeline\n",
      "from sklearn import svm\n",
      "from sklearn.metrics import confusion_matrix, precision_recall_curve, auc\n",
      "from sklearn.cross_validation import ShuffleSplit, train_test_split\n",
      "\n",
      "from sklearn.grid_search import GridSearchCV\n",
      "from sklearn.metrics import f1_score\n",
      "\n",
      "\n",
      "def grid_search_model(clf_factory, X, Y):\n",
      "    #cv = ShuffleSplit(\n",
      "        #n=len(X), n_iter=10, test_size=0.3, indices=True, random_state=0)\n",
      "    X_train, X_test, y_train, y_test= train_test_split(X, Y, test_size=0.6, random_state=0)\n",
      "    \n",
      "    param_grid = dict(vect__ngram_range=[(1, 1), (1, 2)],\n",
      "                      vect__min_df=[1, 2],\n",
      "                      vect__stop_words=[None, 'english'],\n",
      "                      vect__smooth_idf=[False, True],\n",
      "                      vect__use_idf=[False, True],\n",
      "                      vect__sublinear_tf=[False, True],\n",
      "                      vect__binary=[False, True],\n",
      "                      #clf__alpha=[0, 0.01, 0.05, 0.1, 0.5, 1],\n",
      "                      )\n",
      "\n",
      "    grid_search = GridSearchCV(clf_factory(),\n",
      "                               param_grid=param_grid,\n",
      "                               score_func=f1_score,\n",
      "                               cv=3,\n",
      "                               verbose=10)\n",
      "    grid_search.fit(X_train,y_train) \n",
      " \n",
      "    return grid_search.best_estimator_\n",
      "\n",
      "\n",
      "def create_l1_LinearSVC():\n",
      "    tfidf_ngrams=TfidfVectorizer(ngram_range=(1,2),analyzer=\"word\",binary=False)\n",
      "    clf=svm.LinearSVC(loss='l2', penalty='l1', dual=False)\n",
      "    pipeline=Pipeline([('vect',tfidf_ngrams),('clf',clf)])\n",
      "    return pipeline\n",
      "\n",
      "\n",
      "def create_l2_LinearSVC():\n",
      "    tfidf_ngrams=TfidfVectorizer(ngram_range=(1,2),analyzer=\"word\",binary=False)\n",
      "    clf=svm.LinearSVC(loss='l2', penalty='l1', dual=False)\n",
      "    pipeline=Pipeline([('vect',tfidf_ngrams),('clf',clf)])\n",
      "    return pipeline\n",
      "\n",
      "    \n",
      "def decodeArray(text):\n",
      "    try:\n",
      "        return text.decode(\"utf-8\",\"replace\")\n",
      "    except:\n",
      "        return 0\n",
      "    \n",
      "    \n",
      "def makeCM_plot(y_test, y_pred):\n",
      "    cm = confusion_matrix(y_test, y_pred)\n",
      "    print cm\n",
      "    plt.matshow(cm)\n",
      "    plt.title('Confusion matrix')\n",
      "    plt.colorbar()\n",
      "    plt.ylabel('True label')\n",
      "    plt.xlabel('Predicted label')\n",
      "    plt.show()\n",
      "    \n",
      "    \n",
      "def makePR_plot(x,y):\n",
      "    plt.figure\n",
      "    plt.plot(x, y)\n",
      "    plt.xlabel('Recall')\n",
      "    plt.ylabel('Precision')\n",
      "    plt.ylim([0.0, 1.05])\n",
      "    plt.xlim([0.0, 1.0])\n",
      "    plt.title('Precision-Recall curve')\n",
      "    plt.fill_between(x,0,y)\n",
      "    plt.show()"
     ],
     "language": "python",
     "metadata": {},
     "outputs": [
      {
       "output_type": "stream",
       "stream": "stderr",
       "text": [
        "/usr/local/lib/python2.7/site-packages/pandas/io/excel.py:626: UserWarning: Installed openpyxl is not supported at this time. Use >=1.6.1 and <2.0.0.\n",
        "  .format(openpyxl_compat.start_ver, openpyxl_compat.stop_ver))\n"
       ]
      }
     ],
     "prompt_number": 1
    },
    {
     "cell_type": "code",
     "collapsed": false,
     "input": [
      "t0 = time() \n",
      "df = pd.read_csv('scrubbed_foods.csv','\\t!\\t')\n",
      "t1 = time()\n",
      "print 'Data load time: ', t1 - t0\n",
      "\n",
      "print 'Shape before dropping duplicates: ', df.shape\n",
      "df = df.drop_duplicates('text')\n",
      "print 'Shape after dropping duplicates: ', df.shape"
     ],
     "language": "python",
     "metadata": {},
     "outputs": [
      {
       "output_type": "stream",
       "stream": "stdout",
       "text": [
        "Data load time:  7.21427106857\n",
        "Shape before dropping duplicates:  (568447, 8)\n",
        "Shape after dropping duplicates: "
       ]
      },
      {
       "output_type": "stream",
       "stream": "stdout",
       "text": [
        " (393573, 8)\n"
       ]
      },
      {
       "output_type": "stream",
       "stream": "stderr",
       "text": [
        "/usr/local/lib/python2.7/site-packages/pandas/io/parsers.py:615: ParserWarning: Falling back to the 'python' engine because the 'c' engine does not support regex separators; you can avoid this warning by specifying engine='python'.\n",
        "  ParserWarning)\n"
       ]
      }
     ],
     "prompt_number": 2
    },
    {
     "cell_type": "code",
     "collapsed": false,
     "input": [
      "df_1star = pd.DataFrame(df[df['score']==1],columns=['score','text'])\n",
      "df_2star = pd.DataFrame(df[df['score']==2],columns=['score','text'])\n",
      "df_3star = pd.DataFrame(df[df['score']==3],columns=['score','text'])\n",
      "df_4star = pd.DataFrame(df[df['score']==4],columns=['score','text'])\n",
      "df_5star = pd.DataFrame(df[df['score']==5],columns=['score','text'])\n",
      "\n",
      "sampleSize=10000\n",
      "sampleStart=200000\n",
      "\n",
      "pieces=[df_1star[:sampleSize/5],df_2star[:sampleSize/5], df_3star[:sampleSize/5], df_4star[:sampleSize/5], df_5star[:sampleSize/5]]\n",
      "final_df=pd.concat(pieces)\n",
      "final_df=final_df.reindex(np.random.permutation(final_df.index))\n",
      "X=final_df['text'].apply(decodeArray)\n",
      "Y=final_df['score']"
     ],
     "language": "python",
     "metadata": {},
     "outputs": [],
     "prompt_number": 5
    },
    {
     "cell_type": "code",
     "collapsed": false,
     "input": [
      "classes = np.unique(Y)\n",
      "print classes\n",
      "for c in classes:\n",
      "        print(\"#%s: %i\" % (c, sum(Y==c)))"
     ],
     "language": "python",
     "metadata": {},
     "outputs": [
      {
       "output_type": "stream",
       "stream": "stdout",
       "text": [
        "[ 1.  2.  3.  4.  5.]\n",
        "#1.0: 2000"
       ]
      },
      {
       "output_type": "stream",
       "stream": "stdout",
       "text": [
        "\n",
        "#2.0: 2000"
       ]
      },
      {
       "output_type": "stream",
       "stream": "stdout",
       "text": [
        "\n",
        "#3.0: 2000"
       ]
      },
      {
       "output_type": "stream",
       "stream": "stdout",
       "text": [
        "\n",
        "#4.0: 2000"
       ]
      },
      {
       "output_type": "stream",
       "stream": "stdout",
       "text": [
        "\n",
        "#5.0: 2000"
       ]
      },
      {
       "output_type": "stream",
       "stream": "stdout",
       "text": [
        "\n"
       ]
      }
     ],
     "prompt_number": 6
    },
    {
     "cell_type": "code",
     "collapsed": false,
     "input": [
      "clf=grid_search_model(create_l1_LinearSVC,X,Y)"
     ],
     "language": "python",
     "metadata": {},
     "outputs": [
      {
       "output_type": "stream",
       "stream": "stdout",
       "text": [
        "Fitting 3 folds for each of 128 candidates, totalling 384 fits\n",
        "[GridSearchCV] vect__ngram_range=(1, 1), vect__smooth_idf=False, vect__sublinear_tf=False, vect__binary=False, vect__min_df=1, vect__stop_words=None, vect__use_idf=False \n",
        "[GridSearchCV]  vect__ngram_range=(1, 1), vect__smooth_idf=False, vect__sublinear_tf=False, vect__binary=False, vect__min_df=1, vect__stop_words=None, vect__use_idf=False, score=0.456835 -   2.1s"
       ]
      },
      {
       "output_type": "stream",
       "stream": "stderr",
       "text": [
        "/usr/local/lib/python2.7/site-packages/sklearn/grid_search.py:466: DeprecationWarning: Passing function as ``score_func`` is deprecated and will be removed in 0.15. Either use strings or score objects.The relevant new parameter is called ''scoring''.\n",
        "  self.loss_func, self.score_func, self.scoring)\n",
        "[Parallel(n_jobs=1)]: Done   1 jobs       | elapsed:    2.1s\n"
       ]
      },
      {
       "output_type": "stream",
       "stream": "stdout",
       "text": [
        "\n",
        "[GridSearchCV] vect__ngram_range=(1, 1), vect__smooth_idf=False, vect__sublinear_tf=False, vect__binary=False, vect__min_df=1, vect__stop_words=None, vect__use_idf=False \n",
        "[GridSearchCV]  vect__ngram_range=(1, 1), vect__smooth_idf=False, vect__sublinear_tf=False, vect__binary=False, vect__min_df=1, vect__stop_words=None, vect__use_idf=False, score=0.437405 -   2.2s"
       ]
      },
      {
       "output_type": "stream",
       "stream": "stdout",
       "text": [
        "\n",
        "[GridSearchCV] vect__ngram_range=(1, 1), vect__smooth_idf=False, vect__sublinear_tf=False, vect__binary=False, vect__min_df=1, vect__stop_words=None, vect__use_idf=False \n",
        "[GridSearchCV]  vect__ngram_range=(1, 1), vect__smooth_idf=False, vect__sublinear_tf=False, vect__binary=False, vect__min_df=1, vect__stop_words=None, vect__use_idf=False, score=0.398902 -   1.7s"
       ]
      },
      {
       "output_type": "stream",
       "stream": "stdout",
       "text": [
        "\n",
        "[GridSearchCV] vect__ngram_range=(1, 1), vect__smooth_idf=False, vect__sublinear_tf=False, vect__binary=False, vect__min_df=1, vect__stop_words=None, vect__use_idf=True \n",
        "[GridSearchCV]  vect__ngram_range=(1, 1), vect__smooth_idf=False, vect__sublinear_tf=False, vect__binary=False, vect__min_df=1, vect__stop_words=None, vect__use_idf=True, score=0.453523 -   1.3s"
       ]
      },
      {
       "output_type": "stream",
       "stream": "stdout",
       "text": [
        "\n",
        "[GridSearchCV] vect__ngram_range=(1, 1), vect__smooth_idf=False, vect__sublinear_tf=False, vect__binary=False, vect__min_df=1, vect__stop_words=None, vect__use_idf=True \n",
        "[GridSearchCV]  vect__ngram_range=(1, 1), vect__smooth_idf=False, vect__sublinear_tf=False, vect__binary=False, vect__min_df=1, vect__stop_words=None, vect__use_idf=True, score=0.430535 -   1.3s"
       ]
      },
      {
       "output_type": "stream",
       "stream": "stderr",
       "text": [
        "[Parallel(n_jobs=1)]: Done   2 jobs       | elapsed:    4.3s\n",
        "[Parallel(n_jobs=1)]: Done   5 jobs       | elapsed:    8.6s\n"
       ]
      },
      {
       "output_type": "stream",
       "stream": "stdout",
       "text": [
        "\n",
        "[GridSearchCV] vect__ngram_range=(1, 1), vect__smooth_idf=False, vect__sublinear_tf=False, vect__binary=False, vect__min_df=1, vect__stop_words=None, vect__use_idf=True \n",
        "[GridSearchCV]  vect__ngram_range=(1, 1), vect__smooth_idf=False, vect__sublinear_tf=False, vect__binary=False, vect__min_df=1, vect__stop_words=None, vect__use_idf=True, score=0.413640 -   1.4s"
       ]
      },
      {
       "output_type": "stream",
       "stream": "stdout",
       "text": [
        "\n",
        "[GridSearchCV] vect__ngram_range=(1, 1), vect__smooth_idf=False, vect__sublinear_tf=True, vect__binary=False, vect__min_df=1, vect__stop_words=None, vect__use_idf=False \n",
        "[GridSearchCV]  vect__ngram_range=(1, 1), vect__smooth_idf=False, vect__sublinear_tf=True, vect__binary=False, vect__min_df=1, vect__stop_words=None, vect__use_idf=False, score=0.449827 -   1.8s"
       ]
      },
      {
       "output_type": "stream",
       "stream": "stdout",
       "text": [
        "\n",
        "[GridSearchCV] vect__ngram_range=(1, 1), vect__smooth_idf=False, vect__sublinear_tf=True, vect__binary=False, vect__min_df=1, vect__stop_words=None, vect__use_idf=False \n",
        "[GridSearchCV]  vect__ngram_range=(1, 1), vect__smooth_idf=False, vect__sublinear_tf=True, vect__binary=False, vect__min_df=1, vect__stop_words=None, vect__use_idf=False, score=0.448858 -   1.9s"
       ]
      },
      {
       "output_type": "stream",
       "stream": "stdout",
       "text": [
        "\n",
        "[GridSearchCV] vect__ngram_range=(1, 1), vect__smooth_idf=False, vect__sublinear_tf=True, vect__binary=False, vect__min_df=1, vect__stop_words=None, vect__use_idf=False \n",
        "[GridSearchCV]  vect__ngram_range=(1, 1), vect__smooth_idf=False, vect__sublinear_tf=True, vect__binary=False, vect__min_df=1, vect__stop_words=None, vect__use_idf=False, score=0.411149 -   2.1s"
       ]
      },
      {
       "output_type": "stream",
       "stream": "stdout",
       "text": [
        "\n",
        "[GridSearchCV] vect__ngram_range=(1, 1), vect__smooth_idf=False, vect__sublinear_tf=True, vect__binary=False, vect__min_df=1, vect__stop_words=None, vect__use_idf=True \n",
        "[GridSearchCV]  vect__ngram_range=(1, 1), vect__smooth_idf=False, vect__sublinear_tf=True, vect__binary=False, vect__min_df=1, vect__stop_words=None, vect__use_idf=True, score=0.443818 -   1.6s"
       ]
      },
      {
       "output_type": "stream",
       "stream": "stdout",
       "text": [
        "\n",
        "[GridSearchCV] vect__ngram_range=(1, 1), vect__smooth_idf=False, vect__sublinear_tf=True, vect__binary=False, vect__min_df=1, vect__stop_words=None, vect__use_idf=True \n",
        "[GridSearchCV]  vect__ngram_range=(1, 1), vect__smooth_idf=False, vect__sublinear_tf=True, vect__binary=False, vect__min_df=1, vect__stop_words=None, vect__use_idf=True, score=0.435579 -   1.6s"
       ]
      },
      {
       "output_type": "stream",
       "stream": "stdout",
       "text": [
        "\n",
        "[GridSearchCV] vect__ngram_range=(1, 1), vect__smooth_idf=False, vect__sublinear_tf=True, vect__binary=False, vect__min_df=1, vect__stop_words=None, vect__use_idf=True \n",
        "[GridSearchCV]  vect__ngram_range=(1, 1), vect__smooth_idf=False, vect__sublinear_tf=True, vect__binary=False, vect__min_df=1, vect__stop_words=None, vect__use_idf=True, score=0.414838 -   1.7s"
       ]
      },
      {
       "output_type": "stream",
       "stream": "stdout",
       "text": [
        "\n",
        "[GridSearchCV] vect__ngram_range=(1, 1), vect__smooth_idf=False, vect__sublinear_tf=False, vect__binary=False, vect__min_df=1, vect__stop_words=english, vect__use_idf=False \n",
        "[GridSearchCV]  vect__ngram_range=(1, 1), vect__smooth_idf=False, vect__sublinear_tf=False, vect__binary=False, vect__min_df=1, vect__stop_words=english, vect__use_idf=False, score=0.423733 -   0.9s"
       ]
      },
      {
       "output_type": "stream",
       "stream": "stderr",
       "text": [
        "[Parallel(n_jobs=1)]: Done   8 jobs       | elapsed:   13.8s\n",
        "[Parallel(n_jobs=1)]: Done  13 jobs       | elapsed:   21.7s\n"
       ]
      },
      {
       "output_type": "stream",
       "stream": "stdout",
       "text": [
        "\n",
        "[GridSearchCV] vect__ngram_range=(1, 1), vect__smooth_idf=False, vect__sublinear_tf=False, vect__binary=False, vect__min_df=1, vect__stop_words=english, vect__use_idf=False \n",
        "[GridSearchCV]  vect__ngram_range=(1, 1), vect__smooth_idf=False, vect__sublinear_tf=False, vect__binary=False, vect__min_df=1, vect__stop_words=english, vect__use_idf=False, score=0.416534 -   0.9s"
       ]
      },
      {
       "output_type": "stream",
       "stream": "stdout",
       "text": [
        "\n",
        "[GridSearchCV] vect__ngram_range=(1, 1), vect__smooth_idf=False, vect__sublinear_tf=False, vect__binary=False, vect__min_df=1, vect__stop_words=english, vect__use_idf=False \n",
        "[GridSearchCV]  vect__ngram_range=(1, 1), vect__smooth_idf=False, vect__sublinear_tf=False, vect__binary=False, vect__min_df=1, vect__stop_words=english, vect__use_idf=False, score=0.399019 -   0.9s"
       ]
      },
      {
       "output_type": "stream",
       "stream": "stdout",
       "text": [
        "\n",
        "[GridSearchCV] vect__ngram_range=(1, 1), vect__smooth_idf=False, vect__sublinear_tf=False, vect__binary=False, vect__min_df=1, vect__stop_words=english, vect__use_idf=True \n",
        "[GridSearchCV]  vect__ngram_range=(1, 1), vect__smooth_idf=False, vect__sublinear_tf=False, vect__binary=False, vect__min_df=1, vect__stop_words=english, vect__use_idf=True, score=0.432351 -   0.8s"
       ]
      },
      {
       "output_type": "stream",
       "stream": "stdout",
       "text": [
        "\n",
        "[GridSearchCV] vect__ngram_range=(1, 1), vect__smooth_idf=False, vect__sublinear_tf=False, vect__binary=False, vect__min_df=1, vect__stop_words=english, vect__use_idf=True \n",
        "[GridSearchCV]  vect__ngram_range=(1, 1), vect__smooth_idf=False, vect__sublinear_tf=False, vect__binary=False, vect__min_df=1, vect__stop_words=english, vect__use_idf=True, score=0.425288 -   0.9s"
       ]
      },
      {
       "output_type": "stream",
       "stream": "stdout",
       "text": [
        "\n",
        "[GridSearchCV] vect__ngram_range=(1, 1), vect__smooth_idf=False, vect__sublinear_tf=False, vect__binary=False, vect__min_df=1, vect__stop_words=english, vect__use_idf=True \n",
        "[GridSearchCV]  vect__ngram_range=(1, 1), vect__smooth_idf=False, vect__sublinear_tf=False, vect__binary=False, vect__min_df=1, vect__stop_words=english, vect__use_idf=True, score=0.408613 -   0.8s"
       ]
      },
      {
       "output_type": "stream",
       "stream": "stdout",
       "text": [
        "\n",
        "[GridSearchCV] vect__ngram_range=(1, 1), vect__smooth_idf=False, vect__sublinear_tf=True, vect__binary=False, vect__min_df=1, vect__stop_words=english, vect__use_idf=False \n",
        "[GridSearchCV]  vect__ngram_range=(1, 1), vect__smooth_idf=False, vect__sublinear_tf=True, vect__binary=False, vect__min_df=1, vect__stop_words=english, vect__use_idf=False, score=0.432647 -   0.9s"
       ]
      },
      {
       "output_type": "stream",
       "stream": "stdout",
       "text": [
        "\n",
        "[GridSearchCV] vect__ngram_range=(1, 1), vect__smooth_idf=False, vect__sublinear_tf=True, vect__binary=False, vect__min_df=1, vect__stop_words=english, vect__use_idf=False \n",
        "[GridSearchCV]  vect__ngram_range=(1, 1), vect__smooth_idf=False, vect__sublinear_tf=True, vect__binary=False, vect__min_df=1, vect__stop_words=english, vect__use_idf=False, score=0.415715 -   0.9s"
       ]
      },
      {
       "output_type": "stream",
       "stream": "stdout",
       "text": [
        "\n",
        "[GridSearchCV] vect__ngram_range=(1, 1), vect__smooth_idf=False, vect__sublinear_tf=True, vect__binary=False, vect__min_df=1, vect__stop_words=english, vect__use_idf=False \n",
        "[GridSearchCV]  vect__ngram_range=(1, 1), vect__smooth_idf=False, vect__sublinear_tf=True, vect__binary=False, vect__min_df=1, vect__stop_words=english, vect__use_idf=False, score=0.395880 -   0.9s"
       ]
      },
      {
       "output_type": "stream",
       "stream": "stdout",
       "text": [
        "\n",
        "[GridSearchCV] vect__ngram_range=(1, 1), vect__smooth_idf=False, vect__sublinear_tf=True, vect__binary=False, vect__min_df=1, vect__stop_words=english, vect__use_idf=True \n",
        "[GridSearchCV]  vect__ngram_range=(1, 1), vect__smooth_idf=False, vect__sublinear_tf=True, vect__binary=False, vect__min_df=1, vect__stop_words=english, vect__use_idf=True, score=0.440432 -   0.8s"
       ]
      },
      {
       "output_type": "stream",
       "stream": "stdout",
       "text": [
        "\n",
        "[GridSearchCV] vect__ngram_range=(1, 1), vect__smooth_idf=False, vect__sublinear_tf=True, vect__binary=False, vect__min_df=1, vect__stop_words=english, vect__use_idf=True \n",
        "[GridSearchCV]  vect__ngram_range=(1, 1), vect__smooth_idf=False, vect__sublinear_tf=True, vect__binary=False, vect__min_df=1, vect__stop_words=english, vect__use_idf=True, score=0.421485 -   0.8s"
       ]
      },
      {
       "output_type": "stream",
       "stream": "stdout",
       "text": [
        "\n",
        "[GridSearchCV] vect__ngram_range=(1, 1), vect__smooth_idf=False, vect__sublinear_tf=True, vect__binary=False, vect__min_df=1, vect__stop_words=english, vect__use_idf=True \n",
        "[GridSearchCV]  vect__ngram_range=(1, 1), vect__smooth_idf=False, vect__sublinear_tf=True, vect__binary=False, vect__min_df=1, vect__stop_words=english, vect__use_idf=True, score=0.398888 -   0.8s"
       ]
      },
      {
       "output_type": "stream",
       "stream": "stdout",
       "text": [
        "\n",
        "[GridSearchCV] vect__ngram_range=(1, 1), vect__smooth_idf=True, vect__sublinear_tf=False, vect__binary=False, vect__min_df=1, vect__stop_words=None, vect__use_idf=False \n",
        "[GridSearchCV]  vect__ngram_range=(1, 1), vect__smooth_idf=True, vect__sublinear_tf=False, vect__binary=False, vect__min_df=1, vect__stop_words=None, vect__use_idf=False, score=0.456835 -   1.7s"
       ]
      },
      {
       "output_type": "stream",
       "stream": "stderr",
       "text": [
        "[Parallel(n_jobs=1)]: Done  18 jobs       | elapsed:   26.1s\n",
        "[Parallel(n_jobs=1)]: Done  25 jobs       | elapsed:   32.9s\n"
       ]
      },
      {
       "output_type": "stream",
       "stream": "stdout",
       "text": [
        "\n",
        "[GridSearchCV] vect__ngram_range=(1, 1), vect__smooth_idf=True, vect__sublinear_tf=False, vect__binary=False, vect__min_df=1, vect__stop_words=None, vect__use_idf=False \n",
        "[GridSearchCV]  vect__ngram_range=(1, 1), vect__smooth_idf=True, vect__sublinear_tf=False, vect__binary=False, vect__min_df=1, vect__stop_words=None, vect__use_idf=False, score=0.437405 -   1.8s"
       ]
      },
      {
       "output_type": "stream",
       "stream": "stdout",
       "text": [
        "\n",
        "[GridSearchCV] vect__ngram_range=(1, 1), vect__smooth_idf=True, vect__sublinear_tf=False, vect__binary=False, vect__min_df=1, vect__stop_words=None, vect__use_idf=False \n",
        "[GridSearchCV]  vect__ngram_range=(1, 1), vect__smooth_idf=True, vect__sublinear_tf=False, vect__binary=False, vect__min_df=1, vect__stop_words=None, vect__use_idf=False, score=0.398902 -   1.6s"
       ]
      },
      {
       "output_type": "stream",
       "stream": "stdout",
       "text": [
        "\n",
        "[GridSearchCV] vect__ngram_range=(1, 1), vect__smooth_idf=True, vect__sublinear_tf=False, vect__binary=False, vect__min_df=1, vect__stop_words=None, vect__use_idf=True \n",
        "[GridSearchCV]  vect__ngram_range=(1, 1), vect__smooth_idf=True, vect__sublinear_tf=False, vect__binary=False, vect__min_df=1, vect__stop_words=None, vect__use_idf=True, score=0.453458 -   1.5s"
       ]
      },
      {
       "output_type": "stream",
       "stream": "stdout",
       "text": [
        "\n",
        "[GridSearchCV] vect__ngram_range=(1, 1), vect__smooth_idf=True, vect__sublinear_tf=False, vect__binary=False, vect__min_df=1, vect__stop_words=None, vect__use_idf=True \n",
        "[GridSearchCV]  vect__ngram_range=(1, 1), vect__smooth_idf=True, vect__sublinear_tf=False, vect__binary=False, vect__min_df=1, vect__stop_words=None, vect__use_idf=True, score=0.430464 -   1.4s"
       ]
      },
      {
       "output_type": "stream",
       "stream": "stdout",
       "text": [
        "\n",
        "[GridSearchCV] vect__ngram_range=(1, 1), vect__smooth_idf=True, vect__sublinear_tf=False, vect__binary=False, vect__min_df=1, vect__stop_words=None, vect__use_idf=True \n",
        "[GridSearchCV]  vect__ngram_range=(1, 1), vect__smooth_idf=True, vect__sublinear_tf=False, vect__binary=False, vect__min_df=1, vect__stop_words=None, vect__use_idf=True, score=0.415278 -   1.5s"
       ]
      },
      {
       "output_type": "stream",
       "stream": "stdout",
       "text": [
        "\n",
        "[GridSearchCV] vect__ngram_range=(1, 1), vect__smooth_idf=True, vect__sublinear_tf=True, vect__binary=False, vect__min_df=1, vect__stop_words=None, vect__use_idf=False \n",
        "[GridSearchCV]  vect__ngram_range=(1, 1), vect__smooth_idf=True, vect__sublinear_tf=True, vect__binary=False, vect__min_df=1, vect__stop_words=None, vect__use_idf=False, score=0.449827 -   2.0s"
       ]
      },
      {
       "output_type": "stream",
       "stream": "stdout",
       "text": [
        "\n",
        "[GridSearchCV] vect__ngram_range=(1, 1), vect__smooth_idf=True, vect__sublinear_tf=True, vect__binary=False, vect__min_df=1, vect__stop_words=None, vect__use_idf=False \n",
        "[GridSearchCV]  vect__ngram_range=(1, 1), vect__smooth_idf=True, vect__sublinear_tf=True, vect__binary=False, vect__min_df=1, vect__stop_words=None, vect__use_idf=False, score=0.448858 -   2.0s"
       ]
      },
      {
       "output_type": "stream",
       "stream": "stdout",
       "text": [
        "\n",
        "[GridSearchCV] vect__ngram_range=(1, 1), vect__smooth_idf=True, vect__sublinear_tf=True, vect__binary=False, vect__min_df=1, vect__stop_words=None, vect__use_idf=False \n",
        "[GridSearchCV]  vect__ngram_range=(1, 1), vect__smooth_idf=True, vect__sublinear_tf=True, vect__binary=False, vect__min_df=1, vect__stop_words=None, vect__use_idf=False, score=0.411149 -   1.9s"
       ]
      },
      {
       "output_type": "stream",
       "stream": "stdout",
       "text": [
        "\n",
        "[GridSearchCV] vect__ngram_range=(1, 1), vect__smooth_idf=True, vect__sublinear_tf=True, vect__binary=False, vect__min_df=1, vect__stop_words=None, vect__use_idf=True \n",
        "[GridSearchCV]  vect__ngram_range=(1, 1), vect__smooth_idf=True, vect__sublinear_tf=True, vect__binary=False, vect__min_df=1, vect__stop_words=None, vect__use_idf=True, score=0.444589 -   1.6s"
       ]
      },
      {
       "output_type": "stream",
       "stream": "stdout",
       "text": [
        "\n",
        "[GridSearchCV] vect__ngram_range=(1, 1), vect__smooth_idf=True, vect__sublinear_tf=True, vect__binary=False, vect__min_df=1, vect__stop_words=None, vect__use_idf=True \n",
        "[GridSearchCV]  vect__ngram_range=(1, 1), vect__smooth_idf=True, vect__sublinear_tf=True, vect__binary=False, vect__min_df=1, vect__stop_words=None, vect__use_idf=True, score=0.437746 -   1.4s"
       ]
      },
      {
       "output_type": "stream",
       "stream": "stdout",
       "text": [
        "\n",
        "[GridSearchCV] vect__ngram_range=(1, 1), vect__smooth_idf=True, vect__sublinear_tf=True, vect__binary=False, vect__min_df=1, vect__stop_words=None, vect__use_idf=True \n",
        "[GridSearchCV]  vect__ngram_range=(1, 1), vect__smooth_idf=True, vect__sublinear_tf=True, vect__binary=False, vect__min_df=1, vect__stop_words=None, vect__use_idf=True, score=0.416142 -   1.9s"
       ]
      },
      {
       "output_type": "stream",
       "stream": "stdout",
       "text": [
        "\n",
        "[GridSearchCV] vect__ngram_range=(1, 1), vect__smooth_idf=True, vect__sublinear_tf=False, vect__binary=False, vect__min_df=1, vect__stop_words=english, vect__use_idf=False \n",
        "[GridSearchCV]  vect__ngram_range=(1, 1), vect__smooth_idf=True, vect__sublinear_tf=False, vect__binary=False, vect__min_df=1, vect__stop_words=english, vect__use_idf=False, score=0.423733 -   1.0s"
       ]
      },
      {
       "output_type": "stream",
       "stream": "stdout",
       "text": [
        "\n",
        "[GridSearchCV] vect__ngram_range=(1, 1), vect__smooth_idf=True, vect__sublinear_tf=False, vect__binary=False, vect__min_df=1, vect__stop_words=english, vect__use_idf=False \n",
        "[GridSearchCV]  vect__ngram_range=(1, 1), vect__smooth_idf=True, vect__sublinear_tf=False, vect__binary=False, vect__min_df=1, vect__stop_words=english, vect__use_idf=False, score=0.416534 -   0.9s"
       ]
      },
      {
       "output_type": "stream",
       "stream": "stdout",
       "text": [
        "\n",
        "[GridSearchCV] vect__ngram_range=(1, 1), vect__smooth_idf=True, vect__sublinear_tf=False, vect__binary=False, vect__min_df=1, vect__stop_words=english, vect__use_idf=False \n",
        "[GridSearchCV]  vect__ngram_range=(1, 1), vect__smooth_idf=True, vect__sublinear_tf=False, vect__binary=False, vect__min_df=1, vect__stop_words=english, vect__use_idf=False, score=0.399019 -   0.9s"
       ]
      },
      {
       "output_type": "stream",
       "stream": "stdout",
       "text": [
        "\n",
        "[GridSearchCV] vect__ngram_range=(1, 1), vect__smooth_idf=True, vect__sublinear_tf=False, vect__binary=False, vect__min_df=1, vect__stop_words=english, vect__use_idf=True \n",
        "[GridSearchCV]  vect__ngram_range=(1, 1), vect__smooth_idf=True, vect__sublinear_tf=False, vect__binary=False, vect__min_df=1, vect__stop_words=english, vect__use_idf=True, score=0.429319 -   0.9s"
       ]
      },
      {
       "output_type": "stream",
       "stream": "stdout",
       "text": [
        "\n",
        "[GridSearchCV] vect__ngram_range=(1, 1), vect__smooth_idf=True, vect__sublinear_tf=False, vect__binary=False, vect__min_df=1, vect__stop_words=english, vect__use_idf=True \n",
        "[GridSearchCV]  vect__ngram_range=(1, 1), vect__smooth_idf=True, vect__sublinear_tf=False, vect__binary=False, vect__min_df=1, vect__stop_words=english, vect__use_idf=True, score=0.425736 -   0.8s"
       ]
      },
      {
       "output_type": "stream",
       "stream": "stderr",
       "text": [
        "[Parallel(n_jobs=1)]: Done  32 jobs       | elapsed:   44.8s\n",
        "[Parallel(n_jobs=1)]: Done  41 jobs       | elapsed:   56.2s\n"
       ]
      },
      {
       "output_type": "stream",
       "stream": "stdout",
       "text": [
        "\n",
        "[GridSearchCV] vect__ngram_range=(1, 1), vect__smooth_idf=True, vect__sublinear_tf=False, vect__binary=False, vect__min_df=1, vect__stop_words=english, vect__use_idf=True \n",
        "[GridSearchCV]  vect__ngram_range=(1, 1), vect__smooth_idf=True, vect__sublinear_tf=False, vect__binary=False, vect__min_df=1, vect__stop_words=english, vect__use_idf=True, score=0.407816 -   0.8s"
       ]
      },
      {
       "output_type": "stream",
       "stream": "stdout",
       "text": [
        "\n",
        "[GridSearchCV] vect__ngram_range=(1, 1), vect__smooth_idf=True, vect__sublinear_tf=True, vect__binary=False, vect__min_df=1, vect__stop_words=english, vect__use_idf=False \n",
        "[GridSearchCV]  vect__ngram_range=(1, 1), vect__smooth_idf=True, vect__sublinear_tf=True, vect__binary=False, vect__min_df=1, vect__stop_words=english, vect__use_idf=False, score=0.432647 -   0.8s"
       ]
      },
      {
       "output_type": "stream",
       "stream": "stdout",
       "text": [
        "\n",
        "[GridSearchCV] vect__ngram_range=(1, 1), vect__smooth_idf=True, vect__sublinear_tf=True, vect__binary=False, vect__min_df=1, vect__stop_words=english, vect__use_idf=False \n",
        "[GridSearchCV]  vect__ngram_range=(1, 1), vect__smooth_idf=True, vect__sublinear_tf=True, vect__binary=False, vect__min_df=1, vect__stop_words=english, vect__use_idf=False, score=0.416348 -   0.8s"
       ]
      },
      {
       "output_type": "stream",
       "stream": "stdout",
       "text": [
        "\n",
        "[GridSearchCV] vect__ngram_range=(1, 1), vect__smooth_idf=True, vect__sublinear_tf=True, vect__binary=False, vect__min_df=1, vect__stop_words=english, vect__use_idf=False \n",
        "[GridSearchCV]  vect__ngram_range=(1, 1), vect__smooth_idf=True, vect__sublinear_tf=True, vect__binary=False, vect__min_df=1, vect__stop_words=english, vect__use_idf=False, score=0.395880 -   0.8s"
       ]
      },
      {
       "output_type": "stream",
       "stream": "stdout",
       "text": [
        "\n",
        "[GridSearchCV] vect__ngram_range=(1, 1), vect__smooth_idf=True, vect__sublinear_tf=True, vect__binary=False, vect__min_df=1, vect__stop_words=english, vect__use_idf=True \n",
        "[GridSearchCV]  vect__ngram_range=(1, 1), vect__smooth_idf=True, vect__sublinear_tf=True, vect__binary=False, vect__min_df=1, vect__stop_words=english, vect__use_idf=True, score=0.440081 -   0.8s"
       ]
      },
      {
       "output_type": "stream",
       "stream": "stdout",
       "text": [
        "\n",
        "[GridSearchCV] vect__ngram_range=(1, 1), vect__smooth_idf=True, vect__sublinear_tf=True, vect__binary=False, vect__min_df=1, vect__stop_words=english, vect__use_idf=True \n",
        "[GridSearchCV]  vect__ngram_range=(1, 1), vect__smooth_idf=True, vect__sublinear_tf=True, vect__binary=False, vect__min_df=1, vect__stop_words=english, vect__use_idf=True, score=0.425081 -   0.7s"
       ]
      },
      {
       "output_type": "stream",
       "stream": "stdout",
       "text": [
        "\n",
        "[GridSearchCV] vect__ngram_range=(1, 1), vect__smooth_idf=True, vect__sublinear_tf=True, vect__binary=False, vect__min_df=1, vect__stop_words=english, vect__use_idf=True \n",
        "[GridSearchCV]  vect__ngram_range=(1, 1), vect__smooth_idf=True, vect__sublinear_tf=True, vect__binary=False, vect__min_df=1, vect__stop_words=english, vect__use_idf=True, score=0.401016 -   0.7s"
       ]
      },
      {
       "output_type": "stream",
       "stream": "stdout",
       "text": [
        "\n",
        "[GridSearchCV] vect__ngram_range=(1, 2), vect__smooth_idf=False, vect__sublinear_tf=False, vect__binary=False, vect__min_df=1, vect__stop_words=None, vect__use_idf=False \n",
        "[GridSearchCV]  vect__ngram_range=(1, 2), vect__smooth_idf=False, vect__sublinear_tf=False, vect__binary=False, vect__min_df=1, vect__stop_words=None, vect__use_idf=False, score=0.439430 -   3.1s"
       ]
      },
      {
       "output_type": "stream",
       "stream": "stdout",
       "text": [
        "\n",
        "[GridSearchCV] vect__ngram_range=(1, 2), vect__smooth_idf=False, vect__sublinear_tf=False, vect__binary=False, vect__min_df=1, vect__stop_words=None, vect__use_idf=False \n",
        "[GridSearchCV]  vect__ngram_range=(1, 2), vect__smooth_idf=False, vect__sublinear_tf=False, vect__binary=False, vect__min_df=1, vect__stop_words=None, vect__use_idf=False, score=0.432322 -   3.5s"
       ]
      },
      {
       "output_type": "stream",
       "stream": "stdout",
       "text": [
        "\n",
        "[GridSearchCV] vect__ngram_range=(1, 2), vect__smooth_idf=False, vect__sublinear_tf=False, vect__binary=False, vect__min_df=1, vect__stop_words=None, vect__use_idf=False \n",
        "[GridSearchCV]  vect__ngram_range=(1, 2), vect__smooth_idf=False, vect__sublinear_tf=False, vect__binary=False, vect__min_df=1, vect__stop_words=None, vect__use_idf=False, score=0.420048 -   3.3s"
       ]
      },
      {
       "output_type": "stream",
       "stream": "stdout",
       "text": [
        "\n",
        "[GridSearchCV] vect__ngram_range=(1, 2), vect__smooth_idf=False, vect__sublinear_tf=False, vect__binary=False, vect__min_df=1, vect__stop_words=None, vect__use_idf=True \n",
        "[GridSearchCV]  vect__ngram_range=(1, 2), vect__smooth_idf=False, vect__sublinear_tf=False, vect__binary=False, vect__min_df=1, vect__stop_words=None, vect__use_idf=True, score=0.430073 -   2.6s"
       ]
      },
      {
       "output_type": "stream",
       "stream": "stdout",
       "text": [
        "\n",
        "[GridSearchCV] vect__ngram_range=(1, 2), vect__smooth_idf=False, vect__sublinear_tf=False, vect__binary=False, vect__min_df=1, vect__stop_words=None, vect__use_idf=True \n",
        "[GridSearchCV]  vect__ngram_range=(1, 2), vect__smooth_idf=False, vect__sublinear_tf=False, vect__binary=False, vect__min_df=1, vect__stop_words=None, vect__use_idf=True, score=0.441140 -   2.6s"
       ]
      },
      {
       "output_type": "stream",
       "stream": "stdout",
       "text": [
        "\n",
        "[GridSearchCV] vect__ngram_range=(1, 2), vect__smooth_idf=False, vect__sublinear_tf=False, vect__binary=False, vect__min_df=1, vect__stop_words=None, vect__use_idf=True \n",
        "[GridSearchCV]  vect__ngram_range=(1, 2), vect__smooth_idf=False, vect__sublinear_tf=False, vect__binary=False, vect__min_df=1, vect__stop_words=None, vect__use_idf=True, score=0.407756 -   2.5s"
       ]
      },
      {
       "output_type": "stream",
       "stream": "stdout",
       "text": [
        "\n",
        "[GridSearchCV] vect__ngram_range=(1, 2), vect__smooth_idf=False, vect__sublinear_tf=True, vect__binary=False, vect__min_df=1, vect__stop_words=None, vect__use_idf=False \n",
        "[GridSearchCV]  vect__ngram_range=(1, 2), vect__smooth_idf=False, vect__sublinear_tf=True, vect__binary=False, vect__min_df=1, vect__stop_words=None, vect__use_idf=False, score=0.432900 -   3.6s"
       ]
      },
      {
       "output_type": "stream",
       "stream": "stdout",
       "text": [
        "\n",
        "[GridSearchCV] vect__ngram_range=(1, 2), vect__smooth_idf=False, vect__sublinear_tf=True, vect__binary=False, vect__min_df=1, vect__stop_words=None, vect__use_idf=False \n",
        "[GridSearchCV]  vect__ngram_range=(1, 2), vect__smooth_idf=False, vect__sublinear_tf=True, vect__binary=False, vect__min_df=1, vect__stop_words=None, vect__use_idf=False, score=0.437953 -   4.1s"
       ]
      },
      {
       "output_type": "stream",
       "stream": "stdout",
       "text": [
        "\n",
        "[GridSearchCV] vect__ngram_range=(1, 2), vect__smooth_idf=False, vect__sublinear_tf=True, vect__binary=False, vect__min_df=1, vect__stop_words=None, vect__use_idf=False "
       ]
      },
      {
       "output_type": "stream",
       "stream": "stdout",
       "text": [
        "\n",
        "[GridSearchCV]  vect__ngram_range=(1, 2), vect__smooth_idf=False, vect__sublinear_tf=True, vect__binary=False, vect__min_df=1, vect__stop_words=None, vect__use_idf=False, score=0.427277 -   4.4s"
       ]
      },
      {
       "output_type": "stream",
       "stream": "stdout",
       "text": [
        "\n",
        "[GridSearchCV] vect__ngram_range=(1, 2), vect__smooth_idf=False, vect__sublinear_tf=True, vect__binary=False, vect__min_df=1, vect__stop_words=None, vect__use_idf=True \n",
        "[GridSearchCV]  vect__ngram_range=(1, 2), vect__smooth_idf=False, vect__sublinear_tf=True, vect__binary=False, vect__min_df=1, vect__stop_words=None, vect__use_idf=True, score=0.439969 -   3.1s"
       ]
      },
      {
       "output_type": "stream",
       "stream": "stdout",
       "text": [
        "\n",
        "[GridSearchCV] vect__ngram_range=(1, 2), vect__smooth_idf=False, vect__sublinear_tf=True, vect__binary=False, vect__min_df=1, vect__stop_words=None, vect__use_idf=True \n",
        "[GridSearchCV]  vect__ngram_range=(1, 2), vect__smooth_idf=False, vect__sublinear_tf=True, vect__binary=False, vect__min_df=1, vect__stop_words=None, vect__use_idf=True, score=0.445850 -   2.8s"
       ]
      },
      {
       "output_type": "stream",
       "stream": "stdout",
       "text": [
        "\n",
        "[GridSearchCV] vect__ngram_range=(1, 2), vect__smooth_idf=False, vect__sublinear_tf=True, vect__binary=False, vect__min_df=1, vect__stop_words=None, vect__use_idf=True \n",
        "[GridSearchCV]  vect__ngram_range=(1, 2), vect__smooth_idf=False, vect__sublinear_tf=True, vect__binary=False, vect__min_df=1, vect__stop_words=None, vect__use_idf=True, score=0.407460 -   2.8s"
       ]
      },
      {
       "output_type": "stream",
       "stream": "stdout",
       "text": [
        "\n",
        "[GridSearchCV] vect__ngram_range=(1, 2), vect__smooth_idf=False, vect__sublinear_tf=False, vect__binary=False, vect__min_df=1, vect__stop_words=english, vect__use_idf=False \n",
        "[GridSearchCV]  vect__ngram_range=(1, 2), vect__smooth_idf=False, vect__sublinear_tf=False, vect__binary=False, vect__min_df=1, vect__stop_words=english, vect__use_idf=False, score=0.423452 -   1.7s"
       ]
      },
      {
       "output_type": "stream",
       "stream": "stderr",
       "text": [
        "[Parallel(n_jobs=1)]: Done  50 jobs       | elapsed:  1.1min\n",
        "[Parallel(n_jobs=1)]: Done  61 jobs       | elapsed:  1.7min\n"
       ]
      },
      {
       "output_type": "stream",
       "stream": "stdout",
       "text": [
        "\n",
        "[GridSearchCV] vect__ngram_range=(1, 2), vect__smooth_idf=False, vect__sublinear_tf=False, vect__binary=False, vect__min_df=1, vect__stop_words=english, vect__use_idf=False \n",
        "[GridSearchCV]  vect__ngram_range=(1, 2), vect__smooth_idf=False, vect__sublinear_tf=False, vect__binary=False, vect__min_df=1, vect__stop_words=english, vect__use_idf=False, score=0.416628 -   1.8s"
       ]
      },
      {
       "output_type": "stream",
       "stream": "stdout",
       "text": [
        "\n",
        "[GridSearchCV] vect__ngram_range=(1, 2), vect__smooth_idf=False, vect__sublinear_tf=False, vect__binary=False, vect__min_df=1, vect__stop_words=english, vect__use_idf=False \n",
        "[GridSearchCV]  vect__ngram_range=(1, 2), vect__smooth_idf=False, vect__sublinear_tf=False, vect__binary=False, vect__min_df=1, vect__stop_words=english, vect__use_idf=False, score=0.401781 -   2.0s"
       ]
      },
      {
       "output_type": "stream",
       "stream": "stdout",
       "text": [
        "\n",
        "[GridSearchCV] vect__ngram_range=(1, 2), vect__smooth_idf=False, vect__sublinear_tf=False, vect__binary=False, vect__min_df=1, vect__stop_words=english, vect__use_idf=True \n",
        "[GridSearchCV]  vect__ngram_range=(1, 2), vect__smooth_idf=False, vect__sublinear_tf=False, vect__binary=False, vect__min_df=1, vect__stop_words=english, vect__use_idf=True, score=0.418869 -   2.0s"
       ]
      },
      {
       "output_type": "stream",
       "stream": "stdout",
       "text": [
        "\n",
        "[GridSearchCV] vect__ngram_range=(1, 2), vect__smooth_idf=False, vect__sublinear_tf=False, vect__binary=False, vect__min_df=1, vect__stop_words=english, vect__use_idf=True \n",
        "[GridSearchCV]  vect__ngram_range=(1, 2), vect__smooth_idf=False, vect__sublinear_tf=False, vect__binary=False, vect__min_df=1, vect__stop_words=english, vect__use_idf=True, score=0.411688 -   2.1s"
       ]
      },
      {
       "output_type": "stream",
       "stream": "stdout",
       "text": [
        "\n",
        "[GridSearchCV] vect__ngram_range=(1, 2), vect__smooth_idf=False, vect__sublinear_tf=False, vect__binary=False, vect__min_df=1, vect__stop_words=english, vect__use_idf=True \n",
        "[GridSearchCV]  vect__ngram_range=(1, 2), vect__smooth_idf=False, vect__sublinear_tf=False, vect__binary=False, vect__min_df=1, vect__stop_words=english, vect__use_idf=True, score=0.409343 -   2.1s"
       ]
      },
      {
       "output_type": "stream",
       "stream": "stdout",
       "text": [
        "\n",
        "[GridSearchCV] vect__ngram_range=(1, 2), vect__smooth_idf=False, vect__sublinear_tf=True, vect__binary=False, vect__min_df=1, vect__stop_words=english, vect__use_idf=False \n",
        "[GridSearchCV]  vect__ngram_range=(1, 2), vect__smooth_idf=False, vect__sublinear_tf=True, vect__binary=False, vect__min_df=1, vect__stop_words=english, vect__use_idf=False, score=0.425318 -   1.9s"
       ]
      },
      {
       "output_type": "stream",
       "stream": "stdout",
       "text": [
        "\n",
        "[GridSearchCV] vect__ngram_range=(1, 2), vect__smooth_idf=False, vect__sublinear_tf=True, vect__binary=False, vect__min_df=1, vect__stop_words=english, vect__use_idf=False \n",
        "[GridSearchCV]  vect__ngram_range=(1, 2), vect__smooth_idf=False, vect__sublinear_tf=True, vect__binary=False, vect__min_df=1, vect__stop_words=english, vect__use_idf=False, score=0.418655 -   2.3s"
       ]
      },
      {
       "output_type": "stream",
       "stream": "stdout",
       "text": [
        "\n",
        "[GridSearchCV] vect__ngram_range=(1, 2), vect__smooth_idf=False, vect__sublinear_tf=True, vect__binary=False, vect__min_df=1, vect__stop_words=english, vect__use_idf=False \n",
        "[GridSearchCV]  vect__ngram_range=(1, 2), vect__smooth_idf=False, vect__sublinear_tf=True, vect__binary=False, vect__min_df=1, vect__stop_words=english, vect__use_idf=False, score=0.408096 -   2.3s"
       ]
      },
      {
       "output_type": "stream",
       "stream": "stdout",
       "text": [
        "\n",
        "[GridSearchCV] vect__ngram_range=(1, 2), vect__smooth_idf=False, vect__sublinear_tf=True, vect__binary=False, vect__min_df=1, vect__stop_words=english, vect__use_idf=True \n",
        "[GridSearchCV]  vect__ngram_range=(1, 2), vect__smooth_idf=False, vect__sublinear_tf=True, vect__binary=False, vect__min_df=1, vect__stop_words=english, vect__use_idf=True, score=0.412401 -   2.2s"
       ]
      },
      {
       "output_type": "stream",
       "stream": "stdout",
       "text": [
        "\n",
        "[GridSearchCV] vect__ngram_range=(1, 2), vect__smooth_idf=False, vect__sublinear_tf=True, vect__binary=False, vect__min_df=1, vect__stop_words=english, vect__use_idf=True \n",
        "[GridSearchCV]  vect__ngram_range=(1, 2), vect__smooth_idf=False, vect__sublinear_tf=True, vect__binary=False, vect__min_df=1, vect__stop_words=english, vect__use_idf=True, score=0.422022 -   2.3s"
       ]
      },
      {
       "output_type": "stream",
       "stream": "stdout",
       "text": [
        "\n",
        "[GridSearchCV] vect__ngram_range=(1, 2), vect__smooth_idf=False, vect__sublinear_tf=True, vect__binary=False, vect__min_df=1, vect__stop_words=english, vect__use_idf=True \n",
        "[GridSearchCV]  vect__ngram_range=(1, 2), vect__smooth_idf=False, vect__sublinear_tf=True, vect__binary=False, vect__min_df=1, vect__stop_words=english, vect__use_idf=True, score=0.418722 -   2.3s"
       ]
      },
      {
       "output_type": "stream",
       "stream": "stdout",
       "text": [
        "\n",
        "[GridSearchCV] vect__ngram_range=(1, 2), vect__smooth_idf=True, vect__sublinear_tf=False, vect__binary=False, vect__min_df=1, vect__stop_words=None, vect__use_idf=False \n",
        "[GridSearchCV]  vect__ngram_range=(1, 2), vect__smooth_idf=True, vect__sublinear_tf=False, vect__binary=False, vect__min_df=1, vect__stop_words=None, vect__use_idf=False, score=0.438701 -   3.3s"
       ]
      },
      {
       "output_type": "stream",
       "stream": "stdout",
       "text": [
        "\n",
        "[GridSearchCV] vect__ngram_range=(1, 2), vect__smooth_idf=True, vect__sublinear_tf=False, vect__binary=False, vect__min_df=1, vect__stop_words=None, vect__use_idf=False \n",
        "[GridSearchCV]  vect__ngram_range=(1, 2), vect__smooth_idf=True, vect__sublinear_tf=False, vect__binary=False, vect__min_df=1, vect__stop_words=None, vect__use_idf=False, score=0.432322 -   3.4s"
       ]
      },
      {
       "output_type": "stream",
       "stream": "stdout",
       "text": [
        "\n",
        "[GridSearchCV] vect__ngram_range=(1, 2), vect__smooth_idf=True, vect__sublinear_tf=False, vect__binary=False, vect__min_df=1, vect__stop_words=None, vect__use_idf=False \n",
        "[GridSearchCV]  vect__ngram_range=(1, 2), vect__smooth_idf=True, vect__sublinear_tf=False, vect__binary=False, vect__min_df=1, vect__stop_words=None, vect__use_idf=False, score=0.419155 -   3.0s"
       ]
      },
      {
       "output_type": "stream",
       "stream": "stdout",
       "text": [
        "\n",
        "[GridSearchCV] vect__ngram_range=(1, 2), vect__smooth_idf=True, vect__sublinear_tf=False, vect__binary=False, vect__min_df=1, vect__stop_words=None, vect__use_idf=True \n",
        "[GridSearchCV]  vect__ngram_range=(1, 2), vect__smooth_idf=True, vect__sublinear_tf=False, vect__binary=False, vect__min_df=1, vect__stop_words=None, vect__use_idf=True, score=0.430760 -   3.1s"
       ]
      },
      {
       "output_type": "stream",
       "stream": "stdout",
       "text": [
        "\n",
        "[GridSearchCV] vect__ngram_range=(1, 2), vect__smooth_idf=True, vect__sublinear_tf=False, vect__binary=False, vect__min_df=1, vect__stop_words=None, vect__use_idf=True "
       ]
      },
      {
       "output_type": "stream",
       "stream": "stdout",
       "text": [
        "\n",
        "[GridSearchCV]  vect__ngram_range=(1, 2), vect__smooth_idf=True, vect__sublinear_tf=False, vect__binary=False, vect__min_df=1, vect__stop_words=None, vect__use_idf=True, score=0.440058 -   4.3s"
       ]
      },
      {
       "output_type": "stream",
       "stream": "stdout",
       "text": [
        "\n",
        "[GridSearchCV] vect__ngram_range=(1, 2), vect__smooth_idf=True, vect__sublinear_tf=False, vect__binary=False, vect__min_df=1, vect__stop_words=None, vect__use_idf=True \n",
        "[GridSearchCV]  vect__ngram_range=(1, 2), vect__smooth_idf=True, vect__sublinear_tf=False, vect__binary=False, vect__min_df=1, vect__stop_words=None, vect__use_idf=True, score=0.411324 -   2.7s"
       ]
      },
      {
       "output_type": "stream",
       "stream": "stdout",
       "text": [
        "\n",
        "[GridSearchCV] vect__ngram_range=(1, 2), vect__smooth_idf=True, vect__sublinear_tf=True, vect__binary=False, vect__min_df=1, vect__stop_words=None, vect__use_idf=False \n",
        "[GridSearchCV]  vect__ngram_range=(1, 2), vect__smooth_idf=True, vect__sublinear_tf=True, vect__binary=False, vect__min_df=1, vect__stop_words=None, vect__use_idf=False, score=0.432900 -   3.9s"
       ]
      },
      {
       "output_type": "stream",
       "stream": "stdout",
       "text": [
        "\n",
        "[GridSearchCV] vect__ngram_range=(1, 2), vect__smooth_idf=True, vect__sublinear_tf=True, vect__binary=False, vect__min_df=1, vect__stop_words=None, vect__use_idf=False "
       ]
      },
      {
       "output_type": "stream",
       "stream": "stdout",
       "text": [
        "\n",
        "[GridSearchCV]  vect__ngram_range=(1, 2), vect__smooth_idf=True, vect__sublinear_tf=True, vect__binary=False, vect__min_df=1, vect__stop_words=None, vect__use_idf=False, score=0.437953 -   3.7s"
       ]
      },
      {
       "output_type": "stream",
       "stream": "stdout",
       "text": [
        "\n",
        "[GridSearchCV] vect__ngram_range=(1, 2), vect__smooth_idf=True, vect__sublinear_tf=True, vect__binary=False, vect__min_df=1, vect__stop_words=None, vect__use_idf=False \n",
        "[GridSearchCV]  vect__ngram_range=(1, 2), vect__smooth_idf=True, vect__sublinear_tf=True, vect__binary=False, vect__min_df=1, vect__stop_words=None, vect__use_idf=False, score=0.427277 -   3.4s"
       ]
      },
      {
       "output_type": "stream",
       "stream": "stdout",
       "text": [
        "\n",
        "[GridSearchCV] vect__ngram_range=(1, 2), vect__smooth_idf=True, vect__sublinear_tf=True, vect__binary=False, vect__min_df=1, vect__stop_words=None, vect__use_idf=True \n",
        "[GridSearchCV]  vect__ngram_range=(1, 2), vect__smooth_idf=True, vect__sublinear_tf=True, vect__binary=False, vect__min_df=1, vect__stop_words=None, vect__use_idf=True, score=0.442914 -   3.8s"
       ]
      },
      {
       "output_type": "stream",
       "stream": "stdout",
       "text": [
        "\n",
        "[GridSearchCV] vect__ngram_range=(1, 2), vect__smooth_idf=True, vect__sublinear_tf=True, vect__binary=False, vect__min_df=1, vect__stop_words=None, vect__use_idf=True \n",
        "[GridSearchCV]  vect__ngram_range=(1, 2), vect__smooth_idf=True, vect__sublinear_tf=True, vect__binary=False, vect__min_df=1, vect__stop_words=None, vect__use_idf=True, score=0.445794 -   3.4s"
       ]
      },
      {
       "output_type": "stream",
       "stream": "stdout",
       "text": [
        "\n",
        "[GridSearchCV] vect__ngram_range=(1, 2), vect__smooth_idf=True, vect__sublinear_tf=True, vect__binary=False, vect__min_df=1, vect__stop_words=None, vect__use_idf=True \n",
        "[GridSearchCV]  vect__ngram_range=(1, 2), vect__smooth_idf=True, vect__sublinear_tf=True, vect__binary=False, vect__min_df=1, vect__stop_words=None, vect__use_idf=True, score=0.415459 -   3.2s"
       ]
      },
      {
       "output_type": "stream",
       "stream": "stdout",
       "text": [
        "\n",
        "[GridSearchCV] vect__ngram_range=(1, 2), vect__smooth_idf=True, vect__sublinear_tf=False, vect__binary=False, vect__min_df=1, vect__stop_words=english, vect__use_idf=False \n",
        "[GridSearchCV]  vect__ngram_range=(1, 2), vect__smooth_idf=True, vect__sublinear_tf=False, vect__binary=False, vect__min_df=1, vect__stop_words=english, vect__use_idf=False, score=0.422714 -   3.4s"
       ]
      },
      {
       "output_type": "stream",
       "stream": "stderr",
       "text": [
        "[Parallel(n_jobs=1)]: Done  72 jobs       | elapsed:  2.1min\n",
        "[Parallel(n_jobs=1)]: Done  85 jobs       | elapsed:  2.8min\n"
       ]
      },
      {
       "output_type": "stream",
       "stream": "stdout",
       "text": [
        "\n",
        "[GridSearchCV] vect__ngram_range=(1, 2), vect__smooth_idf=True, vect__sublinear_tf=False, vect__binary=False, vect__min_df=1, vect__stop_words=english, vect__use_idf=False "
       ]
      },
      {
       "output_type": "stream",
       "stream": "stdout",
       "text": [
        "\n",
        "[GridSearchCV]  vect__ngram_range=(1, 2), vect__smooth_idf=True, vect__sublinear_tf=False, vect__binary=False, vect__min_df=1, vect__stop_words=english, vect__use_idf=False, score=0.416628 -   2.4s"
       ]
      },
      {
       "output_type": "stream",
       "stream": "stdout",
       "text": [
        "\n",
        "[GridSearchCV] vect__ngram_range=(1, 2), vect__smooth_idf=True, vect__sublinear_tf=False, vect__binary=False, vect__min_df=1, vect__stop_words=english, vect__use_idf=False \n",
        "[GridSearchCV]  vect__ngram_range=(1, 2), vect__smooth_idf=True, vect__sublinear_tf=False, vect__binary=False, vect__min_df=1, vect__stop_words=english, vect__use_idf=False, score=0.401781 -   2.5s"
       ]
      },
      {
       "output_type": "stream",
       "stream": "stdout",
       "text": [
        "\n",
        "[GridSearchCV] vect__ngram_range=(1, 2), vect__smooth_idf=True, vect__sublinear_tf=False, vect__binary=False, vect__min_df=1, vect__stop_words=english, vect__use_idf=True \n",
        "[GridSearchCV]  vect__ngram_range=(1, 2), vect__smooth_idf=True, vect__sublinear_tf=False, vect__binary=False, vect__min_df=1, vect__stop_words=english, vect__use_idf=True, score=0.415269 -   2.1s"
       ]
      },
      {
       "output_type": "stream",
       "stream": "stdout",
       "text": [
        "\n",
        "[GridSearchCV] vect__ngram_range=(1, 2), vect__smooth_idf=True, vect__sublinear_tf=False, vect__binary=False, vect__min_df=1, vect__stop_words=english, vect__use_idf=True \n",
        "[GridSearchCV]  vect__ngram_range=(1, 2), vect__smooth_idf=True, vect__sublinear_tf=False, vect__binary=False, vect__min_df=1, vect__stop_words=english, vect__use_idf=True, score=0.409182 -   1.9s"
       ]
      },
      {
       "output_type": "stream",
       "stream": "stdout",
       "text": [
        "\n",
        "[GridSearchCV] vect__ngram_range=(1, 2), vect__smooth_idf=True, vect__sublinear_tf=False, vect__binary=False, vect__min_df=1, vect__stop_words=english, vect__use_idf=True \n",
        "[GridSearchCV]  vect__ngram_range=(1, 2), vect__smooth_idf=True, vect__sublinear_tf=False, vect__binary=False, vect__min_df=1, vect__stop_words=english, vect__use_idf=True, score=0.412312 -   1.8s"
       ]
      },
      {
       "output_type": "stream",
       "stream": "stdout",
       "text": [
        "\n",
        "[GridSearchCV] vect__ngram_range=(1, 2), vect__smooth_idf=True, vect__sublinear_tf=True, vect__binary=False, vect__min_df=1, vect__stop_words=english, vect__use_idf=False \n",
        "[GridSearchCV]  vect__ngram_range=(1, 2), vect__smooth_idf=True, vect__sublinear_tf=True, vect__binary=False, vect__min_df=1, vect__stop_words=english, vect__use_idf=False, score=0.426066 -   1.9s"
       ]
      },
      {
       "output_type": "stream",
       "stream": "stdout",
       "text": [
        "\n",
        "[GridSearchCV] vect__ngram_range=(1, 2), vect__smooth_idf=True, vect__sublinear_tf=True, vect__binary=False, vect__min_df=1, vect__stop_words=english, vect__use_idf=False \n",
        "[GridSearchCV]  vect__ngram_range=(1, 2), vect__smooth_idf=True, vect__sublinear_tf=True, vect__binary=False, vect__min_df=1, vect__stop_words=english, vect__use_idf=False, score=0.418655 -   2.0s"
       ]
      },
      {
       "output_type": "stream",
       "stream": "stdout",
       "text": [
        "\n",
        "[GridSearchCV] vect__ngram_range=(1, 2), vect__smooth_idf=True, vect__sublinear_tf=True, vect__binary=False, vect__min_df=1, vect__stop_words=english, vect__use_idf=False \n",
        "[GridSearchCV]  vect__ngram_range=(1, 2), vect__smooth_idf=True, vect__sublinear_tf=True, vect__binary=False, vect__min_df=1, vect__stop_words=english, vect__use_idf=False, score=0.408096 -   2.0s"
       ]
      },
      {
       "output_type": "stream",
       "stream": "stdout",
       "text": [
        "\n",
        "[GridSearchCV] vect__ngram_range=(1, 2), vect__smooth_idf=True, vect__sublinear_tf=True, vect__binary=False, vect__min_df=1, vect__stop_words=english, vect__use_idf=True \n",
        "[GridSearchCV]  vect__ngram_range=(1, 2), vect__smooth_idf=True, vect__sublinear_tf=True, vect__binary=False, vect__min_df=1, vect__stop_words=english, vect__use_idf=True, score=0.410537 -   1.8s"
       ]
      },
      {
       "output_type": "stream",
       "stream": "stdout",
       "text": [
        "\n",
        "[GridSearchCV] vect__ngram_range=(1, 2), vect__smooth_idf=True, vect__sublinear_tf=True, vect__binary=False, vect__min_df=1, vect__stop_words=english, vect__use_idf=True \n",
        "[GridSearchCV]  vect__ngram_range=(1, 2), vect__smooth_idf=True, vect__sublinear_tf=True, vect__binary=False, vect__min_df=1, vect__stop_words=english, vect__use_idf=True, score=0.424844 -   1.9s"
       ]
      },
      {
       "output_type": "stream",
       "stream": "stdout",
       "text": [
        "\n",
        "[GridSearchCV] vect__ngram_range=(1, 2), vect__smooth_idf=True, vect__sublinear_tf=True, vect__binary=False, vect__min_df=1, vect__stop_words=english, vect__use_idf=True \n",
        "[GridSearchCV]  vect__ngram_range=(1, 2), vect__smooth_idf=True, vect__sublinear_tf=True, vect__binary=False, vect__min_df=1, vect__stop_words=english, vect__use_idf=True, score=0.421644 -   1.8s"
       ]
      },
      {
       "output_type": "stream",
       "stream": "stdout",
       "text": [
        "\n",
        "[GridSearchCV] vect__ngram_range=(1, 1), vect__smooth_idf=False, vect__sublinear_tf=False, vect__binary=False, vect__min_df=2, vect__stop_words=None, vect__use_idf=False \n",
        "[GridSearchCV]  vect__ngram_range=(1, 1), vect__smooth_idf=False, vect__sublinear_tf=False, vect__binary=False, vect__min_df=2, vect__stop_words=None, vect__use_idf=False, score=0.457535 -   1.9s"
       ]
      },
      {
       "output_type": "stream",
       "stream": "stdout",
       "text": [
        "\n",
        "[GridSearchCV] vect__ngram_range=(1, 1), vect__smooth_idf=False, vect__sublinear_tf=False, vect__binary=False, vect__min_df=2, vect__stop_words=None, vect__use_idf=False \n",
        "[GridSearchCV]  vect__ngram_range=(1, 1), vect__smooth_idf=False, vect__sublinear_tf=False, vect__binary=False, vect__min_df=2, vect__stop_words=None, vect__use_idf=False, score=0.438233 -   2.0s"
       ]
      },
      {
       "output_type": "stream",
       "stream": "stdout",
       "text": [
        "\n",
        "[GridSearchCV] vect__ngram_range=(1, 1), vect__smooth_idf=False, vect__sublinear_tf=False, vect__binary=False, vect__min_df=2, vect__stop_words=None, vect__use_idf=False \n",
        "[GridSearchCV]  vect__ngram_range=(1, 1), vect__smooth_idf=False, vect__sublinear_tf=False, vect__binary=False, vect__min_df=2, vect__stop_words=None, vect__use_idf=False, score=0.400704 -   1.9s"
       ]
      },
      {
       "output_type": "stream",
       "stream": "stdout",
       "text": [
        "\n",
        "[GridSearchCV] vect__ngram_range=(1, 1), vect__smooth_idf=False, vect__sublinear_tf=False, vect__binary=False, vect__min_df=2, vect__stop_words=None, vect__use_idf=True \n",
        "[GridSearchCV]  vect__ngram_range=(1, 1), vect__smooth_idf=False, vect__sublinear_tf=False, vect__binary=False, vect__min_df=2, vect__stop_words=None, vect__use_idf=True, score=0.455207 -   1.4s"
       ]
      },
      {
       "output_type": "stream",
       "stream": "stdout",
       "text": [
        "\n",
        "[GridSearchCV] vect__ngram_range=(1, 1), vect__smooth_idf=False, vect__sublinear_tf=False, vect__binary=False, vect__min_df=2, vect__stop_words=None, vect__use_idf=True \n",
        "[GridSearchCV]  vect__ngram_range=(1, 1), vect__smooth_idf=False, vect__sublinear_tf=False, vect__binary=False, vect__min_df=2, vect__stop_words=None, vect__use_idf=True, score=0.423375 -   1.5s"
       ]
      },
      {
       "output_type": "stream",
       "stream": "stdout",
       "text": [
        "\n",
        "[GridSearchCV] vect__ngram_range=(1, 1), vect__smooth_idf=False, vect__sublinear_tf=False, vect__binary=False, vect__min_df=2, vect__stop_words=None, vect__use_idf=True \n",
        "[GridSearchCV]  vect__ngram_range=(1, 1), vect__smooth_idf=False, vect__sublinear_tf=False, vect__binary=False, vect__min_df=2, vect__stop_words=None, vect__use_idf=True, score=0.412042 -   1.6s"
       ]
      },
      {
       "output_type": "stream",
       "stream": "stdout",
       "text": [
        "\n",
        "[GridSearchCV] vect__ngram_range=(1, 1), vect__smooth_idf=False, vect__sublinear_tf=True, vect__binary=False, vect__min_df=2, vect__stop_words=None, vect__use_idf=False \n",
        "[GridSearchCV]  vect__ngram_range=(1, 1), vect__smooth_idf=False, vect__sublinear_tf=True, vect__binary=False, vect__min_df=2, vect__stop_words=None, vect__use_idf=False, score=0.449042 -   1.9s"
       ]
      },
      {
       "output_type": "stream",
       "stream": "stdout",
       "text": [
        "\n",
        "[GridSearchCV] vect__ngram_range=(1, 1), vect__smooth_idf=False, vect__sublinear_tf=True, vect__binary=False, vect__min_df=2, vect__stop_words=None, vect__use_idf=False \n",
        "[GridSearchCV]  vect__ngram_range=(1, 1), vect__smooth_idf=False, vect__sublinear_tf=True, vect__binary=False, vect__min_df=2, vect__stop_words=None, vect__use_idf=False, score=0.447229 -   2.0s"
       ]
      },
      {
       "output_type": "stream",
       "stream": "stdout",
       "text": [
        "\n",
        "[GridSearchCV] vect__ngram_range=(1, 1), vect__smooth_idf=False, vect__sublinear_tf=True, vect__binary=False, vect__min_df=2, vect__stop_words=None, vect__use_idf=False \n",
        "[GridSearchCV]  vect__ngram_range=(1, 1), vect__smooth_idf=False, vect__sublinear_tf=True, vect__binary=False, vect__min_df=2, vect__stop_words=None, vect__use_idf=False, score=0.412009 -   2.0s"
       ]
      },
      {
       "output_type": "stream",
       "stream": "stdout",
       "text": [
        "\n",
        "[GridSearchCV] vect__ngram_range=(1, 1), vect__smooth_idf=False, vect__sublinear_tf=True, vect__binary=False, vect__min_df=2, vect__stop_words=None, vect__use_idf=True \n",
        "[GridSearchCV]  vect__ngram_range=(1, 1), vect__smooth_idf=False, vect__sublinear_tf=True, vect__binary=False, vect__min_df=2, vect__stop_words=None, vect__use_idf=True, score=0.450899 -   1.7s"
       ]
      },
      {
       "output_type": "stream",
       "stream": "stdout",
       "text": [
        "\n",
        "[GridSearchCV] vect__ngram_range=(1, 1), vect__smooth_idf=False, vect__sublinear_tf=True, vect__binary=False, vect__min_df=2, vect__stop_words=None, vect__use_idf=True \n",
        "[GridSearchCV]  vect__ngram_range=(1, 1), vect__smooth_idf=False, vect__sublinear_tf=True, vect__binary=False, vect__min_df=2, vect__stop_words=None, vect__use_idf=True, score=0.427187 -   1.7s"
       ]
      },
      {
       "output_type": "stream",
       "stream": "stdout",
       "text": [
        "\n",
        "[GridSearchCV] vect__ngram_range=(1, 1), vect__smooth_idf=False, vect__sublinear_tf=True, vect__binary=False, vect__min_df=2, vect__stop_words=None, vect__use_idf=True \n",
        "[GridSearchCV]  vect__ngram_range=(1, 1), vect__smooth_idf=False, vect__sublinear_tf=True, vect__binary=False, vect__min_df=2, vect__stop_words=None, vect__use_idf=True, score=0.413162 -   1.7s"
       ]
      },
      {
       "output_type": "stream",
       "stream": "stdout",
       "text": [
        "\n",
        "[GridSearchCV] vect__ngram_range=(1, 1), vect__smooth_idf=False, vect__sublinear_tf=False, vect__binary=False, vect__min_df=2, vect__stop_words=english, vect__use_idf=False \n",
        "[GridSearchCV]  vect__ngram_range=(1, 1), vect__smooth_idf=False, vect__sublinear_tf=False, vect__binary=False, vect__min_df=2, vect__stop_words=english, vect__use_idf=False, score=0.422066 -   0.9s"
       ]
      },
      {
       "output_type": "stream",
       "stream": "stdout",
       "text": [
        "\n",
        "[GridSearchCV] vect__ngram_range=(1, 1), vect__smooth_idf=False, vect__sublinear_tf=False, vect__binary=False, vect__min_df=2, vect__stop_words=english, vect__use_idf=False \n",
        "[GridSearchCV]  vect__ngram_range=(1, 1), vect__smooth_idf=False, vect__sublinear_tf=False, vect__binary=False, vect__min_df=2, vect__stop_words=english, vect__use_idf=False, score=0.414342 -   0.9s"
       ]
      },
      {
       "output_type": "stream",
       "stream": "stdout",
       "text": [
        "\n",
        "[GridSearchCV] vect__ngram_range=(1, 1), vect__smooth_idf=False, vect__sublinear_tf=False, vect__binary=False, vect__min_df=2, vect__stop_words=english, vect__use_idf=False \n",
        "[GridSearchCV]  vect__ngram_range=(1, 1), vect__smooth_idf=False, vect__sublinear_tf=False, vect__binary=False, vect__min_df=2, vect__stop_words=english, vect__use_idf=False, score=0.395926 -   0.9s"
       ]
      },
      {
       "output_type": "stream",
       "stream": "stdout",
       "text": [
        "\n",
        "[GridSearchCV] vect__ngram_range=(1, 1), vect__smooth_idf=False, vect__sublinear_tf=False, vect__binary=False, vect__min_df=2, vect__stop_words=english, vect__use_idf=True \n",
        "[GridSearchCV]  vect__ngram_range=(1, 1), vect__smooth_idf=False, vect__sublinear_tf=False, vect__binary=False, vect__min_df=2, vect__stop_words=english, vect__use_idf=True, score=0.439760 -   0.9s"
       ]
      },
      {
       "output_type": "stream",
       "stream": "stdout",
       "text": [
        "\n",
        "[GridSearchCV] vect__ngram_range=(1, 1), vect__smooth_idf=False, vect__sublinear_tf=False, vect__binary=False, vect__min_df=2, vect__stop_words=english, vect__use_idf=True \n",
        "[GridSearchCV]  vect__ngram_range=(1, 1), vect__smooth_idf=False, vect__sublinear_tf=False, vect__binary=False, vect__min_df=2, vect__stop_words=english, vect__use_idf=True, score=0.417414 -   0.8s"
       ]
      },
      {
       "output_type": "stream",
       "stream": "stderr",
       "text": [
        "[Parallel(n_jobs=1)]: Done  98 jobs       | elapsed:  3.3min\n",
        "[Parallel(n_jobs=1)]: Done 113 jobs       | elapsed:  3.6min\n"
       ]
      },
      {
       "output_type": "stream",
       "stream": "stdout",
       "text": [
        "\n",
        "[GridSearchCV] vect__ngram_range=(1, 1), vect__smooth_idf=False, vect__sublinear_tf=False, vect__binary=False, vect__min_df=2, vect__stop_words=english, vect__use_idf=True \n",
        "[GridSearchCV]  vect__ngram_range=(1, 1), vect__smooth_idf=False, vect__sublinear_tf=False, vect__binary=False, vect__min_df=2, vect__stop_words=english, vect__use_idf=True, score=0.396966 -   0.8s"
       ]
      },
      {
       "output_type": "stream",
       "stream": "stdout",
       "text": [
        "\n",
        "[GridSearchCV] vect__ngram_range=(1, 1), vect__smooth_idf=False, vect__sublinear_tf=True, vect__binary=False, vect__min_df=2, vect__stop_words=english, vect__use_idf=False \n",
        "[GridSearchCV]  vect__ngram_range=(1, 1), vect__smooth_idf=False, vect__sublinear_tf=True, vect__binary=False, vect__min_df=2, vect__stop_words=english, vect__use_idf=False, score=0.432364 -   0.8s"
       ]
      },
      {
       "output_type": "stream",
       "stream": "stdout",
       "text": [
        "\n",
        "[GridSearchCV] vect__ngram_range=(1, 1), vect__smooth_idf=False, vect__sublinear_tf=True, vect__binary=False, vect__min_df=2, vect__stop_words=english, vect__use_idf=False \n",
        "[GridSearchCV]  vect__ngram_range=(1, 1), vect__smooth_idf=False, vect__sublinear_tf=True, vect__binary=False, vect__min_df=2, vect__stop_words=english, vect__use_idf=False, score=0.412534 -   1.0s"
       ]
      },
      {
       "output_type": "stream",
       "stream": "stdout",
       "text": [
        "\n",
        "[GridSearchCV] vect__ngram_range=(1, 1), vect__smooth_idf=False, vect__sublinear_tf=True, vect__binary=False, vect__min_df=2, vect__stop_words=english, vect__use_idf=False \n",
        "[GridSearchCV]  vect__ngram_range=(1, 1), vect__smooth_idf=False, vect__sublinear_tf=True, vect__binary=False, vect__min_df=2, vect__stop_words=english, vect__use_idf=False, score=0.392061 -   0.9s"
       ]
      },
      {
       "output_type": "stream",
       "stream": "stdout",
       "text": [
        "\n",
        "[GridSearchCV] vect__ngram_range=(1, 1), vect__smooth_idf=False, vect__sublinear_tf=True, vect__binary=False, vect__min_df=2, vect__stop_words=english, vect__use_idf=True \n",
        "[GridSearchCV]  vect__ngram_range=(1, 1), vect__smooth_idf=False, vect__sublinear_tf=True, vect__binary=False, vect__min_df=2, vect__stop_words=english, vect__use_idf=True, score=0.432407 -   0.9s"
       ]
      },
      {
       "output_type": "stream",
       "stream": "stdout",
       "text": [
        "\n",
        "[GridSearchCV] vect__ngram_range=(1, 1), vect__smooth_idf=False, vect__sublinear_tf=True, vect__binary=False, vect__min_df=2, vect__stop_words=english, vect__use_idf=True \n",
        "[GridSearchCV]  vect__ngram_range=(1, 1), vect__smooth_idf=False, vect__sublinear_tf=True, vect__binary=False, vect__min_df=2, vect__stop_words=english, vect__use_idf=True, score=0.417725 -   0.9s"
       ]
      },
      {
       "output_type": "stream",
       "stream": "stdout",
       "text": [
        "\n",
        "[GridSearchCV] vect__ngram_range=(1, 1), vect__smooth_idf=False, vect__sublinear_tf=True, vect__binary=False, vect__min_df=2, vect__stop_words=english, vect__use_idf=True \n",
        "[GridSearchCV]  vect__ngram_range=(1, 1), vect__smooth_idf=False, vect__sublinear_tf=True, vect__binary=False, vect__min_df=2, vect__stop_words=english, vect__use_idf=True, score=0.398029 -   0.9s"
       ]
      },
      {
       "output_type": "stream",
       "stream": "stdout",
       "text": [
        "\n",
        "[GridSearchCV] vect__ngram_range=(1, 1), vect__smooth_idf=True, vect__sublinear_tf=False, vect__binary=False, vect__min_df=2, vect__stop_words=None, vect__use_idf=False \n",
        "[GridSearchCV]  vect__ngram_range=(1, 1), vect__smooth_idf=True, vect__sublinear_tf=False, vect__binary=False, vect__min_df=2, vect__stop_words=None, vect__use_idf=False, score=0.457535 -   1.7s"
       ]
      },
      {
       "output_type": "stream",
       "stream": "stdout",
       "text": [
        "\n",
        "[GridSearchCV] vect__ngram_range=(1, 1), vect__smooth_idf=True, vect__sublinear_tf=False, vect__binary=False, vect__min_df=2, vect__stop_words=None, vect__use_idf=False \n",
        "[GridSearchCV]  vect__ngram_range=(1, 1), vect__smooth_idf=True, vect__sublinear_tf=False, vect__binary=False, vect__min_df=2, vect__stop_words=None, vect__use_idf=False, score=0.438233 -   1.9s"
       ]
      },
      {
       "output_type": "stream",
       "stream": "stdout",
       "text": [
        "\n",
        "[GridSearchCV] vect__ngram_range=(1, 1), vect__smooth_idf=True, vect__sublinear_tf=False, vect__binary=False, vect__min_df=2, vect__stop_words=None, vect__use_idf=False \n",
        "[GridSearchCV]  vect__ngram_range=(1, 1), vect__smooth_idf=True, vect__sublinear_tf=False, vect__binary=False, vect__min_df=2, vect__stop_words=None, vect__use_idf=False, score=0.400704 -   1.7s"
       ]
      },
      {
       "output_type": "stream",
       "stream": "stdout",
       "text": [
        "\n",
        "[GridSearchCV] vect__ngram_range=(1, 1), vect__smooth_idf=True, vect__sublinear_tf=False, vect__binary=False, vect__min_df=2, vect__stop_words=None, vect__use_idf=True \n",
        "[GridSearchCV]  vect__ngram_range=(1, 1), vect__smooth_idf=True, vect__sublinear_tf=False, vect__binary=False, vect__min_df=2, vect__stop_words=None, vect__use_idf=True, score=0.454315 -   1.5s"
       ]
      },
      {
       "output_type": "stream",
       "stream": "stdout",
       "text": [
        "\n",
        "[GridSearchCV] vect__ngram_range=(1, 1), vect__smooth_idf=True, vect__sublinear_tf=False, vect__binary=False, vect__min_df=2, vect__stop_words=None, vect__use_idf=True \n",
        "[GridSearchCV]  vect__ngram_range=(1, 1), vect__smooth_idf=True, vect__sublinear_tf=False, vect__binary=False, vect__min_df=2, vect__stop_words=None, vect__use_idf=True, score=0.423254 -   1.4s"
       ]
      },
      {
       "output_type": "stream",
       "stream": "stdout",
       "text": [
        "\n",
        "[GridSearchCV] vect__ngram_range=(1, 1), vect__smooth_idf=True, vect__sublinear_tf=False, vect__binary=False, vect__min_df=2, vect__stop_words=None, vect__use_idf=True \n",
        "[GridSearchCV]  vect__ngram_range=(1, 1), vect__smooth_idf=True, vect__sublinear_tf=False, vect__binary=False, vect__min_df=2, vect__stop_words=None, vect__use_idf=True, score=0.409645 -   1.5s"
       ]
      },
      {
       "output_type": "stream",
       "stream": "stdout",
       "text": [
        "\n",
        "[GridSearchCV] vect__ngram_range=(1, 1), vect__smooth_idf=True, vect__sublinear_tf=True, vect__binary=False, vect__min_df=2, vect__stop_words=None, vect__use_idf=False \n",
        "[GridSearchCV]  vect__ngram_range=(1, 1), vect__smooth_idf=True, vect__sublinear_tf=True, vect__binary=False, vect__min_df=2, vect__stop_words=None, vect__use_idf=False, score=0.449042 -   1.9s"
       ]
      },
      {
       "output_type": "stream",
       "stream": "stdout",
       "text": [
        "\n",
        "[GridSearchCV] vect__ngram_range=(1, 1), vect__smooth_idf=True, vect__sublinear_tf=True, vect__binary=False, vect__min_df=2, vect__stop_words=None, vect__use_idf=False \n",
        "[GridSearchCV]  vect__ngram_range=(1, 1), vect__smooth_idf=True, vect__sublinear_tf=True, vect__binary=False, vect__min_df=2, vect__stop_words=None, vect__use_idf=False, score=0.447229 -   2.0s"
       ]
      },
      {
       "output_type": "stream",
       "stream": "stdout",
       "text": [
        "\n",
        "[GridSearchCV] vect__ngram_range=(1, 1), vect__smooth_idf=True, vect__sublinear_tf=True, vect__binary=False, vect__min_df=2, vect__stop_words=None, vect__use_idf=False \n",
        "[GridSearchCV]  vect__ngram_range=(1, 1), vect__smooth_idf=True, vect__sublinear_tf=True, vect__binary=False, vect__min_df=2, vect__stop_words=None, vect__use_idf=False, score=0.412009 -   1.9s"
       ]
      },
      {
       "output_type": "stream",
       "stream": "stdout",
       "text": [
        "\n",
        "[GridSearchCV] vect__ngram_range=(1, 1), vect__smooth_idf=True, vect__sublinear_tf=True, vect__binary=False, vect__min_df=2, vect__stop_words=None, vect__use_idf=True \n",
        "[GridSearchCV]  vect__ngram_range=(1, 1), vect__smooth_idf=True, vect__sublinear_tf=True, vect__binary=False, vect__min_df=2, vect__stop_words=None, vect__use_idf=True, score=0.450178 -   1.7s"
       ]
      },
      {
       "output_type": "stream",
       "stream": "stdout",
       "text": [
        "\n",
        "[GridSearchCV] vect__ngram_range=(1, 1), vect__smooth_idf=True, vect__sublinear_tf=True, vect__binary=False, vect__min_df=2, vect__stop_words=None, vect__use_idf=True \n",
        "[GridSearchCV]  vect__ngram_range=(1, 1), vect__smooth_idf=True, vect__sublinear_tf=True, vect__binary=False, vect__min_df=2, vect__stop_words=None, vect__use_idf=True, score=0.425751 -   1.8s"
       ]
      },
      {
       "output_type": "stream",
       "stream": "stdout",
       "text": [
        "\n",
        "[GridSearchCV] vect__ngram_range=(1, 1), vect__smooth_idf=True, vect__sublinear_tf=True, vect__binary=False, vect__min_df=2, vect__stop_words=None, vect__use_idf=True \n",
        "[GridSearchCV]  vect__ngram_range=(1, 1), vect__smooth_idf=True, vect__sublinear_tf=True, vect__binary=False, vect__min_df=2, vect__stop_words=None, vect__use_idf=True, score=0.410642 -   1.7s"
       ]
      },
      {
       "output_type": "stream",
       "stream": "stdout",
       "text": [
        "\n",
        "[GridSearchCV] vect__ngram_range=(1, 1), vect__smooth_idf=True, vect__sublinear_tf=False, vect__binary=False, vect__min_df=2, vect__stop_words=english, vect__use_idf=False \n",
        "[GridSearchCV]  vect__ngram_range=(1, 1), vect__smooth_idf=True, vect__sublinear_tf=False, vect__binary=False, vect__min_df=2, vect__stop_words=english, vect__use_idf=False, score=0.422066 -   0.9s"
       ]
      },
      {
       "output_type": "stream",
       "stream": "stdout",
       "text": [
        "\n",
        "[GridSearchCV] vect__ngram_range=(1, 1), vect__smooth_idf=True, vect__sublinear_tf=False, vect__binary=False, vect__min_df=2, vect__stop_words=english, vect__use_idf=False \n",
        "[GridSearchCV]  vect__ngram_range=(1, 1), vect__smooth_idf=True, vect__sublinear_tf=False, vect__binary=False, vect__min_df=2, vect__stop_words=english, vect__use_idf=False, score=0.414342 -   0.8s"
       ]
      },
      {
       "output_type": "stream",
       "stream": "stdout",
       "text": [
        "\n",
        "[GridSearchCV] vect__ngram_range=(1, 1), vect__smooth_idf=True, vect__sublinear_tf=False, vect__binary=False, vect__min_df=2, vect__stop_words=english, vect__use_idf=False \n",
        "[GridSearchCV]  vect__ngram_range=(1, 1), vect__smooth_idf=True, vect__sublinear_tf=False, vect__binary=False, vect__min_df=2, vect__stop_words=english, vect__use_idf=False, score=0.395926 -   0.9s"
       ]
      },
      {
       "output_type": "stream",
       "stream": "stdout",
       "text": [
        "\n",
        "[GridSearchCV] vect__ngram_range=(1, 1), vect__smooth_idf=True, vect__sublinear_tf=False, vect__binary=False, vect__min_df=2, vect__stop_words=english, vect__use_idf=True \n",
        "[GridSearchCV]  vect__ngram_range=(1, 1), vect__smooth_idf=True, vect__sublinear_tf=False, vect__binary=False, vect__min_df=2, vect__stop_words=english, vect__use_idf=True, score=0.438962 -   0.8s"
       ]
      },
      {
       "output_type": "stream",
       "stream": "stdout",
       "text": [
        "\n",
        "[GridSearchCV] vect__ngram_range=(1, 1), vect__smooth_idf=True, vect__sublinear_tf=False, vect__binary=False, vect__min_df=2, vect__stop_words=english, vect__use_idf=True \n",
        "[GridSearchCV]  vect__ngram_range=(1, 1), vect__smooth_idf=True, vect__sublinear_tf=False, vect__binary=False, vect__min_df=2, vect__stop_words=english, vect__use_idf=True, score=0.418128 -   0.9s"
       ]
      },
      {
       "output_type": "stream",
       "stream": "stdout",
       "text": [
        "\n",
        "[GridSearchCV] vect__ngram_range=(1, 1), vect__smooth_idf=True, vect__sublinear_tf=False, vect__binary=False, vect__min_df=2, vect__stop_words=english, vect__use_idf=True \n",
        "[GridSearchCV]  vect__ngram_range=(1, 1), vect__smooth_idf=True, vect__sublinear_tf=False, vect__binary=False, vect__min_df=2, vect__stop_words=english, vect__use_idf=True, score=0.397279 -   0.8s"
       ]
      },
      {
       "output_type": "stream",
       "stream": "stdout",
       "text": [
        "\n",
        "[GridSearchCV] vect__ngram_range=(1, 1), vect__smooth_idf=True, vect__sublinear_tf=True, vect__binary=False, vect__min_df=2, vect__stop_words=english, vect__use_idf=False \n",
        "[GridSearchCV]  vect__ngram_range=(1, 1), vect__smooth_idf=True, vect__sublinear_tf=True, vect__binary=False, vect__min_df=2, vect__stop_words=english, vect__use_idf=False, score=0.433131 -   0.9s"
       ]
      },
      {
       "output_type": "stream",
       "stream": "stdout",
       "text": [
        "\n",
        "[GridSearchCV] vect__ngram_range=(1, 1), vect__smooth_idf=True, vect__sublinear_tf=True, vect__binary=False, vect__min_df=2, vect__stop_words=english, vect__use_idf=False \n",
        "[GridSearchCV]  vect__ngram_range=(1, 1), vect__smooth_idf=True, vect__sublinear_tf=True, vect__binary=False, vect__min_df=2, vect__stop_words=english, vect__use_idf=False, score=0.412534 -   0.8s"
       ]
      },
      {
       "output_type": "stream",
       "stream": "stdout",
       "text": [
        "\n",
        "[GridSearchCV] vect__ngram_range=(1, 1), vect__smooth_idf=True, vect__sublinear_tf=True, vect__binary=False, vect__min_df=2, vect__stop_words=english, vect__use_idf=False \n",
        "[GridSearchCV]  vect__ngram_range=(1, 1), vect__smooth_idf=True, vect__sublinear_tf=True, vect__binary=False, vect__min_df=2, vect__stop_words=english, vect__use_idf=False, score=0.392061 -   0.8s"
       ]
      },
      {
       "output_type": "stream",
       "stream": "stdout",
       "text": [
        "\n",
        "[GridSearchCV] vect__ngram_range=(1, 1), vect__smooth_idf=True, vect__sublinear_tf=True, vect__binary=False, vect__min_df=2, vect__stop_words=english, vect__use_idf=True \n",
        "[GridSearchCV]  vect__ngram_range=(1, 1), vect__smooth_idf=True, vect__sublinear_tf=True, vect__binary=False, vect__min_df=2, vect__stop_words=english, vect__use_idf=True, score=0.432302 -   0.8s"
       ]
      },
      {
       "output_type": "stream",
       "stream": "stdout",
       "text": [
        "\n",
        "[GridSearchCV] vect__ngram_range=(1, 1), vect__smooth_idf=True, vect__sublinear_tf=True, vect__binary=False, vect__min_df=2, vect__stop_words=english, vect__use_idf=True \n",
        "[GridSearchCV]  vect__ngram_range=(1, 1), vect__smooth_idf=True, vect__sublinear_tf=True, vect__binary=False, vect__min_df=2, vect__stop_words=english, vect__use_idf=True, score=0.417435 -   0.8s"
       ]
      },
      {
       "output_type": "stream",
       "stream": "stdout",
       "text": [
        "\n",
        "[GridSearchCV] vect__ngram_range=(1, 1), vect__smooth_idf=True, vect__sublinear_tf=True, vect__binary=False, vect__min_df=2, vect__stop_words=english, vect__use_idf=True \n",
        "[GridSearchCV]  vect__ngram_range=(1, 1), vect__smooth_idf=True, vect__sublinear_tf=True, vect__binary=False, vect__min_df=2, vect__stop_words=english, vect__use_idf=True, score=0.399438 -   0.8s"
       ]
      },
      {
       "output_type": "stream",
       "stream": "stdout",
       "text": [
        "\n",
        "[GridSearchCV] vect__ngram_range=(1, 2), vect__smooth_idf=False, vect__sublinear_tf=False, vect__binary=False, vect__min_df=2, vect__stop_words=None, vect__use_idf=False \n",
        "[GridSearchCV]  vect__ngram_range=(1, 2), vect__smooth_idf=False, vect__sublinear_tf=False, vect__binary=False, vect__min_df=2, vect__stop_words=None, vect__use_idf=False, score=0.438678 -   2.9s"
       ]
      },
      {
       "output_type": "stream",
       "stream": "stderr",
       "text": [
        "[Parallel(n_jobs=1)]: Done 128 jobs       | elapsed:  4.0min\n",
        "[Parallel(n_jobs=1)]: Done 145 jobs       | elapsed:  4.3min\n"
       ]
      },
      {
       "output_type": "stream",
       "stream": "stdout",
       "text": [
        "\n",
        "[GridSearchCV] vect__ngram_range=(1, 2), vect__smooth_idf=False, vect__sublinear_tf=False, vect__binary=False, vect__min_df=2, vect__stop_words=None, vect__use_idf=False \n",
        "[GridSearchCV]  vect__ngram_range=(1, 2), vect__smooth_idf=False, vect__sublinear_tf=False, vect__binary=False, vect__min_df=2, vect__stop_words=None, vect__use_idf=False, score=0.432896 -   3.0s"
       ]
      },
      {
       "output_type": "stream",
       "stream": "stdout",
       "text": [
        "\n",
        "[GridSearchCV] vect__ngram_range=(1, 2), vect__smooth_idf=False, vect__sublinear_tf=False, vect__binary=False, vect__min_df=2, vect__stop_words=None, vect__use_idf=False \n",
        "[GridSearchCV]  vect__ngram_range=(1, 2), vect__smooth_idf=False, vect__sublinear_tf=False, vect__binary=False, vect__min_df=2, vect__stop_words=None, vect__use_idf=False, score=0.420737 -   3.0s"
       ]
      },
      {
       "output_type": "stream",
       "stream": "stdout",
       "text": [
        "\n",
        "[GridSearchCV] vect__ngram_range=(1, 2), vect__smooth_idf=False, vect__sublinear_tf=False, vect__binary=False, vect__min_df=2, vect__stop_words=None, vect__use_idf=True \n",
        "[GridSearchCV]  vect__ngram_range=(1, 2), vect__smooth_idf=False, vect__sublinear_tf=False, vect__binary=False, vect__min_df=2, vect__stop_words=None, vect__use_idf=True, score=0.437927 -   2.5s"
       ]
      },
      {
       "output_type": "stream",
       "stream": "stdout",
       "text": [
        "\n",
        "[GridSearchCV] vect__ngram_range=(1, 2), vect__smooth_idf=False, vect__sublinear_tf=False, vect__binary=False, vect__min_df=2, vect__stop_words=None, vect__use_idf=True \n",
        "[GridSearchCV]  vect__ngram_range=(1, 2), vect__smooth_idf=False, vect__sublinear_tf=False, vect__binary=False, vect__min_df=2, vect__stop_words=None, vect__use_idf=True, score=0.444352 -   2.5s"
       ]
      },
      {
       "output_type": "stream",
       "stream": "stdout",
       "text": [
        "\n",
        "[GridSearchCV] vect__ngram_range=(1, 2), vect__smooth_idf=False, vect__sublinear_tf=False, vect__binary=False, vect__min_df=2, vect__stop_words=None, vect__use_idf=True \n",
        "[GridSearchCV]  vect__ngram_range=(1, 2), vect__smooth_idf=False, vect__sublinear_tf=False, vect__binary=False, vect__min_df=2, vect__stop_words=None, vect__use_idf=True, score=0.424780 -   2.5s"
       ]
      },
      {
       "output_type": "stream",
       "stream": "stdout",
       "text": [
        "\n",
        "[GridSearchCV] vect__ngram_range=(1, 2), vect__smooth_idf=False, vect__sublinear_tf=True, vect__binary=False, vect__min_df=2, vect__stop_words=None, vect__use_idf=False \n",
        "[GridSearchCV]  vect__ngram_range=(1, 2), vect__smooth_idf=False, vect__sublinear_tf=True, vect__binary=False, vect__min_df=2, vect__stop_words=None, vect__use_idf=False, score=0.433542 -   3.4s"
       ]
      },
      {
       "output_type": "stream",
       "stream": "stdout",
       "text": [
        "\n",
        "[GridSearchCV] vect__ngram_range=(1, 2), vect__smooth_idf=False, vect__sublinear_tf=True, vect__binary=False, vect__min_df=2, vect__stop_words=None, vect__use_idf=False \n",
        "[GridSearchCV]  vect__ngram_range=(1, 2), vect__smooth_idf=False, vect__sublinear_tf=True, vect__binary=False, vect__min_df=2, vect__stop_words=None, vect__use_idf=False, score=0.438832 -   3.5s"
       ]
      },
      {
       "output_type": "stream",
       "stream": "stdout",
       "text": [
        "\n",
        "[GridSearchCV] vect__ngram_range=(1, 2), vect__smooth_idf=False, vect__sublinear_tf=True, vect__binary=False, vect__min_df=2, vect__stop_words=None, vect__use_idf=False \n",
        "[GridSearchCV]  vect__ngram_range=(1, 2), vect__smooth_idf=False, vect__sublinear_tf=True, vect__binary=False, vect__min_df=2, vect__stop_words=None, vect__use_idf=False, score=0.428070 -   3.4s"
       ]
      },
      {
       "output_type": "stream",
       "stream": "stdout",
       "text": [
        "\n",
        "[GridSearchCV] vect__ngram_range=(1, 2), vect__smooth_idf=False, vect__sublinear_tf=True, vect__binary=False, vect__min_df=2, vect__stop_words=None, vect__use_idf=True \n",
        "[GridSearchCV]  vect__ngram_range=(1, 2), vect__smooth_idf=False, vect__sublinear_tf=True, vect__binary=False, vect__min_df=2, vect__stop_words=None, vect__use_idf=True, score=0.449893 -   2.7s"
       ]
      },
      {
       "output_type": "stream",
       "stream": "stdout",
       "text": [
        "\n",
        "[GridSearchCV] vect__ngram_range=(1, 2), vect__smooth_idf=False, vect__sublinear_tf=True, vect__binary=False, vect__min_df=2, vect__stop_words=None, vect__use_idf=True \n",
        "[GridSearchCV]  vect__ngram_range=(1, 2), vect__smooth_idf=False, vect__sublinear_tf=True, vect__binary=False, vect__min_df=2, vect__stop_words=None, vect__use_idf=True, score=0.448844 -   2.8s"
       ]
      },
      {
       "output_type": "stream",
       "stream": "stdout",
       "text": [
        "\n",
        "[GridSearchCV] vect__ngram_range=(1, 2), vect__smooth_idf=False, vect__sublinear_tf=True, vect__binary=False, vect__min_df=2, vect__stop_words=None, vect__use_idf=True \n",
        "[GridSearchCV]  vect__ngram_range=(1, 2), vect__smooth_idf=False, vect__sublinear_tf=True, vect__binary=False, vect__min_df=2, vect__stop_words=None, vect__use_idf=True, score=0.424030 -   2.6s"
       ]
      },
      {
       "output_type": "stream",
       "stream": "stdout",
       "text": [
        "\n",
        "[GridSearchCV] vect__ngram_range=(1, 2), vect__smooth_idf=False, vect__sublinear_tf=False, vect__binary=False, vect__min_df=2, vect__stop_words=english, vect__use_idf=False \n",
        "[GridSearchCV]  vect__ngram_range=(1, 2), vect__smooth_idf=False, vect__sublinear_tf=False, vect__binary=False, vect__min_df=2, vect__stop_words=english, vect__use_idf=False, score=0.423080 -   1.8s"
       ]
      },
      {
       "output_type": "stream",
       "stream": "stdout",
       "text": [
        "\n",
        "[GridSearchCV] vect__ngram_range=(1, 2), vect__smooth_idf=False, vect__sublinear_tf=False, vect__binary=False, vect__min_df=2, vect__stop_words=english, vect__use_idf=False \n",
        "[GridSearchCV]  vect__ngram_range=(1, 2), vect__smooth_idf=False, vect__sublinear_tf=False, vect__binary=False, vect__min_df=2, vect__stop_words=english, vect__use_idf=False, score=0.406738 -   1.7s"
       ]
      },
      {
       "output_type": "stream",
       "stream": "stdout",
       "text": [
        "\n",
        "[GridSearchCV] vect__ngram_range=(1, 2), vect__smooth_idf=False, vect__sublinear_tf=False, vect__binary=False, vect__min_df=2, vect__stop_words=english, vect__use_idf=False \n",
        "[GridSearchCV]  vect__ngram_range=(1, 2), vect__smooth_idf=False, vect__sublinear_tf=False, vect__binary=False, vect__min_df=2, vect__stop_words=english, vect__use_idf=False, score=0.399040 -   1.9s"
       ]
      },
      {
       "output_type": "stream",
       "stream": "stdout",
       "text": [
        "\n",
        "[GridSearchCV] vect__ngram_range=(1, 2), vect__smooth_idf=False, vect__sublinear_tf=False, vect__binary=False, vect__min_df=2, vect__stop_words=english, vect__use_idf=True \n",
        "[GridSearchCV]  vect__ngram_range=(1, 2), vect__smooth_idf=False, vect__sublinear_tf=False, vect__binary=False, vect__min_df=2, vect__stop_words=english, vect__use_idf=True, score=0.418938 -   2.1s"
       ]
      },
      {
       "output_type": "stream",
       "stream": "stdout",
       "text": [
        "\n",
        "[GridSearchCV] vect__ngram_range=(1, 2), vect__smooth_idf=False, vect__sublinear_tf=False, vect__binary=False, vect__min_df=2, vect__stop_words=english, vect__use_idf=True \n",
        "[GridSearchCV]  vect__ngram_range=(1, 2), vect__smooth_idf=False, vect__sublinear_tf=False, vect__binary=False, vect__min_df=2, vect__stop_words=english, vect__use_idf=True, score=0.403969 -   2.2s"
       ]
      },
      {
       "output_type": "stream",
       "stream": "stdout",
       "text": [
        "\n",
        "[GridSearchCV] vect__ngram_range=(1, 2), vect__smooth_idf=False, vect__sublinear_tf=False, vect__binary=False, vect__min_df=2, vect__stop_words=english, vect__use_idf=True \n",
        "[GridSearchCV]  vect__ngram_range=(1, 2), vect__smooth_idf=False, vect__sublinear_tf=False, vect__binary=False, vect__min_df=2, vect__stop_words=english, vect__use_idf=True, score=0.402799 -   1.8s"
       ]
      },
      {
       "output_type": "stream",
       "stream": "stdout",
       "text": [
        "\n",
        "[GridSearchCV] vect__ngram_range=(1, 2), vect__smooth_idf=False, vect__sublinear_tf=True, vect__binary=False, vect__min_df=2, vect__stop_words=english, vect__use_idf=False \n",
        "[GridSearchCV]  vect__ngram_range=(1, 2), vect__smooth_idf=False, vect__sublinear_tf=True, vect__binary=False, vect__min_df=2, vect__stop_words=english, vect__use_idf=False, score=0.433731 -   1.7s"
       ]
      },
      {
       "output_type": "stream",
       "stream": "stdout",
       "text": [
        "\n",
        "[GridSearchCV] vect__ngram_range=(1, 2), vect__smooth_idf=False, vect__sublinear_tf=True, vect__binary=False, vect__min_df=2, vect__stop_words=english, vect__use_idf=False \n",
        "[GridSearchCV]  vect__ngram_range=(1, 2), vect__smooth_idf=False, vect__sublinear_tf=True, vect__binary=False, vect__min_df=2, vect__stop_words=english, vect__use_idf=False, score=0.418216 -   1.7s"
       ]
      },
      {
       "output_type": "stream",
       "stream": "stdout",
       "text": [
        "\n",
        "[GridSearchCV] vect__ngram_range=(1, 2), vect__smooth_idf=False, vect__sublinear_tf=True, vect__binary=False, vect__min_df=2, vect__stop_words=english, vect__use_idf=False \n",
        "[GridSearchCV]  vect__ngram_range=(1, 2), vect__smooth_idf=False, vect__sublinear_tf=True, vect__binary=False, vect__min_df=2, vect__stop_words=english, vect__use_idf=False, score=0.397236 -   1.7s"
       ]
      },
      {
       "output_type": "stream",
       "stream": "stdout",
       "text": [
        "\n",
        "[GridSearchCV] vect__ngram_range=(1, 2), vect__smooth_idf=False, vect__sublinear_tf=True, vect__binary=False, vect__min_df=2, vect__stop_words=english, vect__use_idf=True \n",
        "[GridSearchCV]  vect__ngram_range=(1, 2), vect__smooth_idf=False, vect__sublinear_tf=True, vect__binary=False, vect__min_df=2, vect__stop_words=english, vect__use_idf=True, score=0.424706 -   1.7s"
       ]
      },
      {
       "output_type": "stream",
       "stream": "stdout",
       "text": [
        "\n",
        "[GridSearchCV] vect__ngram_range=(1, 2), vect__smooth_idf=False, vect__sublinear_tf=True, vect__binary=False, vect__min_df=2, vect__stop_words=english, vect__use_idf=True \n",
        "[GridSearchCV]  vect__ngram_range=(1, 2), vect__smooth_idf=False, vect__sublinear_tf=True, vect__binary=False, vect__min_df=2, vect__stop_words=english, vect__use_idf=True, score=0.415454 -   1.7s"
       ]
      },
      {
       "output_type": "stream",
       "stream": "stdout",
       "text": [
        "\n",
        "[GridSearchCV] vect__ngram_range=(1, 2), vect__smooth_idf=False, vect__sublinear_tf=True, vect__binary=False, vect__min_df=2, vect__stop_words=english, vect__use_idf=True \n",
        "[GridSearchCV]  vect__ngram_range=(1, 2), vect__smooth_idf=False, vect__sublinear_tf=True, vect__binary=False, vect__min_df=2, vect__stop_words=english, vect__use_idf=True, score=0.405106 -   1.6s"
       ]
      },
      {
       "output_type": "stream",
       "stream": "stdout",
       "text": [
        "\n",
        "[GridSearchCV] vect__ngram_range=(1, 2), vect__smooth_idf=True, vect__sublinear_tf=False, vect__binary=False, vect__min_df=2, vect__stop_words=None, vect__use_idf=False \n",
        "[GridSearchCV]  vect__ngram_range=(1, 2), vect__smooth_idf=True, vect__sublinear_tf=False, vect__binary=False, vect__min_df=2, vect__stop_words=None, vect__use_idf=False, score=0.438678 -   2.9s"
       ]
      },
      {
       "output_type": "stream",
       "stream": "stdout",
       "text": [
        "\n",
        "[GridSearchCV] vect__ngram_range=(1, 2), vect__smooth_idf=True, vect__sublinear_tf=False, vect__binary=False, vect__min_df=2, vect__stop_words=None, vect__use_idf=False \n",
        "[GridSearchCV]  vect__ngram_range=(1, 2), vect__smooth_idf=True, vect__sublinear_tf=False, vect__binary=False, vect__min_df=2, vect__stop_words=None, vect__use_idf=False, score=0.432896 -   3.1s"
       ]
      },
      {
       "output_type": "stream",
       "stream": "stdout",
       "text": [
        "\n",
        "[GridSearchCV] vect__ngram_range=(1, 2), vect__smooth_idf=True, vect__sublinear_tf=False, vect__binary=False, vect__min_df=2, vect__stop_words=None, vect__use_idf=False \n",
        "[GridSearchCV]  vect__ngram_range=(1, 2), vect__smooth_idf=True, vect__sublinear_tf=False, vect__binary=False, vect__min_df=2, vect__stop_words=None, vect__use_idf=False, score=0.420737 -   3.1s"
       ]
      },
      {
       "output_type": "stream",
       "stream": "stdout",
       "text": [
        "\n",
        "[GridSearchCV] vect__ngram_range=(1, 2), vect__smooth_idf=True, vect__sublinear_tf=False, vect__binary=False, vect__min_df=2, vect__stop_words=None, vect__use_idf=True \n",
        "[GridSearchCV]  vect__ngram_range=(1, 2), vect__smooth_idf=True, vect__sublinear_tf=False, vect__binary=False, vect__min_df=2, vect__stop_words=None, vect__use_idf=True, score=0.441509 -   2.6s"
       ]
      },
      {
       "output_type": "stream",
       "stream": "stdout",
       "text": [
        "\n",
        "[GridSearchCV] vect__ngram_range=(1, 2), vect__smooth_idf=True, vect__sublinear_tf=False, vect__binary=False, vect__min_df=2, vect__stop_words=None, vect__use_idf=True \n",
        "[GridSearchCV]  vect__ngram_range=(1, 2), vect__smooth_idf=True, vect__sublinear_tf=False, vect__binary=False, vect__min_df=2, vect__stop_words=None, vect__use_idf=True, score=0.440549 -   3.3s"
       ]
      },
      {
       "output_type": "stream",
       "stream": "stdout",
       "text": [
        "\n",
        "[GridSearchCV] vect__ngram_range=(1, 2), vect__smooth_idf=True, vect__sublinear_tf=False, vect__binary=False, vect__min_df=2, vect__stop_words=None, vect__use_idf=True \n",
        "[GridSearchCV]  vect__ngram_range=(1, 2), vect__smooth_idf=True, vect__sublinear_tf=False, vect__binary=False, vect__min_df=2, vect__stop_words=None, vect__use_idf=True, score=0.422804 -   2.9s"
       ]
      },
      {
       "output_type": "stream",
       "stream": "stdout",
       "text": [
        "\n",
        "[GridSearchCV] vect__ngram_range=(1, 2), vect__smooth_idf=True, vect__sublinear_tf=True, vect__binary=False, vect__min_df=2, vect__stop_words=None, vect__use_idf=False \n",
        "[GridSearchCV]  vect__ngram_range=(1, 2), vect__smooth_idf=True, vect__sublinear_tf=True, vect__binary=False, vect__min_df=2, vect__stop_words=None, vect__use_idf=False, score=0.433542 -   3.7s"
       ]
      },
      {
       "output_type": "stream",
       "stream": "stdout",
       "text": [
        "\n",
        "[GridSearchCV] vect__ngram_range=(1, 2), vect__smooth_idf=True, vect__sublinear_tf=True, vect__binary=False, vect__min_df=2, vect__stop_words=None, vect__use_idf=False \n",
        "[GridSearchCV]  vect__ngram_range=(1, 2), vect__smooth_idf=True, vect__sublinear_tf=True, vect__binary=False, vect__min_df=2, vect__stop_words=None, vect__use_idf=False, score=0.438832 -   4.6s"
       ]
      },
      {
       "output_type": "stream",
       "stream": "stdout",
       "text": [
        "\n",
        "[GridSearchCV] vect__ngram_range=(1, 2), vect__smooth_idf=True, vect__sublinear_tf=True, vect__binary=False, vect__min_df=2, vect__stop_words=None, vect__use_idf=False \n",
        "[GridSearchCV]  vect__ngram_range=(1, 2), vect__smooth_idf=True, vect__sublinear_tf=True, vect__binary=False, vect__min_df=2, vect__stop_words=None, vect__use_idf=False, score=0.428070 -   4.6s"
       ]
      },
      {
       "output_type": "stream",
       "stream": "stdout",
       "text": [
        "\n",
        "[GridSearchCV] vect__ngram_range=(1, 2), vect__smooth_idf=True, vect__sublinear_tf=True, vect__binary=False, vect__min_df=2, vect__stop_words=None, vect__use_idf=True \n",
        "[GridSearchCV]  vect__ngram_range=(1, 2), vect__smooth_idf=True, vect__sublinear_tf=True, vect__binary=False, vect__min_df=2, vect__stop_words=None, vect__use_idf=True, score=0.449193 -   3.0s"
       ]
      },
      {
       "output_type": "stream",
       "stream": "stdout",
       "text": [
        "\n",
        "[GridSearchCV] vect__ngram_range=(1, 2), vect__smooth_idf=True, vect__sublinear_tf=True, vect__binary=False, vect__min_df=2, vect__stop_words=None, vect__use_idf=True \n",
        "[GridSearchCV]  vect__ngram_range=(1, 2), vect__smooth_idf=True, vect__sublinear_tf=True, vect__binary=False, vect__min_df=2, vect__stop_words=None, vect__use_idf=True, score=0.444974 -   2.9s"
       ]
      },
      {
       "output_type": "stream",
       "stream": "stdout",
       "text": [
        "\n",
        "[GridSearchCV] vect__ngram_range=(1, 2), vect__smooth_idf=True, vect__sublinear_tf=True, vect__binary=False, vect__min_df=2, vect__stop_words=None, vect__use_idf=True \n",
        "[GridSearchCV]  vect__ngram_range=(1, 2), vect__smooth_idf=True, vect__sublinear_tf=True, vect__binary=False, vect__min_df=2, vect__stop_words=None, vect__use_idf=True, score=0.423967 -   3.0s"
       ]
      },
      {
       "output_type": "stream",
       "stream": "stdout",
       "text": [
        "\n",
        "[GridSearchCV] vect__ngram_range=(1, 2), vect__smooth_idf=True, vect__sublinear_tf=False, vect__binary=False, vect__min_df=2, vect__stop_words=english, vect__use_idf=False \n",
        "[GridSearchCV]  vect__ngram_range=(1, 2), vect__smooth_idf=True, vect__sublinear_tf=False, vect__binary=False, vect__min_df=2, vect__stop_words=english, vect__use_idf=False, score=0.423080 -   1.9s"
       ]
      },
      {
       "output_type": "stream",
       "stream": "stderr",
       "text": [
        "[Parallel(n_jobs=1)]: Done 162 jobs       | elapsed:  5.0min\n",
        "[Parallel(n_jobs=1)]: Done 181 jobs       | elapsed:  5.9min\n"
       ]
      },
      {
       "output_type": "stream",
       "stream": "stdout",
       "text": [
        "\n",
        "[GridSearchCV] vect__ngram_range=(1, 2), vect__smooth_idf=True, vect__sublinear_tf=False, vect__binary=False, vect__min_df=2, vect__stop_words=english, vect__use_idf=False \n",
        "[GridSearchCV]  vect__ngram_range=(1, 2), vect__smooth_idf=True, vect__sublinear_tf=False, vect__binary=False, vect__min_df=2, vect__stop_words=english, vect__use_idf=False, score=0.406738 -   1.8s"
       ]
      },
      {
       "output_type": "stream",
       "stream": "stdout",
       "text": [
        "\n",
        "[GridSearchCV] vect__ngram_range=(1, 2), vect__smooth_idf=True, vect__sublinear_tf=False, vect__binary=False, vect__min_df=2, vect__stop_words=english, vect__use_idf=False \n",
        "[GridSearchCV]  vect__ngram_range=(1, 2), vect__smooth_idf=True, vect__sublinear_tf=False, vect__binary=False, vect__min_df=2, vect__stop_words=english, vect__use_idf=False, score=0.399040 -   1.7s"
       ]
      },
      {
       "output_type": "stream",
       "stream": "stdout",
       "text": [
        "\n",
        "[GridSearchCV] vect__ngram_range=(1, 2), vect__smooth_idf=True, vect__sublinear_tf=False, vect__binary=False, vect__min_df=2, vect__stop_words=english, vect__use_idf=True \n",
        "[GridSearchCV]  vect__ngram_range=(1, 2), vect__smooth_idf=True, vect__sublinear_tf=False, vect__binary=False, vect__min_df=2, vect__stop_words=english, vect__use_idf=True, score=0.423881 -   1.6s"
       ]
      },
      {
       "output_type": "stream",
       "stream": "stdout",
       "text": [
        "\n",
        "[GridSearchCV] vect__ngram_range=(1, 2), vect__smooth_idf=True, vect__sublinear_tf=False, vect__binary=False, vect__min_df=2, vect__stop_words=english, vect__use_idf=True \n",
        "[GridSearchCV]  vect__ngram_range=(1, 2), vect__smooth_idf=True, vect__sublinear_tf=False, vect__binary=False, vect__min_df=2, vect__stop_words=english, vect__use_idf=True, score=0.402718 -   1.7s"
       ]
      },
      {
       "output_type": "stream",
       "stream": "stdout",
       "text": [
        "\n",
        "[GridSearchCV] vect__ngram_range=(1, 2), vect__smooth_idf=True, vect__sublinear_tf=False, vect__binary=False, vect__min_df=2, vect__stop_words=english, vect__use_idf=True \n",
        "[GridSearchCV]  vect__ngram_range=(1, 2), vect__smooth_idf=True, vect__sublinear_tf=False, vect__binary=False, vect__min_df=2, vect__stop_words=english, vect__use_idf=True, score=0.401866 -   1.6s"
       ]
      },
      {
       "output_type": "stream",
       "stream": "stdout",
       "text": [
        "\n",
        "[GridSearchCV] vect__ngram_range=(1, 2), vect__smooth_idf=True, vect__sublinear_tf=True, vect__binary=False, vect__min_df=2, vect__stop_words=english, vect__use_idf=False \n",
        "[GridSearchCV]  vect__ngram_range=(1, 2), vect__smooth_idf=True, vect__sublinear_tf=True, vect__binary=False, vect__min_df=2, vect__stop_words=english, vect__use_idf=False, score=0.433000 -   1.7s"
       ]
      },
      {
       "output_type": "stream",
       "stream": "stdout",
       "text": [
        "\n",
        "[GridSearchCV] vect__ngram_range=(1, 2), vect__smooth_idf=True, vect__sublinear_tf=True, vect__binary=False, vect__min_df=2, vect__stop_words=english, vect__use_idf=False \n",
        "[GridSearchCV]  vect__ngram_range=(1, 2), vect__smooth_idf=True, vect__sublinear_tf=True, vect__binary=False, vect__min_df=2, vect__stop_words=english, vect__use_idf=False, score=0.418216 -   1.7s"
       ]
      },
      {
       "output_type": "stream",
       "stream": "stdout",
       "text": [
        "\n",
        "[GridSearchCV] vect__ngram_range=(1, 2), vect__smooth_idf=True, vect__sublinear_tf=True, vect__binary=False, vect__min_df=2, vect__stop_words=english, vect__use_idf=False \n",
        "[GridSearchCV]  vect__ngram_range=(1, 2), vect__smooth_idf=True, vect__sublinear_tf=True, vect__binary=False, vect__min_df=2, vect__stop_words=english, vect__use_idf=False, score=0.397236 -   1.7s"
       ]
      },
      {
       "output_type": "stream",
       "stream": "stdout",
       "text": [
        "\n",
        "[GridSearchCV] vect__ngram_range=(1, 2), vect__smooth_idf=True, vect__sublinear_tf=True, vect__binary=False, vect__min_df=2, vect__stop_words=english, vect__use_idf=True \n",
        "[GridSearchCV]  vect__ngram_range=(1, 2), vect__smooth_idf=True, vect__sublinear_tf=True, vect__binary=False, vect__min_df=2, vect__stop_words=english, vect__use_idf=True, score=0.421594 -   1.6s"
       ]
      },
      {
       "output_type": "stream",
       "stream": "stdout",
       "text": [
        "\n",
        "[GridSearchCV] vect__ngram_range=(1, 2), vect__smooth_idf=True, vect__sublinear_tf=True, vect__binary=False, vect__min_df=2, vect__stop_words=english, vect__use_idf=True \n",
        "[GridSearchCV]  vect__ngram_range=(1, 2), vect__smooth_idf=True, vect__sublinear_tf=True, vect__binary=False, vect__min_df=2, vect__stop_words=english, vect__use_idf=True, score=0.418437 -   1.7s"
       ]
      },
      {
       "output_type": "stream",
       "stream": "stdout",
       "text": [
        "\n",
        "[GridSearchCV] vect__ngram_range=(1, 2), vect__smooth_idf=True, vect__sublinear_tf=True, vect__binary=False, vect__min_df=2, vect__stop_words=english, vect__use_idf=True \n",
        "[GridSearchCV]  vect__ngram_range=(1, 2), vect__smooth_idf=True, vect__sublinear_tf=True, vect__binary=False, vect__min_df=2, vect__stop_words=english, vect__use_idf=True, score=0.404062 -   1.6s"
       ]
      },
      {
       "output_type": "stream",
       "stream": "stdout",
       "text": [
        "\n",
        "[GridSearchCV] vect__ngram_range=(1, 1), vect__smooth_idf=False, vect__sublinear_tf=False, vect__binary=True, vect__min_df=1, vect__stop_words=None, vect__use_idf=False \n",
        "[GridSearchCV]  vect__ngram_range=(1, 1), vect__smooth_idf=False, vect__sublinear_tf=False, vect__binary=True, vect__min_df=1, vect__stop_words=None, vect__use_idf=False, score=0.425251 -   2.3s"
       ]
      },
      {
       "output_type": "stream",
       "stream": "stdout",
       "text": [
        "\n",
        "[GridSearchCV] vect__ngram_range=(1, 1), vect__smooth_idf=False, vect__sublinear_tf=False, vect__binary=True, vect__min_df=1, vect__stop_words=None, vect__use_idf=False \n",
        "[GridSearchCV]  vect__ngram_range=(1, 1), vect__smooth_idf=False, vect__sublinear_tf=False, vect__binary=True, vect__min_df=1, vect__stop_words=None, vect__use_idf=False, score=0.443333 -   2.3s"
       ]
      },
      {
       "output_type": "stream",
       "stream": "stdout",
       "text": [
        "\n",
        "[GridSearchCV] vect__ngram_range=(1, 1), vect__smooth_idf=False, vect__sublinear_tf=False, vect__binary=True, vect__min_df=1, vect__stop_words=None, vect__use_idf=False \n",
        "[GridSearchCV]  vect__ngram_range=(1, 1), vect__smooth_idf=False, vect__sublinear_tf=False, vect__binary=True, vect__min_df=1, vect__stop_words=None, vect__use_idf=False, score=0.419672 -   2.5s"
       ]
      },
      {
       "output_type": "stream",
       "stream": "stdout",
       "text": [
        "\n",
        "[GridSearchCV] vect__ngram_range=(1, 1), vect__smooth_idf=False, vect__sublinear_tf=False, vect__binary=True, vect__min_df=1, vect__stop_words=None, vect__use_idf=True \n",
        "[GridSearchCV]  vect__ngram_range=(1, 1), vect__smooth_idf=False, vect__sublinear_tf=False, vect__binary=True, vect__min_df=1, vect__stop_words=None, vect__use_idf=True, score=0.430537 -   1.5s"
       ]
      },
      {
       "output_type": "stream",
       "stream": "stdout",
       "text": [
        "\n",
        "[GridSearchCV] vect__ngram_range=(1, 1), vect__smooth_idf=False, vect__sublinear_tf=False, vect__binary=True, vect__min_df=1, vect__stop_words=None, vect__use_idf=True \n",
        "[GridSearchCV]  vect__ngram_range=(1, 1), vect__smooth_idf=False, vect__sublinear_tf=False, vect__binary=True, vect__min_df=1, vect__stop_words=None, vect__use_idf=True, score=0.430218 -   1.6s"
       ]
      },
      {
       "output_type": "stream",
       "stream": "stdout",
       "text": [
        "\n",
        "[GridSearchCV] vect__ngram_range=(1, 1), vect__smooth_idf=False, vect__sublinear_tf=False, vect__binary=True, vect__min_df=1, vect__stop_words=None, vect__use_idf=True \n",
        "[GridSearchCV]  vect__ngram_range=(1, 1), vect__smooth_idf=False, vect__sublinear_tf=False, vect__binary=True, vect__min_df=1, vect__stop_words=None, vect__use_idf=True, score=0.403403 -   1.8s"
       ]
      },
      {
       "output_type": "stream",
       "stream": "stdout",
       "text": [
        "\n",
        "[GridSearchCV] vect__ngram_range=(1, 1), vect__smooth_idf=False, vect__sublinear_tf=True, vect__binary=True, vect__min_df=1, vect__stop_words=None, vect__use_idf=False \n",
        "[GridSearchCV]  vect__ngram_range=(1, 1), vect__smooth_idf=False, vect__sublinear_tf=True, vect__binary=True, vect__min_df=1, vect__stop_words=None, vect__use_idf=False, score=0.425251 -   2.4s"
       ]
      },
      {
       "output_type": "stream",
       "stream": "stdout",
       "text": [
        "\n",
        "[GridSearchCV] vect__ngram_range=(1, 1), vect__smooth_idf=False, vect__sublinear_tf=True, vect__binary=True, vect__min_df=1, vect__stop_words=None, vect__use_idf=False \n",
        "[GridSearchCV]  vect__ngram_range=(1, 1), vect__smooth_idf=False, vect__sublinear_tf=True, vect__binary=True, vect__min_df=1, vect__stop_words=None, vect__use_idf=False, score=0.443333 -   2.3s"
       ]
      },
      {
       "output_type": "stream",
       "stream": "stdout",
       "text": [
        "\n",
        "[GridSearchCV] vect__ngram_range=(1, 1), vect__smooth_idf=False, vect__sublinear_tf=True, vect__binary=True, vect__min_df=1, vect__stop_words=None, vect__use_idf=False \n",
        "[GridSearchCV]  vect__ngram_range=(1, 1), vect__smooth_idf=False, vect__sublinear_tf=True, vect__binary=True, vect__min_df=1, vect__stop_words=None, vect__use_idf=False, score=0.419672 -   2.5s"
       ]
      },
      {
       "output_type": "stream",
       "stream": "stdout",
       "text": [
        "\n",
        "[GridSearchCV] vect__ngram_range=(1, 1), vect__smooth_idf=False, vect__sublinear_tf=True, vect__binary=True, vect__min_df=1, vect__stop_words=None, vect__use_idf=True \n",
        "[GridSearchCV]  vect__ngram_range=(1, 1), vect__smooth_idf=False, vect__sublinear_tf=True, vect__binary=True, vect__min_df=1, vect__stop_words=None, vect__use_idf=True, score=0.430537 -   1.5s"
       ]
      },
      {
       "output_type": "stream",
       "stream": "stdout",
       "text": [
        "\n",
        "[GridSearchCV] vect__ngram_range=(1, 1), vect__smooth_idf=False, vect__sublinear_tf=True, vect__binary=True, vect__min_df=1, vect__stop_words=None, vect__use_idf=True \n",
        "[GridSearchCV]  vect__ngram_range=(1, 1), vect__smooth_idf=False, vect__sublinear_tf=True, vect__binary=True, vect__min_df=1, vect__stop_words=None, vect__use_idf=True, score=0.430218 -   1.7s"
       ]
      },
      {
       "output_type": "stream",
       "stream": "stdout",
       "text": [
        "\n",
        "[GridSearchCV] vect__ngram_range=(1, 1), vect__smooth_idf=False, vect__sublinear_tf=True, vect__binary=True, vect__min_df=1, vect__stop_words=None, vect__use_idf=True \n",
        "[GridSearchCV]  vect__ngram_range=(1, 1), vect__smooth_idf=False, vect__sublinear_tf=True, vect__binary=True, vect__min_df=1, vect__stop_words=None, vect__use_idf=True, score=0.403403 -   1.6s"
       ]
      },
      {
       "output_type": "stream",
       "stream": "stdout",
       "text": [
        "\n",
        "[GridSearchCV] vect__ngram_range=(1, 1), vect__smooth_idf=False, vect__sublinear_tf=False, vect__binary=True, vect__min_df=1, vect__stop_words=english, vect__use_idf=False \n",
        "[GridSearchCV]  vect__ngram_range=(1, 1), vect__smooth_idf=False, vect__sublinear_tf=False, vect__binary=True, vect__min_df=1, vect__stop_words=english, vect__use_idf=False, score=0.420048 -   0.9s"
       ]
      },
      {
       "output_type": "stream",
       "stream": "stdout",
       "text": [
        "\n",
        "[GridSearchCV] vect__ngram_range=(1, 1), vect__smooth_idf=False, vect__sublinear_tf=False, vect__binary=True, vect__min_df=1, vect__stop_words=english, vect__use_idf=False \n",
        "[GridSearchCV]  vect__ngram_range=(1, 1), vect__smooth_idf=False, vect__sublinear_tf=False, vect__binary=True, vect__min_df=1, vect__stop_words=english, vect__use_idf=False, score=0.407206 -   0.9s"
       ]
      },
      {
       "output_type": "stream",
       "stream": "stdout",
       "text": [
        "\n",
        "[GridSearchCV] vect__ngram_range=(1, 1), vect__smooth_idf=False, vect__sublinear_tf=False, vect__binary=True, vect__min_df=1, vect__stop_words=english, vect__use_idf=False \n",
        "[GridSearchCV]  vect__ngram_range=(1, 1), vect__smooth_idf=False, vect__sublinear_tf=False, vect__binary=True, vect__min_df=1, vect__stop_words=english, vect__use_idf=False, score=0.401366 -   0.8s"
       ]
      },
      {
       "output_type": "stream",
       "stream": "stdout",
       "text": [
        "\n",
        "[GridSearchCV] vect__ngram_range=(1, 1), vect__smooth_idf=False, vect__sublinear_tf=False, vect__binary=True, vect__min_df=1, vect__stop_words=english, vect__use_idf=True \n",
        "[GridSearchCV]  vect__ngram_range=(1, 1), vect__smooth_idf=False, vect__sublinear_tf=False, vect__binary=True, vect__min_df=1, vect__stop_words=english, vect__use_idf=True, score=0.420571 -   0.8s"
       ]
      },
      {
       "output_type": "stream",
       "stream": "stdout",
       "text": [
        "\n",
        "[GridSearchCV] vect__ngram_range=(1, 1), vect__smooth_idf=False, vect__sublinear_tf=False, vect__binary=True, vect__min_df=1, vect__stop_words=english, vect__use_idf=True \n",
        "[GridSearchCV]  vect__ngram_range=(1, 1), vect__smooth_idf=False, vect__sublinear_tf=False, vect__binary=True, vect__min_df=1, vect__stop_words=english, vect__use_idf=True, score=0.417703 -   0.8s"
       ]
      },
      {
       "output_type": "stream",
       "stream": "stdout",
       "text": [
        "\n",
        "[GridSearchCV] vect__ngram_range=(1, 1), vect__smooth_idf=False, vect__sublinear_tf=False, vect__binary=True, vect__min_df=1, vect__stop_words=english, vect__use_idf=True \n",
        "[GridSearchCV]  vect__ngram_range=(1, 1), vect__smooth_idf=False, vect__sublinear_tf=False, vect__binary=True, vect__min_df=1, vect__stop_words=english, vect__use_idf=True, score=0.399355 -   0.8s"
       ]
      },
      {
       "output_type": "stream",
       "stream": "stdout",
       "text": [
        "\n",
        "[GridSearchCV] vect__ngram_range=(1, 1), vect__smooth_idf=False, vect__sublinear_tf=True, vect__binary=True, vect__min_df=1, vect__stop_words=english, vect__use_idf=False \n",
        "[GridSearchCV]  vect__ngram_range=(1, 1), vect__smooth_idf=False, vect__sublinear_tf=True, vect__binary=True, vect__min_df=1, vect__stop_words=english, vect__use_idf=False, score=0.420048 -   0.9s"
       ]
      },
      {
       "output_type": "stream",
       "stream": "stdout",
       "text": [
        "\n",
        "[GridSearchCV] vect__ngram_range=(1, 1), vect__smooth_idf=False, vect__sublinear_tf=True, vect__binary=True, vect__min_df=1, vect__stop_words=english, vect__use_idf=False \n",
        "[GridSearchCV]  vect__ngram_range=(1, 1), vect__smooth_idf=False, vect__sublinear_tf=True, vect__binary=True, vect__min_df=1, vect__stop_words=english, vect__use_idf=False, score=0.407206 -   0.9s"
       ]
      },
      {
       "output_type": "stream",
       "stream": "stdout",
       "text": [
        "\n",
        "[GridSearchCV] vect__ngram_range=(1, 1), vect__smooth_idf=False, vect__sublinear_tf=True, vect__binary=True, vect__min_df=1, vect__stop_words=english, vect__use_idf=False \n",
        "[GridSearchCV]  vect__ngram_range=(1, 1), vect__smooth_idf=False, vect__sublinear_tf=True, vect__binary=True, vect__min_df=1, vect__stop_words=english, vect__use_idf=False, score=0.401366 -   0.8s"
       ]
      },
      {
       "output_type": "stream",
       "stream": "stdout",
       "text": [
        "\n",
        "[GridSearchCV] vect__ngram_range=(1, 1), vect__smooth_idf=False, vect__sublinear_tf=True, vect__binary=True, vect__min_df=1, vect__stop_words=english, vect__use_idf=True \n",
        "[GridSearchCV]  vect__ngram_range=(1, 1), vect__smooth_idf=False, vect__sublinear_tf=True, vect__binary=True, vect__min_df=1, vect__stop_words=english, vect__use_idf=True, score=0.420571 -   0.8s"
       ]
      },
      {
       "output_type": "stream",
       "stream": "stdout",
       "text": [
        "\n",
        "[GridSearchCV] vect__ngram_range=(1, 1), vect__smooth_idf=False, vect__sublinear_tf=True, vect__binary=True, vect__min_df=1, vect__stop_words=english, vect__use_idf=True \n",
        "[GridSearchCV]  vect__ngram_range=(1, 1), vect__smooth_idf=False, vect__sublinear_tf=True, vect__binary=True, vect__min_df=1, vect__stop_words=english, vect__use_idf=True, score=0.418494 -   0.8s"
       ]
      },
      {
       "output_type": "stream",
       "stream": "stdout",
       "text": [
        "\n",
        "[GridSearchCV] vect__ngram_range=(1, 1), vect__smooth_idf=False, vect__sublinear_tf=True, vect__binary=True, vect__min_df=1, vect__stop_words=english, vect__use_idf=True \n",
        "[GridSearchCV]  vect__ngram_range=(1, 1), vect__smooth_idf=False, vect__sublinear_tf=True, vect__binary=True, vect__min_df=1, vect__stop_words=english, vect__use_idf=True, score=0.399355 -   0.8s"
       ]
      },
      {
       "output_type": "stream",
       "stream": "stdout",
       "text": [
        "\n",
        "[GridSearchCV] vect__ngram_range=(1, 1), vect__smooth_idf=True, vect__sublinear_tf=False, vect__binary=True, vect__min_df=1, vect__stop_words=None, vect__use_idf=False \n",
        "[GridSearchCV]  vect__ngram_range=(1, 1), vect__smooth_idf=True, vect__sublinear_tf=False, vect__binary=True, vect__min_df=1, vect__stop_words=None, vect__use_idf=False, score=0.425251 -   2.3s"
       ]
      },
      {
       "output_type": "stream",
       "stream": "stdout",
       "text": [
        "\n",
        "[GridSearchCV] vect__ngram_range=(1, 1), vect__smooth_idf=True, vect__sublinear_tf=False, vect__binary=True, vect__min_df=1, vect__stop_words=None, vect__use_idf=False \n",
        "[GridSearchCV]  vect__ngram_range=(1, 1), vect__smooth_idf=True, vect__sublinear_tf=False, vect__binary=True, vect__min_df=1, vect__stop_words=None, vect__use_idf=False, score=0.443333 -   2.3s"
       ]
      },
      {
       "output_type": "stream",
       "stream": "stdout",
       "text": [
        "\n",
        "[GridSearchCV] vect__ngram_range=(1, 1), vect__smooth_idf=True, vect__sublinear_tf=False, vect__binary=True, vect__min_df=1, vect__stop_words=None, vect__use_idf=False \n",
        "[GridSearchCV]  vect__ngram_range=(1, 1), vect__smooth_idf=True, vect__sublinear_tf=False, vect__binary=True, vect__min_df=1, vect__stop_words=None, vect__use_idf=False, score=0.419672 -   2.5s"
       ]
      },
      {
       "output_type": "stream",
       "stream": "stdout",
       "text": [
        "\n",
        "[GridSearchCV] vect__ngram_range=(1, 1), vect__smooth_idf=True, vect__sublinear_tf=False, vect__binary=True, vect__min_df=1, vect__stop_words=None, vect__use_idf=True \n",
        "[GridSearchCV]  vect__ngram_range=(1, 1), vect__smooth_idf=True, vect__sublinear_tf=False, vect__binary=True, vect__min_df=1, vect__stop_words=None, vect__use_idf=True, score=0.432339 -   1.6s"
       ]
      },
      {
       "output_type": "stream",
       "stream": "stdout",
       "text": [
        "\n",
        "[GridSearchCV] vect__ngram_range=(1, 1), vect__smooth_idf=True, vect__sublinear_tf=False, vect__binary=True, vect__min_df=1, vect__stop_words=None, vect__use_idf=True \n",
        "[GridSearchCV]  vect__ngram_range=(1, 1), vect__smooth_idf=True, vect__sublinear_tf=False, vect__binary=True, vect__min_df=1, vect__stop_words=None, vect__use_idf=True, score=0.434683 -   1.7s"
       ]
      },
      {
       "output_type": "stream",
       "stream": "stderr",
       "text": [
        "[Parallel(n_jobs=1)]: Done 200 jobs       | elapsed:  6.5min\n",
        "[Parallel(n_jobs=1)]: Done 221 jobs       | elapsed:  7.0min\n"
       ]
      },
      {
       "output_type": "stream",
       "stream": "stdout",
       "text": [
        "\n",
        "[GridSearchCV] vect__ngram_range=(1, 1), vect__smooth_idf=True, vect__sublinear_tf=False, vect__binary=True, vect__min_df=1, vect__stop_words=None, vect__use_idf=True \n",
        "[GridSearchCV]  vect__ngram_range=(1, 1), vect__smooth_idf=True, vect__sublinear_tf=False, vect__binary=True, vect__min_df=1, vect__stop_words=None, vect__use_idf=True, score=0.410847 -   1.6s"
       ]
      },
      {
       "output_type": "stream",
       "stream": "stdout",
       "text": [
        "\n",
        "[GridSearchCV] vect__ngram_range=(1, 1), vect__smooth_idf=True, vect__sublinear_tf=True, vect__binary=True, vect__min_df=1, vect__stop_words=None, vect__use_idf=False \n",
        "[GridSearchCV]  vect__ngram_range=(1, 1), vect__smooth_idf=True, vect__sublinear_tf=True, vect__binary=True, vect__min_df=1, vect__stop_words=None, vect__use_idf=False, score=0.425251 -   2.4s"
       ]
      },
      {
       "output_type": "stream",
       "stream": "stdout",
       "text": [
        "\n",
        "[GridSearchCV] vect__ngram_range=(1, 1), vect__smooth_idf=True, vect__sublinear_tf=True, vect__binary=True, vect__min_df=1, vect__stop_words=None, vect__use_idf=False \n",
        "[GridSearchCV]  vect__ngram_range=(1, 1), vect__smooth_idf=True, vect__sublinear_tf=True, vect__binary=True, vect__min_df=1, vect__stop_words=None, vect__use_idf=False, score=0.443333 -   2.2s"
       ]
      },
      {
       "output_type": "stream",
       "stream": "stdout",
       "text": [
        "\n",
        "[GridSearchCV] vect__ngram_range=(1, 1), vect__smooth_idf=True, vect__sublinear_tf=True, vect__binary=True, vect__min_df=1, vect__stop_words=None, vect__use_idf=False \n",
        "[GridSearchCV]  vect__ngram_range=(1, 1), vect__smooth_idf=True, vect__sublinear_tf=True, vect__binary=True, vect__min_df=1, vect__stop_words=None, vect__use_idf=False, score=0.419672 -   2.6s"
       ]
      },
      {
       "output_type": "stream",
       "stream": "stdout",
       "text": [
        "\n",
        "[GridSearchCV] vect__ngram_range=(1, 1), vect__smooth_idf=True, vect__sublinear_tf=True, vect__binary=True, vect__min_df=1, vect__stop_words=None, vect__use_idf=True \n",
        "[GridSearchCV]  vect__ngram_range=(1, 1), vect__smooth_idf=True, vect__sublinear_tf=True, vect__binary=True, vect__min_df=1, vect__stop_words=None, vect__use_idf=True, score=0.432339 -   1.7s"
       ]
      },
      {
       "output_type": "stream",
       "stream": "stdout",
       "text": [
        "\n",
        "[GridSearchCV] vect__ngram_range=(1, 1), vect__smooth_idf=True, vect__sublinear_tf=True, vect__binary=True, vect__min_df=1, vect__stop_words=None, vect__use_idf=True \n",
        "[GridSearchCV]  vect__ngram_range=(1, 1), vect__smooth_idf=True, vect__sublinear_tf=True, vect__binary=True, vect__min_df=1, vect__stop_words=None, vect__use_idf=True, score=0.434683 -   1.8s"
       ]
      },
      {
       "output_type": "stream",
       "stream": "stdout",
       "text": [
        "\n",
        "[GridSearchCV] vect__ngram_range=(1, 1), vect__smooth_idf=True, vect__sublinear_tf=True, vect__binary=True, vect__min_df=1, vect__stop_words=None, vect__use_idf=True \n",
        "[GridSearchCV]  vect__ngram_range=(1, 1), vect__smooth_idf=True, vect__sublinear_tf=True, vect__binary=True, vect__min_df=1, vect__stop_words=None, vect__use_idf=True, score=0.410847 -   1.6s"
       ]
      },
      {
       "output_type": "stream",
       "stream": "stdout",
       "text": [
        "\n",
        "[GridSearchCV] vect__ngram_range=(1, 1), vect__smooth_idf=True, vect__sublinear_tf=False, vect__binary=True, vect__min_df=1, vect__stop_words=english, vect__use_idf=False \n",
        "[GridSearchCV]  vect__ngram_range=(1, 1), vect__smooth_idf=True, vect__sublinear_tf=False, vect__binary=True, vect__min_df=1, vect__stop_words=english, vect__use_idf=False, score=0.420048 -   0.9s"
       ]
      },
      {
       "output_type": "stream",
       "stream": "stdout",
       "text": [
        "\n",
        "[GridSearchCV] vect__ngram_range=(1, 1), vect__smooth_idf=True, vect__sublinear_tf=False, vect__binary=True, vect__min_df=1, vect__stop_words=english, vect__use_idf=False \n",
        "[GridSearchCV]  vect__ngram_range=(1, 1), vect__smooth_idf=True, vect__sublinear_tf=False, vect__binary=True, vect__min_df=1, vect__stop_words=english, vect__use_idf=False, score=0.407206 -   0.9s"
       ]
      },
      {
       "output_type": "stream",
       "stream": "stdout",
       "text": [
        "\n",
        "[GridSearchCV] vect__ngram_range=(1, 1), vect__smooth_idf=True, vect__sublinear_tf=False, vect__binary=True, vect__min_df=1, vect__stop_words=english, vect__use_idf=False \n",
        "[GridSearchCV]  vect__ngram_range=(1, 1), vect__smooth_idf=True, vect__sublinear_tf=False, vect__binary=True, vect__min_df=1, vect__stop_words=english, vect__use_idf=False, score=0.401366 -   0.8s"
       ]
      },
      {
       "output_type": "stream",
       "stream": "stdout",
       "text": [
        "\n",
        "[GridSearchCV] vect__ngram_range=(1, 1), vect__smooth_idf=True, vect__sublinear_tf=False, vect__binary=True, vect__min_df=1, vect__stop_words=english, vect__use_idf=True \n",
        "[GridSearchCV]  vect__ngram_range=(1, 1), vect__smooth_idf=True, vect__sublinear_tf=False, vect__binary=True, vect__min_df=1, vect__stop_words=english, vect__use_idf=True, score=0.424107 -   0.8s"
       ]
      },
      {
       "output_type": "stream",
       "stream": "stdout",
       "text": [
        "\n",
        "[GridSearchCV] vect__ngram_range=(1, 1), vect__smooth_idf=True, vect__sublinear_tf=False, vect__binary=True, vect__min_df=1, vect__stop_words=english, vect__use_idf=True \n",
        "[GridSearchCV]  vect__ngram_range=(1, 1), vect__smooth_idf=True, vect__sublinear_tf=False, vect__binary=True, vect__min_df=1, vect__stop_words=english, vect__use_idf=True, score=0.418400 -   0.8s"
       ]
      },
      {
       "output_type": "stream",
       "stream": "stdout",
       "text": [
        "\n",
        "[GridSearchCV] vect__ngram_range=(1, 1), vect__smooth_idf=True, vect__sublinear_tf=False, vect__binary=True, vect__min_df=1, vect__stop_words=english, vect__use_idf=True \n",
        "[GridSearchCV]  vect__ngram_range=(1, 1), vect__smooth_idf=True, vect__sublinear_tf=False, vect__binary=True, vect__min_df=1, vect__stop_words=english, vect__use_idf=True, score=0.395310 -   0.8s"
       ]
      },
      {
       "output_type": "stream",
       "stream": "stdout",
       "text": [
        "\n",
        "[GridSearchCV] vect__ngram_range=(1, 1), vect__smooth_idf=True, vect__sublinear_tf=True, vect__binary=True, vect__min_df=1, vect__stop_words=english, vect__use_idf=False \n",
        "[GridSearchCV]  vect__ngram_range=(1, 1), vect__smooth_idf=True, vect__sublinear_tf=True, vect__binary=True, vect__min_df=1, vect__stop_words=english, vect__use_idf=False, score=0.420048 -   0.9s"
       ]
      },
      {
       "output_type": "stream",
       "stream": "stdout",
       "text": [
        "\n",
        "[GridSearchCV] vect__ngram_range=(1, 1), vect__smooth_idf=True, vect__sublinear_tf=True, vect__binary=True, vect__min_df=1, vect__stop_words=english, vect__use_idf=False \n",
        "[GridSearchCV]  vect__ngram_range=(1, 1), vect__smooth_idf=True, vect__sublinear_tf=True, vect__binary=True, vect__min_df=1, vect__stop_words=english, vect__use_idf=False, score=0.407206 -   0.8s"
       ]
      },
      {
       "output_type": "stream",
       "stream": "stdout",
       "text": [
        "\n",
        "[GridSearchCV] vect__ngram_range=(1, 1), vect__smooth_idf=True, vect__sublinear_tf=True, vect__binary=True, vect__min_df=1, vect__stop_words=english, vect__use_idf=False \n",
        "[GridSearchCV]  vect__ngram_range=(1, 1), vect__smooth_idf=True, vect__sublinear_tf=True, vect__binary=True, vect__min_df=1, vect__stop_words=english, vect__use_idf=False, score=0.401366 -   0.8s"
       ]
      },
      {
       "output_type": "stream",
       "stream": "stdout",
       "text": [
        "\n",
        "[GridSearchCV] vect__ngram_range=(1, 1), vect__smooth_idf=True, vect__sublinear_tf=True, vect__binary=True, vect__min_df=1, vect__stop_words=english, vect__use_idf=True \n",
        "[GridSearchCV]  vect__ngram_range=(1, 1), vect__smooth_idf=True, vect__sublinear_tf=True, vect__binary=True, vect__min_df=1, vect__stop_words=english, vect__use_idf=True, score=0.424745 -   0.7s"
       ]
      },
      {
       "output_type": "stream",
       "stream": "stdout",
       "text": [
        "\n",
        "[GridSearchCV] vect__ngram_range=(1, 1), vect__smooth_idf=True, vect__sublinear_tf=True, vect__binary=True, vect__min_df=1, vect__stop_words=english, vect__use_idf=True \n",
        "[GridSearchCV]  vect__ngram_range=(1, 1), vect__smooth_idf=True, vect__sublinear_tf=True, vect__binary=True, vect__min_df=1, vect__stop_words=english, vect__use_idf=True, score=0.417762 -   0.8s"
       ]
      },
      {
       "output_type": "stream",
       "stream": "stdout",
       "text": [
        "\n",
        "[GridSearchCV] vect__ngram_range=(1, 1), vect__smooth_idf=True, vect__sublinear_tf=True, vect__binary=True, vect__min_df=1, vect__stop_words=english, vect__use_idf=True \n",
        "[GridSearchCV]  vect__ngram_range=(1, 1), vect__smooth_idf=True, vect__sublinear_tf=True, vect__binary=True, vect__min_df=1, vect__stop_words=english, vect__use_idf=True, score=0.395310 -   0.8s"
       ]
      },
      {
       "output_type": "stream",
       "stream": "stdout",
       "text": [
        "\n",
        "[GridSearchCV] vect__ngram_range=(1, 2), vect__smooth_idf=False, vect__sublinear_tf=False, vect__binary=True, vect__min_df=1, vect__stop_words=None, vect__use_idf=False \n",
        "[GridSearchCV]  vect__ngram_range=(1, 2), vect__smooth_idf=False, vect__sublinear_tf=False, vect__binary=True, vect__min_df=1, vect__stop_words=None, vect__use_idf=False, score=0.440234 -   3.8s"
       ]
      },
      {
       "output_type": "stream",
       "stream": "stdout",
       "text": [
        "\n",
        "[GridSearchCV] vect__ngram_range=(1, 2), vect__smooth_idf=False, vect__sublinear_tf=False, vect__binary=True, vect__min_df=1, vect__stop_words=None, vect__use_idf=False \n",
        "[GridSearchCV]  vect__ngram_range=(1, 2), vect__smooth_idf=False, vect__sublinear_tf=False, vect__binary=True, vect__min_df=1, vect__stop_words=None, vect__use_idf=False, score=0.434700 -   3.6s"
       ]
      },
      {
       "output_type": "stream",
       "stream": "stdout",
       "text": [
        "\n",
        "[GridSearchCV] vect__ngram_range=(1, 2), vect__smooth_idf=False, vect__sublinear_tf=False, vect__binary=True, vect__min_df=1, vect__stop_words=None, vect__use_idf=False \n",
        "[GridSearchCV]  vect__ngram_range=(1, 2), vect__smooth_idf=False, vect__sublinear_tf=False, vect__binary=True, vect__min_df=1, vect__stop_words=None, vect__use_idf=False, score=0.425065 -   3.9s"
       ]
      },
      {
       "output_type": "stream",
       "stream": "stdout",
       "text": [
        "\n",
        "[GridSearchCV] vect__ngram_range=(1, 2), vect__smooth_idf=False, vect__sublinear_tf=False, vect__binary=True, vect__min_df=1, vect__stop_words=None, vect__use_idf=True \n",
        "[GridSearchCV]  vect__ngram_range=(1, 2), vect__smooth_idf=False, vect__sublinear_tf=False, vect__binary=True, vect__min_df=1, vect__stop_words=None, vect__use_idf=True, score=0.454776 -   2.7s"
       ]
      },
      {
       "output_type": "stream",
       "stream": "stdout",
       "text": [
        "\n",
        "[GridSearchCV] vect__ngram_range=(1, 2), vect__smooth_idf=False, vect__sublinear_tf=False, vect__binary=True, vect__min_df=1, vect__stop_words=None, vect__use_idf=True \n",
        "[GridSearchCV]  vect__ngram_range=(1, 2), vect__smooth_idf=False, vect__sublinear_tf=False, vect__binary=True, vect__min_df=1, vect__stop_words=None, vect__use_idf=True, score=0.436478 -   2.8s"
       ]
      },
      {
       "output_type": "stream",
       "stream": "stdout",
       "text": [
        "\n",
        "[GridSearchCV] vect__ngram_range=(1, 2), vect__smooth_idf=False, vect__sublinear_tf=False, vect__binary=True, vect__min_df=1, vect__stop_words=None, vect__use_idf=True \n",
        "[GridSearchCV]  vect__ngram_range=(1, 2), vect__smooth_idf=False, vect__sublinear_tf=False, vect__binary=True, vect__min_df=1, vect__stop_words=None, vect__use_idf=True, score=0.420179 -   2.7s"
       ]
      },
      {
       "output_type": "stream",
       "stream": "stdout",
       "text": [
        "\n",
        "[GridSearchCV] vect__ngram_range=(1, 2), vect__smooth_idf=False, vect__sublinear_tf=True, vect__binary=True, vect__min_df=1, vect__stop_words=None, vect__use_idf=False \n",
        "[GridSearchCV]  vect__ngram_range=(1, 2), vect__smooth_idf=False, vect__sublinear_tf=True, vect__binary=True, vect__min_df=1, vect__stop_words=None, vect__use_idf=False, score=0.440234 -   3.8s"
       ]
      },
      {
       "output_type": "stream",
       "stream": "stdout",
       "text": [
        "\n",
        "[GridSearchCV] vect__ngram_range=(1, 2), vect__smooth_idf=False, vect__sublinear_tf=True, vect__binary=True, vect__min_df=1, vect__stop_words=None, vect__use_idf=False \n",
        "[GridSearchCV]  vect__ngram_range=(1, 2), vect__smooth_idf=False, vect__sublinear_tf=True, vect__binary=True, vect__min_df=1, vect__stop_words=None, vect__use_idf=False, score=0.434700 -   3.9s"
       ]
      },
      {
       "output_type": "stream",
       "stream": "stdout",
       "text": [
        "\n",
        "[GridSearchCV] vect__ngram_range=(1, 2), vect__smooth_idf=False, vect__sublinear_tf=True, vect__binary=True, vect__min_df=1, vect__stop_words=None, vect__use_idf=False \n",
        "[GridSearchCV]  vect__ngram_range=(1, 2), vect__smooth_idf=False, vect__sublinear_tf=True, vect__binary=True, vect__min_df=1, vect__stop_words=None, vect__use_idf=False, score=0.425065 -   3.9s"
       ]
      },
      {
       "output_type": "stream",
       "stream": "stdout",
       "text": [
        "\n",
        "[GridSearchCV] vect__ngram_range=(1, 2), vect__smooth_idf=False, vect__sublinear_tf=True, vect__binary=True, vect__min_df=1, vect__stop_words=None, vect__use_idf=True \n",
        "[GridSearchCV]  vect__ngram_range=(1, 2), vect__smooth_idf=False, vect__sublinear_tf=True, vect__binary=True, vect__min_df=1, vect__stop_words=None, vect__use_idf=True, score=0.454776 -   3.1s"
       ]
      },
      {
       "output_type": "stream",
       "stream": "stdout",
       "text": [
        "\n",
        "[GridSearchCV] vect__ngram_range=(1, 2), vect__smooth_idf=False, vect__sublinear_tf=True, vect__binary=True, vect__min_df=1, vect__stop_words=None, vect__use_idf=True \n",
        "[GridSearchCV]  vect__ngram_range=(1, 2), vect__smooth_idf=False, vect__sublinear_tf=True, vect__binary=True, vect__min_df=1, vect__stop_words=None, vect__use_idf=True, score=0.435720 -   3.6s"
       ]
      },
      {
       "output_type": "stream",
       "stream": "stdout",
       "text": [
        "\n",
        "[GridSearchCV] vect__ngram_range=(1, 2), vect__smooth_idf=False, vect__sublinear_tf=True, vect__binary=True, vect__min_df=1, vect__stop_words=None, vect__use_idf=True \n",
        "[GridSearchCV]  vect__ngram_range=(1, 2), vect__smooth_idf=False, vect__sublinear_tf=True, vect__binary=True, vect__min_df=1, vect__stop_words=None, vect__use_idf=True, score=0.420179 -   3.5s"
       ]
      },
      {
       "output_type": "stream",
       "stream": "stdout",
       "text": [
        "\n",
        "[GridSearchCV] vect__ngram_range=(1, 2), vect__smooth_idf=False, vect__sublinear_tf=False, vect__binary=True, vect__min_df=1, vect__stop_words=english, vect__use_idf=False \n",
        "[GridSearchCV]  vect__ngram_range=(1, 2), vect__smooth_idf=False, vect__sublinear_tf=False, vect__binary=True, vect__min_df=1, vect__stop_words=english, vect__use_idf=False, score=0.420622 -   2.4s"
       ]
      },
      {
       "output_type": "stream",
       "stream": "stdout",
       "text": [
        "\n",
        "[GridSearchCV] vect__ngram_range=(1, 2), vect__smooth_idf=False, vect__sublinear_tf=False, vect__binary=True, vect__min_df=1, vect__stop_words=english, vect__use_idf=False \n",
        "[GridSearchCV]  vect__ngram_range=(1, 2), vect__smooth_idf=False, vect__sublinear_tf=False, vect__binary=True, vect__min_df=1, vect__stop_words=english, vect__use_idf=False, score=0.406843 -   2.5s"
       ]
      },
      {
       "output_type": "stream",
       "stream": "stdout",
       "text": [
        "\n",
        "[GridSearchCV] vect__ngram_range=(1, 2), vect__smooth_idf=False, vect__sublinear_tf=False, vect__binary=True, vect__min_df=1, vect__stop_words=english, vect__use_idf=False \n",
        "[GridSearchCV]  vect__ngram_range=(1, 2), vect__smooth_idf=False, vect__sublinear_tf=False, vect__binary=True, vect__min_df=1, vect__stop_words=english, vect__use_idf=False, score=0.413549 -   2.4s"
       ]
      },
      {
       "output_type": "stream",
       "stream": "stdout",
       "text": [
        "\n",
        "[GridSearchCV] vect__ngram_range=(1, 2), vect__smooth_idf=False, vect__sublinear_tf=False, vect__binary=True, vect__min_df=1, vect__stop_words=english, vect__use_idf=True \n",
        "[GridSearchCV]  vect__ngram_range=(1, 2), vect__smooth_idf=False, vect__sublinear_tf=False, vect__binary=True, vect__min_df=1, vect__stop_words=english, vect__use_idf=True, score=0.392051 -   2.0s"
       ]
      },
      {
       "output_type": "stream",
       "stream": "stdout",
       "text": [
        "\n",
        "[GridSearchCV] vect__ngram_range=(1, 2), vect__smooth_idf=False, vect__sublinear_tf=False, vect__binary=True, vect__min_df=1, vect__stop_words=english, vect__use_idf=True \n",
        "[GridSearchCV]  vect__ngram_range=(1, 2), vect__smooth_idf=False, vect__sublinear_tf=False, vect__binary=True, vect__min_df=1, vect__stop_words=english, vect__use_idf=True, score=0.411921 -   2.0s"
       ]
      },
      {
       "output_type": "stream",
       "stream": "stdout",
       "text": [
        "\n",
        "[GridSearchCV] vect__ngram_range=(1, 2), vect__smooth_idf=False, vect__sublinear_tf=False, vect__binary=True, vect__min_df=1, vect__stop_words=english, vect__use_idf=True \n",
        "[GridSearchCV]  vect__ngram_range=(1, 2), vect__smooth_idf=False, vect__sublinear_tf=False, vect__binary=True, vect__min_df=1, vect__stop_words=english, vect__use_idf=True, score=0.405777 -   2.0s"
       ]
      },
      {
       "output_type": "stream",
       "stream": "stdout",
       "text": [
        "\n",
        "[GridSearchCV] vect__ngram_range=(1, 2), vect__smooth_idf=False, vect__sublinear_tf=True, vect__binary=True, vect__min_df=1, vect__stop_words=english, vect__use_idf=False \n",
        "[GridSearchCV]  vect__ngram_range=(1, 2), vect__smooth_idf=False, vect__sublinear_tf=True, vect__binary=True, vect__min_df=1, vect__stop_words=english, vect__use_idf=False, score=0.420622 -   2.0s"
       ]
      },
      {
       "output_type": "stream",
       "stream": "stdout",
       "text": [
        "\n",
        "[GridSearchCV] vect__ngram_range=(1, 2), vect__smooth_idf=False, vect__sublinear_tf=True, vect__binary=True, vect__min_df=1, vect__stop_words=english, vect__use_idf=False \n",
        "[GridSearchCV]  vect__ngram_range=(1, 2), vect__smooth_idf=False, vect__sublinear_tf=True, vect__binary=True, vect__min_df=1, vect__stop_words=english, vect__use_idf=False, score=0.406843 -   2.1s"
       ]
      },
      {
       "output_type": "stream",
       "stream": "stdout",
       "text": [
        "\n",
        "[GridSearchCV] vect__ngram_range=(1, 2), vect__smooth_idf=False, vect__sublinear_tf=True, vect__binary=True, vect__min_df=1, vect__stop_words=english, vect__use_idf=False \n",
        "[GridSearchCV]  vect__ngram_range=(1, 2), vect__smooth_idf=False, vect__sublinear_tf=True, vect__binary=True, vect__min_df=1, vect__stop_words=english, vect__use_idf=False, score=0.413549 -   2.1s"
       ]
      },
      {
       "output_type": "stream",
       "stream": "stdout",
       "text": [
        "\n",
        "[GridSearchCV] vect__ngram_range=(1, 2), vect__smooth_idf=False, vect__sublinear_tf=True, vect__binary=True, vect__min_df=1, vect__stop_words=english, vect__use_idf=True \n",
        "[GridSearchCV]  vect__ngram_range=(1, 2), vect__smooth_idf=False, vect__sublinear_tf=True, vect__binary=True, vect__min_df=1, vect__stop_words=english, vect__use_idf=True, score=0.392051 -   2.6s"
       ]
      },
      {
       "output_type": "stream",
       "stream": "stdout",
       "text": [
        "\n",
        "[GridSearchCV] vect__ngram_range=(1, 2), vect__smooth_idf=False, vect__sublinear_tf=True, vect__binary=True, vect__min_df=1, vect__stop_words=english, vect__use_idf=True \n",
        "[GridSearchCV]  vect__ngram_range=(1, 2), vect__smooth_idf=False, vect__sublinear_tf=True, vect__binary=True, vect__min_df=1, vect__stop_words=english, vect__use_idf=True, score=0.411921 -   2.0s"
       ]
      },
      {
       "output_type": "stream",
       "stream": "stdout",
       "text": [
        "\n",
        "[GridSearchCV] vect__ngram_range=(1, 2), vect__smooth_idf=False, vect__sublinear_tf=True, vect__binary=True, vect__min_df=1, vect__stop_words=english, vect__use_idf=True \n",
        "[GridSearchCV]  vect__ngram_range=(1, 2), vect__smooth_idf=False, vect__sublinear_tf=True, vect__binary=True, vect__min_df=1, vect__stop_words=english, vect__use_idf=True, score=0.405777 -   1.8s"
       ]
      },
      {
       "output_type": "stream",
       "stream": "stdout",
       "text": [
        "\n",
        "[GridSearchCV] vect__ngram_range=(1, 2), vect__smooth_idf=True, vect__sublinear_tf=False, vect__binary=True, vect__min_df=1, vect__stop_words=None, vect__use_idf=False \n",
        "[GridSearchCV]  vect__ngram_range=(1, 2), vect__smooth_idf=True, vect__sublinear_tf=False, vect__binary=True, vect__min_df=1, vect__stop_words=None, vect__use_idf=False, score=0.440234 -   4.2s"
       ]
      },
      {
       "output_type": "stream",
       "stream": "stderr",
       "text": [
        "[Parallel(n_jobs=1)]: Done 242 jobs       | elapsed:  7.5min\n",
        "[Parallel(n_jobs=1)]: Done 265 jobs       | elapsed:  8.6min\n"
       ]
      },
      {
       "output_type": "stream",
       "stream": "stdout",
       "text": [
        "\n",
        "[GridSearchCV] vect__ngram_range=(1, 2), vect__smooth_idf=True, vect__sublinear_tf=False, vect__binary=True, vect__min_df=1, vect__stop_words=None, vect__use_idf=False \n",
        "[GridSearchCV]  vect__ngram_range=(1, 2), vect__smooth_idf=True, vect__sublinear_tf=False, vect__binary=True, vect__min_df=1, vect__stop_words=None, vect__use_idf=False, score=0.434700 -   3.8s"
       ]
      },
      {
       "output_type": "stream",
       "stream": "stdout",
       "text": [
        "\n",
        "[GridSearchCV] vect__ngram_range=(1, 2), vect__smooth_idf=True, vect__sublinear_tf=False, vect__binary=True, vect__min_df=1, vect__stop_words=None, vect__use_idf=False \n",
        "[GridSearchCV]  vect__ngram_range=(1, 2), vect__smooth_idf=True, vect__sublinear_tf=False, vect__binary=True, vect__min_df=1, vect__stop_words=None, vect__use_idf=False, score=0.425065 -   3.9s"
       ]
      },
      {
       "output_type": "stream",
       "stream": "stdout",
       "text": [
        "\n",
        "[GridSearchCV] vect__ngram_range=(1, 2), vect__smooth_idf=True, vect__sublinear_tf=False, vect__binary=True, vect__min_df=1, vect__stop_words=None, vect__use_idf=True \n",
        "[GridSearchCV]  vect__ngram_range=(1, 2), vect__smooth_idf=True, vect__sublinear_tf=False, vect__binary=True, vect__min_df=1, vect__stop_words=None, vect__use_idf=True, score=0.452360 -   2.5s"
       ]
      },
      {
       "output_type": "stream",
       "stream": "stdout",
       "text": [
        "\n",
        "[GridSearchCV] vect__ngram_range=(1, 2), vect__smooth_idf=True, vect__sublinear_tf=False, vect__binary=True, vect__min_df=1, vect__stop_words=None, vect__use_idf=True \n",
        "[GridSearchCV]  vect__ngram_range=(1, 2), vect__smooth_idf=True, vect__sublinear_tf=False, vect__binary=True, vect__min_df=1, vect__stop_words=None, vect__use_idf=True, score=0.433336 -   2.7s"
       ]
      },
      {
       "output_type": "stream",
       "stream": "stdout",
       "text": [
        "\n",
        "[GridSearchCV] vect__ngram_range=(1, 2), vect__smooth_idf=True, vect__sublinear_tf=False, vect__binary=True, vect__min_df=1, vect__stop_words=None, vect__use_idf=True \n",
        "[GridSearchCV]  vect__ngram_range=(1, 2), vect__smooth_idf=True, vect__sublinear_tf=False, vect__binary=True, vect__min_df=1, vect__stop_words=None, vect__use_idf=True, score=0.421452 -   2.6s"
       ]
      },
      {
       "output_type": "stream",
       "stream": "stdout",
       "text": [
        "\n",
        "[GridSearchCV] vect__ngram_range=(1, 2), vect__smooth_idf=True, vect__sublinear_tf=True, vect__binary=True, vect__min_df=1, vect__stop_words=None, vect__use_idf=False \n",
        "[GridSearchCV]  vect__ngram_range=(1, 2), vect__smooth_idf=True, vect__sublinear_tf=True, vect__binary=True, vect__min_df=1, vect__stop_words=None, vect__use_idf=False, score=0.440234 -   3.5s"
       ]
      },
      {
       "output_type": "stream",
       "stream": "stdout",
       "text": [
        "\n",
        "[GridSearchCV] vect__ngram_range=(1, 2), vect__smooth_idf=True, vect__sublinear_tf=True, vect__binary=True, vect__min_df=1, vect__stop_words=None, vect__use_idf=False \n",
        "[GridSearchCV]  vect__ngram_range=(1, 2), vect__smooth_idf=True, vect__sublinear_tf=True, vect__binary=True, vect__min_df=1, vect__stop_words=None, vect__use_idf=False, score=0.435444 -   3.7s"
       ]
      },
      {
       "output_type": "stream",
       "stream": "stdout",
       "text": [
        "\n",
        "[GridSearchCV] vect__ngram_range=(1, 2), vect__smooth_idf=True, vect__sublinear_tf=True, vect__binary=True, vect__min_df=1, vect__stop_words=None, vect__use_idf=False \n",
        "[GridSearchCV]  vect__ngram_range=(1, 2), vect__smooth_idf=True, vect__sublinear_tf=True, vect__binary=True, vect__min_df=1, vect__stop_words=None, vect__use_idf=False, score=0.425065 -   3.9s"
       ]
      },
      {
       "output_type": "stream",
       "stream": "stdout",
       "text": [
        "\n",
        "[GridSearchCV] vect__ngram_range=(1, 2), vect__smooth_idf=True, vect__sublinear_tf=True, vect__binary=True, vect__min_df=1, vect__stop_words=None, vect__use_idf=True \n",
        "[GridSearchCV]  vect__ngram_range=(1, 2), vect__smooth_idf=True, vect__sublinear_tf=True, vect__binary=True, vect__min_df=1, vect__stop_words=None, vect__use_idf=True, score=0.452360 -   2.6s"
       ]
      },
      {
       "output_type": "stream",
       "stream": "stdout",
       "text": [
        "\n",
        "[GridSearchCV] vect__ngram_range=(1, 2), vect__smooth_idf=True, vect__sublinear_tf=True, vect__binary=True, vect__min_df=1, vect__stop_words=None, vect__use_idf=True \n",
        "[GridSearchCV]  vect__ngram_range=(1, 2), vect__smooth_idf=True, vect__sublinear_tf=True, vect__binary=True, vect__min_df=1, vect__stop_words=None, vect__use_idf=True, score=0.434090 -   2.7s"
       ]
      },
      {
       "output_type": "stream",
       "stream": "stdout",
       "text": [
        "\n",
        "[GridSearchCV] vect__ngram_range=(1, 2), vect__smooth_idf=True, vect__sublinear_tf=True, vect__binary=True, vect__min_df=1, vect__stop_words=None, vect__use_idf=True \n",
        "[GridSearchCV]  vect__ngram_range=(1, 2), vect__smooth_idf=True, vect__sublinear_tf=True, vect__binary=True, vect__min_df=1, vect__stop_words=None, vect__use_idf=True, score=0.421452 -   2.7s"
       ]
      },
      {
       "output_type": "stream",
       "stream": "stdout",
       "text": [
        "\n",
        "[GridSearchCV] vect__ngram_range=(1, 2), vect__smooth_idf=True, vect__sublinear_tf=False, vect__binary=True, vect__min_df=1, vect__stop_words=english, vect__use_idf=False \n",
        "[GridSearchCV]  vect__ngram_range=(1, 2), vect__smooth_idf=True, vect__sublinear_tf=False, vect__binary=True, vect__min_df=1, vect__stop_words=english, vect__use_idf=False, score=0.421325 -   1.9s"
       ]
      },
      {
       "output_type": "stream",
       "stream": "stdout",
       "text": [
        "\n",
        "[GridSearchCV] vect__ngram_range=(1, 2), vect__smooth_idf=True, vect__sublinear_tf=False, vect__binary=True, vect__min_df=1, vect__stop_words=english, vect__use_idf=False \n",
        "[GridSearchCV]  vect__ngram_range=(1, 2), vect__smooth_idf=True, vect__sublinear_tf=False, vect__binary=True, vect__min_df=1, vect__stop_words=english, vect__use_idf=False, score=0.406843 -   1.9s"
       ]
      },
      {
       "output_type": "stream",
       "stream": "stdout",
       "text": [
        "\n",
        "[GridSearchCV] vect__ngram_range=(1, 2), vect__smooth_idf=True, vect__sublinear_tf=False, vect__binary=True, vect__min_df=1, vect__stop_words=english, vect__use_idf=False \n",
        "[GridSearchCV]  vect__ngram_range=(1, 2), vect__smooth_idf=True, vect__sublinear_tf=False, vect__binary=True, vect__min_df=1, vect__stop_words=english, vect__use_idf=False, score=0.413549 -   1.8s"
       ]
      },
      {
       "output_type": "stream",
       "stream": "stdout",
       "text": [
        "\n",
        "[GridSearchCV] vect__ngram_range=(1, 2), vect__smooth_idf=True, vect__sublinear_tf=False, vect__binary=True, vect__min_df=1, vect__stop_words=english, vect__use_idf=True \n",
        "[GridSearchCV]  vect__ngram_range=(1, 2), vect__smooth_idf=True, vect__sublinear_tf=False, vect__binary=True, vect__min_df=1, vect__stop_words=english, vect__use_idf=True, score=0.393699 -   1.6s"
       ]
      },
      {
       "output_type": "stream",
       "stream": "stdout",
       "text": [
        "\n",
        "[GridSearchCV] vect__ngram_range=(1, 2), vect__smooth_idf=True, vect__sublinear_tf=False, vect__binary=True, vect__min_df=1, vect__stop_words=english, vect__use_idf=True \n",
        "[GridSearchCV]  vect__ngram_range=(1, 2), vect__smooth_idf=True, vect__sublinear_tf=False, vect__binary=True, vect__min_df=1, vect__stop_words=english, vect__use_idf=True, score=0.408981 -   1.7s"
       ]
      },
      {
       "output_type": "stream",
       "stream": "stdout",
       "text": [
        "\n",
        "[GridSearchCV] vect__ngram_range=(1, 2), vect__smooth_idf=True, vect__sublinear_tf=False, vect__binary=True, vect__min_df=1, vect__stop_words=english, vect__use_idf=True \n",
        "[GridSearchCV]  vect__ngram_range=(1, 2), vect__smooth_idf=True, vect__sublinear_tf=False, vect__binary=True, vect__min_df=1, vect__stop_words=english, vect__use_idf=True, score=0.408421 -   1.8s"
       ]
      },
      {
       "output_type": "stream",
       "stream": "stdout",
       "text": [
        "\n",
        "[GridSearchCV] vect__ngram_range=(1, 2), vect__smooth_idf=True, vect__sublinear_tf=True, vect__binary=True, vect__min_df=1, vect__stop_words=english, vect__use_idf=False \n",
        "[GridSearchCV]  vect__ngram_range=(1, 2), vect__smooth_idf=True, vect__sublinear_tf=True, vect__binary=True, vect__min_df=1, vect__stop_words=english, vect__use_idf=False, score=0.421325 -   1.7s"
       ]
      },
      {
       "output_type": "stream",
       "stream": "stdout",
       "text": [
        "\n",
        "[GridSearchCV] vect__ngram_range=(1, 2), vect__smooth_idf=True, vect__sublinear_tf=True, vect__binary=True, vect__min_df=1, vect__stop_words=english, vect__use_idf=False \n",
        "[GridSearchCV]  vect__ngram_range=(1, 2), vect__smooth_idf=True, vect__sublinear_tf=True, vect__binary=True, vect__min_df=1, vect__stop_words=english, vect__use_idf=False, score=0.406843 -   1.7s"
       ]
      },
      {
       "output_type": "stream",
       "stream": "stdout",
       "text": [
        "\n",
        "[GridSearchCV] vect__ngram_range=(1, 2), vect__smooth_idf=True, vect__sublinear_tf=True, vect__binary=True, vect__min_df=1, vect__stop_words=english, vect__use_idf=False \n",
        "[GridSearchCV]  vect__ngram_range=(1, 2), vect__smooth_idf=True, vect__sublinear_tf=True, vect__binary=True, vect__min_df=1, vect__stop_words=english, vect__use_idf=False, score=0.413549 -   1.7s"
       ]
      },
      {
       "output_type": "stream",
       "stream": "stdout",
       "text": [
        "\n",
        "[GridSearchCV] vect__ngram_range=(1, 2), vect__smooth_idf=True, vect__sublinear_tf=True, vect__binary=True, vect__min_df=1, vect__stop_words=english, vect__use_idf=True \n",
        "[GridSearchCV]  vect__ngram_range=(1, 2), vect__smooth_idf=True, vect__sublinear_tf=True, vect__binary=True, vect__min_df=1, vect__stop_words=english, vect__use_idf=True, score=0.393699 -   1.7s"
       ]
      },
      {
       "output_type": "stream",
       "stream": "stdout",
       "text": [
        "\n",
        "[GridSearchCV] vect__ngram_range=(1, 2), vect__smooth_idf=True, vect__sublinear_tf=True, vect__binary=True, vect__min_df=1, vect__stop_words=english, vect__use_idf=True \n",
        "[GridSearchCV]  vect__ngram_range=(1, 2), vect__smooth_idf=True, vect__sublinear_tf=True, vect__binary=True, vect__min_df=1, vect__stop_words=english, vect__use_idf=True, score=0.408970 -   1.7s"
       ]
      },
      {
       "output_type": "stream",
       "stream": "stdout",
       "text": [
        "\n",
        "[GridSearchCV] vect__ngram_range=(1, 2), vect__smooth_idf=True, vect__sublinear_tf=True, vect__binary=True, vect__min_df=1, vect__stop_words=english, vect__use_idf=True \n",
        "[GridSearchCV]  vect__ngram_range=(1, 2), vect__smooth_idf=True, vect__sublinear_tf=True, vect__binary=True, vect__min_df=1, vect__stop_words=english, vect__use_idf=True, score=0.408421 -   1.7s"
       ]
      },
      {
       "output_type": "stream",
       "stream": "stdout",
       "text": [
        "\n",
        "[GridSearchCV] vect__ngram_range=(1, 1), vect__smooth_idf=False, vect__sublinear_tf=False, vect__binary=True, vect__min_df=2, vect__stop_words=None, vect__use_idf=False \n",
        "[GridSearchCV]  vect__ngram_range=(1, 1), vect__smooth_idf=False, vect__sublinear_tf=False, vect__binary=True, vect__min_df=2, vect__stop_words=None, vect__use_idf=False, score=0.426219 -   2.3s"
       ]
      },
      {
       "output_type": "stream",
       "stream": "stdout",
       "text": [
        "\n",
        "[GridSearchCV] vect__ngram_range=(1, 1), vect__smooth_idf=False, vect__sublinear_tf=False, vect__binary=True, vect__min_df=2, vect__stop_words=None, vect__use_idf=False \n",
        "[GridSearchCV]  vect__ngram_range=(1, 1), vect__smooth_idf=False, vect__sublinear_tf=False, vect__binary=True, vect__min_df=2, vect__stop_words=None, vect__use_idf=False, score=0.443307 -   2.1s"
       ]
      },
      {
       "output_type": "stream",
       "stream": "stdout",
       "text": [
        "\n",
        "[GridSearchCV] vect__ngram_range=(1, 1), vect__smooth_idf=False, vect__sublinear_tf=False, vect__binary=True, vect__min_df=2, vect__stop_words=None, vect__use_idf=False \n",
        "[GridSearchCV]  vect__ngram_range=(1, 1), vect__smooth_idf=False, vect__sublinear_tf=False, vect__binary=True, vect__min_df=2, vect__stop_words=None, vect__use_idf=False, score=0.419098 -   2.6s"
       ]
      },
      {
       "output_type": "stream",
       "stream": "stdout",
       "text": [
        "\n",
        "[GridSearchCV] vect__ngram_range=(1, 1), vect__smooth_idf=False, vect__sublinear_tf=False, vect__binary=True, vect__min_df=2, vect__stop_words=None, vect__use_idf=True \n",
        "[GridSearchCV]  vect__ngram_range=(1, 1), vect__smooth_idf=False, vect__sublinear_tf=False, vect__binary=True, vect__min_df=2, vect__stop_words=None, vect__use_idf=True, score=0.425662 -   1.7s"
       ]
      },
      {
       "output_type": "stream",
       "stream": "stdout",
       "text": [
        "\n",
        "[GridSearchCV] vect__ngram_range=(1, 1), vect__smooth_idf=False, vect__sublinear_tf=False, vect__binary=True, vect__min_df=2, vect__stop_words=None, vect__use_idf=True \n",
        "[GridSearchCV]  vect__ngram_range=(1, 1), vect__smooth_idf=False, vect__sublinear_tf=False, vect__binary=True, vect__min_df=2, vect__stop_words=None, vect__use_idf=True, score=0.423479 -   2.1s"
       ]
      },
      {
       "output_type": "stream",
       "stream": "stdout",
       "text": [
        "\n",
        "[GridSearchCV] vect__ngram_range=(1, 1), vect__smooth_idf=False, vect__sublinear_tf=False, vect__binary=True, vect__min_df=2, vect__stop_words=None, vect__use_idf=True \n",
        "[GridSearchCV]  vect__ngram_range=(1, 1), vect__smooth_idf=False, vect__sublinear_tf=False, vect__binary=True, vect__min_df=2, vect__stop_words=None, vect__use_idf=True, score=0.398910 -   1.9s"
       ]
      },
      {
       "output_type": "stream",
       "stream": "stdout",
       "text": [
        "\n",
        "[GridSearchCV] vect__ngram_range=(1, 1), vect__smooth_idf=False, vect__sublinear_tf=True, vect__binary=True, vect__min_df=2, vect__stop_words=None, vect__use_idf=False \n",
        "[GridSearchCV]  vect__ngram_range=(1, 1), vect__smooth_idf=False, vect__sublinear_tf=True, vect__binary=True, vect__min_df=2, vect__stop_words=None, vect__use_idf=False, score=0.426219 -   2.4s"
       ]
      },
      {
       "output_type": "stream",
       "stream": "stdout",
       "text": [
        "\n",
        "[GridSearchCV] vect__ngram_range=(1, 1), vect__smooth_idf=False, vect__sublinear_tf=True, vect__binary=True, vect__min_df=2, vect__stop_words=None, vect__use_idf=False \n",
        "[GridSearchCV]  vect__ngram_range=(1, 1), vect__smooth_idf=False, vect__sublinear_tf=True, vect__binary=True, vect__min_df=2, vect__stop_words=None, vect__use_idf=False, score=0.443307 -   2.2s"
       ]
      },
      {
       "output_type": "stream",
       "stream": "stdout",
       "text": [
        "\n",
        "[GridSearchCV] vect__ngram_range=(1, 1), vect__smooth_idf=False, vect__sublinear_tf=True, vect__binary=True, vect__min_df=2, vect__stop_words=None, vect__use_idf=False \n",
        "[GridSearchCV]  vect__ngram_range=(1, 1), vect__smooth_idf=False, vect__sublinear_tf=True, vect__binary=True, vect__min_df=2, vect__stop_words=None, vect__use_idf=False, score=0.419098 -   2.4s"
       ]
      },
      {
       "output_type": "stream",
       "stream": "stdout",
       "text": [
        "\n",
        "[GridSearchCV] vect__ngram_range=(1, 1), vect__smooth_idf=False, vect__sublinear_tf=True, vect__binary=True, vect__min_df=2, vect__stop_words=None, vect__use_idf=True \n",
        "[GridSearchCV]  vect__ngram_range=(1, 1), vect__smooth_idf=False, vect__sublinear_tf=True, vect__binary=True, vect__min_df=2, vect__stop_words=None, vect__use_idf=True, score=0.425662 -   1.7s"
       ]
      },
      {
       "output_type": "stream",
       "stream": "stdout",
       "text": [
        "\n",
        "[GridSearchCV] vect__ngram_range=(1, 1), vect__smooth_idf=False, vect__sublinear_tf=True, vect__binary=True, vect__min_df=2, vect__stop_words=None, vect__use_idf=True \n",
        "[GridSearchCV]  vect__ngram_range=(1, 1), vect__smooth_idf=False, vect__sublinear_tf=True, vect__binary=True, vect__min_df=2, vect__stop_words=None, vect__use_idf=True, score=0.423479 -   1.7s"
       ]
      },
      {
       "output_type": "stream",
       "stream": "stdout",
       "text": [
        "\n",
        "[GridSearchCV] vect__ngram_range=(1, 1), vect__smooth_idf=False, vect__sublinear_tf=True, vect__binary=True, vect__min_df=2, vect__stop_words=None, vect__use_idf=True \n",
        "[GridSearchCV]  vect__ngram_range=(1, 1), vect__smooth_idf=False, vect__sublinear_tf=True, vect__binary=True, vect__min_df=2, vect__stop_words=None, vect__use_idf=True, score=0.398910 -   1.7s"
       ]
      },
      {
       "output_type": "stream",
       "stream": "stdout",
       "text": [
        "\n",
        "[GridSearchCV] vect__ngram_range=(1, 1), vect__smooth_idf=False, vect__sublinear_tf=False, vect__binary=True, vect__min_df=2, vect__stop_words=english, vect__use_idf=False \n",
        "[GridSearchCV]  vect__ngram_range=(1, 1), vect__smooth_idf=False, vect__sublinear_tf=False, vect__binary=True, vect__min_df=2, vect__stop_words=english, vect__use_idf=False, score=0.421175 -   0.9s"
       ]
      },
      {
       "output_type": "stream",
       "stream": "stdout",
       "text": [
        "\n",
        "[GridSearchCV] vect__ngram_range=(1, 1), vect__smooth_idf=False, vect__sublinear_tf=False, vect__binary=True, vect__min_df=2, vect__stop_words=english, vect__use_idf=False \n",
        "[GridSearchCV]  vect__ngram_range=(1, 1), vect__smooth_idf=False, vect__sublinear_tf=False, vect__binary=True, vect__min_df=2, vect__stop_words=english, vect__use_idf=False, score=0.406764 -   0.8s"
       ]
      },
      {
       "output_type": "stream",
       "stream": "stdout",
       "text": [
        "\n",
        "[GridSearchCV] vect__ngram_range=(1, 1), vect__smooth_idf=False, vect__sublinear_tf=False, vect__binary=True, vect__min_df=2, vect__stop_words=english, vect__use_idf=False \n",
        "[GridSearchCV]  vect__ngram_range=(1, 1), vect__smooth_idf=False, vect__sublinear_tf=False, vect__binary=True, vect__min_df=2, vect__stop_words=english, vect__use_idf=False, score=0.396941 -   0.9s"
       ]
      },
      {
       "output_type": "stream",
       "stream": "stdout",
       "text": [
        "\n",
        "[GridSearchCV] vect__ngram_range=(1, 1), vect__smooth_idf=False, vect__sublinear_tf=False, vect__binary=True, vect__min_df=2, vect__stop_words=english, vect__use_idf=True \n",
        "[GridSearchCV]  vect__ngram_range=(1, 1), vect__smooth_idf=False, vect__sublinear_tf=False, vect__binary=True, vect__min_df=2, vect__stop_words=english, vect__use_idf=True, score=0.424282 -   0.8s"
       ]
      },
      {
       "output_type": "stream",
       "stream": "stdout",
       "text": [
        "\n",
        "[GridSearchCV] vect__ngram_range=(1, 1), vect__smooth_idf=False, vect__sublinear_tf=False, vect__binary=True, vect__min_df=2, vect__stop_words=english, vect__use_idf=True \n",
        "[GridSearchCV]  vect__ngram_range=(1, 1), vect__smooth_idf=False, vect__sublinear_tf=False, vect__binary=True, vect__min_df=2, vect__stop_words=english, vect__use_idf=True, score=0.408858 -   0.8s"
       ]
      },
      {
       "output_type": "stream",
       "stream": "stdout",
       "text": [
        "\n",
        "[GridSearchCV] vect__ngram_range=(1, 1), vect__smooth_idf=False, vect__sublinear_tf=False, vect__binary=True, vect__min_df=2, vect__stop_words=english, vect__use_idf=True \n",
        "[GridSearchCV]  vect__ngram_range=(1, 1), vect__smooth_idf=False, vect__sublinear_tf=False, vect__binary=True, vect__min_df=2, vect__stop_words=english, vect__use_idf=True, score=0.396044 -   1.0s"
       ]
      },
      {
       "output_type": "stream",
       "stream": "stdout",
       "text": [
        "\n",
        "[GridSearchCV] vect__ngram_range=(1, 1), vect__smooth_idf=False, vect__sublinear_tf=True, vect__binary=True, vect__min_df=2, vect__stop_words=english, vect__use_idf=False \n",
        "[GridSearchCV]  vect__ngram_range=(1, 1), vect__smooth_idf=False, vect__sublinear_tf=True, vect__binary=True, vect__min_df=2, vect__stop_words=english, vect__use_idf=False, score=0.421175 -   1.1s"
       ]
      },
      {
       "output_type": "stream",
       "stream": "stdout",
       "text": [
        "\n",
        "[GridSearchCV] vect__ngram_range=(1, 1), vect__smooth_idf=False, vect__sublinear_tf=True, vect__binary=True, vect__min_df=2, vect__stop_words=english, vect__use_idf=False \n",
        "[GridSearchCV]  vect__ngram_range=(1, 1), vect__smooth_idf=False, vect__sublinear_tf=True, vect__binary=True, vect__min_df=2, vect__stop_words=english, vect__use_idf=False, score=0.406764 -   1.1s"
       ]
      },
      {
       "output_type": "stream",
       "stream": "stdout",
       "text": [
        "\n",
        "[GridSearchCV] vect__ngram_range=(1, 1), vect__smooth_idf=False, vect__sublinear_tf=True, vect__binary=True, vect__min_df=2, vect__stop_words=english, vect__use_idf=False \n",
        "[GridSearchCV]  vect__ngram_range=(1, 1), vect__smooth_idf=False, vect__sublinear_tf=True, vect__binary=True, vect__min_df=2, vect__stop_words=english, vect__use_idf=False, score=0.396941 -   1.2s"
       ]
      },
      {
       "output_type": "stream",
       "stream": "stdout",
       "text": [
        "\n",
        "[GridSearchCV] vect__ngram_range=(1, 1), vect__smooth_idf=False, vect__sublinear_tf=True, vect__binary=True, vect__min_df=2, vect__stop_words=english, vect__use_idf=True \n",
        "[GridSearchCV]  vect__ngram_range=(1, 1), vect__smooth_idf=False, vect__sublinear_tf=True, vect__binary=True, vect__min_df=2, vect__stop_words=english, vect__use_idf=True, score=0.424282 -   1.1s"
       ]
      },
      {
       "output_type": "stream",
       "stream": "stdout",
       "text": [
        "\n",
        "[GridSearchCV] vect__ngram_range=(1, 1), vect__smooth_idf=False, vect__sublinear_tf=True, vect__binary=True, vect__min_df=2, vect__stop_words=english, vect__use_idf=True \n",
        "[GridSearchCV]  vect__ngram_range=(1, 1), vect__smooth_idf=False, vect__sublinear_tf=True, vect__binary=True, vect__min_df=2, vect__stop_words=english, vect__use_idf=True, score=0.408858 -   0.8s"
       ]
      },
      {
       "output_type": "stream",
       "stream": "stdout",
       "text": [
        "\n",
        "[GridSearchCV] vect__ngram_range=(1, 1), vect__smooth_idf=False, vect__sublinear_tf=True, vect__binary=True, vect__min_df=2, vect__stop_words=english, vect__use_idf=True \n",
        "[GridSearchCV]  vect__ngram_range=(1, 1), vect__smooth_idf=False, vect__sublinear_tf=True, vect__binary=True, vect__min_df=2, vect__stop_words=english, vect__use_idf=True, score=0.396044 -   0.8s"
       ]
      },
      {
       "output_type": "stream",
       "stream": "stdout",
       "text": [
        "\n",
        "[GridSearchCV] vect__ngram_range=(1, 1), vect__smooth_idf=True, vect__sublinear_tf=False, vect__binary=True, vect__min_df=2, vect__stop_words=None, vect__use_idf=False \n",
        "[GridSearchCV]  vect__ngram_range=(1, 1), vect__smooth_idf=True, vect__sublinear_tf=False, vect__binary=True, vect__min_df=2, vect__stop_words=None, vect__use_idf=False, score=0.426219 -   2.3s"
       ]
      },
      {
       "output_type": "stream",
       "stream": "stderr",
       "text": [
        "[Parallel(n_jobs=1)]: Done 288 jobs       | elapsed:  9.5min\n",
        "[Parallel(n_jobs=1)]: Done 313 jobs       | elapsed: 10.1min\n"
       ]
      },
      {
       "output_type": "stream",
       "stream": "stdout",
       "text": [
        "\n",
        "[GridSearchCV] vect__ngram_range=(1, 1), vect__smooth_idf=True, vect__sublinear_tf=False, vect__binary=True, vect__min_df=2, vect__stop_words=None, vect__use_idf=False \n",
        "[GridSearchCV]  vect__ngram_range=(1, 1), vect__smooth_idf=True, vect__sublinear_tf=False, vect__binary=True, vect__min_df=2, vect__stop_words=None, vect__use_idf=False, score=0.443307 -   2.2s"
       ]
      },
      {
       "output_type": "stream",
       "stream": "stdout",
       "text": [
        "\n",
        "[GridSearchCV] vect__ngram_range=(1, 1), vect__smooth_idf=True, vect__sublinear_tf=False, vect__binary=True, vect__min_df=2, vect__stop_words=None, vect__use_idf=False \n",
        "[GridSearchCV]  vect__ngram_range=(1, 1), vect__smooth_idf=True, vect__sublinear_tf=False, vect__binary=True, vect__min_df=2, vect__stop_words=None, vect__use_idf=False, score=0.419098 -   2.5s"
       ]
      },
      {
       "output_type": "stream",
       "stream": "stdout",
       "text": [
        "\n",
        "[GridSearchCV] vect__ngram_range=(1, 1), vect__smooth_idf=True, vect__sublinear_tf=False, vect__binary=True, vect__min_df=2, vect__stop_words=None, vect__use_idf=True \n",
        "[GridSearchCV]  vect__ngram_range=(1, 1), vect__smooth_idf=True, vect__sublinear_tf=False, vect__binary=True, vect__min_df=2, vect__stop_words=None, vect__use_idf=True, score=0.428888 -   1.8s"
       ]
      },
      {
       "output_type": "stream",
       "stream": "stdout",
       "text": [
        "\n",
        "[GridSearchCV] vect__ngram_range=(1, 1), vect__smooth_idf=True, vect__sublinear_tf=False, vect__binary=True, vect__min_df=2, vect__stop_words=None, vect__use_idf=True \n",
        "[GridSearchCV]  vect__ngram_range=(1, 1), vect__smooth_idf=True, vect__sublinear_tf=False, vect__binary=True, vect__min_df=2, vect__stop_words=None, vect__use_idf=True, score=0.422611 -   2.1s"
       ]
      },
      {
       "output_type": "stream",
       "stream": "stdout",
       "text": [
        "\n",
        "[GridSearchCV] vect__ngram_range=(1, 1), vect__smooth_idf=True, vect__sublinear_tf=False, vect__binary=True, vect__min_df=2, vect__stop_words=None, vect__use_idf=True \n",
        "[GridSearchCV]  vect__ngram_range=(1, 1), vect__smooth_idf=True, vect__sublinear_tf=False, vect__binary=True, vect__min_df=2, vect__stop_words=None, vect__use_idf=True, score=0.399667 -   2.0s"
       ]
      },
      {
       "output_type": "stream",
       "stream": "stdout",
       "text": [
        "\n",
        "[GridSearchCV] vect__ngram_range=(1, 1), vect__smooth_idf=True, vect__sublinear_tf=True, vect__binary=True, vect__min_df=2, vect__stop_words=None, vect__use_idf=False \n",
        "[GridSearchCV]  vect__ngram_range=(1, 1), vect__smooth_idf=True, vect__sublinear_tf=True, vect__binary=True, vect__min_df=2, vect__stop_words=None, vect__use_idf=False, score=0.426219 -   2.6s"
       ]
      },
      {
       "output_type": "stream",
       "stream": "stdout",
       "text": [
        "\n",
        "[GridSearchCV] vect__ngram_range=(1, 1), vect__smooth_idf=True, vect__sublinear_tf=True, vect__binary=True, vect__min_df=2, vect__stop_words=None, vect__use_idf=False \n",
        "[GridSearchCV]  vect__ngram_range=(1, 1), vect__smooth_idf=True, vect__sublinear_tf=True, vect__binary=True, vect__min_df=2, vect__stop_words=None, vect__use_idf=False, score=0.443307 -   2.6s"
       ]
      },
      {
       "output_type": "stream",
       "stream": "stdout",
       "text": [
        "\n",
        "[GridSearchCV] vect__ngram_range=(1, 1), vect__smooth_idf=True, vect__sublinear_tf=True, vect__binary=True, vect__min_df=2, vect__stop_words=None, vect__use_idf=False \n",
        "[GridSearchCV]  vect__ngram_range=(1, 1), vect__smooth_idf=True, vect__sublinear_tf=True, vect__binary=True, vect__min_df=2, vect__stop_words=None, vect__use_idf=False, score=0.419098 -   2.7s"
       ]
      },
      {
       "output_type": "stream",
       "stream": "stdout",
       "text": [
        "\n",
        "[GridSearchCV] vect__ngram_range=(1, 1), vect__smooth_idf=True, vect__sublinear_tf=True, vect__binary=True, vect__min_df=2, vect__stop_words=None, vect__use_idf=True \n",
        "[GridSearchCV]  vect__ngram_range=(1, 1), vect__smooth_idf=True, vect__sublinear_tf=True, vect__binary=True, vect__min_df=2, vect__stop_words=None, vect__use_idf=True, score=0.428888 -   1.8s"
       ]
      },
      {
       "output_type": "stream",
       "stream": "stdout",
       "text": [
        "\n",
        "[GridSearchCV] vect__ngram_range=(1, 1), vect__smooth_idf=True, vect__sublinear_tf=True, vect__binary=True, vect__min_df=2, vect__stop_words=None, vect__use_idf=True \n",
        "[GridSearchCV]  vect__ngram_range=(1, 1), vect__smooth_idf=True, vect__sublinear_tf=True, vect__binary=True, vect__min_df=2, vect__stop_words=None, vect__use_idf=True, score=0.422611 -   1.7s"
       ]
      },
      {
       "output_type": "stream",
       "stream": "stdout",
       "text": [
        "\n",
        "[GridSearchCV] vect__ngram_range=(1, 1), vect__smooth_idf=True, vect__sublinear_tf=True, vect__binary=True, vect__min_df=2, vect__stop_words=None, vect__use_idf=True \n",
        "[GridSearchCV]  vect__ngram_range=(1, 1), vect__smooth_idf=True, vect__sublinear_tf=True, vect__binary=True, vect__min_df=2, vect__stop_words=None, vect__use_idf=True, score=0.399667 -   1.8s"
       ]
      },
      {
       "output_type": "stream",
       "stream": "stdout",
       "text": [
        "\n",
        "[GridSearchCV] vect__ngram_range=(1, 1), vect__smooth_idf=True, vect__sublinear_tf=False, vect__binary=True, vect__min_df=2, vect__stop_words=english, vect__use_idf=False \n",
        "[GridSearchCV]  vect__ngram_range=(1, 1), vect__smooth_idf=True, vect__sublinear_tf=False, vect__binary=True, vect__min_df=2, vect__stop_words=english, vect__use_idf=False, score=0.421175 -   0.8s"
       ]
      },
      {
       "output_type": "stream",
       "stream": "stdout",
       "text": [
        "\n",
        "[GridSearchCV] vect__ngram_range=(1, 1), vect__smooth_idf=True, vect__sublinear_tf=False, vect__binary=True, vect__min_df=2, vect__stop_words=english, vect__use_idf=False \n",
        "[GridSearchCV]  vect__ngram_range=(1, 1), vect__smooth_idf=True, vect__sublinear_tf=False, vect__binary=True, vect__min_df=2, vect__stop_words=english, vect__use_idf=False, score=0.406764 -   0.8s"
       ]
      },
      {
       "output_type": "stream",
       "stream": "stdout",
       "text": [
        "\n",
        "[GridSearchCV] vect__ngram_range=(1, 1), vect__smooth_idf=True, vect__sublinear_tf=False, vect__binary=True, vect__min_df=2, vect__stop_words=english, vect__use_idf=False \n",
        "[GridSearchCV]  vect__ngram_range=(1, 1), vect__smooth_idf=True, vect__sublinear_tf=False, vect__binary=True, vect__min_df=2, vect__stop_words=english, vect__use_idf=False, score=0.396941 -   0.8s"
       ]
      },
      {
       "output_type": "stream",
       "stream": "stdout",
       "text": [
        "\n",
        "[GridSearchCV] vect__ngram_range=(1, 1), vect__smooth_idf=True, vect__sublinear_tf=False, vect__binary=True, vect__min_df=2, vect__stop_words=english, vect__use_idf=True \n",
        "[GridSearchCV]  vect__ngram_range=(1, 1), vect__smooth_idf=True, vect__sublinear_tf=False, vect__binary=True, vect__min_df=2, vect__stop_words=english, vect__use_idf=True, score=0.419645 -   0.8s"
       ]
      },
      {
       "output_type": "stream",
       "stream": "stdout",
       "text": [
        "\n",
        "[GridSearchCV] vect__ngram_range=(1, 1), vect__smooth_idf=True, vect__sublinear_tf=False, vect__binary=True, vect__min_df=2, vect__stop_words=english, vect__use_idf=True \n",
        "[GridSearchCV]  vect__ngram_range=(1, 1), vect__smooth_idf=True, vect__sublinear_tf=False, vect__binary=True, vect__min_df=2, vect__stop_words=english, vect__use_idf=True, score=0.408270 -   0.8s"
       ]
      },
      {
       "output_type": "stream",
       "stream": "stdout",
       "text": [
        "\n",
        "[GridSearchCV] vect__ngram_range=(1, 1), vect__smooth_idf=True, vect__sublinear_tf=False, vect__binary=True, vect__min_df=2, vect__stop_words=english, vect__use_idf=True \n",
        "[GridSearchCV]  vect__ngram_range=(1, 1), vect__smooth_idf=True, vect__sublinear_tf=False, vect__binary=True, vect__min_df=2, vect__stop_words=english, vect__use_idf=True, score=0.396740 -   0.8s"
       ]
      },
      {
       "output_type": "stream",
       "stream": "stdout",
       "text": [
        "\n",
        "[GridSearchCV] vect__ngram_range=(1, 1), vect__smooth_idf=True, vect__sublinear_tf=True, vect__binary=True, vect__min_df=2, vect__stop_words=english, vect__use_idf=False \n",
        "[GridSearchCV]  vect__ngram_range=(1, 1), vect__smooth_idf=True, vect__sublinear_tf=True, vect__binary=True, vect__min_df=2, vect__stop_words=english, vect__use_idf=False, score=0.421175 -   0.8s"
       ]
      },
      {
       "output_type": "stream",
       "stream": "stdout",
       "text": [
        "\n",
        "[GridSearchCV] vect__ngram_range=(1, 1), vect__smooth_idf=True, vect__sublinear_tf=True, vect__binary=True, vect__min_df=2, vect__stop_words=english, vect__use_idf=False \n",
        "[GridSearchCV]  vect__ngram_range=(1, 1), vect__smooth_idf=True, vect__sublinear_tf=True, vect__binary=True, vect__min_df=2, vect__stop_words=english, vect__use_idf=False, score=0.406764 -   0.8s"
       ]
      },
      {
       "output_type": "stream",
       "stream": "stdout",
       "text": [
        "\n",
        "[GridSearchCV] vect__ngram_range=(1, 1), vect__smooth_idf=True, vect__sublinear_tf=True, vect__binary=True, vect__min_df=2, vect__stop_words=english, vect__use_idf=False \n",
        "[GridSearchCV]  vect__ngram_range=(1, 1), vect__smooth_idf=True, vect__sublinear_tf=True, vect__binary=True, vect__min_df=2, vect__stop_words=english, vect__use_idf=False, score=0.396941 -   0.8s"
       ]
      },
      {
       "output_type": "stream",
       "stream": "stdout",
       "text": [
        "\n",
        "[GridSearchCV] vect__ngram_range=(1, 1), vect__smooth_idf=True, vect__sublinear_tf=True, vect__binary=True, vect__min_df=2, vect__stop_words=english, vect__use_idf=True \n",
        "[GridSearchCV]  vect__ngram_range=(1, 1), vect__smooth_idf=True, vect__sublinear_tf=True, vect__binary=True, vect__min_df=2, vect__stop_words=english, vect__use_idf=True, score=0.419645 -   0.8s"
       ]
      },
      {
       "output_type": "stream",
       "stream": "stdout",
       "text": [
        "\n",
        "[GridSearchCV] vect__ngram_range=(1, 1), vect__smooth_idf=True, vect__sublinear_tf=True, vect__binary=True, vect__min_df=2, vect__stop_words=english, vect__use_idf=True \n",
        "[GridSearchCV]  vect__ngram_range=(1, 1), vect__smooth_idf=True, vect__sublinear_tf=True, vect__binary=True, vect__min_df=2, vect__stop_words=english, vect__use_idf=True, score=0.408270 -   0.8s"
       ]
      },
      {
       "output_type": "stream",
       "stream": "stdout",
       "text": [
        "\n",
        "[GridSearchCV] vect__ngram_range=(1, 1), vect__smooth_idf=True, vect__sublinear_tf=True, vect__binary=True, vect__min_df=2, vect__stop_words=english, vect__use_idf=True \n",
        "[GridSearchCV]  vect__ngram_range=(1, 1), vect__smooth_idf=True, vect__sublinear_tf=True, vect__binary=True, vect__min_df=2, vect__stop_words=english, vect__use_idf=True, score=0.396740 -   0.8s"
       ]
      },
      {
       "output_type": "stream",
       "stream": "stdout",
       "text": [
        "\n",
        "[GridSearchCV] vect__ngram_range=(1, 2), vect__smooth_idf=False, vect__sublinear_tf=False, vect__binary=True, vect__min_df=2, vect__stop_words=None, vect__use_idf=False \n",
        "[GridSearchCV]  vect__ngram_range=(1, 2), vect__smooth_idf=False, vect__sublinear_tf=False, vect__binary=True, vect__min_df=2, vect__stop_words=None, vect__use_idf=False, score=0.440647 -   3.6s"
       ]
      },
      {
       "output_type": "stream",
       "stream": "stdout",
       "text": [
        "\n",
        "[GridSearchCV] vect__ngram_range=(1, 2), vect__smooth_idf=False, vect__sublinear_tf=False, vect__binary=True, vect__min_df=2, vect__stop_words=None, vect__use_idf=False \n",
        "[GridSearchCV]  vect__ngram_range=(1, 2), vect__smooth_idf=False, vect__sublinear_tf=False, vect__binary=True, vect__min_df=2, vect__stop_words=None, vect__use_idf=False, score=0.424849 -   3.3s"
       ]
      },
      {
       "output_type": "stream",
       "stream": "stdout",
       "text": [
        "\n",
        "[GridSearchCV] vect__ngram_range=(1, 2), vect__smooth_idf=False, vect__sublinear_tf=False, vect__binary=True, vect__min_df=2, vect__stop_words=None, vect__use_idf=False \n",
        "[GridSearchCV]  vect__ngram_range=(1, 2), vect__smooth_idf=False, vect__sublinear_tf=False, vect__binary=True, vect__min_df=2, vect__stop_words=None, vect__use_idf=False, score=0.424799 -   3.7s"
       ]
      },
      {
       "output_type": "stream",
       "stream": "stdout",
       "text": [
        "\n",
        "[GridSearchCV] vect__ngram_range=(1, 2), vect__smooth_idf=False, vect__sublinear_tf=False, vect__binary=True, vect__min_df=2, vect__stop_words=None, vect__use_idf=True \n",
        "[GridSearchCV]  vect__ngram_range=(1, 2), vect__smooth_idf=False, vect__sublinear_tf=False, vect__binary=True, vect__min_df=2, vect__stop_words=None, vect__use_idf=True, score=0.460924 -   2.7s"
       ]
      },
      {
       "output_type": "stream",
       "stream": "stdout",
       "text": [
        "\n",
        "[GridSearchCV] vect__ngram_range=(1, 2), vect__smooth_idf=False, vect__sublinear_tf=False, vect__binary=True, vect__min_df=2, vect__stop_words=None, vect__use_idf=True \n",
        "[GridSearchCV]  vect__ngram_range=(1, 2), vect__smooth_idf=False, vect__sublinear_tf=False, vect__binary=True, vect__min_df=2, vect__stop_words=None, vect__use_idf=True, score=0.447774 -   2.5s"
       ]
      },
      {
       "output_type": "stream",
       "stream": "stdout",
       "text": [
        "\n",
        "[GridSearchCV] vect__ngram_range=(1, 2), vect__smooth_idf=False, vect__sublinear_tf=False, vect__binary=True, vect__min_df=2, vect__stop_words=None, vect__use_idf=True \n",
        "[GridSearchCV]  vect__ngram_range=(1, 2), vect__smooth_idf=False, vect__sublinear_tf=False, vect__binary=True, vect__min_df=2, vect__stop_words=None, vect__use_idf=True, score=0.433411 -   2.5s"
       ]
      },
      {
       "output_type": "stream",
       "stream": "stdout",
       "text": [
        "\n",
        "[GridSearchCV] vect__ngram_range=(1, 2), vect__smooth_idf=False, vect__sublinear_tf=True, vect__binary=True, vect__min_df=2, vect__stop_words=None, vect__use_idf=False \n",
        "[GridSearchCV]  vect__ngram_range=(1, 2), vect__smooth_idf=False, vect__sublinear_tf=True, vect__binary=True, vect__min_df=2, vect__stop_words=None, vect__use_idf=False, score=0.440647 -   3.5s"
       ]
      },
      {
       "output_type": "stream",
       "stream": "stdout",
       "text": [
        "\n",
        "[GridSearchCV] vect__ngram_range=(1, 2), vect__smooth_idf=False, vect__sublinear_tf=True, vect__binary=True, vect__min_df=2, vect__stop_words=None, vect__use_idf=False \n",
        "[GridSearchCV]  vect__ngram_range=(1, 2), vect__smooth_idf=False, vect__sublinear_tf=True, vect__binary=True, vect__min_df=2, vect__stop_words=None, vect__use_idf=False, score=0.424849 -   3.5s"
       ]
      },
      {
       "output_type": "stream",
       "stream": "stdout",
       "text": [
        "\n",
        "[GridSearchCV] vect__ngram_range=(1, 2), vect__smooth_idf=False, vect__sublinear_tf=True, vect__binary=True, vect__min_df=2, vect__stop_words=None, vect__use_idf=False \n",
        "[GridSearchCV]  vect__ngram_range=(1, 2), vect__smooth_idf=False, vect__sublinear_tf=True, vect__binary=True, vect__min_df=2, vect__stop_words=None, vect__use_idf=False, score=0.424799 -   3.5s"
       ]
      },
      {
       "output_type": "stream",
       "stream": "stdout",
       "text": [
        "\n",
        "[GridSearchCV] vect__ngram_range=(1, 2), vect__smooth_idf=False, vect__sublinear_tf=True, vect__binary=True, vect__min_df=2, vect__stop_words=None, vect__use_idf=True \n",
        "[GridSearchCV]  vect__ngram_range=(1, 2), vect__smooth_idf=False, vect__sublinear_tf=True, vect__binary=True, vect__min_df=2, vect__stop_words=None, vect__use_idf=True, score=0.460924 -   2.4s"
       ]
      },
      {
       "output_type": "stream",
       "stream": "stdout",
       "text": [
        "\n",
        "[GridSearchCV] vect__ngram_range=(1, 2), vect__smooth_idf=False, vect__sublinear_tf=True, vect__binary=True, vect__min_df=2, vect__stop_words=None, vect__use_idf=True \n",
        "[GridSearchCV]  vect__ngram_range=(1, 2), vect__smooth_idf=False, vect__sublinear_tf=True, vect__binary=True, vect__min_df=2, vect__stop_words=None, vect__use_idf=True, score=0.446990 -   2.6s"
       ]
      },
      {
       "output_type": "stream",
       "stream": "stdout",
       "text": [
        "\n",
        "[GridSearchCV] vect__ngram_range=(1, 2), vect__smooth_idf=False, vect__sublinear_tf=True, vect__binary=True, vect__min_df=2, vect__stop_words=None, vect__use_idf=True \n",
        "[GridSearchCV]  vect__ngram_range=(1, 2), vect__smooth_idf=False, vect__sublinear_tf=True, vect__binary=True, vect__min_df=2, vect__stop_words=None, vect__use_idf=True, score=0.433411 -   2.5s"
       ]
      },
      {
       "output_type": "stream",
       "stream": "stdout",
       "text": [
        "\n",
        "[GridSearchCV] vect__ngram_range=(1, 2), vect__smooth_idf=False, vect__sublinear_tf=False, vect__binary=True, vect__min_df=2, vect__stop_words=english, vect__use_idf=False \n",
        "[GridSearchCV]  vect__ngram_range=(1, 2), vect__smooth_idf=False, vect__sublinear_tf=False, vect__binary=True, vect__min_df=2, vect__stop_words=english, vect__use_idf=False, score=0.418051 -   1.5s"
       ]
      },
      {
       "output_type": "stream",
       "stream": "stdout",
       "text": [
        "\n",
        "[GridSearchCV] vect__ngram_range=(1, 2), vect__smooth_idf=False, vect__sublinear_tf=False, vect__binary=True, vect__min_df=2, vect__stop_words=english, vect__use_idf=False \n",
        "[GridSearchCV]  vect__ngram_range=(1, 2), vect__smooth_idf=False, vect__sublinear_tf=False, vect__binary=True, vect__min_df=2, vect__stop_words=english, vect__use_idf=False, score=0.422625 -   1.6s"
       ]
      },
      {
       "output_type": "stream",
       "stream": "stdout",
       "text": [
        "\n",
        "[GridSearchCV] vect__ngram_range=(1, 2), vect__smooth_idf=False, vect__sublinear_tf=False, vect__binary=True, vect__min_df=2, vect__stop_words=english, vect__use_idf=False \n",
        "[GridSearchCV]  vect__ngram_range=(1, 2), vect__smooth_idf=False, vect__sublinear_tf=False, vect__binary=True, vect__min_df=2, vect__stop_words=english, vect__use_idf=False, score=0.404774 -   1.6s"
       ]
      },
      {
       "output_type": "stream",
       "stream": "stdout",
       "text": [
        "\n",
        "[GridSearchCV] vect__ngram_range=(1, 2), vect__smooth_idf=False, vect__sublinear_tf=False, vect__binary=True, vect__min_df=2, vect__stop_words=english, vect__use_idf=True \n",
        "[GridSearchCV]  vect__ngram_range=(1, 2), vect__smooth_idf=False, vect__sublinear_tf=False, vect__binary=True, vect__min_df=2, vect__stop_words=english, vect__use_idf=True, score=0.408350 -   1.5s"
       ]
      },
      {
       "output_type": "stream",
       "stream": "stdout",
       "text": [
        "\n",
        "[GridSearchCV] vect__ngram_range=(1, 2), vect__smooth_idf=False, vect__sublinear_tf=False, vect__binary=True, vect__min_df=2, vect__stop_words=english, vect__use_idf=True \n",
        "[GridSearchCV]  vect__ngram_range=(1, 2), vect__smooth_idf=False, vect__sublinear_tf=False, vect__binary=True, vect__min_df=2, vect__stop_words=english, vect__use_idf=True, score=0.398869 -   1.6s"
       ]
      },
      {
       "output_type": "stream",
       "stream": "stdout",
       "text": [
        "\n",
        "[GridSearchCV] vect__ngram_range=(1, 2), vect__smooth_idf=False, vect__sublinear_tf=False, vect__binary=True, vect__min_df=2, vect__stop_words=english, vect__use_idf=True \n",
        "[GridSearchCV]  vect__ngram_range=(1, 2), vect__smooth_idf=False, vect__sublinear_tf=False, vect__binary=True, vect__min_df=2, vect__stop_words=english, vect__use_idf=True, score=0.395161 -   1.7s"
       ]
      },
      {
       "output_type": "stream",
       "stream": "stdout",
       "text": [
        "\n",
        "[GridSearchCV] vect__ngram_range=(1, 2), vect__smooth_idf=False, vect__sublinear_tf=True, vect__binary=True, vect__min_df=2, vect__stop_words=english, vect__use_idf=False \n",
        "[GridSearchCV]  vect__ngram_range=(1, 2), vect__smooth_idf=False, vect__sublinear_tf=True, vect__binary=True, vect__min_df=2, vect__stop_words=english, vect__use_idf=False, score=0.418751 -   1.6s"
       ]
      },
      {
       "output_type": "stream",
       "stream": "stdout",
       "text": [
        "\n",
        "[GridSearchCV] vect__ngram_range=(1, 2), vect__smooth_idf=False, vect__sublinear_tf=True, vect__binary=True, vect__min_df=2, vect__stop_words=english, vect__use_idf=False \n",
        "[GridSearchCV]  vect__ngram_range=(1, 2), vect__smooth_idf=False, vect__sublinear_tf=True, vect__binary=True, vect__min_df=2, vect__stop_words=english, vect__use_idf=False, score=0.422625 -   1.7s"
       ]
      },
      {
       "output_type": "stream",
       "stream": "stdout",
       "text": [
        "\n",
        "[GridSearchCV] vect__ngram_range=(1, 2), vect__smooth_idf=False, vect__sublinear_tf=True, vect__binary=True, vect__min_df=2, vect__stop_words=english, vect__use_idf=False \n",
        "[GridSearchCV]  vect__ngram_range=(1, 2), vect__smooth_idf=False, vect__sublinear_tf=True, vect__binary=True, vect__min_df=2, vect__stop_words=english, vect__use_idf=False, score=0.404774 -   1.6s"
       ]
      },
      {
       "output_type": "stream",
       "stream": "stdout",
       "text": [
        "\n",
        "[GridSearchCV] vect__ngram_range=(1, 2), vect__smooth_idf=False, vect__sublinear_tf=True, vect__binary=True, vect__min_df=2, vect__stop_words=english, vect__use_idf=True \n",
        "[GridSearchCV]  vect__ngram_range=(1, 2), vect__smooth_idf=False, vect__sublinear_tf=True, vect__binary=True, vect__min_df=2, vect__stop_words=english, vect__use_idf=True, score=0.408350 -   1.5s"
       ]
      },
      {
       "output_type": "stream",
       "stream": "stdout",
       "text": [
        "\n",
        "[GridSearchCV] vect__ngram_range=(1, 2), vect__smooth_idf=False, vect__sublinear_tf=True, vect__binary=True, vect__min_df=2, vect__stop_words=english, vect__use_idf=True \n",
        "[GridSearchCV]  vect__ngram_range=(1, 2), vect__smooth_idf=False, vect__sublinear_tf=True, vect__binary=True, vect__min_df=2, vect__stop_words=english, vect__use_idf=True, score=0.398869 -   1.7s"
       ]
      },
      {
       "output_type": "stream",
       "stream": "stdout",
       "text": [
        "\n",
        "[GridSearchCV] vect__ngram_range=(1, 2), vect__smooth_idf=False, vect__sublinear_tf=True, vect__binary=True, vect__min_df=2, vect__stop_words=english, vect__use_idf=True \n",
        "[GridSearchCV]  vect__ngram_range=(1, 2), vect__smooth_idf=False, vect__sublinear_tf=True, vect__binary=True, vect__min_df=2, vect__stop_words=english, vect__use_idf=True, score=0.395161 -   1.5s"
       ]
      },
      {
       "output_type": "stream",
       "stream": "stdout",
       "text": [
        "\n",
        "[GridSearchCV] vect__ngram_range=(1, 2), vect__smooth_idf=True, vect__sublinear_tf=False, vect__binary=True, vect__min_df=2, vect__stop_words=None, vect__use_idf=False \n",
        "[GridSearchCV]  vect__ngram_range=(1, 2), vect__smooth_idf=True, vect__sublinear_tf=False, vect__binary=True, vect__min_df=2, vect__stop_words=None, vect__use_idf=False, score=0.440647 -   3.5s"
       ]
      },
      {
       "output_type": "stream",
       "stream": "stdout",
       "text": [
        "\n",
        "[GridSearchCV] vect__ngram_range=(1, 2), vect__smooth_idf=True, vect__sublinear_tf=False, vect__binary=True, vect__min_df=2, vect__stop_words=None, vect__use_idf=False \n",
        "[GridSearchCV]  vect__ngram_range=(1, 2), vect__smooth_idf=True, vect__sublinear_tf=False, vect__binary=True, vect__min_df=2, vect__stop_words=None, vect__use_idf=False, score=0.425614 -   3.8s"
       ]
      },
      {
       "output_type": "stream",
       "stream": "stdout",
       "text": [
        "\n",
        "[GridSearchCV] vect__ngram_range=(1, 2), vect__smooth_idf=True, vect__sublinear_tf=False, vect__binary=True, vect__min_df=2, vect__stop_words=None, vect__use_idf=False \n",
        "[GridSearchCV]  vect__ngram_range=(1, 2), vect__smooth_idf=True, vect__sublinear_tf=False, vect__binary=True, vect__min_df=2, vect__stop_words=None, vect__use_idf=False, score=0.424799 -   4.0s"
       ]
      },
      {
       "output_type": "stream",
       "stream": "stdout",
       "text": [
        "\n",
        "[GridSearchCV] vect__ngram_range=(1, 2), vect__smooth_idf=True, vect__sublinear_tf=False, vect__binary=True, vect__min_df=2, vect__stop_words=None, vect__use_idf=True \n",
        "[GridSearchCV]  vect__ngram_range=(1, 2), vect__smooth_idf=True, vect__sublinear_tf=False, vect__binary=True, vect__min_df=2, vect__stop_words=None, vect__use_idf=True, score=0.456837 -   2.6s"
       ]
      },
      {
       "output_type": "stream",
       "stream": "stdout",
       "text": [
        "\n",
        "[GridSearchCV] vect__ngram_range=(1, 2), vect__smooth_idf=True, vect__sublinear_tf=False, vect__binary=True, vect__min_df=2, vect__stop_words=None, vect__use_idf=True \n",
        "[GridSearchCV]  vect__ngram_range=(1, 2), vect__smooth_idf=True, vect__sublinear_tf=False, vect__binary=True, vect__min_df=2, vect__stop_words=None, vect__use_idf=True, score=0.444244 -   3.6s"
       ]
      },
      {
       "output_type": "stream",
       "stream": "stderr",
       "text": [
        "[Parallel(n_jobs=1)]: Done 338 jobs       | elapsed: 10.8min\n",
        "[Parallel(n_jobs=1)]: Done 365 jobs       | elapsed: 11.9min\n"
       ]
      },
      {
       "output_type": "stream",
       "stream": "stdout",
       "text": [
        "\n",
        "[GridSearchCV] vect__ngram_range=(1, 2), vect__smooth_idf=True, vect__sublinear_tf=False, vect__binary=True, vect__min_df=2, vect__stop_words=None, vect__use_idf=True \n",
        "[GridSearchCV]  vect__ngram_range=(1, 2), vect__smooth_idf=True, vect__sublinear_tf=False, vect__binary=True, vect__min_df=2, vect__stop_words=None, vect__use_idf=True, score=0.428298 -   3.8s"
       ]
      },
      {
       "output_type": "stream",
       "stream": "stdout",
       "text": [
        "\n",
        "[GridSearchCV] vect__ngram_range=(1, 2), vect__smooth_idf=True, vect__sublinear_tf=True, vect__binary=True, vect__min_df=2, vect__stop_words=None, vect__use_idf=False \n",
        "[GridSearchCV]  vect__ngram_range=(1, 2), vect__smooth_idf=True, vect__sublinear_tf=True, vect__binary=True, vect__min_df=2, vect__stop_words=None, vect__use_idf=False, score=0.440647 -   4.8s"
       ]
      },
      {
       "output_type": "stream",
       "stream": "stdout",
       "text": [
        "\n",
        "[GridSearchCV] vect__ngram_range=(1, 2), vect__smooth_idf=True, vect__sublinear_tf=True, vect__binary=True, vect__min_df=2, vect__stop_words=None, vect__use_idf=False \n",
        "[GridSearchCV]  vect__ngram_range=(1, 2), vect__smooth_idf=True, vect__sublinear_tf=True, vect__binary=True, vect__min_df=2, vect__stop_words=None, vect__use_idf=False, score=0.424849 -   4.1s"
       ]
      },
      {
       "output_type": "stream",
       "stream": "stdout",
       "text": [
        "\n",
        "[GridSearchCV] vect__ngram_range=(1, 2), vect__smooth_idf=True, vect__sublinear_tf=True, vect__binary=True, vect__min_df=2, vect__stop_words=None, vect__use_idf=False \n",
        "[GridSearchCV]  vect__ngram_range=(1, 2), vect__smooth_idf=True, vect__sublinear_tf=True, vect__binary=True, vect__min_df=2, vect__stop_words=None, vect__use_idf=False, score=0.424799 -   4.2s"
       ]
      },
      {
       "output_type": "stream",
       "stream": "stdout",
       "text": [
        "\n",
        "[GridSearchCV] vect__ngram_range=(1, 2), vect__smooth_idf=True, vect__sublinear_tf=True, vect__binary=True, vect__min_df=2, vect__stop_words=None, vect__use_idf=True \n",
        "[GridSearchCV]  vect__ngram_range=(1, 2), vect__smooth_idf=True, vect__sublinear_tf=True, vect__binary=True, vect__min_df=2, vect__stop_words=None, vect__use_idf=True, score=0.456837 -   2.9s"
       ]
      },
      {
       "output_type": "stream",
       "stream": "stdout",
       "text": [
        "\n",
        "[GridSearchCV] vect__ngram_range=(1, 2), vect__smooth_idf=True, vect__sublinear_tf=True, vect__binary=True, vect__min_df=2, vect__stop_words=None, vect__use_idf=True \n",
        "[GridSearchCV]  vect__ngram_range=(1, 2), vect__smooth_idf=True, vect__sublinear_tf=True, vect__binary=True, vect__min_df=2, vect__stop_words=None, vect__use_idf=True, score=0.445077 -   3.0s"
       ]
      },
      {
       "output_type": "stream",
       "stream": "stdout",
       "text": [
        "\n",
        "[GridSearchCV] vect__ngram_range=(1, 2), vect__smooth_idf=True, vect__sublinear_tf=True, vect__binary=True, vect__min_df=2, vect__stop_words=None, vect__use_idf=True \n",
        "[GridSearchCV]  vect__ngram_range=(1, 2), vect__smooth_idf=True, vect__sublinear_tf=True, vect__binary=True, vect__min_df=2, vect__stop_words=None, vect__use_idf=True, score=0.428298 -   3.0s"
       ]
      },
      {
       "output_type": "stream",
       "stream": "stdout",
       "text": [
        "\n",
        "[GridSearchCV] vect__ngram_range=(1, 2), vect__smooth_idf=True, vect__sublinear_tf=False, vect__binary=True, vect__min_df=2, vect__stop_words=english, vect__use_idf=False \n",
        "[GridSearchCV]  vect__ngram_range=(1, 2), vect__smooth_idf=True, vect__sublinear_tf=False, vect__binary=True, vect__min_df=2, vect__stop_words=english, vect__use_idf=False, score=0.418751 -   2.2s"
       ]
      },
      {
       "output_type": "stream",
       "stream": "stdout",
       "text": [
        "\n",
        "[GridSearchCV] vect__ngram_range=(1, 2), vect__smooth_idf=True, vect__sublinear_tf=False, vect__binary=True, vect__min_df=2, vect__stop_words=english, vect__use_idf=False \n",
        "[GridSearchCV]  vect__ngram_range=(1, 2), vect__smooth_idf=True, vect__sublinear_tf=False, vect__binary=True, vect__min_df=2, vect__stop_words=english, vect__use_idf=False, score=0.422625 -   1.8s"
       ]
      },
      {
       "output_type": "stream",
       "stream": "stdout",
       "text": [
        "\n",
        "[GridSearchCV] vect__ngram_range=(1, 2), vect__smooth_idf=True, vect__sublinear_tf=False, vect__binary=True, vect__min_df=2, vect__stop_words=english, vect__use_idf=False \n",
        "[GridSearchCV]  vect__ngram_range=(1, 2), vect__smooth_idf=True, vect__sublinear_tf=False, vect__binary=True, vect__min_df=2, vect__stop_words=english, vect__use_idf=False, score=0.404774 -   1.6s"
       ]
      },
      {
       "output_type": "stream",
       "stream": "stdout",
       "text": [
        "\n",
        "[GridSearchCV] vect__ngram_range=(1, 2), vect__smooth_idf=True, vect__sublinear_tf=False, vect__binary=True, vect__min_df=2, vect__stop_words=english, vect__use_idf=True \n",
        "[GridSearchCV]  vect__ngram_range=(1, 2), vect__smooth_idf=True, vect__sublinear_tf=False, vect__binary=True, vect__min_df=2, vect__stop_words=english, vect__use_idf=True, score=0.406749 -   1.5s"
       ]
      },
      {
       "output_type": "stream",
       "stream": "stdout",
       "text": [
        "\n",
        "[GridSearchCV] vect__ngram_range=(1, 2), vect__smooth_idf=True, vect__sublinear_tf=False, vect__binary=True, vect__min_df=2, vect__stop_words=english, vect__use_idf=True \n",
        "[GridSearchCV]  vect__ngram_range=(1, 2), vect__smooth_idf=True, vect__sublinear_tf=False, vect__binary=True, vect__min_df=2, vect__stop_words=english, vect__use_idf=True, score=0.400114 -   1.5s"
       ]
      },
      {
       "output_type": "stream",
       "stream": "stdout",
       "text": [
        "\n",
        "[GridSearchCV] vect__ngram_range=(1, 2), vect__smooth_idf=True, vect__sublinear_tf=False, vect__binary=True, vect__min_df=2, vect__stop_words=english, vect__use_idf=True \n",
        "[GridSearchCV]  vect__ngram_range=(1, 2), vect__smooth_idf=True, vect__sublinear_tf=False, vect__binary=True, vect__min_df=2, vect__stop_words=english, vect__use_idf=True, score=0.393200 -   1.5s"
       ]
      },
      {
       "output_type": "stream",
       "stream": "stdout",
       "text": [
        "\n",
        "[GridSearchCV] vect__ngram_range=(1, 2), vect__smooth_idf=True, vect__sublinear_tf=True, vect__binary=True, vect__min_df=2, vect__stop_words=english, vect__use_idf=False \n",
        "[GridSearchCV]  vect__ngram_range=(1, 2), vect__smooth_idf=True, vect__sublinear_tf=True, vect__binary=True, vect__min_df=2, vect__stop_words=english, vect__use_idf=False, score=0.418751 -   1.6s"
       ]
      },
      {
       "output_type": "stream",
       "stream": "stdout",
       "text": [
        "\n",
        "[GridSearchCV] vect__ngram_range=(1, 2), vect__smooth_idf=True, vect__sublinear_tf=True, vect__binary=True, vect__min_df=2, vect__stop_words=english, vect__use_idf=False \n",
        "[GridSearchCV]  vect__ngram_range=(1, 2), vect__smooth_idf=True, vect__sublinear_tf=True, vect__binary=True, vect__min_df=2, vect__stop_words=english, vect__use_idf=False, score=0.422625 -   1.6s"
       ]
      },
      {
       "output_type": "stream",
       "stream": "stdout",
       "text": [
        "\n",
        "[GridSearchCV] vect__ngram_range=(1, 2), vect__smooth_idf=True, vect__sublinear_tf=True, vect__binary=True, vect__min_df=2, vect__stop_words=english, vect__use_idf=False \n",
        "[GridSearchCV]  vect__ngram_range=(1, 2), vect__smooth_idf=True, vect__sublinear_tf=True, vect__binary=True, vect__min_df=2, vect__stop_words=english, vect__use_idf=False, score=0.404774 -   1.6s"
       ]
      },
      {
       "output_type": "stream",
       "stream": "stdout",
       "text": [
        "\n",
        "[GridSearchCV] vect__ngram_range=(1, 2), vect__smooth_idf=True, vect__sublinear_tf=True, vect__binary=True, vect__min_df=2, vect__stop_words=english, vect__use_idf=True \n",
        "[GridSearchCV]  vect__ngram_range=(1, 2), vect__smooth_idf=True, vect__sublinear_tf=True, vect__binary=True, vect__min_df=2, vect__stop_words=english, vect__use_idf=True, score=0.406749 -   1.5s"
       ]
      },
      {
       "output_type": "stream",
       "stream": "stdout",
       "text": [
        "\n",
        "[GridSearchCV] vect__ngram_range=(1, 2), vect__smooth_idf=True, vect__sublinear_tf=True, vect__binary=True, vect__min_df=2, vect__stop_words=english, vect__use_idf=True \n",
        "[GridSearchCV]  vect__ngram_range=(1, 2), vect__smooth_idf=True, vect__sublinear_tf=True, vect__binary=True, vect__min_df=2, vect__stop_words=english, vect__use_idf=True, score=0.400190 -   1.8s"
       ]
      },
      {
       "output_type": "stream",
       "stream": "stdout",
       "text": [
        "\n",
        "[GridSearchCV] vect__ngram_range=(1, 2), vect__smooth_idf=True, vect__sublinear_tf=True, vect__binary=True, vect__min_df=2, vect__stop_words=english, vect__use_idf=True \n",
        "[GridSearchCV]  vect__ngram_range=(1, 2), vect__smooth_idf=True, vect__sublinear_tf=True, vect__binary=True, vect__min_df=2, vect__stop_words=english, vect__use_idf=True, score=0.393200 -   1.6s"
       ]
      },
      {
       "output_type": "stream",
       "stream": "stdout",
       "text": [
        "\n"
       ]
      },
      {
       "output_type": "stream",
       "stream": "stderr",
       "text": [
        "[Parallel(n_jobs=1)]: Done 384 out of 384 | elapsed: 12.7min finished\n"
       ]
      }
     ],
     "prompt_number": 7
    },
    {
     "cell_type": "code",
     "collapsed": false,
     "input": [
      "best_clf=clf\n",
      "print best_clf.get_params()"
     ],
     "language": "python",
     "metadata": {},
     "outputs": [
      {
       "output_type": "stream",
       "stream": "stdout",
       "text": [
        "{'vect__smooth_idf': False, 'clf__multi_class': 'ovr', 'clf__verbose': 0, 'clf__random_state': None, 'clf__intercept_scaling': 1, 'vect__norm': u'l2', 'vect__charset': None, 'vect__charset_error': None, 'clf__penalty': 'l1', 'vect__analyzer': 'word', 'vect__max_df': 1.0, 'clf__tol': 0.0001, 'clf': LinearSVC(C=1.0, class_weight=None, dual=False, fit_intercept=True,\n",
        "     intercept_scaling=1, loss='l2', multi_class='ovr', penalty='l1',\n",
        "     random_state=None, tol=0.0001, verbose=0), 'vect__lowercase': True, 'vect__binary': True, 'vect__stop_words': None, 'vect__encoding': u'utf-8', 'vect__max_features': None, 'vect__dtype': <type 'numpy.int64'>, 'vect__strip_accents': None, 'vect__sublinear_tf': False, 'clf__dual': False, 'vect': TfidfVectorizer(analyzer='word', binary=True, charset=None,\n",
        "        charset_error=None, decode_error=u'strict',\n",
        "        dtype=<type 'numpy.int64'>, encoding=u'utf-8', input=u'content',\n",
        "        lowercase=True, max_df=1.0, max_features=None, min_df=2,\n",
        "        ngram_range=(1, 2), norm=u'l2', preprocessor=None,\n",
        "        smooth_idf=False, stop_words=None, strip_accents=None,\n",
        "        sublinear_tf=False, token_pattern=u'(?u)\\\\b\\\\w\\\\w+\\\\b',\n",
        "        tokenizer=None, use_idf=True, vocabulary=None), 'clf__loss': 'l2', 'vect__min_df': 2, 'vect__tokenizer': None, 'vect__use_idf': True, 'clf__C': 1.0, 'vect__input': u'content', 'vect__ngram_range': (1, 2), 'vect__preprocessor': None, 'vect__vocabulary': None, 'clf__fit_intercept': True, 'vect__decode_error': u'strict', 'clf__class_weight': None, 'vect__token_pattern': u'(?u)\\\\b\\\\w\\\\w+\\\\b'}\n"
       ]
      }
     ],
     "prompt_number": 8
    },
    {
     "cell_type": "code",
     "collapsed": false,
     "input": [
      "X_train, X_test, y_train, y_test = train_test_split(X, Y, test_size=0.6, random_state=1)"
     ],
     "language": "python",
     "metadata": {},
     "outputs": [],
     "prompt_number": 9
    },
    {
     "cell_type": "code",
     "collapsed": false,
     "input": [
      "print 'Score on the training data: ', clf.score(X_train, y_train)\n",
      "print 'Score on the test data: ', clf.score(X_test, y_test)"
     ],
     "language": "python",
     "metadata": {},
     "outputs": [
      {
       "output_type": "stream",
       "stream": "stdout",
       "text": [
        "Score on the training data:  "
       ]
      },
      {
       "output_type": "stream",
       "stream": "stdout",
       "text": [
        "0.6305\n",
        "Score on the test data:  "
       ]
      },
      {
       "output_type": "stream",
       "stream": "stdout",
       "text": [
        "0.632666666667\n"
       ]
      }
     ],
     "prompt_number": 10
    },
    {
     "cell_type": "code",
     "collapsed": false,
     "input": [
      "y_pred = best_clf.predict(X_test)"
     ],
     "language": "python",
     "metadata": {},
     "outputs": [],
     "prompt_number": 11
    },
    {
     "cell_type": "code",
     "collapsed": false,
     "input": [
      "makeCM_plot(y_test, y_pred)"
     ],
     "language": "python",
     "metadata": {},
     "outputs": [
      {
       "output_type": "stream",
       "stream": "stdout",
       "text": [
        "[[881 154  92  41  40]\n",
        " [217 618 210  95  66]\n",
        " [109 144 685 186  66]\n",
        " [ 41  77 157 748 203]\n",
        " [ 53  29  52 172 864]]\n"
       ]
      },
      {
       "metadata": {},
       "output_type": "display_data",
       "png": "[encoded data removed]",
       "text": [
        "<matplotlib.figure.Figure at 0x12498ef50>"
       ]
      }
     ],
     "prompt_number": 12
    },
    {
     "cell_type": "code",
     "collapsed": false,
     "input": [],
     "language": "python",
     "metadata": {},
     "outputs": []
    }
   ],
   "metadata": {}
  }
 ]
}