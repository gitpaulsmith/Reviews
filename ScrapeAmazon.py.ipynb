{
 "metadata": {
  "name": ""
 },
 "nbformat": 3,
 "nbformat_minor": 0,
 "worksheets": [
  {
   "cells": [
    {
     "cell_type": "code",
     "collapsed": false,
     "input": [
      "import urllib2\n",
      "\n",
      "def DumbScrape(productId):\n",
      "    '''Simple dumb parser to find the title etc.\n",
      "    since Beautiful Soup is having problems.\n",
      "    '''\n",
      "    url = \"http://www.amazon.com/dp/\" + productId + \"/\"\n",
      "    title = ''\n",
      "    data = urllib2.urlopen(url).read()\n",
      "    \n",
      "    # Get the product title and category\n",
      "    fulltitle = data.split('<title>Amazon.com: ')[1].split('</title>')[0]\n",
      "    [title, category] = [x.strip() for x in fulltitle.split(':')]\n",
      "    # Get the product description\n",
      "    description = data.split('<div class=\"productDescriptionWrapper\">')[1].split('<div class=\"emptyClear\"> </div>')[0]\n",
      "    description = description.strip()\n",
      "    # Get the keyword list\n",
      "    keywords = [x.strip() for x in data.split('<meta name=\"keywords\" content=\"')[1].split('\" />')[0].split(',')]\n",
      "    \n",
      "    return title, category, description, keywords\n",
      "    "
     ],
     "language": "python",
     "metadata": {},
     "outputs": [],
     "prompt_number": 2
    },
    {
     "cell_type": "code",
     "collapsed": false,
     "input": [
      "# Try not to get blackballed from amazon by hammering the pages\n",
      "from time import sleep\n",
      "\n",
      "def GetDataForProductIdList(plist, waittime = 1.):\n",
      "    dataout = {}\n",
      "    for productId in plist:\n",
      "        sleep(waittime)\n",
      "        try:\n",
      "            title, category, description, keywords = DumbScrape(productId)\n",
      "            dataout[productId] = {}\n",
      "            dataout[productId]['title'] = title\n",
      "            dataout[productId]['category'] = category\n",
      "            dataout[productId]['description'] = description\n",
      "            dataout[productId]['keywords'] = keywords\n",
      "            print 'Success!  Product Id: ', productId\n",
      "        except: \n",
      "            print 'Fail!  Product Id: ', productId\n",
      "    return dataout\n",
      "\n",
      "\n",
      "            \n"
     ],
     "language": "python",
     "metadata": {},
     "outputs": [],
     "prompt_number": 3
    },
    {
     "cell_type": "code",
     "collapsed": false,
     "input": [
      "import pylab as pl\n",
      "import numpy as np\n",
      "%pylab inline\n",
      "import pandas as pd\n",
      "pd.options.display.mpl_style = 'default'\n",
      "\n",
      "fn = 'foods.csv'\n",
      "f = open(fn,'rb')\n",
      "df = pd.io.parsers.read_table(f, '\\t!\\t',engine='python')\n",
      "f.close()\n",
      "productIdList = np.unique(df['productId'])\n",
      "print productIdList"
     ],
     "language": "python",
     "metadata": {},
     "outputs": [
      {
       "output_type": "stream",
       "stream": "stdout",
       "text": [
        "Populating the interactive namespace from numpy and matplotlib\n",
        "['0006641040' '141278509X' '2734888454' ..., 'B009UUS05I' 'B009WSNWC4'\n",
        " 'B009WVB40S']"
       ]
      },
      {
       "output_type": "stream",
       "stream": "stdout",
       "text": [
        "\n"
       ]
      }
     ],
     "prompt_number": 4
    },
    {
     "cell_type": "code",
     "collapsed": false,
     "input": [
      "df[:5]\n"
     ],
     "language": "python",
     "metadata": {},
     "outputs": [],
     "prompt_number": "*"
    },
    {
     "cell_type": "code",
     "collapsed": false,
     "input": [],
     "language": "python",
     "metadata": {},
     "outputs": [],
     "prompt_number": 26
    },
    {
     "cell_type": "code",
     "collapsed": false,
     "input": [],
     "language": "python",
     "metadata": {},
     "outputs": [
      {
       "output_type": "stream",
       "stream": "stdout",
       "text": [
        "\n"
       ]
      }
     ],
     "prompt_number": 27
    },
    {
     "cell_type": "code",
     "collapsed": false,
     "input": [],
     "language": "python",
     "metadata": {},
     "outputs": []
    }
   ],
   "metadata": {}
  }
 ]
}