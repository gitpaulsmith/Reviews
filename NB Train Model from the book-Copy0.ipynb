{
 "metadata": {
  "name": "",
  "signature": "sha256:7aadf485315b2b200e03eda1623432f6cd1b658d8e70cd83cbf3bc4df747cc21"
 },
 "nbformat": 3,
 "nbformat_minor": 0,
 "worksheets": [
  {
   "cells": [
    {
     "cell_type": "code",
     "collapsed": false,
     "input": [
      "def train_model(clf_factory,X,Y):\n",
      "\n",
      "     # setting random_state to get deterministic behavior\n",
      "    #cv = ShuffleSplit(n=len(X), n_iter=10, test_size=0.3,indices=True, random_state=0)\n",
      "    X_train\n",
      "\n",
      "    scores = []\n",
      "    pr_scores = []\n",
      "\n",
      "    for train, test in cv:\n",
      "        X_train, y_train = X[train], Y[train]\n",
      "        X_test, y_test = X[test], Y[test]\n",
      "\n",
      "        clf = clf_factory(n)\n",
      "        clf.fit(X_train, y_train)\n",
      "\n",
      "        train_score = clf.score(X_train, y_train)\n",
      "        test_score = clf.score(X_test, y_test)\n",
      "\n",
      "        scores.append(test_score)\n",
      "        proba = clf.predict_proba(X_test)\n",
      "        precision, recall, pr_thresholds = precision_recall_curve(y_test, proba[:,1])\n",
      "\n",
      "        pr_scores.append(auc(recall, precision))\n",
      "    \n",
      "    summary = (np.mean(scores), np.std(scores),\n",
      "               np.mean(pr_scores), np.std(pr_scores))\n",
      "    print \"%.3f\\t%.3f\\t%.3f\\t%.3f\"%summary\n"
     ],
     "language": "python",
     "metadata": {},
     "outputs": [],
     "prompt_number": 1
    },
    {
     "cell_type": "code",
     "collapsed": false,
     "input": [
      "from sklearn.grid_search import GridSearchCV\n",
      "from sklearn.metrics import f1_score\n",
      "\n",
      "def grid_search_model(clf_factory, X, Y):\n",
      "    cv = ShuffleSplit(\n",
      "        n=len(X), n_iter=10, test_size=0.3, indices=True, random_state=0)\n",
      "\n",
      "    param_grid = dict(vect__ngram_range=[(1, 1), (1, 2), (1, 3)],\n",
      "                      vect__min_df=[1, 2],\n",
      "                      vect__stop_words=[None, \"english\"],\n",
      "                      vect__smooth_idf=[False, True],\n",
      "                      vect__use_idf=[False, True],\n",
      "                      vect__sublinear_tf=[False, True],\n",
      "                      vect__binary=[False, True],\n",
      "                      clf__alpha=[0, 0.01, 0.05, 0.1, 0.5, 1],\n",
      "                      )\n",
      "\n",
      "    grid_search = GridSearchCV(clf_factory(),\n",
      "                               param_grid=param_grid,\n",
      "                               cv=cv,\n",
      "                               score_func=f1_score,\n",
      "                               verbose=10)\n",
      "    grid_search.fit(X, Y) \n",
      " \n",
      "    return grid_search.best_estimator_"
     ],
     "language": "python",
     "metadata": {},
     "outputs": []
    },
    {
     "cell_type": "code",
     "collapsed": false,
     "input": [
      "recall,precision=train_model(create_ngram_model,3,X,Y)\n",
      "makePR_Plot(recall,precision,'Precision-Recall curve for trigram TF-IDF and shuffled cross-validation')"
     ],
     "language": "python",
     "metadata": {},
     "outputs": []
    }
   ],
   "metadata": {}
  }
 ]
}