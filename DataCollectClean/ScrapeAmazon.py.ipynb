{
 "metadata": {
  "name": "",
  "signature": "sha256:0236ca75c53d5ad3af01b18dcf9f7773fbfc789ee6382d91de0071ebdd707a4d"
 },
 "nbformat": 3,
 "nbformat_minor": 0,
 "worksheets": [
  {
   "cells": [
    {
     "cell_type": "code",
     "collapsed": false,
     "input": [
      "import pylab as pl\n",
      "import numpy as np\n",
      "%pylab inline\n",
      "import pandas as pd\n",
      "pd.options.display.mpl_style = 'default'\n",
      "\n",
      "fn = 'foods.csv'\n",
      "f = open(fn,'rb')\n",
      "df = pd.io.parsers.read_table(f, '\\t!\\t',engine='python')\n",
      "f.close()\n",
      "productIdList = np.unique(df['productId'])"
     ],
     "language": "python",
     "metadata": {},
     "outputs": [
      {
       "output_type": "stream",
       "stream": "stdout",
       "text": [
        "Populating the interactive namespace from numpy and matplotlib\n"
       ]
      }
     ],
     "prompt_number": 2
    },
    {
     "cell_type": "code",
     "collapsed": false,
     "input": [
      "print(len(productIdList))"
     ],
     "language": "python",
     "metadata": {},
     "outputs": [
      {
       "output_type": "stream",
       "stream": "stdout",
       "text": [
        "74257\n"
       ]
      }
     ],
     "prompt_number": 4
    },
    {
     "cell_type": "markdown",
     "metadata": {},
     "source": [
      "Figure out the top 100 most reviewed products."
     ]
    },
    {
     "cell_type": "code",
     "collapsed": false,
     "input": [
      "prodcnts = df['productId'].value_counts()\n",
      "prod_mostrevs = prodcnts.index[0]\n",
      "pop100 = prodcnts[:100].index\n",
      "print prodcnts[:5]"
     ],
     "language": "python",
     "metadata": {},
     "outputs": [
      {
       "output_type": "stream",
       "stream": "stdout",
       "text": [
        "B007JFMH8M    913\n",
        "B002QWHJOU    632\n",
        "B0026RQTGE    632\n",
        "B002QWP89S    632\n",
        "B002QWP8H0    632\n",
        "dtype: int64\n"
       ]
      }
     ],
     "prompt_number": 5
    },
    {
     "cell_type": "code",
     "collapsed": false,
     "input": [
      "#pid = prodcnts.index[1]\n",
      "#pid2 = prodcnts.index[2]\n",
      "#df[df['productId']==pid2]['text']\n",
      "\n",
      "print df.loc[74631],'\\n', df.loc[329408]\n"
     ],
     "language": "python",
     "metadata": {},
     "outputs": [
      {
       "output_type": "stream",
       "stream": "stdout",
       "text": [
        "productId                                             B0026RQTGE\n",
        "userId                                            A21U4DR8M6I9QN\n",
        "profileName                               K. M Merrill \"justine\"\n",
        "helpfulness                                                  1/1\n",
        "score                                                          5\n",
        "time                                                  1318896000\n",
        "summary          addictive! but works for night coughing in dogs\n",
        "text           my 12 year old sheltie has chronic brochotitis...\n",
        "Name: 74631, dtype: object \n",
        "productId                                             B002QWHJOU\n",
        "userId                                            A21U4DR8M6I9QN\n",
        "profileName                               K. M Merrill \"justine\"\n",
        "helpfulness                                                  1/1\n",
        "score                                                          5\n",
        "time                                                  1318896000\n",
        "summary          addictive! but works for night coughing in dogs\n",
        "text           my 12 year old sheltie has chronic brochotitis...\n",
        "Name: 329408, dtype: object\n"
       ]
      }
     ],
     "prompt_number": 23
    },
    {
     "cell_type": "code",
     "collapsed": false,
     "input": [],
     "language": "python",
     "metadata": {},
     "outputs": []
    },
    {
     "cell_type": "markdown",
     "metadata": {},
     "source": [
      "These functions let you save one, or more than one Amazon pages to disk compressed.  Then, offline they're uncompressed and parsed with Beautiful Soup"
     ]
    },
    {
     "cell_type": "code",
     "collapsed": false,
     "input": [
      "import os, zlib\n",
      "from bs4 import BeautifulSoup\n",
      "from time import sleep\n",
      "import urllib2\n",
      "\n",
      "\n",
      "def GrabAmazonPage(productId):\n",
      "    url = \"http://www.amazon.com/dp/\" + productId + \"/\"\n",
      "    #print 'URL: ', url\n",
      "    return urllib2.urlopen(url).read()\n",
      "\n",
      "def SaveAmazonPage(productId, outdir='./scrape/'):\n",
      "    htmldat = GrabAmazonPage(productId)\n",
      "    datcomp = zlib.compress(htmldat)\n",
      "    fn = productId + '.dat'\n",
      "    fullpath = os.path.join(outdir,fn)\n",
      "    with open(fullpath, 'wb') as file:\n",
      "        file.write(datcomp)\n",
      "    return\n",
      "\n",
      "def SaveMultipleAmazonPages(pidlist, outdir='./scrape/'):\n",
      "    for pid in pidlist:\n",
      "        fn = pid + '.dat'\n",
      "        fullpath = os.path.join(outdir,fn)\n",
      "        if os.path.isfile(fullpath)== False:\n",
      "            print 'Dont have ' + pid + ', downloading...'\n",
      "            \n",
      "            while 1:\n",
      "                sleep(2+5*np.random.random())\n",
      "                try:\n",
      "                    SaveAmazonPage(pid,outdir)\n",
      "                    break\n",
      "                except:\n",
      "                    print 'Fail! Try again'                    \n",
      "\n",
      "        else:\n",
      "            print 'Already have ' + pid\n",
      "    return\n",
      "\n",
      "def GetProductTitles(pidlist, dir='./scrape'):\n",
      "    titles = {}\n",
      "    for pid in pidlist:\n",
      "        fn = pid + '.dat'\n",
      "        fullname = os.path.join(dir,fn)\n",
      "        if os.path.isfile(fullname):\n",
      "            with open(fullname,'rb') as file:\n",
      "                datainc = file.read()\n",
      "                datain = zlib.decompress(datainc)\n",
      "                soup = BeautifulSoup(datain,'html.parser')\n",
      "                titles[pid] = unicode( soup.find(id='productTitle').contents[0] )\n",
      "                #print pid, ' ', titles[pid]\n",
      "        else:\n",
      "            print pid + ' file not found!'\n",
      "    return titles\n",
      "titles = GetProductTitles(pop100)\n"
     ],
     "language": "python",
     "metadata": {},
     "outputs": [
      {
       "output_type": "stream",
       "stream": "stdout",
       "text": [
        "B007JFMH8M   Quaker Soft Baked Oatmeal Cookie, Raisins, 8.8-Ounce (Pack of 12)\n",
        "B002QWHJOU"
       ]
      },
      {
       "output_type": "stream",
       "stream": "stdout",
       "text": [
        "   Greenies LITE Treat-Pak for Dogs\n",
        "B0026RQTGE"
       ]
      },
      {
       "output_type": "stream",
       "stream": "stdout",
       "text": [
        "   Greenies Treat-Pak for Dogs, Original\n",
        "B002QWP89S"
       ]
      },
      {
       "output_type": "stream",
       "stream": "stdout",
       "text": [
        "   Greenies LITE Treat-Pak for Dogs\n",
        "B002QWP8H0"
       ]
      },
      {
       "output_type": "stream",
       "stream": "stdout",
       "text": [
        "   Greenies LITE Treat-Pak for Dogs\n",
        "B003B3OOPA"
       ]
      },
      {
       "output_type": "stream",
       "stream": "stdout",
       "text": [
        "   Nature's Way Coconut Oil, 16 Ounce\n",
        "B001EO5Q64"
       ]
      },
      {
       "output_type": "stream",
       "stream": "stdout",
       "text": [
        "   Nutiva Organic Extra Virgin Coconut Oil, 15-Ounce (Pack of 2)\n",
        "B001RVFEP2"
       ]
      },
      {
       "output_type": "stream",
       "stream": "stdout",
       "text": [
        "   Popchips, Salt & Pepper, 0.8-Ounce Single Serve Bags (Pack of 24)\n",
        "B000VK8AVK"
       ]
      },
      {
       "output_type": "stream",
       "stream": "stdout",
       "text": [
        "   Popchips, Barbeque,  3-Ounce Bags (Pack of 12)\n",
        "B0013NUGDE"
       ]
      },
      {
       "output_type": "stream",
       "stream": "stdout",
       "text": [
        "   Popchips, Sea Salt & Vinegar, 3-Ounce Bags (Pack of 12)\n",
        "B001RVFERK"
       ]
      },
      {
       "output_type": "stream",
       "stream": "stdout",
       "text": [
        "   Popchips, Sea Salt & Vinegar, 0.8-Ounce Single Serve Bags (Pack of 24)\n",
        "B007M83302"
       ]
      },
      {
       "output_type": "stream",
       "stream": "stdout",
       "text": [
        "   Popchips, Thai Sweet Chili, 0.8-Ounce Single Serve Bags (Pack of 24)\n",
        "B0026KPDG8"
       ]
      },
      {
       "output_type": "stream",
       "stream": "stdout",
       "text": [
        "   Popchips, Cheddar, 0.8-Ounce Single Serve Bags (Pack of  24)\n",
        "B007M832YY"
       ]
      },
      {
       "output_type": "stream",
       "stream": "stdout",
       "text": [
        "   Popchips, Thai Sweet Chili, 3-Ounce Bags (Pack of 12)\n",
        "B006HYLW32"
       ]
      },
      {
       "output_type": "stream",
       "stream": "stdout",
       "text": [
        "   Popchips Potato Chips, Sweet Potato, 0.8-Ounce Single Serve Bags (Pack of 24)\n",
        "B0026KNQSA"
       ]
      },
      {
       "output_type": "stream",
       "stream": "stdout",
       "text": [
        "   Popchips, Sour Cream & Onion, 0.8-Ounce Single Serve Bags (Pack of  24)\n",
        "B000KV61FC"
       ]
      },
      {
       "output_type": "stream",
       "stream": "stdout",
       "text": [
        "   PetSafe Busy Buddy Tug-A-Jug Meal Dispensing Dog Toy\n",
        "B000KV7ZGQ"
       ]
      },
      {
       "output_type": "stream",
       "stream": "stdout",
       "text": [
        "   PetSafe Busy Buddy Tug-A-Jug Meal Dispensing Dog Toy\n",
        "B005K4Q34S"
       ]
      },
      {
       "output_type": "stream",
       "stream": "stdout",
       "text": [
        "   Grove Square Cappuccino, French Vanilla, 12-Count Single Serve Cup for Keurig K-Cup Brewers (Pack of 3)\n",
        "B005K4Q1YA"
       ]
      },
      {
       "output_type": "stream",
       "stream": "stdout",
       "text": [
        "   Grove Square Cappuccino, French Vanilla, 24-Count Single Serve Cup for Keurig K-Cup Brewers\n",
        "B000UBD88A"
       ]
      },
      {
       "output_type": "stream",
       "stream": "stdout",
       "text": [
        "   Senseo Coffee Pods, Dark Roast,18 Count (Pack of 6), 26.46 Ounce\n",
        "B000NMJWZO"
       ]
      },
      {
       "output_type": "stream",
       "stream": "stdout",
       "text": [
        "   Pamela's Ultimate Baking and Pancake Mix, 4-Pound Bags (Pack of 3)\n",
        "B0013A0QXC"
       ]
      },
      {
       "output_type": "stream",
       "stream": "stdout",
       "text": [
        "   Senseo Coffee Pods, Espresso,16 Count (Pack of 6)\n",
        "B005K4Q37A"
       ]
      },
      {
       "output_type": "stream",
       "stream": "stdout",
       "text": [
        "   Grove Square Cappuccino, Caramel, 12-Count Single Serve Cup for Keurig K-Cup Brewers (Pack of 3)\n",
        "B005K4Q4LK"
       ]
      },
      {
       "output_type": "stream",
       "stream": "stdout",
       "text": [
        "   Grove Square Cappuccino, French Vanilla, 18-Count Single Serve Cup for Keurig K-Cup Brewers (Pack of 3)\n",
        "B0090X8IPM"
       ]
      },
      {
       "output_type": "stream",
       "stream": "stdout",
       "text": [
        "   Starbucks Natural Fusions Ground Coffee, Vanilla Flavored, 11 Ounce (Pack of 6)\n",
        "B003GTR8IO"
       ]
      },
      {
       "output_type": "stream",
       "stream": "stdout",
       "text": [
        "   Starbucks Natural Fusions Ground Coffee, Vanilla Flavored, 11-Ounce Packages (Pack of 2)\n",
        "B007Y59HVM"
       ]
      },
      {
       "output_type": "stream",
       "stream": "stdout",
       "text": [
        "   San Francisco Bay Coffee Fog Chaser, 80 OneCup Single Serve Cups\n",
        "B005ZBZLT4"
       ]
      },
      {
       "output_type": "stream",
       "stream": "stdout",
       "text": [
        "   San Francisco Bay Coffee Fog Chaser, 12-Count OneCup Single Serve Cups (Pack of 3)\n",
        "B006MONQMC"
       ]
      },
      {
       "output_type": "stream",
       "stream": "stdout",
       "text": [
        "   Vitamin Squeeze Energy Drink, Fruit Punch, 12-Ounce (Pack of 4)\n",
        "B002IEVJRY"
       ]
      },
      {
       "output_type": "stream",
       "stream": "stdout",
       "text": [
        "   illy issimo Coffee Drink, Cappuccino, 8.45-Ounce Cans (Pack of 12)\n",
        "B002IEZJMA"
       ]
      },
      {
       "output_type": "stream",
       "stream": "stdout",
       "text": [
        "   illy issimo Coffee Drink, Caff\u00e8, 6.8-Ounce Cans (Pack of 12)\n",
        "B000PDY3HI"
       ]
      },
      {
       "output_type": "stream",
       "stream": "stdout",
       "text": [
        "   Great Northern Popcorn, 8-Ounce Portion Packs (Pack of 24)\n",
        "B002YJ0118"
       ]
      },
      {
       "output_type": "stream",
       "stream": "stdout",
       "text": [
        "   Great Northern Popcorn, 2.5-Ounce Portion Packs (Pack of 24)\n",
        "B000PDY3P0"
       ]
      },
      {
       "output_type": "stream",
       "stream": "stdout",
       "text": [
        "   Great Northern Popcorn, 4-Ounce Portion Packs (Pack of 24)\n",
        "B000PDWBKO"
       ]
      },
      {
       "output_type": "stream",
       "stream": "stdout",
       "text": [
        "   Great Northern Popcorn, 6-Ounce Portion Packs (Pack of 24)\n",
        "B001VJ0B0I"
       ]
      },
      {
       "output_type": "stream",
       "stream": "stdout",
       "text": [
        "   Purina Beneful Dog Food, 15.5 Pound\n",
        "B002LANN56"
       ]
      },
      {
       "output_type": "stream",
       "stream": "stdout",
       "text": [
        "   Purina Chef Michael's Dog Food\n",
        "B006N3HZ6K"
       ]
      },
      {
       "output_type": "stream",
       "stream": "stdout",
       "text": [
        "   Coffee People Dark Roast, Jet Fuel, K-Cup Portion Pack for Keurig Brewers 24-Count\n",
        "B0029XLH4Y"
       ]
      },
      {
       "output_type": "stream",
       "stream": "stdout",
       "text": [
        "   Keurig, Coffee People, Jet Fuel, 50 Count K-Cup Packs\n",
        "B007TJGY46"
       ]
      },
      {
       "output_type": "stream",
       "stream": "stdout",
       "text": [
        "   Coffee People Jet Fuel Coffee, Extra Bold, K-Cup Portion Pack for Keurig Brewers 96-Count\n",
        "B008FHUGNQ"
       ]
      },
      {
       "output_type": "stream",
       "stream": "stdout",
       "text": [
        "   Coffee People Jet Fuel, Dark Roast, K-Cup for Keurig Brewers, 24-Count (Pack of 2)\n",
        "B003CIBPN8"
       ]
      },
      {
       "output_type": "stream",
       "stream": "stdout",
       "text": [
        "   ZICO Pure Premium Coconut Water, Natural, 14 Ounce Bottles (Pack of 12)\n",
        "B000CNB4LE"
       ]
      },
      {
       "output_type": "stream",
       "stream": "stdout",
       "text": [
        "   ZICO Pure Premium Coconut Water, Mango, 11.2 Ounce Tetra Paks (Pack of 12)\n",
        "B004SRH2B6"
       ]
      },
      {
       "output_type": "stream",
       "stream": "stdout",
       "text": [
        "   ZICO Pure Premium Coconut Water, Natural, 33.8 Ounce Container (Pack of 6)  Packaging May Vary\n",
        "B004SRFYMK"
       ]
      },
      {
       "output_type": "stream",
       "stream": "stdout",
       "text": [
        "   ZICO Pure Premium Coconut Water, Chocolate, 14 Ounce Bottles (Pack of 12)\n",
        "B006N3IE6A"
       ]
      },
      {
       "output_type": "stream",
       "stream": "stdout",
       "text": [
        "   Wolfgang Puck Coffee, Rodeo Drive Blend (Medium Roast), 24-Count K-Cups for Keurig Brewers\n",
        "B003VXFK44"
       ]
      },
      {
       "output_type": "stream",
       "stream": "stdout",
       "text": [
        "   Wolfgang Puck Coffee, Chef's Reserve Colombian Decaf (Medium Roast), 24-Count K-Cups for Keurig Brewers (Pack of 2)\n",
        "B003VXHGDM"
       ]
      },
      {
       "output_type": "stream",
       "stream": "stdout",
       "text": [
        "   Wolfgang Puck Coffee, Cr\u00e8me Caramel, 24-Count K-Cups for Keurig Brewers (Pack of 2)\n",
        "B006N3IG4K"
       ]
      },
      {
       "output_type": "stream",
       "stream": "stdout",
       "text": [
        "   Wolfgang Puck Coffee, Vienna Coffee House (Medium Roast), 24-Count K-Cups for Keurig Brewers\n",
        "B003VXHGE6"
       ]
      },
      {
       "output_type": "stream",
       "stream": "stdout",
       "text": [
        "   Wolfgang Puck Coffee, Breakfast in Bed (Medium Roast), 24-Count K-Cups for Keurig Brewers (Pack of 2)\n",
        "B003VXL0V6"
       ]
      },
      {
       "output_type": "stream",
       "stream": "stdout",
       "text": [
        "   Wolfgang Puck Coffee, Jamaica Me Crazy, 24-Count K-Cups for Keurig Brewers (Pack of 2)\n",
        "B003TC7WN4"
       ]
      },
      {
       "output_type": "stream",
       "stream": "stdout",
       "text": [
        "   Wolfgang Puck Coffee, Breakfast in Bed (Medium Roast),  24-Count K-Cups for Keurig Brewers\n",
        "B003VXHGPK"
       ]
      },
      {
       "output_type": "stream",
       "stream": "stdout",
       "text": [
        "   Wolfgang Puck Coffee, Chef's Reserve Colombian (Dark Roast), 24-Count K-Cups for Keurig Brewers (Pack of 2)\n",
        "B004FGWU9O"
       ]
      },
      {
       "output_type": "stream",
       "stream": "stdout",
       "text": [
        "   Wolfgang Puck Coffee, Jamaica Me Crazy, K-Cups for Keurig Brewers, 24-Count\n",
        "B0041NYV8E"
       ]
      },
      {
       "output_type": "stream",
       "stream": "stdout",
       "text": [
        "   Gold Kili All Natural Instant Ginger & Lemon Beverage Mix, 6.72-Ounce Boxes (Pack of 6)\n",
        "B000H1217M"
       ]
      },
      {
       "output_type": "stream",
       "stream": "stdout",
       "text": [
        "   Zuke's Mini Naturals Dog Treats\n",
        "B0007A0AQM"
       ]
      },
      {
       "output_type": "stream",
       "stream": "stdout",
       "text": [
        "   Zuke's Mini Naturals Dog Treats\n",
        "B000BRR8VQ"
       ]
      },
      {
       "output_type": "stream",
       "stream": "stdout",
       "text": [
        "   Zuke's Mini Naturals Dog Treats\n",
        "B0007A0AQW"
       ]
      },
      {
       "output_type": "stream",
       "stream": "stdout",
       "text": [
        "   Zuke's Mini Naturals Dog Treats\n",
        "B000H0ZJIG"
       ]
      },
      {
       "output_type": "stream",
       "stream": "stdout",
       "text": [
        "   Zuke's Mini Naturals Dog Treats\n",
        "B000H0ZJHW"
       ]
      },
      {
       "output_type": "stream",
       "stream": "stdout",
       "text": [
        "   Zuke's Mini Naturals Dog Treats\n",
        "B003D4F1QS"
       ]
      },
      {
       "output_type": "stream",
       "stream": "stdout",
       "text": [
        "   Stash Tea Decaf Premium Green Tea, 100 Count Box of Tea Bags in Foil\n",
        "B003D4MW38"
       ]
      },
      {
       "output_type": "stream",
       "stream": "stdout",
       "text": [
        "   Stash Tea Peppermint Herbal Tea, 100 Count Box of Tea Bags in Foil\n",
        "B0029ZAOW8"
       ]
      },
      {
       "output_type": "stream",
       "stream": "stdout",
       "text": [
        "   5-Hour Energy -  Berry 1.93-Ounce Packages (Pack of 12)\n",
        "B003D4IYSU"
       ]
      },
      {
       "output_type": "stream",
       "stream": "stdout",
       "text": [
        "   Stash Tea Chamomile Nights Herbal Tea, 100 Count Box of Tea Bags in Foil\n",
        "B003QNLUTI"
       ]
      },
      {
       "output_type": "stream",
       "stream": "stdout",
       "text": [
        "   5 Hour Energy Grape, 1.93-Ounce Bottles (Pack of 12)\n",
        "B003D4MYLS"
       ]
      },
      {
       "output_type": "stream",
       "stream": "stdout",
       "text": [
        "   Stash Tea Double Bergamot Earl Grey Tea, 100 Count Box of Tea Bags in Foil\n",
        "B001AS1A4Q"
       ]
      },
      {
       "output_type": "stream",
       "stream": "stdout",
       "text": [
        "   5 Hour Energy Berry, 2-Ounce Bottles (Pack of 12)\n",
        "B001E8DHPW"
       ]
      },
      {
       "output_type": "stream",
       "stream": "stdout",
       "text": [
        "   Nutiva Organic Virgin Coconut Oil, 15 Ounce\n",
        "B000GAT6NG"
       ]
      },
      {
       "output_type": "stream",
       "stream": "stdout",
       "text": [
        "   Nutiva Organic Virgin Coconut Oil, 54-Ounce Jar\n",
        "B004EAGP74"
       ]
      },
      {
       "output_type": "stream",
       "stream": "stdout",
       "text": [
        "   Nutiva Organic Virgin Coconut Oil, 54-Ounce Jar\n",
        "B0018KLPFK"
       ]
      },
      {
       "output_type": "stream",
       "stream": "stdout",
       "text": [
        "   LARABAR Fruit & Nut Food Bar, Coconut Cream Pie, Gluten Free 1.7 oz  Bars (Pack of 16)\n",
        "B004GW6O9E"
       ]
      },
      {
       "output_type": "stream",
       "stream": "stdout",
       "text": [
        "   LARABAR Fruit & Nut Food Bar, Peanut Butter Cookie, Gluten Free 1.7oz Bars (Pack of 16)\n",
        "B000ENUC3S"
       ]
      },
      {
       "output_type": "stream",
       "stream": "stdout",
       "text": [
        "   LARABAR Fruit & Nut Food Bar, Apple Pie, Gluten Free1.6 oz Bars (Pack of 16)\n",
        "B005HG9ET0"
       ]
      },
      {
       "output_type": "stream",
       "stream": "stdout",
       "text": [
        "   Essentia 9.5 pH Drinking Water, 1.5 Liter, (Pack of 12)\n",
        "B005HG9ESG"
       ]
      },
      {
       "output_type": "stream",
       "stream": "stdout",
       "text": [
        "   Essentia 9.5 pH Drinking Water, 1 Liter, (Pack of 12)\n",
        "B0018KR8V0"
       ]
      },
      {
       "output_type": "stream",
       "stream": "stdout",
       "text": [
        "   LARABAR Fruit & Nut Food Bar, Key Lime Pie, Gluten Free 1.8 oz (Pack of 16)\n",
        "B005HG9ERW"
       ]
      },
      {
       "output_type": "stream",
       "stream": "stdout",
       "text": [
        "   Essentia 9.5 pH Drinking Water, 20-Ounce (Pack of 24)\n",
        "B001D09KAM"
       ]
      },
      {
       "output_type": "stream",
       "stream": "stdout",
       "text": [
        "   KIND PLUS, Mango Macadamia + Calcium, Gluten Free Bars (Pack of 12)\n",
        "B008JKTH2A"
       ]
      },
      {
       "output_type": "stream",
       "stream": "stdout",
       "text": [
        "   FFP KIND PLUS, Almond Walnut Macadamia + Protein, Gluten Free Bars (Pack of 12)\n",
        "B008JKU2CO"
       ]
      },
      {
       "output_type": "stream",
       "stream": "stdout",
       "text": [
        "   FFP KIND PLUS, Peanut Butter Dark Chocolate + Protein, Gluten Free Bars (Pack of 12)\n",
        "B008JKSJJ2"
       ]
      },
      {
       "output_type": "stream",
       "stream": "stdout",
       "text": [
        "   FFP KIND PLUS, Cranberry Almond + Antioxidants, Gluten Free Bars 1.4 OZ (Pack of 12)\n",
        "B003TNANSO"
       ]
      },
      {
       "output_type": "stream",
       "stream": "stdout",
       "text": [
        "   Kind Bar Plus: Peanut Butter Dark Chocolate PLUS Protein; Box of 12\n",
        "B001D0DMME"
       ]
      },
      {
       "output_type": "stream",
       "stream": "stdout",
       "text": [
        "   FFP KIND PLUS, Cranberry Almond + Antioxidants, Gluten Free Bars 1.4 OZ (Pack of 12)\n",
        "B008JKTTUA"
       ]
      },
      {
       "output_type": "stream",
       "stream": "stdout",
       "text": [
        "   FFP KIND PLUS, Dark Chocolate Cherry Cashew + Antioxidants, Gluten Free Bars (Pack of 12)\n",
        "B001D0DMMY"
       ]
      },
      {
       "output_type": "stream",
       "stream": "stdout",
       "text": [
        "   FFP KIND PLUS, Almond Walnut Macadamia + Protein, Gluten Free Bars (Pack of 12)\n",
        "B0051COPH6"
       ]
      },
      {
       "output_type": "stream",
       "stream": "stdout",
       "text": [
        "   Baby Gourmet Organic Simple Purees Stage 1(6 Months+) Juicy Pear and Garden Greens Baby Food, 3.5-Ounce Pouches (Pack of 12)\n",
        "B003QNJYXM"
       ]
      },
      {
       "output_type": "stream",
       "stream": "stdout",
       "text": [
        "   5 Hour Energy Extra Strength, Berry Flavored, 1.93-Ounce Bottles (Pack of 12)\n",
        "B007I7Z3Z0"
       ]
      },
      {
       "output_type": "stream",
       "stream": "stdout",
       "text": [
        "   Lipton To Go Stix Iced Black Tea Mix, Tea and Honey, Lemon, 10Count (Pack of 12)\n",
        "B007I7YZJK"
       ]
      },
      {
       "output_type": "stream",
       "stream": "stdout",
       "text": [
        "   Lipton To Go Stix Decaf Iced Green Tea Mix, Tea and Honey, Strawberry Acai, 10-Count (Pack of 12)\n",
        "B001EO5U3I"
       ]
      },
      {
       "output_type": "stream",
       "stream": "stdout",
       "text": [
        "   Mccann's Steel Cut Oatmeal, 28-Ounce Tin (Pack of 4)\n",
        "B008J1HO4C"
       ]
      },
      {
       "output_type": "stream",
       "stream": "stdout",
       "text": [
        "   Mccann's Steel Cut Oatmeal, 28-Ounce Tin (Pack of 4)\n",
        "B001LG945O"
       ]
      },
      {
       "output_type": "stream",
       "stream": "stdout",
       "text": [
        "   The Switch Sparkling Juice, Orange Tangerine, 8-Ounce Cans (Pack of 24)\n",
        "B001LG940E"
       ]
      },
      {
       "output_type": "stream",
       "stream": "stdout",
       "text": [
        "   The Switch Sparkling Juice, Black Cherry, 8-Ounce Cans (Pack of 24)\n",
        "B001LGGH40"
       ]
      },
      {
       "output_type": "stream",
       "stream": "stdout",
       "text": [
        "   The Switch Sparkling Juice, Kiwi Berry, 8-Ounce Cans (Pack of 24)\n",
        "B00438XVGU"
       ]
      },
      {
       "output_type": "stream",
       "stream": "stdout",
       "text": [
        "   Starbucks VIA\u00ae Ready Brew Colombia Coffee (50 count)\n",
        "B003Z6ZGZK"
       ]
      },
      {
       "output_type": "stream",
       "stream": "stdout",
       "text": [
        "   Starbucks VIA Ready Brew Coffee, Italian, 3-Count Packets (Pack of 6)\n",
        "B00451WLYI"
       ]
      },
      {
       "output_type": "stream",
       "stream": "stdout",
       "text": [
        "   Starbucks VIA Ready Brew Coffee, Decaf Italian Roast, Extra Bold, 3-Count Packets (Pack of 6)\n",
        "B003Z6W32E"
       ]
      },
      {
       "output_type": "stream",
       "stream": "stdout",
       "text": [
        "   Starbucks VIA Ready Brew Coffee, Colombia Medium, 3- Count Packets (Pack of 6)\n"
       ]
      }
     ],
     "prompt_number": 14
    },
    {
     "cell_type": "code",
     "collapsed": false,
     "input": [
      "# Don't run this unless you want to re-scrape Amazon.\n",
      "SaveMultipleAmazonPages(pop100)"
     ],
     "language": "python",
     "metadata": {},
     "outputs": [
      {
       "output_type": "stream",
       "stream": "stdout",
       "text": [
        "Already have B007JFMH8M\n",
        "Already have B002QWHJOU\n",
        "Already have B0026RQTGE\n",
        "Already have B002QWP89S\n",
        "Already have B002QWP8H0\n",
        "Already have B003B3OOPA\n",
        "Already have B001EO5Q64\n",
        "Already have B001RVFEP2\n",
        "Already have B000VK8AVK\n",
        "Already have B0013NUGDE\n",
        "Already have B001RVFERK\n",
        "Already have B007M83302\n",
        "Already have B0026KPDG8\n",
        "Already have B007M832YY\n",
        "Already have B006HYLW32\n",
        "Already have B0026KNQSA\n",
        "Already have B000KV61FC\n",
        "Already have B000KV7ZGQ\n",
        "Already have B005K4Q34S\n",
        "Already have B005K4Q1YA\n",
        "Already have B000UBD88A\n",
        "Already have B000NMJWZO\n",
        "Already have B0013A0QXC\n",
        "Already have B005K4Q37A\n",
        "Already have B005K4Q4LK\n",
        "Already have B0090X8IPM\n",
        "Already have B003GTR8IO\n",
        "Already have B007Y59HVM\n",
        "Already have B005ZBZLT4\n",
        "Already have B006MONQMC\n",
        "Already have B002IEVJRY\n",
        "Already have B002IEZJMA\n",
        "Already have B000PDY3HI\n",
        "Already have B002YJ0118\n",
        "Already have B000PDY3P0\n",
        "Already have B000PDWBKO\n",
        "Already have B001VJ0B0I\n",
        "Already have B002LANN56\n",
        "Already have B006N3HZ6K\n",
        "Already have B0029XLH4Y\n",
        "Already have B007TJGY46\n",
        "Already have B008FHUGNQ\n",
        "Already have B003CIBPN8\n",
        "Already have B000CNB4LE\n",
        "Already have B004SRH2B6\n",
        "Already have B004SRFYMK\n",
        "Already have B006N3IE6A\n",
        "Already have B003VXFK44\n",
        "Already have B003VXHGDM\n",
        "Already have B006N3IG4K\n",
        "Already have B003VXHGE6\n",
        "Already have B003VXL0V6\n",
        "Already have B003TC7WN4\n",
        "Dont have B003VXHGPK, downloading...\n",
        "Dont have B004FGWU9O, downloading..."
       ]
      },
      {
       "output_type": "stream",
       "stream": "stdout",
       "text": [
        "\n",
        "Dont have B0041NYV8E, downloading..."
       ]
      },
      {
       "output_type": "stream",
       "stream": "stdout",
       "text": [
        "\n",
        "Dont have B000H1217M, downloading..."
       ]
      },
      {
       "output_type": "stream",
       "stream": "stdout",
       "text": [
        "\n",
        "Dont have B0007A0AQM, downloading..."
       ]
      },
      {
       "output_type": "stream",
       "stream": "stdout",
       "text": [
        "\n",
        "Dont have B000BRR8VQ, downloading..."
       ]
      },
      {
       "output_type": "stream",
       "stream": "stdout",
       "text": [
        "\n",
        "Dont have B0007A0AQW, downloading..."
       ]
      },
      {
       "output_type": "stream",
       "stream": "stdout",
       "text": [
        "\n",
        "Dont have B000H0ZJIG, downloading..."
       ]
      },
      {
       "output_type": "stream",
       "stream": "stdout",
       "text": [
        "\n",
        "Dont have B000H0ZJHW, downloading..."
       ]
      },
      {
       "output_type": "stream",
       "stream": "stdout",
       "text": [
        "\n",
        "Dont have B003D4F1QS, downloading..."
       ]
      },
      {
       "output_type": "stream",
       "stream": "stdout",
       "text": [
        "\n",
        "Dont have B003D4MW38, downloading..."
       ]
      },
      {
       "output_type": "stream",
       "stream": "stdout",
       "text": [
        "\n",
        "Dont have B0029ZAOW8, downloading..."
       ]
      },
      {
       "output_type": "stream",
       "stream": "stdout",
       "text": [
        "\n",
        "Dont have B003D4IYSU, downloading..."
       ]
      },
      {
       "output_type": "stream",
       "stream": "stdout",
       "text": [
        "\n",
        "Dont have B003QNLUTI, downloading..."
       ]
      },
      {
       "output_type": "stream",
       "stream": "stdout",
       "text": [
        "\n",
        "Dont have B003D4MYLS, downloading..."
       ]
      },
      {
       "output_type": "stream",
       "stream": "stdout",
       "text": [
        "\n",
        "Dont have B001AS1A4Q, downloading..."
       ]
      },
      {
       "output_type": "stream",
       "stream": "stdout",
       "text": [
        "\n",
        "Dont have B001E8DHPW, downloading..."
       ]
      },
      {
       "output_type": "stream",
       "stream": "stdout",
       "text": [
        "\n",
        "Dont have B000GAT6NG, downloading..."
       ]
      },
      {
       "output_type": "stream",
       "stream": "stdout",
       "text": [
        "\n",
        "Dont have B004EAGP74, downloading..."
       ]
      },
      {
       "output_type": "stream",
       "stream": "stdout",
       "text": [
        "\n",
        "Dont have B0018KLPFK, downloading..."
       ]
      },
      {
       "output_type": "stream",
       "stream": "stdout",
       "text": [
        "\n",
        "Dont have B004GW6O9E, downloading..."
       ]
      },
      {
       "output_type": "stream",
       "stream": "stdout",
       "text": [
        "\n",
        "Dont have B000ENUC3S, downloading..."
       ]
      },
      {
       "output_type": "stream",
       "stream": "stdout",
       "text": [
        "\n",
        "Dont have B005HG9ET0, downloading..."
       ]
      },
      {
       "output_type": "stream",
       "stream": "stdout",
       "text": [
        "\n",
        "Dont have B005HG9ESG, downloading..."
       ]
      },
      {
       "output_type": "stream",
       "stream": "stdout",
       "text": [
        "\n",
        "Dont have B0018KR8V0, downloading..."
       ]
      },
      {
       "output_type": "stream",
       "stream": "stdout",
       "text": [
        "\n",
        "Dont have B005HG9ERW, downloading..."
       ]
      },
      {
       "output_type": "stream",
       "stream": "stdout",
       "text": [
        "\n",
        "Dont have B001D09KAM, downloading..."
       ]
      },
      {
       "output_type": "stream",
       "stream": "stdout",
       "text": [
        "\n",
        "Dont have B008JKTH2A, downloading..."
       ]
      },
      {
       "output_type": "stream",
       "stream": "stdout",
       "text": [
        "\n",
        "Dont have B008JKU2CO, downloading..."
       ]
      },
      {
       "output_type": "stream",
       "stream": "stdout",
       "text": [
        "\n",
        "Dont have B008JKSJJ2, downloading..."
       ]
      },
      {
       "output_type": "stream",
       "stream": "stdout",
       "text": [
        "\n",
        "Dont have B003TNANSO, downloading..."
       ]
      },
      {
       "output_type": "stream",
       "stream": "stdout",
       "text": [
        "\n",
        "Dont have B001D0DMME, downloading..."
       ]
      },
      {
       "output_type": "stream",
       "stream": "stdout",
       "text": [
        "\n",
        "Dont have B008JKTTUA, downloading..."
       ]
      },
      {
       "output_type": "stream",
       "stream": "stdout",
       "text": [
        "\n",
        "Dont have B001D0DMMY, downloading..."
       ]
      },
      {
       "output_type": "stream",
       "stream": "stdout",
       "text": [
        "\n",
        "Dont have B0051COPH6, downloading..."
       ]
      },
      {
       "output_type": "stream",
       "stream": "stdout",
       "text": [
        "\n",
        "Dont have B003QNJYXM, downloading..."
       ]
      },
      {
       "output_type": "stream",
       "stream": "stdout",
       "text": [
        "\n",
        "Dont have B007I7Z3Z0, downloading..."
       ]
      },
      {
       "output_type": "stream",
       "stream": "stdout",
       "text": [
        "\n",
        "Dont have B007I7YZJK, downloading..."
       ]
      },
      {
       "output_type": "stream",
       "stream": "stdout",
       "text": [
        "\n",
        "Dont have B001EO5U3I, downloading..."
       ]
      },
      {
       "output_type": "stream",
       "stream": "stdout",
       "text": [
        "\n",
        "Dont have B008J1HO4C, downloading..."
       ]
      },
      {
       "output_type": "stream",
       "stream": "stdout",
       "text": [
        "\n",
        "Dont have B001LG945O, downloading..."
       ]
      },
      {
       "output_type": "stream",
       "stream": "stdout",
       "text": [
        "\n",
        "Dont have B001LG940E, downloading..."
       ]
      },
      {
       "output_type": "stream",
       "stream": "stdout",
       "text": [
        "\n",
        "Dont have B001LGGH40, downloading..."
       ]
      },
      {
       "output_type": "stream",
       "stream": "stdout",
       "text": [
        "\n",
        "Dont have B00438XVGU, downloading..."
       ]
      },
      {
       "output_type": "stream",
       "stream": "stdout",
       "text": [
        "\n",
        "Fail! Try again"
       ]
      },
      {
       "output_type": "stream",
       "stream": "stdout",
       "text": [
        "\n",
        "Dont have B003Z6ZGZK, downloading..."
       ]
      },
      {
       "output_type": "stream",
       "stream": "stdout",
       "text": [
        "\n",
        "Dont have B00451WLYI, downloading..."
       ]
      },
      {
       "output_type": "stream",
       "stream": "stdout",
       "text": [
        "\n",
        "Dont have B003Z6W32E, downloading..."
       ]
      },
      {
       "output_type": "stream",
       "stream": "stdout",
       "text": [
        "\n"
       ]
      }
     ],
     "prompt_number": 120
    },
    {
     "cell_type": "code",
     "collapsed": false,
     "input": [
      "import pickle \n",
      "f = open('top100titles.pkl','wb')\n",
      "pickle.dump(titles,f)\n",
      "f.close()"
     ],
     "language": "python",
     "metadata": {},
     "outputs": [],
     "prompt_number": 15
    },
    {
     "cell_type": "code",
     "collapsed": false,
     "input": [
      "titles = pickle.load(open('top100titles.pkl','rb'))\n",
      "print 'Qty \\t Description\\n'\n",
      "for key in prodcnts[:100].index:\n",
      "    \n",
      "    print prodcnts[key], '\\t', titles[key]\n"
     ],
     "language": "python",
     "metadata": {},
     "outputs": [
      {
       "output_type": "stream",
       "stream": "stdout",
       "text": [
        "Qty \t Description\n",
        "\n",
        "913 \tQuaker Soft Baked Oatmeal Cookie, Raisins, 8.8-Ounce (Pack of 12)\n",
        "632 \tGreenies LITE Treat-Pak for Dogs\n",
        "632 \tGreenies Treat-Pak for Dogs, Original\n",
        "632 \tGreenies LITE Treat-Pak for Dogs\n",
        "632 \tGreenies LITE Treat-Pak for Dogs\n",
        "623 \tNature's Way Coconut Oil, 16 Ounce\n",
        "567 \tNutiva Organic Extra Virgin Coconut Oil, 15-Ounce (Pack of 2)\n",
        "564 \tPopchips, Salt & Pepper, 0.8-Ounce Single Serve Bags (Pack of 24)\n",
        "564 \tPopchips, Barbeque,  3-Ounce Bags (Pack of 12)\n",
        "564 \tPopchips, Sea Salt & Vinegar, 3-Ounce Bags (Pack of 12)\n",
        "564 \tPopchips, Sea Salt & Vinegar, 0.8-Ounce Single Serve Bags (Pack of 24)\n",
        "564 \tPopchips, Thai Sweet Chili, 0.8-Ounce Single Serve Bags (Pack of 24)\n",
        "564 \tPopchips, Cheddar, 0.8-Ounce Single Serve Bags (Pack of  24)\n",
        "564 \tPopchips, Thai Sweet Chili, 3-Ounce Bags (Pack of 12)\n",
        "564 \tPopchips Potato Chips, Sweet Potato, 0.8-Ounce Single Serve Bags (Pack of 24)\n",
        "564 \tPopchips, Sour Cream & Onion, 0.8-Ounce Single Serve Bags (Pack of  24)\n",
        "556 \tPetSafe Busy Buddy Tug-A-Jug Meal Dispensing Dog Toy\n",
        "556 \tPetSafe Busy Buddy Tug-A-Jug Meal Dispensing Dog Toy\n",
        "542 \tGrove Square Cappuccino, French Vanilla, 12-Count Single Serve Cup for Keurig K-Cup Brewers (Pack of 3)\n",
        "542 \tGrove Square Cappuccino, French Vanilla, 24-Count Single Serve Cup for Keurig K-Cup Brewers\n",
        "542 \tSenseo Coffee Pods, Dark Roast,18 Count (Pack of 6), 26.46 Ounce\n",
        "542 \tPamela's Ultimate Baking and Pancake Mix, 4-Pound Bags (Pack of 3)\n",
        "542 \tSenseo Coffee Pods, Espresso,16 Count (Pack of 6)\n",
        "542 \tGrove Square Cappuccino, Caramel, 12-Count Single Serve Cup for Keurig K-Cup Brewers (Pack of 3)\n",
        "542 \tGrove Square Cappuccino, French Vanilla, 18-Count Single Serve Cup for Keurig K-Cup Brewers (Pack of 3)\n",
        "530 \tStarbucks Natural Fusions Ground Coffee, Vanilla Flavored, 11 Ounce (Pack of 6)\n",
        "530 \tStarbucks Natural Fusions Ground Coffee, Vanilla Flavored, 11-Ounce Packages (Pack of 2)\n",
        "506 \tSan Francisco Bay Coffee Fog Chaser, 80 OneCup Single Serve Cups\n",
        "506 \tSan Francisco Bay Coffee Fog Chaser, 12-Count OneCup Single Serve Cups (Pack of 3)\n",
        "491 \tVitamin Squeeze Energy Drink, Fruit Punch, 12-Ounce (Pack of 4)\n",
        "488 \tilly issimo Coffee Drink, Cappuccino, 8.45-Ounce Cans (Pack of 12)\n",
        "487 \tilly issimo Coffee Drink, Caff\u00e8, 6.8-Ounce Cans (Pack of 12)\n",
        "487 \tGreat Northern Popcorn, 8-Ounce Portion Packs (Pack of 24)\n",
        "487 \tGreat Northern Popcorn, 2.5-Ounce Portion Packs (Pack of 24)\n",
        "487 \tGreat Northern Popcorn, 4-Ounce Portion Packs (Pack of 24)\n",
        "487 \tGreat Northern Popcorn, 6-Ounce Portion Packs (Pack of 24)\n",
        "479 \tPurina Beneful Dog Food, 15.5 Pound\n",
        "464 \tPurina Chef Michael's Dog Food\n",
        "457 \tCoffee People Dark Roast, Jet Fuel, K-Cup Portion Pack for Keurig Brewers 24-Count\n",
        "457 \tKeurig, Coffee People, Jet Fuel, 50 Count K-Cup Packs\n",
        "457 \tCoffee People Jet Fuel Coffee, Extra Bold, K-Cup Portion Pack for Keurig Brewers 96-Count\n",
        "457 \tCoffee People Jet Fuel, Dark Roast, K-Cup for Keurig Brewers, 24-Count (Pack of 2)\n",
        "456 \tZICO Pure Premium Coconut Water, Natural, 14 Ounce Bottles (Pack of 12)\n",
        "456 \tZICO Pure Premium Coconut Water, Mango, 11.2 Ounce Tetra Paks (Pack of 12)\n",
        "456 \tZICO Pure Premium Coconut Water, Natural, 33.8 Ounce Container (Pack of 6)  Packaging May Vary\n",
        "456 \tZICO Pure Premium Coconut Water, Chocolate, 14 Ounce Bottles (Pack of 12)\n",
        "455 \tWolfgang Puck Coffee, Rodeo Drive Blend (Medium Roast), 24-Count K-Cups for Keurig Brewers\n",
        "455 \tWolfgang Puck Coffee, Chef's Reserve Colombian Decaf (Medium Roast), 24-Count K-Cups for Keurig Brewers (Pack of 2)\n",
        "455 \tWolfgang Puck Coffee, Cr\u00e8me Caramel, 24-Count K-Cups for Keurig Brewers (Pack of 2)\n",
        "455 \tWolfgang Puck Coffee, Vienna Coffee House (Medium Roast), 24-Count K-Cups for Keurig Brewers\n",
        "455 \tWolfgang Puck Coffee, Breakfast in Bed (Medium Roast), 24-Count K-Cups for Keurig Brewers (Pack of 2)\n",
        "455 \tWolfgang Puck Coffee, Jamaica Me Crazy, 24-Count K-Cups for Keurig Brewers (Pack of 2)\n",
        "455 \tWolfgang Puck Coffee, Breakfast in Bed (Medium Roast),  24-Count K-Cups for Keurig Brewers\n",
        "455 \tWolfgang Puck Coffee, Chef's Reserve Colombian (Dark Roast), 24-Count K-Cups for Keurig Brewers (Pack of 2)\n",
        "455 \tWolfgang Puck Coffee, Jamaica Me Crazy, K-Cups for Keurig Brewers, 24-Count\n",
        "452 \tGold Kili All Natural Instant Ginger & Lemon Beverage Mix, 6.72-Ounce Boxes (Pack of 6)\n",
        "424 \tZuke's Mini Naturals Dog Treats\n",
        "424 \tZuke's Mini Naturals Dog Treats\n",
        "424 \tZuke's Mini Naturals Dog Treats\n",
        "424 \tZuke's Mini Naturals Dog Treats\n",
        "424 \tZuke's Mini Naturals Dog Treats\n",
        "424 \tZuke's Mini Naturals Dog Treats\n",
        "413 \tStash Tea Decaf Premium Green Tea, 100 Count Box of Tea Bags in Foil\n",
        "413 \tStash Tea Peppermint Herbal Tea, 100 Count Box of Tea Bags in Foil\n",
        "413 \t5-Hour Energy -  Berry 1.93-Ounce Packages (Pack of 12)\n",
        "413 \tStash Tea Chamomile Nights Herbal Tea, 100 Count Box of Tea Bags in Foil\n",
        "413 \t5 Hour Energy Grape, 1.93-Ounce Bottles (Pack of 12)\n",
        "413 \tStash Tea Double Bergamot Earl Grey Tea, 100 Count Box of Tea Bags in Foil\n",
        "413 \t5 Hour Energy Berry, 2-Ounce Bottles (Pack of 12)\n",
        "389 \tNutiva Organic Virgin Coconut Oil, 15 Ounce\n",
        "389 \tNutiva Organic Virgin Coconut Oil, 54-Ounce Jar\n",
        "389 \tNutiva Organic Virgin Coconut Oil, 54-Ounce Jar\n",
        "387 \tLARABAR Fruit & Nut Food Bar, Coconut Cream Pie, Gluten Free 1.7 oz  Bars (Pack of 16)\n",
        "387 \tLARABAR Fruit & Nut Food Bar, Peanut Butter Cookie, Gluten Free 1.7oz Bars (Pack of 16)\n",
        "387 \tLARABAR Fruit & Nut Food Bar, Apple Pie, Gluten Free1.6 oz Bars (Pack of 16)\n",
        "387 \tEssentia 9.5 pH Drinking Water, 1.5 Liter, (Pack of 12)\n",
        "387 \tEssentia 9.5 pH Drinking Water, 1 Liter, (Pack of 12)\n",
        "387 \tLARABAR Fruit & Nut Food Bar, Key Lime Pie, Gluten Free 1.8 oz (Pack of 16)\n",
        "387 \tEssentia 9.5 pH Drinking Water, 20-Ounce (Pack of 24)\n",
        "385 \tKIND PLUS, Mango Macadamia + Calcium, Gluten Free Bars (Pack of 12)\n",
        "385 \tFFP KIND PLUS, Almond Walnut Macadamia + Protein, Gluten Free Bars (Pack of 12)\n",
        "385 \tFFP KIND PLUS, Peanut Butter Dark Chocolate + Protein, Gluten Free Bars (Pack of 12)\n",
        "385 \tFFP KIND PLUS, Cranberry Almond + Antioxidants, Gluten Free Bars 1.4 OZ (Pack of 12)\n",
        "385 \tKind Bar Plus: Peanut Butter Dark Chocolate PLUS Protein; Box of 12\n",
        "385 \tFFP KIND PLUS, Cranberry Almond + Antioxidants, Gluten Free Bars 1.4 OZ (Pack of 12)\n",
        "385 \tFFP KIND PLUS, Dark Chocolate Cherry Cashew + Antioxidants, Gluten Free Bars (Pack of 12)\n",
        "385 \tFFP KIND PLUS, Almond Walnut Macadamia + Protein, Gluten Free Bars (Pack of 12)\n",
        "379 \tBaby Gourmet Organic Simple Purees Stage 1(6 Months+) Juicy Pear and Garden Greens Baby Food, 3.5-Ounce Pouches (Pack of 12)\n",
        "375 \t5 Hour Energy Extra Strength, Berry Flavored, 1.93-Ounce Bottles (Pack of 12)\n",
        "362 \tLipton To Go Stix Iced Black Tea Mix, Tea and Honey, Lemon, 10Count (Pack of 12)\n",
        "362 \tLipton To Go Stix Decaf Iced Green Tea Mix, Tea and Honey, Strawberry Acai, 10-Count (Pack of 12)\n",
        "356 \tMccann's Steel Cut Oatmeal, 28-Ounce Tin (Pack of 4)\n",
        "356 \tMccann's Steel Cut Oatmeal, 28-Ounce Tin (Pack of 4)\n",
        "347 \tThe Switch Sparkling Juice, Orange Tangerine, 8-Ounce Cans (Pack of 24)\n",
        "343 \tThe Switch Sparkling Juice, Black Cherry, 8-Ounce Cans (Pack of 24)\n",
        "341 \tThe Switch Sparkling Juice, Kiwi Berry, 8-Ounce Cans (Pack of 24)\n",
        "340 \tStarbucks VIA\u00ae Ready Brew Colombia Coffee (50 count)\n",
        "340 \tStarbucks VIA Ready Brew Coffee, Italian, 3-Count Packets (Pack of 6)\n",
        "340 \tStarbucks VIA Ready Brew Coffee, Decaf Italian Roast, Extra Bold, 3-Count Packets (Pack of 6)\n",
        "340 \tStarbucks VIA Ready Brew Coffee, Colombia Medium, 3- Count Packets (Pack of 6)\n"
       ]
      }
     ],
     "prompt_number": 29
    }
   ],
   "metadata": {}
  }
 ]
}
