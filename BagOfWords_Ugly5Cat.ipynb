{
 "metadata": {
  "name": "",
  "signature": "sha256:a4e3e7185f392e371fbabec8123afe29497a907b7f62db6c3ca18947064735bd"
 },
 "nbformat": 3,
 "nbformat_minor": 0,
 "worksheets": [
  {
   "cells": [
    {
     "cell_type": "code",
     "collapsed": false,
     "input": [
      "import numpy as np\n",
      "%pylab inline\n",
      "import pandas as pd\n",
      "from sklearn.feature_extraction.text import CountVectorizer\n",
      "#pd.options.display.mpl_style = 'default'"
     ],
     "language": "python",
     "metadata": {},
     "outputs": [
      {
       "output_type": "stream",
       "stream": "stdout",
       "text": [
        "Populating the interactive namespace from numpy and matplotlib\n"
       ]
      }
     ],
     "prompt_number": 2
    },
    {
     "cell_type": "code",
     "collapsed": false,
     "input": [
      "fn = 'foods.csv'\n",
      "f = open(fn,'rb')\n",
      "df = pd.io.parsers.read_table(f, '\\t!\\t',engine='python')\n",
      "f.close()"
     ],
     "language": "python",
     "metadata": {},
     "outputs": [],
     "prompt_number": 3
    },
    {
     "cell_type": "code",
     "collapsed": false,
     "input": [
      "df.drop_duplicates('text',inplace=True)"
     ],
     "language": "python",
     "metadata": {},
     "outputs": [],
     "prompt_number": 4
    },
    {
     "cell_type": "code",
     "collapsed": false,
     "input": [
      "# Load the positive and negative word files from http://www.cs.uic.edu/~liub/FBS/sentiment-analysis.html\n",
      "# Direct link http://www.cs.uic.edu/~liub/FBS/opinion-lexicon-English.rar\n",
      "\n",
      "posfn = './opinion-lexicon-English/positive-words.txt'\n",
      "negfn = './opinion-lexicon-English/negative-words.txt'\n",
      "\n",
      "poswords = pd.read_table(posfn,skiprows=35,header=None,squeeze=True)\n",
      "\n",
      "poswords.dropna(how='all',inplace=True)\n",
      "poswords.reset_index(drop=True,inplace=True)\n",
      "\n",
      "negwords = pd.read_csv(negfn, skiprows=35, header=None, squeeze=True)\n",
      "negwords.dropna(how='all',inplace=True)\n",
      "negwords.reset_index(drop=True,inplace=True)\n",
      "\n",
      "print len(poswords), ' positive words loaded.  ', len(negwords), ' negative words loaded.'"
     ],
     "language": "python",
     "metadata": {},
     "outputs": [
      {
       "output_type": "stream",
       "stream": "stdout",
       "text": [
        "2006  positive words loaded.   4783  negative words loaded.\n"
       ]
      }
     ],
     "prompt_number": 5
    },
    {
     "cell_type": "code",
     "collapsed": false,
     "input": [
      "# Find columns in vectorized data that correspond to positive or negative words\n",
      "\n",
      "vectorizer = CountVectorizer(decode_error='replace', strip_accents='ascii',stop_words='english')\n",
      "X = vectorizer.fit_transform(df['text'])\n",
      "vocab = vectorizer.vocabulary_\n",
      "\n",
      "poscol, negcol = [], []\n",
      "for word in poswords:\n",
      "    if word in vocab:\n",
      "        poscol.append(vocab[word])\n",
      "for word in negwords:\n",
      "    if word in vocab:\n",
      "        negcol.append(vocab[word])\n",
      "print len(poscol), 'positive words in vocabulary. ', len(negcol), 'negative words in vocabulary'"
     ],
     "language": "python",
     "metadata": {},
     "outputs": [
      {
       "output_type": "stream",
       "stream": "stdout",
       "text": [
        "1652 positive words in vocabulary.  3453 negative words in vocabulary\n"
       ]
      }
     ],
     "prompt_number": 6
    },
    {
     "cell_type": "code",
     "collapsed": false,
     "input": [
      "# Trying to use X.getrow().toarray() on the sparse matrix and count positive/negative words was painfully slow\n",
      "# Seems faster to just use 3 separate vectorizers to produce matrices for all words, pos words only, and negwords only, \n",
      "# then do sparse-matrix-friendly operations on those for speed\n",
      "\n",
      "vectorizerpos = CountVectorizer(decode_error='replace', strip_accents='ascii',stop_words='english', vocabulary=poswords)\n",
      "Xpos = vectorizerpos.fit_transform(df['text'])\n",
      "\n",
      "vectorizerneg = CountVectorizer(decode_error='replace', strip_accents='ascii',stop_words='english', vocabulary=negwords)\n",
      "Xneg = vectorizerneg.fit_transform(df['text'])\n",
      "\n"
     ],
     "language": "python",
     "metadata": {},
     "outputs": [],
     "prompt_number": 7
    },
    {
     "cell_type": "code",
     "collapsed": false,
     "input": [
      "from __future__ import division\n",
      "poscnt = np.array(Xpos.sum(1)).flatten()\n",
      "negcnt = np.array(Xneg.sum(1)).flatten()\n",
      "fullcnt = np.array(X.sum(1)).flatten()\n",
      "score = (poscnt - negcnt) / fullcnt\n",
      "df['text_score'] = score"
     ],
     "language": "python",
     "metadata": {},
     "outputs": [],
     "prompt_number": 8
    },
    {
     "cell_type": "code",
     "collapsed": false,
     "input": [
      "bp = df.boxplot(column = 'text_score', by='score')\n",
      "import pylab as pl\n",
      "pl.ylabel('Word count: (Pos-Neg) / Total ')"
     ],
     "language": "python",
     "metadata": {},
     "outputs": [
      {
       "metadata": {},
       "output_type": "pyout",
       "prompt_number": 9,
       "text": [
        "<matplotlib.text.Text at 0x304d8908>"
       ]
      },
      {
       "metadata": {},
       "output_type": "display_data",
       "png": "[encoded data removed]",
       "text": [
        "<matplotlib.figure.Figure at 0x4159f28>"
       ]
      }
     ],
     "prompt_number": 9
    },
    {
     "cell_type": "code",
     "collapsed": false,
     "input": [
      "# Group scores of 1, 2 as bad, 4, 5 as good.  Ignore 3s.\n",
      "df['goodscore'] = df['score'].apply(lambda x: x>2)\n",
      "ix = (df['score'] != 3)"
     ],
     "language": "python",
     "metadata": {},
     "outputs": [],
     "prompt_number": 10
    },
    {
     "cell_type": "code",
     "collapsed": false,
     "input": [
      "def safelen(x):\n",
      "    try:\n",
      "        return len(x)\n",
      "    except:\n",
      "        return 0\n",
      "df['textlen'] = df['text'].apply(safelen)"
     ],
     "language": "python",
     "metadata": {},
     "outputs": [],
     "prompt_number": 11
    },
    {
     "cell_type": "code",
     "collapsed": false,
     "input": [
      "df.dropna(inplace=True)\n",
      "from sklearn import linear_model\n",
      "X = df[ix][['textlen', 'text_score']]\n",
      "Y = df[ix]['goodscore']\n",
      "\n",
      "logreg = linear_model.LogisticRegression(C=1e5)\n",
      "\n",
      "# we create an instance of Neighbours Classifier and fit the data.\n",
      "logreg.fit(X, Y)"
     ],
     "language": "python",
     "metadata": {},
     "outputs": [
      {
       "output_type": "stream",
       "stream": "stderr",
       "text": [
        "C:\\Users\\Mike\\AppData\\Local\\Enthought\\Canopy\\User\\lib\\site-packages\\pandas\\core\\frame.py:1706: UserWarning: Boolean Series key will be reindexed to match DataFrame index.\n",
        "  \"DataFrame index.\", UserWarning)\n"
       ]
      },
      {
       "metadata": {},
       "output_type": "pyout",
       "prompt_number": 12,
       "text": [
        "LogisticRegression(C=100000.0, class_weight=None, dual=False,\n",
        "          fit_intercept=True, intercept_scaling=1, penalty='l2',\n",
        "          random_state=None, tol=0.0001)"
       ]
      }
     ],
     "prompt_number": 12
    },
    {
     "cell_type": "code",
     "collapsed": false,
     "input": [
      "sum(logreg.predict(X)==Y)/len(df[ix])"
     ],
     "language": "python",
     "metadata": {},
     "outputs": [
      {
       "metadata": {},
       "output_type": "pyout",
       "prompt_number": 13,
       "text": [
        "0.85725359119970534"
       ]
      }
     ],
     "prompt_number": 13
    },
    {
     "cell_type": "code",
     "collapsed": false,
     "input": [
      "sum(df[ix]['score']>3)/ len(df[ix])"
     ],
     "language": "python",
     "metadata": {},
     "outputs": [
      {
       "metadata": {},
       "output_type": "pyout",
       "prompt_number": 14,
       "text": [
        "0.84315541799750415"
       ]
      }
     ],
     "prompt_number": 14
    },
    {
     "cell_type": "code",
     "collapsed": false,
     "input": [
      "inds = np.array(df.index)\n",
      "np.random.shuffle(inds)"
     ],
     "language": "python",
     "metadata": {},
     "outputs": [],
     "prompt_number": 15
    },
    {
     "cell_type": "code",
     "collapsed": false,
     "input": [
      "ntest = int(len(inds)/2.)\n",
      "traini = inds[:ntest]\n",
      "testi = inds[ntest:]"
     ],
     "language": "python",
     "metadata": {},
     "outputs": [],
     "prompt_number": 16
    },
    {
     "cell_type": "code",
     "collapsed": false,
     "input": [
      "df_test = df.ix[testi]\n",
      "df_train = df.ix[traini]"
     ],
     "language": "python",
     "metadata": {},
     "outputs": [],
     "prompt_number": 17
    },
    {
     "cell_type": "markdown",
     "metadata": {},
     "source": [
      "Train model using pos/neg word score and text length.  Train using 1,2 star neg, 4,5 star pos."
     ]
    },
    {
     "cell_type": "code",
     "collapsed": false,
     "input": [
      "ix = df_train['score']!= 3\n",
      "X_train = df_train[ix][['textlen','text_score']]\n",
      "Y_train = df_train[ix]['goodscore']\n",
      "\n",
      "logreg = linear_model.LogisticRegression(C=1e5)\n",
      "\n",
      "# we create an instance of Neighbours Classifier and fit the data.\n",
      "logreg.fit(X_train, Y_train)"
     ],
     "language": "python",
     "metadata": {},
     "outputs": [
      {
       "metadata": {},
       "output_type": "pyout",
       "prompt_number": 18,
       "text": [
        "LogisticRegression(C=100000.0, class_weight=None, dual=False,\n",
        "          fit_intercept=True, intercept_scaling=1, penalty='l2',\n",
        "          random_state=None, tol=0.0001)"
       ]
      }
     ],
     "prompt_number": 18
    },
    {
     "cell_type": "code",
     "collapsed": false,
     "input": [
      "df_1star = pd.DataFrame(df[df['score']==1],columns=['score','text','text_score','textlen'])\n",
      "df_2star = pd.DataFrame(df[df['score']==2],columns=['score','text','text_score','textlen'])\n",
      "df_3star = pd.DataFrame(df[df['score']==3],columns=['score','text','text_score','textlen'])\n",
      "df_4star = pd.DataFrame(df[df['score']==4],columns=['score','text','text_score','textlen'])\n",
      "df_5star = pd.DataFrame(df[df['score']==5],columns=['score','text','text_score','textlen'])\n",
      "\n",
      "min_star_length = min(len(df_1star), len(df_2star), len(df_3star), len(df_4star), len(df_5star))\n",
      "\n",
      "#Train and test on data with stars equally distributed across classes\n",
      "#Percentage of data to use in training and cross-validation:\n",
      "frac = 0.7\n",
      "idx1 = int(min_star_length*0.7)\n",
      "idx2 = min_star_length-1\n",
      "\n",
      "training_pieces = [df_1star[:idx1],df_2star[:idx1], df_3star[:idx1], df_4star[:idx1], df_5star[:idx1]]\n",
      "leftovers = [df_1star[idx1:idx2],df_2star[idx1:idx2], df_3star[idx1:idx2], df_4star[idx1:idx2], df_5star[idx1:idx2]]\n",
      "del df_1star, df_2star, df_3star, df_4star, df_5star\n",
      "\n",
      "df_train = pd.concat(training_pieces)\n",
      "df_test = pd.concat(leftovers)\n",
      "del training_pieces\n",
      "del leftovers\n",
      "\n",
      "def decodeArray(text):\n",
      "    try:\n",
      "        return text.decode('utf-8','replace')\n",
      "    except:\n",
      "        return 0\n",
      "X_train = df_train['textlen','text_score']\n",
      "y_train = df_train['score']\n",
      "X_test = df_test['textlen', 'text_score']\n",
      "y_test = df_test['score']"
     ],
     "language": "python",
     "metadata": {},
     "outputs": [],
     "prompt_number": 30
    },
    {
     "cell_type": "code",
     "collapsed": false,
     "input": [
      "#####\n",
      "X_train = df_train[['textlen', 'text_score']]\n",
      "Y_train = df_train['score']\n",
      "\n",
      "logreg = linear_model.LogisticRegression(C=1e5)\n",
      "\n",
      "# we create an instance of Neighbours Classifier and fit the data.\n",
      "logreg.fit(X_train, Y_train)\n",
      "#df_test[['textlen','text_score']]"
     ],
     "language": "python",
     "metadata": {},
     "outputs": [
      {
       "metadata": {},
       "output_type": "pyout",
       "prompt_number": 62,
       "text": [
        "LogisticRegression(C=100000.0, class_weight=None, dual=False,\n",
        "          fit_intercept=True, intercept_scaling=1, penalty='l2',\n",
        "          random_state=None, tol=0.0001)"
       ]
      }
     ],
     "prompt_number": 62
    },
    {
     "cell_type": "markdown",
     "metadata": {},
     "source": [
      "Test using same criteria."
     ]
    },
    {
     "cell_type": "code",
     "collapsed": false,
     "input": [
      "#####\n",
      "X_test = df_test[['textlen', 'text_score']]\n",
      "Y_test = df_test['score']\n",
      "Y_pred =  logreg.predict(X_test)\n",
      "print sum(Y_pred == Y_test) / len(df_test), ' ', len(df_test)/len(df_test)\n",
      "np.unique(Y_pred)"
     ],
     "language": "python",
     "metadata": {},
     "outputs": [
      {
       "output_type": "stream",
       "stream": "stdout",
       "text": [
        "0.333579217447   1.0\n"
       ]
      },
      {
       "metadata": {},
       "output_type": "pyout",
       "prompt_number": 63,
       "text": [
        "array([ 1.,  2.,  3.,  4.,  5.])"
       ]
      }
     ],
     "prompt_number": 63
    },
    {
     "cell_type": "code",
     "collapsed": false,
     "input": [
      "def makeCM_plot(y_test, y_pred):\n",
      "    cm = confusion_matrix(y_test, y_pred)\n",
      "    cm=cm / cm.astype(np.float).sum(axis=1)\n",
      "    print cm\n",
      "    plt.matshow(cm)\n",
      "    plt.title('Confusion matrix')\n",
      "    plt.colorbar()\n",
      "    plt.ylabel('True label')\n",
      "    plt.xlabel('Predicted label')\n",
      "   \n",
      "    plt.show()\n",
      "    \n",
      "makeCM_plot(Y_test, Y_pred)\n"
     ],
     "language": "python",
     "metadata": {},
     "outputs": [
      {
       "output_type": "stream",
       "stream": "stdout",
       "text": [
        "[[ 0.63261706  0.10760103  0.0853111   0.02998717  0.14448364]\n",
        " [ 0.43826171  0.12652341  0.11722258  0.07857601  0.23941629]\n",
        " [ 0.30644644  0.11385504  0.13470173  0.12379731  0.32119949]\n",
        " [ 0.177678    0.09332906  0.11898653  0.15202053  0.45798589]\n",
        " [ 0.12636305  0.08258499  0.07087877  0.09813983  0.62203335]]\n"
       ]
      },
      {
       "metadata": {},
       "output_type": "display_data",
       "png": "[encoded data removed]",
       "text": [
        "<matplotlib.figure.Figure at 0xdb7b358>"
       ]
      }
     ],
     "prompt_number": 64
    },
    {
     "cell_type": "code",
     "collapsed": false,
     "input": [
      "#####\n",
      "ix = df_test['text_score'].abs() > 0.2\n",
      "X_test = df_test[ix][['textlen','text_score']]\n",
      "Y_test = df_test[ix]['score']\n",
      "Y_pred =  logreg.predict(X_test)\n",
      "print sum(Y_pred == Y_test) / len(df_test[ix]), ' ', len(df_test[ix])/len(df_test)\n",
      "np.unique(Y_pred)"
     ],
     "language": "python",
     "metadata": {},
     "outputs": [
      {
       "output_type": "stream",
       "stream": "stdout",
       "text": [
        "0.481531229013   0.0955099422707\n"
       ]
      },
      {
       "metadata": {},
       "output_type": "pyout",
       "prompt_number": 42,
       "text": [
        "array([ 1.,  4.,  5.])"
       ]
      }
     ],
     "prompt_number": 42
    },
    {
     "cell_type": "code",
     "collapsed": false,
     "input": [
      "def makeCM_plot(y_test, y_pred):\n",
      "    cm = confusion_matrix(y_test, y_pred)\n",
      "    cm=cm / cm.astype(np.float).sum(axis=1)\n",
      "    print cm\n",
      "    plt.matshow(cm)\n",
      "    plt.title('Confusion matrix')\n",
      "    plt.colorbar()\n",
      "    plt.ylabel('True label')\n",
      "    plt.xlabel('Predicted label')\n",
      "    plt.show()\n",
      "    \n",
      "makeCM_plot(Y_test, Y_pred)"
     ],
     "language": "python",
     "metadata": {},
     "outputs": [
      {
       "output_type": "stream",
       "stream": "stdout",
       "text": [
        "[[ 0.64615385  0.          0.          0.00131579  0.07154088]\n",
        " [ 0.27692308  0.          0.          0.          0.15487421]\n",
        " [ 0.14230769  0.          0.          0.          0.29874214]\n",
        " [ 0.03461538  0.          0.          0.          0.59040881]\n",
        " [ 0.02307692  0.          0.          0.          0.99528302]]\n"
       ]
      },
      {
       "metadata": {},
       "output_type": "display_data",
       "png": "[encoded data removed]",
       "text": [
        "<matplotlib.figure.Figure at 0x2f47b860>"
       ]
      }
     ],
     "prompt_number": 43
    },
    {
     "cell_type": "code",
     "collapsed": false,
     "input": [
      "ix = (df_test['score']!=3)\n",
      "X_test = df_test[ix][['textlen','text_score']]\n",
      "Y_test = df_test[ix]['goodscore']\n",
      "Y_pred =  logreg.predict(X_test)\n",
      "print sum(Y_pred == Y_test) / len(df_test[ix]), ' ', len(df_test[ix])/len(df_test)"
     ],
     "language": "python",
     "metadata": {},
     "outputs": [
      {
       "output_type": "stream",
       "stream": "stdout",
       "text": [
        "0.856763648754   "
       ]
      },
      {
       "output_type": "stream",
       "stream": "stdout",
       "text": [
        "0.924682003669\n"
       ]
      }
     ],
     "prompt_number": 19
    },
    {
     "cell_type": "markdown",
     "metadata": {},
     "source": [
      "Test only 1 and 5 star data."
     ]
    },
    {
     "cell_type": "code",
     "collapsed": false,
     "input": [
      "ix = ((df_test['score'] <2) | (df_test['score'] > 4)) \n",
      "X_test = df_test[ix][['textlen','text_score']]\n",
      "Y_test = df_test[ix]['goodscore']\n",
      "Y_pred =  logreg.predict(X_test)\n",
      "print sum(Y_pred == Y_test) / len(df_test[ix]), ' ', len(df_test[ix])/len(df_test)"
     ],
     "language": "python",
     "metadata": {},
     "outputs": [
      {
       "output_type": "stream",
       "stream": "stdout",
       "text": [
        "0.887952957242   "
       ]
      },
      {
       "output_type": "stream",
       "stream": "stdout",
       "text": [
        "0.729391855838\n"
       ]
      }
     ],
     "prompt_number": 20
    },
    {
     "cell_type": "code",
     "collapsed": false,
     "input": [],
     "language": "python",
     "metadata": {},
     "outputs": [],
     "prompt_number": 20
    },
    {
     "cell_type": "markdown",
     "metadata": {},
     "source": [
      "Now remove 50% of data with lowest absval of score (presumably least accurate predictions in this region)"
     ]
    },
    {
     "cell_type": "code",
     "collapsed": false,
     "input": [
      "ix = (df_test['text_score'].add(0.045).abs()>0.131) & (df_test['score'] != 3)\n",
      "X_test = df_test[ix][['textlen','text_score']]\n",
      "Y_test = df_test[ix]['goodscore']\n",
      "Y_pred =  logreg.predict(X_test)\n",
      "print sum(Y_pred == Y_test) / len(df_test[ix]), ' ', len(df_test[ix])/len(df_test)"
     ],
     "language": "python",
     "metadata": {},
     "outputs": [
      {
       "output_type": "stream",
       "stream": "stdout",
       "text": [
        "0.94819226899   0.49996696802\n"
       ]
      }
     ],
     "prompt_number": 21
    },
    {
     "cell_type": "markdown",
     "metadata": {},
     "source": [
      "Now only 1,5 star reviews and remove low absval word scores."
     ]
    },
    {
     "cell_type": "code",
     "collapsed": false,
     "input": [
      "ix = ((df['score'] <2) | (df['score'] > 4)) & (df_test['text_score'].add(0.045).abs()>0.1039)\n",
      "X_test = df_test[ix][['textlen','text_score']]\n",
      "Y_test = df_test[ix]['goodscore']\n",
      "Y_pred =  logreg.predict(X_test)\n",
      "print sum(Y_pred == Y_test) / len(df_test[ix]), ' ', len(df_test[ix])/len(df_test)"
     ],
     "language": "python",
     "metadata": {},
     "outputs": [
      {
       "output_type": "stream",
       "stream": "stdout",
       "text": [
        "0.958496995419   "
       ]
      },
      {
       "output_type": "stream",
       "stream": "stdout",
       "text": [
        "0.498107013452\n"
       ]
      }
     ],
     "prompt_number": 22
    },
    {
     "cell_type": "code",
     "collapsed": false,
     "input": [
      "sum(df[ix]['goodscore']==(df[ix]['text_score']>-.045))/len(df[ix])"
     ],
     "language": "python",
     "metadata": {},
     "outputs": [
      {
       "metadata": {},
       "output_type": "pyout",
       "prompt_number": 23,
       "text": [
        "0.958496995419162"
       ]
      }
     ],
     "prompt_number": 23
    },
    {
     "cell_type": "code",
     "collapsed": false,
     "input": [
      "from sklearn.metrics import confusion_matrix\n",
      "cm = confusion_matrix(Y_test, Y_pred)\n",
      "\n",
      "print(cm)\n",
      "\n",
      "# Show confusion matrix in a separate window\n",
      "plt.matshow(cm)\n",
      "plt.title('Confusion matrix')\n",
      "plt.colorbar()\n",
      "plt.ylabel('True label')\n",
      "plt.xlabel('Predicted label')"
     ],
     "language": "python",
     "metadata": {},
     "outputs": [
      {
       "output_type": "stream",
       "stream": "stdout",
       "text": [
        "[[ 1252  3736]\n",
        " [  332 92697]]\n"
       ]
      },
      {
       "metadata": {},
       "output_type": "pyout",
       "prompt_number": 24,
       "text": [
        "<matplotlib.text.Text at 0x2f4dcb70>"
       ]
      },
      {
       "metadata": {},
       "output_type": "display_data",
       "png": "[encoded data removed]",
       "text": [
        "<matplotlib.figure.Figure at 0xa77bbe0>"
       ]
      }
     ],
     "prompt_number": 24
    },
    {
     "cell_type": "code",
     "collapsed": false,
     "input": [],
     "language": "python",
     "metadata": {},
     "outputs": [],
     "prompt_number": 24
    }
   ],
   "metadata": {}
  }
 ]
}