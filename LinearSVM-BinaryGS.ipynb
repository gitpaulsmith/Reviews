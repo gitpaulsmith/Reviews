{
 "metadata": {
  "name": "",
  "signature": "sha256:2d08623fc8a7ae51e95d31cba5734e6f2c8b739bf20768ca4426c1b01752b41e"
 },
 "nbformat": 3,
 "nbformat_minor": 0,
 "worksheets": [
  {
   "cells": [
    {
     "cell_type": "code",
     "collapsed": false,
     "input": [
      "#import pylab as pl\n",
      "import scipy\n",
      "import numpy as np\n",
      "import pandas as pd\n",
      "#pd.options.display.mpl_style = 'default'\n",
      "\n",
      "from time import time\n",
      "\n",
      "import matplotlib.pyplot as plt\n",
      "%matplotlib inline\n",
      "\n",
      "#from sklearn.feature_extraction.text import CountVectorizer\n",
      "from sklearn.feature_extraction.text import TfidfVectorizer\n",
      "from sklearn.pipeline import Pipeline\n",
      "from sklearn import svm\n",
      "from sklearn.metrics import confusion_matrix, precision_recall_curve, auc\n",
      "from sklearn.cross_validation import ShuffleSplit, train_test_split\n",
      "\n",
      "from sklearn.grid_search import GridSearchCV\n",
      "from sklearn.metrics import f1_score\n",
      "\n",
      "\n",
      "def grid_search_model(clf_factory, X, Y):\n",
      "    #cv = ShuffleSplit(\n",
      "        #n=len(X), n_iter=10, test_size=0.3, indices=True, random_state=0)\n",
      "    X_train, X_test, y_train, y_test= train_test_split(X, Y, test_size=0.6, random_state=0)\n",
      "    \n",
      "    \n",
      "    \n",
      "    param_grid = dict(vect__ngram_range=[(1, 1), (1, 2)],\n",
      "     #                 vect__min_df=[1, 2],\n",
      "                      vect__min_df=[2, 2],\n",
      "     #                 vect__stop_words=[None, 'english'],\n",
      "                      vect__stop_words=[None],\n",
      "                      vect__smooth_idf=[False, True],\n",
      "     #                 vect__smooth_idf=[True],\n",
      "     #                 vect__use_idf=[False, True],\n",
      "                      vect__use_idf=[True],\n",
      "     #                 vect__sublinear_tf=[False, True],\n",
      "                      vect__sublinear_tf=[False],\n",
      "     #                 vect__binary=[False, True],\n",
      "                      vect__binary=[True],\n",
      "                      #clf__alpha=[0, 0.01, 0.05, 0.1, 0.5, 1],\n",
      "                      )\n",
      "     #Restrict the grid search for test purposes\n",
      "    \n",
      "    grid_search = GridSearchCV(clf_factory(),\n",
      "                               param_grid=param_grid,\n",
      "                               score_func=f1_score,\n",
      "                               cv=3,\n",
      "                               verbose=10)\n",
      "    grid_search.fit(X_train,y_train) \n",
      " \n",
      "    return grid_search.best_estimator_\n",
      "\n",
      "\n",
      "def create_l1_LinearSVC():\n",
      "    tfidf_ngrams=TfidfVectorizer(ngram_range=(1,2),analyzer=\"word\",binary=False)\n",
      "    clf=svm.LinearSVC(loss='l2', penalty='l1', dual=False)\n",
      "    pipeline=Pipeline([('vect',tfidf_ngrams),('clf',clf)])\n",
      "    return pipeline\n",
      "\n",
      "\n",
      "def create_l2_LinearSVC():\n",
      "    tfidf_ngrams=TfidfVectorizer(ngram_range=(1,2),analyzer=\"word\",binary=False)\n",
      "    clf=svm.LinearSVC(loss='l2', penalty='l1', dual=False)\n",
      "    pipeline=Pipeline([('vect',tfidf_ngrams),('clf',clf)])\n",
      "    return pipeline\n",
      "\n",
      "    \n",
      "def decodeArray(text):\n",
      "    try:\n",
      "        return text.decode(\"utf-8\",\"replace\")\n",
      "    except:\n",
      "        return 0\n",
      "    \n",
      "    \n",
      "def makeCM_plot(y_test, y_pred):\n",
      "    cm = confusion_matrix(y_test, y_pred)\n",
      "    print cm\n",
      "    plt.matshow(cm)\n",
      "    plt.title('Confusion matrix')\n",
      "    plt.colorbar()\n",
      "    plt.ylabel('True label')\n",
      "    plt.xlabel('Predicted label')\n",
      "    plt.show()\n",
      "    \n",
      "    \n",
      "def makePR_plot(x,y):\n",
      "    plt.figure\n",
      "    plt.plot(x, y)\n",
      "    plt.xlabel('Recall')\n",
      "    plt.ylabel('Precision')\n",
      "    plt.ylim([0.0, 1.05])\n",
      "    plt.xlim([0.0, 1.0])\n",
      "    plt.title('Precision-Recall curve')\n",
      "    plt.fill_between(x,0,y)\n",
      "    plt.show()"
     ],
     "language": "python",
     "metadata": {},
     "outputs": [],
     "prompt_number": 77
    },
    {
     "cell_type": "code",
     "collapsed": false,
     "input": [
      "t0 = time() \n",
      "df = pd.read_csv('scrubbed_foods.csv','\\t!\\t')\n",
      "t1 = time()\n",
      "print 'Data load time: ', t1 - t0\n",
      "\n",
      "print 'Shape before dropping duplicates: ', df.shape\n",
      "df = df.drop_duplicates('text')\n",
      "print 'Shape after dropping duplicates: ', df.shape"
     ],
     "language": "python",
     "metadata": {},
     "outputs": [
      {
       "output_type": "stream",
       "stream": "stdout",
       "text": [
        "Data load time:  7.20616698265\n",
        "Shape before dropping duplicates:  (568447, 8)\n",
        "Shape after dropping duplicates: "
       ]
      },
      {
       "output_type": "stream",
       "stream": "stdout",
       "text": [
        " (393573, 8)\n"
       ]
      }
     ],
     "prompt_number": 78
    },
    {
     "cell_type": "code",
     "collapsed": false,
     "input": [
      "#Need to relabel!\n",
      "\n",
      "dfhi = pd.DataFrame(df[df['score']>3], columns = ['score', 'text'])\n",
      "dflo = pd.DataFrame(df[df['score']<3], columns = ['score', 'text'])\n",
      "\n",
      "del df\n",
      "\n",
      "n_sample = len(dfhi) + len(dflo)\n",
      "\n",
      "#m_train = int(0.6*n_sample)\n",
      "#dftrain = dfconcat.head(m_train)\n",
      "#dfextremestest = dfconcat.tail(n_sample-m_train)\n",
      "\n",
      "sampleSize=10000\n",
      "#sampleStart=200000\n",
      "\n",
      "dfhi_train = dfhi.head(sampleSize/2)\n",
      "dfhi_holdout = dfhi.tail(len(dfhi)-sampleSize/2)\n",
      "del dfhi\n",
      "\n",
      "dflo_train = dflo.head(sampleSize/2)\n",
      "dflo_holdout = dflo.tail(len(dflo)-sampleSize/2)\n",
      "\n",
      "#df_24stars=pd.DataFrame(df[(df['score']==2) | (df['score']==4)],columns=['score','text'])\n",
      "#df_15stars=pd.DataFrame(df[(df['score']==1) | (df['score']==5)],columns=['score','text'])\n",
      "\n",
      "#pieces=[df_15stars[df_15stars['score']==5][:sampleSize/2],df_15stars[df_15stars['score']==1][:sampleSize/2]]\n",
      "#leftovers=[df_15stars[df_15stars['score']==5][sampleSize/2:],df_15stars[df_15stars['score']==1][sampleSize/2:]]\n",
      "final_df = pd.concat([dfhi_train, dflo_train])\n",
      "#del df_24stars\n",
      "#del df_15stars\n",
      "#del pieces\n",
      "del dfhi_train\n",
      "del dflo_train\n",
      "\n",
      "holdout_df = pd.concat([dfhi_holdout, dflo_holdout])\n",
      "del dfhi_holdout\n",
      "del dflo_holdout\n",
      "\n",
      "#final_df=final_df.reindex(np.random.permutation(final_df.index))\n",
      "#holdout_df = pd.concat(leftovers)\n",
      "X=final_df['text'].apply(decodeArray)\n",
      "y=final_df['score'].replace({5:1,4:1,2:0,1:0})\n",
      "\n",
      "X_holdout = holdout_df['text'].apply(decodeArray)\n",
      "y_holdout = holdout_df['score'].replace({5:1,4:1,2:0,1:0})"
     ],
     "language": "python",
     "metadata": {},
     "outputs": [],
     "prompt_number": 79
    },
    {
     "cell_type": "code",
     "collapsed": false,
     "input": [
      "clf=grid_search_model(create_l1_LinearSVC,X,y)"
     ],
     "language": "python",
     "metadata": {},
     "outputs": [
      {
       "output_type": "stream",
       "stream": "stdout",
       "text": [
        "Fitting 3 folds for each of 8 candidates, totalling 24 fits\n",
        "[GridSearchCV] vect__ngram_range=(1, 1), vect__smooth_idf=False, vect__sublinear_tf=False, vect__binary=True, vect__min_df=2, vect__stop_words=None, vect__use_idf=True \n",
        "[GridSearchCV]  vect__ngram_range=(1, 1), vect__smooth_idf=False, vect__sublinear_tf=False, vect__binary=True, vect__min_df=2, vect__stop_words=None, vect__use_idf=True, score=0.844316 -   0.7s"
       ]
      },
      {
       "output_type": "stream",
       "stream": "stderr",
       "text": [
        "/usr/local/lib/python2.7/site-packages/sklearn/grid_search.py:466: DeprecationWarning: Passing function as ``score_func`` is deprecated and will be removed in 0.15. Either use strings or score objects.The relevant new parameter is called ''scoring''.\n",
        "  self.loss_func, self.score_func, self.scoring)\n",
        "[Parallel(n_jobs=1)]: Done   1 jobs       | elapsed:    0.7s\n"
       ]
      },
      {
       "output_type": "stream",
       "stream": "stdout",
       "text": [
        "\n",
        "[GridSearchCV] vect__ngram_range=(1, 1), vect__smooth_idf=False, vect__sublinear_tf=False, vect__binary=True, vect__min_df=2, vect__stop_words=None, vect__use_idf=True \n",
        "[GridSearchCV]  vect__ngram_range=(1, 1), vect__smooth_idf=False, vect__sublinear_tf=False, vect__binary=True, vect__min_df=2, vect__stop_words=None, vect__use_idf=True, score=0.844967 -   0.6s"
       ]
      },
      {
       "output_type": "stream",
       "stream": "stdout",
       "text": [
        "\n",
        "[GridSearchCV] vect__ngram_range=(1, 1), vect__smooth_idf=False, vect__sublinear_tf=False, vect__binary=True, vect__min_df=2, vect__stop_words=None, vect__use_idf=True \n",
        "[GridSearchCV]  vect__ngram_range=(1, 1), vect__smooth_idf=False, vect__sublinear_tf=False, vect__binary=True, vect__min_df=2, vect__stop_words=None, vect__use_idf=True, score=0.848931 -   0.6s"
       ]
      },
      {
       "output_type": "stream",
       "stream": "stdout",
       "text": [
        "\n",
        "[GridSearchCV] vect__ngram_range=(1, 1), vect__smooth_idf=True, vect__sublinear_tf=False, vect__binary=True, vect__min_df=2, vect__stop_words=None, vect__use_idf=True \n",
        "[GridSearchCV]  vect__ngram_range=(1, 1), vect__smooth_idf=True, vect__sublinear_tf=False, vect__binary=True, vect__min_df=2, vect__stop_words=None, vect__use_idf=True, score=0.842867 -   0.6s"
       ]
      },
      {
       "output_type": "stream",
       "stream": "stdout",
       "text": [
        "\n",
        "[GridSearchCV] vect__ngram_range=(1, 1), vect__smooth_idf=True, vect__sublinear_tf=False, vect__binary=True, vect__min_df=2, vect__stop_words=None, vect__use_idf=True \n",
        "[GridSearchCV]  vect__ngram_range=(1, 1), vect__smooth_idf=True, vect__sublinear_tf=False, vect__binary=True, vect__min_df=2, vect__stop_words=None, vect__use_idf=True, score=0.845588 -   0.6s"
       ]
      },
      {
       "output_type": "stream",
       "stream": "stderr",
       "text": [
        "[Parallel(n_jobs=1)]: Done   2 jobs       | elapsed:    1.3s\n",
        "[Parallel(n_jobs=1)]: Done   5 jobs       | elapsed:    3.0s\n"
       ]
      },
      {
       "output_type": "stream",
       "stream": "stdout",
       "text": [
        "\n",
        "[GridSearchCV] vect__ngram_range=(1, 1), vect__smooth_idf=True, vect__sublinear_tf=False, vect__binary=True, vect__min_df=2, vect__stop_words=None, vect__use_idf=True \n",
        "[GridSearchCV]  vect__ngram_range=(1, 1), vect__smooth_idf=True, vect__sublinear_tf=False, vect__binary=True, vect__min_df=2, vect__stop_words=None, vect__use_idf=True, score=0.849154 -   0.6s"
       ]
      },
      {
       "output_type": "stream",
       "stream": "stdout",
       "text": [
        "\n",
        "[GridSearchCV] vect__ngram_range=(1, 2), vect__smooth_idf=False, vect__sublinear_tf=False, vect__binary=True, vect__min_df=2, vect__stop_words=None, vect__use_idf=True \n",
        "[GridSearchCV]  vect__ngram_range=(1, 2), vect__smooth_idf=False, vect__sublinear_tf=False, vect__binary=True, vect__min_df=2, vect__stop_words=None, vect__use_idf=True, score=0.848266 -   1.9s"
       ]
      },
      {
       "output_type": "stream",
       "stream": "stdout",
       "text": [
        "\n",
        "[GridSearchCV] vect__ngram_range=(1, 2), vect__smooth_idf=False, vect__sublinear_tf=False, vect__binary=True, vect__min_df=2, vect__stop_words=None, vect__use_idf=True \n",
        "[GridSearchCV]  vect__ngram_range=(1, 2), vect__smooth_idf=False, vect__sublinear_tf=False, vect__binary=True, vect__min_df=2, vect__stop_words=None, vect__use_idf=True, score=0.849375 -   2.0s"
       ]
      },
      {
       "output_type": "stream",
       "stream": "stdout",
       "text": [
        "\n",
        "[GridSearchCV] vect__ngram_range=(1, 2), vect__smooth_idf=False, vect__sublinear_tf=False, vect__binary=True, vect__min_df=2, vect__stop_words=None, vect__use_idf=True \n",
        "[GridSearchCV]  vect__ngram_range=(1, 2), vect__smooth_idf=False, vect__sublinear_tf=False, vect__binary=True, vect__min_df=2, vect__stop_words=None, vect__use_idf=True, score=0.851824 -   1.8s"
       ]
      },
      {
       "output_type": "stream",
       "stream": "stdout",
       "text": [
        "\n",
        "[GridSearchCV] vect__ngram_range=(1, 2), vect__smooth_idf=True, vect__sublinear_tf=False, vect__binary=True, vect__min_df=2, vect__stop_words=None, vect__use_idf=True \n",
        "[GridSearchCV]  vect__ngram_range=(1, 2), vect__smooth_idf=True, vect__sublinear_tf=False, vect__binary=True, vect__min_df=2, vect__stop_words=None, vect__use_idf=True, score=0.846821 -   1.8s"
       ]
      },
      {
       "output_type": "stream",
       "stream": "stdout",
       "text": [
        "\n",
        "[GridSearchCV] vect__ngram_range=(1, 2), vect__smooth_idf=True, vect__sublinear_tf=False, vect__binary=True, vect__min_df=2, vect__stop_words=None, vect__use_idf=True \n",
        "[GridSearchCV]  vect__ngram_range=(1, 2), vect__smooth_idf=True, vect__sublinear_tf=False, vect__binary=True, vect__min_df=2, vect__stop_words=None, vect__use_idf=True, score=0.848752 -   1.8s"
       ]
      },
      {
       "output_type": "stream",
       "stream": "stdout",
       "text": [
        "\n",
        "[GridSearchCV] vect__ngram_range=(1, 2), vect__smooth_idf=True, vect__sublinear_tf=False, vect__binary=True, vect__min_df=2, vect__stop_words=None, vect__use_idf=True \n",
        "[GridSearchCV]  vect__ngram_range=(1, 2), vect__smooth_idf=True, vect__sublinear_tf=False, vect__binary=True, vect__min_df=2, vect__stop_words=None, vect__use_idf=True, score=0.853532 -   1.8s"
       ]
      },
      {
       "output_type": "stream",
       "stream": "stdout",
       "text": [
        "\n",
        "[GridSearchCV] vect__ngram_range=(1, 1), vect__smooth_idf=False, vect__sublinear_tf=False, vect__binary=True, vect__min_df=2, vect__stop_words=None, vect__use_idf=True \n",
        "[GridSearchCV]  vect__ngram_range=(1, 1), vect__smooth_idf=False, vect__sublinear_tf=False, vect__binary=True, vect__min_df=2, vect__stop_words=None, vect__use_idf=True, score=0.843478 -   0.8s"
       ]
      },
      {
       "output_type": "stream",
       "stream": "stderr",
       "text": [
        "[Parallel(n_jobs=1)]: Done   8 jobs       | elapsed:    7.6s\n",
        "[Parallel(n_jobs=1)]: Done  13 jobs       | elapsed:   15.7s\n"
       ]
      },
      {
       "output_type": "stream",
       "stream": "stdout",
       "text": [
        "\n",
        "[GridSearchCV] vect__ngram_range=(1, 1), vect__smooth_idf=False, vect__sublinear_tf=False, vect__binary=True, vect__min_df=2, vect__stop_words=None, vect__use_idf=True \n",
        "[GridSearchCV]  vect__ngram_range=(1, 1), vect__smooth_idf=False, vect__sublinear_tf=False, vect__binary=True, vect__min_df=2, vect__stop_words=None, vect__use_idf=True, score=0.844967 -   0.8s"
       ]
      },
      {
       "output_type": "stream",
       "stream": "stdout",
       "text": [
        "\n",
        "[GridSearchCV] vect__ngram_range=(1, 1), vect__smooth_idf=False, vect__sublinear_tf=False, vect__binary=True, vect__min_df=2, vect__stop_words=None, vect__use_idf=True \n",
        "[GridSearchCV]  vect__ngram_range=(1, 1), vect__smooth_idf=False, vect__sublinear_tf=False, vect__binary=True, vect__min_df=2, vect__stop_words=None, vect__use_idf=True, score=0.848931 -   0.6s"
       ]
      },
      {
       "output_type": "stream",
       "stream": "stdout",
       "text": [
        "\n",
        "[GridSearchCV] vect__ngram_range=(1, 1), vect__smooth_idf=True, vect__sublinear_tf=False, vect__binary=True, vect__min_df=2, vect__stop_words=None, vect__use_idf=True \n",
        "[GridSearchCV]  vect__ngram_range=(1, 1), vect__smooth_idf=True, vect__sublinear_tf=False, vect__binary=True, vect__min_df=2, vect__stop_words=None, vect__use_idf=True, score=0.842867 -   0.8s"
       ]
      },
      {
       "output_type": "stream",
       "stream": "stdout",
       "text": [
        "\n",
        "[GridSearchCV] vect__ngram_range=(1, 1), vect__smooth_idf=True, vect__sublinear_tf=False, vect__binary=True, vect__min_df=2, vect__stop_words=None, vect__use_idf=True \n",
        "[GridSearchCV]  vect__ngram_range=(1, 1), vect__smooth_idf=True, vect__sublinear_tf=False, vect__binary=True, vect__min_df=2, vect__stop_words=None, vect__use_idf=True, score=0.845588 -   0.6s"
       ]
      },
      {
       "output_type": "stream",
       "stream": "stdout",
       "text": [
        "\n",
        "[GridSearchCV] vect__ngram_range=(1, 1), vect__smooth_idf=True, vect__sublinear_tf=False, vect__binary=True, vect__min_df=2, vect__stop_words=None, vect__use_idf=True \n",
        "[GridSearchCV]  vect__ngram_range=(1, 1), vect__smooth_idf=True, vect__sublinear_tf=False, vect__binary=True, vect__min_df=2, vect__stop_words=None, vect__use_idf=True, score=0.849154 -   0.6s"
       ]
      },
      {
       "output_type": "stream",
       "stream": "stdout",
       "text": [
        "\n",
        "[GridSearchCV] vect__ngram_range=(1, 2), vect__smooth_idf=False, vect__sublinear_tf=False, vect__binary=True, vect__min_df=2, vect__stop_words=None, vect__use_idf=True \n",
        "[GridSearchCV]  vect__ngram_range=(1, 2), vect__smooth_idf=False, vect__sublinear_tf=False, vect__binary=True, vect__min_df=2, vect__stop_words=None, vect__use_idf=True, score=0.848266 -   1.8s"
       ]
      },
      {
       "output_type": "stream",
       "stream": "stdout",
       "text": [
        "\n",
        "[GridSearchCV] vect__ngram_range=(1, 2), vect__smooth_idf=False, vect__sublinear_tf=False, vect__binary=True, vect__min_df=2, vect__stop_words=None, vect__use_idf=True \n",
        "[GridSearchCV]  vect__ngram_range=(1, 2), vect__smooth_idf=False, vect__sublinear_tf=False, vect__binary=True, vect__min_df=2, vect__stop_words=None, vect__use_idf=True, score=0.849375 -   2.1s"
       ]
      },
      {
       "output_type": "stream",
       "stream": "stdout",
       "text": [
        "\n",
        "[GridSearchCV] vect__ngram_range=(1, 2), vect__smooth_idf=False, vect__sublinear_tf=False, vect__binary=True, vect__min_df=2, vect__stop_words=None, vect__use_idf=True \n",
        "[GridSearchCV]  vect__ngram_range=(1, 2), vect__smooth_idf=False, vect__sublinear_tf=False, vect__binary=True, vect__min_df=2, vect__stop_words=None, vect__use_idf=True, score=0.851824 -   1.8s"
       ]
      },
      {
       "output_type": "stream",
       "stream": "stdout",
       "text": [
        "\n",
        "[GridSearchCV] vect__ngram_range=(1, 2), vect__smooth_idf=True, vect__sublinear_tf=False, vect__binary=True, vect__min_df=2, vect__stop_words=None, vect__use_idf=True \n",
        "[GridSearchCV]  vect__ngram_range=(1, 2), vect__smooth_idf=True, vect__sublinear_tf=False, vect__binary=True, vect__min_df=2, vect__stop_words=None, vect__use_idf=True, score=0.846821 -   1.8s"
       ]
      },
      {
       "output_type": "stream",
       "stream": "stdout",
       "text": [
        "\n",
        "[GridSearchCV] vect__ngram_range=(1, 2), vect__smooth_idf=True, vect__sublinear_tf=False, vect__binary=True, vect__min_df=2, vect__stop_words=None, vect__use_idf=True \n",
        "[GridSearchCV]  vect__ngram_range=(1, 2), vect__smooth_idf=True, vect__sublinear_tf=False, vect__binary=True, vect__min_df=2, vect__stop_words=None, vect__use_idf=True, score=0.849375 -   2.1s"
       ]
      },
      {
       "output_type": "stream",
       "stream": "stdout",
       "text": [
        "\n",
        "[GridSearchCV] vect__ngram_range=(1, 2), vect__smooth_idf=True, vect__sublinear_tf=False, vect__binary=True, vect__min_df=2, vect__stop_words=None, vect__use_idf=True \n",
        "[GridSearchCV]  vect__ngram_range=(1, 2), vect__smooth_idf=True, vect__sublinear_tf=False, vect__binary=True, vect__min_df=2, vect__stop_words=None, vect__use_idf=True, score=0.853532 -   1.9s"
       ]
      },
      {
       "output_type": "stream",
       "stream": "stderr",
       "text": [
        "[Parallel(n_jobs=1)]: Done  18 jobs       | elapsed:   19.1s\n",
        "[Parallel(n_jobs=1)]: Done  24 out of  24 | elapsed:   30.8s finished\n"
       ]
      },
      {
       "output_type": "stream",
       "stream": "stdout",
       "text": [
        "\n"
       ]
      }
     ],
     "prompt_number": 80
    },
    {
     "cell_type": "code",
     "collapsed": false,
     "input": [
      "print clf.get_params()"
     ],
     "language": "python",
     "metadata": {},
     "outputs": [
      {
       "output_type": "stream",
       "stream": "stdout",
       "text": [
        "{'vect__smooth_idf': True, 'clf__multi_class': 'ovr', 'clf__verbose': 0, 'clf__random_state': None, 'clf__intercept_scaling': 1, 'vect__norm': u'l2', 'vect__charset': None, 'vect__charset_error': None, 'clf__penalty': 'l1', 'vect__analyzer': 'word', 'vect__max_df': 1.0, 'clf__tol': 0.0001, 'clf': LinearSVC(C=1.0, class_weight=None, dual=False, fit_intercept=True,\n",
        "     intercept_scaling=1, loss='l2', multi_class='ovr', penalty='l1',\n",
        "     random_state=None, tol=0.0001, verbose=0), 'vect__lowercase': True, 'vect__binary': True, 'vect__stop_words': None, 'vect__encoding': u'utf-8', 'vect__max_features': None, 'vect__dtype': <type 'numpy.int64'>, 'vect__strip_accents': None, 'vect__sublinear_tf': False, 'clf__dual': False, 'vect': TfidfVectorizer(analyzer='word', binary=True, charset=None,\n",
        "        charset_error=None, decode_error=u'strict',\n",
        "        dtype=<type 'numpy.int64'>, encoding=u'utf-8', input=u'content',\n",
        "        lowercase=True, max_df=1.0, max_features=None, min_df=2,\n",
        "        ngram_range=(1, 2), norm=u'l2', preprocessor=None, smooth_idf=True,\n",
        "        stop_words=None, strip_accents=None, sublinear_tf=False,\n",
        "        token_pattern=u'(?u)\\\\b\\\\w\\\\w+\\\\b', tokenizer=None, use_idf=True,\n",
        "        vocabulary=None), 'clf__loss': 'l2', 'vect__min_df': 2, 'vect__tokenizer': None, 'vect__use_idf': True, 'clf__C': 1.0, 'vect__input': u'content', 'vect__ngram_range': (1, 2), 'vect__preprocessor': None, 'vect__vocabulary': None, 'clf__fit_intercept': True, 'vect__decode_error': u'strict', 'clf__class_weight': None, 'vect__token_pattern': u'(?u)\\\\b\\\\w\\\\w+\\\\b'}\n"
       ]
      }
     ],
     "prompt_number": 81
    },
    {
     "cell_type": "code",
     "collapsed": false,
     "input": [
      "print 'Score on the training data: ', clf.score(X, y)\n",
      "print 'Score on the test data: ', clf.score(X_holdout, y_holdout)"
     ],
     "language": "python",
     "metadata": {},
     "outputs": [
      {
       "output_type": "stream",
       "stream": "stdout",
       "text": [
        "Score on the training data:  "
       ]
      },
      {
       "output_type": "stream",
       "stream": "stdout",
       "text": [
        "0.8999\n",
        "Score on the test data:  "
       ]
      },
      {
       "output_type": "stream",
       "stream": "stdout",
       "text": [
        "0.837536035272\n"
       ]
      }
     ],
     "prompt_number": 82
    },
    {
     "cell_type": "code",
     "collapsed": false,
     "input": [
      "y_pred = clf.predict(X_holdout)"
     ],
     "language": "python",
     "metadata": {},
     "outputs": [],
     "prompt_number": 71
    },
    {
     "cell_type": "code",
     "collapsed": false,
     "input": [
      "makeCM_plot(y_holdout, y_pred)"
     ],
     "language": "python",
     "metadata": {},
     "outputs": [
      {
       "ename": "ValueError",
       "evalue": "Found array with dim 276988. Expected 353820",
       "output_type": "pyerr",
       "traceback": [
        "\u001b[0;31m---------------------------------------------------------------------------\u001b[0m\n\u001b[0;31mValueError\u001b[0m                                Traceback (most recent call last)",
        "\u001b[0;32m<ipython-input-83-1ad26699d30e>\u001b[0m in \u001b[0;36m<module>\u001b[0;34m()\u001b[0m\n\u001b[0;32m----> 1\u001b[0;31m \u001b[0mmakeCM_plot\u001b[0m\u001b[0;34m(\u001b[0m\u001b[0my_holdout\u001b[0m\u001b[0;34m,\u001b[0m \u001b[0my_pred\u001b[0m\u001b[0;34m)\u001b[0m\u001b[0;34m\u001b[0m\u001b[0m\n\u001b[0m",
        "\u001b[0;32m<ipython-input-77-3d47af8e6d6c>\u001b[0m in \u001b[0;36mmakeCM_plot\u001b[0;34m(y_test, y_pred)\u001b[0m\n\u001b[1;32m     77\u001b[0m \u001b[0;34m\u001b[0m\u001b[0m\n\u001b[1;32m     78\u001b[0m \u001b[0;32mdef\u001b[0m \u001b[0mmakeCM_plot\u001b[0m\u001b[0;34m(\u001b[0m\u001b[0my_test\u001b[0m\u001b[0;34m,\u001b[0m \u001b[0my_pred\u001b[0m\u001b[0;34m)\u001b[0m\u001b[0;34m:\u001b[0m\u001b[0;34m\u001b[0m\u001b[0m\n\u001b[0;32m---> 79\u001b[0;31m     \u001b[0mcm\u001b[0m \u001b[0;34m=\u001b[0m \u001b[0mconfusion_matrix\u001b[0m\u001b[0;34m(\u001b[0m\u001b[0my_test\u001b[0m\u001b[0;34m,\u001b[0m \u001b[0my_pred\u001b[0m\u001b[0;34m)\u001b[0m\u001b[0;34m\u001b[0m\u001b[0m\n\u001b[0m\u001b[1;32m     80\u001b[0m     \u001b[0;32mprint\u001b[0m \u001b[0mcm\u001b[0m\u001b[0;34m\u001b[0m\u001b[0m\n\u001b[1;32m     81\u001b[0m     \u001b[0mplt\u001b[0m\u001b[0;34m.\u001b[0m\u001b[0mmatshow\u001b[0m\u001b[0;34m(\u001b[0m\u001b[0mcm\u001b[0m\u001b[0;34m)\u001b[0m\u001b[0;34m\u001b[0m\u001b[0m\n",
        "\u001b[0;32m/usr/local/lib/python2.7/site-packages/sklearn/metrics/metrics.pyc\u001b[0m in \u001b[0;36mconfusion_matrix\u001b[0;34m(y_true, y_pred, labels)\u001b[0m\n\u001b[1;32m    740\u001b[0m \u001b[0;34m\u001b[0m\u001b[0m\n\u001b[1;32m    741\u001b[0m     \"\"\"\n\u001b[0;32m--> 742\u001b[0;31m     \u001b[0my_type\u001b[0m\u001b[0;34m,\u001b[0m \u001b[0my_true\u001b[0m\u001b[0;34m,\u001b[0m \u001b[0my_pred\u001b[0m \u001b[0;34m=\u001b[0m \u001b[0m_check_clf_targets\u001b[0m\u001b[0;34m(\u001b[0m\u001b[0my_true\u001b[0m\u001b[0;34m,\u001b[0m \u001b[0my_pred\u001b[0m\u001b[0;34m)\u001b[0m\u001b[0;34m\u001b[0m\u001b[0m\n\u001b[0m\u001b[1;32m    743\u001b[0m     \u001b[0;32mif\u001b[0m \u001b[0my_type\u001b[0m \u001b[0;32mnot\u001b[0m \u001b[0;32min\u001b[0m \u001b[0;34m(\u001b[0m\u001b[0;34m\"binary\"\u001b[0m\u001b[0;34m,\u001b[0m \u001b[0;34m\"multiclass\"\u001b[0m\u001b[0;34m)\u001b[0m\u001b[0;34m:\u001b[0m\u001b[0;34m\u001b[0m\u001b[0m\n\u001b[1;32m    744\u001b[0m         \u001b[0;32mraise\u001b[0m \u001b[0mValueError\u001b[0m\u001b[0;34m(\u001b[0m\u001b[0;34m\"%s is not supported\"\u001b[0m \u001b[0;34m%\u001b[0m \u001b[0my_type\u001b[0m\u001b[0;34m)\u001b[0m\u001b[0;34m\u001b[0m\u001b[0m\n",
        "\u001b[0;32m/usr/local/lib/python2.7/site-packages/sklearn/metrics/metrics.pyc\u001b[0m in \u001b[0;36m_check_clf_targets\u001b[0;34m(y_true, y_pred)\u001b[0m\n\u001b[1;32m    103\u001b[0m     \u001b[0my_pred\u001b[0m \u001b[0;34m:\u001b[0m \u001b[0marray\u001b[0m \u001b[0;32mor\u001b[0m \u001b[0mindicator\u001b[0m \u001b[0mmatrix\u001b[0m \u001b[0;32mor\u001b[0m \u001b[0msequence\u001b[0m \u001b[0mof\u001b[0m \u001b[0msequences\u001b[0m\u001b[0;34m\u001b[0m\u001b[0m\n\u001b[1;32m    104\u001b[0m     \"\"\"\n\u001b[0;32m--> 105\u001b[0;31m     \u001b[0my_true\u001b[0m\u001b[0;34m,\u001b[0m \u001b[0my_pred\u001b[0m \u001b[0;34m=\u001b[0m \u001b[0mcheck_arrays\u001b[0m\u001b[0;34m(\u001b[0m\u001b[0my_true\u001b[0m\u001b[0;34m,\u001b[0m \u001b[0my_pred\u001b[0m\u001b[0;34m,\u001b[0m \u001b[0mallow_lists\u001b[0m\u001b[0;34m=\u001b[0m\u001b[0mTrue\u001b[0m\u001b[0;34m)\u001b[0m\u001b[0;34m\u001b[0m\u001b[0m\n\u001b[0m\u001b[1;32m    106\u001b[0m     \u001b[0mtype_true\u001b[0m \u001b[0;34m=\u001b[0m \u001b[0mtype_of_target\u001b[0m\u001b[0;34m(\u001b[0m\u001b[0my_true\u001b[0m\u001b[0;34m)\u001b[0m\u001b[0;34m\u001b[0m\u001b[0m\n\u001b[1;32m    107\u001b[0m     \u001b[0mtype_pred\u001b[0m \u001b[0;34m=\u001b[0m \u001b[0mtype_of_target\u001b[0m\u001b[0;34m(\u001b[0m\u001b[0my_pred\u001b[0m\u001b[0;34m)\u001b[0m\u001b[0;34m\u001b[0m\u001b[0m\n",
        "\u001b[0;32m/usr/local/lib/python2.7/site-packages/sklearn/utils/validation.pyc\u001b[0m in \u001b[0;36mcheck_arrays\u001b[0;34m(*arrays, **options)\u001b[0m\n\u001b[1;32m    209\u001b[0m         \u001b[0;32mif\u001b[0m \u001b[0msize\u001b[0m \u001b[0;34m!=\u001b[0m \u001b[0mn_samples\u001b[0m\u001b[0;34m:\u001b[0m\u001b[0;34m\u001b[0m\u001b[0m\n\u001b[1;32m    210\u001b[0m             raise ValueError(\"Found array with dim %d. Expected %d\"\n\u001b[0;32m--> 211\u001b[0;31m                              % (size, n_samples))\n\u001b[0m\u001b[1;32m    212\u001b[0m \u001b[0;34m\u001b[0m\u001b[0m\n\u001b[1;32m    213\u001b[0m         \u001b[0;32mif\u001b[0m \u001b[0;32mnot\u001b[0m \u001b[0mallow_lists\u001b[0m \u001b[0;32mor\u001b[0m \u001b[0mhasattr\u001b[0m\u001b[0;34m(\u001b[0m\u001b[0marray\u001b[0m\u001b[0;34m,\u001b[0m \u001b[0;34m\"shape\"\u001b[0m\u001b[0;34m)\u001b[0m\u001b[0;34m:\u001b[0m\u001b[0;34m\u001b[0m\u001b[0m\n",
        "\u001b[0;31mValueError\u001b[0m: Found array with dim 276988. Expected 353820"
       ]
      }
     ],
     "prompt_number": 83
    },
    {
     "cell_type": "code",
     "collapsed": false,
     "input": [
      "X_holdout.shape"
     ],
     "language": "python",
     "metadata": {},
     "outputs": [
      {
       "metadata": {},
       "output_type": "pyout",
       "prompt_number": 86,
       "text": [
        "(353820,)"
       ]
      }
     ],
     "prompt_number": 86
    },
    {
     "cell_type": "code",
     "collapsed": false,
     "input": [
      "y_holdout.shape"
     ],
     "language": "python",
     "metadata": {},
     "outputs": [
      {
       "metadata": {},
       "output_type": "pyout",
       "prompt_number": 87,
       "text": [
        "(353820,)"
       ]
      }
     ],
     "prompt_number": 87
    },
    {
     "cell_type": "code",
     "collapsed": false,
     "input": [
      "y_pred.shape"
     ],
     "language": "python",
     "metadata": {},
     "outputs": [
      {
       "metadata": {},
       "output_type": "pyout",
       "prompt_number": 88,
       "text": [
        "(276988,)"
       ]
      }
     ],
     "prompt_number": 88
    },
    {
     "cell_type": "code",
     "collapsed": false,
     "input": [],
     "language": "python",
     "metadata": {},
     "outputs": []
    }
   ],
   "metadata": {}
  }
 ]
}