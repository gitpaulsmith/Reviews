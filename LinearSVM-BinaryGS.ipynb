{
 "metadata": {
  "name": "",
  "signature": "sha256:a4e032f8d71a21e9d131bc8d09bff5d10d56672cadf0aa1e27d4f33f1dd9f266"
 },
 "nbformat": 3,
 "nbformat_minor": 0,
 "worksheets": [
  {
   "cells": [
    {
     "cell_type": "code",
     "collapsed": false,
     "input": [
      "#import pylab as pl\n",
      "import scipy\n",
      "import numpy as np\n",
      "import pandas as pd\n",
      "#pd.options.display.mpl_style = 'default'\n",
      "\n",
      "from time import time\n",
      "\n",
      "import matplotlib.pyplot as plt\n",
      "%matplotlib inline\n",
      "\n",
      "from sklearn.feature_extraction.text import CountVectorizer\n",
      "from sklearn.feature_extraction.text import TfidfVectorizer\n",
      "from sklearn.pipeline import Pipeline\n",
      "from sklearn import svm\n",
      "from sklearn.metrics import confusion_matrix, precision_recall_curve, auc\n",
      "from sklearn.cross_validation import ShuffleSplit, train_test_split\n",
      "\n",
      "from sklearn.grid_search import GridSearchCV\n",
      "from sklearn.metrics import f1_score\n",
      "\n",
      "\n",
      "def grid_search_model(clf_factory, X, Y):\n",
      "    #cv = ShuffleSplit(\n",
      "        #n=len(X), n_iter=10, test_size=0.3, indices=True, random_state=0)\n",
      "    X_train, X_test, y_train, y_test= train_test_split(X, Y, test_size=0.6, random_state=0)\n",
      "    \n",
      "    param_grid = dict(vect__ngram_range=[(1, 1), (1, 2)],\n",
      "                      vect__min_df=[1, 2],\n",
      "                      vect__stop_words=[None, 'english'],\n",
      "                      vect__smooth_idf=[False, True],\n",
      "                      vect__use_idf=[False, True],\n",
      "                      vect__sublinear_tf=[False, True],\n",
      "                      vect__binary=[False, True],\n",
      "                      #clf__alpha=[0, 0.01, 0.05, 0.1, 0.5, 1],\n",
      "                      )\n",
      "\n",
      "    grid_search = GridSearchCV(clf_factory(),\n",
      "                               param_grid=param_grid,\n",
      "                               score_func=f1_score,\n",
      "                               cv=3,\n",
      "                               verbose=10)\n",
      "    grid_search.fit(X_train,y_train) \n",
      " \n",
      "    return grid_search.best_estimator_\n",
      "\n",
      "\n",
      "def create_l1_LinearSVC():\n",
      "    tfidf_ngrams=TfidfVectorizer(ngram_range=(1,2),analyzer=\"word\",binary=False)\n",
      "    clf=svm.LinearSVC(loss='l2', penalty='l1', dual=False)\n",
      "    pipeline=Pipeline([('vect',tfidf_ngrams),('clf',clf)])\n",
      "    return pipeline\n",
      "\n",
      "\n",
      "def create_l2_LinearSVC():\n",
      "    tfidf_ngrams=TfidfVectorizer(ngram_range=(1,2),analyzer=\"word\",binary=False)\n",
      "    clf=svm.LinearSVC(loss='l2', penalty='l1', dual=False)\n",
      "    pipeline=Pipeline([('vect',tfidf_ngrams),('clf',clf)])\n",
      "    return pipeline\n",
      "\n",
      "    \n",
      "def decodeArray(text):\n",
      "    try:\n",
      "        return text.decode(\"utf-8\",\"replace\")\n",
      "    except:\n",
      "        return 0\n",
      "    \n",
      "    \n",
      "def makeCM_plot(y_test, y_pred):\n",
      "    cm = confusion_matrix(y_test, y_pred)\n",
      "    print cm\n",
      "    plt.matshow(cm)\n",
      "    plt.title('Confusion matrix')\n",
      "    plt.colorbar()\n",
      "    plt.ylabel('True label')\n",
      "    plt.xlabel('Predicted label')\n",
      "    plt.show()\n",
      "    \n",
      "    \n",
      "def makePR_plot(x,y):\n",
      "    plt.figure\n",
      "    plt.plot(x, y)\n",
      "    plt.xlabel('Recall')\n",
      "    plt.ylabel('Precision')\n",
      "    plt.ylim([0.0, 1.05])\n",
      "    plt.xlim([0.0, 1.0])\n",
      "    plt.title('Precision-Recall curve')\n",
      "    plt.fill_between(x,0,y)\n",
      "    plt.show()"
     ],
     "language": "python",
     "metadata": {},
     "outputs": [],
     "prompt_number": 19
    },
    {
     "cell_type": "code",
     "collapsed": false,
     "input": [
      "t0 = time() \n",
      "df = pd.read_csv('scrubbed_foods.csv','\\t!\\t')\n",
      "t1 = time()\n",
      "print 'Data load time: ', t1 - t0\n",
      "\n",
      "print 'Shape before dropping duplicates: ', df.shape\n",
      "df = df.drop_duplicates('text')\n",
      "print 'Shape after dropping duplicates: ', df.shape"
     ],
     "language": "python",
     "metadata": {},
     "outputs": [
      {
       "output_type": "stream",
       "stream": "stdout",
       "text": [
        "Data load time:  8.766299963\n",
        "Shape before dropping duplicates:  (568447, 8)\n",
        "Shape after dropping duplicates: "
       ]
      },
      {
       "output_type": "stream",
       "stream": "stdout",
       "text": [
        " (393573, 8)\n"
       ]
      },
      {
       "output_type": "stream",
       "stream": "stderr",
       "text": [
        "/usr/local/lib/python2.7/site-packages/pandas/io/parsers.py:615: ParserWarning: Falling back to the 'python' engine because the 'c' engine does not support regex separators; you can avoid this warning by specifying engine='python'.\n",
        "  ParserWarning)\n"
       ]
      }
     ],
     "prompt_number": 2
    },
    {
     "cell_type": "code",
     "collapsed": false,
     "input": [
      "df_24stars=pd.DataFrame(df[(df['score']==2) | (df['score']==4)],columns=['score','text'])\n",
      "df_15stars=pd.DataFrame(df[(df['score']==1) | (df['score']==5)],columns=['score','text'])\n",
      "\n",
      "sampleSize=10000\n",
      "sampleStart=200000\n",
      "\n",
      "pieces=[df_15stars[df_15stars['score']==5][:sampleSize/2],df_15stars[df_15stars['score']==1][:sampleSize/2]]\n",
      "final_df=pd.concat(pieces)\n",
      "final_df=final_df.reindex(np.random.permutation(final_df.index))\n",
      "X=final_df['text'].apply(decodeArray)\n",
      "Y=final_df['score']"
     ],
     "language": "python",
     "metadata": {},
     "outputs": [],
     "prompt_number": 3
    },
    {
     "cell_type": "code",
     "collapsed": false,
     "input": [
      "clf=grid_search_model(create_l1_LinearSVC,X,Y)"
     ],
     "language": "python",
     "metadata": {},
     "outputs": [
      {
       "output_type": "stream",
       "stream": "stdout",
       "text": [
        "Fitting 3 folds for each of 128 candidates, totalling 384 fits\n",
        "[GridSearchCV] vect__ngram_range=(1, 1), vect__smooth_idf=False, vect__sublinear_tf=False, vect__binary=False, vect__min_df=1, vect__stop_words=None, vect__use_idf=False \n",
        "[GridSearchCV]  vect__ngram_range=(1, 1), vect__smooth_idf=False, vect__sublinear_tf=False, vect__binary=False, vect__min_df=1, vect__stop_words=None, vect__use_idf=False, score=0.860327 -   0.6s"
       ]
      },
      {
       "output_type": "stream",
       "stream": "stderr",
       "text": [
        "/usr/local/lib/python2.7/site-packages/sklearn/grid_search.py:466: DeprecationWarning: Passing function as ``score_func`` is deprecated and will be removed in 0.15. Either use strings or score objects.The relevant new parameter is called ''scoring''.\n",
        "  self.loss_func, self.score_func, self.scoring)\n",
        "[Parallel(n_jobs=1)]: Done   1 jobs       | elapsed:    0.6s\n"
       ]
      },
      {
       "output_type": "stream",
       "stream": "stdout",
       "text": [
        "\n",
        "[GridSearchCV] vect__ngram_range=(1, 1), vect__smooth_idf=False, vect__sublinear_tf=False, vect__binary=False, vect__min_df=1, vect__stop_words=None, vect__use_idf=False \n",
        "[GridSearchCV]  vect__ngram_range=(1, 1), vect__smooth_idf=False, vect__sublinear_tf=False, vect__binary=False, vect__min_df=1, vect__stop_words=None, vect__use_idf=False, score=0.874063 -   0.7s"
       ]
      },
      {
       "output_type": "stream",
       "stream": "stdout",
       "text": [
        "\n",
        "[GridSearchCV] vect__ngram_range=(1, 1), vect__smooth_idf=False, vect__sublinear_tf=False, vect__binary=False, vect__min_df=1, vect__stop_words=None, vect__use_idf=False \n",
        "[GridSearchCV]  vect__ngram_range=(1, 1), vect__smooth_idf=False, vect__sublinear_tf=False, vect__binary=False, vect__min_df=1, vect__stop_words=None, vect__use_idf=False, score=0.856928 -   0.7s"
       ]
      },
      {
       "output_type": "stream",
       "stream": "stdout",
       "text": [
        "\n",
        "[GridSearchCV] vect__ngram_range=(1, 1), vect__smooth_idf=False, vect__sublinear_tf=False, vect__binary=False, vect__min_df=1, vect__stop_words=None, vect__use_idf=True \n",
        "[GridSearchCV]  vect__ngram_range=(1, 1), vect__smooth_idf=False, vect__sublinear_tf=False, vect__binary=False, vect__min_df=1, vect__stop_words=None, vect__use_idf=True, score=0.869888 -   0.5s"
       ]
      },
      {
       "output_type": "stream",
       "stream": "stdout",
       "text": [
        "\n",
        "[GridSearchCV] vect__ngram_range=(1, 1), vect__smooth_idf=False, vect__sublinear_tf=False, vect__binary=False, vect__min_df=1, vect__stop_words=None, vect__use_idf=True \n",
        "[GridSearchCV]  vect__ngram_range=(1, 1), vect__smooth_idf=False, vect__sublinear_tf=False, vect__binary=False, vect__min_df=1, vect__stop_words=None, vect__use_idf=True, score=0.884731 -   0.5s"
       ]
      },
      {
       "output_type": "stream",
       "stream": "stderr",
       "text": [
        "[Parallel(n_jobs=1)]: Done   2 jobs       | elapsed:    1.3s\n",
        "[Parallel(n_jobs=1)]: Done   5 jobs       | elapsed:    3.1s\n"
       ]
      },
      {
       "output_type": "stream",
       "stream": "stdout",
       "text": [
        "\n",
        "[GridSearchCV] vect__ngram_range=(1, 1), vect__smooth_idf=False, vect__sublinear_tf=False, vect__binary=False, vect__min_df=1, vect__stop_words=None, vect__use_idf=True \n",
        "[GridSearchCV]  vect__ngram_range=(1, 1), vect__smooth_idf=False, vect__sublinear_tf=False, vect__binary=False, vect__min_df=1, vect__stop_words=None, vect__use_idf=True, score=0.868322 -   0.6s"
       ]
      },
      {
       "output_type": "stream",
       "stream": "stdout",
       "text": [
        "\n",
        "[GridSearchCV] vect__ngram_range=(1, 1), vect__smooth_idf=False, vect__sublinear_tf=True, vect__binary=False, vect__min_df=1, vect__stop_words=None, vect__use_idf=False \n",
        "[GridSearchCV]  vect__ngram_range=(1, 1), vect__smooth_idf=False, vect__sublinear_tf=True, vect__binary=False, vect__min_df=1, vect__stop_words=None, vect__use_idf=False, score=0.856719 -   0.5s"
       ]
      },
      {
       "output_type": "stream",
       "stream": "stdout",
       "text": [
        "\n",
        "[GridSearchCV] vect__ngram_range=(1, 1), vect__smooth_idf=False, vect__sublinear_tf=True, vect__binary=False, vect__min_df=1, vect__stop_words=None, vect__use_idf=False \n",
        "[GridSearchCV]  vect__ngram_range=(1, 1), vect__smooth_idf=False, vect__sublinear_tf=True, vect__binary=False, vect__min_df=1, vect__stop_words=None, vect__use_idf=False, score=0.881381 -   0.7s"
       ]
      },
      {
       "output_type": "stream",
       "stream": "stdout",
       "text": [
        "\n",
        "[GridSearchCV] vect__ngram_range=(1, 1), vect__smooth_idf=False, vect__sublinear_tf=True, vect__binary=False, vect__min_df=1, vect__stop_words=None, vect__use_idf=False \n",
        "[GridSearchCV]  vect__ngram_range=(1, 1), vect__smooth_idf=False, vect__sublinear_tf=True, vect__binary=False, vect__min_df=1, vect__stop_words=None, vect__use_idf=False, score=0.854310 -   0.7s"
       ]
      },
      {
       "output_type": "stream",
       "stream": "stdout",
       "text": [
        "\n",
        "[GridSearchCV] vect__ngram_range=(1, 1), vect__smooth_idf=False, vect__sublinear_tf=True, vect__binary=False, vect__min_df=1, vect__stop_words=None, vect__use_idf=True \n",
        "[GridSearchCV]  vect__ngram_range=(1, 1), vect__smooth_idf=False, vect__sublinear_tf=True, vect__binary=False, vect__min_df=1, vect__stop_words=None, vect__use_idf=True, score=0.864143 -   0.6s"
       ]
      },
      {
       "output_type": "stream",
       "stream": "stdout",
       "text": [
        "\n",
        "[GridSearchCV] vect__ngram_range=(1, 1), vect__smooth_idf=False, vect__sublinear_tf=True, vect__binary=False, vect__min_df=1, vect__stop_words=None, vect__use_idf=True \n",
        "[GridSearchCV]  vect__ngram_range=(1, 1), vect__smooth_idf=False, vect__sublinear_tf=True, vect__binary=False, vect__min_df=1, vect__stop_words=None, vect__use_idf=True, score=0.890217 -   0.8s"
       ]
      },
      {
       "output_type": "stream",
       "stream": "stdout",
       "text": [
        "\n",
        "[GridSearchCV] vect__ngram_range=(1, 1), vect__smooth_idf=False, vect__sublinear_tf=True, vect__binary=False, vect__min_df=1, vect__stop_words=None, vect__use_idf=True \n",
        "[GridSearchCV]  vect__ngram_range=(1, 1), vect__smooth_idf=False, vect__sublinear_tf=True, vect__binary=False, vect__min_df=1, vect__stop_words=None, vect__use_idf=True, score=0.869237 -   0.7s"
       ]
      },
      {
       "output_type": "stream",
       "stream": "stdout",
       "text": [
        "\n",
        "[GridSearchCV] vect__ngram_range=(1, 1), vect__smooth_idf=False, vect__sublinear_tf=False, vect__binary=False, vect__min_df=1, vect__stop_words=english, vect__use_idf=False \n",
        "[GridSearchCV]  vect__ngram_range=(1, 1), vect__smooth_idf=False, vect__sublinear_tf=False, vect__binary=False, vect__min_df=1, vect__stop_words=english, vect__use_idf=False, score=0.850299 -   0.5s"
       ]
      },
      {
       "output_type": "stream",
       "stream": "stderr",
       "text": [
        "[Parallel(n_jobs=1)]: Done   8 jobs       | elapsed:    4.9s\n",
        "[Parallel(n_jobs=1)]: Done  13 jobs       | elapsed:    8.1s\n"
       ]
      },
      {
       "output_type": "stream",
       "stream": "stdout",
       "text": [
        "\n",
        "[GridSearchCV] vect__ngram_range=(1, 1), vect__smooth_idf=False, vect__sublinear_tf=False, vect__binary=False, vect__min_df=1, vect__stop_words=english, vect__use_idf=False \n",
        "[GridSearchCV]  vect__ngram_range=(1, 1), vect__smooth_idf=False, vect__sublinear_tf=False, vect__binary=False, vect__min_df=1, vect__stop_words=english, vect__use_idf=False, score=0.873512 -   0.5s"
       ]
      },
      {
       "output_type": "stream",
       "stream": "stdout",
       "text": [
        "\n",
        "[GridSearchCV] vect__ngram_range=(1, 1), vect__smooth_idf=False, vect__sublinear_tf=False, vect__binary=False, vect__min_df=1, vect__stop_words=english, vect__use_idf=False \n",
        "[GridSearchCV]  vect__ngram_range=(1, 1), vect__smooth_idf=False, vect__sublinear_tf=False, vect__binary=False, vect__min_df=1, vect__stop_words=english, vect__use_idf=False, score=0.839506 -   0.6s"
       ]
      },
      {
       "output_type": "stream",
       "stream": "stdout",
       "text": [
        "\n",
        "[GridSearchCV] vect__ngram_range=(1, 1), vect__smooth_idf=False, vect__sublinear_tf=False, vect__binary=False, vect__min_df=1, vect__stop_words=english, vect__use_idf=True \n",
        "[GridSearchCV]  vect__ngram_range=(1, 1), vect__smooth_idf=False, vect__sublinear_tf=False, vect__binary=False, vect__min_df=1, vect__stop_words=english, vect__use_idf=True, score=0.856716 -   0.5s"
       ]
      },
      {
       "output_type": "stream",
       "stream": "stdout",
       "text": [
        "\n",
        "[GridSearchCV] vect__ngram_range=(1, 1), vect__smooth_idf=False, vect__sublinear_tf=False, vect__binary=False, vect__min_df=1, vect__stop_words=english, vect__use_idf=True \n",
        "[GridSearchCV]  vect__ngram_range=(1, 1), vect__smooth_idf=False, vect__sublinear_tf=False, vect__binary=False, vect__min_df=1, vect__stop_words=english, vect__use_idf=True, score=0.870412 -   0.6s"
       ]
      },
      {
       "output_type": "stream",
       "stream": "stdout",
       "text": [
        "\n",
        "[GridSearchCV] vect__ngram_range=(1, 1), vect__smooth_idf=False, vect__sublinear_tf=False, vect__binary=False, vect__min_df=1, vect__stop_words=english, vect__use_idf=True \n",
        "[GridSearchCV]  vect__ngram_range=(1, 1), vect__smooth_idf=False, vect__sublinear_tf=False, vect__binary=False, vect__min_df=1, vect__stop_words=english, vect__use_idf=True, score=0.849273 -   0.7s"
       ]
      },
      {
       "output_type": "stream",
       "stream": "stdout",
       "text": [
        "\n",
        "[GridSearchCV] vect__ngram_range=(1, 1), vect__smooth_idf=False, vect__sublinear_tf=True, vect__binary=False, vect__min_df=1, vect__stop_words=english, vect__use_idf=False \n",
        "[GridSearchCV]  vect__ngram_range=(1, 1), vect__smooth_idf=False, vect__sublinear_tf=True, vect__binary=False, vect__min_df=1, vect__stop_words=english, vect__use_idf=False, score=0.847712 -   0.5s"
       ]
      },
      {
       "output_type": "stream",
       "stream": "stdout",
       "text": [
        "\n",
        "[GridSearchCV] vect__ngram_range=(1, 1), vect__smooth_idf=False, vect__sublinear_tf=True, vect__binary=False, vect__min_df=1, vect__stop_words=english, vect__use_idf=False \n",
        "[GridSearchCV]  vect__ngram_range=(1, 1), vect__smooth_idf=False, vect__sublinear_tf=True, vect__binary=False, vect__min_df=1, vect__stop_words=english, vect__use_idf=False, score=0.878449 -   0.5s"
       ]
      },
      {
       "output_type": "stream",
       "stream": "stdout",
       "text": [
        "\n",
        "[GridSearchCV] vect__ngram_range=(1, 1), vect__smooth_idf=False, vect__sublinear_tf=True, vect__binary=False, vect__min_df=1, vect__stop_words=english, vect__use_idf=False \n",
        "[GridSearchCV]  vect__ngram_range=(1, 1), vect__smooth_idf=False, vect__sublinear_tf=True, vect__binary=False, vect__min_df=1, vect__stop_words=english, vect__use_idf=False, score=0.852308 -   0.5s"
       ]
      },
      {
       "output_type": "stream",
       "stream": "stdout",
       "text": [
        "\n",
        "[GridSearchCV] vect__ngram_range=(1, 1), vect__smooth_idf=False, vect__sublinear_tf=True, vect__binary=False, vect__min_df=1, vect__stop_words=english, vect__use_idf=True \n",
        "[GridSearchCV]  vect__ngram_range=(1, 1), vect__smooth_idf=False, vect__sublinear_tf=True, vect__binary=False, vect__min_df=1, vect__stop_words=english, vect__use_idf=True, score=0.857997 -   0.5s"
       ]
      },
      {
       "output_type": "stream",
       "stream": "stdout",
       "text": [
        "\n",
        "[GridSearchCV] vect__ngram_range=(1, 1), vect__smooth_idf=False, vect__sublinear_tf=True, vect__binary=False, vect__min_df=1, vect__stop_words=english, vect__use_idf=True \n",
        "[GridSearchCV]  vect__ngram_range=(1, 1), vect__smooth_idf=False, vect__sublinear_tf=True, vect__binary=False, vect__min_df=1, vect__stop_words=english, vect__use_idf=True, score=0.875186 -   0.5s"
       ]
      },
      {
       "output_type": "stream",
       "stream": "stdout",
       "text": [
        "\n",
        "[GridSearchCV] vect__ngram_range=(1, 1), vect__smooth_idf=False, vect__sublinear_tf=True, vect__binary=False, vect__min_df=1, vect__stop_words=english, vect__use_idf=True \n",
        "[GridSearchCV]  vect__ngram_range=(1, 1), vect__smooth_idf=False, vect__sublinear_tf=True, vect__binary=False, vect__min_df=1, vect__stop_words=english, vect__use_idf=True, score=0.859112 -   0.5s"
       ]
      },
      {
       "output_type": "stream",
       "stream": "stdout",
       "text": [
        "\n",
        "[GridSearchCV] vect__ngram_range=(1, 1), vect__smooth_idf=True, vect__sublinear_tf=False, vect__binary=False, vect__min_df=1, vect__stop_words=None, vect__use_idf=False \n",
        "[GridSearchCV]  vect__ngram_range=(1, 1), vect__smooth_idf=True, vect__sublinear_tf=False, vect__binary=False, vect__min_df=1, vect__stop_words=None, vect__use_idf=False, score=0.860327 -   0.7s"
       ]
      },
      {
       "output_type": "stream",
       "stream": "stderr",
       "text": [
        "[Parallel(n_jobs=1)]: Done  18 jobs       | elapsed:   10.9s\n",
        "[Parallel(n_jobs=1)]: Done  25 jobs       | elapsed:   14.7s\n"
       ]
      },
      {
       "output_type": "stream",
       "stream": "stdout",
       "text": [
        "\n",
        "[GridSearchCV] vect__ngram_range=(1, 1), vect__smooth_idf=True, vect__sublinear_tf=False, vect__binary=False, vect__min_df=1, vect__stop_words=None, vect__use_idf=False \n",
        "[GridSearchCV]  vect__ngram_range=(1, 1), vect__smooth_idf=True, vect__sublinear_tf=False, vect__binary=False, vect__min_df=1, vect__stop_words=None, vect__use_idf=False, score=0.874063 -   0.7s"
       ]
      },
      {
       "output_type": "stream",
       "stream": "stdout",
       "text": [
        "\n",
        "[GridSearchCV] vect__ngram_range=(1, 1), vect__smooth_idf=True, vect__sublinear_tf=False, vect__binary=False, vect__min_df=1, vect__stop_words=None, vect__use_idf=False \n",
        "[GridSearchCV]  vect__ngram_range=(1, 1), vect__smooth_idf=True, vect__sublinear_tf=False, vect__binary=False, vect__min_df=1, vect__stop_words=None, vect__use_idf=False, score=0.856928 -   0.8s"
       ]
      },
      {
       "output_type": "stream",
       "stream": "stdout",
       "text": [
        "\n",
        "[GridSearchCV] vect__ngram_range=(1, 1), vect__smooth_idf=True, vect__sublinear_tf=False, vect__binary=False, vect__min_df=1, vect__stop_words=None, vect__use_idf=True \n",
        "[GridSearchCV]  vect__ngram_range=(1, 1), vect__smooth_idf=True, vect__sublinear_tf=False, vect__binary=False, vect__min_df=1, vect__stop_words=None, vect__use_idf=True, score=0.870728 -   0.7s"
       ]
      },
      {
       "output_type": "stream",
       "stream": "stdout",
       "text": [
        "\n",
        "[GridSearchCV] vect__ngram_range=(1, 1), vect__smooth_idf=True, vect__sublinear_tf=False, vect__binary=False, vect__min_df=1, vect__stop_words=None, vect__use_idf=True \n",
        "[GridSearchCV]  vect__ngram_range=(1, 1), vect__smooth_idf=True, vect__sublinear_tf=False, vect__binary=False, vect__min_df=1, vect__stop_words=None, vect__use_idf=True, score=0.885393 -   0.6s"
       ]
      },
      {
       "output_type": "stream",
       "stream": "stdout",
       "text": [
        "\n",
        "[GridSearchCV] vect__ngram_range=(1, 1), vect__smooth_idf=True, vect__sublinear_tf=False, vect__binary=False, vect__min_df=1, vect__stop_words=None, vect__use_idf=True \n",
        "[GridSearchCV]  vect__ngram_range=(1, 1), vect__smooth_idf=True, vect__sublinear_tf=False, vect__binary=False, vect__min_df=1, vect__stop_words=None, vect__use_idf=True, score=0.869631 -   0.6s"
       ]
      },
      {
       "output_type": "stream",
       "stream": "stdout",
       "text": [
        "\n",
        "[GridSearchCV] vect__ngram_range=(1, 1), vect__smooth_idf=True, vect__sublinear_tf=True, vect__binary=False, vect__min_df=1, vect__stop_words=None, vect__use_idf=False \n",
        "[GridSearchCV]  vect__ngram_range=(1, 1), vect__smooth_idf=True, vect__sublinear_tf=True, vect__binary=False, vect__min_df=1, vect__stop_words=None, vect__use_idf=False, score=0.857567 -   0.7s"
       ]
      },
      {
       "output_type": "stream",
       "stream": "stdout",
       "text": [
        "\n",
        "[GridSearchCV] vect__ngram_range=(1, 1), vect__smooth_idf=True, vect__sublinear_tf=True, vect__binary=False, vect__min_df=1, vect__stop_words=None, vect__use_idf=False \n",
        "[GridSearchCV]  vect__ngram_range=(1, 1), vect__smooth_idf=True, vect__sublinear_tf=True, vect__binary=False, vect__min_df=1, vect__stop_words=None, vect__use_idf=False, score=0.881381 -   0.6s"
       ]
      },
      {
       "output_type": "stream",
       "stream": "stdout",
       "text": [
        "\n",
        "[GridSearchCV] vect__ngram_range=(1, 1), vect__smooth_idf=True, vect__sublinear_tf=True, vect__binary=False, vect__min_df=1, vect__stop_words=None, vect__use_idf=False \n",
        "[GridSearchCV]  vect__ngram_range=(1, 1), vect__smooth_idf=True, vect__sublinear_tf=True, vect__binary=False, vect__min_df=1, vect__stop_words=None, vect__use_idf=False, score=0.854310 -   0.6s"
       ]
      },
      {
       "output_type": "stream",
       "stream": "stdout",
       "text": [
        "\n",
        "[GridSearchCV] vect__ngram_range=(1, 1), vect__smooth_idf=True, vect__sublinear_tf=True, vect__binary=False, vect__min_df=1, vect__stop_words=None, vect__use_idf=True \n",
        "[GridSearchCV]  vect__ngram_range=(1, 1), vect__smooth_idf=True, vect__sublinear_tf=True, vect__binary=False, vect__min_df=1, vect__stop_words=None, vect__use_idf=True, score=0.863501 -   0.6s"
       ]
      },
      {
       "output_type": "stream",
       "stream": "stdout",
       "text": [
        "\n",
        "[GridSearchCV] vect__ngram_range=(1, 1), vect__smooth_idf=True, vect__sublinear_tf=True, vect__binary=False, vect__min_df=1, vect__stop_words=None, vect__use_idf=True \n",
        "[GridSearchCV]  vect__ngram_range=(1, 1), vect__smooth_idf=True, vect__sublinear_tf=True, vect__binary=False, vect__min_df=1, vect__stop_words=None, vect__use_idf=True, score=0.890052 -   0.6s"
       ]
      },
      {
       "output_type": "stream",
       "stream": "stdout",
       "text": [
        "\n",
        "[GridSearchCV] vect__ngram_range=(1, 1), vect__smooth_idf=True, vect__sublinear_tf=True, vect__binary=False, vect__min_df=1, vect__stop_words=None, vect__use_idf=True \n",
        "[GridSearchCV]  vect__ngram_range=(1, 1), vect__smooth_idf=True, vect__sublinear_tf=True, vect__binary=False, vect__min_df=1, vect__stop_words=None, vect__use_idf=True, score=0.870091 -   0.6s"
       ]
      },
      {
       "output_type": "stream",
       "stream": "stdout",
       "text": [
        "\n",
        "[GridSearchCV] vect__ngram_range=(1, 1), vect__smooth_idf=True, vect__sublinear_tf=False, vect__binary=False, vect__min_df=1, vect__stop_words=english, vect__use_idf=False \n",
        "[GridSearchCV]  vect__ngram_range=(1, 1), vect__smooth_idf=True, vect__sublinear_tf=False, vect__binary=False, vect__min_df=1, vect__stop_words=english, vect__use_idf=False, score=0.850299 -   0.5s"
       ]
      },
      {
       "output_type": "stream",
       "stream": "stdout",
       "text": [
        "\n",
        "[GridSearchCV] vect__ngram_range=(1, 1), vect__smooth_idf=True, vect__sublinear_tf=False, vect__binary=False, vect__min_df=1, vect__stop_words=english, vect__use_idf=False \n",
        "[GridSearchCV]  vect__ngram_range=(1, 1), vect__smooth_idf=True, vect__sublinear_tf=False, vect__binary=False, vect__min_df=1, vect__stop_words=english, vect__use_idf=False, score=0.873512 -   0.5s"
       ]
      },
      {
       "output_type": "stream",
       "stream": "stdout",
       "text": [
        "\n",
        "[GridSearchCV] vect__ngram_range=(1, 1), vect__smooth_idf=True, vect__sublinear_tf=False, vect__binary=False, vect__min_df=1, vect__stop_words=english, vect__use_idf=False \n",
        "[GridSearchCV]  vect__ngram_range=(1, 1), vect__smooth_idf=True, vect__sublinear_tf=False, vect__binary=False, vect__min_df=1, vect__stop_words=english, vect__use_idf=False, score=0.839506 -   0.5s"
       ]
      },
      {
       "output_type": "stream",
       "stream": "stdout",
       "text": [
        "\n",
        "[GridSearchCV] vect__ngram_range=(1, 1), vect__smooth_idf=True, vect__sublinear_tf=False, vect__binary=False, vect__min_df=1, vect__stop_words=english, vect__use_idf=True \n",
        "[GridSearchCV]  vect__ngram_range=(1, 1), vect__smooth_idf=True, vect__sublinear_tf=False, vect__binary=False, vect__min_df=1, vect__stop_words=english, vect__use_idf=True, score=0.858420 -   0.5s"
       ]
      },
      {
       "output_type": "stream",
       "stream": "stdout",
       "text": [
        "\n",
        "[GridSearchCV] vect__ngram_range=(1, 1), vect__smooth_idf=True, vect__sublinear_tf=False, vect__binary=False, vect__min_df=1, vect__stop_words=english, vect__use_idf=True \n",
        "[GridSearchCV]  vect__ngram_range=(1, 1), vect__smooth_idf=True, vect__sublinear_tf=False, vect__binary=False, vect__min_df=1, vect__stop_words=english, vect__use_idf=True, score=0.868914 -   0.5s"
       ]
      },
      {
       "output_type": "stream",
       "stream": "stderr",
       "text": [
        "[Parallel(n_jobs=1)]: Done  32 jobs       | elapsed:   19.5s\n",
        "[Parallel(n_jobs=1)]: Done  41 jobs       | elapsed:   24.4s\n"
       ]
      },
      {
       "output_type": "stream",
       "stream": "stdout",
       "text": [
        "\n",
        "[GridSearchCV] vect__ngram_range=(1, 1), vect__smooth_idf=True, vect__sublinear_tf=False, vect__binary=False, vect__min_df=1, vect__stop_words=english, vect__use_idf=True \n",
        "[GridSearchCV]  vect__ngram_range=(1, 1), vect__smooth_idf=True, vect__sublinear_tf=False, vect__binary=False, vect__min_df=1, vect__stop_words=english, vect__use_idf=True, score=0.849462 -   0.5s"
       ]
      },
      {
       "output_type": "stream",
       "stream": "stdout",
       "text": [
        "\n",
        "[GridSearchCV] vect__ngram_range=(1, 1), vect__smooth_idf=True, vect__sublinear_tf=True, vect__binary=False, vect__min_df=1, vect__stop_words=english, vect__use_idf=False \n",
        "[GridSearchCV]  vect__ngram_range=(1, 1), vect__smooth_idf=True, vect__sublinear_tf=True, vect__binary=False, vect__min_df=1, vect__stop_words=english, vect__use_idf=False, score=0.847712 -   0.5s"
       ]
      },
      {
       "output_type": "stream",
       "stream": "stdout",
       "text": [
        "\n",
        "[GridSearchCV] vect__ngram_range=(1, 1), vect__smooth_idf=True, vect__sublinear_tf=True, vect__binary=False, vect__min_df=1, vect__stop_words=english, vect__use_idf=False \n",
        "[GridSearchCV]  vect__ngram_range=(1, 1), vect__smooth_idf=True, vect__sublinear_tf=True, vect__binary=False, vect__min_df=1, vect__stop_words=english, vect__use_idf=False, score=0.878449 -   0.5s"
       ]
      },
      {
       "output_type": "stream",
       "stream": "stdout",
       "text": [
        "\n",
        "[GridSearchCV] vect__ngram_range=(1, 1), vect__smooth_idf=True, vect__sublinear_tf=True, vect__binary=False, vect__min_df=1, vect__stop_words=english, vect__use_idf=False \n",
        "[GridSearchCV]  vect__ngram_range=(1, 1), vect__smooth_idf=True, vect__sublinear_tf=True, vect__binary=False, vect__min_df=1, vect__stop_words=english, vect__use_idf=False, score=0.852308 -   0.5s"
       ]
      },
      {
       "output_type": "stream",
       "stream": "stdout",
       "text": [
        "\n",
        "[GridSearchCV] vect__ngram_range=(1, 1), vect__smooth_idf=True, vect__sublinear_tf=True, vect__binary=False, vect__min_df=1, vect__stop_words=english, vect__use_idf=True \n",
        "[GridSearchCV]  vect__ngram_range=(1, 1), vect__smooth_idf=True, vect__sublinear_tf=True, vect__binary=False, vect__min_df=1, vect__stop_words=english, vect__use_idf=True, score=0.857356 -   0.5s"
       ]
      },
      {
       "output_type": "stream",
       "stream": "stdout",
       "text": [
        "\n",
        "[GridSearchCV] vect__ngram_range=(1, 1), vect__smooth_idf=True, vect__sublinear_tf=True, vect__binary=False, vect__min_df=1, vect__stop_words=english, vect__use_idf=True \n",
        "[GridSearchCV]  vect__ngram_range=(1, 1), vect__smooth_idf=True, vect__sublinear_tf=True, vect__binary=False, vect__min_df=1, vect__stop_words=english, vect__use_idf=True, score=0.876488 -   0.5s"
       ]
      },
      {
       "output_type": "stream",
       "stream": "stdout",
       "text": [
        "\n",
        "[GridSearchCV] vect__ngram_range=(1, 1), vect__smooth_idf=True, vect__sublinear_tf=True, vect__binary=False, vect__min_df=1, vect__stop_words=english, vect__use_idf=True \n",
        "[GridSearchCV]  vect__ngram_range=(1, 1), vect__smooth_idf=True, vect__sublinear_tf=True, vect__binary=False, vect__min_df=1, vect__stop_words=english, vect__use_idf=True, score=0.856705 -   0.6s"
       ]
      },
      {
       "output_type": "stream",
       "stream": "stdout",
       "text": [
        "\n",
        "[GridSearchCV] vect__ngram_range=(1, 2), vect__smooth_idf=False, vect__sublinear_tf=False, vect__binary=False, vect__min_df=1, vect__stop_words=None, vect__use_idf=False \n",
        "[GridSearchCV]  vect__ngram_range=(1, 2), vect__smooth_idf=False, vect__sublinear_tf=False, vect__binary=False, vect__min_df=1, vect__stop_words=None, vect__use_idf=False, score=0.860947 -   2.1s"
       ]
      },
      {
       "output_type": "stream",
       "stream": "stdout",
       "text": [
        "\n",
        "[GridSearchCV] vect__ngram_range=(1, 2), vect__smooth_idf=False, vect__sublinear_tf=False, vect__binary=False, vect__min_df=1, vect__stop_words=None, vect__use_idf=False \n",
        "[GridSearchCV]  vect__ngram_range=(1, 2), vect__smooth_idf=False, vect__sublinear_tf=False, vect__binary=False, vect__min_df=1, vect__stop_words=None, vect__use_idf=False, score=0.874439 -   2.0s"
       ]
      },
      {
       "output_type": "stream",
       "stream": "stdout",
       "text": [
        "\n",
        "[GridSearchCV] vect__ngram_range=(1, 2), vect__smooth_idf=False, vect__sublinear_tf=False, vect__binary=False, vect__min_df=1, vect__stop_words=None, vect__use_idf=False \n",
        "[GridSearchCV]  vect__ngram_range=(1, 2), vect__smooth_idf=False, vect__sublinear_tf=False, vect__binary=False, vect__min_df=1, vect__stop_words=None, vect__use_idf=False, score=0.854545 -   1.9s"
       ]
      },
      {
       "output_type": "stream",
       "stream": "stdout",
       "text": [
        "\n",
        "[GridSearchCV] vect__ngram_range=(1, 2), vect__smooth_idf=False, vect__sublinear_tf=False, vect__binary=False, vect__min_df=1, vect__stop_words=None, vect__use_idf=True \n",
        "[GridSearchCV]  vect__ngram_range=(1, 2), vect__smooth_idf=False, vect__sublinear_tf=False, vect__binary=False, vect__min_df=1, vect__stop_words=None, vect__use_idf=True, score=0.868925 -   1.8s"
       ]
      },
      {
       "output_type": "stream",
       "stream": "stdout",
       "text": [
        "\n",
        "[GridSearchCV] vect__ngram_range=(1, 2), vect__smooth_idf=False, vect__sublinear_tf=False, vect__binary=False, vect__min_df=1, vect__stop_words=None, vect__use_idf=True \n",
        "[GridSearchCV]  vect__ngram_range=(1, 2), vect__smooth_idf=False, vect__sublinear_tf=False, vect__binary=False, vect__min_df=1, vect__stop_words=None, vect__use_idf=True, score=0.883895 -   1.8s"
       ]
      },
      {
       "output_type": "stream",
       "stream": "stdout",
       "text": [
        "\n",
        "[GridSearchCV] vect__ngram_range=(1, 2), vect__smooth_idf=False, vect__sublinear_tf=False, vect__binary=False, vect__min_df=1, vect__stop_words=None, vect__use_idf=True \n",
        "[GridSearchCV]  vect__ngram_range=(1, 2), vect__smooth_idf=False, vect__sublinear_tf=False, vect__binary=False, vect__min_df=1, vect__stop_words=None, vect__use_idf=True, score=0.861048 -   1.8s"
       ]
      },
      {
       "output_type": "stream",
       "stream": "stdout",
       "text": [
        "\n",
        "[GridSearchCV] vect__ngram_range=(1, 2), vect__smooth_idf=False, vect__sublinear_tf=True, vect__binary=False, vect__min_df=1, vect__stop_words=None, vect__use_idf=False \n",
        "[GridSearchCV]  vect__ngram_range=(1, 2), vect__smooth_idf=False, vect__sublinear_tf=True, vect__binary=False, vect__min_df=1, vect__stop_words=None, vect__use_idf=False, score=0.859050 -   1.8s"
       ]
      },
      {
       "output_type": "stream",
       "stream": "stdout",
       "text": [
        "\n",
        "[GridSearchCV] vect__ngram_range=(1, 2), vect__smooth_idf=False, vect__sublinear_tf=True, vect__binary=False, vect__min_df=1, vect__stop_words=None, vect__use_idf=False \n",
        "[GridSearchCV]  vect__ngram_range=(1, 2), vect__smooth_idf=False, vect__sublinear_tf=True, vect__binary=False, vect__min_df=1, vect__stop_words=None, vect__use_idf=False, score=0.877061 -   1.9s"
       ]
      },
      {
       "output_type": "stream",
       "stream": "stdout",
       "text": [
        "\n",
        "[GridSearchCV] vect__ngram_range=(1, 2), vect__smooth_idf=False, vect__sublinear_tf=True, vect__binary=False, vect__min_df=1, vect__stop_words=None, vect__use_idf=False \n",
        "[GridSearchCV]  vect__ngram_range=(1, 2), vect__smooth_idf=False, vect__sublinear_tf=True, vect__binary=False, vect__min_df=1, vect__stop_words=None, vect__use_idf=False, score=0.857360 -   1.9s"
       ]
      },
      {
       "output_type": "stream",
       "stream": "stdout",
       "text": [
        "\n",
        "[GridSearchCV] vect__ngram_range=(1, 2), vect__smooth_idf=False, vect__sublinear_tf=True, vect__binary=False, vect__min_df=1, vect__stop_words=None, vect__use_idf=True \n",
        "[GridSearchCV]  vect__ngram_range=(1, 2), vect__smooth_idf=False, vect__sublinear_tf=True, vect__binary=False, vect__min_df=1, vect__stop_words=None, vect__use_idf=True, score=0.866864 -   1.8s"
       ]
      },
      {
       "output_type": "stream",
       "stream": "stdout",
       "text": [
        "\n",
        "[GridSearchCV] vect__ngram_range=(1, 2), vect__smooth_idf=False, vect__sublinear_tf=True, vect__binary=False, vect__min_df=1, vect__stop_words=None, vect__use_idf=True \n",
        "[GridSearchCV]  vect__ngram_range=(1, 2), vect__smooth_idf=False, vect__sublinear_tf=True, vect__binary=False, vect__min_df=1, vect__stop_words=None, vect__use_idf=True, score=0.888222 -   1.8s"
       ]
      },
      {
       "output_type": "stream",
       "stream": "stdout",
       "text": [
        "\n",
        "[GridSearchCV] vect__ngram_range=(1, 2), vect__smooth_idf=False, vect__sublinear_tf=True, vect__binary=False, vect__min_df=1, vect__stop_words=None, vect__use_idf=True \n",
        "[GridSearchCV]  vect__ngram_range=(1, 2), vect__smooth_idf=False, vect__sublinear_tf=True, vect__binary=False, vect__min_df=1, vect__stop_words=None, vect__use_idf=True, score=0.865194 -   1.8s"
       ]
      },
      {
       "output_type": "stream",
       "stream": "stdout",
       "text": [
        "\n",
        "[GridSearchCV] vect__ngram_range=(1, 2), vect__smooth_idf=False, vect__sublinear_tf=False, vect__binary=False, vect__min_df=1, vect__stop_words=english, vect__use_idf=False \n",
        "[GridSearchCV]  vect__ngram_range=(1, 2), vect__smooth_idf=False, vect__sublinear_tf=False, vect__binary=False, vect__min_df=1, vect__stop_words=english, vect__use_idf=False, score=0.848120 -   1.2s"
       ]
      },
      {
       "output_type": "stream",
       "stream": "stderr",
       "text": [
        "[Parallel(n_jobs=1)]: Done  50 jobs       | elapsed:   32.2s\n",
        "[Parallel(n_jobs=1)]: Done  61 jobs       | elapsed:   52.1s\n"
       ]
      },
      {
       "output_type": "stream",
       "stream": "stdout",
       "text": [
        "\n",
        "[GridSearchCV] vect__ngram_range=(1, 2), vect__smooth_idf=False, vect__sublinear_tf=False, vect__binary=False, vect__min_df=1, vect__stop_words=english, vect__use_idf=False \n",
        "[GridSearchCV]  vect__ngram_range=(1, 2), vect__smooth_idf=False, vect__sublinear_tf=False, vect__binary=False, vect__min_df=1, vect__stop_words=english, vect__use_idf=False, score=0.876320 -   1.3s"
       ]
      },
      {
       "output_type": "stream",
       "stream": "stdout",
       "text": [
        "\n",
        "[GridSearchCV] vect__ngram_range=(1, 2), vect__smooth_idf=False, vect__sublinear_tf=False, vect__binary=False, vect__min_df=1, vect__stop_words=english, vect__use_idf=False \n",
        "[GridSearchCV]  vect__ngram_range=(1, 2), vect__smooth_idf=False, vect__sublinear_tf=False, vect__binary=False, vect__min_df=1, vect__stop_words=english, vect__use_idf=False, score=0.845617 -   1.3s"
       ]
      },
      {
       "output_type": "stream",
       "stream": "stdout",
       "text": [
        "\n",
        "[GridSearchCV] vect__ngram_range=(1, 2), vect__smooth_idf=False, vect__sublinear_tf=False, vect__binary=False, vect__min_df=1, vect__stop_words=english, vect__use_idf=True \n",
        "[GridSearchCV]  vect__ngram_range=(1, 2), vect__smooth_idf=False, vect__sublinear_tf=False, vect__binary=False, vect__min_df=1, vect__stop_words=english, vect__use_idf=True, score=0.844106 -   1.3s"
       ]
      },
      {
       "output_type": "stream",
       "stream": "stdout",
       "text": [
        "\n",
        "[GridSearchCV] vect__ngram_range=(1, 2), vect__smooth_idf=False, vect__sublinear_tf=False, vect__binary=False, vect__min_df=1, vect__stop_words=english, vect__use_idf=True \n",
        "[GridSearchCV]  vect__ngram_range=(1, 2), vect__smooth_idf=False, vect__sublinear_tf=False, vect__binary=False, vect__min_df=1, vect__stop_words=english, vect__use_idf=True, score=0.870229 -   1.3s"
       ]
      },
      {
       "output_type": "stream",
       "stream": "stdout",
       "text": [
        "\n",
        "[GridSearchCV] vect__ngram_range=(1, 2), vect__smooth_idf=False, vect__sublinear_tf=False, vect__binary=False, vect__min_df=1, vect__stop_words=english, vect__use_idf=True \n",
        "[GridSearchCV]  vect__ngram_range=(1, 2), vect__smooth_idf=False, vect__sublinear_tf=False, vect__binary=False, vect__min_df=1, vect__stop_words=english, vect__use_idf=True, score=0.843411 -   1.3s"
       ]
      },
      {
       "output_type": "stream",
       "stream": "stdout",
       "text": [
        "\n",
        "[GridSearchCV] vect__ngram_range=(1, 2), vect__smooth_idf=False, vect__sublinear_tf=True, vect__binary=False, vect__min_df=1, vect__stop_words=english, vect__use_idf=False \n",
        "[GridSearchCV]  vect__ngram_range=(1, 2), vect__smooth_idf=False, vect__sublinear_tf=True, vect__binary=False, vect__min_df=1, vect__stop_words=english, vect__use_idf=False, score=0.851740 -   1.3s"
       ]
      },
      {
       "output_type": "stream",
       "stream": "stdout",
       "text": [
        "\n",
        "[GridSearchCV] vect__ngram_range=(1, 2), vect__smooth_idf=False, vect__sublinear_tf=True, vect__binary=False, vect__min_df=1, vect__stop_words=english, vect__use_idf=False \n",
        "[GridSearchCV]  vect__ngram_range=(1, 2), vect__smooth_idf=False, vect__sublinear_tf=True, vect__binary=False, vect__min_df=1, vect__stop_words=english, vect__use_idf=False, score=0.871795 -   1.3s"
       ]
      },
      {
       "output_type": "stream",
       "stream": "stdout",
       "text": [
        "\n",
        "[GridSearchCV] vect__ngram_range=(1, 2), vect__smooth_idf=False, vect__sublinear_tf=True, vect__binary=False, vect__min_df=1, vect__stop_words=english, vect__use_idf=False \n",
        "[GridSearchCV]  vect__ngram_range=(1, 2), vect__smooth_idf=False, vect__sublinear_tf=True, vect__binary=False, vect__min_df=1, vect__stop_words=english, vect__use_idf=False, score=0.856478 -   1.3s"
       ]
      },
      {
       "output_type": "stream",
       "stream": "stdout",
       "text": [
        "\n",
        "[GridSearchCV] vect__ngram_range=(1, 2), vect__smooth_idf=False, vect__sublinear_tf=True, vect__binary=False, vect__min_df=1, vect__stop_words=english, vect__use_idf=True \n",
        "[GridSearchCV]  vect__ngram_range=(1, 2), vect__smooth_idf=False, vect__sublinear_tf=True, vect__binary=False, vect__min_df=1, vect__stop_words=english, vect__use_idf=True, score=0.846037 -   1.3s"
       ]
      },
      {
       "output_type": "stream",
       "stream": "stdout",
       "text": [
        "\n",
        "[GridSearchCV] vect__ngram_range=(1, 2), vect__smooth_idf=False, vect__sublinear_tf=True, vect__binary=False, vect__min_df=1, vect__stop_words=english, vect__use_idf=True \n",
        "[GridSearchCV]  vect__ngram_range=(1, 2), vect__smooth_idf=False, vect__sublinear_tf=True, vect__binary=False, vect__min_df=1, vect__stop_words=english, vect__use_idf=True, score=0.873004 -   1.3s"
       ]
      },
      {
       "output_type": "stream",
       "stream": "stdout",
       "text": [
        "\n",
        "[GridSearchCV] vect__ngram_range=(1, 2), vect__smooth_idf=False, vect__sublinear_tf=True, vect__binary=False, vect__min_df=1, vect__stop_words=english, vect__use_idf=True \n",
        "[GridSearchCV]  vect__ngram_range=(1, 2), vect__smooth_idf=False, vect__sublinear_tf=True, vect__binary=False, vect__min_df=1, vect__stop_words=english, vect__use_idf=True, score=0.849571 -   1.3s"
       ]
      },
      {
       "output_type": "stream",
       "stream": "stdout",
       "text": [
        "\n",
        "[GridSearchCV] vect__ngram_range=(1, 2), vect__smooth_idf=True, vect__sublinear_tf=False, vect__binary=False, vect__min_df=1, vect__stop_words=None, vect__use_idf=False \n",
        "[GridSearchCV]  vect__ngram_range=(1, 2), vect__smooth_idf=True, vect__sublinear_tf=False, vect__binary=False, vect__min_df=1, vect__stop_words=None, vect__use_idf=False, score=0.860947 -   1.9s"
       ]
      },
      {
       "output_type": "stream",
       "stream": "stdout",
       "text": [
        "\n",
        "[GridSearchCV] vect__ngram_range=(1, 2), vect__smooth_idf=True, vect__sublinear_tf=False, vect__binary=False, vect__min_df=1, vect__stop_words=None, vect__use_idf=False \n",
        "[GridSearchCV]  vect__ngram_range=(1, 2), vect__smooth_idf=True, vect__sublinear_tf=False, vect__binary=False, vect__min_df=1, vect__stop_words=None, vect__use_idf=False, score=0.874439 -   1.8s"
       ]
      },
      {
       "output_type": "stream",
       "stream": "stdout",
       "text": [
        "\n",
        "[GridSearchCV] vect__ngram_range=(1, 2), vect__smooth_idf=True, vect__sublinear_tf=False, vect__binary=False, vect__min_df=1, vect__stop_words=None, vect__use_idf=False \n",
        "[GridSearchCV]  vect__ngram_range=(1, 2), vect__smooth_idf=True, vect__sublinear_tf=False, vect__binary=False, vect__min_df=1, vect__stop_words=None, vect__use_idf=False, score=0.854545 -   1.8s"
       ]
      },
      {
       "output_type": "stream",
       "stream": "stdout",
       "text": [
        "\n",
        "[GridSearchCV] vect__ngram_range=(1, 2), vect__smooth_idf=True, vect__sublinear_tf=False, vect__binary=False, vect__min_df=1, vect__stop_words=None, vect__use_idf=True \n",
        "[GridSearchCV]  vect__ngram_range=(1, 2), vect__smooth_idf=True, vect__sublinear_tf=False, vect__binary=False, vect__min_df=1, vect__stop_words=None, vect__use_idf=True, score=0.870849 -   1.8s"
       ]
      },
      {
       "output_type": "stream",
       "stream": "stdout",
       "text": [
        "\n",
        "[GridSearchCV] vect__ngram_range=(1, 2), vect__smooth_idf=True, vect__sublinear_tf=False, vect__binary=False, vect__min_df=1, vect__stop_words=None, vect__use_idf=True \n",
        "[GridSearchCV]  vect__ngram_range=(1, 2), vect__smooth_idf=True, vect__sublinear_tf=False, vect__binary=False, vect__min_df=1, vect__stop_words=None, vect__use_idf=True, score=0.885565 -   1.8s"
       ]
      },
      {
       "output_type": "stream",
       "stream": "stdout",
       "text": [
        "\n",
        "[GridSearchCV] vect__ngram_range=(1, 2), vect__smooth_idf=True, vect__sublinear_tf=False, vect__binary=False, vect__min_df=1, vect__stop_words=None, vect__use_idf=True \n",
        "[GridSearchCV]  vect__ngram_range=(1, 2), vect__smooth_idf=True, vect__sublinear_tf=False, vect__binary=False, vect__min_df=1, vect__stop_words=None, vect__use_idf=True, score=0.862566 -   1.8s"
       ]
      },
      {
       "output_type": "stream",
       "stream": "stdout",
       "text": [
        "\n",
        "[GridSearchCV] vect__ngram_range=(1, 2), vect__smooth_idf=True, vect__sublinear_tf=True, vect__binary=False, vect__min_df=1, vect__stop_words=None, vect__use_idf=False \n",
        "[GridSearchCV]  vect__ngram_range=(1, 2), vect__smooth_idf=True, vect__sublinear_tf=True, vect__binary=False, vect__min_df=1, vect__stop_words=None, vect__use_idf=False, score=0.859050 -   1.8s"
       ]
      },
      {
       "output_type": "stream",
       "stream": "stdout",
       "text": [
        "\n",
        "[GridSearchCV] vect__ngram_range=(1, 2), vect__smooth_idf=True, vect__sublinear_tf=True, vect__binary=False, vect__min_df=1, vect__stop_words=None, vect__use_idf=False \n",
        "[GridSearchCV]  vect__ngram_range=(1, 2), vect__smooth_idf=True, vect__sublinear_tf=True, vect__binary=False, vect__min_df=1, vect__stop_words=None, vect__use_idf=False, score=0.877061 -   1.9s"
       ]
      },
      {
       "output_type": "stream",
       "stream": "stdout",
       "text": [
        "\n",
        "[GridSearchCV] vect__ngram_range=(1, 2), vect__smooth_idf=True, vect__sublinear_tf=True, vect__binary=False, vect__min_df=1, vect__stop_words=None, vect__use_idf=False \n",
        "[GridSearchCV]  vect__ngram_range=(1, 2), vect__smooth_idf=True, vect__sublinear_tf=True, vect__binary=False, vect__min_df=1, vect__stop_words=None, vect__use_idf=False, score=0.857360 -   1.9s"
       ]
      },
      {
       "output_type": "stream",
       "stream": "stdout",
       "text": [
        "\n",
        "[GridSearchCV] vect__ngram_range=(1, 2), vect__smooth_idf=True, vect__sublinear_tf=True, vect__binary=False, vect__min_df=1, vect__stop_words=None, vect__use_idf=True \n",
        "[GridSearchCV]  vect__ngram_range=(1, 2), vect__smooth_idf=True, vect__sublinear_tf=True, vect__binary=False, vect__min_df=1, vect__stop_words=None, vect__use_idf=True, score=0.870015 -   1.8s"
       ]
      },
      {
       "output_type": "stream",
       "stream": "stdout",
       "text": [
        "\n",
        "[GridSearchCV] vect__ngram_range=(1, 2), vect__smooth_idf=True, vect__sublinear_tf=True, vect__binary=False, vect__min_df=1, vect__stop_words=None, vect__use_idf=True \n",
        "[GridSearchCV]  vect__ngram_range=(1, 2), vect__smooth_idf=True, vect__sublinear_tf=True, vect__binary=False, vect__min_df=1, vect__stop_words=None, vect__use_idf=True, score=0.888390 -   1.8s"
       ]
      },
      {
       "output_type": "stream",
       "stream": "stdout",
       "text": [
        "\n",
        "[GridSearchCV] vect__ngram_range=(1, 2), vect__smooth_idf=True, vect__sublinear_tf=True, vect__binary=False, vect__min_df=1, vect__stop_words=None, vect__use_idf=True \n",
        "[GridSearchCV]  vect__ngram_range=(1, 2), vect__smooth_idf=True, vect__sublinear_tf=True, vect__binary=False, vect__min_df=1, vect__stop_words=None, vect__use_idf=True, score=0.867378 -   1.9s"
       ]
      },
      {
       "output_type": "stream",
       "stream": "stdout",
       "text": [
        "\n",
        "[GridSearchCV] vect__ngram_range=(1, 2), vect__smooth_idf=True, vect__sublinear_tf=False, vect__binary=False, vect__min_df=1, vect__stop_words=english, vect__use_idf=False \n",
        "[GridSearchCV]  vect__ngram_range=(1, 2), vect__smooth_idf=True, vect__sublinear_tf=False, vect__binary=False, vect__min_df=1, vect__stop_words=english, vect__use_idf=False, score=0.848120 -   1.3s"
       ]
      },
      {
       "output_type": "stream",
       "stream": "stderr",
       "text": [
        "[Parallel(n_jobs=1)]: Done  72 jobs       | elapsed:  1.1min\n",
        "[Parallel(n_jobs=1)]: Done  85 jobs       | elapsed:  1.5min\n"
       ]
      },
      {
       "output_type": "stream",
       "stream": "stdout",
       "text": [
        "\n",
        "[GridSearchCV] vect__ngram_range=(1, 2), vect__smooth_idf=True, vect__sublinear_tf=False, vect__binary=False, vect__min_df=1, vect__stop_words=english, vect__use_idf=False \n",
        "[GridSearchCV]  vect__ngram_range=(1, 2), vect__smooth_idf=True, vect__sublinear_tf=False, vect__binary=False, vect__min_df=1, vect__stop_words=english, vect__use_idf=False, score=0.875659 -   1.3s"
       ]
      },
      {
       "output_type": "stream",
       "stream": "stdout",
       "text": [
        "\n",
        "[GridSearchCV] vect__ngram_range=(1, 2), vect__smooth_idf=True, vect__sublinear_tf=False, vect__binary=False, vect__min_df=1, vect__stop_words=english, vect__use_idf=False \n",
        "[GridSearchCV]  vect__ngram_range=(1, 2), vect__smooth_idf=True, vect__sublinear_tf=False, vect__binary=False, vect__min_df=1, vect__stop_words=english, vect__use_idf=False, score=0.845617 -   1.3s"
       ]
      },
      {
       "output_type": "stream",
       "stream": "stdout",
       "text": [
        "\n",
        "[GridSearchCV] vect__ngram_range=(1, 2), vect__smooth_idf=True, vect__sublinear_tf=False, vect__binary=False, vect__min_df=1, vect__stop_words=english, vect__use_idf=True \n",
        "[GridSearchCV]  vect__ngram_range=(1, 2), vect__smooth_idf=True, vect__sublinear_tf=False, vect__binary=False, vect__min_df=1, vect__stop_words=english, vect__use_idf=True, score=0.846737 -   1.3s"
       ]
      },
      {
       "output_type": "stream",
       "stream": "stdout",
       "text": [
        "\n",
        "[GridSearchCV] vect__ngram_range=(1, 2), vect__smooth_idf=True, vect__sublinear_tf=False, vect__binary=False, vect__min_df=1, vect__stop_words=english, vect__use_idf=True \n",
        "[GridSearchCV]  vect__ngram_range=(1, 2), vect__smooth_idf=True, vect__sublinear_tf=False, vect__binary=False, vect__min_df=1, vect__stop_words=english, vect__use_idf=True, score=0.871091 -   1.3s"
       ]
      },
      {
       "output_type": "stream",
       "stream": "stdout",
       "text": [
        "\n",
        "[GridSearchCV] vect__ngram_range=(1, 2), vect__smooth_idf=True, vect__sublinear_tf=False, vect__binary=False, vect__min_df=1, vect__stop_words=english, vect__use_idf=True \n",
        "[GridSearchCV]  vect__ngram_range=(1, 2), vect__smooth_idf=True, vect__sublinear_tf=False, vect__binary=False, vect__min_df=1, vect__stop_words=english, vect__use_idf=True, score=0.848297 -   1.3s"
       ]
      },
      {
       "output_type": "stream",
       "stream": "stdout",
       "text": [
        "\n",
        "[GridSearchCV] vect__ngram_range=(1, 2), vect__smooth_idf=True, vect__sublinear_tf=True, vect__binary=False, vect__min_df=1, vect__stop_words=english, vect__use_idf=False \n",
        "[GridSearchCV]  vect__ngram_range=(1, 2), vect__smooth_idf=True, vect__sublinear_tf=True, vect__binary=False, vect__min_df=1, vect__stop_words=english, vect__use_idf=False, score=0.851740 -   1.3s"
       ]
      },
      {
       "output_type": "stream",
       "stream": "stdout",
       "text": [
        "\n",
        "[GridSearchCV] vect__ngram_range=(1, 2), vect__smooth_idf=True, vect__sublinear_tf=True, vect__binary=False, vect__min_df=1, vect__stop_words=english, vect__use_idf=False \n",
        "[GridSearchCV]  vect__ngram_range=(1, 2), vect__smooth_idf=True, vect__sublinear_tf=True, vect__binary=False, vect__min_df=1, vect__stop_words=english, vect__use_idf=False, score=0.872645 -   1.3s"
       ]
      },
      {
       "output_type": "stream",
       "stream": "stdout",
       "text": [
        "\n",
        "[GridSearchCV] vect__ngram_range=(1, 2), vect__smooth_idf=True, vect__sublinear_tf=True, vect__binary=False, vect__min_df=1, vect__stop_words=english, vect__use_idf=False \n",
        "[GridSearchCV]  vect__ngram_range=(1, 2), vect__smooth_idf=True, vect__sublinear_tf=True, vect__binary=False, vect__min_df=1, vect__stop_words=english, vect__use_idf=False, score=0.856478 -   1.8s"
       ]
      },
      {
       "output_type": "stream",
       "stream": "stdout",
       "text": [
        "\n",
        "[GridSearchCV] vect__ngram_range=(1, 2), vect__smooth_idf=True, vect__sublinear_tf=True, vect__binary=False, vect__min_df=1, vect__stop_words=english, vect__use_idf=True \n",
        "[GridSearchCV]  vect__ngram_range=(1, 2), vect__smooth_idf=True, vect__sublinear_tf=True, vect__binary=False, vect__min_df=1, vect__stop_words=english, vect__use_idf=True, score=0.846037 -   1.5s"
       ]
      },
      {
       "output_type": "stream",
       "stream": "stdout",
       "text": [
        "\n",
        "[GridSearchCV] vect__ngram_range=(1, 2), vect__smooth_idf=True, vect__sublinear_tf=True, vect__binary=False, vect__min_df=1, vect__stop_words=english, vect__use_idf=True \n",
        "[GridSearchCV]  vect__ngram_range=(1, 2), vect__smooth_idf=True, vect__sublinear_tf=True, vect__binary=False, vect__min_df=1, vect__stop_words=english, vect__use_idf=True, score=0.875569 -   1.5s"
       ]
      },
      {
       "output_type": "stream",
       "stream": "stdout",
       "text": [
        "\n",
        "[GridSearchCV] vect__ngram_range=(1, 2), vect__smooth_idf=True, vect__sublinear_tf=True, vect__binary=False, vect__min_df=1, vect__stop_words=english, vect__use_idf=True \n",
        "[GridSearchCV]  vect__ngram_range=(1, 2), vect__smooth_idf=True, vect__sublinear_tf=True, vect__binary=False, vect__min_df=1, vect__stop_words=english, vect__use_idf=True, score=0.848012 -   1.4s"
       ]
      },
      {
       "output_type": "stream",
       "stream": "stdout",
       "text": [
        "\n",
        "[GridSearchCV] vect__ngram_range=(1, 1), vect__smooth_idf=False, vect__sublinear_tf=False, vect__binary=False, vect__min_df=2, vect__stop_words=None, vect__use_idf=False \n",
        "[GridSearchCV]  vect__ngram_range=(1, 1), vect__smooth_idf=False, vect__sublinear_tf=False, vect__binary=False, vect__min_df=2, vect__stop_words=None, vect__use_idf=False, score=0.859480 -   0.7s"
       ]
      },
      {
       "output_type": "stream",
       "stream": "stdout",
       "text": [
        "\n",
        "[GridSearchCV] vect__ngram_range=(1, 1), vect__smooth_idf=False, vect__sublinear_tf=False, vect__binary=False, vect__min_df=2, vect__stop_words=None, vect__use_idf=False \n",
        "[GridSearchCV]  vect__ngram_range=(1, 1), vect__smooth_idf=False, vect__sublinear_tf=False, vect__binary=False, vect__min_df=2, vect__stop_words=None, vect__use_idf=False, score=0.874439 -   0.7s"
       ]
      },
      {
       "output_type": "stream",
       "stream": "stdout",
       "text": [
        "\n",
        "[GridSearchCV] vect__ngram_range=(1, 1), vect__smooth_idf=False, vect__sublinear_tf=False, vect__binary=False, vect__min_df=2, vect__stop_words=None, vect__use_idf=False \n",
        "[GridSearchCV]  vect__ngram_range=(1, 1), vect__smooth_idf=False, vect__sublinear_tf=False, vect__binary=False, vect__min_df=2, vect__stop_words=None, vect__use_idf=False, score=0.857573 -   1.0s"
       ]
      },
      {
       "output_type": "stream",
       "stream": "stdout",
       "text": [
        "\n",
        "[GridSearchCV] vect__ngram_range=(1, 1), vect__smooth_idf=False, vect__sublinear_tf=False, vect__binary=False, vect__min_df=2, vect__stop_words=None, vect__use_idf=True \n",
        "[GridSearchCV]  vect__ngram_range=(1, 1), vect__smooth_idf=False, vect__sublinear_tf=False, vect__binary=False, vect__min_df=2, vect__stop_words=None, vect__use_idf=True, score=0.871375 -   0.8s"
       ]
      },
      {
       "output_type": "stream",
       "stream": "stdout",
       "text": [
        "\n",
        "[GridSearchCV] vect__ngram_range=(1, 1), vect__smooth_idf=False, vect__sublinear_tf=False, vect__binary=False, vect__min_df=2, vect__stop_words=None, vect__use_idf=True \n",
        "[GridSearchCV]  vect__ngram_range=(1, 1), vect__smooth_idf=False, vect__sublinear_tf=False, vect__binary=False, vect__min_df=2, vect__stop_words=None, vect__use_idf=True, score=0.885906 -   0.8s"
       ]
      },
      {
       "output_type": "stream",
       "stream": "stdout",
       "text": [
        "\n",
        "[GridSearchCV] vect__ngram_range=(1, 1), vect__smooth_idf=False, vect__sublinear_tf=False, vect__binary=False, vect__min_df=2, vect__stop_words=None, vect__use_idf=True \n",
        "[GridSearchCV]  vect__ngram_range=(1, 1), vect__smooth_idf=False, vect__sublinear_tf=False, vect__binary=False, vect__min_df=2, vect__stop_words=None, vect__use_idf=True, score=0.865964 -   0.7s"
       ]
      },
      {
       "output_type": "stream",
       "stream": "stdout",
       "text": [
        "\n",
        "[GridSearchCV] vect__ngram_range=(1, 1), vect__smooth_idf=False, vect__sublinear_tf=True, vect__binary=False, vect__min_df=2, vect__stop_words=None, vect__use_idf=False \n",
        "[GridSearchCV]  vect__ngram_range=(1, 1), vect__smooth_idf=False, vect__sublinear_tf=True, vect__binary=False, vect__min_df=2, vect__stop_words=None, vect__use_idf=False, score=0.858203 -   0.9s"
       ]
      },
      {
       "output_type": "stream",
       "stream": "stdout",
       "text": [
        "\n",
        "[GridSearchCV] vect__ngram_range=(1, 1), vect__smooth_idf=False, vect__sublinear_tf=True, vect__binary=False, vect__min_df=2, vect__stop_words=None, vect__use_idf=False \n",
        "[GridSearchCV]  vect__ngram_range=(1, 1), vect__smooth_idf=False, vect__sublinear_tf=True, vect__binary=False, vect__min_df=2, vect__stop_words=None, vect__use_idf=False, score=0.882883 -   0.8s"
       ]
      },
      {
       "output_type": "stream",
       "stream": "stdout",
       "text": [
        "\n",
        "[GridSearchCV] vect__ngram_range=(1, 1), vect__smooth_idf=False, vect__sublinear_tf=True, vect__binary=False, vect__min_df=2, vect__stop_words=None, vect__use_idf=False \n",
        "[GridSearchCV]  vect__ngram_range=(1, 1), vect__smooth_idf=False, vect__sublinear_tf=True, vect__binary=False, vect__min_df=2, vect__stop_words=None, vect__use_idf=False, score=0.854310 -   0.7s"
       ]
      },
      {
       "output_type": "stream",
       "stream": "stdout",
       "text": [
        "\n",
        "[GridSearchCV] vect__ngram_range=(1, 1), vect__smooth_idf=False, vect__sublinear_tf=True, vect__binary=False, vect__min_df=2, vect__stop_words=None, vect__use_idf=True \n",
        "[GridSearchCV]  vect__ngram_range=(1, 1), vect__smooth_idf=False, vect__sublinear_tf=True, vect__binary=False, vect__min_df=2, vect__stop_words=None, vect__use_idf=True, score=0.867560 -   0.6s"
       ]
      },
      {
       "output_type": "stream",
       "stream": "stdout",
       "text": [
        "\n",
        "[GridSearchCV] vect__ngram_range=(1, 1), vect__smooth_idf=False, vect__sublinear_tf=True, vect__binary=False, vect__min_df=2, vect__stop_words=None, vect__use_idf=True \n",
        "[GridSearchCV]  vect__ngram_range=(1, 1), vect__smooth_idf=False, vect__sublinear_tf=True, vect__binary=False, vect__min_df=2, vect__stop_words=None, vect__use_idf=True, score=0.891710 -   0.7s"
       ]
      },
      {
       "output_type": "stream",
       "stream": "stdout",
       "text": [
        "\n",
        "[GridSearchCV] vect__ngram_range=(1, 1), vect__smooth_idf=False, vect__sublinear_tf=True, vect__binary=False, vect__min_df=2, vect__stop_words=None, vect__use_idf=True \n",
        "[GridSearchCV]  vect__ngram_range=(1, 1), vect__smooth_idf=False, vect__sublinear_tf=True, vect__binary=False, vect__min_df=2, vect__stop_words=None, vect__use_idf=True, score=0.873303 -   0.7s"
       ]
      },
      {
       "output_type": "stream",
       "stream": "stdout",
       "text": [
        "\n",
        "[GridSearchCV] vect__ngram_range=(1, 1), vect__smooth_idf=False, vect__sublinear_tf=False, vect__binary=False, vect__min_df=2, vect__stop_words=english, vect__use_idf=False \n",
        "[GridSearchCV]  vect__ngram_range=(1, 1), vect__smooth_idf=False, vect__sublinear_tf=False, vect__binary=False, vect__min_df=2, vect__stop_words=english, vect__use_idf=False, score=0.852459 -   0.5s"
       ]
      },
      {
       "output_type": "stream",
       "stream": "stdout",
       "text": [
        "\n",
        "[GridSearchCV] vect__ngram_range=(1, 1), vect__smooth_idf=False, vect__sublinear_tf=False, vect__binary=False, vect__min_df=2, vect__stop_words=english, vect__use_idf=False \n",
        "[GridSearchCV]  vect__ngram_range=(1, 1), vect__smooth_idf=False, vect__sublinear_tf=False, vect__binary=False, vect__min_df=2, vect__stop_words=english, vect__use_idf=False, score=0.873887 -   0.5s"
       ]
      },
      {
       "output_type": "stream",
       "stream": "stdout",
       "text": [
        "\n",
        "[GridSearchCV] vect__ngram_range=(1, 1), vect__smooth_idf=False, vect__sublinear_tf=False, vect__binary=False, vect__min_df=2, vect__stop_words=english, vect__use_idf=False \n",
        "[GridSearchCV]  vect__ngram_range=(1, 1), vect__smooth_idf=False, vect__sublinear_tf=False, vect__binary=False, vect__min_df=2, vect__stop_words=english, vect__use_idf=False, score=0.840154 -   0.6s"
       ]
      },
      {
       "output_type": "stream",
       "stream": "stdout",
       "text": [
        "\n",
        "[GridSearchCV] vect__ngram_range=(1, 1), vect__smooth_idf=False, vect__sublinear_tf=False, vect__binary=False, vect__min_df=2, vect__stop_words=english, vect__use_idf=True \n",
        "[GridSearchCV]  vect__ngram_range=(1, 1), vect__smooth_idf=False, vect__sublinear_tf=False, vect__binary=False, vect__min_df=2, vect__stop_words=english, vect__use_idf=True, score=0.862891 -   0.7s"
       ]
      },
      {
       "output_type": "stream",
       "stream": "stdout",
       "text": [
        "\n",
        "[GridSearchCV] vect__ngram_range=(1, 1), vect__smooth_idf=False, vect__sublinear_tf=False, vect__binary=False, vect__min_df=2, vect__stop_words=english, vect__use_idf=True \n",
        "[GridSearchCV]  vect__ngram_range=(1, 1), vect__smooth_idf=False, vect__sublinear_tf=False, vect__binary=False, vect__min_df=2, vect__stop_words=english, vect__use_idf=True, score=0.871450 -   0.7s"
       ]
      },
      {
       "output_type": "stream",
       "stream": "stderr",
       "text": [
        "[Parallel(n_jobs=1)]: Done  98 jobs       | elapsed:  1.8min\n",
        "[Parallel(n_jobs=1)]: Done 113 jobs       | elapsed:  2.0min\n"
       ]
      },
      {
       "output_type": "stream",
       "stream": "stdout",
       "text": [
        "\n",
        "[GridSearchCV] vect__ngram_range=(1, 1), vect__smooth_idf=False, vect__sublinear_tf=False, vect__binary=False, vect__min_df=2, vect__stop_words=english, vect__use_idf=True \n",
        "[GridSearchCV]  vect__ngram_range=(1, 1), vect__smooth_idf=False, vect__sublinear_tf=False, vect__binary=False, vect__min_df=2, vect__stop_words=english, vect__use_idf=True, score=0.857578 -   0.6s"
       ]
      },
      {
       "output_type": "stream",
       "stream": "stdout",
       "text": [
        "\n",
        "[GridSearchCV] vect__ngram_range=(1, 1), vect__smooth_idf=False, vect__sublinear_tf=True, vect__binary=False, vect__min_df=2, vect__stop_words=english, vect__use_idf=False \n",
        "[GridSearchCV]  vect__ngram_range=(1, 1), vect__smooth_idf=False, vect__sublinear_tf=True, vect__binary=False, vect__min_df=2, vect__stop_words=english, vect__use_idf=False, score=0.848120 -   0.7s"
       ]
      },
      {
       "output_type": "stream",
       "stream": "stdout",
       "text": [
        "\n",
        "[GridSearchCV] vect__ngram_range=(1, 1), vect__smooth_idf=False, vect__sublinear_tf=True, vect__binary=False, vect__min_df=2, vect__stop_words=english, vect__use_idf=False \n",
        "[GridSearchCV]  vect__ngram_range=(1, 1), vect__smooth_idf=False, vect__sublinear_tf=True, vect__binary=False, vect__min_df=2, vect__stop_words=english, vect__use_idf=False, score=0.879940 -   0.6s"
       ]
      },
      {
       "output_type": "stream",
       "stream": "stdout",
       "text": [
        "\n",
        "[GridSearchCV] vect__ngram_range=(1, 1), vect__smooth_idf=False, vect__sublinear_tf=True, vect__binary=False, vect__min_df=2, vect__stop_words=english, vect__use_idf=False \n",
        "[GridSearchCV]  vect__ngram_range=(1, 1), vect__smooth_idf=False, vect__sublinear_tf=True, vect__binary=False, vect__min_df=2, vect__stop_words=english, vect__use_idf=False, score=0.850769 -   0.6s"
       ]
      },
      {
       "output_type": "stream",
       "stream": "stdout",
       "text": [
        "\n",
        "[GridSearchCV] vect__ngram_range=(1, 1), vect__smooth_idf=False, vect__sublinear_tf=True, vect__binary=False, vect__min_df=2, vect__stop_words=english, vect__use_idf=True \n",
        "[GridSearchCV]  vect__ngram_range=(1, 1), vect__smooth_idf=False, vect__sublinear_tf=True, vect__binary=False, vect__min_df=2, vect__stop_words=english, vect__use_idf=True, score=0.857784 -   0.9s"
       ]
      },
      {
       "output_type": "stream",
       "stream": "stdout",
       "text": [
        "\n",
        "[GridSearchCV] vect__ngram_range=(1, 1), vect__smooth_idf=False, vect__sublinear_tf=True, vect__binary=False, vect__min_df=2, vect__stop_words=english, vect__use_idf=True \n",
        "[GridSearchCV]  vect__ngram_range=(1, 1), vect__smooth_idf=False, vect__sublinear_tf=True, vect__binary=False, vect__min_df=2, vect__stop_words=english, vect__use_idf=True, score=0.879822 -   2.0s"
       ]
      },
      {
       "output_type": "stream",
       "stream": "stdout",
       "text": [
        "\n",
        "[GridSearchCV] vect__ngram_range=(1, 1), vect__smooth_idf=False, vect__sublinear_tf=True, vect__binary=False, vect__min_df=2, vect__stop_words=english, vect__use_idf=True \n",
        "[GridSearchCV]  vect__ngram_range=(1, 1), vect__smooth_idf=False, vect__sublinear_tf=True, vect__binary=False, vect__min_df=2, vect__stop_words=english, vect__use_idf=True, score=0.857580 -   1.2s"
       ]
      },
      {
       "output_type": "stream",
       "stream": "stdout",
       "text": [
        "\n",
        "[GridSearchCV] vect__ngram_range=(1, 1), vect__smooth_idf=True, vect__sublinear_tf=False, vect__binary=False, vect__min_df=2, vect__stop_words=None, vect__use_idf=False \n",
        "[GridSearchCV]  vect__ngram_range=(1, 1), vect__smooth_idf=True, vect__sublinear_tf=False, vect__binary=False, vect__min_df=2, vect__stop_words=None, vect__use_idf=False, score=0.859480 -   1.1s"
       ]
      },
      {
       "output_type": "stream",
       "stream": "stdout",
       "text": [
        "\n",
        "[GridSearchCV] vect__ngram_range=(1, 1), vect__smooth_idf=True, vect__sublinear_tf=False, vect__binary=False, vect__min_df=2, vect__stop_words=None, vect__use_idf=False \n",
        "[GridSearchCV]  vect__ngram_range=(1, 1), vect__smooth_idf=True, vect__sublinear_tf=False, vect__binary=False, vect__min_df=2, vect__stop_words=None, vect__use_idf=False, score=0.874439 -   1.1s"
       ]
      },
      {
       "output_type": "stream",
       "stream": "stdout",
       "text": [
        "\n",
        "[GridSearchCV] vect__ngram_range=(1, 1), vect__smooth_idf=True, vect__sublinear_tf=False, vect__binary=False, vect__min_df=2, vect__stop_words=None, vect__use_idf=False \n",
        "[GridSearchCV]  vect__ngram_range=(1, 1), vect__smooth_idf=True, vect__sublinear_tf=False, vect__binary=False, vect__min_df=2, vect__stop_words=None, vect__use_idf=False, score=0.857573 -   0.7s"
       ]
      },
      {
       "output_type": "stream",
       "stream": "stdout",
       "text": [
        "\n",
        "[GridSearchCV] vect__ngram_range=(1, 1), vect__smooth_idf=True, vect__sublinear_tf=False, vect__binary=False, vect__min_df=2, vect__stop_words=None, vect__use_idf=True \n",
        "[GridSearchCV]  vect__ngram_range=(1, 1), vect__smooth_idf=True, vect__sublinear_tf=False, vect__binary=False, vect__min_df=2, vect__stop_words=None, vect__use_idf=True, score=0.871375 -   0.8s"
       ]
      },
      {
       "output_type": "stream",
       "stream": "stdout",
       "text": [
        "\n",
        "[GridSearchCV] vect__ngram_range=(1, 1), vect__smooth_idf=True, vect__sublinear_tf=False, vect__binary=False, vect__min_df=2, vect__stop_words=None, vect__use_idf=True \n",
        "[GridSearchCV]  vect__ngram_range=(1, 1), vect__smooth_idf=True, vect__sublinear_tf=False, vect__binary=False, vect__min_df=2, vect__stop_words=None, vect__use_idf=True, score=0.884415 -   0.8s"
       ]
      },
      {
       "output_type": "stream",
       "stream": "stdout",
       "text": [
        "\n",
        "[GridSearchCV] vect__ngram_range=(1, 1), vect__smooth_idf=True, vect__sublinear_tf=False, vect__binary=False, vect__min_df=2, vect__stop_words=None, vect__use_idf=True \n",
        "[GridSearchCV]  vect__ngram_range=(1, 1), vect__smooth_idf=True, vect__sublinear_tf=False, vect__binary=False, vect__min_df=2, vect__stop_words=None, vect__use_idf=True, score=0.865762 -   0.7s"
       ]
      },
      {
       "output_type": "stream",
       "stream": "stdout",
       "text": [
        "\n",
        "[GridSearchCV] vect__ngram_range=(1, 1), vect__smooth_idf=True, vect__sublinear_tf=True, vect__binary=False, vect__min_df=2, vect__stop_words=None, vect__use_idf=False \n",
        "[GridSearchCV]  vect__ngram_range=(1, 1), vect__smooth_idf=True, vect__sublinear_tf=True, vect__binary=False, vect__min_df=2, vect__stop_words=None, vect__use_idf=False, score=0.858203 -   0.8s"
       ]
      },
      {
       "output_type": "stream",
       "stream": "stdout",
       "text": [
        "\n",
        "[GridSearchCV] vect__ngram_range=(1, 1), vect__smooth_idf=True, vect__sublinear_tf=True, vect__binary=False, vect__min_df=2, vect__stop_words=None, vect__use_idf=False \n",
        "[GridSearchCV]  vect__ngram_range=(1, 1), vect__smooth_idf=True, vect__sublinear_tf=True, vect__binary=False, vect__min_df=2, vect__stop_words=None, vect__use_idf=False, score=0.882883 -   1.0s"
       ]
      },
      {
       "output_type": "stream",
       "stream": "stdout",
       "text": [
        "\n",
        "[GridSearchCV] vect__ngram_range=(1, 1), vect__smooth_idf=True, vect__sublinear_tf=True, vect__binary=False, vect__min_df=2, vect__stop_words=None, vect__use_idf=False \n",
        "[GridSearchCV]  vect__ngram_range=(1, 1), vect__smooth_idf=True, vect__sublinear_tf=True, vect__binary=False, vect__min_df=2, vect__stop_words=None, vect__use_idf=False, score=0.854310 -   0.8s"
       ]
      },
      {
       "output_type": "stream",
       "stream": "stdout",
       "text": [
        "\n",
        "[GridSearchCV] vect__ngram_range=(1, 1), vect__smooth_idf=True, vect__sublinear_tf=True, vect__binary=False, vect__min_df=2, vect__stop_words=None, vect__use_idf=True \n",
        "[GridSearchCV]  vect__ngram_range=(1, 1), vect__smooth_idf=True, vect__sublinear_tf=True, vect__binary=False, vect__min_df=2, vect__stop_words=None, vect__use_idf=True, score=0.866716 -   0.6s"
       ]
      },
      {
       "output_type": "stream",
       "stream": "stdout",
       "text": [
        "\n",
        "[GridSearchCV] vect__ngram_range=(1, 1), vect__smooth_idf=True, vect__sublinear_tf=True, vect__binary=False, vect__min_df=2, vect__stop_words=None, vect__use_idf=True \n",
        "[GridSearchCV]  vect__ngram_range=(1, 1), vect__smooth_idf=True, vect__sublinear_tf=True, vect__binary=False, vect__min_df=2, vect__stop_words=None, vect__use_idf=True, score=0.892537 -   0.8s"
       ]
      },
      {
       "output_type": "stream",
       "stream": "stdout",
       "text": [
        "\n",
        "[GridSearchCV] vect__ngram_range=(1, 1), vect__smooth_idf=True, vect__sublinear_tf=True, vect__binary=False, vect__min_df=2, vect__stop_words=None, vect__use_idf=True \n",
        "[GridSearchCV]  vect__ngram_range=(1, 1), vect__smooth_idf=True, vect__sublinear_tf=True, vect__binary=False, vect__min_df=2, vect__stop_words=None, vect__use_idf=True, score=0.872453 -   0.8s"
       ]
      },
      {
       "output_type": "stream",
       "stream": "stdout",
       "text": [
        "\n",
        "[GridSearchCV] vect__ngram_range=(1, 1), vect__smooth_idf=True, vect__sublinear_tf=False, vect__binary=False, vect__min_df=2, vect__stop_words=english, vect__use_idf=False \n",
        "[GridSearchCV]  vect__ngram_range=(1, 1), vect__smooth_idf=True, vect__sublinear_tf=False, vect__binary=False, vect__min_df=2, vect__stop_words=english, vect__use_idf=False, score=0.852459 -   0.5s"
       ]
      },
      {
       "output_type": "stream",
       "stream": "stdout",
       "text": [
        "\n",
        "[GridSearchCV] vect__ngram_range=(1, 1), vect__smooth_idf=True, vect__sublinear_tf=False, vect__binary=False, vect__min_df=2, vect__stop_words=english, vect__use_idf=False \n",
        "[GridSearchCV]  vect__ngram_range=(1, 1), vect__smooth_idf=True, vect__sublinear_tf=False, vect__binary=False, vect__min_df=2, vect__stop_words=english, vect__use_idf=False, score=0.873887 -   0.6s"
       ]
      },
      {
       "output_type": "stream",
       "stream": "stdout",
       "text": [
        "\n",
        "[GridSearchCV] vect__ngram_range=(1, 1), vect__smooth_idf=True, vect__sublinear_tf=False, vect__binary=False, vect__min_df=2, vect__stop_words=english, vect__use_idf=False \n",
        "[GridSearchCV]  vect__ngram_range=(1, 1), vect__smooth_idf=True, vect__sublinear_tf=False, vect__binary=False, vect__min_df=2, vect__stop_words=english, vect__use_idf=False, score=0.840154 -   0.6s"
       ]
      },
      {
       "output_type": "stream",
       "stream": "stdout",
       "text": [
        "\n",
        "[GridSearchCV] vect__ngram_range=(1, 1), vect__smooth_idf=True, vect__sublinear_tf=False, vect__binary=False, vect__min_df=2, vect__stop_words=english, vect__use_idf=True \n",
        "[GridSearchCV]  vect__ngram_range=(1, 1), vect__smooth_idf=True, vect__sublinear_tf=False, vect__binary=False, vect__min_df=2, vect__stop_words=english, vect__use_idf=True, score=0.862687 -   0.5s"
       ]
      },
      {
       "output_type": "stream",
       "stream": "stdout",
       "text": [
        "\n",
        "[GridSearchCV] vect__ngram_range=(1, 1), vect__smooth_idf=True, vect__sublinear_tf=False, vect__binary=False, vect__min_df=2, vect__stop_words=english, vect__use_idf=True \n",
        "[GridSearchCV]  vect__ngram_range=(1, 1), vect__smooth_idf=True, vect__sublinear_tf=False, vect__binary=False, vect__min_df=2, vect__stop_words=english, vect__use_idf=True, score=0.872102 -   0.6s"
       ]
      },
      {
       "output_type": "stream",
       "stream": "stdout",
       "text": [
        "\n",
        "[GridSearchCV] vect__ngram_range=(1, 1), vect__smooth_idf=True, vect__sublinear_tf=False, vect__binary=False, vect__min_df=2, vect__stop_words=english, vect__use_idf=True \n",
        "[GridSearchCV]  vect__ngram_range=(1, 1), vect__smooth_idf=True, vect__sublinear_tf=False, vect__binary=False, vect__min_df=2, vect__stop_words=english, vect__use_idf=True, score=0.855835 -   0.5s"
       ]
      },
      {
       "output_type": "stream",
       "stream": "stdout",
       "text": [
        "\n",
        "[GridSearchCV] vect__ngram_range=(1, 1), vect__smooth_idf=True, vect__sublinear_tf=True, vect__binary=False, vect__min_df=2, vect__stop_words=english, vect__use_idf=False \n",
        "[GridSearchCV]  vect__ngram_range=(1, 1), vect__smooth_idf=True, vect__sublinear_tf=True, vect__binary=False, vect__min_df=2, vect__stop_words=english, vect__use_idf=False, score=0.848120 -   0.5s"
       ]
      },
      {
       "output_type": "stream",
       "stream": "stdout",
       "text": [
        "\n",
        "[GridSearchCV] vect__ngram_range=(1, 1), vect__smooth_idf=True, vect__sublinear_tf=True, vect__binary=False, vect__min_df=2, vect__stop_words=english, vect__use_idf=False \n",
        "[GridSearchCV]  vect__ngram_range=(1, 1), vect__smooth_idf=True, vect__sublinear_tf=True, vect__binary=False, vect__min_df=2, vect__stop_words=english, vect__use_idf=False, score=0.879940 -   0.5s"
       ]
      },
      {
       "output_type": "stream",
       "stream": "stdout",
       "text": [
        "\n",
        "[GridSearchCV] vect__ngram_range=(1, 1), vect__smooth_idf=True, vect__sublinear_tf=True, vect__binary=False, vect__min_df=2, vect__stop_words=english, vect__use_idf=False \n",
        "[GridSearchCV]  vect__ngram_range=(1, 1), vect__smooth_idf=True, vect__sublinear_tf=True, vect__binary=False, vect__min_df=2, vect__stop_words=english, vect__use_idf=False, score=0.850769 -   0.5s"
       ]
      },
      {
       "output_type": "stream",
       "stream": "stdout",
       "text": [
        "\n",
        "[GridSearchCV] vect__ngram_range=(1, 1), vect__smooth_idf=True, vect__sublinear_tf=True, vect__binary=False, vect__min_df=2, vect__stop_words=english, vect__use_idf=True \n",
        "[GridSearchCV]  vect__ngram_range=(1, 1), vect__smooth_idf=True, vect__sublinear_tf=True, vect__binary=False, vect__min_df=2, vect__stop_words=english, vect__use_idf=True, score=0.857784 -   0.5s"
       ]
      },
      {
       "output_type": "stream",
       "stream": "stdout",
       "text": [
        "\n",
        "[GridSearchCV] vect__ngram_range=(1, 1), vect__smooth_idf=True, vect__sublinear_tf=True, vect__binary=False, vect__min_df=2, vect__stop_words=english, vect__use_idf=True \n",
        "[GridSearchCV]  vect__ngram_range=(1, 1), vect__smooth_idf=True, vect__sublinear_tf=True, vect__binary=False, vect__min_df=2, vect__stop_words=english, vect__use_idf=True, score=0.878990 -   0.5s"
       ]
      },
      {
       "output_type": "stream",
       "stream": "stdout",
       "text": [
        "\n",
        "[GridSearchCV] vect__ngram_range=(1, 1), vect__smooth_idf=True, vect__sublinear_tf=True, vect__binary=False, vect__min_df=2, vect__stop_words=english, vect__use_idf=True \n",
        "[GridSearchCV]  vect__ngram_range=(1, 1), vect__smooth_idf=True, vect__sublinear_tf=True, vect__binary=False, vect__min_df=2, vect__stop_words=english, vect__use_idf=True, score=0.857580 -   0.5s"
       ]
      },
      {
       "output_type": "stream",
       "stream": "stdout",
       "text": [
        "\n",
        "[GridSearchCV] vect__ngram_range=(1, 2), vect__smooth_idf=False, vect__sublinear_tf=False, vect__binary=False, vect__min_df=2, vect__stop_words=None, vect__use_idf=False \n",
        "[GridSearchCV]  vect__ngram_range=(1, 2), vect__smooth_idf=False, vect__sublinear_tf=False, vect__binary=False, vect__min_df=2, vect__stop_words=None, vect__use_idf=False, score=0.862658 -   1.8s"
       ]
      },
      {
       "output_type": "stream",
       "stream": "stderr",
       "text": [
        "[Parallel(n_jobs=1)]: Done 128 jobs       | elapsed:  2.2min\n",
        "[Parallel(n_jobs=1)]: Done 145 jobs       | elapsed:  2.4min\n"
       ]
      },
      {
       "output_type": "stream",
       "stream": "stdout",
       "text": [
        "\n",
        "[GridSearchCV] vect__ngram_range=(1, 2), vect__smooth_idf=False, vect__sublinear_tf=False, vect__binary=False, vect__min_df=2, vect__stop_words=None, vect__use_idf=False \n",
        "[GridSearchCV]  vect__ngram_range=(1, 2), vect__smooth_idf=False, vect__sublinear_tf=False, vect__binary=False, vect__min_df=2, vect__stop_words=None, vect__use_idf=False, score=0.877794 -   1.9s"
       ]
      },
      {
       "output_type": "stream",
       "stream": "stdout",
       "text": [
        "\n",
        "[GridSearchCV] vect__ngram_range=(1, 2), vect__smooth_idf=False, vect__sublinear_tf=False, vect__binary=False, vect__min_df=2, vect__stop_words=None, vect__use_idf=False \n",
        "[GridSearchCV]  vect__ngram_range=(1, 2), vect__smooth_idf=False, vect__sublinear_tf=False, vect__binary=False, vect__min_df=2, vect__stop_words=None, vect__use_idf=False, score=0.858434 -   1.8s"
       ]
      },
      {
       "output_type": "stream",
       "stream": "stdout",
       "text": [
        "\n",
        "[GridSearchCV] vect__ngram_range=(1, 2), vect__smooth_idf=False, vect__sublinear_tf=False, vect__binary=False, vect__min_df=2, vect__stop_words=None, vect__use_idf=True \n",
        "[GridSearchCV]  vect__ngram_range=(1, 2), vect__smooth_idf=False, vect__sublinear_tf=False, vect__binary=False, vect__min_df=2, vect__stop_words=None, vect__use_idf=True, score=0.872024 -   1.7s"
       ]
      },
      {
       "output_type": "stream",
       "stream": "stdout",
       "text": [
        "\n",
        "[GridSearchCV] vect__ngram_range=(1, 2), vect__smooth_idf=False, vect__sublinear_tf=False, vect__binary=False, vect__min_df=2, vect__stop_words=None, vect__use_idf=True \n",
        "[GridSearchCV]  vect__ngram_range=(1, 2), vect__smooth_idf=False, vect__sublinear_tf=False, vect__binary=False, vect__min_df=2, vect__stop_words=None, vect__use_idf=True, score=0.889222 -   1.8s"
       ]
      },
      {
       "output_type": "stream",
       "stream": "stdout",
       "text": [
        "\n",
        "[GridSearchCV] vect__ngram_range=(1, 2), vect__smooth_idf=False, vect__sublinear_tf=False, vect__binary=False, vect__min_df=2, vect__stop_words=None, vect__use_idf=True \n",
        "[GridSearchCV]  vect__ngram_range=(1, 2), vect__smooth_idf=False, vect__sublinear_tf=False, vect__binary=False, vect__min_df=2, vect__stop_words=None, vect__use_idf=True, score=0.869301 -   1.8s"
       ]
      },
      {
       "output_type": "stream",
       "stream": "stdout",
       "text": [
        "\n",
        "[GridSearchCV] vect__ngram_range=(1, 2), vect__smooth_idf=False, vect__sublinear_tf=True, vect__binary=False, vect__min_df=2, vect__stop_words=None, vect__use_idf=False \n",
        "[GridSearchCV]  vect__ngram_range=(1, 2), vect__smooth_idf=False, vect__sublinear_tf=True, vect__binary=False, vect__min_df=2, vect__stop_words=None, vect__use_idf=False, score=0.857567 -   2.0s"
       ]
      },
      {
       "output_type": "stream",
       "stream": "stdout",
       "text": [
        "\n",
        "[GridSearchCV] vect__ngram_range=(1, 2), vect__smooth_idf=False, vect__sublinear_tf=True, vect__binary=False, vect__min_df=2, vect__stop_words=None, vect__use_idf=False \n",
        "[GridSearchCV]  vect__ngram_range=(1, 2), vect__smooth_idf=False, vect__sublinear_tf=True, vect__binary=False, vect__min_df=2, vect__stop_words=None, vect__use_idf=False, score=0.880720 -   2.0s"
       ]
      },
      {
       "output_type": "stream",
       "stream": "stdout",
       "text": [
        "\n",
        "[GridSearchCV] vect__ngram_range=(1, 2), vect__smooth_idf=False, vect__sublinear_tf=True, vect__binary=False, vect__min_df=2, vect__stop_words=None, vect__use_idf=False \n",
        "[GridSearchCV]  vect__ngram_range=(1, 2), vect__smooth_idf=False, vect__sublinear_tf=True, vect__binary=False, vect__min_df=2, vect__stop_words=None, vect__use_idf=False, score=0.859304 -   2.0s"
       ]
      },
      {
       "output_type": "stream",
       "stream": "stdout",
       "text": [
        "\n",
        "[GridSearchCV] vect__ngram_range=(1, 2), vect__smooth_idf=False, vect__sublinear_tf=True, vect__binary=False, vect__min_df=2, vect__stop_words=None, vect__use_idf=True \n",
        "[GridSearchCV]  vect__ngram_range=(1, 2), vect__smooth_idf=False, vect__sublinear_tf=True, vect__binary=False, vect__min_df=2, vect__stop_words=None, vect__use_idf=True, score=0.870920 -   1.9s"
       ]
      },
      {
       "output_type": "stream",
       "stream": "stdout",
       "text": [
        "\n",
        "[GridSearchCV] vect__ngram_range=(1, 2), vect__smooth_idf=False, vect__sublinear_tf=True, vect__binary=False, vect__min_df=2, vect__stop_words=None, vect__use_idf=True \n",
        "[GridSearchCV]  vect__ngram_range=(1, 2), vect__smooth_idf=False, vect__sublinear_tf=True, vect__binary=False, vect__min_df=2, vect__stop_words=None, vect__use_idf=True, score=0.895366 -   1.9s"
       ]
      },
      {
       "output_type": "stream",
       "stream": "stdout",
       "text": [
        "\n",
        "[GridSearchCV] vect__ngram_range=(1, 2), vect__smooth_idf=False, vect__sublinear_tf=True, vect__binary=False, vect__min_df=2, vect__stop_words=None, vect__use_idf=True \n",
        "[GridSearchCV]  vect__ngram_range=(1, 2), vect__smooth_idf=False, vect__sublinear_tf=True, vect__binary=False, vect__min_df=2, vect__stop_words=None, vect__use_idf=True, score=0.875000 -   1.9s"
       ]
      },
      {
       "output_type": "stream",
       "stream": "stdout",
       "text": [
        "\n",
        "[GridSearchCV] vect__ngram_range=(1, 2), vect__smooth_idf=False, vect__sublinear_tf=False, vect__binary=False, vect__min_df=2, vect__stop_words=english, vect__use_idf=False \n",
        "[GridSearchCV]  vect__ngram_range=(1, 2), vect__smooth_idf=False, vect__sublinear_tf=False, vect__binary=False, vect__min_df=2, vect__stop_words=english, vect__use_idf=False, score=0.853095 -   1.2s"
       ]
      },
      {
       "output_type": "stream",
       "stream": "stdout",
       "text": [
        "\n",
        "[GridSearchCV] vect__ngram_range=(1, 2), vect__smooth_idf=False, vect__sublinear_tf=False, vect__binary=False, vect__min_df=2, vect__stop_words=english, vect__use_idf=False \n",
        "[GridSearchCV]  vect__ngram_range=(1, 2), vect__smooth_idf=False, vect__sublinear_tf=False, vect__binary=False, vect__min_df=2, vect__stop_words=english, vect__use_idf=False, score=0.873598 -   1.3s"
       ]
      },
      {
       "output_type": "stream",
       "stream": "stdout",
       "text": [
        "\n",
        "[GridSearchCV] vect__ngram_range=(1, 2), vect__smooth_idf=False, vect__sublinear_tf=False, vect__binary=False, vect__min_df=2, vect__stop_words=english, vect__use_idf=False \n",
        "[GridSearchCV]  vect__ngram_range=(1, 2), vect__smooth_idf=False, vect__sublinear_tf=False, vect__binary=False, vect__min_df=2, vect__stop_words=english, vect__use_idf=False, score=0.846332 -   1.4s"
       ]
      },
      {
       "output_type": "stream",
       "stream": "stdout",
       "text": [
        "\n",
        "[GridSearchCV] vect__ngram_range=(1, 2), vect__smooth_idf=False, vect__sublinear_tf=False, vect__binary=False, vect__min_df=2, vect__stop_words=english, vect__use_idf=True \n",
        "[GridSearchCV]  vect__ngram_range=(1, 2), vect__smooth_idf=False, vect__sublinear_tf=False, vect__binary=False, vect__min_df=2, vect__stop_words=english, vect__use_idf=True, score=0.863568 -   1.4s"
       ]
      },
      {
       "output_type": "stream",
       "stream": "stdout",
       "text": [
        "\n",
        "[GridSearchCV] vect__ngram_range=(1, 2), vect__smooth_idf=False, vect__sublinear_tf=False, vect__binary=False, vect__min_df=2, vect__stop_words=english, vect__use_idf=True \n",
        "[GridSearchCV]  vect__ngram_range=(1, 2), vect__smooth_idf=False, vect__sublinear_tf=False, vect__binary=False, vect__min_df=2, vect__stop_words=english, vect__use_idf=True, score=0.882707 -   2.3s"
       ]
      },
      {
       "output_type": "stream",
       "stream": "stdout",
       "text": [
        "\n",
        "[GridSearchCV] vect__ngram_range=(1, 2), vect__smooth_idf=False, vect__sublinear_tf=False, vect__binary=False, vect__min_df=2, vect__stop_words=english, vect__use_idf=True \n",
        "[GridSearchCV]  vect__ngram_range=(1, 2), vect__smooth_idf=False, vect__sublinear_tf=False, vect__binary=False, vect__min_df=2, vect__stop_words=english, vect__use_idf=True, score=0.854938 -   1.6s"
       ]
      },
      {
       "output_type": "stream",
       "stream": "stdout",
       "text": [
        "\n",
        "[GridSearchCV] vect__ngram_range=(1, 2), vect__smooth_idf=False, vect__sublinear_tf=True, vect__binary=False, vect__min_df=2, vect__stop_words=english, vect__use_idf=False \n",
        "[GridSearchCV]  vect__ngram_range=(1, 2), vect__smooth_idf=False, vect__sublinear_tf=True, vect__binary=False, vect__min_df=2, vect__stop_words=english, vect__use_idf=False, score=0.862069 -   1.5s"
       ]
      },
      {
       "output_type": "stream",
       "stream": "stdout",
       "text": [
        "\n",
        "[GridSearchCV] vect__ngram_range=(1, 2), vect__smooth_idf=False, vect__sublinear_tf=True, vect__binary=False, vect__min_df=2, vect__stop_words=english, vect__use_idf=False \n",
        "[GridSearchCV]  vect__ngram_range=(1, 2), vect__smooth_idf=False, vect__sublinear_tf=True, vect__binary=False, vect__min_df=2, vect__stop_words=english, vect__use_idf=False, score=0.878743 -   1.4s"
       ]
      },
      {
       "output_type": "stream",
       "stream": "stdout",
       "text": [
        "\n",
        "[GridSearchCV] vect__ngram_range=(1, 2), vect__smooth_idf=False, vect__sublinear_tf=True, vect__binary=False, vect__min_df=2, vect__stop_words=english, vect__use_idf=False \n",
        "[GridSearchCV]  vect__ngram_range=(1, 2), vect__smooth_idf=False, vect__sublinear_tf=True, vect__binary=False, vect__min_df=2, vect__stop_words=english, vect__use_idf=False, score=0.856923 -   1.5s"
       ]
      },
      {
       "output_type": "stream",
       "stream": "stdout",
       "text": [
        "\n",
        "[GridSearchCV] vect__ngram_range=(1, 2), vect__smooth_idf=False, vect__sublinear_tf=True, vect__binary=False, vect__min_df=2, vect__stop_words=english, vect__use_idf=True \n",
        "[GridSearchCV]  vect__ngram_range=(1, 2), vect__smooth_idf=False, vect__sublinear_tf=True, vect__binary=False, vect__min_df=2, vect__stop_words=english, vect__use_idf=True, score=0.866165 -   1.3s"
       ]
      },
      {
       "output_type": "stream",
       "stream": "stdout",
       "text": [
        "\n",
        "[GridSearchCV] vect__ngram_range=(1, 2), vect__smooth_idf=False, vect__sublinear_tf=True, vect__binary=False, vect__min_df=2, vect__stop_words=english, vect__use_idf=True \n",
        "[GridSearchCV]  vect__ngram_range=(1, 2), vect__smooth_idf=False, vect__sublinear_tf=True, vect__binary=False, vect__min_df=2, vect__stop_words=english, vect__use_idf=True, score=0.880541 -   1.5s"
       ]
      },
      {
       "output_type": "stream",
       "stream": "stdout",
       "text": [
        "\n",
        "[GridSearchCV] vect__ngram_range=(1, 2), vect__smooth_idf=False, vect__sublinear_tf=True, vect__binary=False, vect__min_df=2, vect__stop_words=english, vect__use_idf=True \n",
        "[GridSearchCV]  vect__ngram_range=(1, 2), vect__smooth_idf=False, vect__sublinear_tf=True, vect__binary=False, vect__min_df=2, vect__stop_words=english, vect__use_idf=True, score=0.856260 -   1.3s"
       ]
      },
      {
       "output_type": "stream",
       "stream": "stdout",
       "text": [
        "\n",
        "[GridSearchCV] vect__ngram_range=(1, 2), vect__smooth_idf=True, vect__sublinear_tf=False, vect__binary=False, vect__min_df=2, vect__stop_words=None, vect__use_idf=False \n",
        "[GridSearchCV]  vect__ngram_range=(1, 2), vect__smooth_idf=True, vect__sublinear_tf=False, vect__binary=False, vect__min_df=2, vect__stop_words=None, vect__use_idf=False, score=0.862658 -   1.9s"
       ]
      },
      {
       "output_type": "stream",
       "stream": "stdout",
       "text": [
        "\n",
        "[GridSearchCV] vect__ngram_range=(1, 2), vect__smooth_idf=True, vect__sublinear_tf=False, vect__binary=False, vect__min_df=2, vect__stop_words=None, vect__use_idf=False \n",
        "[GridSearchCV]  vect__ngram_range=(1, 2), vect__smooth_idf=True, vect__sublinear_tf=False, vect__binary=False, vect__min_df=2, vect__stop_words=None, vect__use_idf=False, score=0.877794 -   2.0s"
       ]
      },
      {
       "output_type": "stream",
       "stream": "stdout",
       "text": [
        "\n",
        "[GridSearchCV] vect__ngram_range=(1, 2), vect__smooth_idf=True, vect__sublinear_tf=False, vect__binary=False, vect__min_df=2, vect__stop_words=None, vect__use_idf=False \n",
        "[GridSearchCV]  vect__ngram_range=(1, 2), vect__smooth_idf=True, vect__sublinear_tf=False, vect__binary=False, vect__min_df=2, vect__stop_words=None, vect__use_idf=False, score=0.858434 -   1.9s"
       ]
      },
      {
       "output_type": "stream",
       "stream": "stdout",
       "text": [
        "\n",
        "[GridSearchCV] vect__ngram_range=(1, 2), vect__smooth_idf=True, vect__sublinear_tf=False, vect__binary=False, vect__min_df=2, vect__stop_words=None, vect__use_idf=True \n",
        "[GridSearchCV]  vect__ngram_range=(1, 2), vect__smooth_idf=True, vect__sublinear_tf=False, vect__binary=False, vect__min_df=2, vect__stop_words=None, vect__use_idf=True, score=0.872024 -   1.9s"
       ]
      },
      {
       "output_type": "stream",
       "stream": "stdout",
       "text": [
        "\n",
        "[GridSearchCV] vect__ngram_range=(1, 2), vect__smooth_idf=True, vect__sublinear_tf=False, vect__binary=False, vect__min_df=2, vect__stop_words=None, vect__use_idf=True \n",
        "[GridSearchCV]  vect__ngram_range=(1, 2), vect__smooth_idf=True, vect__sublinear_tf=False, vect__binary=False, vect__min_df=2, vect__stop_words=None, vect__use_idf=True, score=0.890052 -   1.9s"
       ]
      },
      {
       "output_type": "stream",
       "stream": "stdout",
       "text": [
        "\n",
        "[GridSearchCV] vect__ngram_range=(1, 2), vect__smooth_idf=True, vect__sublinear_tf=False, vect__binary=False, vect__min_df=2, vect__stop_words=None, vect__use_idf=True \n",
        "[GridSearchCV]  vect__ngram_range=(1, 2), vect__smooth_idf=True, vect__sublinear_tf=False, vect__binary=False, vect__min_df=2, vect__stop_words=None, vect__use_idf=True, score=0.870159 -   2.0s"
       ]
      },
      {
       "output_type": "stream",
       "stream": "stdout",
       "text": [
        "\n",
        "[GridSearchCV] vect__ngram_range=(1, 2), vect__smooth_idf=True, vect__sublinear_tf=True, vect__binary=False, vect__min_df=2, vect__stop_words=None, vect__use_idf=False \n",
        "[GridSearchCV]  vect__ngram_range=(1, 2), vect__smooth_idf=True, vect__sublinear_tf=True, vect__binary=False, vect__min_df=2, vect__stop_words=None, vect__use_idf=False, score=0.857567 -   2.1s"
       ]
      },
      {
       "output_type": "stream",
       "stream": "stdout",
       "text": [
        "\n",
        "[GridSearchCV] vect__ngram_range=(1, 2), vect__smooth_idf=True, vect__sublinear_tf=True, vect__binary=False, vect__min_df=2, vect__stop_words=None, vect__use_idf=False \n",
        "[GridSearchCV]  vect__ngram_range=(1, 2), vect__smooth_idf=True, vect__sublinear_tf=True, vect__binary=False, vect__min_df=2, vect__stop_words=None, vect__use_idf=False, score=0.880720 -   2.0s"
       ]
      },
      {
       "output_type": "stream",
       "stream": "stdout",
       "text": [
        "\n",
        "[GridSearchCV] vect__ngram_range=(1, 2), vect__smooth_idf=True, vect__sublinear_tf=True, vect__binary=False, vect__min_df=2, vect__stop_words=None, vect__use_idf=False \n",
        "[GridSearchCV]  vect__ngram_range=(1, 2), vect__smooth_idf=True, vect__sublinear_tf=True, vect__binary=False, vect__min_df=2, vect__stop_words=None, vect__use_idf=False, score=0.859304 -   2.0s"
       ]
      },
      {
       "output_type": "stream",
       "stream": "stdout",
       "text": [
        "\n",
        "[GridSearchCV] vect__ngram_range=(1, 2), vect__smooth_idf=True, vect__sublinear_tf=True, vect__binary=False, vect__min_df=2, vect__stop_words=None, vect__use_idf=True \n",
        "[GridSearchCV]  vect__ngram_range=(1, 2), vect__smooth_idf=True, vect__sublinear_tf=True, vect__binary=False, vect__min_df=2, vect__stop_words=None, vect__use_idf=True, score=0.870274 -   2.0s"
       ]
      },
      {
       "output_type": "stream",
       "stream": "stdout",
       "text": [
        "\n",
        "[GridSearchCV] vect__ngram_range=(1, 2), vect__smooth_idf=True, vect__sublinear_tf=True, vect__binary=False, vect__min_df=2, vect__stop_words=None, vect__use_idf=True \n",
        "[GridSearchCV]  vect__ngram_range=(1, 2), vect__smooth_idf=True, vect__sublinear_tf=True, vect__binary=False, vect__min_df=2, vect__stop_words=None, vect__use_idf=True, score=0.895366 -   2.0s"
       ]
      },
      {
       "output_type": "stream",
       "stream": "stdout",
       "text": [
        "\n",
        "[GridSearchCV] vect__ngram_range=(1, 2), vect__smooth_idf=True, vect__sublinear_tf=True, vect__binary=False, vect__min_df=2, vect__stop_words=None, vect__use_idf=True \n",
        "[GridSearchCV]  vect__ngram_range=(1, 2), vect__smooth_idf=True, vect__sublinear_tf=True, vect__binary=False, vect__min_df=2, vect__stop_words=None, vect__use_idf=True, score=0.875000 -   2.0s"
       ]
      },
      {
       "output_type": "stream",
       "stream": "stdout",
       "text": [
        "\n",
        "[GridSearchCV] vect__ngram_range=(1, 2), vect__smooth_idf=True, vect__sublinear_tf=False, vect__binary=False, vect__min_df=2, vect__stop_words=english, vect__use_idf=False \n",
        "[GridSearchCV]  vect__ngram_range=(1, 2), vect__smooth_idf=True, vect__sublinear_tf=False, vect__binary=False, vect__min_df=2, vect__stop_words=english, vect__use_idf=False, score=0.853095 -   1.4s"
       ]
      },
      {
       "output_type": "stream",
       "stream": "stderr",
       "text": [
        "[Parallel(n_jobs=1)]: Done 162 jobs       | elapsed:  2.9min\n",
        "[Parallel(n_jobs=1)]: Done 181 jobs       | elapsed:  3.4min\n"
       ]
      },
      {
       "output_type": "stream",
       "stream": "stdout",
       "text": [
        "\n",
        "[GridSearchCV] vect__ngram_range=(1, 2), vect__smooth_idf=True, vect__sublinear_tf=False, vect__binary=False, vect__min_df=2, vect__stop_words=english, vect__use_idf=False \n",
        "[GridSearchCV]  vect__ngram_range=(1, 2), vect__smooth_idf=True, vect__sublinear_tf=False, vect__binary=False, vect__min_df=2, vect__stop_words=english, vect__use_idf=False, score=0.873598 -   1.3s"
       ]
      },
      {
       "output_type": "stream",
       "stream": "stdout",
       "text": [
        "\n",
        "[GridSearchCV] vect__ngram_range=(1, 2), vect__smooth_idf=True, vect__sublinear_tf=False, vect__binary=False, vect__min_df=2, vect__stop_words=english, vect__use_idf=False \n",
        "[GridSearchCV]  vect__ngram_range=(1, 2), vect__smooth_idf=True, vect__sublinear_tf=False, vect__binary=False, vect__min_df=2, vect__stop_words=english, vect__use_idf=False, score=0.846332 -   1.4s"
       ]
      },
      {
       "output_type": "stream",
       "stream": "stdout",
       "text": [
        "\n",
        "[GridSearchCV] vect__ngram_range=(1, 2), vect__smooth_idf=True, vect__sublinear_tf=False, vect__binary=False, vect__min_df=2, vect__stop_words=english, vect__use_idf=True \n",
        "[GridSearchCV]  vect__ngram_range=(1, 2), vect__smooth_idf=True, vect__sublinear_tf=False, vect__binary=False, vect__min_df=2, vect__stop_words=english, vect__use_idf=True, score=0.863568 -   1.5s"
       ]
      },
      {
       "output_type": "stream",
       "stream": "stdout",
       "text": [
        "\n",
        "[GridSearchCV] vect__ngram_range=(1, 2), vect__smooth_idf=True, vect__sublinear_tf=False, vect__binary=False, vect__min_df=2, vect__stop_words=english, vect__use_idf=True \n",
        "[GridSearchCV]  vect__ngram_range=(1, 2), vect__smooth_idf=True, vect__sublinear_tf=False, vect__binary=False, vect__min_df=2, vect__stop_words=english, vect__use_idf=True, score=0.880541 -   1.3s"
       ]
      },
      {
       "output_type": "stream",
       "stream": "stdout",
       "text": [
        "\n",
        "[GridSearchCV] vect__ngram_range=(1, 2), vect__smooth_idf=True, vect__sublinear_tf=False, vect__binary=False, vect__min_df=2, vect__stop_words=english, vect__use_idf=True \n",
        "[GridSearchCV]  vect__ngram_range=(1, 2), vect__smooth_idf=True, vect__sublinear_tf=False, vect__binary=False, vect__min_df=2, vect__stop_words=english, vect__use_idf=True, score=0.856043 -   1.3s"
       ]
      },
      {
       "output_type": "stream",
       "stream": "stdout",
       "text": [
        "\n",
        "[GridSearchCV] vect__ngram_range=(1, 2), vect__smooth_idf=True, vect__sublinear_tf=True, vect__binary=False, vect__min_df=2, vect__stop_words=english, vect__use_idf=False \n",
        "[GridSearchCV]  vect__ngram_range=(1, 2), vect__smooth_idf=True, vect__sublinear_tf=True, vect__binary=False, vect__min_df=2, vect__stop_words=english, vect__use_idf=False, score=0.862069 -   1.4s"
       ]
      },
      {
       "output_type": "stream",
       "stream": "stdout",
       "text": [
        "\n",
        "[GridSearchCV] vect__ngram_range=(1, 2), vect__smooth_idf=True, vect__sublinear_tf=True, vect__binary=False, vect__min_df=2, vect__stop_words=english, vect__use_idf=False \n",
        "[GridSearchCV]  vect__ngram_range=(1, 2), vect__smooth_idf=True, vect__sublinear_tf=True, vect__binary=False, vect__min_df=2, vect__stop_words=english, vect__use_idf=False, score=0.878743 -   1.5s"
       ]
      },
      {
       "output_type": "stream",
       "stream": "stdout",
       "text": [
        "\n",
        "[GridSearchCV] vect__ngram_range=(1, 2), vect__smooth_idf=True, vect__sublinear_tf=True, vect__binary=False, vect__min_df=2, vect__stop_words=english, vect__use_idf=False \n",
        "[GridSearchCV]  vect__ngram_range=(1, 2), vect__smooth_idf=True, vect__sublinear_tf=True, vect__binary=False, vect__min_df=2, vect__stop_words=english, vect__use_idf=False, score=0.856923 -   1.5s"
       ]
      },
      {
       "output_type": "stream",
       "stream": "stdout",
       "text": [
        "\n",
        "[GridSearchCV] vect__ngram_range=(1, 2), vect__smooth_idf=True, vect__sublinear_tf=True, vect__binary=False, vect__min_df=2, vect__stop_words=english, vect__use_idf=True \n",
        "[GridSearchCV]  vect__ngram_range=(1, 2), vect__smooth_idf=True, vect__sublinear_tf=True, vect__binary=False, vect__min_df=2, vect__stop_words=english, vect__use_idf=True, score=0.864012 -   1.4s"
       ]
      },
      {
       "output_type": "stream",
       "stream": "stdout",
       "text": [
        "\n",
        "[GridSearchCV] vect__ngram_range=(1, 2), vect__smooth_idf=True, vect__sublinear_tf=True, vect__binary=False, vect__min_df=2, vect__stop_words=english, vect__use_idf=True \n",
        "[GridSearchCV]  vect__ngram_range=(1, 2), vect__smooth_idf=True, vect__sublinear_tf=True, vect__binary=False, vect__min_df=2, vect__stop_words=english, vect__use_idf=True, score=0.882044 -   1.7s"
       ]
      },
      {
       "output_type": "stream",
       "stream": "stdout",
       "text": [
        "\n",
        "[GridSearchCV] vect__ngram_range=(1, 2), vect__smooth_idf=True, vect__sublinear_tf=True, vect__binary=False, vect__min_df=2, vect__stop_words=english, vect__use_idf=True \n",
        "[GridSearchCV]  vect__ngram_range=(1, 2), vect__smooth_idf=True, vect__sublinear_tf=True, vect__binary=False, vect__min_df=2, vect__stop_words=english, vect__use_idf=True, score=0.853602 -   1.4s"
       ]
      },
      {
       "output_type": "stream",
       "stream": "stdout",
       "text": [
        "\n",
        "[GridSearchCV] vect__ngram_range=(1, 1), vect__smooth_idf=False, vect__sublinear_tf=False, vect__binary=True, vect__min_df=1, vect__stop_words=None, vect__use_idf=False \n",
        "[GridSearchCV]  vect__ngram_range=(1, 1), vect__smooth_idf=False, vect__sublinear_tf=False, vect__binary=True, vect__min_df=1, vect__stop_words=None, vect__use_idf=False, score=0.866071 -   0.7s"
       ]
      },
      {
       "output_type": "stream",
       "stream": "stdout",
       "text": [
        "\n",
        "[GridSearchCV] vect__ngram_range=(1, 1), vect__smooth_idf=False, vect__sublinear_tf=False, vect__binary=True, vect__min_df=1, vect__stop_words=None, vect__use_idf=False \n",
        "[GridSearchCV]  vect__ngram_range=(1, 1), vect__smooth_idf=False, vect__sublinear_tf=False, vect__binary=True, vect__min_df=1, vect__stop_words=None, vect__use_idf=False, score=0.881255 -   0.7s"
       ]
      },
      {
       "output_type": "stream",
       "stream": "stdout",
       "text": [
        "\n",
        "[GridSearchCV] vect__ngram_range=(1, 1), vect__smooth_idf=False, vect__sublinear_tf=False, vect__binary=True, vect__min_df=1, vect__stop_words=None, vect__use_idf=False \n",
        "[GridSearchCV]  vect__ngram_range=(1, 1), vect__smooth_idf=False, vect__sublinear_tf=False, vect__binary=True, vect__min_df=1, vect__stop_words=None, vect__use_idf=False, score=0.853474 -   0.8s"
       ]
      },
      {
       "output_type": "stream",
       "stream": "stdout",
       "text": [
        "\n",
        "[GridSearchCV] vect__ngram_range=(1, 1), vect__smooth_idf=False, vect__sublinear_tf=False, vect__binary=True, vect__min_df=1, vect__stop_words=None, vect__use_idf=True \n",
        "[GridSearchCV]  vect__ngram_range=(1, 1), vect__smooth_idf=False, vect__sublinear_tf=False, vect__binary=True, vect__min_df=1, vect__stop_words=None, vect__use_idf=True, score=0.875186 -   0.6s"
       ]
      },
      {
       "output_type": "stream",
       "stream": "stdout",
       "text": [
        "\n",
        "[GridSearchCV] vect__ngram_range=(1, 1), vect__smooth_idf=False, vect__sublinear_tf=False, vect__binary=True, vect__min_df=1, vect__stop_words=None, vect__use_idf=True \n",
        "[GridSearchCV]  vect__ngram_range=(1, 1), vect__smooth_idf=False, vect__sublinear_tf=False, vect__binary=True, vect__min_df=1, vect__stop_words=None, vect__use_idf=True, score=0.883408 -   0.7s"
       ]
      },
      {
       "output_type": "stream",
       "stream": "stdout",
       "text": [
        "\n",
        "[GridSearchCV] vect__ngram_range=(1, 1), vect__smooth_idf=False, vect__sublinear_tf=False, vect__binary=True, vect__min_df=1, vect__stop_words=None, vect__use_idf=True \n",
        "[GridSearchCV]  vect__ngram_range=(1, 1), vect__smooth_idf=False, vect__sublinear_tf=False, vect__binary=True, vect__min_df=1, vect__stop_words=None, vect__use_idf=True, score=0.859091 -   0.7s"
       ]
      },
      {
       "output_type": "stream",
       "stream": "stdout",
       "text": [
        "\n",
        "[GridSearchCV] vect__ngram_range=(1, 1), vect__smooth_idf=False, vect__sublinear_tf=True, vect__binary=True, vect__min_df=1, vect__stop_words=None, vect__use_idf=False \n",
        "[GridSearchCV]  vect__ngram_range=(1, 1), vect__smooth_idf=False, vect__sublinear_tf=True, vect__binary=True, vect__min_df=1, vect__stop_words=None, vect__use_idf=False, score=0.866071 -   0.9s"
       ]
      },
      {
       "output_type": "stream",
       "stream": "stdout",
       "text": [
        "\n",
        "[GridSearchCV] vect__ngram_range=(1, 1), vect__smooth_idf=False, vect__sublinear_tf=True, vect__binary=True, vect__min_df=1, vect__stop_words=None, vect__use_idf=False \n",
        "[GridSearchCV]  vect__ngram_range=(1, 1), vect__smooth_idf=False, vect__sublinear_tf=True, vect__binary=True, vect__min_df=1, vect__stop_words=None, vect__use_idf=False, score=0.881255 -   0.9s"
       ]
      },
      {
       "output_type": "stream",
       "stream": "stdout",
       "text": [
        "\n",
        "[GridSearchCV] vect__ngram_range=(1, 1), vect__smooth_idf=False, vect__sublinear_tf=True, vect__binary=True, vect__min_df=1, vect__stop_words=None, vect__use_idf=False \n",
        "[GridSearchCV]  vect__ngram_range=(1, 1), vect__smooth_idf=False, vect__sublinear_tf=True, vect__binary=True, vect__min_df=1, vect__stop_words=None, vect__use_idf=False, score=0.853474 -   1.0s"
       ]
      },
      {
       "output_type": "stream",
       "stream": "stdout",
       "text": [
        "\n",
        "[GridSearchCV] vect__ngram_range=(1, 1), vect__smooth_idf=False, vect__sublinear_tf=True, vect__binary=True, vect__min_df=1, vect__stop_words=None, vect__use_idf=True \n",
        "[GridSearchCV]  vect__ngram_range=(1, 1), vect__smooth_idf=False, vect__sublinear_tf=True, vect__binary=True, vect__min_df=1, vect__stop_words=None, vect__use_idf=True, score=0.875186 -   0.7s"
       ]
      },
      {
       "output_type": "stream",
       "stream": "stdout",
       "text": [
        "\n",
        "[GridSearchCV] vect__ngram_range=(1, 1), vect__smooth_idf=False, vect__sublinear_tf=True, vect__binary=True, vect__min_df=1, vect__stop_words=None, vect__use_idf=True \n",
        "[GridSearchCV]  vect__ngram_range=(1, 1), vect__smooth_idf=False, vect__sublinear_tf=True, vect__binary=True, vect__min_df=1, vect__stop_words=None, vect__use_idf=True, score=0.883408 -   0.6s"
       ]
      },
      {
       "output_type": "stream",
       "stream": "stdout",
       "text": [
        "\n",
        "[GridSearchCV] vect__ngram_range=(1, 1), vect__smooth_idf=False, vect__sublinear_tf=True, vect__binary=True, vect__min_df=1, vect__stop_words=None, vect__use_idf=True \n",
        "[GridSearchCV]  vect__ngram_range=(1, 1), vect__smooth_idf=False, vect__sublinear_tf=True, vect__binary=True, vect__min_df=1, vect__stop_words=None, vect__use_idf=True, score=0.859091 -   0.6s"
       ]
      },
      {
       "output_type": "stream",
       "stream": "stdout",
       "text": [
        "\n",
        "[GridSearchCV] vect__ngram_range=(1, 1), vect__smooth_idf=False, vect__sublinear_tf=False, vect__binary=True, vect__min_df=1, vect__stop_words=english, vect__use_idf=False \n",
        "[GridSearchCV]  vect__ngram_range=(1, 1), vect__smooth_idf=False, vect__sublinear_tf=False, vect__binary=True, vect__min_df=1, vect__stop_words=english, vect__use_idf=False, score=0.854573 -   0.7s"
       ]
      },
      {
       "output_type": "stream",
       "stream": "stdout",
       "text": [
        "\n",
        "[GridSearchCV] vect__ngram_range=(1, 1), vect__smooth_idf=False, vect__sublinear_tf=False, vect__binary=True, vect__min_df=1, vect__stop_words=english, vect__use_idf=False \n",
        "[GridSearchCV]  vect__ngram_range=(1, 1), vect__smooth_idf=False, vect__sublinear_tf=False, vect__binary=True, vect__min_df=1, vect__stop_words=english, vect__use_idf=False, score=0.875371 -   0.7s"
       ]
      },
      {
       "output_type": "stream",
       "stream": "stdout",
       "text": [
        "\n",
        "[GridSearchCV] vect__ngram_range=(1, 1), vect__smooth_idf=False, vect__sublinear_tf=False, vect__binary=True, vect__min_df=1, vect__stop_words=english, vect__use_idf=False \n",
        "[GridSearchCV]  vect__ngram_range=(1, 1), vect__smooth_idf=False, vect__sublinear_tf=False, vect__binary=True, vect__min_df=1, vect__stop_words=english, vect__use_idf=False, score=0.854740 -   0.5s"
       ]
      },
      {
       "output_type": "stream",
       "stream": "stdout",
       "text": [
        "\n",
        "[GridSearchCV] vect__ngram_range=(1, 1), vect__smooth_idf=False, vect__sublinear_tf=False, vect__binary=True, vect__min_df=1, vect__stop_words=english, vect__use_idf=True \n",
        "[GridSearchCV]  vect__ngram_range=(1, 1), vect__smooth_idf=False, vect__sublinear_tf=False, vect__binary=True, vect__min_df=1, vect__stop_words=english, vect__use_idf=True, score=0.859911 -   0.6s"
       ]
      },
      {
       "output_type": "stream",
       "stream": "stdout",
       "text": [
        "\n",
        "[GridSearchCV] vect__ngram_range=(1, 1), vect__smooth_idf=False, vect__sublinear_tf=False, vect__binary=True, vect__min_df=1, vect__stop_words=english, vect__use_idf=True \n",
        "[GridSearchCV]  vect__ngram_range=(1, 1), vect__smooth_idf=False, vect__sublinear_tf=False, vect__binary=True, vect__min_df=1, vect__stop_words=english, vect__use_idf=True, score=0.871642 -   0.6s"
       ]
      },
      {
       "output_type": "stream",
       "stream": "stdout",
       "text": [
        "\n",
        "[GridSearchCV] vect__ngram_range=(1, 1), vect__smooth_idf=False, vect__sublinear_tf=False, vect__binary=True, vect__min_df=1, vect__stop_words=english, vect__use_idf=True \n",
        "[GridSearchCV]  vect__ngram_range=(1, 1), vect__smooth_idf=False, vect__sublinear_tf=False, vect__binary=True, vect__min_df=1, vect__stop_words=english, vect__use_idf=True, score=0.861280 -   0.6s"
       ]
      },
      {
       "output_type": "stream",
       "stream": "stdout",
       "text": [
        "\n",
        "[GridSearchCV] vect__ngram_range=(1, 1), vect__smooth_idf=False, vect__sublinear_tf=True, vect__binary=True, vect__min_df=1, vect__stop_words=english, vect__use_idf=False \n",
        "[GridSearchCV]  vect__ngram_range=(1, 1), vect__smooth_idf=False, vect__sublinear_tf=True, vect__binary=True, vect__min_df=1, vect__stop_words=english, vect__use_idf=False, score=0.854573 -   0.6s"
       ]
      },
      {
       "output_type": "stream",
       "stream": "stdout",
       "text": [
        "\n",
        "[GridSearchCV] vect__ngram_range=(1, 1), vect__smooth_idf=False, vect__sublinear_tf=True, vect__binary=True, vect__min_df=1, vect__stop_words=english, vect__use_idf=False \n",
        "[GridSearchCV]  vect__ngram_range=(1, 1), vect__smooth_idf=False, vect__sublinear_tf=True, vect__binary=True, vect__min_df=1, vect__stop_words=english, vect__use_idf=False, score=0.875371 -   0.6s"
       ]
      },
      {
       "output_type": "stream",
       "stream": "stdout",
       "text": [
        "\n",
        "[GridSearchCV] vect__ngram_range=(1, 1), vect__smooth_idf=False, vect__sublinear_tf=True, vect__binary=True, vect__min_df=1, vect__stop_words=english, vect__use_idf=False \n",
        "[GridSearchCV]  vect__ngram_range=(1, 1), vect__smooth_idf=False, vect__sublinear_tf=True, vect__binary=True, vect__min_df=1, vect__stop_words=english, vect__use_idf=False, score=0.854740 -   0.5s"
       ]
      },
      {
       "output_type": "stream",
       "stream": "stdout",
       "text": [
        "\n",
        "[GridSearchCV] vect__ngram_range=(1, 1), vect__smooth_idf=False, vect__sublinear_tf=True, vect__binary=True, vect__min_df=1, vect__stop_words=english, vect__use_idf=True \n",
        "[GridSearchCV]  vect__ngram_range=(1, 1), vect__smooth_idf=False, vect__sublinear_tf=True, vect__binary=True, vect__min_df=1, vect__stop_words=english, vect__use_idf=True, score=0.859911 -   0.5s"
       ]
      },
      {
       "output_type": "stream",
       "stream": "stdout",
       "text": [
        "\n",
        "[GridSearchCV] vect__ngram_range=(1, 1), vect__smooth_idf=False, vect__sublinear_tf=True, vect__binary=True, vect__min_df=1, vect__stop_words=english, vect__use_idf=True \n",
        "[GridSearchCV]  vect__ngram_range=(1, 1), vect__smooth_idf=False, vect__sublinear_tf=True, vect__binary=True, vect__min_df=1, vect__stop_words=english, vect__use_idf=True, score=0.871642 -   0.5s"
       ]
      },
      {
       "output_type": "stream",
       "stream": "stdout",
       "text": [
        "\n",
        "[GridSearchCV] vect__ngram_range=(1, 1), vect__smooth_idf=False, vect__sublinear_tf=True, vect__binary=True, vect__min_df=1, vect__stop_words=english, vect__use_idf=True \n",
        "[GridSearchCV]  vect__ngram_range=(1, 1), vect__smooth_idf=False, vect__sublinear_tf=True, vect__binary=True, vect__min_df=1, vect__stop_words=english, vect__use_idf=True, score=0.861280 -   0.6s"
       ]
      },
      {
       "output_type": "stream",
       "stream": "stdout",
       "text": [
        "\n",
        "[GridSearchCV] vect__ngram_range=(1, 1), vect__smooth_idf=True, vect__sublinear_tf=False, vect__binary=True, vect__min_df=1, vect__stop_words=None, vect__use_idf=False \n",
        "[GridSearchCV]  vect__ngram_range=(1, 1), vect__smooth_idf=True, vect__sublinear_tf=False, vect__binary=True, vect__min_df=1, vect__stop_words=None, vect__use_idf=False, score=0.866071 -   0.7s"
       ]
      },
      {
       "output_type": "stream",
       "stream": "stdout",
       "text": [
        "\n",
        "[GridSearchCV] vect__ngram_range=(1, 1), vect__smooth_idf=True, vect__sublinear_tf=False, vect__binary=True, vect__min_df=1, vect__stop_words=None, vect__use_idf=False \n",
        "[GridSearchCV]  vect__ngram_range=(1, 1), vect__smooth_idf=True, vect__sublinear_tf=False, vect__binary=True, vect__min_df=1, vect__stop_words=None, vect__use_idf=False, score=0.881255 -   0.7s"
       ]
      },
      {
       "output_type": "stream",
       "stream": "stdout",
       "text": [
        "\n",
        "[GridSearchCV] vect__ngram_range=(1, 1), vect__smooth_idf=True, vect__sublinear_tf=False, vect__binary=True, vect__min_df=1, vect__stop_words=None, vect__use_idf=False \n",
        "[GridSearchCV]  vect__ngram_range=(1, 1), vect__smooth_idf=True, vect__sublinear_tf=False, vect__binary=True, vect__min_df=1, vect__stop_words=None, vect__use_idf=False, score=0.853474 -   0.8s"
       ]
      },
      {
       "output_type": "stream",
       "stream": "stdout",
       "text": [
        "\n",
        "[GridSearchCV] vect__ngram_range=(1, 1), vect__smooth_idf=True, vect__sublinear_tf=False, vect__binary=True, vect__min_df=1, vect__stop_words=None, vect__use_idf=True \n",
        "[GridSearchCV]  vect__ngram_range=(1, 1), vect__smooth_idf=True, vect__sublinear_tf=False, vect__binary=True, vect__min_df=1, vect__stop_words=None, vect__use_idf=True, score=0.873700 -   0.6s"
       ]
      },
      {
       "output_type": "stream",
       "stream": "stdout",
       "text": [
        "\n",
        "[GridSearchCV] vect__ngram_range=(1, 1), vect__smooth_idf=True, vect__sublinear_tf=False, vect__binary=True, vect__min_df=1, vect__stop_words=None, vect__use_idf=True \n",
        "[GridSearchCV]  vect__ngram_range=(1, 1), vect__smooth_idf=True, vect__sublinear_tf=False, vect__binary=True, vect__min_df=1, vect__stop_words=None, vect__use_idf=True, score=0.884415 -   0.6s"
       ]
      },
      {
       "output_type": "stream",
       "stream": "stderr",
       "text": [
        "[Parallel(n_jobs=1)]: Done 200 jobs       | elapsed:  3.8min\n",
        "[Parallel(n_jobs=1)]: Done 221 jobs       | elapsed:  4.0min\n"
       ]
      },
      {
       "output_type": "stream",
       "stream": "stdout",
       "text": [
        "\n",
        "[GridSearchCV] vect__ngram_range=(1, 1), vect__smooth_idf=True, vect__sublinear_tf=False, vect__binary=True, vect__min_df=1, vect__stop_words=None, vect__use_idf=True \n",
        "[GridSearchCV]  vect__ngram_range=(1, 1), vect__smooth_idf=True, vect__sublinear_tf=False, vect__binary=True, vect__min_df=1, vect__stop_words=None, vect__use_idf=True, score=0.859091 -   0.6s"
       ]
      },
      {
       "output_type": "stream",
       "stream": "stdout",
       "text": [
        "\n",
        "[GridSearchCV] vect__ngram_range=(1, 1), vect__smooth_idf=True, vect__sublinear_tf=True, vect__binary=True, vect__min_df=1, vect__stop_words=None, vect__use_idf=False \n",
        "[GridSearchCV]  vect__ngram_range=(1, 1), vect__smooth_idf=True, vect__sublinear_tf=True, vect__binary=True, vect__min_df=1, vect__stop_words=None, vect__use_idf=False, score=0.866071 -   0.6s"
       ]
      },
      {
       "output_type": "stream",
       "stream": "stdout",
       "text": [
        "\n",
        "[GridSearchCV] vect__ngram_range=(1, 1), vect__smooth_idf=True, vect__sublinear_tf=True, vect__binary=True, vect__min_df=1, vect__stop_words=None, vect__use_idf=False \n",
        "[GridSearchCV]  vect__ngram_range=(1, 1), vect__smooth_idf=True, vect__sublinear_tf=True, vect__binary=True, vect__min_df=1, vect__stop_words=None, vect__use_idf=False, score=0.881255 -   0.7s"
       ]
      },
      {
       "output_type": "stream",
       "stream": "stdout",
       "text": [
        "\n",
        "[GridSearchCV] vect__ngram_range=(1, 1), vect__smooth_idf=True, vect__sublinear_tf=True, vect__binary=True, vect__min_df=1, vect__stop_words=None, vect__use_idf=False \n",
        "[GridSearchCV]  vect__ngram_range=(1, 1), vect__smooth_idf=True, vect__sublinear_tf=True, vect__binary=True, vect__min_df=1, vect__stop_words=None, vect__use_idf=False, score=0.853474 -   0.8s"
       ]
      },
      {
       "output_type": "stream",
       "stream": "stdout",
       "text": [
        "\n",
        "[GridSearchCV] vect__ngram_range=(1, 1), vect__smooth_idf=True, vect__sublinear_tf=True, vect__binary=True, vect__min_df=1, vect__stop_words=None, vect__use_idf=True \n",
        "[GridSearchCV]  vect__ngram_range=(1, 1), vect__smooth_idf=True, vect__sublinear_tf=True, vect__binary=True, vect__min_df=1, vect__stop_words=None, vect__use_idf=True, score=0.873051 -   0.6s"
       ]
      },
      {
       "output_type": "stream",
       "stream": "stdout",
       "text": [
        "\n",
        "[GridSearchCV] vect__ngram_range=(1, 1), vect__smooth_idf=True, vect__sublinear_tf=True, vect__binary=True, vect__min_df=1, vect__stop_words=None, vect__use_idf=True \n",
        "[GridSearchCV]  vect__ngram_range=(1, 1), vect__smooth_idf=True, vect__sublinear_tf=True, vect__binary=True, vect__min_df=1, vect__stop_words=None, vect__use_idf=True, score=0.884415 -   0.8s"
       ]
      },
      {
       "output_type": "stream",
       "stream": "stdout",
       "text": [
        "\n",
        "[GridSearchCV] vect__ngram_range=(1, 1), vect__smooth_idf=True, vect__sublinear_tf=True, vect__binary=True, vect__min_df=1, vect__stop_words=None, vect__use_idf=True \n",
        "[GridSearchCV]  vect__ngram_range=(1, 1), vect__smooth_idf=True, vect__sublinear_tf=True, vect__binary=True, vect__min_df=1, vect__stop_words=None, vect__use_idf=True, score=0.859091 -   0.6s"
       ]
      },
      {
       "output_type": "stream",
       "stream": "stdout",
       "text": [
        "\n",
        "[GridSearchCV] vect__ngram_range=(1, 1), vect__smooth_idf=True, vect__sublinear_tf=False, vect__binary=True, vect__min_df=1, vect__stop_words=english, vect__use_idf=False \n",
        "[GridSearchCV]  vect__ngram_range=(1, 1), vect__smooth_idf=True, vect__sublinear_tf=False, vect__binary=True, vect__min_df=1, vect__stop_words=english, vect__use_idf=False, score=0.854573 -   0.7s"
       ]
      },
      {
       "output_type": "stream",
       "stream": "stdout",
       "text": [
        "\n",
        "[GridSearchCV] vect__ngram_range=(1, 1), vect__smooth_idf=True, vect__sublinear_tf=False, vect__binary=True, vect__min_df=1, vect__stop_words=english, vect__use_idf=False \n",
        "[GridSearchCV]  vect__ngram_range=(1, 1), vect__smooth_idf=True, vect__sublinear_tf=False, vect__binary=True, vect__min_df=1, vect__stop_words=english, vect__use_idf=False, score=0.875371 -   0.5s"
       ]
      },
      {
       "output_type": "stream",
       "stream": "stdout",
       "text": [
        "\n",
        "[GridSearchCV] vect__ngram_range=(1, 1), vect__smooth_idf=True, vect__sublinear_tf=False, vect__binary=True, vect__min_df=1, vect__stop_words=english, vect__use_idf=False \n",
        "[GridSearchCV]  vect__ngram_range=(1, 1), vect__smooth_idf=True, vect__sublinear_tf=False, vect__binary=True, vect__min_df=1, vect__stop_words=english, vect__use_idf=False, score=0.854740 -   0.5s"
       ]
      },
      {
       "output_type": "stream",
       "stream": "stdout",
       "text": [
        "\n",
        "[GridSearchCV] vect__ngram_range=(1, 1), vect__smooth_idf=True, vect__sublinear_tf=False, vect__binary=True, vect__min_df=1, vect__stop_words=english, vect__use_idf=True \n",
        "[GridSearchCV]  vect__ngram_range=(1, 1), vect__smooth_idf=True, vect__sublinear_tf=False, vect__binary=True, vect__min_df=1, vect__stop_words=english, vect__use_idf=True, score=0.860119 -   0.5s"
       ]
      },
      {
       "output_type": "stream",
       "stream": "stdout",
       "text": [
        "\n",
        "[GridSearchCV] vect__ngram_range=(1, 1), vect__smooth_idf=True, vect__sublinear_tf=False, vect__binary=True, vect__min_df=1, vect__stop_words=english, vect__use_idf=True \n",
        "[GridSearchCV]  vect__ngram_range=(1, 1), vect__smooth_idf=True, vect__sublinear_tf=False, vect__binary=True, vect__min_df=1, vect__stop_words=english, vect__use_idf=True, score=0.871833 -   0.5s"
       ]
      },
      {
       "output_type": "stream",
       "stream": "stdout",
       "text": [
        "\n",
        "[GridSearchCV] vect__ngram_range=(1, 1), vect__smooth_idf=True, vect__sublinear_tf=False, vect__binary=True, vect__min_df=1, vect__stop_words=english, vect__use_idf=True \n",
        "[GridSearchCV]  vect__ngram_range=(1, 1), vect__smooth_idf=True, vect__sublinear_tf=False, vect__binary=True, vect__min_df=1, vect__stop_words=english, vect__use_idf=True, score=0.860625 -   0.5s"
       ]
      },
      {
       "output_type": "stream",
       "stream": "stdout",
       "text": [
        "\n",
        "[GridSearchCV] vect__ngram_range=(1, 1), vect__smooth_idf=True, vect__sublinear_tf=True, vect__binary=True, vect__min_df=1, vect__stop_words=english, vect__use_idf=False \n",
        "[GridSearchCV]  vect__ngram_range=(1, 1), vect__smooth_idf=True, vect__sublinear_tf=True, vect__binary=True, vect__min_df=1, vect__stop_words=english, vect__use_idf=False, score=0.854573 -   0.5s"
       ]
      },
      {
       "output_type": "stream",
       "stream": "stdout",
       "text": [
        "\n",
        "[GridSearchCV] vect__ngram_range=(1, 1), vect__smooth_idf=True, vect__sublinear_tf=True, vect__binary=True, vect__min_df=1, vect__stop_words=english, vect__use_idf=False \n",
        "[GridSearchCV]  vect__ngram_range=(1, 1), vect__smooth_idf=True, vect__sublinear_tf=True, vect__binary=True, vect__min_df=1, vect__stop_words=english, vect__use_idf=False, score=0.875371 -   0.5s"
       ]
      },
      {
       "output_type": "stream",
       "stream": "stdout",
       "text": [
        "\n",
        "[GridSearchCV] vect__ngram_range=(1, 1), vect__smooth_idf=True, vect__sublinear_tf=True, vect__binary=True, vect__min_df=1, vect__stop_words=english, vect__use_idf=False \n",
        "[GridSearchCV]  vect__ngram_range=(1, 1), vect__smooth_idf=True, vect__sublinear_tf=True, vect__binary=True, vect__min_df=1, vect__stop_words=english, vect__use_idf=False, score=0.854740 -   0.5s"
       ]
      },
      {
       "output_type": "stream",
       "stream": "stdout",
       "text": [
        "\n",
        "[GridSearchCV] vect__ngram_range=(1, 1), vect__smooth_idf=True, vect__sublinear_tf=True, vect__binary=True, vect__min_df=1, vect__stop_words=english, vect__use_idf=True \n",
        "[GridSearchCV]  vect__ngram_range=(1, 1), vect__smooth_idf=True, vect__sublinear_tf=True, vect__binary=True, vect__min_df=1, vect__stop_words=english, vect__use_idf=True, score=0.860119 -   0.5s"
       ]
      },
      {
       "output_type": "stream",
       "stream": "stdout",
       "text": [
        "\n",
        "[GridSearchCV] vect__ngram_range=(1, 1), vect__smooth_idf=True, vect__sublinear_tf=True, vect__binary=True, vect__min_df=1, vect__stop_words=english, vect__use_idf=True \n",
        "[GridSearchCV]  vect__ngram_range=(1, 1), vect__smooth_idf=True, vect__sublinear_tf=True, vect__binary=True, vect__min_df=1, vect__stop_words=english, vect__use_idf=True, score=0.871833 -   0.5s"
       ]
      },
      {
       "output_type": "stream",
       "stream": "stdout",
       "text": [
        "\n",
        "[GridSearchCV] vect__ngram_range=(1, 1), vect__smooth_idf=True, vect__sublinear_tf=True, vect__binary=True, vect__min_df=1, vect__stop_words=english, vect__use_idf=True \n",
        "[GridSearchCV]  vect__ngram_range=(1, 1), vect__smooth_idf=True, vect__sublinear_tf=True, vect__binary=True, vect__min_df=1, vect__stop_words=english, vect__use_idf=True, score=0.860625 -   0.5s"
       ]
      },
      {
       "output_type": "stream",
       "stream": "stdout",
       "text": [
        "\n",
        "[GridSearchCV] vect__ngram_range=(1, 2), vect__smooth_idf=False, vect__sublinear_tf=False, vect__binary=True, vect__min_df=1, vect__stop_words=None, vect__use_idf=False \n",
        "[GridSearchCV]  vect__ngram_range=(1, 2), vect__smooth_idf=False, vect__sublinear_tf=False, vect__binary=True, vect__min_df=1, vect__stop_words=None, vect__use_idf=False, score=0.864785 -   1.9s"
       ]
      },
      {
       "output_type": "stream",
       "stream": "stdout",
       "text": [
        "\n",
        "[GridSearchCV] vect__ngram_range=(1, 2), vect__smooth_idf=False, vect__sublinear_tf=False, vect__binary=True, vect__min_df=1, vect__stop_words=None, vect__use_idf=False \n",
        "[GridSearchCV]  vect__ngram_range=(1, 2), vect__smooth_idf=False, vect__sublinear_tf=False, vect__binary=True, vect__min_df=1, vect__stop_words=None, vect__use_idf=False, score=0.883510 -   1.9s"
       ]
      },
      {
       "output_type": "stream",
       "stream": "stdout",
       "text": [
        "\n",
        "[GridSearchCV] vect__ngram_range=(1, 2), vect__smooth_idf=False, vect__sublinear_tf=False, vect__binary=True, vect__min_df=1, vect__stop_words=None, vect__use_idf=False \n",
        "[GridSearchCV]  vect__ngram_range=(1, 2), vect__smooth_idf=False, vect__sublinear_tf=False, vect__binary=True, vect__min_df=1, vect__stop_words=None, vect__use_idf=False, score=0.856489 -   2.0s"
       ]
      },
      {
       "output_type": "stream",
       "stream": "stdout",
       "text": [
        "\n",
        "[GridSearchCV] vect__ngram_range=(1, 2), vect__smooth_idf=False, vect__sublinear_tf=False, vect__binary=True, vect__min_df=1, vect__stop_words=None, vect__use_idf=True \n",
        "[GridSearchCV]  vect__ngram_range=(1, 2), vect__smooth_idf=False, vect__sublinear_tf=False, vect__binary=True, vect__min_df=1, vect__stop_words=None, vect__use_idf=True, score=0.867010 -   1.8s"
       ]
      },
      {
       "output_type": "stream",
       "stream": "stdout",
       "text": [
        "\n",
        "[GridSearchCV] vect__ngram_range=(1, 2), vect__smooth_idf=False, vect__sublinear_tf=False, vect__binary=True, vect__min_df=1, vect__stop_words=None, vect__use_idf=True \n",
        "[GridSearchCV]  vect__ngram_range=(1, 2), vect__smooth_idf=False, vect__sublinear_tf=False, vect__binary=True, vect__min_df=1, vect__stop_words=None, vect__use_idf=True, score=0.887218 -   1.8s"
       ]
      },
      {
       "output_type": "stream",
       "stream": "stdout",
       "text": [
        "\n",
        "[GridSearchCV] vect__ngram_range=(1, 2), vect__smooth_idf=False, vect__sublinear_tf=False, vect__binary=True, vect__min_df=1, vect__stop_words=None, vect__use_idf=True \n",
        "[GridSearchCV]  vect__ngram_range=(1, 2), vect__smooth_idf=False, vect__sublinear_tf=False, vect__binary=True, vect__min_df=1, vect__stop_words=None, vect__use_idf=True, score=0.862148 -   1.8s"
       ]
      },
      {
       "output_type": "stream",
       "stream": "stdout",
       "text": [
        "\n",
        "[GridSearchCV] vect__ngram_range=(1, 2), vect__smooth_idf=False, vect__sublinear_tf=True, vect__binary=True, vect__min_df=1, vect__stop_words=None, vect__use_idf=False \n",
        "[GridSearchCV]  vect__ngram_range=(1, 2), vect__smooth_idf=False, vect__sublinear_tf=True, vect__binary=True, vect__min_df=1, vect__stop_words=None, vect__use_idf=False, score=0.864785 -   1.9s"
       ]
      },
      {
       "output_type": "stream",
       "stream": "stdout",
       "text": [
        "\n",
        "[GridSearchCV] vect__ngram_range=(1, 2), vect__smooth_idf=False, vect__sublinear_tf=True, vect__binary=True, vect__min_df=1, vect__stop_words=None, vect__use_idf=False \n",
        "[GridSearchCV]  vect__ngram_range=(1, 2), vect__smooth_idf=False, vect__sublinear_tf=True, vect__binary=True, vect__min_df=1, vect__stop_words=None, vect__use_idf=False, score=0.883510 -   2.0s"
       ]
      },
      {
       "output_type": "stream",
       "stream": "stdout",
       "text": [
        "\n",
        "[GridSearchCV] vect__ngram_range=(1, 2), vect__smooth_idf=False, vect__sublinear_tf=True, vect__binary=True, vect__min_df=1, vect__stop_words=None, vect__use_idf=False \n",
        "[GridSearchCV]  vect__ngram_range=(1, 2), vect__smooth_idf=False, vect__sublinear_tf=True, vect__binary=True, vect__min_df=1, vect__stop_words=None, vect__use_idf=False, score=0.856489 -   2.0s"
       ]
      },
      {
       "output_type": "stream",
       "stream": "stdout",
       "text": [
        "\n",
        "[GridSearchCV] vect__ngram_range=(1, 2), vect__smooth_idf=False, vect__sublinear_tf=True, vect__binary=True, vect__min_df=1, vect__stop_words=None, vect__use_idf=True \n",
        "[GridSearchCV]  vect__ngram_range=(1, 2), vect__smooth_idf=False, vect__sublinear_tf=True, vect__binary=True, vect__min_df=1, vect__stop_words=None, vect__use_idf=True, score=0.867010 -   1.8s"
       ]
      },
      {
       "output_type": "stream",
       "stream": "stdout",
       "text": [
        "\n",
        "[GridSearchCV] vect__ngram_range=(1, 2), vect__smooth_idf=False, vect__sublinear_tf=True, vect__binary=True, vect__min_df=1, vect__stop_words=None, vect__use_idf=True \n",
        "[GridSearchCV]  vect__ngram_range=(1, 2), vect__smooth_idf=False, vect__sublinear_tf=True, vect__binary=True, vect__min_df=1, vect__stop_words=None, vect__use_idf=True, score=0.886381 -   1.8s"
       ]
      },
      {
       "output_type": "stream",
       "stream": "stdout",
       "text": [
        "\n",
        "[GridSearchCV] vect__ngram_range=(1, 2), vect__smooth_idf=False, vect__sublinear_tf=True, vect__binary=True, vect__min_df=1, vect__stop_words=None, vect__use_idf=True \n",
        "[GridSearchCV]  vect__ngram_range=(1, 2), vect__smooth_idf=False, vect__sublinear_tf=True, vect__binary=True, vect__min_df=1, vect__stop_words=None, vect__use_idf=True, score=0.862148 -   1.8s"
       ]
      },
      {
       "output_type": "stream",
       "stream": "stdout",
       "text": [
        "\n",
        "[GridSearchCV] vect__ngram_range=(1, 2), vect__smooth_idf=False, vect__sublinear_tf=False, vect__binary=True, vect__min_df=1, vect__stop_words=english, vect__use_idf=False \n",
        "[GridSearchCV]  vect__ngram_range=(1, 2), vect__smooth_idf=False, vect__sublinear_tf=False, vect__binary=True, vect__min_df=1, vect__stop_words=english, vect__use_idf=False, score=0.849923 -   1.3s"
       ]
      },
      {
       "output_type": "stream",
       "stream": "stdout",
       "text": [
        "\n",
        "[GridSearchCV] vect__ngram_range=(1, 2), vect__smooth_idf=False, vect__sublinear_tf=False, vect__binary=True, vect__min_df=1, vect__stop_words=english, vect__use_idf=False \n",
        "[GridSearchCV]  vect__ngram_range=(1, 2), vect__smooth_idf=False, vect__sublinear_tf=False, vect__binary=True, vect__min_df=1, vect__stop_words=english, vect__use_idf=False, score=0.876133 -   1.3s"
       ]
      },
      {
       "output_type": "stream",
       "stream": "stdout",
       "text": [
        "\n",
        "[GridSearchCV] vect__ngram_range=(1, 2), vect__smooth_idf=False, vect__sublinear_tf=False, vect__binary=True, vect__min_df=1, vect__stop_words=english, vect__use_idf=False \n",
        "[GridSearchCV]  vect__ngram_range=(1, 2), vect__smooth_idf=False, vect__sublinear_tf=False, vect__binary=True, vect__min_df=1, vect__stop_words=english, vect__use_idf=False, score=0.841369 -   1.2s"
       ]
      },
      {
       "output_type": "stream",
       "stream": "stdout",
       "text": [
        "\n",
        "[GridSearchCV] vect__ngram_range=(1, 2), vect__smooth_idf=False, vect__sublinear_tf=False, vect__binary=True, vect__min_df=1, vect__stop_words=english, vect__use_idf=True \n",
        "[GridSearchCV]  vect__ngram_range=(1, 2), vect__smooth_idf=False, vect__sublinear_tf=False, vect__binary=True, vect__min_df=1, vect__stop_words=english, vect__use_idf=True, score=0.850575 -   1.2s"
       ]
      },
      {
       "output_type": "stream",
       "stream": "stdout",
       "text": [
        "\n",
        "[GridSearchCV] vect__ngram_range=(1, 2), vect__smooth_idf=False, vect__sublinear_tf=False, vect__binary=True, vect__min_df=1, vect__stop_words=english, vect__use_idf=True \n",
        "[GridSearchCV]  vect__ngram_range=(1, 2), vect__smooth_idf=False, vect__sublinear_tf=False, vect__binary=True, vect__min_df=1, vect__stop_words=english, vect__use_idf=True, score=0.872616 -   1.3s"
       ]
      },
      {
       "output_type": "stream",
       "stream": "stdout",
       "text": [
        "\n",
        "[GridSearchCV] vect__ngram_range=(1, 2), vect__smooth_idf=False, vect__sublinear_tf=False, vect__binary=True, vect__min_df=1, vect__stop_words=english, vect__use_idf=True \n",
        "[GridSearchCV]  vect__ngram_range=(1, 2), vect__smooth_idf=False, vect__sublinear_tf=False, vect__binary=True, vect__min_df=1, vect__stop_words=english, vect__use_idf=True, score=0.833727 -   1.3s"
       ]
      },
      {
       "output_type": "stream",
       "stream": "stdout",
       "text": [
        "\n",
        "[GridSearchCV] vect__ngram_range=(1, 2), vect__smooth_idf=False, vect__sublinear_tf=True, vect__binary=True, vect__min_df=1, vect__stop_words=english, vect__use_idf=False \n",
        "[GridSearchCV]  vect__ngram_range=(1, 2), vect__smooth_idf=False, vect__sublinear_tf=True, vect__binary=True, vect__min_df=1, vect__stop_words=english, vect__use_idf=False, score=0.849923 -   1.3s"
       ]
      },
      {
       "output_type": "stream",
       "stream": "stdout",
       "text": [
        "\n",
        "[GridSearchCV] vect__ngram_range=(1, 2), vect__smooth_idf=False, vect__sublinear_tf=True, vect__binary=True, vect__min_df=1, vect__stop_words=english, vect__use_idf=False \n",
        "[GridSearchCV]  vect__ngram_range=(1, 2), vect__smooth_idf=False, vect__sublinear_tf=True, vect__binary=True, vect__min_df=1, vect__stop_words=english, vect__use_idf=False, score=0.876133 -   1.3s"
       ]
      },
      {
       "output_type": "stream",
       "stream": "stdout",
       "text": [
        "\n",
        "[GridSearchCV] vect__ngram_range=(1, 2), vect__smooth_idf=False, vect__sublinear_tf=True, vect__binary=True, vect__min_df=1, vect__stop_words=english, vect__use_idf=False \n",
        "[GridSearchCV]  vect__ngram_range=(1, 2), vect__smooth_idf=False, vect__sublinear_tf=True, vect__binary=True, vect__min_df=1, vect__stop_words=english, vect__use_idf=False, score=0.841369 -   1.2s"
       ]
      },
      {
       "output_type": "stream",
       "stream": "stdout",
       "text": [
        "\n",
        "[GridSearchCV] vect__ngram_range=(1, 2), vect__smooth_idf=False, vect__sublinear_tf=True, vect__binary=True, vect__min_df=1, vect__stop_words=english, vect__use_idf=True \n",
        "[GridSearchCV]  vect__ngram_range=(1, 2), vect__smooth_idf=False, vect__sublinear_tf=True, vect__binary=True, vect__min_df=1, vect__stop_words=english, vect__use_idf=True, score=0.850575 -   1.3s"
       ]
      },
      {
       "output_type": "stream",
       "stream": "stdout",
       "text": [
        "\n",
        "[GridSearchCV] vect__ngram_range=(1, 2), vect__smooth_idf=False, vect__sublinear_tf=True, vect__binary=True, vect__min_df=1, vect__stop_words=english, vect__use_idf=True \n",
        "[GridSearchCV]  vect__ngram_range=(1, 2), vect__smooth_idf=False, vect__sublinear_tf=True, vect__binary=True, vect__min_df=1, vect__stop_words=english, vect__use_idf=True, score=0.872616 -   1.3s"
       ]
      },
      {
       "output_type": "stream",
       "stream": "stdout",
       "text": [
        "\n",
        "[GridSearchCV] vect__ngram_range=(1, 2), vect__smooth_idf=False, vect__sublinear_tf=True, vect__binary=True, vect__min_df=1, vect__stop_words=english, vect__use_idf=True \n",
        "[GridSearchCV]  vect__ngram_range=(1, 2), vect__smooth_idf=False, vect__sublinear_tf=True, vect__binary=True, vect__min_df=1, vect__stop_words=english, vect__use_idf=True, score=0.833727 -   1.3s"
       ]
      },
      {
       "output_type": "stream",
       "stream": "stdout",
       "text": [
        "\n",
        "[GridSearchCV] vect__ngram_range=(1, 2), vect__smooth_idf=True, vect__sublinear_tf=False, vect__binary=True, vect__min_df=1, vect__stop_words=None, vect__use_idf=False \n",
        "[GridSearchCV]  vect__ngram_range=(1, 2), vect__smooth_idf=True, vect__sublinear_tf=False, vect__binary=True, vect__min_df=1, vect__stop_words=None, vect__use_idf=False, score=0.864785 -   1.9s"
       ]
      },
      {
       "output_type": "stream",
       "stream": "stderr",
       "text": [
        "[Parallel(n_jobs=1)]: Done 242 jobs       | elapsed:  4.3min\n",
        "[Parallel(n_jobs=1)]: Done 265 jobs       | elapsed:  4.9min\n"
       ]
      },
      {
       "output_type": "stream",
       "stream": "stdout",
       "text": [
        "\n",
        "[GridSearchCV] vect__ngram_range=(1, 2), vect__smooth_idf=True, vect__sublinear_tf=False, vect__binary=True, vect__min_df=1, vect__stop_words=None, vect__use_idf=False \n",
        "[GridSearchCV]  vect__ngram_range=(1, 2), vect__smooth_idf=True, vect__sublinear_tf=False, vect__binary=True, vect__min_df=1, vect__stop_words=None, vect__use_idf=False, score=0.883510 -   1.9s"
       ]
      },
      {
       "output_type": "stream",
       "stream": "stdout",
       "text": [
        "\n",
        "[GridSearchCV] vect__ngram_range=(1, 2), vect__smooth_idf=True, vect__sublinear_tf=False, vect__binary=True, vect__min_df=1, vect__stop_words=None, vect__use_idf=False \n",
        "[GridSearchCV]  vect__ngram_range=(1, 2), vect__smooth_idf=True, vect__sublinear_tf=False, vect__binary=True, vect__min_df=1, vect__stop_words=None, vect__use_idf=False, score=0.856489 -   2.0s"
       ]
      },
      {
       "output_type": "stream",
       "stream": "stdout",
       "text": [
        "\n",
        "[GridSearchCV] vect__ngram_range=(1, 2), vect__smooth_idf=True, vect__sublinear_tf=False, vect__binary=True, vect__min_df=1, vect__stop_words=None, vect__use_idf=True \n",
        "[GridSearchCV]  vect__ngram_range=(1, 2), vect__smooth_idf=True, vect__sublinear_tf=False, vect__binary=True, vect__min_df=1, vect__stop_words=None, vect__use_idf=True, score=0.869757 -   1.8s"
       ]
      },
      {
       "output_type": "stream",
       "stream": "stdout",
       "text": [
        "\n",
        "[GridSearchCV] vect__ngram_range=(1, 2), vect__smooth_idf=True, vect__sublinear_tf=False, vect__binary=True, vect__min_df=1, vect__stop_words=None, vect__use_idf=True \n",
        "[GridSearchCV]  vect__ngram_range=(1, 2), vect__smooth_idf=True, vect__sublinear_tf=False, vect__binary=True, vect__min_df=1, vect__stop_words=None, vect__use_idf=True, score=0.884702 -   1.9s"
       ]
      },
      {
       "output_type": "stream",
       "stream": "stdout",
       "text": [
        "\n",
        "[GridSearchCV] vect__ngram_range=(1, 2), vect__smooth_idf=True, vect__sublinear_tf=False, vect__binary=True, vect__min_df=1, vect__stop_words=None, vect__use_idf=True \n",
        "[GridSearchCV]  vect__ngram_range=(1, 2), vect__smooth_idf=True, vect__sublinear_tf=False, vect__binary=True, vect__min_df=1, vect__stop_words=None, vect__use_idf=True, score=0.863671 -   1.8s"
       ]
      },
      {
       "output_type": "stream",
       "stream": "stdout",
       "text": [
        "\n",
        "[GridSearchCV] vect__ngram_range=(1, 2), vect__smooth_idf=True, vect__sublinear_tf=True, vect__binary=True, vect__min_df=1, vect__stop_words=None, vect__use_idf=False \n",
        "[GridSearchCV]  vect__ngram_range=(1, 2), vect__smooth_idf=True, vect__sublinear_tf=True, vect__binary=True, vect__min_df=1, vect__stop_words=None, vect__use_idf=False, score=0.864785 -   1.9s"
       ]
      },
      {
       "output_type": "stream",
       "stream": "stdout",
       "text": [
        "\n",
        "[GridSearchCV] vect__ngram_range=(1, 2), vect__smooth_idf=True, vect__sublinear_tf=True, vect__binary=True, vect__min_df=1, vect__stop_words=None, vect__use_idf=False \n",
        "[GridSearchCV]  vect__ngram_range=(1, 2), vect__smooth_idf=True, vect__sublinear_tf=True, vect__binary=True, vect__min_df=1, vect__stop_words=None, vect__use_idf=False, score=0.883510 -   1.9s"
       ]
      },
      {
       "output_type": "stream",
       "stream": "stdout",
       "text": [
        "\n",
        "[GridSearchCV] vect__ngram_range=(1, 2), vect__smooth_idf=True, vect__sublinear_tf=True, vect__binary=True, vect__min_df=1, vect__stop_words=None, vect__use_idf=False \n",
        "[GridSearchCV]  vect__ngram_range=(1, 2), vect__smooth_idf=True, vect__sublinear_tf=True, vect__binary=True, vect__min_df=1, vect__stop_words=None, vect__use_idf=False, score=0.856489 -   2.0s"
       ]
      },
      {
       "output_type": "stream",
       "stream": "stdout",
       "text": [
        "\n",
        "[GridSearchCV] vect__ngram_range=(1, 2), vect__smooth_idf=True, vect__sublinear_tf=True, vect__binary=True, vect__min_df=1, vect__stop_words=None, vect__use_idf=True \n",
        "[GridSearchCV]  vect__ngram_range=(1, 2), vect__smooth_idf=True, vect__sublinear_tf=True, vect__binary=True, vect__min_df=1, vect__stop_words=None, vect__use_idf=True, score=0.869118 -   1.8s"
       ]
      },
      {
       "output_type": "stream",
       "stream": "stdout",
       "text": [
        "\n",
        "[GridSearchCV] vect__ngram_range=(1, 2), vect__smooth_idf=True, vect__sublinear_tf=True, vect__binary=True, vect__min_df=1, vect__stop_words=None, vect__use_idf=True \n",
        "[GridSearchCV]  vect__ngram_range=(1, 2), vect__smooth_idf=True, vect__sublinear_tf=True, vect__binary=True, vect__min_df=1, vect__stop_words=None, vect__use_idf=True, score=0.884702 -   1.8s"
       ]
      },
      {
       "output_type": "stream",
       "stream": "stdout",
       "text": [
        "\n",
        "[GridSearchCV] vect__ngram_range=(1, 2), vect__smooth_idf=True, vect__sublinear_tf=True, vect__binary=True, vect__min_df=1, vect__stop_words=None, vect__use_idf=True \n",
        "[GridSearchCV]  vect__ngram_range=(1, 2), vect__smooth_idf=True, vect__sublinear_tf=True, vect__binary=True, vect__min_df=1, vect__stop_words=None, vect__use_idf=True, score=0.863671 -   1.8s"
       ]
      },
      {
       "output_type": "stream",
       "stream": "stdout",
       "text": [
        "\n",
        "[GridSearchCV] vect__ngram_range=(1, 2), vect__smooth_idf=True, vect__sublinear_tf=False, vect__binary=True, vect__min_df=1, vect__stop_words=english, vect__use_idf=False \n",
        "[GridSearchCV]  vect__ngram_range=(1, 2), vect__smooth_idf=True, vect__sublinear_tf=False, vect__binary=True, vect__min_df=1, vect__stop_words=english, vect__use_idf=False, score=0.849923 -   1.3s"
       ]
      },
      {
       "output_type": "stream",
       "stream": "stdout",
       "text": [
        "\n",
        "[GridSearchCV] vect__ngram_range=(1, 2), vect__smooth_idf=True, vect__sublinear_tf=False, vect__binary=True, vect__min_df=1, vect__stop_words=english, vect__use_idf=False \n",
        "[GridSearchCV]  vect__ngram_range=(1, 2), vect__smooth_idf=True, vect__sublinear_tf=False, vect__binary=True, vect__min_df=1, vect__stop_words=english, vect__use_idf=False, score=0.876133 -   1.3s"
       ]
      },
      {
       "output_type": "stream",
       "stream": "stdout",
       "text": [
        "\n",
        "[GridSearchCV] vect__ngram_range=(1, 2), vect__smooth_idf=True, vect__sublinear_tf=False, vect__binary=True, vect__min_df=1, vect__stop_words=english, vect__use_idf=False \n",
        "[GridSearchCV]  vect__ngram_range=(1, 2), vect__smooth_idf=True, vect__sublinear_tf=False, vect__binary=True, vect__min_df=1, vect__stop_words=english, vect__use_idf=False, score=0.841369 -   1.3s"
       ]
      },
      {
       "output_type": "stream",
       "stream": "stdout",
       "text": [
        "\n",
        "[GridSearchCV] vect__ngram_range=(1, 2), vect__smooth_idf=True, vect__sublinear_tf=False, vect__binary=True, vect__min_df=1, vect__stop_words=english, vect__use_idf=True \n",
        "[GridSearchCV]  vect__ngram_range=(1, 2), vect__smooth_idf=True, vect__sublinear_tf=False, vect__binary=True, vect__min_df=1, vect__stop_words=english, vect__use_idf=True, score=0.848392 -   1.2s"
       ]
      },
      {
       "output_type": "stream",
       "stream": "stdout",
       "text": [
        "\n",
        "[GridSearchCV] vect__ngram_range=(1, 2), vect__smooth_idf=True, vect__sublinear_tf=False, vect__binary=True, vect__min_df=1, vect__stop_words=english, vect__use_idf=True \n",
        "[GridSearchCV]  vect__ngram_range=(1, 2), vect__smooth_idf=True, vect__sublinear_tf=False, vect__binary=True, vect__min_df=1, vect__stop_words=english, vect__use_idf=True, score=0.873476 -   1.3s"
       ]
      },
      {
       "output_type": "stream",
       "stream": "stdout",
       "text": [
        "\n",
        "[GridSearchCV] vect__ngram_range=(1, 2), vect__smooth_idf=True, vect__sublinear_tf=False, vect__binary=True, vect__min_df=1, vect__stop_words=english, vect__use_idf=True \n",
        "[GridSearchCV]  vect__ngram_range=(1, 2), vect__smooth_idf=True, vect__sublinear_tf=False, vect__binary=True, vect__min_df=1, vect__stop_words=english, vect__use_idf=True, score=0.831230 -   1.3s"
       ]
      },
      {
       "output_type": "stream",
       "stream": "stdout",
       "text": [
        "\n",
        "[GridSearchCV] vect__ngram_range=(1, 2), vect__smooth_idf=True, vect__sublinear_tf=True, vect__binary=True, vect__min_df=1, vect__stop_words=english, vect__use_idf=False \n",
        "[GridSearchCV]  vect__ngram_range=(1, 2), vect__smooth_idf=True, vect__sublinear_tf=True, vect__binary=True, vect__min_df=1, vect__stop_words=english, vect__use_idf=False, score=0.849923 -   1.2s"
       ]
      },
      {
       "output_type": "stream",
       "stream": "stdout",
       "text": [
        "\n",
        "[GridSearchCV] vect__ngram_range=(1, 2), vect__smooth_idf=True, vect__sublinear_tf=True, vect__binary=True, vect__min_df=1, vect__stop_words=english, vect__use_idf=False \n",
        "[GridSearchCV]  vect__ngram_range=(1, 2), vect__smooth_idf=True, vect__sublinear_tf=True, vect__binary=True, vect__min_df=1, vect__stop_words=english, vect__use_idf=False, score=0.876133 -   1.3s"
       ]
      },
      {
       "output_type": "stream",
       "stream": "stdout",
       "text": [
        "\n",
        "[GridSearchCV] vect__ngram_range=(1, 2), vect__smooth_idf=True, vect__sublinear_tf=True, vect__binary=True, vect__min_df=1, vect__stop_words=english, vect__use_idf=False \n",
        "[GridSearchCV]  vect__ngram_range=(1, 2), vect__smooth_idf=True, vect__sublinear_tf=True, vect__binary=True, vect__min_df=1, vect__stop_words=english, vect__use_idf=False, score=0.841369 -   1.3s"
       ]
      },
      {
       "output_type": "stream",
       "stream": "stdout",
       "text": [
        "\n",
        "[GridSearchCV] vect__ngram_range=(1, 2), vect__smooth_idf=True, vect__sublinear_tf=True, vect__binary=True, vect__min_df=1, vect__stop_words=english, vect__use_idf=True \n",
        "[GridSearchCV]  vect__ngram_range=(1, 2), vect__smooth_idf=True, vect__sublinear_tf=True, vect__binary=True, vect__min_df=1, vect__stop_words=english, vect__use_idf=True, score=0.848392 -   1.3s"
       ]
      },
      {
       "output_type": "stream",
       "stream": "stdout",
       "text": [
        "\n",
        "[GridSearchCV] vect__ngram_range=(1, 2), vect__smooth_idf=True, vect__sublinear_tf=True, vect__binary=True, vect__min_df=1, vect__stop_words=english, vect__use_idf=True \n",
        "[GridSearchCV]  vect__ngram_range=(1, 2), vect__smooth_idf=True, vect__sublinear_tf=True, vect__binary=True, vect__min_df=1, vect__stop_words=english, vect__use_idf=True, score=0.873476 -   1.2s"
       ]
      },
      {
       "output_type": "stream",
       "stream": "stdout",
       "text": [
        "\n",
        "[GridSearchCV] vect__ngram_range=(1, 2), vect__smooth_idf=True, vect__sublinear_tf=True, vect__binary=True, vect__min_df=1, vect__stop_words=english, vect__use_idf=True \n",
        "[GridSearchCV]  vect__ngram_range=(1, 2), vect__smooth_idf=True, vect__sublinear_tf=True, vect__binary=True, vect__min_df=1, vect__stop_words=english, vect__use_idf=True, score=0.831230 -   1.3s"
       ]
      },
      {
       "output_type": "stream",
       "stream": "stdout",
       "text": [
        "\n",
        "[GridSearchCV] vect__ngram_range=(1, 1), vect__smooth_idf=False, vect__sublinear_tf=False, vect__binary=True, vect__min_df=2, vect__stop_words=None, vect__use_idf=False \n",
        "[GridSearchCV]  vect__ngram_range=(1, 1), vect__smooth_idf=False, vect__sublinear_tf=False, vect__binary=True, vect__min_df=2, vect__stop_words=None, vect__use_idf=False, score=0.866716 -   0.6s"
       ]
      },
      {
       "output_type": "stream",
       "stream": "stdout",
       "text": [
        "\n",
        "[GridSearchCV] vect__ngram_range=(1, 1), vect__smooth_idf=False, vect__sublinear_tf=False, vect__binary=True, vect__min_df=2, vect__stop_words=None, vect__use_idf=False \n",
        "[GridSearchCV]  vect__ngram_range=(1, 1), vect__smooth_idf=False, vect__sublinear_tf=False, vect__binary=True, vect__min_df=2, vect__stop_words=None, vect__use_idf=False, score=0.881432 -   0.7s"
       ]
      },
      {
       "output_type": "stream",
       "stream": "stdout",
       "text": [
        "\n",
        "[GridSearchCV] vect__ngram_range=(1, 1), vect__smooth_idf=False, vect__sublinear_tf=False, vect__binary=True, vect__min_df=2, vect__stop_words=None, vect__use_idf=False \n",
        "[GridSearchCV]  vect__ngram_range=(1, 1), vect__smooth_idf=False, vect__sublinear_tf=False, vect__binary=True, vect__min_df=2, vect__stop_words=None, vect__use_idf=False, score=0.852830 -   0.7s"
       ]
      },
      {
       "output_type": "stream",
       "stream": "stdout",
       "text": [
        "\n",
        "[GridSearchCV] vect__ngram_range=(1, 1), vect__smooth_idf=False, vect__sublinear_tf=False, vect__binary=True, vect__min_df=2, vect__stop_words=None, vect__use_idf=True \n",
        "[GridSearchCV]  vect__ngram_range=(1, 1), vect__smooth_idf=False, vect__sublinear_tf=False, vect__binary=True, vect__min_df=2, vect__stop_words=None, vect__use_idf=True, score=0.872593 -   0.5s"
       ]
      },
      {
       "output_type": "stream",
       "stream": "stdout",
       "text": [
        "\n",
        "[GridSearchCV] vect__ngram_range=(1, 1), vect__smooth_idf=False, vect__sublinear_tf=False, vect__binary=True, vect__min_df=2, vect__stop_words=None, vect__use_idf=True \n",
        "[GridSearchCV]  vect__ngram_range=(1, 1), vect__smooth_idf=False, vect__sublinear_tf=False, vect__binary=True, vect__min_df=2, vect__stop_words=None, vect__use_idf=True, score=0.885075 -   0.6s"
       ]
      },
      {
       "output_type": "stream",
       "stream": "stdout",
       "text": [
        "\n",
        "[GridSearchCV] vect__ngram_range=(1, 1), vect__smooth_idf=False, vect__sublinear_tf=False, vect__binary=True, vect__min_df=2, vect__stop_words=None, vect__use_idf=True \n",
        "[GridSearchCV]  vect__ngram_range=(1, 1), vect__smooth_idf=False, vect__sublinear_tf=False, vect__binary=True, vect__min_df=2, vect__stop_words=None, vect__use_idf=True, score=0.864701 -   0.6s"
       ]
      },
      {
       "output_type": "stream",
       "stream": "stdout",
       "text": [
        "\n",
        "[GridSearchCV] vect__ngram_range=(1, 1), vect__smooth_idf=False, vect__sublinear_tf=True, vect__binary=True, vect__min_df=2, vect__stop_words=None, vect__use_idf=False \n",
        "[GridSearchCV]  vect__ngram_range=(1, 1), vect__smooth_idf=False, vect__sublinear_tf=True, vect__binary=True, vect__min_df=2, vect__stop_words=None, vect__use_idf=False, score=0.866716 -   0.7s"
       ]
      },
      {
       "output_type": "stream",
       "stream": "stdout",
       "text": [
        "\n",
        "[GridSearchCV] vect__ngram_range=(1, 1), vect__smooth_idf=False, vect__sublinear_tf=True, vect__binary=True, vect__min_df=2, vect__stop_words=None, vect__use_idf=False \n",
        "[GridSearchCV]  vect__ngram_range=(1, 1), vect__smooth_idf=False, vect__sublinear_tf=True, vect__binary=True, vect__min_df=2, vect__stop_words=None, vect__use_idf=False, score=0.881432 -   0.7s"
       ]
      },
      {
       "output_type": "stream",
       "stream": "stdout",
       "text": [
        "\n",
        "[GridSearchCV] vect__ngram_range=(1, 1), vect__smooth_idf=False, vect__sublinear_tf=True, vect__binary=True, vect__min_df=2, vect__stop_words=None, vect__use_idf=False \n",
        "[GridSearchCV]  vect__ngram_range=(1, 1), vect__smooth_idf=False, vect__sublinear_tf=True, vect__binary=True, vect__min_df=2, vect__stop_words=None, vect__use_idf=False, score=0.852830 -   0.7s"
       ]
      },
      {
       "output_type": "stream",
       "stream": "stdout",
       "text": [
        "\n",
        "[GridSearchCV] vect__ngram_range=(1, 1), vect__smooth_idf=False, vect__sublinear_tf=True, vect__binary=True, vect__min_df=2, vect__stop_words=None, vect__use_idf=True \n",
        "[GridSearchCV]  vect__ngram_range=(1, 1), vect__smooth_idf=False, vect__sublinear_tf=True, vect__binary=True, vect__min_df=2, vect__stop_words=None, vect__use_idf=True, score=0.872593 -   0.5s"
       ]
      },
      {
       "output_type": "stream",
       "stream": "stdout",
       "text": [
        "\n",
        "[GridSearchCV] vect__ngram_range=(1, 1), vect__smooth_idf=False, vect__sublinear_tf=True, vect__binary=True, vect__min_df=2, vect__stop_words=None, vect__use_idf=True \n",
        "[GridSearchCV]  vect__ngram_range=(1, 1), vect__smooth_idf=False, vect__sublinear_tf=True, vect__binary=True, vect__min_df=2, vect__stop_words=None, vect__use_idf=True, score=0.885075 -   0.6s"
       ]
      },
      {
       "output_type": "stream",
       "stream": "stdout",
       "text": [
        "\n",
        "[GridSearchCV] vect__ngram_range=(1, 1), vect__smooth_idf=False, vect__sublinear_tf=True, vect__binary=True, vect__min_df=2, vect__stop_words=None, vect__use_idf=True \n",
        "[GridSearchCV]  vect__ngram_range=(1, 1), vect__smooth_idf=False, vect__sublinear_tf=True, vect__binary=True, vect__min_df=2, vect__stop_words=None, vect__use_idf=True, score=0.864701 -   0.6s"
       ]
      },
      {
       "output_type": "stream",
       "stream": "stdout",
       "text": [
        "\n",
        "[GridSearchCV] vect__ngram_range=(1, 1), vect__smooth_idf=False, vect__sublinear_tf=False, vect__binary=True, vect__min_df=2, vect__stop_words=english, vect__use_idf=False \n",
        "[GridSearchCV]  vect__ngram_range=(1, 1), vect__smooth_idf=False, vect__sublinear_tf=False, vect__binary=True, vect__min_df=2, vect__stop_words=english, vect__use_idf=False, score=0.854135 -   0.5s"
       ]
      },
      {
       "output_type": "stream",
       "stream": "stdout",
       "text": [
        "\n",
        "[GridSearchCV] vect__ngram_range=(1, 1), vect__smooth_idf=False, vect__sublinear_tf=False, vect__binary=True, vect__min_df=2, vect__stop_words=english, vect__use_idf=False \n",
        "[GridSearchCV]  vect__ngram_range=(1, 1), vect__smooth_idf=False, vect__sublinear_tf=False, vect__binary=True, vect__min_df=2, vect__stop_words=english, vect__use_idf=False, score=0.873700 -   0.5s"
       ]
      },
      {
       "output_type": "stream",
       "stream": "stdout",
       "text": [
        "\n",
        "[GridSearchCV] vect__ngram_range=(1, 1), vect__smooth_idf=False, vect__sublinear_tf=False, vect__binary=True, vect__min_df=2, vect__stop_words=english, vect__use_idf=False \n",
        "[GridSearchCV]  vect__ngram_range=(1, 1), vect__smooth_idf=False, vect__sublinear_tf=False, vect__binary=True, vect__min_df=2, vect__stop_words=english, vect__use_idf=False, score=0.853211 -   0.5s"
       ]
      },
      {
       "output_type": "stream",
       "stream": "stdout",
       "text": [
        "\n",
        "[GridSearchCV] vect__ngram_range=(1, 1), vect__smooth_idf=False, vect__sublinear_tf=False, vect__binary=True, vect__min_df=2, vect__stop_words=english, vect__use_idf=True \n",
        "[GridSearchCV]  vect__ngram_range=(1, 1), vect__smooth_idf=False, vect__sublinear_tf=False, vect__binary=True, vect__min_df=2, vect__stop_words=english, vect__use_idf=True, score=0.861607 -   0.5s"
       ]
      },
      {
       "output_type": "stream",
       "stream": "stdout",
       "text": [
        "\n",
        "[GridSearchCV] vect__ngram_range=(1, 1), vect__smooth_idf=False, vect__sublinear_tf=False, vect__binary=True, vect__min_df=2, vect__stop_words=english, vect__use_idf=True \n",
        "[GridSearchCV]  vect__ngram_range=(1, 1), vect__smooth_idf=False, vect__sublinear_tf=False, vect__binary=True, vect__min_df=2, vect__stop_words=english, vect__use_idf=True, score=0.872024 -   0.5s"
       ]
      },
      {
       "output_type": "stream",
       "stream": "stdout",
       "text": [
        "\n",
        "[GridSearchCV] vect__ngram_range=(1, 1), vect__smooth_idf=False, vect__sublinear_tf=False, vect__binary=True, vect__min_df=2, vect__stop_words=english, vect__use_idf=True \n",
        "[GridSearchCV]  vect__ngram_range=(1, 1), vect__smooth_idf=False, vect__sublinear_tf=False, vect__binary=True, vect__min_df=2, vect__stop_words=english, vect__use_idf=True, score=0.859970 -   0.5s"
       ]
      },
      {
       "output_type": "stream",
       "stream": "stdout",
       "text": [
        "\n",
        "[GridSearchCV] vect__ngram_range=(1, 1), vect__smooth_idf=False, vect__sublinear_tf=True, vect__binary=True, vect__min_df=2, vect__stop_words=english, vect__use_idf=False \n",
        "[GridSearchCV]  vect__ngram_range=(1, 1), vect__smooth_idf=False, vect__sublinear_tf=True, vect__binary=True, vect__min_df=2, vect__stop_words=english, vect__use_idf=False, score=0.854135 -   0.5s"
       ]
      },
      {
       "output_type": "stream",
       "stream": "stdout",
       "text": [
        "\n",
        "[GridSearchCV] vect__ngram_range=(1, 1), vect__smooth_idf=False, vect__sublinear_tf=True, vect__binary=True, vect__min_df=2, vect__stop_words=english, vect__use_idf=False \n",
        "[GridSearchCV]  vect__ngram_range=(1, 1), vect__smooth_idf=False, vect__sublinear_tf=True, vect__binary=True, vect__min_df=2, vect__stop_words=english, vect__use_idf=False, score=0.873700 -   0.5s"
       ]
      },
      {
       "output_type": "stream",
       "stream": "stdout",
       "text": [
        "\n",
        "[GridSearchCV] vect__ngram_range=(1, 1), vect__smooth_idf=False, vect__sublinear_tf=True, vect__binary=True, vect__min_df=2, vect__stop_words=english, vect__use_idf=False \n",
        "[GridSearchCV]  vect__ngram_range=(1, 1), vect__smooth_idf=False, vect__sublinear_tf=True, vect__binary=True, vect__min_df=2, vect__stop_words=english, vect__use_idf=False, score=0.853211 -   0.5s"
       ]
      },
      {
       "output_type": "stream",
       "stream": "stdout",
       "text": [
        "\n",
        "[GridSearchCV] vect__ngram_range=(1, 1), vect__smooth_idf=False, vect__sublinear_tf=True, vect__binary=True, vect__min_df=2, vect__stop_words=english, vect__use_idf=True \n",
        "[GridSearchCV]  vect__ngram_range=(1, 1), vect__smooth_idf=False, vect__sublinear_tf=True, vect__binary=True, vect__min_df=2, vect__stop_words=english, vect__use_idf=True, score=0.861607 -   0.5s"
       ]
      },
      {
       "output_type": "stream",
       "stream": "stdout",
       "text": [
        "\n",
        "[GridSearchCV] vect__ngram_range=(1, 1), vect__smooth_idf=False, vect__sublinear_tf=True, vect__binary=True, vect__min_df=2, vect__stop_words=english, vect__use_idf=True \n",
        "[GridSearchCV]  vect__ngram_range=(1, 1), vect__smooth_idf=False, vect__sublinear_tf=True, vect__binary=True, vect__min_df=2, vect__stop_words=english, vect__use_idf=True, score=0.872024 -   0.5s"
       ]
      },
      {
       "output_type": "stream",
       "stream": "stdout",
       "text": [
        "\n",
        "[GridSearchCV] vect__ngram_range=(1, 1), vect__smooth_idf=False, vect__sublinear_tf=True, vect__binary=True, vect__min_df=2, vect__stop_words=english, vect__use_idf=True \n",
        "[GridSearchCV]  vect__ngram_range=(1, 1), vect__smooth_idf=False, vect__sublinear_tf=True, vect__binary=True, vect__min_df=2, vect__stop_words=english, vect__use_idf=True, score=0.859970 -   0.5s"
       ]
      },
      {
       "output_type": "stream",
       "stream": "stdout",
       "text": [
        "\n",
        "[GridSearchCV] vect__ngram_range=(1, 1), vect__smooth_idf=True, vect__sublinear_tf=False, vect__binary=True, vect__min_df=2, vect__stop_words=None, vect__use_idf=False \n",
        "[GridSearchCV]  vect__ngram_range=(1, 1), vect__smooth_idf=True, vect__sublinear_tf=False, vect__binary=True, vect__min_df=2, vect__stop_words=None, vect__use_idf=False, score=0.866716 -   0.7s"
       ]
      },
      {
       "output_type": "stream",
       "stream": "stderr",
       "text": [
        "[Parallel(n_jobs=1)]: Done 288 jobs       | elapsed:  5.5min\n",
        "[Parallel(n_jobs=1)]: Done 313 jobs       | elapsed:  5.7min\n"
       ]
      },
      {
       "output_type": "stream",
       "stream": "stdout",
       "text": [
        "\n",
        "[GridSearchCV] vect__ngram_range=(1, 1), vect__smooth_idf=True, vect__sublinear_tf=False, vect__binary=True, vect__min_df=2, vect__stop_words=None, vect__use_idf=False \n",
        "[GridSearchCV]  vect__ngram_range=(1, 1), vect__smooth_idf=True, vect__sublinear_tf=False, vect__binary=True, vect__min_df=2, vect__stop_words=None, vect__use_idf=False, score=0.881432 -   0.7s"
       ]
      },
      {
       "output_type": "stream",
       "stream": "stdout",
       "text": [
        "\n",
        "[GridSearchCV] vect__ngram_range=(1, 1), vect__smooth_idf=True, vect__sublinear_tf=False, vect__binary=True, vect__min_df=2, vect__stop_words=None, vect__use_idf=False \n",
        "[GridSearchCV]  vect__ngram_range=(1, 1), vect__smooth_idf=True, vect__sublinear_tf=False, vect__binary=True, vect__min_df=2, vect__stop_words=None, vect__use_idf=False, score=0.852830 -   0.7s"
       ]
      },
      {
       "output_type": "stream",
       "stream": "stdout",
       "text": [
        "\n",
        "[GridSearchCV] vect__ngram_range=(1, 1), vect__smooth_idf=True, vect__sublinear_tf=False, vect__binary=True, vect__min_df=2, vect__stop_words=None, vect__use_idf=True \n",
        "[GridSearchCV]  vect__ngram_range=(1, 1), vect__smooth_idf=True, vect__sublinear_tf=False, vect__binary=True, vect__min_df=2, vect__stop_words=None, vect__use_idf=True, score=0.873427 -   0.5s"
       ]
      },
      {
       "output_type": "stream",
       "stream": "stdout",
       "text": [
        "\n",
        "[GridSearchCV] vect__ngram_range=(1, 1), vect__smooth_idf=True, vect__sublinear_tf=False, vect__binary=True, vect__min_df=2, vect__stop_words=None, vect__use_idf=True \n",
        "[GridSearchCV]  vect__ngram_range=(1, 1), vect__smooth_idf=True, vect__sublinear_tf=False, vect__binary=True, vect__min_df=2, vect__stop_words=None, vect__use_idf=True, score=0.884415 -   0.6s"
       ]
      },
      {
       "output_type": "stream",
       "stream": "stdout",
       "text": [
        "\n",
        "[GridSearchCV] vect__ngram_range=(1, 1), vect__smooth_idf=True, vect__sublinear_tf=False, vect__binary=True, vect__min_df=2, vect__stop_words=None, vect__use_idf=True \n",
        "[GridSearchCV]  vect__ngram_range=(1, 1), vect__smooth_idf=True, vect__sublinear_tf=False, vect__binary=True, vect__min_df=2, vect__stop_words=None, vect__use_idf=True, score=0.864701 -   0.6s"
       ]
      },
      {
       "output_type": "stream",
       "stream": "stdout",
       "text": [
        "\n",
        "[GridSearchCV] vect__ngram_range=(1, 1), vect__smooth_idf=True, vect__sublinear_tf=True, vect__binary=True, vect__min_df=2, vect__stop_words=None, vect__use_idf=False \n",
        "[GridSearchCV]  vect__ngram_range=(1, 1), vect__smooth_idf=True, vect__sublinear_tf=True, vect__binary=True, vect__min_df=2, vect__stop_words=None, vect__use_idf=False, score=0.866716 -   0.6s"
       ]
      },
      {
       "output_type": "stream",
       "stream": "stdout",
       "text": [
        "\n",
        "[GridSearchCV] vect__ngram_range=(1, 1), vect__smooth_idf=True, vect__sublinear_tf=True, vect__binary=True, vect__min_df=2, vect__stop_words=None, vect__use_idf=False \n",
        "[GridSearchCV]  vect__ngram_range=(1, 1), vect__smooth_idf=True, vect__sublinear_tf=True, vect__binary=True, vect__min_df=2, vect__stop_words=None, vect__use_idf=False, score=0.881432 -   0.7s"
       ]
      },
      {
       "output_type": "stream",
       "stream": "stdout",
       "text": [
        "\n",
        "[GridSearchCV] vect__ngram_range=(1, 1), vect__smooth_idf=True, vect__sublinear_tf=True, vect__binary=True, vect__min_df=2, vect__stop_words=None, vect__use_idf=False \n",
        "[GridSearchCV]  vect__ngram_range=(1, 1), vect__smooth_idf=True, vect__sublinear_tf=True, vect__binary=True, vect__min_df=2, vect__stop_words=None, vect__use_idf=False, score=0.852830 -   0.8s"
       ]
      },
      {
       "output_type": "stream",
       "stream": "stdout",
       "text": [
        "\n",
        "[GridSearchCV] vect__ngram_range=(1, 1), vect__smooth_idf=True, vect__sublinear_tf=True, vect__binary=True, vect__min_df=2, vect__stop_words=None, vect__use_idf=True \n",
        "[GridSearchCV]  vect__ngram_range=(1, 1), vect__smooth_idf=True, vect__sublinear_tf=True, vect__binary=True, vect__min_df=2, vect__stop_words=None, vect__use_idf=True, score=0.873427 -   0.5s"
       ]
      },
      {
       "output_type": "stream",
       "stream": "stdout",
       "text": [
        "\n",
        "[GridSearchCV] vect__ngram_range=(1, 1), vect__smooth_idf=True, vect__sublinear_tf=True, vect__binary=True, vect__min_df=2, vect__stop_words=None, vect__use_idf=True \n",
        "[GridSearchCV]  vect__ngram_range=(1, 1), vect__smooth_idf=True, vect__sublinear_tf=True, vect__binary=True, vect__min_df=2, vect__stop_words=None, vect__use_idf=True, score=0.884415 -   0.5s"
       ]
      },
      {
       "output_type": "stream",
       "stream": "stdout",
       "text": [
        "\n",
        "[GridSearchCV] vect__ngram_range=(1, 1), vect__smooth_idf=True, vect__sublinear_tf=True, vect__binary=True, vect__min_df=2, vect__stop_words=None, vect__use_idf=True \n",
        "[GridSearchCV]  vect__ngram_range=(1, 1), vect__smooth_idf=True, vect__sublinear_tf=True, vect__binary=True, vect__min_df=2, vect__stop_words=None, vect__use_idf=True, score=0.864701 -   0.6s"
       ]
      },
      {
       "output_type": "stream",
       "stream": "stdout",
       "text": [
        "\n",
        "[GridSearchCV] vect__ngram_range=(1, 1), vect__smooth_idf=True, vect__sublinear_tf=False, vect__binary=True, vect__min_df=2, vect__stop_words=english, vect__use_idf=False \n",
        "[GridSearchCV]  vect__ngram_range=(1, 1), vect__smooth_idf=True, vect__sublinear_tf=False, vect__binary=True, vect__min_df=2, vect__stop_words=english, vect__use_idf=False, score=0.854135 -   0.5s"
       ]
      },
      {
       "output_type": "stream",
       "stream": "stdout",
       "text": [
        "\n",
        "[GridSearchCV] vect__ngram_range=(1, 1), vect__smooth_idf=True, vect__sublinear_tf=False, vect__binary=True, vect__min_df=2, vect__stop_words=english, vect__use_idf=False \n",
        "[GridSearchCV]  vect__ngram_range=(1, 1), vect__smooth_idf=True, vect__sublinear_tf=False, vect__binary=True, vect__min_df=2, vect__stop_words=english, vect__use_idf=False, score=0.873700 -   0.5s"
       ]
      },
      {
       "output_type": "stream",
       "stream": "stdout",
       "text": [
        "\n",
        "[GridSearchCV] vect__ngram_range=(1, 1), vect__smooth_idf=True, vect__sublinear_tf=False, vect__binary=True, vect__min_df=2, vect__stop_words=english, vect__use_idf=False \n",
        "[GridSearchCV]  vect__ngram_range=(1, 1), vect__smooth_idf=True, vect__sublinear_tf=False, vect__binary=True, vect__min_df=2, vect__stop_words=english, vect__use_idf=False, score=0.853211 -   0.5s"
       ]
      },
      {
       "output_type": "stream",
       "stream": "stdout",
       "text": [
        "\n",
        "[GridSearchCV] vect__ngram_range=(1, 1), vect__smooth_idf=True, vect__sublinear_tf=False, vect__binary=True, vect__min_df=2, vect__stop_words=english, vect__use_idf=True \n",
        "[GridSearchCV]  vect__ngram_range=(1, 1), vect__smooth_idf=True, vect__sublinear_tf=False, vect__binary=True, vect__min_df=2, vect__stop_words=english, vect__use_idf=True, score=0.859480 -   0.5s"
       ]
      },
      {
       "output_type": "stream",
       "stream": "stdout",
       "text": [
        "\n",
        "[GridSearchCV] vect__ngram_range=(1, 1), vect__smooth_idf=True, vect__sublinear_tf=False, vect__binary=True, vect__min_df=2, vect__stop_words=english, vect__use_idf=True \n",
        "[GridSearchCV]  vect__ngram_range=(1, 1), vect__smooth_idf=True, vect__sublinear_tf=False, vect__binary=True, vect__min_df=2, vect__stop_words=english, vect__use_idf=True, score=0.871184 -   0.5s"
       ]
      },
      {
       "output_type": "stream",
       "stream": "stdout",
       "text": [
        "\n",
        "[GridSearchCV] vect__ngram_range=(1, 1), vect__smooth_idf=True, vect__sublinear_tf=False, vect__binary=True, vect__min_df=2, vect__stop_words=english, vect__use_idf=True \n",
        "[GridSearchCV]  vect__ngram_range=(1, 1), vect__smooth_idf=True, vect__sublinear_tf=False, vect__binary=True, vect__min_df=2, vect__stop_words=english, vect__use_idf=True, score=0.859970 -   0.5s"
       ]
      },
      {
       "output_type": "stream",
       "stream": "stdout",
       "text": [
        "\n",
        "[GridSearchCV] vect__ngram_range=(1, 1), vect__smooth_idf=True, vect__sublinear_tf=True, vect__binary=True, vect__min_df=2, vect__stop_words=english, vect__use_idf=False \n",
        "[GridSearchCV]  vect__ngram_range=(1, 1), vect__smooth_idf=True, vect__sublinear_tf=True, vect__binary=True, vect__min_df=2, vect__stop_words=english, vect__use_idf=False, score=0.854135 -   0.5s"
       ]
      },
      {
       "output_type": "stream",
       "stream": "stdout",
       "text": [
        "\n",
        "[GridSearchCV] vect__ngram_range=(1, 1), vect__smooth_idf=True, vect__sublinear_tf=True, vect__binary=True, vect__min_df=2, vect__stop_words=english, vect__use_idf=False \n",
        "[GridSearchCV]  vect__ngram_range=(1, 1), vect__smooth_idf=True, vect__sublinear_tf=True, vect__binary=True, vect__min_df=2, vect__stop_words=english, vect__use_idf=False, score=0.873700 -   0.5s"
       ]
      },
      {
       "output_type": "stream",
       "stream": "stdout",
       "text": [
        "\n",
        "[GridSearchCV] vect__ngram_range=(1, 1), vect__smooth_idf=True, vect__sublinear_tf=True, vect__binary=True, vect__min_df=2, vect__stop_words=english, vect__use_idf=False \n",
        "[GridSearchCV]  vect__ngram_range=(1, 1), vect__smooth_idf=True, vect__sublinear_tf=True, vect__binary=True, vect__min_df=2, vect__stop_words=english, vect__use_idf=False, score=0.853211 -   0.5s"
       ]
      },
      {
       "output_type": "stream",
       "stream": "stdout",
       "text": [
        "\n",
        "[GridSearchCV] vect__ngram_range=(1, 1), vect__smooth_idf=True, vect__sublinear_tf=True, vect__binary=True, vect__min_df=2, vect__stop_words=english, vect__use_idf=True \n",
        "[GridSearchCV]  vect__ngram_range=(1, 1), vect__smooth_idf=True, vect__sublinear_tf=True, vect__binary=True, vect__min_df=2, vect__stop_words=english, vect__use_idf=True, score=0.859480 -   0.6s"
       ]
      },
      {
       "output_type": "stream",
       "stream": "stdout",
       "text": [
        "\n",
        "[GridSearchCV] vect__ngram_range=(1, 1), vect__smooth_idf=True, vect__sublinear_tf=True, vect__binary=True, vect__min_df=2, vect__stop_words=english, vect__use_idf=True \n",
        "[GridSearchCV]  vect__ngram_range=(1, 1), vect__smooth_idf=True, vect__sublinear_tf=True, vect__binary=True, vect__min_df=2, vect__stop_words=english, vect__use_idf=True, score=0.871184 -   0.5s"
       ]
      },
      {
       "output_type": "stream",
       "stream": "stdout",
       "text": [
        "\n",
        "[GridSearchCV] vect__ngram_range=(1, 1), vect__smooth_idf=True, vect__sublinear_tf=True, vect__binary=True, vect__min_df=2, vect__stop_words=english, vect__use_idf=True \n",
        "[GridSearchCV]  vect__ngram_range=(1, 1), vect__smooth_idf=True, vect__sublinear_tf=True, vect__binary=True, vect__min_df=2, vect__stop_words=english, vect__use_idf=True, score=0.859970 -   0.5s"
       ]
      },
      {
       "output_type": "stream",
       "stream": "stdout",
       "text": [
        "\n",
        "[GridSearchCV] vect__ngram_range=(1, 2), vect__smooth_idf=False, vect__sublinear_tf=False, vect__binary=True, vect__min_df=2, vect__stop_words=None, vect__use_idf=False \n",
        "[GridSearchCV]  vect__ngram_range=(1, 2), vect__smooth_idf=False, vect__sublinear_tf=False, vect__binary=True, vect__min_df=2, vect__stop_words=None, vect__use_idf=False, score=0.864545 -   1.9s"
       ]
      },
      {
       "output_type": "stream",
       "stream": "stdout",
       "text": [
        "\n",
        "[GridSearchCV] vect__ngram_range=(1, 2), vect__smooth_idf=False, vect__sublinear_tf=False, vect__binary=True, vect__min_df=2, vect__stop_words=None, vect__use_idf=False \n",
        "[GridSearchCV]  vect__ngram_range=(1, 2), vect__smooth_idf=False, vect__sublinear_tf=False, vect__binary=True, vect__min_df=2, vect__stop_words=None, vect__use_idf=False, score=0.884528 -   1.8s"
       ]
      },
      {
       "output_type": "stream",
       "stream": "stdout",
       "text": [
        "\n",
        "[GridSearchCV] vect__ngram_range=(1, 2), vect__smooth_idf=False, vect__sublinear_tf=False, vect__binary=True, vect__min_df=2, vect__stop_words=None, vect__use_idf=False \n",
        "[GridSearchCV]  vect__ngram_range=(1, 2), vect__smooth_idf=False, vect__sublinear_tf=False, vect__binary=True, vect__min_df=2, vect__stop_words=None, vect__use_idf=False, score=0.859504 -   1.9s"
       ]
      },
      {
       "output_type": "stream",
       "stream": "stdout",
       "text": [
        "\n",
        "[GridSearchCV] vect__ngram_range=(1, 2), vect__smooth_idf=False, vect__sublinear_tf=False, vect__binary=True, vect__min_df=2, vect__stop_words=None, vect__use_idf=True \n",
        "[GridSearchCV]  vect__ngram_range=(1, 2), vect__smooth_idf=False, vect__sublinear_tf=False, vect__binary=True, vect__min_df=2, vect__stop_words=None, vect__use_idf=True, score=0.873887 -   1.8s"
       ]
      },
      {
       "output_type": "stream",
       "stream": "stdout",
       "text": [
        "\n",
        "[GridSearchCV] vect__ngram_range=(1, 2), vect__smooth_idf=False, vect__sublinear_tf=False, vect__binary=True, vect__min_df=2, vect__stop_words=None, vect__use_idf=True \n",
        "[GridSearchCV]  vect__ngram_range=(1, 2), vect__smooth_idf=False, vect__sublinear_tf=False, vect__binary=True, vect__min_df=2, vect__stop_words=None, vect__use_idf=True, score=0.892075 -   1.8s"
       ]
      },
      {
       "output_type": "stream",
       "stream": "stdout",
       "text": [
        "\n",
        "[GridSearchCV] vect__ngram_range=(1, 2), vect__smooth_idf=False, vect__sublinear_tf=False, vect__binary=True, vect__min_df=2, vect__stop_words=None, vect__use_idf=True \n",
        "[GridSearchCV]  vect__ngram_range=(1, 2), vect__smooth_idf=False, vect__sublinear_tf=False, vect__binary=True, vect__min_df=2, vect__stop_words=None, vect__use_idf=True, score=0.872727 -   1.8s"
       ]
      },
      {
       "output_type": "stream",
       "stream": "stdout",
       "text": [
        "\n",
        "[GridSearchCV] vect__ngram_range=(1, 2), vect__smooth_idf=False, vect__sublinear_tf=True, vect__binary=True, vect__min_df=2, vect__stop_words=None, vect__use_idf=False \n",
        "[GridSearchCV]  vect__ngram_range=(1, 2), vect__smooth_idf=False, vect__sublinear_tf=True, vect__binary=True, vect__min_df=2, vect__stop_words=None, vect__use_idf=False, score=0.864545 -   1.9s"
       ]
      },
      {
       "output_type": "stream",
       "stream": "stdout",
       "text": [
        "\n",
        "[GridSearchCV] vect__ngram_range=(1, 2), vect__smooth_idf=False, vect__sublinear_tf=True, vect__binary=True, vect__min_df=2, vect__stop_words=None, vect__use_idf=False \n",
        "[GridSearchCV]  vect__ngram_range=(1, 2), vect__smooth_idf=False, vect__sublinear_tf=True, vect__binary=True, vect__min_df=2, vect__stop_words=None, vect__use_idf=False, score=0.883861 -   1.9s"
       ]
      },
      {
       "output_type": "stream",
       "stream": "stdout",
       "text": [
        "\n",
        "[GridSearchCV] vect__ngram_range=(1, 2), vect__smooth_idf=False, vect__sublinear_tf=True, vect__binary=True, vect__min_df=2, vect__stop_words=None, vect__use_idf=False \n",
        "[GridSearchCV]  vect__ngram_range=(1, 2), vect__smooth_idf=False, vect__sublinear_tf=True, vect__binary=True, vect__min_df=2, vect__stop_words=None, vect__use_idf=False, score=0.859504 -   1.9s"
       ]
      },
      {
       "output_type": "stream",
       "stream": "stdout",
       "text": [
        "\n",
        "[GridSearchCV] vect__ngram_range=(1, 2), vect__smooth_idf=False, vect__sublinear_tf=True, vect__binary=True, vect__min_df=2, vect__stop_words=None, vect__use_idf=True \n",
        "[GridSearchCV]  vect__ngram_range=(1, 2), vect__smooth_idf=False, vect__sublinear_tf=True, vect__binary=True, vect__min_df=2, vect__stop_words=None, vect__use_idf=True, score=0.873887 -   1.7s"
       ]
      },
      {
       "output_type": "stream",
       "stream": "stdout",
       "text": [
        "\n",
        "[GridSearchCV] vect__ngram_range=(1, 2), vect__smooth_idf=False, vect__sublinear_tf=True, vect__binary=True, vect__min_df=2, vect__stop_words=None, vect__use_idf=True \n",
        "[GridSearchCV]  vect__ngram_range=(1, 2), vect__smooth_idf=False, vect__sublinear_tf=True, vect__binary=True, vect__min_df=2, vect__stop_words=None, vect__use_idf=True, score=0.892075 -   1.8s"
       ]
      },
      {
       "output_type": "stream",
       "stream": "stdout",
       "text": [
        "\n",
        "[GridSearchCV] vect__ngram_range=(1, 2), vect__smooth_idf=False, vect__sublinear_tf=True, vect__binary=True, vect__min_df=2, vect__stop_words=None, vect__use_idf=True \n",
        "[GridSearchCV]  vect__ngram_range=(1, 2), vect__smooth_idf=False, vect__sublinear_tf=True, vect__binary=True, vect__min_df=2, vect__stop_words=None, vect__use_idf=True, score=0.872727 -   1.8s"
       ]
      },
      {
       "output_type": "stream",
       "stream": "stdout",
       "text": [
        "\n",
        "[GridSearchCV] vect__ngram_range=(1, 2), vect__smooth_idf=False, vect__sublinear_tf=False, vect__binary=True, vect__min_df=2, vect__stop_words=english, vect__use_idf=False \n",
        "[GridSearchCV]  vect__ngram_range=(1, 2), vect__smooth_idf=False, vect__sublinear_tf=False, vect__binary=True, vect__min_df=2, vect__stop_words=english, vect__use_idf=False, score=0.861237 -   1.2s"
       ]
      },
      {
       "output_type": "stream",
       "stream": "stdout",
       "text": [
        "\n",
        "[GridSearchCV] vect__ngram_range=(1, 2), vect__smooth_idf=False, vect__sublinear_tf=False, vect__binary=True, vect__min_df=2, vect__stop_words=english, vect__use_idf=False \n",
        "[GridSearchCV]  vect__ngram_range=(1, 2), vect__smooth_idf=False, vect__sublinear_tf=False, vect__binary=True, vect__min_df=2, vect__stop_words=english, vect__use_idf=False, score=0.878449 -   1.2s"
       ]
      },
      {
       "output_type": "stream",
       "stream": "stdout",
       "text": [
        "\n",
        "[GridSearchCV] vect__ngram_range=(1, 2), vect__smooth_idf=False, vect__sublinear_tf=False, vect__binary=True, vect__min_df=2, vect__stop_words=english, vect__use_idf=False \n",
        "[GridSearchCV]  vect__ngram_range=(1, 2), vect__smooth_idf=False, vect__sublinear_tf=False, vect__binary=True, vect__min_df=2, vect__stop_words=english, vect__use_idf=False, score=0.853415 -   1.2s"
       ]
      },
      {
       "output_type": "stream",
       "stream": "stdout",
       "text": [
        "\n",
        "[GridSearchCV] vect__ngram_range=(1, 2), vect__smooth_idf=False, vect__sublinear_tf=False, vect__binary=True, vect__min_df=2, vect__stop_words=english, vect__use_idf=True \n",
        "[GridSearchCV]  vect__ngram_range=(1, 2), vect__smooth_idf=False, vect__sublinear_tf=False, vect__binary=True, vect__min_df=2, vect__stop_words=english, vect__use_idf=True, score=0.863807 -   1.3s"
       ]
      },
      {
       "output_type": "stream",
       "stream": "stdout",
       "text": [
        "\n",
        "[GridSearchCV] vect__ngram_range=(1, 2), vect__smooth_idf=False, vect__sublinear_tf=False, vect__binary=True, vect__min_df=2, vect__stop_words=english, vect__use_idf=True \n",
        "[GridSearchCV]  vect__ngram_range=(1, 2), vect__smooth_idf=False, vect__sublinear_tf=False, vect__binary=True, vect__min_df=2, vect__stop_words=english, vect__use_idf=True, score=0.878743 -   1.2s"
       ]
      },
      {
       "output_type": "stream",
       "stream": "stdout",
       "text": [
        "\n",
        "[GridSearchCV] vect__ngram_range=(1, 2), vect__smooth_idf=False, vect__sublinear_tf=False, vect__binary=True, vect__min_df=2, vect__stop_words=english, vect__use_idf=True \n",
        "[GridSearchCV]  vect__ngram_range=(1, 2), vect__smooth_idf=False, vect__sublinear_tf=False, vect__binary=True, vect__min_df=2, vect__stop_words=english, vect__use_idf=True, score=0.849885 -   1.2s"
       ]
      },
      {
       "output_type": "stream",
       "stream": "stdout",
       "text": [
        "\n",
        "[GridSearchCV] vect__ngram_range=(1, 2), vect__smooth_idf=False, vect__sublinear_tf=True, vect__binary=True, vect__min_df=2, vect__stop_words=english, vect__use_idf=False \n",
        "[GridSearchCV]  vect__ngram_range=(1, 2), vect__smooth_idf=False, vect__sublinear_tf=True, vect__binary=True, vect__min_df=2, vect__stop_words=english, vect__use_idf=False, score=0.861237 -   1.3s"
       ]
      },
      {
       "output_type": "stream",
       "stream": "stdout",
       "text": [
        "\n",
        "[GridSearchCV] vect__ngram_range=(1, 2), vect__smooth_idf=False, vect__sublinear_tf=True, vect__binary=True, vect__min_df=2, vect__stop_words=english, vect__use_idf=False \n",
        "[GridSearchCV]  vect__ngram_range=(1, 2), vect__smooth_idf=False, vect__sublinear_tf=True, vect__binary=True, vect__min_df=2, vect__stop_words=english, vect__use_idf=False, score=0.878449 -   1.2s"
       ]
      },
      {
       "output_type": "stream",
       "stream": "stdout",
       "text": [
        "\n",
        "[GridSearchCV] vect__ngram_range=(1, 2), vect__smooth_idf=False, vect__sublinear_tf=True, vect__binary=True, vect__min_df=2, vect__stop_words=english, vect__use_idf=False \n",
        "[GridSearchCV]  vect__ngram_range=(1, 2), vect__smooth_idf=False, vect__sublinear_tf=True, vect__binary=True, vect__min_df=2, vect__stop_words=english, vect__use_idf=False, score=0.853415 -   1.3s"
       ]
      },
      {
       "output_type": "stream",
       "stream": "stdout",
       "text": [
        "\n",
        "[GridSearchCV] vect__ngram_range=(1, 2), vect__smooth_idf=False, vect__sublinear_tf=True, vect__binary=True, vect__min_df=2, vect__stop_words=english, vect__use_idf=True \n",
        "[GridSearchCV]  vect__ngram_range=(1, 2), vect__smooth_idf=False, vect__sublinear_tf=True, vect__binary=True, vect__min_df=2, vect__stop_words=english, vect__use_idf=True, score=0.863807 -   1.3s"
       ]
      },
      {
       "output_type": "stream",
       "stream": "stdout",
       "text": [
        "\n",
        "[GridSearchCV] vect__ngram_range=(1, 2), vect__smooth_idf=False, vect__sublinear_tf=True, vect__binary=True, vect__min_df=2, vect__stop_words=english, vect__use_idf=True \n",
        "[GridSearchCV]  vect__ngram_range=(1, 2), vect__smooth_idf=False, vect__sublinear_tf=True, vect__binary=True, vect__min_df=2, vect__stop_words=english, vect__use_idf=True, score=0.878743 -   1.2s"
       ]
      },
      {
       "output_type": "stream",
       "stream": "stdout",
       "text": [
        "\n",
        "[GridSearchCV] vect__ngram_range=(1, 2), vect__smooth_idf=False, vect__sublinear_tf=True, vect__binary=True, vect__min_df=2, vect__stop_words=english, vect__use_idf=True \n",
        "[GridSearchCV]  vect__ngram_range=(1, 2), vect__smooth_idf=False, vect__sublinear_tf=True, vect__binary=True, vect__min_df=2, vect__stop_words=english, vect__use_idf=True, score=0.849885 -   1.2s"
       ]
      },
      {
       "output_type": "stream",
       "stream": "stdout",
       "text": [
        "\n",
        "[GridSearchCV] vect__ngram_range=(1, 2), vect__smooth_idf=True, vect__sublinear_tf=False, vect__binary=True, vect__min_df=2, vect__stop_words=None, vect__use_idf=False \n",
        "[GridSearchCV]  vect__ngram_range=(1, 2), vect__smooth_idf=True, vect__sublinear_tf=False, vect__binary=True, vect__min_df=2, vect__stop_words=None, vect__use_idf=False, score=0.864545 -   1.9s"
       ]
      },
      {
       "output_type": "stream",
       "stream": "stdout",
       "text": [
        "\n",
        "[GridSearchCV] vect__ngram_range=(1, 2), vect__smooth_idf=True, vect__sublinear_tf=False, vect__binary=True, vect__min_df=2, vect__stop_words=None, vect__use_idf=False \n",
        "[GridSearchCV]  vect__ngram_range=(1, 2), vect__smooth_idf=True, vect__sublinear_tf=False, vect__binary=True, vect__min_df=2, vect__stop_words=None, vect__use_idf=False, score=0.884528 -   1.9s"
       ]
      },
      {
       "output_type": "stream",
       "stream": "stdout",
       "text": [
        "\n",
        "[GridSearchCV] vect__ngram_range=(1, 2), vect__smooth_idf=True, vect__sublinear_tf=False, vect__binary=True, vect__min_df=2, vect__stop_words=None, vect__use_idf=False \n",
        "[GridSearchCV]  vect__ngram_range=(1, 2), vect__smooth_idf=True, vect__sublinear_tf=False, vect__binary=True, vect__min_df=2, vect__stop_words=None, vect__use_idf=False, score=0.859504 -   2.3s"
       ]
      },
      {
       "output_type": "stream",
       "stream": "stdout",
       "text": [
        "\n",
        "[GridSearchCV] vect__ngram_range=(1, 2), vect__smooth_idf=True, vect__sublinear_tf=False, vect__binary=True, vect__min_df=2, vect__stop_words=None, vect__use_idf=True \n",
        "[GridSearchCV]  vect__ngram_range=(1, 2), vect__smooth_idf=True, vect__sublinear_tf=False, vect__binary=True, vect__min_df=2, vect__stop_words=None, vect__use_idf=True, score=0.873051 -   1.9s"
       ]
      },
      {
       "output_type": "stream",
       "stream": "stdout",
       "text": [
        "\n",
        "[GridSearchCV] vect__ngram_range=(1, 2), vect__smooth_idf=True, vect__sublinear_tf=False, vect__binary=True, vect__min_df=2, vect__stop_words=None, vect__use_idf=True \n",
        "[GridSearchCV]  vect__ngram_range=(1, 2), vect__smooth_idf=True, vect__sublinear_tf=False, vect__binary=True, vect__min_df=2, vect__stop_words=None, vect__use_idf=True, score=0.890566 -   2.2s"
       ]
      },
      {
       "output_type": "stream",
       "stream": "stderr",
       "text": [
        "[Parallel(n_jobs=1)]: Done 338 jobs       | elapsed:  6.0min\n",
        "[Parallel(n_jobs=1)]: Done 365 jobs       | elapsed:  6.7min\n"
       ]
      },
      {
       "output_type": "stream",
       "stream": "stdout",
       "text": [
        "\n",
        "[GridSearchCV] vect__ngram_range=(1, 2), vect__smooth_idf=True, vect__sublinear_tf=False, vect__binary=True, vect__min_df=2, vect__stop_words=None, vect__use_idf=True \n",
        "[GridSearchCV]  vect__ngram_range=(1, 2), vect__smooth_idf=True, vect__sublinear_tf=False, vect__binary=True, vect__min_df=2, vect__stop_words=None, vect__use_idf=True, score=0.871017 -   2.2s"
       ]
      },
      {
       "output_type": "stream",
       "stream": "stdout",
       "text": [
        "\n",
        "[GridSearchCV] vect__ngram_range=(1, 2), vect__smooth_idf=True, vect__sublinear_tf=True, vect__binary=True, vect__min_df=2, vect__stop_words=None, vect__use_idf=False \n",
        "[GridSearchCV]  vect__ngram_range=(1, 2), vect__smooth_idf=True, vect__sublinear_tf=True, vect__binary=True, vect__min_df=2, vect__stop_words=None, vect__use_idf=False, score=0.864545 -   2.7s"
       ]
      },
      {
       "output_type": "stream",
       "stream": "stdout",
       "text": [
        "\n",
        "[GridSearchCV] vect__ngram_range=(1, 2), vect__smooth_idf=True, vect__sublinear_tf=True, vect__binary=True, vect__min_df=2, vect__stop_words=None, vect__use_idf=False \n",
        "[GridSearchCV]  vect__ngram_range=(1, 2), vect__smooth_idf=True, vect__sublinear_tf=True, vect__binary=True, vect__min_df=2, vect__stop_words=None, vect__use_idf=False, score=0.884528 -   1.8s"
       ]
      },
      {
       "output_type": "stream",
       "stream": "stdout",
       "text": [
        "\n",
        "[GridSearchCV] vect__ngram_range=(1, 2), vect__smooth_idf=True, vect__sublinear_tf=True, vect__binary=True, vect__min_df=2, vect__stop_words=None, vect__use_idf=False \n",
        "[GridSearchCV]  vect__ngram_range=(1, 2), vect__smooth_idf=True, vect__sublinear_tf=True, vect__binary=True, vect__min_df=2, vect__stop_words=None, vect__use_idf=False, score=0.859504 -   1.9s"
       ]
      },
      {
       "output_type": "stream",
       "stream": "stdout",
       "text": [
        "\n",
        "[GridSearchCV] vect__ngram_range=(1, 2), vect__smooth_idf=True, vect__sublinear_tf=True, vect__binary=True, vect__min_df=2, vect__stop_words=None, vect__use_idf=True \n",
        "[GridSearchCV]  vect__ngram_range=(1, 2), vect__smooth_idf=True, vect__sublinear_tf=True, vect__binary=True, vect__min_df=2, vect__stop_words=None, vect__use_idf=True, score=0.873051 -   1.7s"
       ]
      },
      {
       "output_type": "stream",
       "stream": "stdout",
       "text": [
        "\n",
        "[GridSearchCV] vect__ngram_range=(1, 2), vect__smooth_idf=True, vect__sublinear_tf=True, vect__binary=True, vect__min_df=2, vect__stop_words=None, vect__use_idf=True \n",
        "[GridSearchCV]  vect__ngram_range=(1, 2), vect__smooth_idf=True, vect__sublinear_tf=True, vect__binary=True, vect__min_df=2, vect__stop_words=None, vect__use_idf=True, score=0.890566 -   1.7s"
       ]
      },
      {
       "output_type": "stream",
       "stream": "stdout",
       "text": [
        "\n",
        "[GridSearchCV] vect__ngram_range=(1, 2), vect__smooth_idf=True, vect__sublinear_tf=True, vect__binary=True, vect__min_df=2, vect__stop_words=None, vect__use_idf=True \n",
        "[GridSearchCV]  vect__ngram_range=(1, 2), vect__smooth_idf=True, vect__sublinear_tf=True, vect__binary=True, vect__min_df=2, vect__stop_words=None, vect__use_idf=True, score=0.871017 -   1.8s"
       ]
      },
      {
       "output_type": "stream",
       "stream": "stdout",
       "text": [
        "\n",
        "[GridSearchCV] vect__ngram_range=(1, 2), vect__smooth_idf=True, vect__sublinear_tf=False, vect__binary=True, vect__min_df=2, vect__stop_words=english, vect__use_idf=False \n",
        "[GridSearchCV]  vect__ngram_range=(1, 2), vect__smooth_idf=True, vect__sublinear_tf=False, vect__binary=True, vect__min_df=2, vect__stop_words=english, vect__use_idf=False, score=0.861237 -   1.2s"
       ]
      },
      {
       "output_type": "stream",
       "stream": "stdout",
       "text": [
        "\n",
        "[GridSearchCV] vect__ngram_range=(1, 2), vect__smooth_idf=True, vect__sublinear_tf=False, vect__binary=True, vect__min_df=2, vect__stop_words=english, vect__use_idf=False \n",
        "[GridSearchCV]  vect__ngram_range=(1, 2), vect__smooth_idf=True, vect__sublinear_tf=False, vect__binary=True, vect__min_df=2, vect__stop_words=english, vect__use_idf=False, score=0.878449 -   1.2s"
       ]
      },
      {
       "output_type": "stream",
       "stream": "stdout",
       "text": [
        "\n",
        "[GridSearchCV] vect__ngram_range=(1, 2), vect__smooth_idf=True, vect__sublinear_tf=False, vect__binary=True, vect__min_df=2, vect__stop_words=english, vect__use_idf=False \n",
        "[GridSearchCV]  vect__ngram_range=(1, 2), vect__smooth_idf=True, vect__sublinear_tf=False, vect__binary=True, vect__min_df=2, vect__stop_words=english, vect__use_idf=False, score=0.853415 -   1.3s"
       ]
      },
      {
       "output_type": "stream",
       "stream": "stdout",
       "text": [
        "\n",
        "[GridSearchCV] vect__ngram_range=(1, 2), vect__smooth_idf=True, vect__sublinear_tf=False, vect__binary=True, vect__min_df=2, vect__stop_words=english, vect__use_idf=True \n",
        "[GridSearchCV]  vect__ngram_range=(1, 2), vect__smooth_idf=True, vect__sublinear_tf=False, vect__binary=True, vect__min_df=2, vect__stop_words=english, vect__use_idf=True, score=0.864012 -   1.2s"
       ]
      },
      {
       "output_type": "stream",
       "stream": "stdout",
       "text": [
        "\n",
        "[GridSearchCV] vect__ngram_range=(1, 2), vect__smooth_idf=True, vect__sublinear_tf=False, vect__binary=True, vect__min_df=2, vect__stop_words=english, vect__use_idf=True \n",
        "[GridSearchCV]  vect__ngram_range=(1, 2), vect__smooth_idf=True, vect__sublinear_tf=False, vect__binary=True, vect__min_df=2, vect__stop_words=english, vect__use_idf=True, score=0.878924 -   1.2s"
       ]
      },
      {
       "output_type": "stream",
       "stream": "stdout",
       "text": [
        "\n",
        "[GridSearchCV] vect__ngram_range=(1, 2), vect__smooth_idf=True, vect__sublinear_tf=False, vect__binary=True, vect__min_df=2, vect__stop_words=english, vect__use_idf=True \n",
        "[GridSearchCV]  vect__ngram_range=(1, 2), vect__smooth_idf=True, vect__sublinear_tf=False, vect__binary=True, vect__min_df=2, vect__stop_words=english, vect__use_idf=True, score=0.853846 -   1.2s"
       ]
      },
      {
       "output_type": "stream",
       "stream": "stdout",
       "text": [
        "\n",
        "[GridSearchCV] vect__ngram_range=(1, 2), vect__smooth_idf=True, vect__sublinear_tf=True, vect__binary=True, vect__min_df=2, vect__stop_words=english, vect__use_idf=False \n",
        "[GridSearchCV]  vect__ngram_range=(1, 2), vect__smooth_idf=True, vect__sublinear_tf=True, vect__binary=True, vect__min_df=2, vect__stop_words=english, vect__use_idf=False, score=0.861237 -   1.2s"
       ]
      },
      {
       "output_type": "stream",
       "stream": "stdout",
       "text": [
        "\n",
        "[GridSearchCV] vect__ngram_range=(1, 2), vect__smooth_idf=True, vect__sublinear_tf=True, vect__binary=True, vect__min_df=2, vect__stop_words=english, vect__use_idf=False \n",
        "[GridSearchCV]  vect__ngram_range=(1, 2), vect__smooth_idf=True, vect__sublinear_tf=True, vect__binary=True, vect__min_df=2, vect__stop_words=english, vect__use_idf=False, score=0.878449 -   1.2s"
       ]
      },
      {
       "output_type": "stream",
       "stream": "stdout",
       "text": [
        "\n",
        "[GridSearchCV] vect__ngram_range=(1, 2), vect__smooth_idf=True, vect__sublinear_tf=True, vect__binary=True, vect__min_df=2, vect__stop_words=english, vect__use_idf=False \n",
        "[GridSearchCV]  vect__ngram_range=(1, 2), vect__smooth_idf=True, vect__sublinear_tf=True, vect__binary=True, vect__min_df=2, vect__stop_words=english, vect__use_idf=False, score=0.853415 -   1.2s"
       ]
      },
      {
       "output_type": "stream",
       "stream": "stdout",
       "text": [
        "\n",
        "[GridSearchCV] vect__ngram_range=(1, 2), vect__smooth_idf=True, vect__sublinear_tf=True, vect__binary=True, vect__min_df=2, vect__stop_words=english, vect__use_idf=True \n",
        "[GridSearchCV]  vect__ngram_range=(1, 2), vect__smooth_idf=True, vect__sublinear_tf=True, vect__binary=True, vect__min_df=2, vect__stop_words=english, vect__use_idf=True, score=0.864012 -   1.2s"
       ]
      },
      {
       "output_type": "stream",
       "stream": "stdout",
       "text": [
        "\n",
        "[GridSearchCV] vect__ngram_range=(1, 2), vect__smooth_idf=True, vect__sublinear_tf=True, vect__binary=True, vect__min_df=2, vect__stop_words=english, vect__use_idf=True \n",
        "[GridSearchCV]  vect__ngram_range=(1, 2), vect__smooth_idf=True, vect__sublinear_tf=True, vect__binary=True, vect__min_df=2, vect__stop_words=english, vect__use_idf=True, score=0.878924 -   1.2s"
       ]
      },
      {
       "output_type": "stream",
       "stream": "stdout",
       "text": [
        "\n",
        "[GridSearchCV] vect__ngram_range=(1, 2), vect__smooth_idf=True, vect__sublinear_tf=True, vect__binary=True, vect__min_df=2, vect__stop_words=english, vect__use_idf=True \n",
        "[GridSearchCV]  vect__ngram_range=(1, 2), vect__smooth_idf=True, vect__sublinear_tf=True, vect__binary=True, vect__min_df=2, vect__stop_words=english, vect__use_idf=True, score=0.853846 -   1.3s"
       ]
      },
      {
       "output_type": "stream",
       "stream": "stdout",
       "text": [
        "\n"
       ]
      },
      {
       "output_type": "stream",
       "stream": "stderr",
       "text": [
        "[Parallel(n_jobs=1)]: Done 384 out of 384 | elapsed:  7.2min finished\n"
       ]
      }
     ],
     "prompt_number": 20
    },
    {
     "cell_type": "code",
     "collapsed": false,
     "input": [
      "best_clf=clf\n",
      "print best_clf.get_params()"
     ],
     "language": "python",
     "metadata": {},
     "outputs": [
      {
       "output_type": "stream",
       "stream": "stdout",
       "text": [
        "{'vect__smooth_idf': False, 'clf__multi_class': 'ovr', 'clf__verbose': 0, 'clf__random_state': None, 'clf__intercept_scaling': 1, 'vect__norm': u'l2', 'vect__charset': None, 'vect__charset_error': None, 'clf__penalty': 'l1', 'vect__analyzer': 'word', 'vect__max_df': 1.0, 'clf__tol': 0.0001, 'clf': LinearSVC(C=1.0, class_weight=None, dual=False, fit_intercept=True,\n",
        "     intercept_scaling=1, loss='l2', multi_class='ovr', penalty='l1',\n",
        "     random_state=None, tol=0.0001, verbose=0), 'vect__lowercase': True, 'vect__binary': False, 'vect__stop_words': None, 'vect__encoding': u'utf-8', 'vect__max_features': None, 'vect__dtype': <type 'numpy.int64'>, 'vect__strip_accents': None, 'vect__sublinear_tf': True, 'clf__dual': False, 'vect': TfidfVectorizer(analyzer='word', binary=False, charset=None,\n",
        "        charset_error=None, decode_error=u'strict',\n",
        "        dtype=<type 'numpy.int64'>, encoding=u'utf-8', input=u'content',\n",
        "        lowercase=True, max_df=1.0, max_features=None, min_df=2,\n",
        "        ngram_range=(1, 2), norm=u'l2', preprocessor=None,\n",
        "        smooth_idf=False, stop_words=None, strip_accents=None,\n",
        "        sublinear_tf=True, token_pattern=u'(?u)\\\\b\\\\w\\\\w+\\\\b',\n",
        "        tokenizer=None, use_idf=True, vocabulary=None), 'clf__loss': 'l2', 'vect__min_df': 2, 'vect__tokenizer': None, 'vect__use_idf': True, 'clf__C': 1.0, 'vect__input': u'content', 'vect__ngram_range': (1, 2), 'vect__preprocessor': None, 'vect__vocabulary': None, 'clf__fit_intercept': True, 'vect__decode_error': u'strict', 'clf__class_weight': None, 'vect__token_pattern': u'(?u)\\\\b\\\\w\\\\w+\\\\b'}\n"
       ]
      }
     ],
     "prompt_number": 21
    },
    {
     "cell_type": "code",
     "collapsed": false,
     "input": [
      "X_train, X_test, y_train, y_test = train_test_split(X, Y, test_size=0.6, random_state=1)"
     ],
     "language": "python",
     "metadata": {},
     "outputs": [],
     "prompt_number": 22
    },
    {
     "cell_type": "code",
     "collapsed": false,
     "input": [
      "print 'Score on the training data: ', clf.score(X_train, y_train)\n",
      "print 'Score on the test data: ', clf.score(X_test, y_test)"
     ],
     "language": "python",
     "metadata": {},
     "outputs": [
      {
       "output_type": "stream",
       "stream": "stdout",
       "text": [
        "Score on the training data:  "
       ]
      },
      {
       "output_type": "stream",
       "stream": "stdout",
       "text": [
        "0.93175\n",
        "Score on the test data:  "
       ]
      },
      {
       "output_type": "stream",
       "stream": "stdout",
       "text": [
        "0.923333333333\n"
       ]
      }
     ],
     "prompt_number": 27
    },
    {
     "cell_type": "code",
     "collapsed": false,
     "input": [
      "y_pred = best_clf.predict(X_test)"
     ],
     "language": "python",
     "metadata": {},
     "outputs": [],
     "prompt_number": 23
    },
    {
     "cell_type": "code",
     "collapsed": false,
     "input": [
      "makeCM_plot(y_test, y_pred)"
     ],
     "language": "python",
     "metadata": {},
     "outputs": [
      {
       "output_type": "stream",
       "stream": "stdout",
       "text": [
        "[[2758  224]\n",
        " [ 236 2782]]\n"
       ]
      },
      {
       "metadata": {},
       "output_type": "display_data",
       "png": "[encoded data removed]",
       "text": [
        "<matplotlib.figure.Figure at 0x110e3ce90>"
       ]
      }
     ],
     "prompt_number": 24
    }
   ],
   "metadata": {}
  }
 ]
}