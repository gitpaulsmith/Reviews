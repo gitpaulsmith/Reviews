{
 "metadata": {
  "name": "",
  "signature": "sha256:7533b063c32a3695846494fd8f84c17d09f370809c03b44c4bef54480d5c1db8"
 },
 "nbformat": 3,
 "nbformat_minor": 0,
 "worksheets": [
  {
   "cells": [
    {
     "cell_type": "code",
     "collapsed": false,
     "input": [
      "#import pylab as pl\n",
      "import scipy\n",
      "import numpy as np\n",
      "import pandas as pd\n",
      "#pd.options.display.mpl_style = 'default'\n",
      "\n",
      "from time import time\n",
      "\n",
      "import matplotlib.pyplot as plt\n",
      "%matplotlib inline\n",
      "\n",
      "#from sklearn.feature_extraction.text import CountVectorizer\n",
      "from sklearn.feature_extraction.text import TfidfVectorizer\n",
      "from sklearn.pipeline import Pipeline\n",
      "from sklearn import svm\n",
      "from sklearn.metrics import confusion_matrix, precision_recall_curve, auc\n",
      "from sklearn.cross_validation import ShuffleSplit, train_test_split\n",
      "\n",
      "from sklearn.grid_search import GridSearchCV\n",
      "from sklearn.metrics import f1_score\n",
      "\n",
      "\n",
      "def grid_search_model(clf_factory, X, Y):\n",
      "    #cv = ShuffleSplit(\n",
      "        #n=len(X), n_iter=10, test_size=0.3, indices=True, random_state=0)\n",
      "    X_train, X_test, y_train, y_test= train_test_split(X, Y, test_size=0.6, random_state=0)\n",
      "    \n",
      "    \n",
      "    \n",
      "    param_grid = dict(vect__ngram_range=[(1, 1), (1, 2)],\n",
      "     #                 vect__min_df=[1, 2],\n",
      "                      vect__min_df=[2, 2],\n",
      "     #                 vect__stop_words=[None, 'english'],\n",
      "                      vect__stop_words=[None],\n",
      "     #                 vect__smooth_idf=[False, True],\n",
      "                      vect__smooth_idf=[True],\n",
      "     #                 vect__use_idf=[False, True],\n",
      "                      vect__use_idf=[True],\n",
      "     #                 vect__sublinear_tf=[False, True],\n",
      "                      vect__sublinear_tf=[False],\n",
      "     #                 vect__binary=[False, True],\n",
      "                      vect__binary=[True],\n",
      "                      #clf__alpha=[0, 0.01, 0.05, 0.1, 0.5, 1],\n",
      "                      )\n",
      "     #Restrict the grid search for test purposes\n",
      "    \n",
      "    grid_search = GridSearchCV(clf_factory(),\n",
      "                               param_grid=param_grid,\n",
      "                               score_func=f1_score,\n",
      "                               cv=3,\n",
      "                               verbose=10)\n",
      "    grid_search.fit(X_train,y_train) \n",
      " \n",
      "    return grid_search.best_estimator_\n",
      "\n",
      "\n",
      "def create_l1_LinearSVC():\n",
      "    tfidf_ngrams=TfidfVectorizer(ngram_range=(1,2),analyzer=\"word\",binary=False)\n",
      "    clf=svm.LinearSVC(loss='l2', penalty='l1', dual=False)\n",
      "    pipeline=Pipeline([('vect',tfidf_ngrams),('clf',clf)])\n",
      "    return pipeline\n",
      "\n",
      "\n",
      "def create_l2_LinearSVC():\n",
      "    tfidf_ngrams=TfidfVectorizer(ngram_range=(1,2),analyzer=\"word\",binary=False)\n",
      "    clf=svm.LinearSVC(loss='l2', penalty='l1', dual=False)\n",
      "    pipeline=Pipeline([('vect',tfidf_ngrams),('clf',clf)])\n",
      "    return pipeline\n",
      "\n",
      "    \n",
      "def decodeArray(text):\n",
      "    try:\n",
      "        return text.decode(\"utf-8\",\"replace\")\n",
      "    except:\n",
      "        return 0\n",
      "    \n",
      "    \n",
      "def makeCM_plot(y_test, y_pred):\n",
      "    cm = confusion_matrix(y_test, y_pred)\n",
      "    print cm\n",
      "    plt.matshow(cm)\n",
      "    plt.title('Confusion matrix')\n",
      "    plt.colorbar()\n",
      "    plt.ylabel('True label')\n",
      "    plt.xlabel('Predicted label')\n",
      "    plt.show()\n",
      "    \n",
      "    \n",
      "def makePR_plot(x,y):\n",
      "    plt.figure\n",
      "    plt.plot(x, y)\n",
      "    plt.xlabel('Recall')\n",
      "    plt.ylabel('Precision')\n",
      "    plt.ylim([0.0, 1.05])\n",
      "    plt.xlim([0.0, 1.0])\n",
      "    plt.title('Precision-Recall curve')\n",
      "    plt.fill_between(x,0,y)\n",
      "    plt.show()"
     ],
     "language": "python",
     "metadata": {},
     "outputs": [
      {
       "output_type": "stream",
       "stream": "stderr",
       "text": [
        "/usr/local/lib/python2.7/site-packages/pandas/io/excel.py:626: UserWarning: Installed openpyxl is not supported at this time. Use >=1.6.1 and <2.0.0.\n",
        "  .format(openpyxl_compat.start_ver, openpyxl_compat.stop_ver))\n"
       ]
      }
     ],
     "prompt_number": 2
    },
    {
     "cell_type": "code",
     "collapsed": false,
     "input": [
      "t0 = time() \n",
      "df = pd.read_csv('scrubbed_foods.csv','\\t!\\t')\n",
      "t1 = time()\n",
      "print 'Data load time: ', t1 - t0\n",
      "\n",
      "print 'Shape before dropping duplicates: ', df.shape\n",
      "df = df.drop_duplicates('text')\n",
      "print 'Shape after dropping duplicates: ', df.shape"
     ],
     "language": "python",
     "metadata": {},
     "outputs": [
      {
       "output_type": "stream",
       "stream": "stdout",
       "text": [
        "Data load time:  7.77006697655\n",
        "Shape before dropping duplicates:  (568447, 8)\n",
        "Shape after dropping duplicates: "
       ]
      },
      {
       "output_type": "stream",
       "stream": "stdout",
       "text": [
        " (393573, 8)\n"
       ]
      },
      {
       "output_type": "stream",
       "stream": "stderr",
       "text": [
        "/usr/local/lib/python2.7/site-packages/pandas/io/parsers.py:615: ParserWarning: Falling back to the 'python' engine because the 'c' engine does not support regex separators; you can avoid this warning by specifying engine='python'.\n",
        "  ParserWarning)\n"
       ]
      }
     ],
     "prompt_number": 3
    },
    {
     "cell_type": "code",
     "collapsed": false,
     "input": [
      "#Need to relabel!\n",
      "\n",
      "dfhi = pd.DataFrame(df[df['score']>3], columns = ['score', 'text'])\n",
      "dflo = pd.DataFrame(df[df['score']<3], columns = ['score', 'text'])\n",
      "\n",
      "del df\n",
      "\n",
      "n_sample = len(dfhi) + len(dflo)\n",
      "\n",
      "#m_train = int(0.6*n_sample)\n",
      "#dftrain = dfconcat.head(m_train)\n",
      "#dfextremestest = dfconcat.tail(n_sample-m_train)\n",
      "\n",
      "sampleSize=10000\n",
      "#sampleStart=200000\n",
      "\n",
      "dfhi_train = dfhi.head(sampleSize/2)\n",
      "dfhi_holdout = dfhi.tail(len(dfhi)-sampleSize/2)\n",
      "del dfhi\n",
      "\n",
      "dflo_train = dflo.head(sampleSize/2)\n",
      "dflo_holdout = dflo.tail(len(dflo)-sampleSize/2)\n",
      "\n",
      "#df_24stars=pd.DataFrame(df[(df['score']==2) | (df['score']==4)],columns=['score','text'])\n",
      "#df_15stars=pd.DataFrame(df[(df['score']==1) | (df['score']==5)],columns=['score','text'])\n",
      "\n",
      "#pieces=[df_15stars[df_15stars['score']==5][:sampleSize/2],df_15stars[df_15stars['score']==1][:sampleSize/2]]\n",
      "#leftovers=[df_15stars[df_15stars['score']==5][sampleSize/2:],df_15stars[df_15stars['score']==1][sampleSize/2:]]\n",
      "final_df = pd.concat([dfhi_train, dflo_train])\n",
      "#del df_24stars\n",
      "#del df_15stars\n",
      "#del pieces\n",
      "del dfhi_train\n",
      "del dflo_train\n",
      "\n",
      "holdout_df = pd.concat([dfhi_holdout, dflo_holdout])\n",
      "del dfhi_holdout\n",
      "del dflo_holdout\n",
      "\n",
      "#final_df=final_df.reindex(np.random.permutation(final_df.index))\n",
      "#holdout_df = pd.concat(leftovers)\n",
      "X=final_df['text'].apply(decodeArray)\n",
      "y=final_df['score'].replace({5:1,4:1,2:0,1:0})\n",
      "\n",
      "X_holdout = holdout_df['text'].apply(decodeArray)\n",
      "y_holdout = holdout_df['score'].replace({5:1,4:1,2:0,1:0})"
     ],
     "language": "python",
     "metadata": {},
     "outputs": [],
     "prompt_number": 4
    },
    {
     "cell_type": "code",
     "collapsed": false,
     "input": [
      "clf=grid_search_model(create_l1_LinearSVC,X,y)"
     ],
     "language": "python",
     "metadata": {},
     "outputs": [
      {
       "output_type": "stream",
       "stream": "stdout",
       "text": [
        "Fitting 3 folds for each of 4 candidates, totalling 12 fits\n",
        "[GridSearchCV] vect__ngram_range=(1, 1), vect__smooth_idf=True, vect__sublinear_tf=False, vect__binary=True, vect__min_df=2, vect__stop_words=None, vect__use_idf=True \n",
        "[GridSearchCV]  vect__ngram_range=(1, 1), vect__smooth_idf=True, vect__sublinear_tf=False, vect__binary=True, vect__min_df=2, vect__stop_words=None, vect__use_idf=True, score=0.842867 -   0.6s"
       ]
      },
      {
       "output_type": "stream",
       "stream": "stderr",
       "text": [
        "/usr/local/lib/python2.7/site-packages/sklearn/grid_search.py:466: DeprecationWarning: Passing function as ``score_func`` is deprecated and will be removed in 0.15. Either use strings or score objects.The relevant new parameter is called ''scoring''.\n",
        "  self.loss_func, self.score_func, self.scoring)\n",
        "[Parallel(n_jobs=1)]: Done   1 jobs       | elapsed:    0.6s\n"
       ]
      },
      {
       "output_type": "stream",
       "stream": "stdout",
       "text": [
        "\n",
        "[GridSearchCV] vect__ngram_range=(1, 1), vect__smooth_idf=True, vect__sublinear_tf=False, vect__binary=True, vect__min_df=2, vect__stop_words=None, vect__use_idf=True \n",
        "[GridSearchCV]  vect__ngram_range=(1, 1), vect__smooth_idf=True, vect__sublinear_tf=False, vect__binary=True, vect__min_df=2, vect__stop_words=None, vect__use_idf=True, score=0.845588 -   0.6s"
       ]
      },
      {
       "output_type": "stream",
       "stream": "stdout",
       "text": [
        "\n",
        "[GridSearchCV] vect__ngram_range=(1, 1), vect__smooth_idf=True, vect__sublinear_tf=False, vect__binary=True, vect__min_df=2, vect__stop_words=None, vect__use_idf=True \n",
        "[GridSearchCV]  vect__ngram_range=(1, 1), vect__smooth_idf=True, vect__sublinear_tf=False, vect__binary=True, vect__min_df=2, vect__stop_words=None, vect__use_idf=True, score=0.848306 -   0.6s"
       ]
      },
      {
       "output_type": "stream",
       "stream": "stdout",
       "text": [
        "\n",
        "[GridSearchCV] vect__ngram_range=(1, 2), vect__smooth_idf=True, vect__sublinear_tf=False, vect__binary=True, vect__min_df=2, vect__stop_words=None, vect__use_idf=True \n",
        "[GridSearchCV]  vect__ngram_range=(1, 2), vect__smooth_idf=True, vect__sublinear_tf=False, vect__binary=True, vect__min_df=2, vect__stop_words=None, vect__use_idf=True, score=0.846821 -   1.7s"
       ]
      },
      {
       "output_type": "stream",
       "stream": "stdout",
       "text": [
        "\n",
        "[GridSearchCV] vect__ngram_range=(1, 2), vect__smooth_idf=True, vect__sublinear_tf=False, vect__binary=True, vect__min_df=2, vect__stop_words=None, vect__use_idf=True \n",
        "[GridSearchCV]  vect__ngram_range=(1, 2), vect__smooth_idf=True, vect__sublinear_tf=False, vect__binary=True, vect__min_df=2, vect__stop_words=None, vect__use_idf=True, score=0.848752 -   1.9s"
       ]
      },
      {
       "output_type": "stream",
       "stream": "stderr",
       "text": [
        "[Parallel(n_jobs=1)]: Done   2 jobs       | elapsed:    1.2s\n",
        "[Parallel(n_jobs=1)]: Done   5 jobs       | elapsed:    5.5s\n"
       ]
      },
      {
       "output_type": "stream",
       "stream": "stdout",
       "text": [
        "\n",
        "[GridSearchCV] vect__ngram_range=(1, 2), vect__smooth_idf=True, vect__sublinear_tf=False, vect__binary=True, vect__min_df=2, vect__stop_words=None, vect__use_idf=True \n",
        "[GridSearchCV]  vect__ngram_range=(1, 2), vect__smooth_idf=True, vect__sublinear_tf=False, vect__binary=True, vect__min_df=2, vect__stop_words=None, vect__use_idf=True, score=0.853532 -   1.7s"
       ]
      },
      {
       "output_type": "stream",
       "stream": "stdout",
       "text": [
        "\n",
        "[GridSearchCV] vect__ngram_range=(1, 1), vect__smooth_idf=True, vect__sublinear_tf=False, vect__binary=True, vect__min_df=2, vect__stop_words=None, vect__use_idf=True \n",
        "[GridSearchCV]  vect__ngram_range=(1, 1), vect__smooth_idf=True, vect__sublinear_tf=False, vect__binary=True, vect__min_df=2, vect__stop_words=None, vect__use_idf=True, score=0.842867 -   0.5s"
       ]
      },
      {
       "output_type": "stream",
       "stream": "stdout",
       "text": [
        "\n",
        "[GridSearchCV] vect__ngram_range=(1, 1), vect__smooth_idf=True, vect__sublinear_tf=False, vect__binary=True, vect__min_df=2, vect__stop_words=None, vect__use_idf=True \n",
        "[GridSearchCV]  vect__ngram_range=(1, 1), vect__smooth_idf=True, vect__sublinear_tf=False, vect__binary=True, vect__min_df=2, vect__stop_words=None, vect__use_idf=True, score=0.845588 -   0.6s"
       ]
      },
      {
       "output_type": "stream",
       "stream": "stdout",
       "text": [
        "\n",
        "[GridSearchCV] vect__ngram_range=(1, 1), vect__smooth_idf=True, vect__sublinear_tf=False, vect__binary=True, vect__min_df=2, vect__stop_words=None, vect__use_idf=True \n",
        "[GridSearchCV]  vect__ngram_range=(1, 1), vect__smooth_idf=True, vect__sublinear_tf=False, vect__binary=True, vect__min_df=2, vect__stop_words=None, vect__use_idf=True, score=0.848306 -   0.6s"
       ]
      },
      {
       "output_type": "stream",
       "stream": "stdout",
       "text": [
        "\n",
        "[GridSearchCV] vect__ngram_range=(1, 2), vect__smooth_idf=True, vect__sublinear_tf=False, vect__binary=True, vect__min_df=2, vect__stop_words=None, vect__use_idf=True \n",
        "[GridSearchCV]  vect__ngram_range=(1, 2), vect__smooth_idf=True, vect__sublinear_tf=False, vect__binary=True, vect__min_df=2, vect__stop_words=None, vect__use_idf=True, score=0.846821 -   1.7s"
       ]
      },
      {
       "output_type": "stream",
       "stream": "stdout",
       "text": [
        "\n",
        "[GridSearchCV] vect__ngram_range=(1, 2), vect__smooth_idf=True, vect__sublinear_tf=False, vect__binary=True, vect__min_df=2, vect__stop_words=None, vect__use_idf=True \n",
        "[GridSearchCV]  vect__ngram_range=(1, 2), vect__smooth_idf=True, vect__sublinear_tf=False, vect__binary=True, vect__min_df=2, vect__stop_words=None, vect__use_idf=True, score=0.849375 -   1.7s"
       ]
      },
      {
       "output_type": "stream",
       "stream": "stdout",
       "text": [
        "\n",
        "[GridSearchCV] vect__ngram_range=(1, 2), vect__smooth_idf=True, vect__sublinear_tf=False, vect__binary=True, vect__min_df=2, vect__stop_words=None, vect__use_idf=True \n",
        "[GridSearchCV]  vect__ngram_range=(1, 2), vect__smooth_idf=True, vect__sublinear_tf=False, vect__binary=True, vect__min_df=2, vect__stop_words=None, vect__use_idf=True, score=0.853532 -   2.1s"
       ]
      },
      {
       "output_type": "stream",
       "stream": "stderr",
       "text": [
        "[Parallel(n_jobs=1)]: Done   8 jobs       | elapsed:    8.3s\n",
        "[Parallel(n_jobs=1)]: Done  12 out of  12 | elapsed:   14.5s finished\n"
       ]
      },
      {
       "output_type": "stream",
       "stream": "stdout",
       "text": [
        "\n"
       ]
      }
     ],
     "prompt_number": 5
    },
    {
     "cell_type": "code",
     "collapsed": false,
     "input": [
      "print clf.get_params()"
     ],
     "language": "python",
     "metadata": {},
     "outputs": [
      {
       "output_type": "stream",
       "stream": "stdout",
       "text": [
        "{'vect__smooth_idf': True, 'clf__multi_class': 'ovr', 'clf__verbose': 0, 'clf__random_state': None, 'clf__intercept_scaling': 1, 'vect__norm': u'l2', 'vect__charset': None, 'vect__charset_error': None, 'clf__penalty': 'l1', 'vect__analyzer': 'word', 'vect__max_df': 1.0, 'clf__tol': 0.0001, 'clf': LinearSVC(C=1.0, class_weight=None, dual=False, fit_intercept=True,\n",
        "     intercept_scaling=1, loss='l2', multi_class='ovr', penalty='l1',\n",
        "     random_state=None, tol=0.0001, verbose=0), 'vect__lowercase': True, 'vect__binary': True, 'vect__stop_words': None, 'vect__encoding': u'utf-8', 'vect__max_features': None, 'vect__dtype': <type 'numpy.int64'>, 'vect__strip_accents': None, 'vect__sublinear_tf': False, 'clf__dual': False, 'vect': TfidfVectorizer(analyzer='word', binary=True, charset=None,\n",
        "        charset_error=None, decode_error=u'strict',\n",
        "        dtype=<type 'numpy.int64'>, encoding=u'utf-8', input=u'content',\n",
        "        lowercase=True, max_df=1.0, max_features=None, min_df=2,\n",
        "        ngram_range=(1, 2), norm=u'l2', preprocessor=None, smooth_idf=True,\n",
        "        stop_words=None, strip_accents=None, sublinear_tf=False,\n",
        "        token_pattern=u'(?u)\\\\b\\\\w\\\\w+\\\\b', tokenizer=None, use_idf=True,\n",
        "        vocabulary=None), 'clf__loss': 'l2', 'vect__min_df': 2, 'vect__tokenizer': None, 'vect__use_idf': True, 'clf__C': 1.0, 'vect__input': u'content', 'vect__ngram_range': (1, 2), 'vect__preprocessor': None, 'vect__vocabulary': None, 'clf__fit_intercept': True, 'vect__decode_error': u'strict', 'clf__class_weight': None, 'vect__token_pattern': u'(?u)\\\\b\\\\w\\\\w+\\\\b'}\n"
       ]
      }
     ],
     "prompt_number": 6
    },
    {
     "cell_type": "code",
     "collapsed": false,
     "input": [
      "clf.transform(X_holdout)"
     ],
     "language": "python",
     "metadata": {},
     "outputs": [
      {
       "metadata": {},
       "output_type": "pyout",
       "prompt_number": 9,
       "text": [
        "<353820x782 sparse matrix of type '<type 'numpy.float64'>'\n",
        "\twith 9046954 stored elements in Compressed Sparse Column format>"
       ]
      }
     ],
     "prompt_number": 9
    },
    {
     "cell_type": "code",
     "collapsed": false,
     "input": [
      "clf.predict(X_holdout)"
     ],
     "language": "python",
     "metadata": {},
     "outputs": [
      {
       "metadata": {},
       "output_type": "pyout",
       "prompt_number": 10,
       "text": [
        "array([ 1.,  1.,  1., ...,  0.,  0.,  0.])"
       ]
      }
     ],
     "prompt_number": 10
    },
    {
     "cell_type": "code",
     "collapsed": false,
     "input": [
      "print 'Score on the training data: ', clf.score(X, y)\n",
      "print 'Score on the test data: ', clf.score(X_holdout, y_holdout)"
     ],
     "language": "python",
     "metadata": {},
     "outputs": [
      {
       "output_type": "stream",
       "stream": "stdout",
       "text": [
        "Score on the training data:  "
       ]
      },
      {
       "output_type": "stream",
       "stream": "stdout",
       "text": [
        "0.8999\n",
        "Score on the test data:  "
       ]
      },
      {
       "output_type": "stream",
       "stream": "stdout",
       "text": [
        "0.837536035272\n"
       ]
      }
     ],
     "prompt_number": 82
    },
    {
     "cell_type": "code",
     "collapsed": false,
     "input": [
      "y_pred = clf.predict(X_holdout)"
     ],
     "language": "python",
     "metadata": {},
     "outputs": [],
     "prompt_number": 11
    },
    {
     "cell_type": "code",
     "collapsed": false,
     "input": [
      "makeCM_plot(y_holdout, y_pred)"
     ],
     "language": "python",
     "metadata": {},
     "outputs": [
      {
       "output_type": "stream",
       "stream": "stdout",
       "text": [
        "[[ 44830   7236]\n",
        " [ 50241 251513]]\n"
       ]
      },
      {
       "metadata": {},
       "output_type": "display_data",
       "png": "[encoded data removed]",
       "text": [
        "<matplotlib.figure.Figure at 0x10fd4c110>"
       ]
      }
     ],
     "prompt_number": 12
    }
   ],
   "metadata": {}
  }
 ]
}