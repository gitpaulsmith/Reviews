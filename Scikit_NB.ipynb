{
 "metadata": {
  "name": "",
  "signature": "sha256:1a00b7fab70152372f66b448151c2125b3ea4ca37db5296eb4434f0a9a738c74"
 },
 "nbformat": 3,
 "nbformat_minor": 0,
 "worksheets": [
  {
   "cells": [
    {
     "cell_type": "code",
     "collapsed": false,
     "input": [
      "import pylab as pl\n",
      "import numpy as np\n",
      "import string\n",
      "%pylab inline\n",
      "import pandas as pd\n",
      "pd.options.display.mpl_style = 'default'"
     ],
     "language": "python",
     "metadata": {},
     "outputs": [
      {
       "output_type": "stream",
       "stream": "stdout",
       "text": [
        "Populating the interactive namespace from numpy and matplotlib\n"
       ]
      }
     ],
     "prompt_number": 95
    },
    {
     "cell_type": "code",
     "collapsed": false,
     "input": [
      "from sklearn.feature_extraction.text import TfidfVectorizer\n",
      "from sklearn.naive_bayes import MultinomialNB\n",
      "from sklearn.pipeline import Pipeline\n",
      "from sklearn.cross_validation import ShuffleSplit\n",
      "from sklearn.metrics import precision_recall_curve, auc\n",
      "\n",
      "def create_ngram_model():\n",
      "    tfidf_ngrams=TfidfVectorizer(ngram_range=(1,3),analyzer=\"word\",binary=False)\n",
      "    clf=MultinomialNB()\n",
      "    pipeline=Pipeline([('vect',tfidf_ngrams),('clf',clf)])\n",
      "    return pipeline\n",
      "\n",
      "def train_model(clf_factory, X, Y):\n",
      "     # setting random_state to get deterministic behavior\n",
      "    cv = ShuffleSplit(n=len(X), n_iter=10, test_size=0.3,indices=True, random_state=0)\n",
      "\n",
      "    scores = []\n",
      "    pr_scores = []\n",
      "\n",
      "    for train, test in cv:\n",
      "        X_train, y_train = X[train], Y[train]\n",
      "        X_test, y_test = X[test], Y[test]\n",
      "\n",
      "        clf = clf_factory()\n",
      "        clf.fit(X_train, y_train)\n",
      "\n",
      "        train_score = clf.score(X_train, y_train)\n",
      "        test_score = clf.score(X_test, y_test)\n",
      "\n",
      "        scores.append(test_score)\n",
      "        proba = clf.predict_proba(X_test)\n",
      "\n",
      "        precision, recall, pr_thresholds = precision_recall_curve(y_test, proba[:,1])\n",
      "\n",
      "        pr_scores.append(auc(recall, precision))\n",
      "    \n",
      "    summary = (np.mean(scores), np.std(scores),\n",
      "               np.mean(pr_scores), np.std(pr_scores))\n",
      "    print \"%.3f\\t%.3f\\t%.3f\\t%.3f\"%summary\n",
      "    return recall,precision"
     ],
     "language": "python",
     "metadata": {},
     "outputs": [],
     "prompt_number": 103
    },
    {
     "cell_type": "code",
     "collapsed": false,
     "input": [],
     "language": "python",
     "metadata": {},
     "outputs": []
    },
    {
     "cell_type": "code",
     "collapsed": false,
     "input": [
      "fn = 'foods.csv'\n",
      "f = open(fn,'r')\n",
      "df = pd.io.parsers.read_table(f, '\\t!\\t',engine='python')\n",
      "f.close()"
     ],
     "language": "python",
     "metadata": {},
     "outputs": [],
     "prompt_number": 73
    },
    {
     "cell_type": "code",
     "collapsed": false,
     "input": [
      "def decodeArray(text):\n",
      "    try:\n",
      "        return text.decode(\"utf-8\",\"replace\")\n",
      "    except:\n",
      "        return 0\n",
      "df=df.replace({'score': {'5.0':5,'4.0':4,'3.0':3,'2.0':2,'1.0':1}})\n",
      "mask=(df['score']<2) | (df['score']>4)\n",
      "Y=array(df[mask]['score'][1000:2000].replace({5:1,1:0}))\n",
      "X=array(df[mask]['text'][1000:2000].apply(decodeArray))\n",
      "classes = np.unique(Y)\n",
      "for c in classes:\n",
      "        print(\"#%s: %i\" % (c, sum(Y==c)))"
     ],
     "language": "python",
     "metadata": {},
     "outputs": [
      {
       "output_type": "stream",
       "stream": "stdout",
       "text": [
        "#0: 111\n",
        "#1: 889\n"
       ]
      }
     ],
     "prompt_number": 64
    },
    {
     "cell_type": "code",
     "collapsed": false,
     "input": [
      "classes = np.unique(Y)\n",
      "print classes\n",
      "for c in classes:\n",
      "        print(\"#%s: %i\" % (c, sum(Y==c)))"
     ],
     "language": "python",
     "metadata": {},
     "outputs": [
      {
       "output_type": "stream",
       "stream": "stdout",
       "text": [
        "[0 1]\n",
        "#0: 111\n",
        "#1: 889\n"
       ]
      }
     ],
     "prompt_number": 65
    },
    {
     "cell_type": "code",
     "collapsed": false,
     "input": [
      "recall,precision=train_model(create_ngram_model,X,Y)"
     ],
     "language": "python",
     "metadata": {},
     "outputs": [
      {
       "output_type": "stream",
       "stream": "stdout",
       "text": [
        "0.894\t0.013\t0.935\t0.017\n"
       ]
      },
      {
       "output_type": "stream",
       "stream": "stderr",
       "text": [
        "/Users/mehdijamei/anaconda/lib/python2.7/site-packages/sklearn/cross_validation.py:757: DeprecationWarning: The indices parameter is deprecated and will be removed (assumed True) in 0.17\n",
        "  \"removed (assumed True) in 0.17\", DeprecationWarning)\n"
       ]
      }
     ],
     "prompt_number": 104
    },
    {
     "cell_type": "code",
     "collapsed": false,
     "input": [
      "pl.figure\n",
      "pl.plot(recall, precision)\n",
      "pl.xlabel('Recall')\n",
      "pl.ylabel('Precision')\n",
      "pl.ylim([0.0, 1.05])\n",
      "pl.xlim([0.0, 1.0])\n",
      "pl.title('Precision-Recall curve')\n",
      "pl.fill_between(recall, 0, precision, color='green')"
     ],
     "language": "python",
     "metadata": {},
     "outputs": [
      {
       "metadata": {},
       "output_type": "pyout",
       "prompt_number": 105,
       "text": [
        "<matplotlib.collections.PolyCollection at 0x113e888d0>"
       ]
      },
      {
       "metadata": {},
       "output_type": "display_data",
       "png": "[encoded data removed]",
       "text": [
        "<matplotlib.figure.Figure at 0x113e88890>"
       ]
      }
     ],
     "prompt_number": 105
    },
    {
     "cell_type": "code",
     "collapsed": false,
     "input": [],
     "language": "python",
     "metadata": {},
     "outputs": []
    }
   ],
   "metadata": {}
  }
 ]
}