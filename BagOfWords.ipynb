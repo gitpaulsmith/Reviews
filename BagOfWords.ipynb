{
 "metadata": {
  "name": "",
  "signature": "sha256:c73d9d30fe750c7d1cde72707a577ab7889c329b87c1e85d84461be14ffbf835"
 },
 "nbformat": 3,
 "nbformat_minor": 0,
 "worksheets": [
  {
   "cells": [
    {
     "cell_type": "code",
     "collapsed": false,
     "input": [
      "import numpy as np\n",
      "%pylab inline\n",
      "import pandas as pd\n",
      "from sklearn.feature_extraction.text import CountVectorizer\n",
      "#pd.options.display.mpl_style = 'default'"
     ],
     "language": "python",
     "metadata": {},
     "outputs": [
      {
       "output_type": "stream",
       "stream": "stdout",
       "text": [
        "Populating the interactive namespace from numpy and matplotlib\n"
       ]
      }
     ],
     "prompt_number": 1
    },
    {
     "cell_type": "code",
     "collapsed": false,
     "input": [
      "fn = 'foods.csv'\n",
      "f = open(fn,'rb')\n",
      "df = pd.io.parsers.read_table(f, '\\t!\\t',engine='python')\n",
      "f.close()"
     ],
     "language": "python",
     "metadata": {},
     "outputs": [],
     "prompt_number": 2
    },
    {
     "cell_type": "code",
     "collapsed": false,
     "input": [
      "df.drop_duplicates('text',inplace=True)"
     ],
     "language": "python",
     "metadata": {},
     "outputs": [],
     "prompt_number": 3
    },
    {
     "cell_type": "code",
     "collapsed": false,
     "input": [
      "# Load the positive and negative word files from http://www.cs.uic.edu/~liub/FBS/sentiment-analysis.html\n",
      "# Direct link http://www.cs.uic.edu/~liub/FBS/opinion-lexicon-English.rar\n",
      "\n",
      "posfn = './opinion-lexicon-English/positive-words.txt'\n",
      "negfn = './opinion-lexicon-English/negative-words.txt'\n",
      "\n",
      "poswords = pd.read_table(posfn,skiprows=35,header=None,squeeze=True)\n",
      "\n",
      "poswords.dropna(how='all',inplace=True)\n",
      "poswords.reset_index(drop=True,inplace=True)\n",
      "\n",
      "negwords = pd.read_csv(negfn, skiprows=35, header=None, squeeze=True)\n",
      "negwords.dropna(how='all',inplace=True)\n",
      "negwords.reset_index(drop=True,inplace=True)\n",
      "\n",
      "print len(poswords), ' positive words loaded.  ', len(negwords), ' negative words loaded.'"
     ],
     "language": "python",
     "metadata": {},
     "outputs": [
      {
       "output_type": "stream",
       "stream": "stdout",
       "text": [
        "2006  positive words loaded.   4783  negative words loaded.\n"
       ]
      }
     ],
     "prompt_number": 5
    },
    {
     "cell_type": "code",
     "collapsed": false,
     "input": [
      "# Find columns in vectorized data that correspond to positive or negative words\n",
      "\n",
      "vectorizer = CountVectorizer(decode_error='replace', strip_accents='ascii',stop_words='english')\n",
      "X = vectorizer.fit_transform(df['text'])\n",
      "vocab = vectorizer.vocabulary_\n",
      "\n",
      "poscol, negcol = [], []\n",
      "for word in poswords:\n",
      "    if word in vocab:\n",
      "        poscol.append(vocab[word])\n",
      "for word in negwords:\n",
      "    if word in vocab:\n",
      "        negcol.append(vocab[word])\n",
      "print len(poscol), 'positive words in vocabulary. ', len(negcol), 'negative words in vocabulary'"
     ],
     "language": "python",
     "metadata": {},
     "outputs": [
      {
       "output_type": "stream",
       "stream": "stdout",
       "text": [
        "1652 positive words in vocabulary.  3453 negative words in vocabulary\n"
       ]
      }
     ],
     "prompt_number": 6
    },
    {
     "cell_type": "code",
     "collapsed": false,
     "input": [
      "# Trying to use X.getrow().toarray() on the sparse matrix and count positive/negative words was painfully slow\n",
      "# Seems faster to just use 3 separate vectorizers to produce matrices for all words, pos words only, and negwords only, \n",
      "# then do sparse-matrix-friendly operations on those for speed\n",
      "\n",
      "vectorizerpos = CountVectorizer(decode_error='replace', strip_accents='ascii',stop_words='english', vocabulary=poswords)\n",
      "Xpos = vectorizerpos.fit_transform(df['text'])\n",
      "\n",
      "vectorizerneg = CountVectorizer(decode_error='replace', strip_accents='ascii',stop_words='english', vocabulary=negwords)\n",
      "Xneg = vectorizerneg.fit_transform(df['text'])\n",
      "\n"
     ],
     "language": "python",
     "metadata": {},
     "outputs": [],
     "prompt_number": 7
    },
    {
     "cell_type": "code",
     "collapsed": false,
     "input": [
      "from __future__ import division\n",
      "poscnt = np.array(Xpos.sum(1)).flatten()\n",
      "negcnt = np.array(Xneg.sum(1)).flatten()\n",
      "fullcnt = np.array(X.sum(1)).flatten()\n",
      "score = (poscnt - negcnt) / fullcnt\n",
      "df['text_score'] = score"
     ],
     "language": "python",
     "metadata": {},
     "outputs": [],
     "prompt_number": 8
    },
    {
     "cell_type": "code",
     "collapsed": false,
     "input": [
      "bp = df.boxplot(column = 'text_score', by='score')\n",
      "import pylab as pl\n",
      "pl.ylabel('Word count: (Pos-Neg) / Total ')"
     ],
     "language": "python",
     "metadata": {},
     "outputs": [
      {
       "metadata": {},
       "output_type": "pyout",
       "prompt_number": 9,
       "text": [
        "<matplotlib.text.Text at 0x179c6ab0>"
       ]
      },
      {
       "metadata": {},
       "output_type": "display_data",
       "png": "[encoded data removed]",
       "text": [
        "<matplotlib.figure.Figure at 0x17e45b70>"
       ]
      }
     ],
     "prompt_number": 9
    },
    {
     "cell_type": "code",
     "collapsed": false,
     "input": [
      "# Group scores of 1, 2 as bad, 4, 5 as good.  Ignore 3s.\n",
      "df['goodscore'] = df['score'].apply(lambda x: x>2)\n",
      "ix = (df['score'] != 3)"
     ],
     "language": "python",
     "metadata": {},
     "outputs": [],
     "prompt_number": 10
    },
    {
     "cell_type": "code",
     "collapsed": false,
     "input": [
      "def safelen(x):\n",
      "    try:\n",
      "        return len(x)\n",
      "    except:\n",
      "        return 0\n",
      "df['textlen'] = df['text'].apply(safelen)"
     ],
     "language": "python",
     "metadata": {},
     "outputs": [],
     "prompt_number": 11
    },
    {
     "cell_type": "code",
     "collapsed": false,
     "input": [
      "df.dropna(inplace=True)\n",
      "from sklearn import linear_model\n",
      "X = df[ix][['textlen', 'text_score']]\n",
      "Y = df[ix]['goodscore']\n",
      "\n",
      "logreg = linear_model.LogisticRegression(C=1e5)\n",
      "\n",
      "# we create an instance of Neighbours Classifier and fit the data.\n",
      "logreg.fit(X, Y)"
     ],
     "language": "python",
     "metadata": {},
     "outputs": [
      {
       "metadata": {},
       "output_type": "pyout",
       "prompt_number": 13,
       "text": [
        "LogisticRegression(C=100000.0, class_weight=None, dual=False,\n",
        "          fit_intercept=True, intercept_scaling=1, penalty='l2',\n",
        "          random_state=None, tol=0.0001)"
       ]
      }
     ],
     "prompt_number": 13
    },
    {
     "cell_type": "code",
     "collapsed": false,
     "input": [
      "sum(logreg.predict(X)==Y)/len(df[ix])"
     ],
     "language": "python",
     "metadata": {},
     "outputs": [
      {
       "metadata": {},
       "output_type": "pyout",
       "prompt_number": 14,
       "text": [
        "0.85725359119970534"
       ]
      }
     ],
     "prompt_number": 14
    },
    {
     "cell_type": "code",
     "collapsed": false,
     "input": [
      "sum(df[ix]['score']>3)/ len(df[ix])"
     ],
     "language": "python",
     "metadata": {},
     "outputs": [
      {
       "metadata": {},
       "output_type": "pyout",
       "prompt_number": 15,
       "text": [
        "0.84315541799750415"
       ]
      }
     ],
     "prompt_number": 15
    },
    {
     "cell_type": "code",
     "collapsed": false,
     "input": [
      "inds = np.array(df.index)\n",
      "np.random.shuffle(inds)"
     ],
     "language": "python",
     "metadata": {},
     "outputs": [],
     "prompt_number": 16
    },
    {
     "cell_type": "code",
     "collapsed": false,
     "input": [
      "ntest = int(len(inds)/2.)\n",
      "traini = inds[:ntest]\n",
      "testi = inds[ntest:]"
     ],
     "language": "python",
     "metadata": {},
     "outputs": [],
     "prompt_number": 17
    },
    {
     "cell_type": "code",
     "collapsed": false,
     "input": [
      "df_test = df.ix[testi]\n",
      "df_train = df.ix[traini]"
     ],
     "language": "python",
     "metadata": {},
     "outputs": [],
     "prompt_number": 18
    },
    {
     "cell_type": "markdown",
     "metadata": {},
     "source": [
      "Train model using pos/neg word score and text length.  Train using 1,2 star neg, 4,5 star pos."
     ]
    },
    {
     "cell_type": "code",
     "collapsed": false,
     "input": [
      "ix = df_train['score']!= 3\n",
      "X_train = df_train[ix][['textlen','text_score']]\n",
      "Y_train = df_train[ix]['goodscore']\n",
      "\n",
      "logreg = linear_model.LogisticRegression(C=1e5)\n",
      "\n",
      "# we create an instance of Neighbours Classifier and fit the data.\n",
      "logreg.fit(X_train, Y_train)"
     ],
     "language": "python",
     "metadata": {},
     "outputs": [
      {
       "metadata": {},
       "output_type": "pyout",
       "prompt_number": 137,
       "text": [
        "LogisticRegression(C=100000.0, class_weight=None, dual=False,\n",
        "          fit_intercept=True, intercept_scaling=1, penalty='l2',\n",
        "          random_state=None, tol=0.0001)"
       ]
      }
     ],
     "prompt_number": 137
    },
    {
     "cell_type": "markdown",
     "metadata": {},
     "source": [
      "Test using same criteria."
     ]
    },
    {
     "cell_type": "code",
     "collapsed": false,
     "input": [
      "ix = (df_test['score']!=3)\n",
      "X_test = df_test[ix][['textlen','text_score']]\n",
      "Y_test = df_test[ix]['goodscore']\n",
      "Y_pred =  logreg.predict(X_test)\n",
      "print sum(Y_pred == Y_test) / len(df_test[ix]), ' ', len(df_test[ix])/len(df_test)"
     ],
     "language": "python",
     "metadata": {},
     "outputs": [
      {
       "output_type": "stream",
       "stream": "stdout",
       "text": [
        "0.856958302411   "
       ]
      },
      {
       "output_type": "stream",
       "stream": "stdout",
       "text": [
        "0.924412665986\n"
       ]
      }
     ],
     "prompt_number": 140
    },
    {
     "cell_type": "markdown",
     "metadata": {},
     "source": [
      "Test only 1 and 5 star data."
     ]
    },
    {
     "cell_type": "code",
     "collapsed": false,
     "input": [
      "ix = ((df_test['score'] <2) | (df_test['score'] > 4)) \n",
      "X_test = df_test[ix][['textlen','text_score']]\n",
      "Y_test = df_test[ix]['goodscore']\n",
      "Y_pred =  logreg.predict(X_test)\n",
      "print sum(Y_pred == Y_test) / len(df_test[ix]), ' ', len(df_test[ix])/len(df_test)"
     ],
     "language": "python",
     "metadata": {},
     "outputs": [
      {
       "output_type": "stream",
       "stream": "stdout",
       "text": [
        "0.888323031631   "
       ]
      },
      {
       "output_type": "stream",
       "stream": "stdout",
       "text": [
        "0.728441551182\n"
       ]
      }
     ],
     "prompt_number": 142
    },
    {
     "cell_type": "code",
     "collapsed": false,
     "input": [],
     "language": "python",
     "metadata": {},
     "outputs": []
    },
    {
     "cell_type": "markdown",
     "metadata": {},
     "source": [
      "Now remove 50% of data with lowest absval of score (presumably least accurate predictions in this region)"
     ]
    },
    {
     "cell_type": "code",
     "collapsed": false,
     "input": [
      "ix = (df_test['text_score'].add(0.045).abs()>0.131) & (df_test['score'] != 3)\n",
      "X_test = df_test[ix][['textlen','text_score']]\n",
      "Y_test = df_test[ix]['goodscore']\n",
      "Y_pred =  logreg.predict(X_test)\n",
      "print sum(Y_pred == Y_test) / len(df_test[ix]), ' ', len(df_test[ix])/len(df_test)"
     ],
     "language": "python",
     "metadata": {},
     "outputs": [
      {
       "output_type": "stream",
       "stream": "stdout",
       "text": [
        "0.948009434346   "
       ]
      },
      {
       "output_type": "stream",
       "stream": "stdout",
       "text": [
        "0.499870413001\n"
       ]
      }
     ],
     "prompt_number": 143
    },
    {
     "cell_type": "markdown",
     "metadata": {},
     "source": [
      "Now only 1,5 star reviews and remove low absval word scores."
     ]
    },
    {
     "cell_type": "code",
     "collapsed": false,
     "input": [
      "ix = ((df['score'] <2) | (df['score'] > 4)) & (df_test['text_score'].add(0.045).abs()>0.1039)\n",
      "X_test = df_test[ix][['textlen','text_score']]\n",
      "Y_test = df_test[ix]['goodscore']\n",
      "Y_pred =  logreg.predict(X_test)\n",
      "print sum(Y_pred == Y_test) / len(df_test[ix]), ' ', len(df_test[ix])/len(df_test)"
     ],
     "language": "python",
     "metadata": {},
     "outputs": [
      {
       "output_type": "stream",
       "stream": "stdout",
       "text": [
        "0.958248711537   "
       ]
      },
      {
       "output_type": "stream",
       "stream": "stdout",
       "text": [
        "0.497944394473\n"
       ]
      }
     ],
     "prompt_number": 164
    },
    {
     "cell_type": "code",
     "collapsed": false,
     "input": [
      "sum(df[ix]['goodscore']==(df[ix]['text_score']>-.045))/len(df[ix])"
     ],
     "language": "python",
     "metadata": {},
     "outputs": [
      {
       "metadata": {},
       "output_type": "pyout",
       "prompt_number": 84,
       "text": [
        "0.8890882861284567"
       ]
      }
     ],
     "prompt_number": 84
    },
    {
     "cell_type": "code",
     "collapsed": false,
     "input": [
      "from sklearn.metrics import confusion_matrix\n",
      "cm = confusion_matrix(Y_test, Y_pred)\n",
      "\n",
      "print(cm)\n",
      "\n",
      "# Show confusion matrix in a separate window\n",
      "plt.matshow(cm)\n",
      "plt.title('Confusion matrix')\n",
      "plt.colorbar()\n",
      "plt.ylabel('True label')\n",
      "plt.xlabel('Predicted label')"
     ],
     "language": "python",
     "metadata": {},
     "outputs": [
      {
       "output_type": "stream",
       "stream": "stdout",
       "text": [
        "[[  4342  13696]\n",
        " [  2312 122992]]\n"
       ]
      },
      {
       "metadata": {},
       "output_type": "pyout",
       "prompt_number": 55,
       "text": [
        "<matplotlib.text.Text at 0x178099d0>"
       ]
      },
      {
       "metadata": {},
       "output_type": "display_data",
       "png": "[encoded data removed]",
       "text": [
        "<matplotlib.figure.Figure at 0x17809110>"
       ]
      }
     ],
     "prompt_number": 55
    },
    {
     "cell_type": "code",
     "collapsed": false,
     "input": [],
     "language": "python",
     "metadata": {},
     "outputs": []
    }
   ],
   "metadata": {}
  }
 ]
}