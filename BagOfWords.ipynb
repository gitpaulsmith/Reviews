{
 "metadata": {
  "name": ""
 },
 "nbformat": 3,
 "nbformat_minor": 0,
 "worksheets": [
  {
   "cells": [
    {
     "cell_type": "code",
     "collapsed": false,
     "input": [
      "import numpy as np\n",
      "%pylab inline\n",
      "import pandas as pd\n",
      "from sklearn.feature_extraction.text import CountVectorizer\n",
      "#pd.options.display.mpl_style = 'default'"
     ],
     "language": "python",
     "metadata": {},
     "outputs": [
      {
       "output_type": "stream",
       "stream": "stdout",
       "text": [
        "Populating the interactive namespace from numpy and matplotlib\n"
       ]
      }
     ],
     "prompt_number": 52
    },
    {
     "cell_type": "code",
     "collapsed": false,
     "input": [
      "fn = 'foods.csv'\n",
      "f = open(fn,'rb')\n",
      "df = pd.io.parsers.read_table(f, '\\t!\\t',engine='python')\n",
      "f.close()"
     ],
     "language": "python",
     "metadata": {},
     "outputs": [],
     "prompt_number": 156
    },
    {
     "cell_type": "code",
     "collapsed": false,
     "input": [
      "df.drop_duplicates('text',inplace=True)"
     ],
     "language": "python",
     "metadata": {},
     "outputs": [],
     "prompt_number": 157
    },
    {
     "cell_type": "code",
     "collapsed": false,
     "input": [
      "# Load the positive and negative word files from http://www.cs.uic.edu/~liub/FBS/sentiment-analysis.html\n",
      "# Direct link http://www.cs.uic.edu/~liub/FBS/opinion-lexicon-English.rar\n",
      "\n",
      "posfn = './opinion-lexicon-English/positive-words.txt'\n",
      "negfn = './opinion-lexicon-English/negative-words.txt'\n",
      "\n",
      "poswords = pd.read_table(posfn,comment=';',squeeze=True)\n",
      "poswords.dropna(how='all',inplace=True)\n",
      "poswords.reset_index(drop=True,inplace=True)\n",
      "\n",
      "negwords = pd.read_table(negfn,comment=';',squeeze=True)\n",
      "negwords.dropna(how='all',inplace=True)\n",
      "negwords.reset_index(drop=True,inplace=True)\n",
      "\n",
      "print len(poswords), ' positive words loaded.  ', len(negwords), ' negative words loaded.'"
     ],
     "language": "python",
     "metadata": {},
     "outputs": [
      {
       "output_type": "stream",
       "stream": "stdout",
       "text": [
        "2006  positive words loaded.   4783  negative words loaded.\n"
       ]
      }
     ],
     "prompt_number": 45
    },
    {
     "cell_type": "code",
     "collapsed": false,
     "input": [
      "# Find columns in vectorized data that correspond to positive or negative words\n",
      "\n",
      "vectorizer = CountVectorizer(decode_error='replace', strip_accents='ascii',stop_words='english')\n",
      "X = vectorizer.fit_transform(df['text'])\n",
      "vocab = vectorizer.vocabulary_\n",
      "\n",
      "poscol, negcol = [], []\n",
      "for word in poswords:\n",
      "    if word in vocab:\n",
      "        poscol.append(vocab[word])\n",
      "for word in negwords:\n",
      "    if word in vocab:\n",
      "        negcol.append(vocab[word])\n",
      "print len(poscol), 'positive words in vocabulary. ', len(negcol), 'negative words in vocabulary'"
     ],
     "language": "python",
     "metadata": {},
     "outputs": [
      {
       "output_type": "stream",
       "stream": "stdout",
       "text": [
        "1652 positive words in vocabulary.  3453 negative words in vocabulary\n"
       ]
      }
     ],
     "prompt_number": 160
    },
    {
     "cell_type": "code",
     "collapsed": false,
     "input": [
      "# Trying to use X.getrow().toarray() on the sparse matrix and count positive/negative words was painfully slow\n",
      "# Seems faster to just use 3 separate vectorizers to produce matrices for all words, pos words only, and negwords only, \n",
      "# then do sparse-matrix-friendly operations on those for speed\n",
      "\n",
      "vectorizerpos = CountVectorizer(decode_error='replace', strip_accents='ascii',stop_words='english', vocabulary=poswords)\n",
      "Xpos = vectorizerpos.fit_transform(df['text'])\n",
      "\n",
      "vectorizerneg = CountVectorizer(decode_error='replace', strip_accents='ascii',stop_words='english', vocabulary=negwords)\n",
      "Xneg = vectorizerneg.fit_transform(df['text'])\n",
      "\n"
     ],
     "language": "python",
     "metadata": {},
     "outputs": [],
     "prompt_number": 161
    },
    {
     "cell_type": "code",
     "collapsed": false,
     "input": [
      "from __future__ import division\n",
      "poscnt = np.array(Xpos.sum(1)).flatten()\n",
      "negcnt = np.array(Xneg.sum(1)).flatten()\n",
      "fullcnt = np.array(X.sum(1)).flatten()\n",
      "score = (poscnt - negcnt) / fullcnt\n",
      "df['text_score'] = score"
     ],
     "language": "python",
     "metadata": {},
     "outputs": [],
     "prompt_number": 162
    },
    {
     "cell_type": "code",
     "collapsed": false,
     "input": [
      "bp = df.boxplot(column = 'text_score', by='score')\n",
      "import pylab as pl\n",
      "pl.ylabel('Word count: (Pos-Neg) / Total ')"
     ],
     "language": "python",
     "metadata": {},
     "outputs": [
      {
       "metadata": {},
       "output_type": "pyout",
       "prompt_number": 166,
       "text": [
        "<matplotlib.text.Text at 0x14a866d8>"
       ]
      },
      {
       "metadata": {},
       "output_type": "display_data",
       "png": "[encoded data removed]",
       "text": [
        "<matplotlib.figure.Figure at 0x15100908>"
       ]
      }
     ],
     "prompt_number": 166
    },
    {
     "cell_type": "code",
     "collapsed": false,
     "input": [],
     "language": "python",
     "metadata": {},
     "outputs": []
    }
   ],
   "metadata": {}
  }
 ]
}