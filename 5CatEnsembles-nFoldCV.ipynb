{
 "metadata": {
  "name": "",
  "signature": "sha256:ff0a1ea8676bfa75cbc68451f0b87c3761a934069b70daa4936192ff0a4e1b2d"
 },
 "nbformat": 3,
 "nbformat_minor": 0,
 "worksheets": [
  {
   "cells": [
    {
     "cell_type": "heading",
     "level": 4,
     "metadata": {},
     "source": [
      "Import required packages"
     ]
    },
    {
     "cell_type": "code",
     "collapsed": false,
     "input": [
      "import math\n",
      "import scipy\n",
      "import numpy as np\n",
      "import pandas as pd\n",
      "\n",
      "import matplotlib.pyplot as plt\n",
      "%matplotlib inline\n",
      "\n",
      "from sklearn.externals import joblib\n",
      "import cPickle\n",
      "\n",
      "from sklearn.feature_extraction.text import CountVectorizer\n",
      "from sklearn.feature_extraction.text import TfidfVectorizer\n",
      "from sklearn.linear_model import LinearRegression\n",
      "from sklearn import linear_model\n",
      "from sklearn import svm\n",
      "from sklearn.naive_bayes import MultinomialNB\n",
      "from sklearn.pipeline import Pipeline\n",
      "from sklearn.metrics import confusion_matrix"
     ],
     "language": "python",
     "metadata": {},
     "outputs": [],
     "prompt_number": 1
    },
    {
     "cell_type": "heading",
     "level": 4,
     "metadata": {},
     "source": [
      "Load the data"
     ]
    },
    {
     "cell_type": "code",
     "collapsed": false,
     "input": [
      "fn = 'scrubbed_foods.csv'\n",
      "f = open(fn,'rb')\n",
      "df = pd.io.parsers.read_table(f, '\\t!\\t',engine='python')\n",
      "f.close()\n",
      "df.drop_duplicates('text',inplace=True)\n",
      "\n",
      "#Shuffle the data\n",
      "#df = df.reindex(np.random.permutation(df.index))\n",
      "\n",
      "df_1star = pd.DataFrame(df[df['score']==1],columns=['score','text'])\n",
      "df_2star = pd.DataFrame(df[df['score']==2],columns=['score','text'])\n",
      "df_3star = pd.DataFrame(df[df['score']==3],columns=['score','text'])\n",
      "df_4star = pd.DataFrame(df[df['score']==4],columns=['score','text'])\n",
      "df_5star = pd.DataFrame(df[df['score']==5],columns=['score','text'])\n",
      "\n",
      "min_star_length = min(len(df_1star), len(df_2star), len(df_3star), len(df_4star), len(df_5star))\n",
      "\n",
      "#Train and test on data with stars equally distributed across classes\n",
      "#Percentage of data to use in training and cross-validation:\n",
      "frac = 1.\n",
      "idx1 = int(min_star_length*frac)  # Removed one * frac, for only one training set\n",
      "idx2 = int(min_star_length*frac)\n",
      "idx3 = min_star_length\n",
      "\n",
      "training_data = [df_1star[:idx1],df_2star[:idx1], df_3star[:idx1], df_4star[:idx1], df_5star[:idx1]]\n",
      "training_data2 = [df_1star[idx1:idx2],df_2star[idx1:idx2], df_3star[idx1:idx2], df_4star[idx1:idx2], df_5star[idx1:idx2]]\n",
      "testing_data = [df_1star[idx2:idx3],df_2star[idx2:idx3], df_3star[idx2:idx3], df_4star[idx2:idx3], df_5star[idx2:idx3]]\n",
      "del df_1star, df_2star, df_3star, df_4star, df_5star\n",
      "\n",
      "df_train = pd.concat(training_data)\n",
      "#df_train2 = pd.concat(training_data2)\n",
      "#df_test = pd.concat(testing_data)\n",
      "del training_data, training_data2, testing_data\n",
      "\n",
      "def decodeArray(text):\n",
      "    try:\n",
      "        return text.decode('utf-8','replace')\n",
      "    except:\n",
      "        return 0\n",
      "\n",
      "X_train = df_train['text'].apply(decodeArray)\n",
      "y_train = df_train['score']\n",
      "#X_train2 = df_train2['text'].apply(decodeArray)\n",
      "#y_train2 = df_train2['score']\n",
      "#X_test = df_test['text'].apply(decodeArray)\n",
      "#y_test = df_test['score']"
     ],
     "language": "python",
     "metadata": {},
     "outputs": [],
     "prompt_number": 99
    },
    {
     "cell_type": "heading",
     "level": 4,
     "metadata": {},
     "source": [
      "Confusion Matrix normalizer and plotter"
     ]
    },
    {
     "cell_type": "code",
     "collapsed": false,
     "input": [
      "def makeCM_plot(y_test, y_pred):\n",
      "    cm = confusion_matrix(y_test, y_pred)\n",
      "    cm=cm / cm.astype(np.float).sum(axis=1)\n",
      "    print cm\n",
      "    plt.matshow(cm)\n",
      "    plt.title('Confusion matrix')\n",
      "    plt.colorbar()\n",
      "    plt.ylabel('True label')\n",
      "    plt.xlabel('Predicted label')\n",
      "    plt.show()"
     ],
     "language": "python",
     "metadata": {},
     "outputs": [],
     "prompt_number": 3
    },
    {
     "cell_type": "heading",
     "level": 4,
     "metadata": {},
     "source": [
      "Covariance and descriptive statistics"
     ]
    },
    {
     "cell_type": "code",
     "collapsed": false,
     "input": [
      "def mu(x1):\n",
      "    return x1.sum()/len(x1)\n",
      "\n",
      "def ErrorEst(y_act, y_test):\n",
      "    return np.mean(np.abs(y_test - y_act))\n",
      "\n",
      "def cov(x1, x2):\n",
      "    return np.dot(x1, x2)/len(x1)\n",
      "\n",
      "def stdev(x):\n",
      "    return math.sqrt(cov(x - mu(x), x - mu(x)))\n",
      "\n",
      "def optimal_weights(X1, X2, X3):\n",
      "    X1 = X1 - mu(X1)\n",
      "    X2 = X2 - mu(X2)\n",
      "    X3 = X3 - mu(X3)\n",
      "    \n",
      "    sigma_11 = cov(X1, X1)\n",
      "    sigma_12 = cov(X1, X2)\n",
      "    sigma_13 = cov(X1, X3)\n",
      "    sigma_21 = sigma_12\n",
      "    sigma_22 = cov(X2, X2)\n",
      "    sigma_23 = cov(X2, X3)\n",
      "    sigma_31 = sigma_13\n",
      "    sigma_32 = sigma_23\n",
      "    sigma_33 = cov(X3, X3)\n",
      "    \n",
      "    A = np.array([[2*sigma_11, 2*sigma_12, 2*sigma_13, 1],\n",
      "     [2*sigma_21, 2*sigma_22, 2*sigma_23, 1],\n",
      "     [2*sigma_31, 2*sigma_32, 2*sigma_33, 1],\n",
      "     [1, 1, 1, 0]])\n",
      "    b = np.array([0,0,0,1]).transpose()\n",
      "    \n",
      "    z = np.dot(np.linalg.inv(A), b)\n",
      "    \n",
      "    w1=z[0]\n",
      "    w2=z[1]\n",
      "    w3=z[2]\n",
      "    \n",
      "    w = np.array([w1, w2, w3])\n",
      "    return w"
     ],
     "language": "python",
     "metadata": {},
     "outputs": [],
     "prompt_number": 4
    },
    {
     "cell_type": "heading",
     "level": 4,
     "metadata": {},
     "source": [
      "SVM"
     ]
    },
    {
     "cell_type": "heading",
     "level": 4,
     "metadata": {},
     "source": [
      "Logreg"
     ]
    },
    {
     "cell_type": "code",
     "collapsed": false,
     "input": [
      "Logreg_Vectorizer=TfidfVectorizer(analyzer='word', binary=False, charset=None,charset_error=None,decode_error='strict',\n",
      "                       encoding='utf-8',lowercase=True,\n",
      "                       max_df=1.0,max_features=None,min_df=1,ngram_range=(1, 3),norm='l2',\n",
      "                       preprocessor=None,smooth_idf=False,stop_words=None,strip_accents=None,\n",
      "                       sublinear_tf=False,token_pattern='(?u)\\\\b\\\\w\\\\w+\\\\b',tokenizer=None,use_idf=False,vocabulary=None)\n",
      "#Classsifier:\n",
      "Logreg_clf=linear_model.LogisticRegression()\n",
      "Logreg_pipeline=Pipeline([('vect', Logreg_Vectorizer),('clf', Logreg_clf)])\n",
      "Logreg_pipeline.fit(X_train,y_train)"
     ],
     "language": "python",
     "metadata": {},
     "outputs": [
      {
       "metadata": {},
       "output_type": "pyout",
       "prompt_number": 17,
       "text": [
        "Pipeline(steps=[('vect', TfidfVectorizer(analyzer='word', binary=False, charset=None,\n",
        "        charset_error=None, decode_error='strict',\n",
        "        dtype=<type 'numpy.int64'>, encoding='utf-8', input=u'content',\n",
        "        lowercase=True, max_df=1.0, max_features=None, min_df=1,\n",
        "        ngram_range=(1, 3), norm='l...e, fit_intercept=True,\n",
        "          intercept_scaling=1, penalty='l2', random_state=None, tol=0.0001))])"
       ]
      }
     ],
     "prompt_number": 17
    },
    {
     "cell_type": "code",
     "collapsed": false,
     "input": [
      "joblib.dump(Logreg_pipeline, 'Logreg.joblib')"
     ],
     "language": "python",
     "metadata": {},
     "outputs": [
      {
       "metadata": {},
       "output_type": "pyout",
       "prompt_number": 18,
       "text": [
        "['Logreg.joblib',\n",
        " 'Logreg.joblib_01.npy',\n",
        " 'Logreg.joblib_02.npy',\n",
        " 'Logreg.joblib_03.npy',\n",
        " 'Logreg.joblib_04.npy',\n",
        " 'Logreg.joblib_05.npy']"
       ]
      }
     ],
     "prompt_number": 18
    },
    {
     "cell_type": "code",
     "collapsed": false,
     "input": [
      "Logreg_pipeline.score(X_train, y_train)"
     ],
     "language": "python",
     "metadata": {},
     "outputs": [
      {
       "metadata": {},
       "output_type": "pyout",
       "prompt_number": 19,
       "text": [
        "0.73693121693121688"
       ]
      }
     ],
     "prompt_number": 19
    },
    {
     "cell_type": "code",
     "collapsed": false,
     "input": [
      "y_Logregtrain = Logreg_pipeline.predict(X_train)\n",
      "y_Logregtest = Logreg_pipeline.predict(X_test)\n",
      "err_Logreg_train = y_Logregtrain - y_train\n",
      "err_Logreg_test = y_Logregtest - y_test"
     ],
     "language": "python",
     "metadata": {},
     "outputs": [],
     "prompt_number": 20
    },
    {
     "cell_type": "code",
     "collapsed": false,
     "input": [
      "print ErrorEst(y_train, y_Logregtrain)\n",
      "print stdev(err_Logreg_train)\n",
      "print ErrorEst(y_test, y_Logregtest)\n",
      "print stdev(err_Logreg_test)"
     ],
     "language": "python",
     "metadata": {},
     "outputs": [
      {
       "output_type": "stream",
       "stream": "stdout",
       "text": [
        "0.69519010536\n",
        "1.12339181709\n",
        "0.67358127605\n",
        "1.10785230975\n"
       ]
      }
     ],
     "prompt_number": 20
    },
    {
     "cell_type": "heading",
     "level": 1,
     "metadata": {},
     "source": [
      "5-fold cross validation"
     ]
    },
    {
     "cell_type": "code",
     "collapsed": false,
     "input": [
      "Logreg_Vectorizer=TfidfVectorizer(analyzer='word', binary=False, charset=None,charset_error=None,decode_error='strict',\n",
      "                       encoding='utf-8',lowercase=True,\n",
      "                       max_df=1.0,max_features=None,min_df=1,ngram_range=(1, 3),norm='l2',\n",
      "                       preprocessor=None,smooth_idf=False,stop_words=None,strip_accents=None,\n",
      "                       sublinear_tf=False,token_pattern='(?u)\\\\b\\\\w\\\\w+\\\\b',tokenizer=None,use_idf=False,vocabulary=None)\n",
      "#Classsifier:\n",
      "Logreg_clf=linear_model.LogisticRegression()\n",
      "Logreg_pipeline=Pipeline([('vect', Logreg_Vectorizer),('clf', Logreg_clf)])\n",
      "\n",
      "\n",
      "LR_CV_data = {}\n",
      "LR_CV_data = {'score':[], 'stdev':[], 'ErrorEst':[]}\n",
      "\n",
      "X = np.array(X_train.reindex())\n",
      "y = np.array(y_train.reindex())\n",
      "\n",
      "cv = StratifiedKFold(y, n_folds=5)\n",
      "\n",
      "for i, (train, test) in enumerate(cv):\n",
      "    \n",
      "    Logreg_pipeline.fit(X[train],y[train])\n",
      "    y_pred = Logreg_pipeline.predict(X[test])\n",
      "    \n",
      "    LR_CV_data['score'].append(Logreg_pipeline.score(X[test],y[test]))\n",
      "    LR_CV_data['stdev'].append(stdev(y_pred - y[test]))\n",
      "    LR_CV_data['ErrorEst'].append(ErrorEst(y[test], y_pred))\n",
      "    print LR_CV_data\n",
      "    \n",
      "pickle.dump(LR_CV_data,open('LR_CV.pkl','wb'))"
     ],
     "language": "python",
     "metadata": {},
     "outputs": [],
     "prompt_number": 104
    },
    {
     "cell_type": "code",
     "collapsed": false,
     "input": [
      "NB_Vectorizer=TfidfVectorizer(analyzer='word', binary=False, charset=None,charset_error=None,decode_error='strict',\n",
      "                       encoding='utf-8',lowercase=True,\n",
      "                       max_df=1.0,max_features=None,min_df=1,ngram_range=(1, 3),norm='l2',\n",
      "                       preprocessor=None,smooth_idf=False,stop_words=None,strip_accents=None,\n",
      "                       sublinear_tf=False,token_pattern='(?u)\\\\b\\\\w\\\\w+\\\\b',tokenizer=None,use_idf=False,vocabulary=None)\n",
      "#Classsifier:\n",
      "NB_clf=MultinomialNB(alpha=0.1, class_prior=None, fit_prior=True)\n",
      "NB_pipeline=Pipeline([('vect', NB_Vectorizer),('clf', NB_clf)])\n",
      "\n",
      "\n",
      "NB_CV_data = {}\n",
      "NB_CV_data = {'score':[], 'stdev':[], 'ErrorEst':[]}\n",
      "\n",
      "X = np.array(X_train.reindex())\n",
      "y = np.array(y_train.reindex())\n",
      "\n",
      "cv = StratifiedKFold(y, n_folds=5)\n",
      "\n",
      "for i, (train, test) in enumerate(cv):\n",
      "    \n",
      "    NB_pipeline.fit(X[train],y[train])\n",
      "    y_pred = NB_pipeline.predict(X[test])\n",
      "    \n",
      "    NB_CV_data['score'].append(NB_pipeline.score(X[test],y[test]))\n",
      "    NB_CV_data['stdev'].append(stdev(y_pred - y[test]))\n",
      "    NB_CV_data['ErrorEst'].append(ErrorEst(y[test], y_pred))\n",
      "    print NB_CV_data\n",
      "    \n",
      "pickle.dump(NB_CV_data,open('NB_CV.pkl','wb'))"
     ],
     "language": "python",
     "metadata": {},
     "outputs": [
      {
       "output_type": "stream",
       "stream": "stdout",
       "text": [
        "{'ErrorEst': [0.65799471026689105], 'score': [0.50290935320990626], 'stdev': [1.0446872585379563]}\n",
        "{'ErrorEst': [0.65799471026689105, 0.67392977392977393], 'score': [0.50290935320990626, 0.47417027417027419], 'stdev': [1.0446872585379563, 1.0324924684503685]}"
       ]
      },
      {
       "output_type": "stream",
       "stream": "stdout",
       "text": [
        "\n",
        "{'ErrorEst': [0.65799471026689105, 0.67392977392977393, 0.65603655603655608], 'score': [0.50290935320990626, 0.47417027417027419, 0.47772967772967773], 'stdev': [1.0446872585379563, 1.0324924684503685, 0.9995183062577169]}"
       ]
      },
      {
       "output_type": "stream",
       "stream": "stdout",
       "text": [
        "\n",
        "{'ErrorEst': [0.65799471026689105, 0.67392977392977393, 0.65603655603655608, 0.6243386243386243], 'score': [0.50290935320990626, 0.47417027417027419, 0.47772967772967773, 0.50582010582010584], 'stdev': [1.0446872585379563, 1.0324924684503685, 0.9995183062577169, 0.9824251783501339]}"
       ]
      },
      {
       "output_type": "stream",
       "stream": "stdout",
       "text": [
        "\n",
        "{'ErrorEst': [0.65799471026689105, 0.67392977392977393, 0.65603655603655608, 0.6243386243386243, 0.63107263107263112], 'score': [0.50290935320990626, 0.47417027417027419, 0.47772967772967773, 0.50582010582010584, 0.50904280904280907], 'stdev': [1.0446872585379563, 1.0324924684503685, 0.9995183062577169, 0.9824251783501339, 0.9988731391368252]}"
       ]
      },
      {
       "output_type": "stream",
       "stream": "stdout",
       "text": [
        "\n"
       ]
      }
     ],
     "prompt_number": 105
    },
    {
     "cell_type": "code",
     "collapsed": false,
     "input": [
      "SVM_Vectorizer=TfidfVectorizer(analyzer='word', binary=True, charset=None,\n",
      "        charset_error=None, decode_error=u'strict',\n",
      "        encoding=u'utf-8', input=u'content',\n",
      "        lowercase=True, max_df=1.0, max_features=None, min_df=2,\n",
      "        ngram_range=(1, 2), norm=u'l2', preprocessor=None, smooth_idf=True,\n",
      "        stop_words=None, strip_accents=None, sublinear_tf=False,\n",
      "        token_pattern=u'(?u)\\\\b\\\\w\\\\w+\\\\b', tokenizer=None, use_idf=True,\n",
      "        vocabulary=None)\n",
      "\n",
      "SVM_clf=svm.LinearSVC(loss='l2', penalty='l1', dual=False)\n",
      "SVM_pipeline=Pipeline([('vect', SVM_Vectorizer),('clf', SVM_clf)])\n",
      "\n",
      "\n",
      "SVM_CV_data = {}\n",
      "SVM_CV_data = {'score':[], 'stdev':[], 'ErrorEst':[]}\n",
      "\n",
      "X = np.array(X_train.reindex())\n",
      "y = np.array(y_train.reindex())\n",
      "\n",
      "cv = StratifiedKFold(y, n_folds=5)\n",
      "\n",
      "for i, (train, test) in enumerate(cv):\n",
      "    \n",
      "    SVM_pipeline.fit(X[train],y[train])\n",
      "    y_pred = SVM_pipeline.predict(X[test])\n",
      "    \n",
      "    SVM_CV_data['score'].append(SVM_pipeline.score(X[test],y[test]))\n",
      "    SVM_CV_data['stdev'].append(stdev(y_pred - y[test]))\n",
      "    SVM_CV_data['ErrorEst'].append(ErrorEst(y[test], y_pred))\n",
      "    print SVM_CV_data\n",
      "    \n",
      "pickle.dump(SVM_CV_data,open('SVM_CV.pkl','wb'))"
     ],
     "language": "python",
     "metadata": {},
     "outputs": [
      {
       "output_type": "stream",
       "stream": "stdout",
       "text": [
        "{'ErrorEst': [0.69425342630440012], 'score': [0.50199567203654727], 'stdev': [1.11208547827288]}\n",
        "{'ErrorEst': [0.69425342630440012, 0.68581048581048576], 'score': [0.50199567203654727, 0.48821548821548821], 'stdev': [1.11208547827288, 1.0755008297967383]}"
       ]
      },
      {
       "output_type": "stream",
       "stream": "stdout",
       "text": [
        "\n",
        "{'ErrorEst': [0.69425342630440012, 0.68581048581048576, 0.67219817219817224], 'score': [0.50199567203654727, 0.48821548821548821, 0.49629629629629629], 'stdev': [1.11208547827288, 1.0755008297967383, 1.0628955175864256]}"
       ]
      },
      {
       "output_type": "stream",
       "stream": "stdout",
       "text": [
        "\n",
        "{'ErrorEst': [0.69425342630440012, 0.68581048581048576, 0.67219817219817224, 0.66839826839826844], 'score': [0.50199567203654727, 0.48821548821548821, 0.49629629629629629, 0.50317460317460316], 'stdev': [1.11208547827288, 1.0755008297967383, 1.0628955175864256, 1.06476179507422]}"
       ]
      },
      {
       "output_type": "stream",
       "stream": "stdout",
       "text": [
        "\n",
        "{'ErrorEst': [0.69425342630440012, 0.68581048581048576, 0.67219817219817224, 0.66839826839826844, 0.6684463684463684], 'score': [0.50199567203654727, 0.48821548821548821, 0.49629629629629629, 0.50317460317460316, 0.50644540644540648], 'stdev': [1.11208547827288, 1.0755008297967383, 1.0628955175864256, 1.06476179507422, 1.0697967035977975]}"
       ]
      },
      {
       "output_type": "stream",
       "stream": "stdout",
       "text": [
        "\n"
       ]
      }
     ],
     "prompt_number": 106
    },
    {
     "cell_type": "code",
     "collapsed": false,
     "input": [
      "SVM_cv = pickle.load(open('SVM_CV.pkl'))\n",
      "LR_cv = pickle.load(open('LR_CV.pkl'))\n",
      "NB_cv = pickle.load(open('NB_CV.pkl'))"
     ],
     "language": "python",
     "metadata": {},
     "outputs": [],
     "prompt_number": 107
    },
    {
     "cell_type": "code",
     "collapsed": false,
     "input": [
      "ySVM = SVM_cv['score']\n",
      "yLR = LR_cv['score']\n",
      "yNB = NB_cv['score']\n",
      "\n",
      "plt.plot(np.ones(5),ySVM, 'bo')\n",
      "plt.plot(2*np.ones(5),yLR, 'go')\n",
      "plt.plot(3*np.ones(5),yNB, 'ro')\n",
      "plt.xlim([0,4])\n",
      "plt.title('Prediction score')\n",
      "ax = plt.gca()\n",
      "ax.set_xticks([1,2,3])\n",
      "ax.set_xticklabels(['SVM', 'LR', 'NB'])\n"
     ],
     "language": "python",
     "metadata": {},
     "outputs": [
      {
       "metadata": {},
       "output_type": "pyout",
       "prompt_number": 130,
       "text": [
        "[<matplotlib.text.Text at 0xbc947cc0>,\n",
        " <matplotlib.text.Text at 0xc0798828>,\n",
        " <matplotlib.text.Text at 0x104130278>]"
       ]
      },
      {
       "metadata": {},
       "output_type": "display_data",
       "png": "[encoded data removed]",
       "text": [
        "<matplotlib.figure.Figure at 0x931a4da0>"
       ]
      }
     ],
     "prompt_number": 130
    },
    {
     "cell_type": "code",
     "collapsed": false,
     "input": [
      "ySVM = SVM_cv['stdev']\n",
      "yLR = LR_cv['stdev']\n",
      "yNB = NB_cv['stdev']\n",
      "\n",
      "plt.plot(np.ones(5),ySVM, 'bo')\n",
      "plt.plot(2*np.ones(5),yLR, 'go')\n",
      "plt.plot(3*np.ones(5),yNB, 'ro')\n",
      "plt.xlim([0,4])\n",
      "plt.title('Stdev(error)')\n",
      "ax = plt.gca()\n",
      "ax.set_xticks([1,2,3])\n",
      "ax.set_xticklabels(['SVM', 'LR', 'NB'])"
     ],
     "language": "python",
     "metadata": {},
     "outputs": [
      {
       "metadata": {},
       "output_type": "pyout",
       "prompt_number": 132,
       "text": [
        "[<matplotlib.text.Text at 0x7c6fc0f0>,\n",
        " <matplotlib.text.Text at 0x6016bf98>,\n",
        " <matplotlib.text.Text at 0x406b22b0>]"
       ]
      },
      {
       "metadata": {},
       "output_type": "display_data",
       "png": "[encoded data removed]",
       "text": [
        "<matplotlib.figure.Figure at 0xe426d390>"
       ]
      }
     ],
     "prompt_number": 132
    },
    {
     "cell_type": "code",
     "collapsed": false,
     "input": [
      "ySVM = SVM_cv['ErrorEst']\n",
      "yLR = LR_cv['ErrorEst']\n",
      "yNB = NB_cv['ErrorEst']\n",
      "\n",
      "plt.plot(np.ones(5),ySVM, 'bo')\n",
      "plt.plot(2*np.ones(5),yLR, 'go')\n",
      "plt.plot(3*np.ones(5),yNB, 'ro')\n",
      "plt.xlim([0,4])\n",
      "plt.title('Mean error')\n",
      "ax = plt.gca()\n",
      "ax.set_xticks([1,2,3])\n",
      "ax.set_xticklabels(['SVM', 'LR', 'NB'])"
     ],
     "language": "python",
     "metadata": {},
     "outputs": [
      {
       "metadata": {},
       "output_type": "pyout",
       "prompt_number": 133,
       "text": [
        "[<matplotlib.text.Text at 0xf6366a90>,\n",
        " <matplotlib.text.Text at 0xbf21d588>,\n",
        " <matplotlib.text.Text at 0x7a42c7f0>]"
       ]
      },
      {
       "metadata": {},
       "output_type": "display_data",
       "png": "[encoded data removed]",
       "text": [
        "<matplotlib.figure.Figure at 0x123756ac8>"
       ]
      }
     ],
     "prompt_number": 133
    },
    {
     "cell_type": "code",
     "collapsed": false,
     "input": [],
     "language": "python",
     "metadata": {},
     "outputs": []
    }
   ],
   "metadata": {}
  }
 ]
}