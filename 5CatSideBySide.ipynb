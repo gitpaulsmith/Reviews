{
 "metadata": {
  "name": "",
  "signature": "sha256:ae6f58f7600697d4f55c6cdef0ba0f9731cd00198f25fcb4cbb5fada98cd5e89"
 },
 "nbformat": 3,
 "nbformat_minor": 0,
 "worksheets": [
  {
   "cells": [
    {
     "cell_type": "heading",
     "level": 4,
     "metadata": {},
     "source": [
      "Import required packages"
     ]
    },
    {
     "cell_type": "code",
     "collapsed": false,
     "input": [
      "import scipy\n",
      "import numpy as np\n",
      "import pandas as pd\n",
      "\n",
      "import matplotlib.pyplot as plt\n",
      "%matplotlib inline\n",
      "\n",
      "from sklearn.feature_extraction.text import CountVectorizer\n",
      "from sklearn.feature_extraction.text import TfidfVectorizer\n",
      "from sklearn import linear_model\n",
      "from sklearn import svm\n",
      "from sklearn.naive_bayes import MultinomialNB\n",
      "from sklearn.pipeline import Pipeline\n",
      "from sklearn.cross_validation import ShuffleSplit\n",
      "from sklearn.metrics import confusion_matrix"
     ],
     "language": "python",
     "metadata": {},
     "outputs": [
      {
       "output_type": "stream",
       "stream": "stderr",
       "text": [
        "/usr/local/lib/python2.7/site-packages/pandas/io/excel.py:626: UserWarning: Installed openpyxl is not supported at this time. Use >=1.6.1 and <2.0.0.\n",
        "  .format(openpyxl_compat.start_ver, openpyxl_compat.stop_ver))\n"
       ]
      }
     ],
     "prompt_number": 1
    },
    {
     "cell_type": "heading",
     "level": 4,
     "metadata": {},
     "source": [
      "Load the data"
     ]
    },
    {
     "cell_type": "code",
     "collapsed": false,
     "input": [
      "df = pd.read_csv('scrubbed_foods.csv','\\t!\\t')\n",
      "df.drop_duplicates('text',inplace=True)\n",
      "\n",
      "#Shuffle the data\n",
      "#df = df.reindex(np.random.permutation(df.index))\n",
      "\n",
      "df_1star = pd.DataFrame(df[df['score']==1],columns=['score','text'])\n",
      "df_2star = pd.DataFrame(df[df['score']==2],columns=['score','text'])\n",
      "df_3star = pd.DataFrame(df[df['score']==3],columns=['score','text'])\n",
      "df_4star = pd.DataFrame(df[df['score']==4],columns=['score','text'])\n",
      "df_5star = pd.DataFrame(df[df['score']==5],columns=['score','text'])\n",
      "\n",
      "min_star_length = min(len(df_1star), len(df_2star), len(df_3star), len(df_4star), len(df_5star))\n",
      "\n",
      "#Train and test on data with stars equally distributed across classes\n",
      "#Percentage of data to use in training and cross-validation:\n",
      "frac = 0.7\n",
      "idx1 = int(min_star_length*frac)\n",
      "idx2 = min_star_length\n",
      "\n",
      "training_pieces = [df_1star[:idx1],df_2star[:idx1], df_3star[:idx1], df_4star[:idx1], df_5star[:idx1]]\n",
      "leftovers = [df_1star[idx1:idx2],df_2star[idx1:idx2], df_3star[idx1:idx2], df_4star[idx1:idx2], df_5star[idx1:idx2]]\n",
      "del df_1star, df_2star, df_3star, df_4star, df_5star\n",
      "\n",
      "df_train = pd.concat(training_pieces)\n",
      "df_test = pd.concat(leftovers)\n",
      "del training_pieces\n",
      "del leftovers\n",
      "\n",
      "def decodeArray(text):\n",
      "    try:\n",
      "        return text.decode('utf-8','replace')\n",
      "    except:\n",
      "        return 0\n",
      "\n",
      "X_train = df_train['text'].apply(decodeArray)\n",
      "y_train = df_train['score']\n",
      "X_test = df_test['text'].apply(decodeArray)\n",
      "y_test = df_test['score']"
     ],
     "language": "python",
     "metadata": {},
     "outputs": [
      {
       "output_type": "stream",
       "stream": "stderr",
       "text": [
        "/usr/local/lib/python2.7/site-packages/pandas/io/parsers.py:615: ParserWarning: Falling back to the 'python' engine because the 'c' engine does not support regex separators; you can avoid this warning by specifying engine='python'.\n",
        "  ParserWarning)\n"
       ]
      }
     ],
     "prompt_number": 2
    },
    {
     "cell_type": "heading",
     "level": 4,
     "metadata": {},
     "source": [
      "Confusion Matrix normalizer and plotter"
     ]
    },
    {
     "cell_type": "code",
     "collapsed": false,
     "input": [
      "def makeCM_plot(y_test, y_pred):\n",
      "    cm = confusion_matrix(y_test, y_pred)\n",
      "    cm=cm / cm.astype(np.float).sum(axis=1)\n",
      "    print cm\n",
      "    plt.matshow(cm)\n",
      "    plt.title('Confusion matrix')\n",
      "    plt.colorbar()\n",
      "    plt.ylabel('True label')\n",
      "    plt.xlabel('Predicted label')\n",
      "    plt.show()"
     ],
     "language": "python",
     "metadata": {},
     "outputs": [],
     "prompt_number": 3
    },
    {
     "cell_type": "heading",
     "level": 4,
     "metadata": {},
     "source": [
      "Load sentiment files for Bag of Words approach"
     ]
    },
    {
     "cell_type": "code",
     "collapsed": false,
     "input": [
      "# Load the positive and negative word files from http://www.cs.uic.edu/~liub/FBS/sentiment-analysis.html\n",
      "# Direct link http://www.cs.uic.edu/~liub/FBS/opinion-lexicon-English.rar\n",
      "\n",
      "posfn = './opinion-lexicon-English/positive-words.txt'\n",
      "negfn = './opinion-lexicon-English/negative-words.txt'\n",
      "\n",
      "poswords = pd.read_table(posfn,skiprows=35,header=None,squeeze=True)\n",
      "\n",
      "poswords.dropna(how='all',inplace=True)\n",
      "poswords.reset_index(drop=True,inplace=True)\n",
      "\n",
      "negwords = pd.read_csv(negfn, skiprows=35, header=None, squeeze=True)\n",
      "negwords.dropna(how='all',inplace=True)\n",
      "negwords.reset_index(drop=True,inplace=True)"
     ],
     "language": "python",
     "metadata": {},
     "outputs": [],
     "prompt_number": 4
    },
    {
     "cell_type": "code",
     "collapsed": false,
     "input": [
      "# Find columns in vectorized data that correspond to positive or negative words\n",
      "\n",
      "vectorizer = CountVectorizer(decode_error='replace', strip_accents='ascii',stop_words='english')\n",
      "Xmat_train = vectorizer.fit_transform(df_train['text'])\n",
      "Xmat_test = vectorizer.fit_transform(df_test['text'])\n",
      "vocab = vectorizer.vocabulary_\n",
      "\n",
      "poscol, negcol = [], []\n",
      "for word in poswords:\n",
      "    if word in vocab:\n",
      "        poscol.append(vocab[word])\n",
      "for word in negwords:\n",
      "    if word in vocab:\n",
      "        negcol.append(vocab[word])\n",
      "\n",
      "vectorizerpos = CountVectorizer(decode_error='replace', strip_accents='ascii',stop_words='english', vocabulary=poswords)\n",
      "Xpos_train = vectorizerpos.fit_transform(df_train['text'])\n",
      "Xpos_test = vectorizerpos.fit_transform(df_test['text'])\n",
      "\n",
      "vectorizerneg = CountVectorizer(decode_error='replace', strip_accents='ascii',stop_words='english', vocabulary=negwords)\n",
      "Xneg_train = vectorizerneg.fit_transform(df_train['text'])\n",
      "Xneg_test = vectorizerneg.fit_transform(df_test['text'])"
     ],
     "language": "python",
     "metadata": {},
     "outputs": [],
     "prompt_number": 24
    },
    {
     "cell_type": "code",
     "collapsed": false,
     "input": [
      "from __future__ import division\n",
      "poscnt = np.array(Xpos_train.sum(1)).flatten()\n",
      "negcnt = np.array(Xneg_train.sum(1)).flatten()\n",
      "fullcnt = np.array(Xmat_train.sum(1)).flatten()\n",
      "score = (poscnt - negcnt) / fullcnt\n",
      "df_train['text_score'] = score\n",
      "\n",
      "def safelen(x):\n",
      "    try:\n",
      "        return len(x)\n",
      "    except:\n",
      "        return 0\n",
      "df_train['textlen'] = df_train['text'].apply(safelen)\n",
      "\n",
      "poscnt = np.array(Xpos_test.sum(1)).flatten()\n",
      "negcnt = np.array(Xneg_test.sum(1)).flatten()\n",
      "fullcnt = np.array(Xmat_test.sum(1)).flatten()\n",
      "score = (poscnt - negcnt) / fullcnt\n",
      "\n",
      "df_test['text_score'] = score\n",
      "df_test['textlen'] = df_test['text'].apply(safelen)\n",
      "\n",
      "\n",
      "\n",
      "#df.dropna(inplace=True)"
     ],
     "language": "python",
     "metadata": {},
     "outputs": [],
     "prompt_number": 25
    },
    {
     "cell_type": "code",
     "collapsed": false,
     "input": [
      "X_train_logreg = df_train[['text_score', 'textlen']]\n",
      "X_test_logreg = df_test[['text_score', 'textlen']]"
     ],
     "language": "python",
     "metadata": {},
     "outputs": [],
     "prompt_number": 29
    },
    {
     "cell_type": "code",
     "collapsed": false,
     "input": [
      "logreg = linear_model.LogisticRegression(C=1e5)"
     ],
     "language": "python",
     "metadata": {},
     "outputs": [],
     "prompt_number": 19
    },
    {
     "cell_type": "code",
     "collapsed": false,
     "input": [
      "logreg.fit(X_train_logreg, y_train)"
     ],
     "language": "python",
     "metadata": {},
     "outputs": [
      {
       "metadata": {},
       "output_type": "pyout",
       "prompt_number": 20,
       "text": [
        "LogisticRegression(C=100000.0, class_weight=None, dual=False,\n",
        "          fit_intercept=True, intercept_scaling=1, penalty='l2',\n",
        "          random_state=None, tol=0.0001)"
       ]
      }
     ],
     "prompt_number": 20
    },
    {
     "cell_type": "code",
     "collapsed": false,
     "input": [
      "logreg.score(X_train_logreg, y_train)"
     ],
     "language": "python",
     "metadata": {},
     "outputs": [
      {
       "metadata": {},
       "output_type": "pyout",
       "prompt_number": 21,
       "text": [
        "0.32919672919672921"
       ]
      }
     ],
     "prompt_number": 21
    },
    {
     "cell_type": "code",
     "collapsed": false,
     "input": [
      "y_LRpred = logreg.predict(X_test_logreg)"
     ],
     "language": "python",
     "metadata": {},
     "outputs": [],
     "prompt_number": 32
    },
    {
     "cell_type": "code",
     "collapsed": false,
     "input": [
      "logreg.score(X_test_logreg, y_test)"
     ],
     "language": "python",
     "metadata": {},
     "outputs": [
      {
       "metadata": {},
       "output_type": "pyout",
       "prompt_number": 30,
       "text": [
        "0.33369669765950627"
       ]
      }
     ],
     "prompt_number": 30
    },
    {
     "cell_type": "code",
     "collapsed": false,
     "input": [
      "makeCM_plot(y_test, y_LRpred)"
     ],
     "language": "python",
     "metadata": {},
     "outputs": [
      {
       "output_type": "stream",
       "stream": "stdout",
       "text": [
        "[[ 0.63273485  0.10756653  0.08528374  0.02997756  0.14443732]\n",
        " [ 0.4382815   0.12680346  0.1173453   0.07839051  0.23917922]\n",
        " [ 0.30634819  0.11349792  0.13497916  0.12375761  0.32141712]\n",
        " [ 0.17778134  0.09329913  0.11910869  0.15197179  0.45783905]\n",
        " [ 0.12648285  0.0822379   0.07085604  0.09842898  0.62199423]]\n"
       ]
      },
      {
       "metadata": {},
       "output_type": "display_data",
       "png": "[encoded data removed]",
       "text": [
        "<matplotlib.figure.Figure at 0x126fd7a50>"
       ]
      }
     ],
     "prompt_number": 33
    },
    {
     "cell_type": "heading",
     "level": 4,
     "metadata": {},
     "source": [
      "SVM"
     ]
    },
    {
     "cell_type": "code",
     "collapsed": false,
     "input": [
      "SVM_Vectorizer=TfidfVectorizer(analyzer='word', binary=True, charset=None,\n",
      "        charset_error=None, decode_error=u'strict',\n",
      "        encoding=u'utf-8', input=u'content',\n",
      "        lowercase=True, max_df=1.0, max_features=None, min_df=2,\n",
      "        ngram_range=(1, 2), norm=u'l2', preprocessor=None, smooth_idf=True,\n",
      "        stop_words=None, strip_accents=None, sublinear_tf=False,\n",
      "        token_pattern=u'(?u)\\\\b\\\\w\\\\w+\\\\b', tokenizer=None, use_idf=True,\n",
      "        vocabulary=None)\n",
      "\n",
      "SVM_clf=svm.LinearSVC(loss='l2', penalty='l1', dual=False)\n",
      "SVM_pipeline=Pipeline([('vect', SVM_Vectorizer),('clf', SVM_clf)])\n",
      "SVM_pipeline.fit(X_train, y_train)"
     ],
     "language": "python",
     "metadata": {},
     "outputs": [
      {
       "metadata": {},
       "output_type": "pyout",
       "prompt_number": 39,
       "text": [
        "Pipeline(steps=[('vect', TfidfVectorizer(analyzer='word', binary=False, charset=None,\n",
        "        charset_error=None, decode_error=u'strict',\n",
        "        dtype=<type 'numpy.int64'>, encoding=u'utf-8', input=u'content',\n",
        "        lowercase=True, max_df=1.0, max_features=None, min_df=2,\n",
        "        ngram_range=(1, 2), norm=...ling=1, loss='l2', multi_class='ovr', penalty='l1',\n",
        "     random_state=None, tol=0.0001, verbose=0))])"
       ]
      }
     ],
     "prompt_number": 39
    },
    {
     "cell_type": "code",
     "collapsed": false,
     "input": [
      "SVM_pipeline.score(X_train, y_train)"
     ],
     "language": "python",
     "metadata": {},
     "outputs": [
      {
       "metadata": {},
       "output_type": "pyout",
       "prompt_number": 40,
       "text": [
        "0.85269016697588129"
       ]
      }
     ],
     "prompt_number": 40
    },
    {
     "cell_type": "code",
     "collapsed": false,
     "input": [
      "y_SVMpred = SVM_pipeline.predict(X_test)"
     ],
     "language": "python",
     "metadata": {},
     "outputs": [],
     "prompt_number": 41
    },
    {
     "cell_type": "code",
     "collapsed": false,
     "input": [
      "SVM_pipeline.score(X_test, y_test)"
     ],
     "language": "python",
     "metadata": {},
     "outputs": [
      {
       "metadata": {},
       "output_type": "pyout",
       "prompt_number": 42,
       "text": [
        "0.50604457271123937"
       ]
      }
     ],
     "prompt_number": 42
    },
    {
     "cell_type": "code",
     "collapsed": false,
     "input": [
      "makeCM_plot(y_test, y_SVMpred)"
     ],
     "language": "python",
     "metadata": {},
     "outputs": [
      {
       "output_type": "stream",
       "stream": "stdout",
       "text": [
        "[[ 0.64854898  0.22623056  0.07150874  0.02501203  0.0286997 ]\n",
        " [ 0.27625461  0.39714606  0.21099888  0.07551708  0.04008337]\n",
        " [ 0.10357544  0.26342793  0.38367805  0.18710919  0.0622094 ]\n",
        " [ 0.03799904  0.0675004   0.20891454  0.43241943  0.25316659]\n",
        " [ 0.02902036  0.02517236  0.04906205  0.22831489  0.66843034]]\n"
       ]
      },
      {
       "metadata": {},
       "output_type": "display_data",
       "png": "[encoded data removed]",
       "text": [
        "<matplotlib.figure.Figure at 0x112f8fc10>"
       ]
      }
     ],
     "prompt_number": 43
    },
    {
     "cell_type": "heading",
     "level": 4,
     "metadata": {},
     "source": [
      "Naive Bayes"
     ]
    },
    {
     "cell_type": "code",
     "collapsed": false,
     "input": [
      "#The parameters for the best NB classifier (cross-validated elsewhere) are as follows:\n",
      "NB_Vectorizer=TfidfVectorizer(analyzer='word', binary=False, charset=None,charset_error=None,decode_error='strict',\n",
      "                       encoding='utf-8',lowercase=True,\n",
      "                       max_df=1.0,max_features=None,min_df=1,ngram_range=(1, 3),norm='l2',\n",
      "                       preprocessor=None,smooth_idf=False,stop_words=None,strip_accents=None,\n",
      "                       sublinear_tf=False,token_pattern='(?u)\\\\b\\\\w\\\\w+\\\\b',tokenizer=None,use_idf=False,vocabulary=None)\n",
      "#Classsifier:\n",
      "NB_clf=MultinomialNB(alpha=0.1, class_prior=None, fit_prior=True)\n",
      "NB_pipeline=Pipeline([('vect', NB_Vectorizer),('clf', NB_clf)])\n",
      "NB_pipeline.fit(X_train,y_train)"
     ],
     "language": "python",
     "metadata": {},
     "outputs": [
      {
       "metadata": {},
       "output_type": "pyout",
       "prompt_number": 44,
       "text": [
        "Pipeline(steps=[('vect', TfidfVectorizer(analyzer='word', binary=False, charset=None,\n",
        "        charset_error=None, decode_error='strict',\n",
        "        dtype=<type 'numpy.int64'>, encoding='utf-8', input=u'content',\n",
        "        lowercase=True, max_df=1.0, max_features=None, min_df=1,\n",
        "        ngram_range=(1, 3), norm='l...lse,\n",
        "        vocabulary=None)), ('clf', MultinomialNB(alpha=0.1, class_prior=None, fit_prior=True))])"
       ]
      }
     ],
     "prompt_number": 44
    },
    {
     "cell_type": "code",
     "collapsed": false,
     "input": [
      "NB_pipeline.score(X_train, y_train)"
     ],
     "language": "python",
     "metadata": {},
     "outputs": [
      {
       "metadata": {},
       "output_type": "pyout",
       "prompt_number": 45,
       "text": [
        "0.98324744039029754"
       ]
      }
     ],
     "prompt_number": 45
    },
    {
     "cell_type": "code",
     "collapsed": false,
     "input": [
      "y_NBpred = NB_pipeline.predict(X_test)"
     ],
     "language": "python",
     "metadata": {},
     "outputs": [],
     "prompt_number": 46
    },
    {
     "cell_type": "code",
     "collapsed": false,
     "input": [
      "NB_pipeline.score(X_test, y_test)"
     ],
     "language": "python",
     "metadata": {},
     "outputs": [
      {
       "metadata": {},
       "output_type": "pyout",
       "prompt_number": 47,
       "text": [
        "0.50607663940997272"
       ]
      }
     ],
     "prompt_number": 47
    },
    {
     "cell_type": "code",
     "collapsed": false,
     "input": [
      "makeCM_plot(y_test, y_NBpred)"
     ],
     "language": "python",
     "metadata": {},
     "outputs": [
      {
       "output_type": "stream",
       "stream": "stdout",
       "text": [
        "[[ 0.58329325  0.29084496  0.09203143  0.02084335  0.01298701]\n",
        " [ 0.2015392   0.43771044  0.28523329  0.05932339  0.01619368]\n",
        " [ 0.08850409  0.22478756  0.48981882  0.17075517  0.02613436]\n",
        " [ 0.0349527   0.05194805  0.2714446   0.48003848  0.16161616]\n",
        " [ 0.03094436  0.02405002  0.05595639  0.34952702  0.53952221]]\n"
       ]
      },
      {
       "metadata": {},
       "output_type": "display_data",
       "png": "[encoded data removed]",
       "text": [
        "<matplotlib.figure.Figure at 0x11537abd0>"
       ]
      }
     ],
     "prompt_number": 48
    },
    {
     "cell_type": "code",
     "collapsed": false,
     "input": [],
     "language": "python",
     "metadata": {},
     "outputs": []
    }
   ],
   "metadata": {}
  }
 ]
}