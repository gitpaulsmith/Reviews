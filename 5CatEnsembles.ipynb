{
 "metadata": {
  "name": "",
  "signature": "sha256:7d8803dbc4c87b2265ae1f6261dc2e9a97d14daffddc3d83f52811a636e6fbae"
 },
 "nbformat": 3,
 "nbformat_minor": 0,
 "worksheets": [
  {
   "cells": [
    {
     "cell_type": "heading",
     "level": 4,
     "metadata": {},
     "source": [
      "Import required packages"
     ]
    },
    {
     "cell_type": "code",
     "collapsed": false,
     "input": [
      "import scipy\n",
      "import numpy as np\n",
      "import pandas as pd\n",
      "\n",
      "import matplotlib.pyplot as plt\n",
      "%matplotlib inline\n",
      "\n",
      "from sklearn.feature_extraction.text import CountVectorizer\n",
      "from sklearn.feature_extraction.text import TfidfVectorizer\n",
      "from sklearn import linear_model\n",
      "from sklearn import svm\n",
      "from sklearn.naive_bayes import MultinomialNB\n",
      "from sklearn.pipeline import Pipeline\n",
      "from sklearn.cross_validation import ShuffleSplit\n",
      "from sklearn.metrics import confusion_matrix"
     ],
     "language": "python",
     "metadata": {},
     "outputs": [
      {
       "output_type": "stream",
       "stream": "stderr",
       "text": [
        "/usr/local/lib/python2.7/site-packages/pandas/io/excel.py:626: UserWarning: Installed openpyxl is not supported at this time. Use >=1.6.1 and <2.0.0.\n",
        "  .format(openpyxl_compat.start_ver, openpyxl_compat.stop_ver))\n"
       ]
      }
     ],
     "prompt_number": 1
    },
    {
     "cell_type": "heading",
     "level": 4,
     "metadata": {},
     "source": [
      "Load the data"
     ]
    },
    {
     "cell_type": "code",
     "collapsed": false,
     "input": [
      "df = pd.read_csv('scrubbed_foods.csv','\\t!\\t')\n",
      "df.drop_duplicates('text',inplace=True)\n",
      "\n",
      "#Shuffle the data\n",
      "#df = df.reindex(np.random.permutation(df.index))\n",
      "\n",
      "df_1star = pd.DataFrame(df[df['score']==1],columns=['score','text'])\n",
      "df_2star = pd.DataFrame(df[df['score']==2],columns=['score','text'])\n",
      "df_3star = pd.DataFrame(df[df['score']==3],columns=['score','text'])\n",
      "df_4star = pd.DataFrame(df[df['score']==4],columns=['score','text'])\n",
      "df_5star = pd.DataFrame(df[df['score']==5],columns=['score','text'])\n",
      "\n",
      "min_star_length = min(len(df_1star), len(df_2star), len(df_3star), len(df_4star), len(df_5star))\n",
      "\n",
      "#Train and test on data with stars equally distributed across classes\n",
      "#Percentage of data to use in training and cross-validation:\n",
      "frac = 0.7\n",
      "idx1 = int(min_star_length*frac*frac)\n",
      "idx2 = int(min_star_length*frac)\n",
      "idx3 = min_star_length\n",
      "\n",
      "training_data = [df_1star[:idx1],df_2star[:idx1], df_3star[:idx1], df_4star[:idx1], df_5star[:idx1]]\n",
      "training_data2 = [df_1star[idx1:idx2],df_2star[idx1:idx2], df_3star[idx1:idx2], df_4star[idx1:idx2], df_5star[idx1:idx2]]\n",
      "testing_data = [df_1star[idx2:idx3],df_2star[idx2:idx3], df_3star[idx2:idx3], df_4star[idx2:idx3], df_5star[idx2:idx3]]\n",
      "del df_1star, df_2star, df_3star, df_4star, df_5star\n",
      "\n",
      "df_train = pd.concat(training_data)\n",
      "df_train2 = pd.concat(training_data2)\n",
      "df_test = pd.concat(testing_data)\n",
      "del training_data, training_data2, testing_data\n",
      "\n",
      "def decodeArray(text):\n",
      "    try:\n",
      "        return text.decode('utf-8','replace')\n",
      "    except:\n",
      "        return 0\n",
      "\n",
      "X_train = df_train['text'].apply(decodeArray)\n",
      "y_train = df_train['score']\n",
      "X_train2 = df_train2['text'].apply(decodeArray)\n",
      "y_train2 = df_train2['score']\n",
      "X_test = df_test['text'].apply(decodeArray)\n",
      "y_test = df_test['score']"
     ],
     "language": "python",
     "metadata": {},
     "outputs": [
      {
       "output_type": "stream",
       "stream": "stderr",
       "text": [
        "/usr/local/lib/python2.7/site-packages/pandas/io/parsers.py:615: ParserWarning: Falling back to the 'python' engine because the 'c' engine does not support regex separators; you can avoid this warning by specifying engine='python'.\n",
        "  ParserWarning)\n"
       ]
      }
     ],
     "prompt_number": 2
    },
    {
     "cell_type": "heading",
     "level": 4,
     "metadata": {},
     "source": [
      "Confusion Matrix normalizer and plotter"
     ]
    },
    {
     "cell_type": "code",
     "collapsed": false,
     "input": [
      "def makeCM_plot(y_test, y_pred):\n",
      "    cm = confusion_matrix(y_test, y_pred)\n",
      "    cm=cm / cm.astype(np.float).sum(axis=1)\n",
      "    print cm\n",
      "    plt.matshow(cm)\n",
      "    plt.title('Confusion matrix')\n",
      "    plt.colorbar()\n",
      "    plt.ylabel('True label')\n",
      "    plt.xlabel('Predicted label')\n",
      "    plt.show()"
     ],
     "language": "python",
     "metadata": {},
     "outputs": [],
     "prompt_number": 53
    },
    {
     "cell_type": "heading",
     "level": 4,
     "metadata": {},
     "source": [
      "SVM"
     ]
    },
    {
     "cell_type": "code",
     "collapsed": false,
     "input": [
      "SVM_Vectorizer=TfidfVectorizer(analyzer='word', binary=True, charset=None,\n",
      "        charset_error=None, decode_error=u'strict',\n",
      "        encoding=u'utf-8', input=u'content',\n",
      "        lowercase=True, max_df=1.0, max_features=None, min_df=2,\n",
      "        ngram_range=(1, 2), norm=u'l2', preprocessor=None, smooth_idf=True,\n",
      "        stop_words=None, strip_accents=None, sublinear_tf=False,\n",
      "        token_pattern=u'(?u)\\\\b\\\\w\\\\w+\\\\b', tokenizer=None, use_idf=True,\n",
      "        vocabulary=None)\n",
      "\n",
      "SVM_clf=svm.LinearSVC(loss='l2', penalty='l1', dual=False)\n",
      "SVM_pipeline=Pipeline([('vect', SVM_Vectorizer),('clf', SVM_clf)])\n",
      "SVM_pipeline.fit(X_train, y_train)"
     ],
     "language": "python",
     "metadata": {},
     "outputs": [
      {
       "metadata": {},
       "output_type": "pyout",
       "prompt_number": 9,
       "text": [
        "Pipeline(steps=[('vect', TfidfVectorizer(analyzer='word', binary=False, charset=None,\n",
        "        charset_error=None, decode_error=u'strict',\n",
        "        dtype=<type 'numpy.int64'>, encoding=u'utf-8', input=u'content',\n",
        "        lowercase=True, max_df=1.0, max_features=None, min_df=2,\n",
        "        ngram_range=(1, 2), norm=...ling=1, loss='l2', multi_class='ovr', penalty='l1',\n",
        "     random_state=None, tol=0.0001, verbose=0))])"
       ]
      }
     ],
     "prompt_number": 9
    },
    {
     "cell_type": "code",
     "collapsed": false,
     "input": [
      "SVM_pipeline.score(X_train, y_train)"
     ],
     "language": "python",
     "metadata": {},
     "outputs": [
      {
       "metadata": {},
       "output_type": "pyout",
       "prompt_number": 10,
       "text": [
        "0.85383331697261211"
       ]
      }
     ],
     "prompt_number": 10
    },
    {
     "cell_type": "code",
     "collapsed": false,
     "input": [
      "y_SVMpred = SVM_pipeline.predict(X_train2)"
     ],
     "language": "python",
     "metadata": {},
     "outputs": [],
     "prompt_number": 11
    },
    {
     "cell_type": "code",
     "collapsed": false,
     "input": [
      "y_SVMtest = SVM_pipeline.predict(X_test)"
     ],
     "language": "python",
     "metadata": {},
     "outputs": [],
     "prompt_number": 12
    },
    {
     "cell_type": "heading",
     "level": 4,
     "metadata": {},
     "source": [
      "Naive Bayes"
     ]
    },
    {
     "cell_type": "code",
     "collapsed": false,
     "input": [
      "#The parameters for the best NB classifier (cross-validated elsewhere) are as follows:\n",
      "NB_Vectorizer=TfidfVectorizer(analyzer='word', binary=False, charset=None,charset_error=None,decode_error='strict',\n",
      "                       encoding='utf-8',lowercase=True,\n",
      "                       max_df=1.0,max_features=None,min_df=1,ngram_range=(1, 3),norm='l2',\n",
      "                       preprocessor=None,smooth_idf=False,stop_words=None,strip_accents=None,\n",
      "                       sublinear_tf=False,token_pattern='(?u)\\\\b\\\\w\\\\w+\\\\b',tokenizer=None,use_idf=False,vocabulary=None)\n",
      "#Classsifier:\n",
      "NB_clf=MultinomialNB(alpha=0.1, class_prior=None, fit_prior=True)\n",
      "NB_pipeline=Pipeline([('vect', NB_Vectorizer),('clf', NB_clf)])\n",
      "NB_pipeline.fit(X_train,y_train)"
     ],
     "language": "python",
     "metadata": {},
     "outputs": [
      {
       "metadata": {},
       "output_type": "pyout",
       "prompt_number": 13,
       "text": [
        "Pipeline(steps=[('vect', TfidfVectorizer(analyzer='word', binary=False, charset=None,\n",
        "        charset_error=None, decode_error='strict',\n",
        "        dtype=<type 'numpy.int64'>, encoding='utf-8', input=u'content',\n",
        "        lowercase=True, max_df=1.0, max_features=None, min_df=1,\n",
        "        ngram_range=(1, 3), norm='l...lse,\n",
        "        vocabulary=None)), ('clf', MultinomialNB(alpha=0.1, class_prior=None, fit_prior=True))])"
       ]
      }
     ],
     "prompt_number": 13
    },
    {
     "cell_type": "code",
     "collapsed": false,
     "input": [
      "NB_pipeline.score(X_train, y_train)"
     ],
     "language": "python",
     "metadata": {},
     "outputs": [
      {
       "metadata": {},
       "output_type": "pyout",
       "prompt_number": 14,
       "text": [
        "0.98798468636497494"
       ]
      }
     ],
     "prompt_number": 14
    },
    {
     "cell_type": "code",
     "collapsed": false,
     "input": [
      "y_NBpred = NB_pipeline.predict(X_train2)"
     ],
     "language": "python",
     "metadata": {},
     "outputs": [],
     "prompt_number": 15
    },
    {
     "cell_type": "code",
     "collapsed": false,
     "input": [
      "y_NBtest = NB_pipeline.predict(X_test)"
     ],
     "language": "python",
     "metadata": {},
     "outputs": [],
     "prompt_number": 16
    },
    {
     "cell_type": "heading",
     "level": 4,
     "metadata": {},
     "source": [
      "Logreg"
     ]
    },
    {
     "cell_type": "code",
     "collapsed": false,
     "input": [
      "Logreg_Vectorizer=TfidfVectorizer(analyzer='word', binary=False, charset=None,charset_error=None,decode_error='strict',\n",
      "                       encoding='utf-8',lowercase=True,\n",
      "                       max_df=1.0,max_features=None,min_df=1,ngram_range=(1, 3),norm='l2',\n",
      "                       preprocessor=None,smooth_idf=False,stop_words=None,strip_accents=None,\n",
      "                       sublinear_tf=False,token_pattern='(?u)\\\\b\\\\w\\\\w+\\\\b',tokenizer=None,use_idf=False,vocabulary=None)\n",
      "#Classsifier:\n",
      "Logreg_clf=linear_model.LogisticRegression()\n",
      "Logreg_pipeline=Pipeline([('vect', Logreg_Vectorizer),('clf', Logreg_clf)])\n",
      "Logreg_pipeline.fit(X_train,y_train)"
     ],
     "language": "python",
     "metadata": {},
     "outputs": [
      {
       "metadata": {},
       "output_type": "pyout",
       "prompt_number": 4,
       "text": [
        "Pipeline(steps=[('vect', TfidfVectorizer(analyzer='word', binary=False, charset=None,\n",
        "        charset_error=None, decode_error='strict',\n",
        "        dtype=<type 'numpy.int64'>, encoding='utf-8', input=u'content',\n",
        "        lowercase=True, max_df=1.0, max_features=None, min_df=1,\n",
        "        ngram_range=(1, 3), norm='l...e, fit_intercept=True,\n",
        "          intercept_scaling=1, penalty='l2', random_state=None, tol=0.0001))])"
       ]
      }
     ],
     "prompt_number": 4
    },
    {
     "cell_type": "code",
     "collapsed": false,
     "input": [
      "Logreg_pipeline.score(X_train, y_train)"
     ],
     "language": "python",
     "metadata": {},
     "outputs": [
      {
       "metadata": {},
       "output_type": "pyout",
       "prompt_number": 5,
       "text": [
        "0.7388239913615392"
       ]
      }
     ],
     "prompt_number": 5
    },
    {
     "cell_type": "code",
     "collapsed": false,
     "input": [
      "y_Logregpred = Logreg_pipeline.predict(X_train2)"
     ],
     "language": "python",
     "metadata": {},
     "outputs": [],
     "prompt_number": 6
    },
    {
     "cell_type": "code",
     "collapsed": false,
     "input": [
      "y_Logregtest = Logreg_pipeline.predict(X_test)"
     ],
     "language": "python",
     "metadata": {},
     "outputs": [],
     "prompt_number": 7
    },
    {
     "cell_type": "heading",
     "level": 1,
     "metadata": {},
     "source": [
      "Ensembles"
     ]
    },
    {
     "cell_type": "code",
     "collapsed": false,
     "input": [
      "X_enstrain = np.vstack((y_SVMpred, y_NBpred, y_Logregpred)).transpose()"
     ],
     "language": "python",
     "metadata": {},
     "outputs": [],
     "prompt_number": 46
    },
    {
     "cell_type": "code",
     "collapsed": false,
     "input": [
      "X_enstest = np.vstack((y_SVMtest, y_NBtest, y_Logregtest)).transpose()"
     ],
     "language": "python",
     "metadata": {},
     "outputs": [],
     "prompt_number": 75
    },
    {
     "cell_type": "heading",
     "level": 4,
     "metadata": {},
     "source": [
      "Decision Tree"
     ]
    },
    {
     "cell_type": "code",
     "collapsed": false,
     "input": [
      "from sklearn.tree import DecisionTreeClassifier"
     ],
     "language": "python",
     "metadata": {},
     "outputs": [],
     "prompt_number": 41
    },
    {
     "cell_type": "code",
     "collapsed": false,
     "input": [
      "DT = DecisionTreeClassifier()"
     ],
     "language": "python",
     "metadata": {},
     "outputs": [],
     "prompt_number": 76
    },
    {
     "cell_type": "code",
     "collapsed": false,
     "input": [
      "DT.fit(X_enstrain, y_train2)"
     ],
     "language": "python",
     "metadata": {},
     "outputs": [
      {
       "metadata": {},
       "output_type": "pyout",
       "prompt_number": 77,
       "text": [
        "DecisionTreeClassifier(compute_importances=None, criterion='gini',\n",
        "            max_depth=None, max_features=None, min_density=None,\n",
        "            min_samples_leaf=1, min_samples_split=2, random_state=None,\n",
        "            splitter='best')"
       ]
      }
     ],
     "prompt_number": 77
    },
    {
     "cell_type": "code",
     "collapsed": false,
     "input": [
      "DT.score(X_enstrain, y_train2)"
     ],
     "language": "python",
     "metadata": {},
     "outputs": [
      {
       "metadata": {},
       "output_type": "pyout",
       "prompt_number": 78,
       "text": [
        "0.52863032524049469"
       ]
      }
     ],
     "prompt_number": 78
    },
    {
     "cell_type": "code",
     "collapsed": false,
     "input": [
      "y_DTout = DT.predict(X_enstest)"
     ],
     "language": "python",
     "metadata": {},
     "outputs": [],
     "prompt_number": 79
    },
    {
     "cell_type": "code",
     "collapsed": false,
     "input": [
      "makeCM_plot(y_test, y_DTout)"
     ],
     "language": "python",
     "metadata": {},
     "outputs": [
      {
       "output_type": "stream",
       "stream": "stdout",
       "text": [
        "[[ 0.70198782  0.19493427  0.06043604  0.0226034   0.02003847]\n",
        " [ 0.2901571   0.39756332  0.20310997  0.08207759  0.02709202]\n",
        " [ 0.12151331  0.22154537  0.37415838  0.23485091  0.04793203]\n",
        " [ 0.04680987  0.05370311  0.17136903  0.48589291  0.24222507]\n",
        " [ 0.04232126  0.02292401  0.02997756  0.22202629  0.68275088]]\n"
       ]
      },
      {
       "metadata": {},
       "output_type": "display_data",
       "png": "[encoded data removed]",
       "text": [
        "<matplotlib.figure.Figure at 0x110628650>"
       ]
      }
     ],
     "prompt_number": 80
    },
    {
     "cell_type": "heading",
     "level": 4,
     "metadata": {},
     "source": [
      "Random Forest"
     ]
    },
    {
     "cell_type": "code",
     "collapsed": false,
     "input": [
      "from sklearn.ensemble import RandomForestClassifier"
     ],
     "language": "python",
     "metadata": {},
     "outputs": [],
     "prompt_number": 81
    },
    {
     "cell_type": "code",
     "collapsed": false,
     "input": [
      "RF = RandomForestClassifier(n_estimators=50)"
     ],
     "language": "python",
     "metadata": {},
     "outputs": [],
     "prompt_number": 82
    },
    {
     "cell_type": "code",
     "collapsed": false,
     "input": [
      "RF.fit(X_enstrain, y_train2)"
     ],
     "language": "python",
     "metadata": {},
     "outputs": [
      {
       "metadata": {},
       "output_type": "pyout",
       "prompt_number": 83,
       "text": [
        "RandomForestClassifier(bootstrap=True, compute_importances=None,\n",
        "            criterion='gini', max_depth=None, max_features='auto',\n",
        "            min_density=None, min_samples_leaf=1, min_samples_split=2,\n",
        "            n_estimators=50, n_jobs=1, oob_score=False, random_state=None,\n",
        "            verbose=0)"
       ]
      }
     ],
     "prompt_number": 83
    },
    {
     "cell_type": "code",
     "collapsed": false,
     "input": [
      "RF.score(X_enstrain, y_train2)"
     ],
     "language": "python",
     "metadata": {},
     "outputs": [
      {
       "metadata": {},
       "output_type": "pyout",
       "prompt_number": 84,
       "text": [
        "0.52863032524049469"
       ]
      }
     ],
     "prompt_number": 84
    },
    {
     "cell_type": "code",
     "collapsed": false,
     "input": [
      "y_RFout = RF.predict(X_enstest)"
     ],
     "language": "python",
     "metadata": {},
     "outputs": [],
     "prompt_number": 85
    },
    {
     "cell_type": "code",
     "collapsed": false,
     "input": [
      "makeCM_plot(y_test, y_RFout)"
     ],
     "language": "python",
     "metadata": {},
     "outputs": [
      {
       "output_type": "stream",
       "stream": "stdout",
       "text": [
        "[[ 0.70182751  0.19493427  0.05803142  0.02420648  0.02100032]\n",
        " [ 0.28999679  0.39756332  0.19926258  0.08560436  0.02757294]\n",
        " [ 0.12103238  0.22154537  0.36726515  0.23998076  0.05017634]\n",
        " [ 0.04632895  0.05370311  0.16623918  0.48461045  0.24911831]\n",
        " [ 0.04151972  0.02292401  0.02757294  0.22170567  0.68627765]]\n"
       ]
      },
      {
       "metadata": {},
       "output_type": "display_data",
       "png": "[encoded data removed]",
       "text": [
        "<matplotlib.figure.Figure at 0x110fc8d50>"
       ]
      }
     ],
     "prompt_number": 86
    },
    {
     "cell_type": "code",
     "collapsed": false,
     "input": [
      "#We have too few features at this stage for this to differ from decision trees"
     ],
     "language": "python",
     "metadata": {},
     "outputs": [],
     "prompt_number": 126
    },
    {
     "cell_type": "heading",
     "level": 4,
     "metadata": {},
     "source": [
      "Averaging"
     ]
    },
    {
     "cell_type": "code",
     "collapsed": false,
     "input": [
      "X_avg = (y_SVMpred + y_NBpred)/2"
     ],
     "language": "python",
     "metadata": {},
     "outputs": [],
     "prompt_number": 141
    },
    {
     "cell_type": "code",
     "collapsed": false,
     "input": [
      "X_avg = X_avg.astype(np.int)"
     ],
     "language": "python",
     "metadata": {},
     "outputs": [],
     "prompt_number": 128
    },
    {
     "cell_type": "code",
     "collapsed": false,
     "input": [
      "makeCM_plot(y_train2, X_avg)"
     ],
     "language": "python",
     "metadata": {},
     "outputs": [
      {
       "output_type": "stream",
       "stream": "stdout",
       "text": [
        "[[ 0.64475492  0.25057261  0.07833257  0.01809437  0.00824553]\n",
        " [ 0.26316995  0.46839212  0.21804856  0.04466331  0.00572607]\n",
        " [ 0.08772332  0.32982135  0.43128722  0.13536418  0.01580394]\n",
        " [ 0.02382043  0.08337151  0.33737975  0.42922584  0.12620247]\n",
        " [ 0.01832341  0.02863033  0.11200183  0.39028859  0.45075584]]\n"
       ]
      },
      {
       "metadata": {},
       "output_type": "display_data",
       "png": "[encoded data removed]",
       "text": [
        "<matplotlib.figure.Figure at 0x110f74ad0>"
       ]
      }
     ],
     "prompt_number": 129
    },
    {
     "cell_type": "heading",
     "level": 4,
     "metadata": {},
     "source": [
      "Logistic regression"
     ]
    },
    {
     "cell_type": "code",
     "collapsed": false,
     "input": [
      "Logreg_ens=linear_model.LogisticRegression()"
     ],
     "language": "python",
     "metadata": {},
     "outputs": [],
     "prompt_number": 101
    },
    {
     "cell_type": "code",
     "collapsed": false,
     "input": [
      "Logreg_ens.fit(X_enstrain, y_train2)"
     ],
     "language": "python",
     "metadata": {},
     "outputs": [
      {
       "metadata": {},
       "output_type": "pyout",
       "prompt_number": 103,
       "text": [
        "LogisticRegression(C=1.0, class_weight=None, dual=False, fit_intercept=True,\n",
        "          intercept_scaling=1, penalty='l2', random_state=None, tol=0.0001)"
       ]
      }
     ],
     "prompt_number": 103
    },
    {
     "cell_type": "code",
     "collapsed": false,
     "input": [
      "Logreg_ens.score(X_enstrain, y_train2)"
     ],
     "language": "python",
     "metadata": {},
     "outputs": [
      {
       "metadata": {},
       "output_type": "pyout",
       "prompt_number": 111,
       "text": [
        "0.46729271644525883"
       ]
      }
     ],
     "prompt_number": 111
    },
    {
     "cell_type": "code",
     "collapsed": false,
     "input": [
      "y_LRout = Logreg_ens.predict(X_enstest)"
     ],
     "language": "python",
     "metadata": {},
     "outputs": [],
     "prompt_number": 105
    },
    {
     "cell_type": "code",
     "collapsed": false,
     "input": [
      "makeCM_plot(y_test, y_LRout)"
     ],
     "language": "python",
     "metadata": {},
     "outputs": [
      {
       "output_type": "stream",
       "stream": "stdout",
       "text": [
        "[[ 0.81420327  0.07839051  0.05642834  0.02789356  0.02308432]\n",
        " [ 0.52997756  0.15918564  0.19493427  0.0658865   0.05001603]\n",
        " [ 0.21433152  0.14219301  0.36261622  0.1420327   0.13882655]\n",
        " [ 0.05482526  0.04408464  0.18339211  0.17249118  0.5452068 ]\n",
        " [ 0.03510741  0.01731324  0.03318371  0.06909266  0.84530298]]\n"
       ]
      },
      {
       "metadata": {},
       "output_type": "display_data",
       "png": "[encoded data removed]",
       "text": [
        "<matplotlib.figure.Figure at 0x110749990>"
       ]
      }
     ],
     "prompt_number": 106
    },
    {
     "cell_type": "heading",
     "level": 4,
     "metadata": {},
     "source": [
      "SVM"
     ]
    },
    {
     "cell_type": "code",
     "collapsed": false,
     "input": [
      "SVM_ens = svm.SVC()"
     ],
     "language": "python",
     "metadata": {},
     "outputs": [],
     "prompt_number": 120
    },
    {
     "cell_type": "code",
     "collapsed": false,
     "input": [
      "SVM_ens.fit(X_enstrain, y_train2)"
     ],
     "language": "python",
     "metadata": {},
     "outputs": [
      {
       "metadata": {},
       "output_type": "pyout",
       "prompt_number": 121,
       "text": [
        "SVC(C=1.0, cache_size=200, class_weight=None, coef0=0.0, degree=3, gamma=0.0,\n",
        "  kernel='rbf', max_iter=-1, probability=False, random_state=None,\n",
        "  shrinking=True, tol=0.001, verbose=False)"
       ]
      }
     ],
     "prompt_number": 121
    },
    {
     "cell_type": "code",
     "collapsed": false,
     "input": [
      "SVM_ens.score(X_enstrain, y_train2)"
     ],
     "language": "python",
     "metadata": {},
     "outputs": [
      {
       "metadata": {},
       "output_type": "pyout",
       "prompt_number": 122,
       "text": [
        "0.52487402656894178"
       ]
      }
     ],
     "prompt_number": 122
    },
    {
     "cell_type": "code",
     "collapsed": false,
     "input": [
      "y_SVMout = SVM_ens.predict(X_enstest)"
     ],
     "language": "python",
     "metadata": {},
     "outputs": [],
     "prompt_number": 123
    },
    {
     "cell_type": "code",
     "collapsed": false,
     "input": [
      "makeCM_plot(y_test, y_SVMout)"
     ],
     "language": "python",
     "metadata": {},
     "outputs": [
      {
       "output_type": "stream",
       "stream": "stdout",
       "text": [
        "[[ 0.70904136  0.18355242  0.06364219  0.02035909  0.02340494]\n",
        " [ 0.29640911  0.37896762  0.21849952  0.07438282  0.03174094]\n",
        " [ 0.12632254  0.20968259  0.38714332  0.22090414  0.05594742]\n",
        " [ 0.05177942  0.04648926  0.1809875   0.46361013  0.2571337 ]\n",
        " [ 0.04264187  0.01474832  0.03558833  0.20647643  0.70054505]]\n"
       ]
      },
      {
       "metadata": {},
       "output_type": "display_data",
       "png": "[encoded data removed]",
       "text": [
        "<matplotlib.figure.Figure at 0x11079e450>"
       ]
      }
     ],
     "prompt_number": 124
    },
    {
     "cell_type": "heading",
     "level": 4,
     "metadata": {},
     "source": [
      "Weighted Averaging"
     ]
    },
    {
     "cell_type": "code",
     "collapsed": false,
     "input": [
      "def wsvm(x):\n",
      "    x = 0.9+((x-3)/2)**2\n",
      "    return x"
     ],
     "language": "python",
     "metadata": {},
     "outputs": [],
     "prompt_number": 217
    },
    {
     "cell_type": "code",
     "collapsed": false,
     "input": [
      "def wnb(x):\n",
      "    x = 1.1-((x-3)/2)**2\n",
      "    return x"
     ],
     "language": "python",
     "metadata": {},
     "outputs": [],
     "prompt_number": 218
    },
    {
     "cell_type": "code",
     "collapsed": false,
     "input": [
      "X_wavg = (wsvm((y_SVMpred+y_NBpred)/2)*y_SVMpred + wnb((y_SVMpred+y_NBpred)/2)*y_NBpred)/2"
     ],
     "language": "python",
     "metadata": {},
     "outputs": [],
     "prompt_number": 219
    },
    {
     "cell_type": "code",
     "collapsed": false,
     "input": [
      "X_wavg = X_wavg.astype(np.int)"
     ],
     "language": "python",
     "metadata": {},
     "outputs": [],
     "prompt_number": 220
    },
    {
     "cell_type": "code",
     "collapsed": false,
     "input": [
      "makeCM_plot(y_train2, X_wavg)"
     ],
     "language": "python",
     "metadata": {},
     "outputs": [
      {
       "output_type": "stream",
       "stream": "stdout",
       "text": [
        "[[ 0.68163078  0.23247824  0.0602382   0.01740724  0.00824553]\n",
        " [ 0.30302336  0.44548786  0.20132845  0.04443426  0.00572607]\n",
        " [ 0.10879524  0.33165369  0.40975721  0.13398992  0.01580394]\n",
        " [ 0.03344022  0.08405863  0.33165369  0.42464498  0.12620247]\n",
        " [ 0.0231333   0.0355016   0.1037563   0.38685295  0.45075584]]\n"
       ]
      },
      {
       "metadata": {},
       "output_type": "display_data",
       "png": "[encoded data removed]",
       "text": [
        "<matplotlib.figure.Figure at 0x110453210>"
       ]
      }
     ],
     "prompt_number": 221
    },
    {
     "cell_type": "code",
     "collapsed": false,
     "input": [],
     "language": "python",
     "metadata": {},
     "outputs": []
    }
   ],
   "metadata": {}
  }
 ]
}