{
 "metadata": {
  "name": "",
  "signature": "sha256:cb8a0262f75c5ae7b216ecea11bad864a828c1485f197141fd80e3e0e043c5e6"
 },
 "nbformat": 3,
 "nbformat_minor": 0,
 "worksheets": [
  {
   "cells": [
    {
     "cell_type": "code",
     "collapsed": false,
     "input": [
      "import pandas as pd\n",
      "fn = 'foods.csv'\n",
      "f = open(fn,'r')\n",
      "df = pd.io.parsers.read_table(f, '\\t!\\t')\n",
      "f.close()"
     ],
     "language": "python",
     "metadata": {},
     "outputs": [
      {
       "output_type": "stream",
       "stream": "stderr",
       "text": [
        "C:\\Users\\LENOVO USER\\AppData\\Local\\Enthought\\Canopy32\\User\\lib\\site-packages\\pandas\\io\\parsers.py:615: ParserWarning: Falling back to the 'python' engine because the 'c' engine does not support regex separators; you can avoid this warning by specifying engine='python'.\n",
        "  ParserWarning)\n"
       ]
      }
     ],
     "prompt_number": 1
    },
    {
     "cell_type": "code",
     "collapsed": false,
     "input": [
      "df[:5]\n"
     ],
     "language": "python",
     "metadata": {},
     "outputs": [
      {
       "html": [
        "<div style=\"max-height:1000px;max-width:1500px;overflow:auto;\">\n",
        "<table border=\"1\" class=\"dataframe\">\n",
        "  <thead>\n",
        "    <tr style=\"text-align: right;\">\n",
        "      <th></th>\n",
        "      <th>productId</th>\n",
        "      <th>userId</th>\n",
        "      <th>profileName</th>\n",
        "      <th>helpfulness</th>\n",
        "      <th>score</th>\n",
        "      <th>time</th>\n",
        "      <th>summary</th>\n",
        "      <th>text</th>\n",
        "    </tr>\n",
        "  </thead>\n",
        "  <tbody>\n",
        "    <tr>\n",
        "      <th>0</th>\n",
        "      <td> B001E4KFG0</td>\n",
        "      <td> A3SGXH7AUHU8GW</td>\n",
        "      <td>                      delmartian</td>\n",
        "      <td> 1/1</td>\n",
        "      <td> 5</td>\n",
        "      <td> 1303862400</td>\n",
        "      <td> Good Quality Dog Food</td>\n",
        "      <td> I have bought several of the Vitality canned d...</td>\n",
        "    </tr>\n",
        "    <tr>\n",
        "      <th>1</th>\n",
        "      <td> B00813GRG4</td>\n",
        "      <td> A1D87F6ZCVE5NK</td>\n",
        "      <td>                          dll pa</td>\n",
        "      <td> 0/0</td>\n",
        "      <td> 1</td>\n",
        "      <td> 1346976000</td>\n",
        "      <td>     Not as Advertised</td>\n",
        "      <td> Product arrived labeled as Jumbo Salted Peanut...</td>\n",
        "    </tr>\n",
        "    <tr>\n",
        "      <th>2</th>\n",
        "      <td> B000LQOCH0</td>\n",
        "      <td>  ABXLMWJIXXAIN</td>\n",
        "      <td> Natalia Corres \"Natalia Corres\"</td>\n",
        "      <td> 1/1</td>\n",
        "      <td> 4</td>\n",
        "      <td> 1219017600</td>\n",
        "      <td> \"Delight\" says it all</td>\n",
        "      <td> This is a confection that has been around a fe...</td>\n",
        "    </tr>\n",
        "    <tr>\n",
        "      <th>3</th>\n",
        "      <td> B000UA0QIQ</td>\n",
        "      <td> A395BORC6FGVXV</td>\n",
        "      <td>                            Karl</td>\n",
        "      <td> 3/3</td>\n",
        "      <td> 2</td>\n",
        "      <td> 1307923200</td>\n",
        "      <td>        Cough Medicine</td>\n",
        "      <td> If you are looking for the secret ingredient i...</td>\n",
        "    </tr>\n",
        "    <tr>\n",
        "      <th>4</th>\n",
        "      <td> B006K2ZZ7K</td>\n",
        "      <td> A1UQRSCLF8GW1T</td>\n",
        "      <td>   Michael D. Bigham \"M. Wassir\"</td>\n",
        "      <td> 0/0</td>\n",
        "      <td> 5</td>\n",
        "      <td> 1350777600</td>\n",
        "      <td>           Great taffy</td>\n",
        "      <td> Great taffy at a great price.  There was a wid...</td>\n",
        "    </tr>\n",
        "  </tbody>\n",
        "</table>\n",
        "</div>"
       ],
       "metadata": {},
       "output_type": "pyout",
       "prompt_number": 3,
       "text": [
        "    productId          userId                      profileName helpfulness  \\\n",
        "0  B001E4KFG0  A3SGXH7AUHU8GW                       delmartian         1/1   \n",
        "1  B00813GRG4  A1D87F6ZCVE5NK                           dll pa         0/0   \n",
        "2  B000LQOCH0   ABXLMWJIXXAIN  Natalia Corres \"Natalia Corres\"         1/1   \n",
        "3  B000UA0QIQ  A395BORC6FGVXV                             Karl         3/3   \n",
        "4  B006K2ZZ7K  A1UQRSCLF8GW1T    Michael D. Bigham \"M. Wassir\"         0/0   \n",
        "\n",
        "   score        time                summary  \\\n",
        "0      5  1303862400  Good Quality Dog Food   \n",
        "1      1  1346976000      Not as Advertised   \n",
        "2      4  1219017600  \"Delight\" says it all   \n",
        "3      2  1307923200         Cough Medicine   \n",
        "4      5  1350777600            Great taffy   \n",
        "\n",
        "                                                text  \n",
        "0  I have bought several of the Vitality canned d...  \n",
        "1  Product arrived labeled as Jumbo Salted Peanut...  \n",
        "2  This is a confection that has been around a fe...  \n",
        "3  If you are looking for the secret ingredient i...  \n",
        "4  Great taffy at a great price.  There was a wid...  "
       ]
      }
     ],
     "prompt_number": 3
    },
    {
     "cell_type": "code",
     "collapsed": false,
     "input": [
      "prodcnts = df['productId'].value_counts()\n",
      "prod_mostrevs = prodcnts.index[0]\n",
      "print prodcnts[0:5]"
     ],
     "language": "python",
     "metadata": {},
     "outputs": [
      {
       "output_type": "stream",
       "stream": "stdout",
       "text": [
        "B002QWP89S    632\n",
        "B007M83302    564\n",
        "B0013NUGDE    564\n",
        "B000KV61FC    556\n",
        "B000PDY3P0    487\n",
        "dtype: int64\n"
       ]
      }
     ],
     "prompt_number": 37
    },
    {
     "cell_type": "code",
     "collapsed": false,
     "input": [
      "import pylab as pl\n",
      "import numpy as np\n",
      "%pylab inline\n",
      "\n",
      "pd.options.display.mpl_style = 'default'\n",
      "pl.figure()\n",
      "df[df['productId']==prod_mostrevs]['score'].hist(bins=0.5+np.arange(6),normed=True)\n",
      "pl.xlabel('Score')\n",
      "pl.ylabel('Fraction of reviews')\n",
      "tstr = 'productId ' + prod_mostrevs + ' (n=%u)' % prodcnts[0]\n",
      "pl.title(tstr)\n",
      "pl.savefig('MostReviewedProductScore.png',dpi=300)"
     ],
     "language": "python",
     "metadata": {},
     "outputs": [
      {
       "output_type": "stream",
       "stream": "stdout",
       "text": [
        "Populating the interactive namespace from numpy and matplotlib\n"
       ]
      },
      {
       "metadata": {},
       "output_type": "display_data",
       "png": "[encoded data removed]",
       "text": [
        "<matplotlib.figure.Figure at 0x7d6acd0>"
       ]
      }
     ],
     "prompt_number": 36
    }
   ],
   "metadata": {}
  }
 ]
}