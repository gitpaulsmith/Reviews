{
 "metadata": {
  "name": "",
  "signature": "sha256:beae26067c0bf9c35bc16a7a140b1457b5e0d2e3f384ddea4a9907197223e0f3"
 },
 "nbformat": 3,
 "nbformat_minor": 0,
 "worksheets": [
  {
   "cells": [
    {
     "cell_type": "heading",
     "level": 4,
     "metadata": {},
     "source": [
      "Import required packages"
     ]
    },
    {
     "cell_type": "code",
     "collapsed": false,
     "input": [
      "import math\n",
      "import scipy\n",
      "import numpy as np\n",
      "import pandas as pd\n",
      "\n",
      "import matplotlib.pyplot as plt\n",
      "%matplotlib inline\n",
      "\n",
      "from sklearn.externals import joblib\n",
      "import cPickle\n",
      "\n",
      "from sklearn.feature_extraction.text import CountVectorizer\n",
      "from sklearn.feature_extraction.text import TfidfVectorizer\n",
      "from sklearn.linear_model import LinearRegression\n",
      "from sklearn import linear_model\n",
      "from sklearn import svm\n",
      "from sklearn.naive_bayes import MultinomialNB\n",
      "from sklearn.pipeline import Pipeline\n",
      "from sklearn.metrics import confusion_matrix\n",
      "\n",
      "from sklearn.cross_validation import StratifiedKFold"
     ],
     "language": "python",
     "metadata": {},
     "outputs": [],
     "prompt_number": 7
    },
    {
     "cell_type": "heading",
     "level": 4,
     "metadata": {},
     "source": [
      "Load the data"
     ]
    },
    {
     "cell_type": "code",
     "collapsed": false,
     "input": [
      "fn = 'scrubbed_foods.csv'\n",
      "f = open(fn,'rb')\n",
      "df = pd.io.parsers.read_table(f, '\\t!\\t',engine='python')\n",
      "f.close()\n",
      "df.drop_duplicates('text',inplace=True)\n",
      "\n",
      "#Shuffle the data\n",
      "df = df.reindex(np.random.permutation(df.index))\n",
      "\n",
      "df_1star = pd.DataFrame(df[df['score']==1],columns=['score','text'])\n",
      "df_2star = pd.DataFrame(df[df['score']==2],columns=['score','text'])\n",
      "df_3star = pd.DataFrame(df[df['score']==3],columns=['score','text'])\n",
      "df_4star = pd.DataFrame(df[df['score']==4],columns=['score','text'])\n",
      "df_5star = pd.DataFrame(df[df['score']==5],columns=['score','text'])\n",
      "\n",
      "min_star_length = min(len(df_1star), len(df_2star), len(df_3star), len(df_4star), len(df_5star))\n",
      "\n",
      "#Train and test on data with stars equally distributed across classes\n",
      "#Percentage of data to use in training and cross-validation:\n",
      "frac = 1.\n",
      "idx1 = int(min_star_length*frac)  # Removed one * frac, for only one training set\n",
      "idx2 = int(min_star_length*frac)\n",
      "idx3 = min_star_length\n",
      "\n",
      "training_data = [df_1star[:idx1],df_2star[:idx1], df_3star[:idx1], df_4star[:idx1], df_5star[:idx1]]\n",
      "training_data2 = [df_1star[idx1:idx2],df_2star[idx1:idx2], df_3star[idx1:idx2], df_4star[idx1:idx2], df_5star[idx1:idx2]]\n",
      "testing_data = [df_1star[idx2:idx3],df_2star[idx2:idx3], df_3star[idx2:idx3], df_4star[idx2:idx3], df_5star[idx2:idx3]]\n",
      "del df_1star, df_2star, df_3star, df_4star, df_5star\n",
      "\n",
      "df_train = pd.concat(training_data)\n",
      "#df_train2 = pd.concat(training_data2)\n",
      "#df_test = pd.concat(testing_data)\n",
      "del training_data, training_data2, testing_data\n",
      "\n",
      "def decodeArray(text):\n",
      "    try:\n",
      "        return text.decode('utf-8','replace')\n",
      "    except:\n",
      "        return 0\n",
      "\n",
      "X_train = df_train['text'].apply(decodeArray)\n",
      "y_train = df_train['score']\n",
      "#X_train2 = df_train2['text'].apply(decodeArray)\n",
      "#y_train2 = df_train2['score']\n",
      "#X_test = df_test['text'].apply(decodeArray)\n",
      "#y_test = df_test['score']"
     ],
     "language": "python",
     "metadata": {},
     "outputs": [],
     "prompt_number": 114
    },
    {
     "cell_type": "heading",
     "level": 4,
     "metadata": {},
     "source": [
      "Confusion Matrix normalizer and plotter"
     ]
    },
    {
     "cell_type": "code",
     "collapsed": false,
     "input": [
      "def makeCM_plot(y_test, y_pred):\n",
      "    cm = confusion_matrix(y_test, y_pred)\n",
      "    cm=cm / cm.astype(np.float).sum(axis=1)\n",
      "    print cm\n",
      "    plt.matshow(cm)\n",
      "    plt.title('Confusion matrix')\n",
      "    plt.colorbar()\n",
      "    plt.ylabel('True label')\n",
      "    plt.xlabel('Predicted label')\n",
      "    plt.show()"
     ],
     "language": "python",
     "metadata": {},
     "outputs": [],
     "prompt_number": 3
    },
    {
     "cell_type": "heading",
     "level": 4,
     "metadata": {},
     "source": [
      "Covariance and descriptive statistics"
     ]
    },
    {
     "cell_type": "code",
     "collapsed": false,
     "input": [
      "def mu(x1):\n",
      "    return x1.mean()\n",
      "\n",
      "def ErrorEst(y_act, y_test):\n",
      "    return np.mean(np.abs(y_test - y_act))\n",
      "\n",
      "def cov(x1, x2):\n",
      "    return np.dot(x1, x2)/len(x1)\n",
      "\n",
      "def stdev(x):\n",
      "    return math.sqrt(cov(x - mu(x), x - mu(x)))\n",
      "\n",
      "def optimal_weights(X1, X2, X3):\n",
      "    X1 = X1 - mu(X1)\n",
      "    X2 = X2 - mu(X2)\n",
      "    X3 = X3 - mu(X3)\n",
      "    \n",
      "    sigma_11 = cov(X1, X1)\n",
      "    sigma_12 = cov(X1, X2)\n",
      "    sigma_13 = cov(X1, X3)\n",
      "    sigma_21 = sigma_12\n",
      "    sigma_22 = cov(X2, X2)\n",
      "    sigma_23 = cov(X2, X3)\n",
      "    sigma_31 = sigma_13\n",
      "    sigma_32 = sigma_23\n",
      "    sigma_33 = cov(X3, X3)\n",
      "    \n",
      "    A = np.array([[2*sigma_11, 2*sigma_12, 2*sigma_13, 1],\n",
      "     [2*sigma_21, 2*sigma_22, 2*sigma_23, 1],\n",
      "     [2*sigma_31, 2*sigma_32, 2*sigma_33, 1],\n",
      "     [1, 1, 1, 0]])\n",
      "    b = np.array([0,0,0,1]).transpose()\n",
      "    \n",
      "    z = np.dot(np.linalg.inv(A), b)\n",
      "    \n",
      "    w1=z[0]\n",
      "    w2=z[1]\n",
      "    w3=z[2]\n",
      "    \n",
      "    w = np.array([w1, w2, w3])\n",
      "    return w\n",
      "\n",
      "def hf(a0, a1, a2, a3):\n",
      "    return int(125*(a0-1)+25*(a1-1)+5*(a2-1)+(a3-1))"
     ],
     "language": "python",
     "metadata": {},
     "outputs": [],
     "prompt_number": 175
    },
    {
     "cell_type": "heading",
     "level": 4,
     "metadata": {},
     "source": [
      "SVM"
     ]
    },
    {
     "cell_type": "heading",
     "level": 4,
     "metadata": {},
     "source": [
      "Logreg"
     ]
    },
    {
     "cell_type": "code",
     "collapsed": false,
     "input": [
      "Logreg_Vectorizer=TfidfVectorizer(analyzer='word', binary=False, charset=None,charset_error=None,decode_error='strict',\n",
      "                       encoding='utf-8',lowercase=True,\n",
      "                       max_df=1.0,max_features=None,min_df=1,ngram_range=(1, 3),norm='l2',\n",
      "                       preprocessor=None,smooth_idf=False,stop_words=None,strip_accents=None,\n",
      "                       sublinear_tf=False,token_pattern='(?u)\\\\b\\\\w\\\\w+\\\\b',tokenizer=None,use_idf=False,vocabulary=None)\n",
      "#Classsifier:\n",
      "Logreg_clf=linear_model.LogisticRegression()\n",
      "Logreg_pipeline=Pipeline([('vect', Logreg_Vectorizer),('clf', Logreg_clf)])\n",
      "Logreg_pipeline.fit(X_train,y_train)"
     ],
     "language": "python",
     "metadata": {},
     "outputs": [
      {
       "metadata": {},
       "output_type": "pyout",
       "prompt_number": 17,
       "text": [
        "Pipeline(steps=[('vect', TfidfVectorizer(analyzer='word', binary=False, charset=None,\n",
        "        charset_error=None, decode_error='strict',\n",
        "        dtype=<type 'numpy.int64'>, encoding='utf-8', input=u'content',\n",
        "        lowercase=True, max_df=1.0, max_features=None, min_df=1,\n",
        "        ngram_range=(1, 3), norm='l...e, fit_intercept=True,\n",
        "          intercept_scaling=1, penalty='l2', random_state=None, tol=0.0001))])"
       ]
      }
     ],
     "prompt_number": 17
    },
    {
     "cell_type": "code",
     "collapsed": false,
     "input": [
      "joblib.dump(Logreg_pipeline, 'Logreg.joblib')"
     ],
     "language": "python",
     "metadata": {},
     "outputs": [
      {
       "metadata": {},
       "output_type": "pyout",
       "prompt_number": 18,
       "text": [
        "['Logreg.joblib',\n",
        " 'Logreg.joblib_01.npy',\n",
        " 'Logreg.joblib_02.npy',\n",
        " 'Logreg.joblib_03.npy',\n",
        " 'Logreg.joblib_04.npy',\n",
        " 'Logreg.joblib_05.npy']"
       ]
      }
     ],
     "prompt_number": 18
    },
    {
     "cell_type": "code",
     "collapsed": false,
     "input": [
      "Logreg_pipeline.score(X_train, y_train)"
     ],
     "language": "python",
     "metadata": {},
     "outputs": [
      {
       "metadata": {},
       "output_type": "pyout",
       "prompt_number": 19,
       "text": [
        "0.73693121693121688"
       ]
      }
     ],
     "prompt_number": 19
    },
    {
     "cell_type": "code",
     "collapsed": false,
     "input": [
      "y_Logregtrain = Logreg_pipeline.predict(X_train)\n",
      "y_Logregtest = Logreg_pipeline.predict(X_test)\n",
      "err_Logreg_train = y_Logregtrain - y_train\n",
      "err_Logreg_test = y_Logregtest - y_test"
     ],
     "language": "python",
     "metadata": {},
     "outputs": [],
     "prompt_number": 20
    },
    {
     "cell_type": "code",
     "collapsed": false,
     "input": [
      "print ErrorEst(y_train, y_Logregtrain)\n",
      "print stdev(err_Logreg_train)\n",
      "print ErrorEst(y_test, y_Logregtest)\n",
      "print stdev(err_Logreg_test)"
     ],
     "language": "python",
     "metadata": {},
     "outputs": [
      {
       "output_type": "stream",
       "stream": "stdout",
       "text": [
        "0.69519010536\n",
        "1.12339181709\n",
        "0.67358127605\n",
        "1.10785230975\n"
       ]
      }
     ],
     "prompt_number": 20
    },
    {
     "cell_type": "heading",
     "level": 1,
     "metadata": {},
     "source": [
      "5-fold cross validation"
     ]
    },
    {
     "cell_type": "code",
     "collapsed": false,
     "input": [
      "Logreg_Vectorizer=TfidfVectorizer(analyzer='word', binary=False, charset=None,charset_error=None,decode_error='strict',\n",
      "                       encoding='utf-8',lowercase=True,\n",
      "                       max_df=1.0,max_features=None,min_df=1,ngram_range=(1, 3),norm='l2',\n",
      "                       preprocessor=None,smooth_idf=False,stop_words=None,strip_accents=None,\n",
      "                       sublinear_tf=False,token_pattern='(?u)\\\\b\\\\w\\\\w+\\\\b',tokenizer=None,use_idf=False,vocabulary=None)\n",
      "\n",
      "Logreg_clf=linear_model.LogisticRegression()\n",
      "Logreg_pipeline=Pipeline([('vect', Logreg_Vectorizer),('clf', Logreg_clf)])\n",
      "\n",
      "LR_CV_data = {}\n",
      "LR_CV_data = {'score':[], 'stdev':[], 'ErrorEst':[]}\n",
      "\n",
      "\n",
      "NB_Vectorizer=TfidfVectorizer(analyzer='word', binary=False, charset=None,charset_error=None,decode_error='strict',\n",
      "                       encoding='utf-8',lowercase=True,\n",
      "                       max_df=1.0,max_features=None,min_df=1,ngram_range=(1, 3),norm='l2',\n",
      "                       preprocessor=None,smooth_idf=False,stop_words=None,strip_accents=None,\n",
      "                       sublinear_tf=False,token_pattern='(?u)\\\\b\\\\w\\\\w+\\\\b',tokenizer=None,use_idf=False,vocabulary=None)\n",
      "\n",
      "NB_clf=MultinomialNB(alpha=0.1, class_prior=None, fit_prior=True)\n",
      "NB_pipeline=Pipeline([('vect', NB_Vectorizer),('clf', NB_clf)])\n",
      "\n",
      "NB_CV_data = {}\n",
      "NB_CV_data = {'score':[], 'stdev':[], 'ErrorEst':[]}\n",
      "\n",
      "\n",
      "SVM_Vectorizer=TfidfVectorizer(analyzer='word', binary=True, charset=None,\n",
      "        charset_error=None, decode_error=u'strict',\n",
      "        encoding=u'utf-8', input=u'content',\n",
      "        lowercase=True, max_df=1.0, max_features=None, min_df=2,\n",
      "        ngram_range=(1, 2), norm=u'l2', preprocessor=None, smooth_idf=True,\n",
      "        stop_words=None, strip_accents=None, sublinear_tf=False,\n",
      "        token_pattern=u'(?u)\\\\b\\\\w\\\\w+\\\\b', tokenizer=None, use_idf=True,\n",
      "        vocabulary=None)\n",
      "\n",
      "SVM_clf=svm.LinearSVC(loss='l2', penalty='l1', dual=False)\n",
      "SVM_pipeline=Pipeline([('vect', SVM_Vectorizer),('clf', SVM_clf)])\n",
      "\n",
      "SVM_CV_data = {}\n",
      "SVM_CV_data = {'score':[], 'stdev':[], 'ErrorEst':[]}\n",
      "\n",
      "Weights = {'LR weight':[], 'NB weight':[], 'SVM weight':[]}\n",
      "\n",
      "W_CV_data = {'stdev':[], 'ErrorEst':[]}\n",
      "\n",
      "Bayes_data = {'stdev':[], 'ErrorEst':[]}\n",
      "\n",
      "\n",
      "X = np.array(X_train.reindex())\n",
      "y = np.array(y_train.reindex())\n",
      "\n",
      "cv = StratifiedKFold(y, n_folds=5)\n",
      "\n",
      "for i, (train, test) in enumerate(cv):\n",
      "    \n",
      "    Logreg_pipeline.fit(X[train],y[train])\n",
      "    y_LRtrain = Logreg_pipeline.predict(X[train])\n",
      "    y_LRpred = Logreg_pipeline.predict(X[test])\n",
      "    \n",
      "    LR_CV_data['score'].append(Logreg_pipeline.score(X[test],y[test]))\n",
      "    LR_CV_data['stdev'].append(stdev(y_LRpred - y[test]))\n",
      "    LR_CV_data['ErrorEst'].append(ErrorEst(y[test], y_LRpred))\n",
      "    \n",
      "    NB_pipeline.fit(X[train],y[train])\n",
      "    y_NBtrain = NB_pipeline.predict(X[train])\n",
      "    y_NBpred = NB_pipeline.predict(X[test])\n",
      "    \n",
      "    NB_CV_data['score'].append(NB_pipeline.score(X[test],y[test]))\n",
      "    NB_CV_data['stdev'].append(stdev(y_NBpred - y[test]))\n",
      "    NB_CV_data['ErrorEst'].append(ErrorEst(y[test], y_NBpred))\n",
      "    \n",
      "    SVM_pipeline.fit(X[train],y[train])\n",
      "    y_SVMtrain = SVM_pipeline.predict(X[train])\n",
      "    y_SVMpred = SVM_pipeline.predict(X[test])\n",
      "    \n",
      "    SVM_CV_data['score'].append(SVM_pipeline.score(X[test],y[test]))\n",
      "    SVM_CV_data['stdev'].append(stdev(y_SVMpred - y[test]))\n",
      "    SVM_CV_data['ErrorEst'].append(ErrorEst(y[test], y_SVMpred))\n",
      "    \n",
      "    w = optimal_weights(y_LRtrain - y[train], y_NBtrain - y[train], y_SVMtrain - y[train])\n",
      "    Weights['LR weight'].append(w[0])\n",
      "    Weights['NB weight'].append(w[1])\n",
      "    Weights['SVM weight'].append(w[2])\n",
      "    \n",
      "    \n",
      "    w_pred = np.rint(w[0]*y_LRpred + w[1]*y_NBpred + w[2]*y_SVMpred)\n",
      "    W_CV_data['stdev'].append(stdev(w_pred - y[test]))\n",
      "    W_CV_data['ErrorEst'].append(ErrorEst(w_pred, y[test]))\n",
      "    \n",
      "    print 'The confusion matrix for averaging is as follows.'\n",
      "    makeCM_plot(y[test], w_pred)\n",
      "    \n",
      "    \n",
      "    case_counter = np.zeros(625)\n",
      "    for i in range(0,len(y[train])):\n",
      "        case_counter[hf(y_LRtrain[i], y_NBtrain[i], y_SVMtrain[i], y[train][i])] += 1\n",
      "    \n",
      "    y_Bayes = np.zeros(len(y[test]))\n",
      "    \n",
      "    for i in range(0,len(y[test])):\n",
      "        a0 = y_LRpred[i]\n",
      "        a1 = y_NBpred[i]\n",
      "        a2 = y_SVMpred[i]\n",
      "        maxguess = 0\n",
      "        maxj = 0\n",
      "        for j in range(1, 6):\n",
      "            if case_counter[hf(a0, a1, a2, j)] >= maxguess:\n",
      "                maxguess = case_counter[hf(a0, a1, a2, j)]\n",
      "                maxj = j\n",
      "        y_Bayes[i] = maxj\n",
      "    \n",
      "    Bayes_data['stdev'].append(stdev(y_Bayes - y[test]))\n",
      "    Bayes_data['ErrorEst'].append(ErrorEst(y_Bayes, y[test]))\n",
      "    \n",
      "    print \"The confusion matrix for Bayes' is as follows.\"\n",
      "    makeCM_plot(y[test], y_Bayes) \n",
      "    \n",
      "print 'The averaging weights are ', Weights    \n",
      "print 'The averaging method performance is ', W_CV_data\n",
      "print 'The Bayes method performance is ', Bayes_data\n"
     ],
     "language": "python",
     "metadata": {},
     "outputs": [
      {
       "output_type": "stream",
       "stream": "stdout",
       "text": [
        "The confusion matrix for averaging is as follows.\n",
        "[[ 0.59629719  0.26070226  0.1029341   0.02236652  0.01779702]\n",
        " [ 0.1808127   0.43458393  0.31000481  0.06301106  0.01154401]\n",
        " [ 0.08655927  0.16859067  0.53126503  0.18181818  0.03174603]\n",
        " [ 0.02692955  0.03823954  0.21284271  0.56204906  0.15993266]\n",
        " [ 0.0221207   0.02068302  0.05723906  0.28210678  0.61784512]]\n"
       ]
      },
      {
       "metadata": {},
       "output_type": "display_data",
       "png": "[encoded data removed]",
       "text": [
        "<matplotlib.figure.Figure at 0x143db3e50>"
       ]
      },
      {
       "output_type": "stream",
       "stream": "stdout",
       "text": [
        "The confusion matrix for Bayes' is as follows.\n",
        "[[ 0.59629719  0.26070226  0.1026936   0.02236652  0.01803752]\n",
        " [ 0.1808127   0.43458393  0.30759981  0.06301106  0.01394901]\n",
        " [ 0.08655927  0.16859067  0.53054353  0.18181818  0.03246753]\n",
        " [ 0.02692955  0.03823954  0.21212121  0.56204906  0.16065416]\n",
        " [ 0.0221207   0.02068302  0.05579606  0.28210678  0.61928812]]\n"
       ]
      },
      {
       "metadata": {},
       "output_type": "display_data",
       "png": "[encoded data removed]",
       "text": [
        "<matplotlib.figure.Figure at 0x1438612d0>"
       ]
      },
      {
       "output_type": "stream",
       "stream": "stdout",
       "text": [
        "The confusion matrix for averaging is as follows.\n",
        "[[ 0.60918711  0.25967781  0.08922559  0.02621453  0.01563252]\n",
        " [ 0.19360269  0.4121183   0.31337181  0.06421356  0.01683502]\n",
        " [ 0.08513709  0.17840827  0.51298701  0.1969697   0.02645503]\n",
        " [ 0.02765753  0.04303919  0.21284271  0.56036556  0.15608466]\n",
        " [ 0.02429052  0.02043761  0.04689755  0.28643579  0.62193362]]\n"
       ]
      },
      {
       "metadata": {},
       "output_type": "display_data",
       "png": "[encoded data removed]",
       "text": [
        "<matplotlib.figure.Figure at 0x1440dee10>"
       ]
      },
      {
       "output_type": "stream",
       "stream": "stdout",
       "text": [
        "The confusion matrix for Bayes' is as follows.\n",
        "[[ 0.60918711  0.25967781  0.08922559  0.02621453  0.01563252]\n",
        " [ 0.19360269  0.4121183   0.31337181  0.06421356  0.01683502]\n",
        " [ 0.08465608  0.17840827  0.51298701  0.1969697   0.02693603]\n",
        " [ 0.02765753  0.04303919  0.21284271  0.56036556  0.15608466]\n",
        " [ 0.02429052  0.02043761  0.04689755  0.28643579  0.62193362]]\n"
       ]
      },
      {
       "metadata": {},
       "output_type": "display_data",
       "png": "[encoded data removed]",
       "text": [
        "<matplotlib.figure.Figure at 0x143815850>"
       ]
      },
      {
       "output_type": "stream",
       "stream": "stdout",
       "text": [
        "The confusion matrix for averaging is as follows.\n",
        "[[ 0.5952381   0.26118326  0.10459245  0.02477152  0.01418951]\n",
        " [ 0.1979317   0.42448292  0.30728541  0.05723906  0.01298701]\n",
        " [ 0.08489658  0.18109668  0.53786968  0.17388167  0.02236652]\n",
        " [ 0.03583454  0.03775854  0.20894446  0.54954305  0.16786917]\n",
        " [ 0.02621453  0.02020202  0.05265689  0.28066378  0.62025012]]\n"
       ]
      },
      {
       "metadata": {},
       "output_type": "display_data",
       "png": "[encoded data removed]",
       "text": [
        "<matplotlib.figure.Figure at 0x12331fe10>"
       ]
      },
      {
       "output_type": "stream",
       "stream": "stdout",
       "text": [
        "The confusion matrix for Bayes' is as follows.\n",
        "[[ 0.5952381   0.26118326  0.10459245  0.02477152  0.01418951]\n",
        " [ 0.1979317   0.42448292  0.30728541  0.05723906  0.01298701]\n",
        " [ 0.08489658  0.18109668  0.53786968  0.17388167  0.02236652]\n",
        " [ 0.03583454  0.03775854  0.20894446  0.54954305  0.16786917]\n",
        " [ 0.02621453  0.02020202  0.05265689  0.28066378  0.62025012]]\n"
       ]
      },
      {
       "metadata": {},
       "output_type": "display_data",
       "png": "[encoded data removed]",
       "text": [
        "<matplotlib.figure.Figure at 0x148ed7450>"
       ]
      },
      {
       "output_type": "stream",
       "stream": "stdout",
       "text": [
        "The confusion matrix for averaging is as follows.\n",
        "[[ 0.6019721   0.25877826  0.1007696   0.0221207   0.01635402]\n",
        " [ 0.19071669  0.44203944  0.28908129  0.06395768  0.01418951]\n",
        " [ 0.08537759  0.18302068  0.52044252  0.18105314  0.03006253]\n",
        " [ 0.03006253  0.04280904  0.22486772  0.5419572   0.16041366]\n",
        " [ 0.02429052  0.02284752  0.05796056  0.27771099  0.61712362]]"
       ]
      },
      {
       "output_type": "stream",
       "stream": "stdout",
       "text": [
        "\n"
       ]
      },
      {
       "metadata": {},
       "output_type": "display_data",
       "png": "[encoded data removed]",
       "text": [
        "<matplotlib.figure.Figure at 0x1437fc850>"
       ]
      },
      {
       "output_type": "stream",
       "stream": "stdout",
       "text": [
        "The confusion matrix for Bayes' is as follows.\n",
        "[[ 0.5995671   0.25877826  0.1007696   0.02452513  0.01635402]\n",
        " [ 0.18879269  0.44203944  0.28908129  0.06588122  0.01418951]\n",
        " [ 0.08321308  0.18302068  0.52044252  0.18321712  0.03006253]\n",
        " [ 0.02910053  0.04280904  0.22486772  0.54291897  0.16041366]\n",
        " [ 0.02332852  0.02284752  0.05796056  0.27867276  0.61712362]]\n"
       ]
      },
      {
       "metadata": {},
       "output_type": "display_data",
       "png": "[encoded data removed]",
       "text": [
        "<matplotlib.figure.Figure at 0x14218b190>"
       ]
      },
      {
       "output_type": "stream",
       "stream": "stdout",
       "text": [
        "The confusion matrix for averaging is as follows.\n",
        "[[ 0.6031746   0.26430976  0.09235209  0.02717653  0.01298389]\n",
        " [ 0.1991342   0.42640693  0.2987013   0.05820106  0.0175523 ]\n",
        " [ 0.09211159  0.18566619  0.52116402  0.17532468  0.02572734]\n",
        " [ 0.02621453  0.04473304  0.22150072  0.55964406  0.14787208]\n",
        " [ 0.02693603  0.02236652  0.05291005  0.29485329  0.60302957]]\n"
       ]
      },
      {
       "metadata": {},
       "output_type": "display_data",
       "png": "[encoded data removed]",
       "text": [
        "<matplotlib.figure.Figure at 0x143abea50>"
       ]
      },
      {
       "output_type": "stream",
       "stream": "stdout",
       "text": [
        "The confusion matrix for Bayes' is as follows.\n",
        "[[ 0.6031746   0.26430976  0.09235209  0.02717653  0.01298389]\n",
        " [ 0.1991342   0.42640693  0.2987013   0.05820106  0.0175523 ]\n",
        " [ 0.09211159  0.18566619  0.52116402  0.17532468  0.02572734]\n",
        " [ 0.02621453  0.04473304  0.22150072  0.55964406  0.14787208]\n",
        " [ 0.02693603  0.02236652  0.05291005  0.29485329  0.60302957]]"
       ]
      },
      {
       "output_type": "stream",
       "stream": "stdout",
       "text": [
        "\n"
       ]
      },
      {
       "metadata": {},
       "output_type": "display_data",
       "png": "[encoded data removed]",
       "text": [
        "<matplotlib.figure.Figure at 0x146fb2f90>"
       ]
      },
      {
       "output_type": "stream",
       "stream": "stdout",
       "text": [
        "The averaging weights are  {'NB weight': [0.94422734398569075, 0.93727146639134562, 0.94104552395831365, 0.93930044152445125, 0.9392054195071966], 'SVM weight': [0.07357856730537915, 0.078310029512783208, 0.078321439625180622, 0.077014616512695699, 0.076929731398478834], 'LR weight': [-0.017805911291069926, -0.015581495904128688, -0.01936696358349424, -0.016315058037146987, -0.016135150905675581]}\n",
        "The averaging method performance is  {'ErrorEst': [0.58409888894233086, 0.58809100091385691, 0.58818719638305039, 0.59155403780481941, 0.59179452647780284], 'stdev': [0.9641401128747509, 0.9670841954560636, 0.9702769530874646, 0.9738739485665152, 0.9723730852544733]}\n",
        "The Bayes method performance is  {'ErrorEst': [0.58486845269587806, 0.58809100091385691, 0.58818719638305039, 0.59179452647780284, 0.59179452647780284], 'stdev': [0.9661122602638808, 0.9670829515471637, 0.9702769530874646, 0.973691717621654, 0.9723730852544733]}\n"
       ]
      }
     ],
     "prompt_number": 147
    },
    {
     "cell_type": "code",
     "collapsed": false,
     "input": [
      "print Weights"
     ],
     "language": "python",
     "metadata": {},
     "outputs": [
      {
       "output_type": "stream",
       "stream": "stdout",
       "text": [
        "{'NB weight': [0.94422734398569075, 0.93727146639134562, 0.94104552395831365, 0.93930044152445125, 0.9392054195071966], 'SVM weight': [0.07357856730537915, 0.078310029512783208, 0.078321439625180622, 0.077014616512695699, 0.076929731398478834], 'LR weight': [-0.017805911291069926, -0.015581495904128688, -0.01936696358349424, -0.016315058037146987, -0.016135150905675581]}\n"
       ]
      }
     ],
     "prompt_number": 149
    },
    {
     "cell_type": "code",
     "collapsed": false,
     "input": [
      "print W_CV_data"
     ],
     "language": "python",
     "metadata": {},
     "outputs": [
      {
       "output_type": "stream",
       "stream": "stdout",
       "text": [
        "{'ErrorEst': [0.58409888894233086, 0.58809100091385691, 0.58818719638305039, 0.59155403780481941, 0.59179452647780284], 'stdev': [0.9641401128747509, 0.9670841954560636, 0.9702769530874646, 0.9738739485665152, 0.9723730852544733]}\n"
       ]
      }
     ],
     "prompt_number": 148
    },
    {
     "cell_type": "code",
     "collapsed": false,
     "input": [
      "print Bayes_data"
     ],
     "language": "python",
     "metadata": {},
     "outputs": [
      {
       "output_type": "stream",
       "stream": "stdout",
       "text": [
        "{'ErrorEst': [0.58486845269587806, 0.58809100091385691, 0.58818719638305039, 0.59179452647780284, 0.59179452647780284], 'stdev': [0.9661122602638808, 0.9670829515471637, 0.9702769530874646, 0.973691717621654, 0.9723730852544733]}\n"
       ]
      }
     ],
     "prompt_number": 150
    },
    {
     "cell_type": "code",
     "collapsed": false,
     "input": [
      "cPickle.dump(LR_CV_data,open('LR_CV.pkl','wb'))\n",
      "cPickle.dump(NB_CV_data,open('NB_CV.pkl','wb'))\n",
      "cPickle.dump(SVM_CV_data,open('SVM_CV.pkl','wb'))\n",
      "cPickle.dump(Weights,open('Weights.pkl','wb'))\n",
      "cPickle.dump(W_CV_data,open('W_CV_data.pkl','wb'))\n",
      "cPickle.dump(Bayes_data,open('Bayes_data.pkl','wb'))"
     ],
     "language": "python",
     "metadata": {},
     "outputs": [],
     "prompt_number": 154
    },
    {
     "cell_type": "code",
     "collapsed": false,
     "input": [
      "print optimal_weights(y_LRtrain - y[train], y_NBtrain - y[train], y_SVMtrain - y[train])\n",
      "print optimal_weights(y_LRpred - y[test], y_NBpred - y[test], y_SVMpred - y[test])"
     ],
     "language": "python",
     "metadata": {},
     "outputs": [
      {
       "output_type": "stream",
       "stream": "stdout",
       "text": [
        "[-0.01613515  0.93920542  0.07692973]\n",
        "[ 0.19953505  0.45696424  0.34350071]\n"
       ]
      }
     ],
     "prompt_number": 179
    }
   ],
   "metadata": {}
  }
 ]
}