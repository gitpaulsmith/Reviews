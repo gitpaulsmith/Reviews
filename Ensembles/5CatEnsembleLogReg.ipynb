{
 "metadata": {
  "name": "",
  "signature": "sha256:622c0357607fd52110f5252a9e08f480abe98491a8a7bbd341ef2cc70cb200c4"
 },
 "nbformat": 3,
 "nbformat_minor": 0,
 "worksheets": [
  {
   "cells": [
    {
     "cell_type": "heading",
     "level": 4,
     "metadata": {},
     "source": [
      "Import required packages"
     ]
    },
    {
     "cell_type": "code",
     "collapsed": false,
     "input": [
      "import scipy\n",
      "import numpy as np\n",
      "import pandas as pd\n",
      "\n",
      "import matplotlib.pyplot as plt\n",
      "%matplotlib inline\n",
      "\n",
      "from sklearn.feature_extraction.text import CountVectorizer\n",
      "from sklearn.feature_extraction.text import TfidfVectorizer\n",
      "from sklearn import linear_model\n",
      "from sklearn import svm\n",
      "from sklearn.naive_bayes import MultinomialNB\n",
      "from sklearn.pipeline import Pipeline\n",
      "from sklearn.cross_validation import ShuffleSplit\n",
      "from sklearn.metrics import confusion_matrix"
     ],
     "language": "python",
     "metadata": {},
     "outputs": [
      {
       "output_type": "stream",
       "stream": "stderr",
       "text": [
        "/usr/local/lib/python2.7/site-packages/pandas/io/excel.py:626: UserWarning: Installed openpyxl is not supported at this time. Use >=1.6.1 and <2.0.0.\n",
        "  .format(openpyxl_compat.start_ver, openpyxl_compat.stop_ver))\n"
       ]
      }
     ],
     "prompt_number": 1
    },
    {
     "cell_type": "heading",
     "level": 4,
     "metadata": {},
     "source": [
      "Load the data"
     ]
    },
    {
     "cell_type": "code",
     "collapsed": false,
     "input": [
      "df = pd.read_csv('scrubbed_foods.csv','\\t!\\t')\n",
      "df.drop_duplicates('text',inplace=True)\n",
      "\n",
      "#Shuffle the data\n",
      "#df = df.reindex(np.random.permutation(df.index))\n",
      "\n",
      "df_1star = pd.DataFrame(df[df['score']==1],columns=['score','text'])\n",
      "df_2star = pd.DataFrame(df[df['score']==2],columns=['score','text'])\n",
      "df_3star = pd.DataFrame(df[df['score']==3],columns=['score','text'])\n",
      "df_4star = pd.DataFrame(df[df['score']==4],columns=['score','text'])\n",
      "df_5star = pd.DataFrame(df[df['score']==5],columns=['score','text'])\n",
      "\n",
      "min_star_length = min(len(df_1star), len(df_2star), len(df_3star), len(df_4star), len(df_5star))\n",
      "\n",
      "#Train and test on data with stars equally distributed across classes\n",
      "#Percentage of data to use in training and cross-validation:\n",
      "frac = 0.7\n",
      "idx1 = int(min_star_length*frac*frac)\n",
      "idx2 = int(min_star_length*frac)\n",
      "idx3 = min_star_length\n",
      "\n",
      "training_data = [df_1star[:idx1],df_2star[:idx1], df_3star[:idx1], df_4star[:idx1], df_5star[:idx1]]\n",
      "training_data2 = [df_1star[idx1:idx2],df_2star[idx1:idx2], df_3star[idx1:idx2], df_4star[idx1:idx2], df_5star[idx1:idx2]]\n",
      "testing_data = [df_1star[idx2:idx3],df_2star[idx2:idx3], df_3star[idx2:idx3], df_4star[idx2:idx3], df_5star[idx2:idx3]]\n",
      "del df_1star, df_2star, df_3star, df_4star, df_5star\n",
      "\n",
      "df_train = pd.concat(training_data)\n",
      "df_train2 = pd.concat(training_data2)\n",
      "df_test = pd.concat(testing_data)\n",
      "del training_data, training_data2, testing_data\n",
      "\n",
      "def decodeArray(text):\n",
      "    try:\n",
      "        return text.decode('utf-8','replace')\n",
      "    except:\n",
      "        return 0\n",
      "\n",
      "X_train = df_train['text'].apply(decodeArray)\n",
      "y_train = df_train['score']\n",
      "X_train2 = df_train2['text'].apply(decodeArray)\n",
      "y_train2 = df_train2['score']\n",
      "X_test = df_test['text'].apply(decodeArray)\n",
      "y_test = df_test['score']"
     ],
     "language": "python",
     "metadata": {},
     "outputs": [],
     "prompt_number": 82
    },
    {
     "cell_type": "heading",
     "level": 4,
     "metadata": {},
     "source": [
      "Confusion Matrix normalizer and plotter"
     ]
    },
    {
     "cell_type": "code",
     "collapsed": false,
     "input": [
      "def makeCM_plot(y_test, y_pred):\n",
      "    cm = confusion_matrix(y_test, y_pred)\n",
      "    cm=cm / cm.astype(np.float).sum(axis=1)\n",
      "    print cm\n",
      "    plt.matshow(cm)\n",
      "    plt.title('Confusion matrix')\n",
      "    plt.colorbar()\n",
      "    plt.ylabel('True label')\n",
      "    plt.xlabel('Predicted label')\n",
      "    plt.show()"
     ],
     "language": "python",
     "metadata": {},
     "outputs": [],
     "prompt_number": 3
    },
    {
     "cell_type": "heading",
     "level": 4,
     "metadata": {},
     "source": [
      "SVM"
     ]
    },
    {
     "cell_type": "code",
     "collapsed": false,
     "input": [
      "SVM_Vectorizer=TfidfVectorizer(analyzer='word', binary=True, charset=None,\n",
      "        charset_error=None, decode_error=u'strict',\n",
      "        encoding=u'utf-8', input=u'content',\n",
      "        lowercase=True, max_df=1.0, max_features=None, min_df=2,\n",
      "        ngram_range=(1, 2), norm=u'l2', preprocessor=None, smooth_idf=True,\n",
      "        stop_words=None, strip_accents=None, sublinear_tf=False,\n",
      "        token_pattern=u'(?u)\\\\b\\\\w\\\\w+\\\\b', tokenizer=None, use_idf=True,\n",
      "        vocabulary=None)\n",
      "\n",
      "SVM_clf=svm.LinearSVC(loss='l2', penalty='l1', dual=False)\n",
      "SVM_pipeline=Pipeline([('vect', SVM_Vectorizer),('clf', SVM_clf)])\n",
      "SVM_pipeline.fit(X_train, y_train)"
     ],
     "language": "python",
     "metadata": {},
     "outputs": [
      {
       "metadata": {},
       "output_type": "pyout",
       "prompt_number": 4,
       "text": [
        "Pipeline(steps=[('vect', TfidfVectorizer(analyzer='word', binary=False, charset=None,\n",
        "        charset_error=None, decode_error=u'strict',\n",
        "        dtype=<type 'numpy.int64'>, encoding=u'utf-8', input=u'content',\n",
        "        lowercase=True, max_df=1.0, max_features=None, min_df=2,\n",
        "        ngram_range=(1, 2), norm=...ling=1, loss='l2', multi_class='ovr', penalty='l1',\n",
        "     random_state=None, tol=0.0001, verbose=0))])"
       ]
      }
     ],
     "prompt_number": 4
    },
    {
     "cell_type": "code",
     "collapsed": false,
     "input": [
      "SVM_pipeline.score(X_train, y_train)"
     ],
     "language": "python",
     "metadata": {},
     "outputs": [
      {
       "metadata": {},
       "output_type": "pyout",
       "prompt_number": 84,
       "text": [
        "0.85381368410719549"
       ]
      }
     ],
     "prompt_number": 84
    },
    {
     "cell_type": "code",
     "collapsed": false,
     "input": [
      "y_SVMpred = SVM_pipeline.predict(X_train2)"
     ],
     "language": "python",
     "metadata": {},
     "outputs": [],
     "prompt_number": 85
    },
    {
     "cell_type": "code",
     "collapsed": false,
     "input": [
      "y_SVMtest = SVM_pipeline.predict(X_test)"
     ],
     "language": "python",
     "metadata": {},
     "outputs": [],
     "prompt_number": 92
    },
    {
     "cell_type": "heading",
     "level": 4,
     "metadata": {},
     "source": [
      "Naive Bayes"
     ]
    },
    {
     "cell_type": "code",
     "collapsed": false,
     "input": [
      "#The parameters for the best NB classifier (cross-validated elsewhere) are as follows:\n",
      "NB_Vectorizer=TfidfVectorizer(analyzer='word', binary=False, charset=None,charset_error=None,decode_error='strict',\n",
      "                       encoding='utf-8',lowercase=True,\n",
      "                       max_df=1.0,max_features=None,min_df=1,ngram_range=(1, 3),norm='l2',\n",
      "                       preprocessor=None,smooth_idf=False,stop_words=None,strip_accents=None,\n",
      "                       sublinear_tf=False,token_pattern='(?u)\\\\b\\\\w\\\\w+\\\\b',tokenizer=None,use_idf=False,vocabulary=None)\n",
      "#Classsifier:\n",
      "NB_clf=MultinomialNB(alpha=0.1, class_prior=None, fit_prior=True)\n",
      "NB_pipeline=Pipeline([('vect', NB_Vectorizer),('clf', NB_clf)])\n",
      "NB_pipeline.fit(X_train,y_train)"
     ],
     "language": "python",
     "metadata": {},
     "outputs": [
      {
       "metadata": {},
       "output_type": "pyout",
       "prompt_number": 7,
       "text": [
        "Pipeline(steps=[('vect', TfidfVectorizer(analyzer='word', binary=False, charset=None,\n",
        "        charset_error=None, decode_error='strict',\n",
        "        dtype=<type 'numpy.int64'>, encoding='utf-8', input=u'content',\n",
        "        lowercase=True, max_df=1.0, max_features=None, min_df=1,\n",
        "        ngram_range=(1, 3), norm='l...lse,\n",
        "        vocabulary=None)), ('clf', MultinomialNB(alpha=0.1, class_prior=None, fit_prior=True))])"
       ]
      }
     ],
     "prompt_number": 7
    },
    {
     "cell_type": "code",
     "collapsed": false,
     "input": [
      "NB_pipeline.score(X_train, y_train)"
     ],
     "language": "python",
     "metadata": {},
     "outputs": [
      {
       "metadata": {},
       "output_type": "pyout",
       "prompt_number": 8,
       "text": [
        "0.98798468636497494"
       ]
      }
     ],
     "prompt_number": 8
    },
    {
     "cell_type": "code",
     "collapsed": false,
     "input": [
      "y_NBpred = NB_pipeline.predict(X_train2)"
     ],
     "language": "python",
     "metadata": {},
     "outputs": [],
     "prompt_number": 86
    },
    {
     "cell_type": "code",
     "collapsed": false,
     "input": [
      "y_NBtest = NB_pipeline.predict(X_test)"
     ],
     "language": "python",
     "metadata": {},
     "outputs": [],
     "prompt_number": 91
    },
    {
     "cell_type": "heading",
     "level": 4,
     "metadata": {},
     "source": [
      "Load sentiment files for Bag of Words"
     ]
    },
    {
     "cell_type": "code",
     "collapsed": false,
     "input": [
      "# Load the positive and negative word files from http://www.cs.uic.edu/~liub/FBS/sentiment-analysis.html\n",
      "# Direct link http://www.cs.uic.edu/~liub/FBS/opinion-lexicon-English.rar\n",
      "\n",
      "posfn = './opinion-lexicon-English/positive-words.txt'\n",
      "negfn = './opinion-lexicon-English/negative-words.txt'\n",
      "\n",
      "poswords = pd.read_table(posfn,skiprows=35,header=None,squeeze=True)\n",
      "\n",
      "poswords.dropna(how='all',inplace=True)\n",
      "poswords.reset_index(drop=True,inplace=True)\n",
      "\n",
      "negwords = pd.read_csv(negfn, skiprows=35, header=None, squeeze=True)\n",
      "negwords.dropna(how='all',inplace=True)\n",
      "negwords.reset_index(drop=True,inplace=True)\n",
      "\n",
      "# Find columns in vectorized data that correspond to positive or negative words\n",
      "\n",
      "vectorizer = CountVectorizer(decode_error='replace', strip_accents='ascii',stop_words='english')\n",
      "Xmat_train = vectorizer.fit_transform(df_train['text'])\n",
      "Xmat_train2 = vectorizer.fit_transform(df_train2['text'])\n",
      "Xmat_test = vectorizer.fit_transform(df_test['text'])\n",
      "vocab = vectorizer.vocabulary_\n",
      "\n",
      "poscol, negcol = [], []\n",
      "for word in poswords:\n",
      "    if word in vocab:\n",
      "        poscol.append(vocab[word])\n",
      "for word in negwords:\n",
      "    if word in vocab:\n",
      "        negcol.append(vocab[word])\n",
      "\n",
      "vectorizerpos = CountVectorizer(decode_error='replace', strip_accents='ascii',stop_words='english', vocabulary=poswords)\n",
      "Xpos_train = vectorizerpos.fit_transform(df_train['text'])\n",
      "Xpos_train2 = vectorizerpos.fit_transform(df_train2['text'])\n",
      "Xpos_test = vectorizerpos.fit_transform(df_test['text'])\n",
      "\n",
      "vectorizerneg = CountVectorizer(decode_error='replace', strip_accents='ascii',stop_words='english', vocabulary=negwords)\n",
      "Xneg_train = vectorizerneg.fit_transform(df_train['text'])\n",
      "Xneg_train2 = vectorizerneg.fit_transform(df_train2['text'])\n",
      "Xneg_test = vectorizerneg.fit_transform(df_test['text'])\n",
      "\n",
      "from __future__ import division\n",
      "poscnt = np.array(Xpos_train.sum(1)).flatten()\n",
      "negcnt = np.array(Xneg_train.sum(1)).flatten()\n",
      "fullcnt = np.array(Xmat_train.sum(1)).flatten()\n",
      "score = (poscnt - negcnt) / fullcnt\n",
      "df_train['text_score'] = 10*score\n",
      "\n",
      "def safelen(x):\n",
      "    try:\n",
      "        return len(x) / 100 #feature scaling\n",
      "    except:\n",
      "        return 0\n",
      "df_train['textlen'] = df_train['text'].apply(safelen)\n",
      "\n",
      "poscnt = np.array(Xpos_train2.sum(1)).flatten()\n",
      "negcnt = np.array(Xneg_train2.sum(1)).flatten()\n",
      "fullcnt = np.array(Xmat_train2.sum(1)).flatten()\n",
      "score = (poscnt - negcnt) / fullcnt\n",
      "\n",
      "df_train2['text_score'] = 10*score\n",
      "df_train2['textlen'] = df_train2['text'].apply(safelen)\n",
      "\n",
      "\n",
      "poscnt = np.array(Xpos_test.sum(1)).flatten()\n",
      "negcnt = np.array(Xneg_test.sum(1)).flatten()\n",
      "fullcnt = np.array(Xmat_test.sum(1)).flatten()\n",
      "score = (poscnt - negcnt) / fullcnt\n",
      "\n",
      "df_test['text_score'] = 10*score\n",
      "df_test['textlen'] = df_test['text'].apply(safelen)\n",
      "\n",
      "#df.dropna(inplace=True)"
     ],
     "language": "python",
     "metadata": {},
     "outputs": [],
     "prompt_number": 104
    },
    {
     "cell_type": "code",
     "collapsed": false,
     "input": [
      "Xtra_train = df_train[['text_score', 'textlen']].as_matrix()\n",
      "Xtxtsc_train = df_train[['text_score']].as_matrix()\n",
      "Xtxtlen_train = df_train[['textlen']].as_matrix()\n",
      "Xtxtsc_train2 = df_train2[['text_score']].as_matrix()\n",
      "Xtxtlen_train2 = df_train2[['textlen']].as_matrix()\n",
      "Xtra_test = df_test[['text_score', 'textlen']].as_matrix()\n",
      "\n",
      "Xtxtsc_train = Xtxtsc_train.flatten()\n",
      "Xtxtlen_train = Xtxtlen_train.flatten()"
     ],
     "language": "python",
     "metadata": {},
     "outputs": [],
     "prompt_number": 105
    },
    {
     "cell_type": "code",
     "collapsed": false,
     "input": [
      "A=np.vstack((Xtxtsc_train2, y_SVMpred, y_NBpred))"
     ],
     "language": "python",
     "metadata": {},
     "outputs": [
      {
       "ename": "ValueError",
       "evalue": "all the input array dimensions except for the concatenation axis must match exactly",
       "output_type": "pyerr",
       "traceback": [
        "\u001b[0;31m---------------------------------------------------------------------------\u001b[0m\n\u001b[0;31mValueError\u001b[0m                                Traceback (most recent call last)",
        "\u001b[0;32m<ipython-input-112-0f76dd10675b>\u001b[0m in \u001b[0;36m<module>\u001b[0;34m()\u001b[0m\n\u001b[0;32m----> 1\u001b[0;31m \u001b[0mA\u001b[0m\u001b[0;34m=\u001b[0m\u001b[0mnp\u001b[0m\u001b[0;34m.\u001b[0m\u001b[0mvstack\u001b[0m\u001b[0;34m(\u001b[0m\u001b[0;34m(\u001b[0m\u001b[0mXtxtsc_train2\u001b[0m\u001b[0;34m,\u001b[0m \u001b[0my_SVMpred\u001b[0m\u001b[0;34m,\u001b[0m \u001b[0my_NBpred\u001b[0m\u001b[0;34m)\u001b[0m\u001b[0;34m)\u001b[0m\u001b[0;34m\u001b[0m\u001b[0m\n\u001b[0m",
        "\u001b[0;32m/usr/local/lib/python2.7/site-packages/numpy/core/shape_base.pyc\u001b[0m in \u001b[0;36mvstack\u001b[0;34m(tup)\u001b[0m\n\u001b[1;32m    226\u001b[0m \u001b[0;34m\u001b[0m\u001b[0m\n\u001b[1;32m    227\u001b[0m     \"\"\"\n\u001b[0;32m--> 228\u001b[0;31m     \u001b[0;32mreturn\u001b[0m \u001b[0m_nx\u001b[0m\u001b[0;34m.\u001b[0m\u001b[0mconcatenate\u001b[0m\u001b[0;34m(\u001b[0m\u001b[0;34m[\u001b[0m\u001b[0matleast_2d\u001b[0m\u001b[0;34m(\u001b[0m\u001b[0m_m\u001b[0m\u001b[0;34m)\u001b[0m \u001b[0;32mfor\u001b[0m \u001b[0m_m\u001b[0m \u001b[0;32min\u001b[0m \u001b[0mtup\u001b[0m\u001b[0;34m]\u001b[0m\u001b[0;34m,\u001b[0m \u001b[0;36m0\u001b[0m\u001b[0;34m)\u001b[0m\u001b[0;34m\u001b[0m\u001b[0m\n\u001b[0m\u001b[1;32m    229\u001b[0m \u001b[0;34m\u001b[0m\u001b[0m\n\u001b[1;32m    230\u001b[0m \u001b[0;32mdef\u001b[0m \u001b[0mhstack\u001b[0m\u001b[0;34m(\u001b[0m\u001b[0mtup\u001b[0m\u001b[0;34m)\u001b[0m\u001b[0;34m:\u001b[0m\u001b[0;34m\u001b[0m\u001b[0m\n",
        "\u001b[0;31mValueError\u001b[0m: all the input array dimensions except for the concatenation axis must match exactly"
       ]
      }
     ],
     "prompt_number": 112
    },
    {
     "cell_type": "code",
     "collapsed": false,
     "input": [
      "len(Xtxtsc_train2)"
     ],
     "language": "python",
     "metadata": {},
     "outputs": [
      {
       "metadata": {},
       "output_type": "pyout",
       "prompt_number": 109,
       "text": [
        "21830"
       ]
      }
     ],
     "prompt_number": 109
    },
    {
     "cell_type": "code",
     "collapsed": false,
     "input": [
      "len(y_SVMpred)"
     ],
     "language": "python",
     "metadata": {},
     "outputs": [
      {
       "metadata": {},
       "output_type": "pyout",
       "prompt_number": 111,
       "text": [
        "21830"
       ]
      }
     ],
     "prompt_number": 111
    },
    {
     "cell_type": "code",
     "collapsed": false,
     "input": [
      "logreg = linear_model.LogisticRegression()"
     ],
     "language": "python",
     "metadata": {},
     "outputs": [],
     "prompt_number": 101
    },
    {
     "cell_type": "code",
     "collapsed": false,
     "input": [
      "Ens_train2 = np.vstack((y_SVMpred, y_NBpred)).transpose()"
     ],
     "language": "python",
     "metadata": {},
     "outputs": [],
     "prompt_number": 116
    },
    {
     "cell_type": "code",
     "collapsed": false,
     "input": [
      "logreg.fit(Ens_train2, y_train2)"
     ],
     "language": "python",
     "metadata": {},
     "outputs": [
      {
       "metadata": {},
       "output_type": "pyout",
       "prompt_number": 102,
       "text": [
        "LogisticRegression(C=1.0, class_weight=None, dual=False, fit_intercept=True,\n",
        "          intercept_scaling=1, penalty='l2', random_state=None, tol=0.0001)"
       ]
      }
     ],
     "prompt_number": 102
    },
    {
     "cell_type": "code",
     "collapsed": false,
     "input": [
      "logreg.score(Ens_train2, y_train2)"
     ],
     "language": "python",
     "metadata": {},
     "outputs": [
      {
       "metadata": {},
       "output_type": "pyout",
       "prompt_number": 98,
       "text": [
        "0.46454420522217132"
       ]
      }
     ],
     "prompt_number": 98
    },
    {
     "cell_type": "code",
     "collapsed": false,
     "input": [
      "Ens_test = np.vstack((y_SVMtest, y_NBtest)).transpose()"
     ],
     "language": "python",
     "metadata": {},
     "outputs": [],
     "prompt_number": 93
    },
    {
     "cell_type": "code",
     "collapsed": false,
     "input": [
      "y_Enspred = logreg.predict(Ens_test)"
     ],
     "language": "python",
     "metadata": {},
     "outputs": [],
     "prompt_number": 99
    },
    {
     "cell_type": "code",
     "collapsed": false,
     "input": [
      "makeCM_plot(y_test, y_Enspred)"
     ],
     "language": "python",
     "metadata": {},
     "outputs": [
      {
       "output_type": "stream",
       "stream": "stdout",
       "text": [
        "[[ 0.81516512  0.0803142   0.05995511  0.02436678  0.02019878]\n",
        " [ 0.53622956  0.1769798   0.18002565  0.0575505   0.04921449]\n",
        " [ 0.22042321  0.16142995  0.34578391  0.12792562  0.14443732]\n",
        " [ 0.05787111  0.05706957  0.18146842  0.15421609  0.5493748 ]\n",
        " [ 0.03350433  0.01763386  0.0472908   0.06091696  0.84065406]]\n"
       ]
      },
      {
       "metadata": {},
       "output_type": "display_data",
       "png": "[encoded data removed]",
       "text": [
        "<matplotlib.figure.Figure at 0x122e37e90>"
       ]
      }
     ],
     "prompt_number": 100
    },
    {
     "cell_type": "code",
     "collapsed": false,
     "input": [],
     "language": "python",
     "metadata": {},
     "outputs": []
    }
   ],
   "metadata": {}
  }
 ]
}
