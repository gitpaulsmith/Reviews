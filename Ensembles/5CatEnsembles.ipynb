{
 "metadata": {
  "name": "",
  "signature": "sha256:387705987025bc77a854a39e3e26de14ac2fc06c32752bfebb0444ede631cc37"
 },
 "nbformat": 3,
 "nbformat_minor": 0,
 "worksheets": [
  {
   "cells": [
    {
     "cell_type": "heading",
     "level": 4,
     "metadata": {},
     "source": [
      "Import required packages"
     ]
    },
    {
     "cell_type": "code",
     "collapsed": false,
     "input": [
      "import math\n",
      "import scipy\n",
      "import numpy as np\n",
      "import pandas as pd\n",
      "\n",
      "import matplotlib.pyplot as plt\n",
      "%matplotlib inline\n",
      "\n",
      "import joblib\n",
      "import cPickle\n",
      "\n",
      "from sklearn.feature_extraction.text import CountVectorizer\n",
      "from sklearn.feature_extraction.text import TfidfVectorizer\n",
      "from sklearn.linear_model import LinearRegression\n",
      "from sklearn.tree import DecisionTreeClassifier\n",
      "from sklearn import linear_model\n",
      "from sklearn import svm\n",
      "from sklearn.naive_bayes import MultinomialNB\n",
      "from sklearn.pipeline import Pipeline\n",
      "from sklearn.cross_validation import ShuffleSplit\n",
      "from sklearn.metrics import confusion_matrix"
     ],
     "language": "python",
     "metadata": {},
     "outputs": [],
     "prompt_number": 28
    },
    {
     "cell_type": "heading",
     "level": 4,
     "metadata": {},
     "source": [
      "Load the data"
     ]
    },
    {
     "cell_type": "code",
     "collapsed": false,
     "input": [
      "df = pd.read_csv('scrubbed_foods.csv','\\t!\\t')\n",
      "df.drop_duplicates('text',inplace=True)\n",
      "\n",
      "#Shuffle the data\n",
      "#df = df.reindex(np.random.permutation(df.index))\n",
      "\n",
      "df_1star = pd.DataFrame(df[df['score']==1],columns=['score','text'])\n",
      "df_2star = pd.DataFrame(df[df['score']==2],columns=['score','text'])\n",
      "df_3star = pd.DataFrame(df[df['score']==3],columns=['score','text'])\n",
      "df_4star = pd.DataFrame(df[df['score']==4],columns=['score','text'])\n",
      "df_5star = pd.DataFrame(df[df['score']==5],columns=['score','text'])\n",
      "\n",
      "min_star_length = min(len(df_1star), len(df_2star), len(df_3star), len(df_4star), len(df_5star))\n",
      "\n",
      "#Train and test on data with stars equally distributed across classes\n",
      "#Percentage of data to use in training and cross-validation:\n",
      "frac = 0.7\n",
      "idx1 = int(min_star_length*frac*frac)\n",
      "idx2 = int(min_star_length*frac)\n",
      "idx3 = min_star_length\n",
      "\n",
      "training_data = [df_1star[:idx1],df_2star[:idx1], df_3star[:idx1], df_4star[:idx1], df_5star[:idx1]]\n",
      "training_data2 = [df_1star[idx1:idx2],df_2star[idx1:idx2], df_3star[idx1:idx2], df_4star[idx1:idx2], df_5star[idx1:idx2]]\n",
      "testing_data = [df_1star[idx2:idx3],df_2star[idx2:idx3], df_3star[idx2:idx3], df_4star[idx2:idx3], df_5star[idx2:idx3]]\n",
      "del df_1star, df_2star, df_3star, df_4star, df_5star\n",
      "\n",
      "df_train = pd.concat(training_data)\n",
      "df_train2 = pd.concat(training_data2)\n",
      "df_test = pd.concat(testing_data)\n",
      "del training_data, training_data2, testing_data\n",
      "\n",
      "def decodeArray(text):\n",
      "    try:\n",
      "        return text.decode('utf-8','replace')\n",
      "    except:\n",
      "        return 0\n",
      "\n",
      "X_train = df_train['text'].apply(decodeArray)\n",
      "y_train = df_train['score']\n",
      "X_train2 = df_train2['text'].apply(decodeArray)\n",
      "y_train2 = df_train2['score']\n",
      "X_test = df_test['text'].apply(decodeArray)\n",
      "y_test = df_test['score']"
     ],
     "language": "python",
     "metadata": {},
     "outputs": [
      {
       "output_type": "stream",
       "stream": "stderr",
       "text": [
        "/usr/local/lib/python2.7/site-packages/pandas/io/parsers.py:615: ParserWarning: Falling back to the 'python' engine because the 'c' engine does not support regex separators; you can avoid this warning by specifying engine='python'.\n",
        "  ParserWarning)\n"
       ]
      }
     ],
     "prompt_number": 2
    },
    {
     "cell_type": "heading",
     "level": 4,
     "metadata": {},
     "source": [
      "Confusion Matrix normalizer and plotter"
     ]
    },
    {
     "cell_type": "code",
     "collapsed": false,
     "input": [
      "def makeCM_plot(y_test, y_pred):\n",
      "    cm = confusion_matrix(y_test, y_pred)\n",
      "    cm=cm / cm.astype(np.float).sum(axis=1)\n",
      "    print cm\n",
      "    plt.matshow(cm)\n",
      "    plt.title('Confusion matrix')\n",
      "    plt.colorbar()\n",
      "    plt.ylabel('True label')\n",
      "    plt.xlabel('Predicted label')\n",
      "    plt.show()"
     ],
     "language": "python",
     "metadata": {},
     "outputs": [],
     "prompt_number": 3
    },
    {
     "cell_type": "heading",
     "level": 4,
     "metadata": {},
     "source": [
      "Covariance and descriptive statistics"
     ]
    },
    {
     "cell_type": "code",
     "collapsed": false,
     "input": [
      "def mu(x1):\n",
      "    return x1.sum()/len(x1)\n",
      "\n",
      "def ErrorEst(y_act, y_test):\n",
      "    return np.mean(np.abs(y_test - y_act))\n",
      "\n",
      "def cov(x1, x2):\n",
      "    return np.dot(x1, x2)/len(x1)\n",
      "\n",
      "def stdev(x):\n",
      "    return math.sqrt(cov(x - mu(x), x - mu(x)))\n",
      "\n",
      "def optimal_weights(X1, X2, X3):\n",
      "    X1 = X1 - mu(X1)\n",
      "    X2 = X2 - mu(X2)\n",
      "    X3 = X3 - mu(X3)\n",
      "    \n",
      "    sigma_11 = cov(X1, X1)\n",
      "    sigma_12 = cov(X1, X2)\n",
      "    sigma_13 = cov(X1, X3)\n",
      "    sigma_21 = sigma_12\n",
      "    sigma_22 = cov(X2, X2)\n",
      "    sigma_23 = cov(X2, X3)\n",
      "    sigma_31 = sigma_13\n",
      "    sigma_32 = sigma_23\n",
      "    sigma_33 = cov(X3, X3)\n",
      "    \n",
      "    A = np.array([[2*sigma_11, 2*sigma_12, 2*sigma_13, 1],\n",
      "     [2*sigma_21, 2*sigma_22, 2*sigma_23, 1],\n",
      "     [2*sigma_31, 2*sigma_32, 2*sigma_33, 1],\n",
      "     [1, 1, 1, 0]])\n",
      "    b = np.array([0,0,0,1]).transpose()\n",
      "    \n",
      "    z = np.dot(np.linalg.inv(A), b)\n",
      "    \n",
      "    w1=z[0]\n",
      "    w2=z[1]\n",
      "    w3=z[2]\n",
      "    \n",
      "    w = np.array([w1, w2, w3])\n",
      "    return w"
     ],
     "language": "python",
     "metadata": {},
     "outputs": [],
     "prompt_number": 22
    },
    {
     "cell_type": "heading",
     "level": 4,
     "metadata": {},
     "source": [
      "SVM"
     ]
    },
    {
     "cell_type": "code",
     "collapsed": false,
     "input": [
      "SVM_Vectorizer=TfidfVectorizer(analyzer='word', binary=True, charset=None,\n",
      "        charset_error=None, decode_error=u'strict',\n",
      "        encoding=u'utf-8', input=u'content',\n",
      "        lowercase=True, max_df=1.0, max_features=None, min_df=2,\n",
      "        ngram_range=(1, 2), norm=u'l2', preprocessor=None, smooth_idf=True,\n",
      "        stop_words=None, strip_accents=None, sublinear_tf=False,\n",
      "        token_pattern=u'(?u)\\\\b\\\\w\\\\w+\\\\b', tokenizer=None, use_idf=True,\n",
      "        vocabulary=None)\n",
      "\n",
      "SVM_clf=svm.LinearSVC(loss='l2', penalty='l1', dual=False)\n",
      "SVM_pipeline=Pipeline([('vect', SVM_Vectorizer),('clf', SVM_clf)])\n",
      "SVM_pipeline.fit(X_train, y_train)"
     ],
     "language": "python",
     "metadata": {},
     "outputs": [
      {
       "metadata": {},
       "output_type": "pyout",
       "prompt_number": 5,
       "text": [
        "Pipeline(steps=[('vect', TfidfVectorizer(analyzer='word', binary=False, charset=None,\n",
        "        charset_error=None, decode_error=u'strict',\n",
        "        dtype=<type 'numpy.int64'>, encoding=u'utf-8', input=u'content',\n",
        "        lowercase=True, max_df=1.0, max_features=None, min_df=2,\n",
        "        ngram_range=(1, 2), norm=...ling=1, loss='l2', multi_class='ovr', penalty='l1',\n",
        "     random_state=None, tol=0.0001, verbose=0))])"
       ]
      }
     ],
     "prompt_number": 5
    },
    {
     "cell_type": "code",
     "collapsed": false,
     "input": [
      "#Use to dump pipeline to file\n",
      "joblib.dump(SVM_pipeline, 'SVM.joblib')"
     ],
     "language": "python",
     "metadata": {},
     "outputs": [
      {
       "metadata": {},
       "output_type": "pyout",
       "prompt_number": 7,
       "text": [
        "['SVM.joblib',\n",
        " 'SVM.joblib_01.npy',\n",
        " 'SVM.joblib_02.npy',\n",
        " 'SVM.joblib_03.npy',\n",
        " 'SVM.joblib_04.npy',\n",
        " 'SVM.joblib_05.npy',\n",
        " 'SVM.joblib_06.npy',\n",
        " 'SVM.joblib_07.npy']"
       ]
      }
     ],
     "prompt_number": 7
    },
    {
     "cell_type": "code",
     "collapsed": false,
     "input": [
      "SVM_pipeline.score(X_train, y_train)"
     ],
     "language": "python",
     "metadata": {},
     "outputs": [
      {
       "metadata": {},
       "output_type": "pyout",
       "prompt_number": 8,
       "text": [
        "0.85385294983802884"
       ]
      }
     ],
     "prompt_number": 8
    },
    {
     "cell_type": "code",
     "collapsed": false,
     "input": [
      "y_SVMpred = SVM_pipeline.predict(X_train2)\n",
      "y_SVMtest = SVM_pipeline.predict(X_test)\n",
      "err_SVM_train = y_SVMpred - y_train2\n",
      "err_SVM_test = y_SVMtest - y_test"
     ],
     "language": "python",
     "metadata": {},
     "outputs": [],
     "prompt_number": 9
    },
    {
     "cell_type": "code",
     "collapsed": false,
     "input": [
      "print ErrorEst(y_train2, y_SVMpred)\n",
      "print stdev(err_SVM_train)\n",
      "print ErrorEst(y_test, y_SVMtest)\n",
      "print stdev(err_SVM_test)"
     ],
     "language": "python",
     "metadata": {},
     "outputs": [
      {
       "output_type": "stream",
       "stream": "stdout",
       "text": [
        "0.693403573065\n",
        "1.09213755847\n",
        "0.689195254889\n",
        "1.09734760251\n"
       ]
      }
     ],
     "prompt_number": 12
    },
    {
     "cell_type": "heading",
     "level": 4,
     "metadata": {},
     "source": [
      "Naive Bayes"
     ]
    },
    {
     "cell_type": "code",
     "collapsed": false,
     "input": [
      "#The parameters for the best NB classifier (cross-validated elsewhere) are as follows:\n",
      "NB_Vectorizer=TfidfVectorizer(analyzer='word', binary=False, charset=None,charset_error=None,decode_error='strict',\n",
      "                       encoding='utf-8',lowercase=True,\n",
      "                       max_df=1.0,max_features=None,min_df=1,ngram_range=(1, 3),norm='l2',\n",
      "                       preprocessor=None,smooth_idf=False,stop_words=None,strip_accents=None,\n",
      "                       sublinear_tf=False,token_pattern='(?u)\\\\b\\\\w\\\\w+\\\\b',tokenizer=None,use_idf=False,vocabulary=None)\n",
      "#Classsifier:\n",
      "NB_clf=MultinomialNB(alpha=0.1, class_prior=None, fit_prior=True)\n",
      "NB_pipeline=Pipeline([('vect', NB_Vectorizer),('clf', NB_clf)])\n",
      "NB_pipeline.fit(X_train,y_train)"
     ],
     "language": "python",
     "metadata": {},
     "outputs": [
      {
       "metadata": {},
       "output_type": "pyout",
       "prompt_number": 13,
       "text": [
        "Pipeline(steps=[('vect', TfidfVectorizer(analyzer='word', binary=False, charset=None,\n",
        "        charset_error=None, decode_error='strict',\n",
        "        dtype=<type 'numpy.int64'>, encoding='utf-8', input=u'content',\n",
        "        lowercase=True, max_df=1.0, max_features=None, min_df=1,\n",
        "        ngram_range=(1, 3), norm='l...lse,\n",
        "        vocabulary=None)), ('clf', MultinomialNB(alpha=0.1, class_prior=None, fit_prior=True))])"
       ]
      }
     ],
     "prompt_number": 13
    },
    {
     "cell_type": "code",
     "collapsed": false,
     "input": [
      "joblib.dump(NB_pipeline, 'NB.joblib')"
     ],
     "language": "python",
     "metadata": {},
     "outputs": [],
     "prompt_number": 203
    },
    {
     "cell_type": "code",
     "collapsed": false,
     "input": [
      "NB_pipeline.score(X_train, y_train)"
     ],
     "language": "python",
     "metadata": {},
     "outputs": [
      {
       "metadata": {},
       "output_type": "pyout",
       "prompt_number": 14,
       "text": [
        "0.98798468636497494"
       ]
      }
     ],
     "prompt_number": 14
    },
    {
     "cell_type": "code",
     "collapsed": false,
     "input": [
      "y_NBpred = NB_pipeline.predict(X_train2)\n",
      "y_NBtest = NB_pipeline.predict(X_test)\n",
      "err_NB_train = y_NBpred - y_train2\n",
      "err_NB_test = y_NBtest - y_test"
     ],
     "language": "python",
     "metadata": {},
     "outputs": [],
     "prompt_number": 15
    },
    {
     "cell_type": "code",
     "collapsed": false,
     "input": [
      "print ErrorEst(y_train2, y_NBpred)\n",
      "print stdev(err_NB_train)\n",
      "print ErrorEst(y_test, y_NBtest)\n",
      "print stdev(err_NB_test)"
     ],
     "language": "python",
     "metadata": {},
     "outputs": [
      {
       "output_type": "stream",
       "stream": "stdout",
       "text": [
        "0.657214841961\n",
        "1.00428362817\n",
        "0.648348829753\n",
        "1.01500900808\n"
       ]
      }
     ],
     "prompt_number": 16
    },
    {
     "cell_type": "heading",
     "level": 4,
     "metadata": {},
     "source": [
      "Logreg"
     ]
    },
    {
     "cell_type": "code",
     "collapsed": false,
     "input": [
      "Logreg_Vectorizer=TfidfVectorizer(analyzer='word', binary=False, charset=None,charset_error=None,decode_error='strict',\n",
      "                       encoding='utf-8',lowercase=True,\n",
      "                       max_df=1.0,max_features=None,min_df=1,ngram_range=(1, 3),norm='l2',\n",
      "                       preprocessor=None,smooth_idf=False,stop_words=None,strip_accents=None,\n",
      "                       sublinear_tf=False,token_pattern='(?u)\\\\b\\\\w\\\\w+\\\\b',tokenizer=None,use_idf=False,vocabulary=None)\n",
      "#Classsifier:\n",
      "Logreg_clf=linear_model.LogisticRegression()\n",
      "Logreg_pipeline=Pipeline([('vect', Logreg_Vectorizer),('clf', Logreg_clf)])\n",
      "Logreg_pipeline.fit(X_train,y_train)"
     ],
     "language": "python",
     "metadata": {},
     "outputs": [
      {
       "metadata": {},
       "output_type": "pyout",
       "prompt_number": 17,
       "text": [
        "Pipeline(steps=[('vect', TfidfVectorizer(analyzer='word', binary=False, charset=None,\n",
        "        charset_error=None, decode_error='strict',\n",
        "        dtype=<type 'numpy.int64'>, encoding='utf-8', input=u'content',\n",
        "        lowercase=True, max_df=1.0, max_features=None, min_df=1,\n",
        "        ngram_range=(1, 3), norm='l...e, fit_intercept=True,\n",
        "          intercept_scaling=1, penalty='l2', random_state=None, tol=0.0001))])"
       ]
      }
     ],
     "prompt_number": 17
    },
    {
     "cell_type": "code",
     "collapsed": false,
     "input": [
      "joblib.dump(Logreg_pipeline, 'Logreg.joblib')"
     ],
     "language": "python",
     "metadata": {},
     "outputs": [],
     "prompt_number": 113
    },
    {
     "cell_type": "code",
     "collapsed": false,
     "input": [
      "Logreg_pipeline.score(X_train, y_train)"
     ],
     "language": "python",
     "metadata": {},
     "outputs": [
      {
       "metadata": {},
       "output_type": "pyout",
       "prompt_number": 18,
       "text": [
        "0.7388239913615392"
       ]
      }
     ],
     "prompt_number": 18
    },
    {
     "cell_type": "code",
     "collapsed": false,
     "input": [
      "y_Logregpred = Logreg_pipeline.predict(X_train2)\n",
      "y_Logregtest = Logreg_pipeline.predict(X_test)\n",
      "err_Logreg_train = y_Logregpred - y_train2\n",
      "err_Logreg_test = y_Logregtest - y_test"
     ],
     "language": "python",
     "metadata": {},
     "outputs": [],
     "prompt_number": 19
    },
    {
     "cell_type": "code",
     "collapsed": false,
     "input": [
      "print ErrorEst(y_train2, y_Logregpred)\n",
      "print stdev(err_Logreg_train)\n",
      "print ErrorEst(y_test, y_Logregtest)\n",
      "print stdev(err_Logreg_test)"
     ],
     "language": "python",
     "metadata": {},
     "outputs": [
      {
       "output_type": "stream",
       "stream": "stdout",
       "text": [
        "0.69519010536\n",
        "1.12339181709\n",
        "0.67358127605\n",
        "1.10785230975\n"
       ]
      }
     ],
     "prompt_number": 20
    },
    {
     "cell_type": "heading",
     "level": 1,
     "metadata": {},
     "source": [
      "Minimum variance averaged ensemble"
     ]
    },
    {
     "cell_type": "code",
     "collapsed": false,
     "input": [
      "w = optimal_weights(err_SVM_train, err_NB_train, err_Logreg_train)\n",
      "print w\n",
      "w1 = w[0]\n",
      "w2 = w[1]\n",
      "w3 = w[2]\n",
      "W_avg = np.rint((w1*y_SVMpred+w2*y_NBpred+w3*y_Logregpred))\n",
      "makeCM_plot(y_train2, W_avg)"
     ],
     "language": "python",
     "metadata": {},
     "outputs": [
      {
       "output_type": "stream",
       "stream": "stdout",
       "text": [
        "[ 0.31040161  0.49909226  0.19050613]\n",
        "[[ 0.58863949  0.28240953  0.09482364  0.02359139  0.01053596]\n",
        " [ 0.20728355  0.45556574  0.26454421  0.06229959  0.01030692]\n",
        " [ 0.06733852  0.27324782  0.4612918   0.16994961  0.02817224]\n",
        " [ 0.01580394  0.05680257  0.29157123  0.4457169   0.19010536]\n",
        " [ 0.01328447  0.02679798  0.08085204  0.30073294  0.57833257]]"
       ]
      },
      {
       "output_type": "stream",
       "stream": "stdout",
       "text": [
        "\n"
       ]
      },
      {
       "metadata": {},
       "output_type": "display_data",
       "png": "[encoded data removed]",
       "text": [
        "<matplotlib.figure.Figure at 0x11e7ef550>"
       ]
      }
     ],
     "prompt_number": 23
    },
    {
     "cell_type": "code",
     "collapsed": false,
     "input": [
      "print ErrorEst(y_train2, W_avg)\n",
      "print stdev(y_train2 - W_avg)"
     ],
     "language": "python",
     "metadata": {},
     "outputs": [
      {
       "output_type": "stream",
       "stream": "stdout",
       "text": [
        "0.617040769583\n",
        "0.959049852164\n"
       ]
      }
     ],
     "prompt_number": 24
    },
    {
     "cell_type": "code",
     "collapsed": false,
     "input": [
      "W2_avg = np.rint((w1*y_SVMtest+w2*y_NBtest+w3*y_Logregtest))\n",
      "makeCM_plot(y_test, W2_avg)"
     ],
     "language": "python",
     "metadata": {},
     "outputs": [
      {
       "output_type": "stream",
       "stream": "stdout",
       "text": [
        "[[ 0.5966656   0.28214171  0.08897082  0.02228278  0.00993908]\n",
        " [ 0.20214812  0.44565566  0.27220263  0.06716896  0.01282462]\n",
        " [ 0.0678102   0.23741584  0.4834883   0.17986534  0.03142033]\n",
        " [ 0.02100032  0.05915357  0.26691247  0.46168644  0.19124719]\n",
        " [ 0.01474832  0.03174094  0.06684835  0.28358448  0.60307791]]\n"
       ]
      },
      {
       "metadata": {},
       "output_type": "display_data",
       "png": "[encoded data removed]",
       "text": [
        "<matplotlib.figure.Figure at 0x120830f10>"
       ]
      }
     ],
     "prompt_number": 25
    },
    {
     "cell_type": "code",
     "collapsed": false,
     "input": [
      "print ErrorEst(y_test, W2_avg)\n",
      "print stdev(y_test - W2_avg)"
     ],
     "language": "python",
     "metadata": {},
     "outputs": [
      {
       "output_type": "stream",
       "stream": "stdout",
       "text": [
        "0.608111574223\n",
        "0.961476806597\n"
       ]
      }
     ],
     "prompt_number": 26
    },
    {
     "cell_type": "heading",
     "level": 1,
     "metadata": {},
     "source": [
      "Other ensembles"
     ]
    },
    {
     "cell_type": "markdown",
     "metadata": {},
     "source": [
      "By our performance metrics, the best of the methods below is the 'more averaging' method, which averages y_SVMpred, y_NBpred, and y_Logregpred with equal weight. Note, however, that by our performance metrics, the minimum variance averaging given above performs slightly better."
     ]
    },
    {
     "cell_type": "code",
     "collapsed": false,
     "input": [
      "X_enstrain = np.vstack((y_SVMpred, y_NBpred, y_Logregpred)).transpose()\n",
      "X_enstest = np.vstack((y_SVMtest, y_NBtest, y_Logregtest)).transpose()"
     ],
     "language": "python",
     "metadata": {},
     "outputs": [],
     "prompt_number": 27
    },
    {
     "cell_type": "heading",
     "level": 4,
     "metadata": {},
     "source": [
      "Decision Tree"
     ]
    },
    {
     "cell_type": "code",
     "collapsed": false,
     "input": [
      "DT = DecisionTreeClassifier()"
     ],
     "language": "python",
     "metadata": {},
     "outputs": [],
     "prompt_number": 29
    },
    {
     "cell_type": "code",
     "collapsed": false,
     "input": [
      "DT.fit(X_enstrain, y_train2)"
     ],
     "language": "python",
     "metadata": {},
     "outputs": [
      {
       "metadata": {},
       "output_type": "pyout",
       "prompt_number": 30,
       "text": [
        "DecisionTreeClassifier(compute_importances=None, criterion='gini',\n",
        "            max_depth=None, max_features=None, min_density=None,\n",
        "            min_samples_leaf=1, min_samples_split=2, random_state=None,\n",
        "            splitter='best')"
       ]
      }
     ],
     "prompt_number": 30
    },
    {
     "cell_type": "code",
     "collapsed": false,
     "input": [
      "DT.score(X_enstrain, y_train2)"
     ],
     "language": "python",
     "metadata": {},
     "outputs": [
      {
       "metadata": {},
       "output_type": "pyout",
       "prompt_number": 31,
       "text": [
        "0.52863032524049469"
       ]
      }
     ],
     "prompt_number": 31
    },
    {
     "cell_type": "code",
     "collapsed": false,
     "input": [
      "y_DTout = DT.predict(X_enstest)"
     ],
     "language": "python",
     "metadata": {},
     "outputs": [],
     "prompt_number": 32
    },
    {
     "cell_type": "code",
     "collapsed": false,
     "input": [
      "makeCM_plot(y_test, y_DTout)"
     ],
     "language": "python",
     "metadata": {},
     "outputs": [
      {
       "output_type": "stream",
       "stream": "stdout",
       "text": [
        "[[ 0.70198782  0.19493427  0.06027573  0.02276371  0.02003847]\n",
        " [ 0.2901571   0.39756332  0.20310997  0.08207759  0.02709202]\n",
        " [ 0.12151331  0.22154537  0.37415838  0.23485091  0.04793203]\n",
        " [ 0.04680987  0.05370311  0.17136903  0.48589291  0.24222507]\n",
        " [ 0.04232126  0.02292401  0.02997756  0.22202629  0.68275088]]\n"
       ]
      },
      {
       "metadata": {},
       "output_type": "display_data",
       "png": "[encoded data removed]",
       "text": [
        "<matplotlib.figure.Figure at 0x107b87c50>"
       ]
      }
     ],
     "prompt_number": 33
    },
    {
     "cell_type": "code",
     "collapsed": false,
     "input": [
      "print ErrorEst(y_test, y_DTout)\n",
      "print stdev(y_test-y_DTout)"
     ],
     "language": "python",
     "metadata": {},
     "outputs": [
      {
       "output_type": "stream",
       "stream": "stdout",
       "text": [
        "0.635876883617\n",
        "1.04187312165\n"
       ]
      }
     ],
     "prompt_number": 34
    },
    {
     "cell_type": "heading",
     "level": 4,
     "metadata": {},
     "source": [
      "Averaging of SVM and NB"
     ]
    },
    {
     "cell_type": "code",
     "collapsed": false,
     "input": [
      "X_avg = (y_SVMpred + y_NBpred)/2"
     ],
     "language": "python",
     "metadata": {},
     "outputs": [],
     "prompt_number": 35
    },
    {
     "cell_type": "code",
     "collapsed": false,
     "input": [
      "X_avg = np.rint(X_avg)"
     ],
     "language": "python",
     "metadata": {},
     "outputs": [],
     "prompt_number": 36
    },
    {
     "cell_type": "code",
     "collapsed": false,
     "input": [
      "makeCM_plot(y_train2, X_avg)"
     ],
     "language": "python",
     "metadata": {},
     "outputs": [
      {
       "output_type": "stream",
       "stream": "stdout",
       "text": [
        "[[ 0.48534127  0.40998626  0.06138342  0.03504352  0.00824553]\n",
        " [ 0.14338067  0.5881814   0.17086578  0.09184608  0.00572607]\n",
        " [ 0.04924416  0.3683005   0.33325699  0.23339441  0.01580394]\n",
        " [ 0.01305543  0.09413651  0.19583142  0.57077416  0.12620247]\n",
        " [ 0.01420064  0.03275309  0.05771874  0.44457169  0.45075584]]\n"
       ]
      },
      {
       "metadata": {},
       "output_type": "display_data",
       "png": "[encoded data removed]",
       "text": [
        "<matplotlib.figure.Figure at 0x10c45fe10>"
       ]
      }
     ],
     "prompt_number": 37
    },
    {
     "cell_type": "code",
     "collapsed": false,
     "input": [
      "print ErrorEst(y_train2, X_avg)\n",
      "print stdev(y_train2-X_avg)"
     ],
     "language": "python",
     "metadata": {},
     "outputs": [
      {
       "output_type": "stream",
       "stream": "stdout",
       "text": [
        "0.636463582226\n",
        "0.968669038702\n"
       ]
      }
     ],
     "prompt_number": 38
    },
    {
     "cell_type": "heading",
     "level": 4,
     "metadata": {},
     "source": [
      "Averaging of SVM, NB, and Logreg"
     ]
    },
    {
     "cell_type": "code",
     "collapsed": false,
     "input": [
      "X_3avg = np.rint((y_SVMpred+y_NBpred+y_Logregpred)/3)"
     ],
     "language": "python",
     "metadata": {},
     "outputs": [],
     "prompt_number": 39
    },
    {
     "cell_type": "code",
     "collapsed": false,
     "input": [
      "makeCM_plot(y_train2, X_3avg)"
     ],
     "language": "python",
     "metadata": {},
     "outputs": [
      {
       "output_type": "stream",
       "stream": "stdout",
       "text": [
        "[[ 0.58566193  0.28286761  0.08909757  0.03183692  0.01053596]\n",
        " [ 0.20293175  0.45579478  0.26523133  0.06596427  0.01007787]\n",
        " [ 0.06367384  0.26958314  0.46174989  0.17704993  0.0279432 ]\n",
        " [ 0.01488777  0.05909299  0.28630325  0.4505268   0.18918919]\n",
        " [ 0.01328447  0.02885937  0.07672927  0.30348145  0.57764544]]\n"
       ]
      },
      {
       "metadata": {},
       "output_type": "display_data",
       "png": "[encoded data removed]",
       "text": [
        "<matplotlib.figure.Figure at 0x11e5ec650>"
       ]
      }
     ],
     "prompt_number": 40
    },
    {
     "cell_type": "code",
     "collapsed": false,
     "input": [
      "print ErrorEst(y_train2, X_3avg)\n",
      "print stdev(y_train2 - X_3avg)"
     ],
     "language": "python",
     "metadata": {},
     "outputs": [
      {
       "output_type": "stream",
       "stream": "stdout",
       "text": [
        "0.618781493358\n",
        "0.964461552284\n"
       ]
      }
     ],
     "prompt_number": 41
    },
    {
     "cell_type": "heading",
     "level": 4,
     "metadata": {},
     "source": [
      "Weighted Averaging"
     ]
    },
    {
     "cell_type": "code",
     "collapsed": false,
     "input": [
      "def wtail(x):\n",
      "    x = 0.8+((x-3)/2)**2\n",
      "    return x\n",
      "\n",
      "def wcenter(x):\n",
      "    x = 1.2-((x-3)/2)**2\n",
      "    return x"
     ],
     "language": "python",
     "metadata": {},
     "outputs": [],
     "prompt_number": 42
    },
    {
     "cell_type": "code",
     "collapsed": false,
     "input": [
      "X_wavg = wtail(y_NBpred)*(y_SVMpred)/3 + wcenter(y_NBpred)*(y_NBpred)/3 + y_Logregpred/3\n",
      "X_wavg = np.rint(X_wavg)"
     ],
     "language": "python",
     "metadata": {},
     "outputs": [],
     "prompt_number": 43
    },
    {
     "cell_type": "code",
     "collapsed": false,
     "input": [
      "makeCM_plot(y_train2, X_wavg)"
     ],
     "language": "python",
     "metadata": {},
     "outputs": [
      {
       "output_type": "stream",
       "stream": "stdout",
       "text": [
        "[[ 0.55336693  0.29844251  0.10444343  0.0263399   0.01740724]\n",
        " [ 0.18185983  0.46633074  0.27645442  0.06321576  0.01213926]\n",
        " [ 0.05588639  0.2677508   0.47022446  0.17704993  0.02908841]\n",
        " [ 0.01351351  0.05611544  0.29225836  0.45716903  0.18094366]\n",
        " [ 0.0139716   0.02382043  0.0865781   0.32111773  0.55451214]]\n"
       ]
      },
      {
       "metadata": {},
       "output_type": "display_data",
       "png": "[encoded data removed]",
       "text": [
        "<matplotlib.figure.Figure at 0x107b87c50>"
       ]
      }
     ],
     "prompt_number": 44
    },
    {
     "cell_type": "code",
     "collapsed": false,
     "input": [
      "print ErrorEst(y_train2, X_wavg)\n",
      "print stdev(y_train2 - X_wavg)"
     ],
     "language": "python",
     "metadata": {},
     "outputs": [
      {
       "output_type": "stream",
       "stream": "stdout",
       "text": [
        "0.627897388914\n",
        "0.975586833341\n"
       ]
      }
     ],
     "prompt_number": 45
    },
    {
     "cell_type": "heading",
     "level": 4,
     "metadata": {},
     "source": [
      "Linear regression"
     ]
    },
    {
     "cell_type": "code",
     "collapsed": false,
     "input": [
      "Linreg_ens = LinearRegression()"
     ],
     "language": "python",
     "metadata": {},
     "outputs": [],
     "prompt_number": 46
    },
    {
     "cell_type": "code",
     "collapsed": false,
     "input": [
      "Linreg_ens.fit(X_enstrain, y_train2)"
     ],
     "language": "python",
     "metadata": {},
     "outputs": [
      {
       "metadata": {},
       "output_type": "pyout",
       "prompt_number": 47,
       "text": [
        "LinearRegression(copy_X=True, fit_intercept=True, normalize=False)"
       ]
      }
     ],
     "prompt_number": 47
    },
    {
     "cell_type": "code",
     "collapsed": false,
     "input": [
      "Linreg_ens.score(X_enstrain, y_train2)"
     ],
     "language": "python",
     "metadata": {},
     "outputs": [
      {
       "metadata": {},
       "output_type": "pyout",
       "prompt_number": 48,
       "text": [
        "0.59240633792218578"
       ]
      }
     ],
     "prompt_number": 48
    },
    {
     "cell_type": "code",
     "collapsed": false,
     "input": [
      "y_Linregout = np.rint(Linreg_ens.predict(X_enstest))"
     ],
     "language": "python",
     "metadata": {},
     "outputs": [],
     "prompt_number": 49
    },
    {
     "cell_type": "code",
     "collapsed": false,
     "input": [
      "makeCM_plot(y_test, y_Linregout)"
     ],
     "language": "python",
     "metadata": {},
     "outputs": [
      {
       "output_type": "stream",
       "stream": "stdout",
       "text": [
        "[[ 0.47691568  0.38025008  0.11381853  0.02212248  0.00689324]\n",
        " [ 0.13097147  0.46473229  0.33456236  0.06187881  0.00785508]\n",
        " [ 0.04360372  0.21865983  0.55947419  0.16175056  0.0165117 ]\n",
        " [ 0.01186278  0.05418403  0.32414235  0.48733568  0.12247515]\n",
        " [ 0.01138185  0.02837448  0.07999359  0.41728118  0.4629689 ]]\n"
       ]
      },
      {
       "metadata": {},
       "output_type": "display_data",
       "png": "[encoded data removed]",
       "text": [
        "<matplotlib.figure.Figure at 0x10c8ebfd0>"
       ]
      }
     ],
     "prompt_number": 50
    },
    {
     "cell_type": "code",
     "collapsed": false,
     "input": [
      "print ErrorEst(y_test, y_Linregout)\n",
      "print stdev(y_test - y_Linregout)"
     ],
     "language": "python",
     "metadata": {},
     "outputs": [
      {
       "output_type": "stream",
       "stream": "stdout",
       "text": [
        "0.622763706316\n",
        "0.947827530341\n"
       ]
      }
     ],
     "prompt_number": 51
    }
   ],
   "metadata": {}
  }
 ]
}
