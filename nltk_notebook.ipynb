{
 "metadata": {
  "name": "",
  "signature": "sha256:2752884f4353b53da262ed9882c5540217f5320a72781185f66bbde27774a629"
 },
 "nbformat": 3,
 "nbformat_minor": 0,
 "worksheets": [
  {
   "cells": [
    {
     "cell_type": "code",
     "collapsed": false,
     "input": [
      "import json\n",
      "import pandas as pd\n",
      "\n",
      "fn = 'foods.csv'\n",
      "f = open(fn,'r')\n",
      "df = pd.io.parsers.read_table(f, '\\t!\\t',engine='python')\n",
      "f.close()\n",
      "\n",
      "df=df.replace({'score': {'5.0':5,'4.0':4,'3.0':3,'2.0':2,'1.0':1}})"
     ],
     "language": "python",
     "metadata": {},
     "outputs": [],
     "prompt_number": 55
    },
    {
     "cell_type": "code",
     "collapsed": false,
     "input": [
      "df[0:5]"
     ],
     "language": "python",
     "metadata": {},
     "outputs": [
      {
       "html": [
        "<div style=\"max-height:1000px;max-width:1500px;overflow:auto;\">\n",
        "<table border=\"1\" class=\"dataframe\">\n",
        "  <thead>\n",
        "    <tr style=\"text-align: right;\">\n",
        "      <th></th>\n",
        "      <th>productId</th>\n",
        "      <th>userId</th>\n",
        "      <th>profileName</th>\n",
        "      <th>helpfulness</th>\n",
        "      <th>score</th>\n",
        "      <th>time</th>\n",
        "      <th>summary</th>\n",
        "      <th>text</th>\n",
        "    </tr>\n",
        "  </thead>\n",
        "  <tbody>\n",
        "    <tr>\n",
        "      <th>0</th>\n",
        "      <td> B001E4KFG0</td>\n",
        "      <td> A3SGXH7AUHU8GW</td>\n",
        "      <td>                      delmartian</td>\n",
        "      <td> 1/1</td>\n",
        "      <td> 5</td>\n",
        "      <td> 1303862400</td>\n",
        "      <td> Good Quality Dog Food</td>\n",
        "      <td> I have bought several of the Vitality canned d...</td>\n",
        "    </tr>\n",
        "    <tr>\n",
        "      <th>1</th>\n",
        "      <td> B00813GRG4</td>\n",
        "      <td> A1D87F6ZCVE5NK</td>\n",
        "      <td>                          dll pa</td>\n",
        "      <td> 0/0</td>\n",
        "      <td> 1</td>\n",
        "      <td> 1346976000</td>\n",
        "      <td>     Not as Advertised</td>\n",
        "      <td> Product arrived labeled as Jumbo Salted Peanut...</td>\n",
        "    </tr>\n",
        "    <tr>\n",
        "      <th>2</th>\n",
        "      <td> B000LQOCH0</td>\n",
        "      <td>  ABXLMWJIXXAIN</td>\n",
        "      <td> Natalia Corres \"Natalia Corres\"</td>\n",
        "      <td> 1/1</td>\n",
        "      <td> 4</td>\n",
        "      <td> 1219017600</td>\n",
        "      <td> \"Delight\" says it all</td>\n",
        "      <td> This is a confection that has been around a fe...</td>\n",
        "    </tr>\n",
        "    <tr>\n",
        "      <th>3</th>\n",
        "      <td> B000UA0QIQ</td>\n",
        "      <td> A395BORC6FGVXV</td>\n",
        "      <td>                            Karl</td>\n",
        "      <td> 3/3</td>\n",
        "      <td> 2</td>\n",
        "      <td> 1307923200</td>\n",
        "      <td>        Cough Medicine</td>\n",
        "      <td> If you are looking for the secret ingredient i...</td>\n",
        "    </tr>\n",
        "    <tr>\n",
        "      <th>4</th>\n",
        "      <td> B006K2ZZ7K</td>\n",
        "      <td> A1UQRSCLF8GW1T</td>\n",
        "      <td>   Michael D. Bigham \"M. Wassir\"</td>\n",
        "      <td> 0/0</td>\n",
        "      <td> 5</td>\n",
        "      <td> 1350777600</td>\n",
        "      <td>           Great taffy</td>\n",
        "      <td> Great taffy at a great price.  There was a wid...</td>\n",
        "    </tr>\n",
        "  </tbody>\n",
        "</table>\n",
        "</div>"
       ],
       "metadata": {},
       "output_type": "pyout",
       "prompt_number": 56,
       "text": [
        "    productId          userId                      profileName helpfulness  \\\n",
        "0  B001E4KFG0  A3SGXH7AUHU8GW                       delmartian         1/1   \n",
        "1  B00813GRG4  A1D87F6ZCVE5NK                           dll pa         0/0   \n",
        "2  B000LQOCH0   ABXLMWJIXXAIN  Natalia Corres \"Natalia Corres\"         1/1   \n",
        "3  B000UA0QIQ  A395BORC6FGVXV                             Karl         3/3   \n",
        "4  B006K2ZZ7K  A1UQRSCLF8GW1T    Michael D. Bigham \"M. Wassir\"         0/0   \n",
        "\n",
        "  score        time                summary  \\\n",
        "0     5  1303862400  Good Quality Dog Food   \n",
        "1     1  1346976000      Not as Advertised   \n",
        "2     4  1219017600  \"Delight\" says it all   \n",
        "3     2  1307923200         Cough Medicine   \n",
        "4     5  1350777600            Great taffy   \n",
        "\n",
        "                                                text  \n",
        "0  I have bought several of the Vitality canned d...  \n",
        "1  Product arrived labeled as Jumbo Salted Peanut...  \n",
        "2  This is a confection that has been around a fe...  \n",
        "3  If you are looking for the secret ingredient i...  \n",
        "4  Great taffy at a great price.  There was a wid...  "
       ]
      }
     ],
     "prompt_number": 56
    },
    {
     "cell_type": "code",
     "collapsed": false,
     "input": [
      "import pickle\n",
      "classifier = pickle.load(open(\"/Users/mehdijamei/nltk_data/classifiers/movie_reviews_NaiveBayes.pickle\"))"
     ],
     "language": "python",
     "metadata": {},
     "outputs": [],
     "prompt_number": 7
    },
    {
     "cell_type": "code",
     "collapsed": false,
     "input": [
      "sentence=df['text'][1]\n",
      "print sentence\n",
      "words = sentence.split()\n",
      "feats = dict([(word, True) for word in words])\n",
      "classifier.classify(feats)"
     ],
     "language": "python",
     "metadata": {},
     "outputs": [
      {
       "output_type": "stream",
       "stream": "stdout",
       "text": [
        "Product arrived labeled as Jumbo Salted Peanuts...the peanuts were actually small sized unsalted. Not sure if this was an error or if the vendor intended to represent the product as \"Jumbo\".\n"
       ]
      },
      {
       "metadata": {},
       "output_type": "pyout",
       "prompt_number": 10,
       "text": [
        "'pos'"
       ]
      }
     ],
     "prompt_number": 10
    },
    {
     "cell_type": "code",
     "collapsed": false,
     "input": [
      "mask=(df['score']=='5.0') | (df['score']=='4.0')\n",
      "posReviews=df[mask]['text'][0:100]\n",
      "i=0\n",
      "for eachrecord in posReviews:\n",
      "    i=i+1\n",
      "    gn = 'FoodReviews/Positive/posReview'+str(i)+'.txt'\n",
      "    g=open(gn,'w')    \n",
      "    g.write(eachrecord)\n",
      "    g.close()"
     ],
     "language": "python",
     "metadata": {},
     "outputs": [],
     "prompt_number": 4
    },
    {
     "cell_type": "code",
     "collapsed": false,
     "input": [
      "mask=(df['score']<=2))\n",
      "negReviews=df[mask]['text'][0:100]\n",
      "i=0\n",
      "for eachrecord in negReviews:\n",
      "    i=i+1\n",
      "    gn = 'FoodReviews/neg/negReview'+str(i)+'.txt'\n",
      "    g=open(gn,'w')    \n",
      "    g.write(eachrecord)\n",
      "    g.close()"
     ],
     "language": "python",
     "metadata": {},
     "outputs": [],
     "prompt_number": 5
    },
    {
     "cell_type": "code",
     "collapsed": false,
     "input": [
      "mask=(df['score']>2))\n",
      "posReviews=df[mask]['text'][0:100]\n",
      "i=0\n",
      "for eachrecord in posReviews:\n",
      "    i=i+1\n",
      "    gn = 'FoodReviews/pos/posReview'+str(i)+'.txt'\n",
      "    g=open(gn,'w')    \n",
      "    g.write(eachrecord)\n",
      "    g.close()"
     ],
     "language": "python",
     "metadata": {},
     "outputs": []
    },
    {
     "cell_type": "code",
     "collapsed": false,
     "input": [
      "import pickle\n",
      "classifier = pickle.load(open(\"/Users/mehdijamei/nltk_data/classifiers/FoodReviews_NaiveBayes.pickle\"))"
     ],
     "language": "python",
     "metadata": {},
     "outputs": [],
     "prompt_number": 11
    },
    {
     "cell_type": "code",
     "collapsed": false,
     "input": [
      "def classifyReview(text):\n",
      "    try:\n",
      "        words = text.split()\n",
      "        feats = dict([(word, True) for word in words])\n",
      "        return classifier.classify(feats)\n",
      "    except:\n",
      "        return 0\n",
      "\n",
      "df['class']=df['text'].apply(classifyReview)\n",
      "df=df.replace({'class': {'pos':1,'neg':0}})"
     ],
     "language": "python",
     "metadata": {},
     "outputs": [],
     "prompt_number": 89
    },
    {
     "cell_type": "code",
     "collapsed": false,
     "input": [
      "df[0:10]"
     ],
     "language": "python",
     "metadata": {},
     "outputs": [
      {
       "html": [
        "<div style=\"max-height:1000px;max-width:1500px;overflow:auto;\">\n",
        "<table border=\"1\" class=\"dataframe\">\n",
        "  <thead>\n",
        "    <tr style=\"text-align: right;\">\n",
        "      <th></th>\n",
        "      <th>productId</th>\n",
        "      <th>userId</th>\n",
        "      <th>profileName</th>\n",
        "      <th>helpfulness</th>\n",
        "      <th>score</th>\n",
        "      <th>time</th>\n",
        "      <th>summary</th>\n",
        "      <th>text</th>\n",
        "      <th>class</th>\n",
        "    </tr>\n",
        "  </thead>\n",
        "  <tbody>\n",
        "    <tr>\n",
        "      <th>0</th>\n",
        "      <td> B001E4KFG0</td>\n",
        "      <td> A3SGXH7AUHU8GW</td>\n",
        "      <td>                      delmartian</td>\n",
        "      <td> 1/1</td>\n",
        "      <td> 5</td>\n",
        "      <td> 1303862400</td>\n",
        "      <td>                         Good Quality Dog Food</td>\n",
        "      <td> I have bought several of the Vitality canned d...</td>\n",
        "      <td> 1</td>\n",
        "    </tr>\n",
        "    <tr>\n",
        "      <th>1</th>\n",
        "      <td> B00813GRG4</td>\n",
        "      <td> A1D87F6ZCVE5NK</td>\n",
        "      <td>                          dll pa</td>\n",
        "      <td> 0/0</td>\n",
        "      <td> 1</td>\n",
        "      <td> 1346976000</td>\n",
        "      <td>                             Not as Advertised</td>\n",
        "      <td> Product arrived labeled as Jumbo Salted Peanut...</td>\n",
        "      <td> 0</td>\n",
        "    </tr>\n",
        "    <tr>\n",
        "      <th>2</th>\n",
        "      <td> B000LQOCH0</td>\n",
        "      <td>  ABXLMWJIXXAIN</td>\n",
        "      <td> Natalia Corres \"Natalia Corres\"</td>\n",
        "      <td> 1/1</td>\n",
        "      <td> 4</td>\n",
        "      <td> 1219017600</td>\n",
        "      <td>                         \"Delight\" says it all</td>\n",
        "      <td> This is a confection that has been around a fe...</td>\n",
        "      <td> 1</td>\n",
        "    </tr>\n",
        "    <tr>\n",
        "      <th>3</th>\n",
        "      <td> B000UA0QIQ</td>\n",
        "      <td> A395BORC6FGVXV</td>\n",
        "      <td>                            Karl</td>\n",
        "      <td> 3/3</td>\n",
        "      <td> 2</td>\n",
        "      <td> 1307923200</td>\n",
        "      <td>                                Cough Medicine</td>\n",
        "      <td> If you are looking for the secret ingredient i...</td>\n",
        "      <td> 0</td>\n",
        "    </tr>\n",
        "    <tr>\n",
        "      <th>4</th>\n",
        "      <td> B006K2ZZ7K</td>\n",
        "      <td> A1UQRSCLF8GW1T</td>\n",
        "      <td>   Michael D. Bigham \"M. Wassir\"</td>\n",
        "      <td> 0/0</td>\n",
        "      <td> 5</td>\n",
        "      <td> 1350777600</td>\n",
        "      <td>                                   Great taffy</td>\n",
        "      <td> Great taffy at a great price.  There was a wid...</td>\n",
        "      <td> 1</td>\n",
        "    </tr>\n",
        "    <tr>\n",
        "      <th>5</th>\n",
        "      <td> B006K2ZZ7K</td>\n",
        "      <td>  ADT0SRK1MGOEU</td>\n",
        "      <td>                  Twoapennything</td>\n",
        "      <td> 0/0</td>\n",
        "      <td> 4</td>\n",
        "      <td> 1342051200</td>\n",
        "      <td>                                    Nice Taffy</td>\n",
        "      <td> I got a wild hair for taffy and ordered this f...</td>\n",
        "      <td> 1</td>\n",
        "    </tr>\n",
        "    <tr>\n",
        "      <th>6</th>\n",
        "      <td> B006K2ZZ7K</td>\n",
        "      <td> A1SP2KVKFXXRU1</td>\n",
        "      <td>               David C. Sullivan</td>\n",
        "      <td> 0/0</td>\n",
        "      <td> 5</td>\n",
        "      <td> 1340150400</td>\n",
        "      <td> Great!  Just as good as the expensive brands!</td>\n",
        "      <td> This saltwater taffy had great flavors and was...</td>\n",
        "      <td> 1</td>\n",
        "    </tr>\n",
        "    <tr>\n",
        "      <th>7</th>\n",
        "      <td> B006K2ZZ7K</td>\n",
        "      <td> A3JRGQVEQN31IQ</td>\n",
        "      <td>              Pamela G. Williams</td>\n",
        "      <td> 0/0</td>\n",
        "      <td> 5</td>\n",
        "      <td> 1336003200</td>\n",
        "      <td>                        Wonderful, tasty taffy</td>\n",
        "      <td> This taffy is so good.  It is very soft and ch...</td>\n",
        "      <td> 1</td>\n",
        "    </tr>\n",
        "    <tr>\n",
        "      <th>8</th>\n",
        "      <td> B000E7L2R4</td>\n",
        "      <td> A1MZYO9TZK0BBI</td>\n",
        "      <td>                        R. James</td>\n",
        "      <td> 1/1</td>\n",
        "      <td> 5</td>\n",
        "      <td> 1322006400</td>\n",
        "      <td>                                    Yay Barley</td>\n",
        "      <td> Right now I'm mostly just sprouting this so my...</td>\n",
        "      <td> 1</td>\n",
        "    </tr>\n",
        "    <tr>\n",
        "      <th>9</th>\n",
        "      <td> B00171APVA</td>\n",
        "      <td> A21BT40VZCCYT4</td>\n",
        "      <td>                   Carol A. Reed</td>\n",
        "      <td> 0/0</td>\n",
        "      <td> 5</td>\n",
        "      <td> 1351209600</td>\n",
        "      <td>                              Healthy Dog Food</td>\n",
        "      <td> This is a very healthy dog food. Good for thei...</td>\n",
        "      <td> 1</td>\n",
        "    </tr>\n",
        "  </tbody>\n",
        "</table>\n",
        "</div>"
       ],
       "metadata": {},
       "output_type": "pyout",
       "prompt_number": 90,
       "text": [
        "    productId          userId                      profileName helpfulness  \\\n",
        "0  B001E4KFG0  A3SGXH7AUHU8GW                       delmartian         1/1   \n",
        "1  B00813GRG4  A1D87F6ZCVE5NK                           dll pa         0/0   \n",
        "2  B000LQOCH0   ABXLMWJIXXAIN  Natalia Corres \"Natalia Corres\"         1/1   \n",
        "3  B000UA0QIQ  A395BORC6FGVXV                             Karl         3/3   \n",
        "4  B006K2ZZ7K  A1UQRSCLF8GW1T    Michael D. Bigham \"M. Wassir\"         0/0   \n",
        "5  B006K2ZZ7K   ADT0SRK1MGOEU                   Twoapennything         0/0   \n",
        "6  B006K2ZZ7K  A1SP2KVKFXXRU1                David C. Sullivan         0/0   \n",
        "7  B006K2ZZ7K  A3JRGQVEQN31IQ               Pamela G. Williams         0/0   \n",
        "8  B000E7L2R4  A1MZYO9TZK0BBI                         R. James         1/1   \n",
        "9  B00171APVA  A21BT40VZCCYT4                    Carol A. Reed         0/0   \n",
        "\n",
        "  score        time                                        summary  \\\n",
        "0     5  1303862400                          Good Quality Dog Food   \n",
        "1     1  1346976000                              Not as Advertised   \n",
        "2     4  1219017600                          \"Delight\" says it all   \n",
        "3     2  1307923200                                 Cough Medicine   \n",
        "4     5  1350777600                                    Great taffy   \n",
        "5     4  1342051200                                     Nice Taffy   \n",
        "6     5  1340150400  Great!  Just as good as the expensive brands!   \n",
        "7     5  1336003200                         Wonderful, tasty taffy   \n",
        "8     5  1322006400                                     Yay Barley   \n",
        "9     5  1351209600                               Healthy Dog Food   \n",
        "\n",
        "                                                text  class  \n",
        "0  I have bought several of the Vitality canned d...      1  \n",
        "1  Product arrived labeled as Jumbo Salted Peanut...      0  \n",
        "2  This is a confection that has been around a fe...      1  \n",
        "3  If you are looking for the secret ingredient i...      0  \n",
        "4  Great taffy at a great price.  There was a wid...      1  \n",
        "5  I got a wild hair for taffy and ordered this f...      1  \n",
        "6  This saltwater taffy had great flavors and was...      1  \n",
        "7  This taffy is so good.  It is very soft and ch...      1  \n",
        "8  Right now I'm mostly just sprouting this so my...      1  \n",
        "9  This is a very healthy dog food. Good for thei...      1  "
       ]
      }
     ],
     "prompt_number": 90
    },
    {
     "cell_type": "code",
     "collapsed": false,
     "input": [
      "import pylab as pl\n",
      "%pylab inline\n",
      "pl.figure\n",
      "pl.xlabel('Actual Review Score out of 5')\n",
      "pl.ylabel('Average Predicted Positivity (0:negative, 1:positive)')\n",
      "pl.title('Average Review Length vs. Average Helpfulness')\n",
      "avgClass=range(5)\n",
      "stdClass=range(5)\n",
      "score=range(1,6)\n",
      "for i in range(5):\n",
      "    avgClass[i]=df[df['score']==i+1]['class'].mean()\n",
      "    stdClass[i]=df[df['score']==i+1]['class'].std()\n",
      "pl.bar(score,avgClass,0.1,yerr=stdClass)\n",
      "pl.savefig('average of the predicted class vs the actual score.',dpi=300)"
     ],
     "language": "python",
     "metadata": {},
     "outputs": [
      {
       "output_type": "stream",
       "stream": "stdout",
       "text": [
        "Populating the interactive namespace from numpy and matplotlib\n"
       ]
      },
      {
       "metadata": {},
       "output_type": "display_data",
       "png": "[encoded data removed]",
       "text": [
        "<matplotlib.figure.Figure at 0x13781a2d0>"
       ]
      }
     ],
     "prompt_number": 118
    },
    {
     "cell_type": "code",
     "collapsed": false,
     "input": [],
     "language": "python",
     "metadata": {},
     "outputs": [
      {
       "output_type": "stream",
       "stream": "stdout",
       "text": [
        "[ 0.    0.25  0.5   0.75  1.  ]\n"
       ]
      }
     ],
     "prompt_number": 130
    },
    {
     "cell_type": "code",
     "collapsed": false,
     "input": [],
     "language": "python",
     "metadata": {},
     "outputs": [
      {
       "ename": "AttributeError",
       "evalue": "Cannot access attribute 'shape' of 'DataFrameGroupBy' objects, try using the 'apply' method",
       "output_type": "pyerr",
       "traceback": [
        "\u001b[0;31m---------------------------------------------------------------------------\u001b[0m\n\u001b[0;31mAttributeError\u001b[0m                            Traceback (most recent call last)",
        "\u001b[0;32m<ipython-input-128-a69dc01b10d9>\u001b[0m in \u001b[0;36m<module>\u001b[0;34m()\u001b[0m\n\u001b[0;32m----> 1\u001b[0;31m \u001b[0mgroups\u001b[0m\u001b[0;34m.\u001b[0m\u001b[0mshape\u001b[0m\u001b[0;34m\u001b[0m\u001b[0m\n\u001b[0m",
        "\u001b[0;32m/Users/mehdijamei/anaconda/lib/python2.7/site-packages/pandas/core/groupby.pyc\u001b[0m in \u001b[0;36m__getattr__\u001b[0;34m(self, attr)\u001b[0m\n\u001b[1;32m    481\u001b[0m             \u001b[0;32mreturn\u001b[0m \u001b[0mself\u001b[0m\u001b[0;34m[\u001b[0m\u001b[0mattr\u001b[0m\u001b[0;34m]\u001b[0m\u001b[0;34m\u001b[0m\u001b[0m\n\u001b[1;32m    482\u001b[0m         \u001b[0;32mif\u001b[0m \u001b[0mhasattr\u001b[0m\u001b[0;34m(\u001b[0m\u001b[0mself\u001b[0m\u001b[0;34m.\u001b[0m\u001b[0mobj\u001b[0m\u001b[0;34m,\u001b[0m \u001b[0mattr\u001b[0m\u001b[0;34m)\u001b[0m\u001b[0;34m:\u001b[0m\u001b[0;34m\u001b[0m\u001b[0m\n\u001b[0;32m--> 483\u001b[0;31m             \u001b[0;32mreturn\u001b[0m \u001b[0mself\u001b[0m\u001b[0;34m.\u001b[0m\u001b[0m_make_wrapper\u001b[0m\u001b[0;34m(\u001b[0m\u001b[0mattr\u001b[0m\u001b[0;34m)\u001b[0m\u001b[0;34m\u001b[0m\u001b[0m\n\u001b[0m\u001b[1;32m    484\u001b[0m \u001b[0;34m\u001b[0m\u001b[0m\n\u001b[1;32m    485\u001b[0m         raise AttributeError(\"%r object has no attribute %r\" %\n",
        "\u001b[0;32m/Users/mehdijamei/anaconda/lib/python2.7/site-packages/pandas/core/groupby.pyc\u001b[0m in \u001b[0;36m_make_wrapper\u001b[0;34m(self, name)\u001b[0m\n\u001b[1;32m    496\u001b[0m                    \"using the 'apply' method\".format(kind, name,\n\u001b[1;32m    497\u001b[0m                                                      type(self).__name__))\n\u001b[0;32m--> 498\u001b[0;31m             \u001b[0;32mraise\u001b[0m \u001b[0mAttributeError\u001b[0m\u001b[0;34m(\u001b[0m\u001b[0mmsg\u001b[0m\u001b[0;34m)\u001b[0m\u001b[0;34m\u001b[0m\u001b[0m\n\u001b[0m\u001b[1;32m    499\u001b[0m \u001b[0;34m\u001b[0m\u001b[0m\n\u001b[1;32m    500\u001b[0m         \u001b[0;31m# need to setup the selection\u001b[0m\u001b[0;34m\u001b[0m\u001b[0;34m\u001b[0m\u001b[0m\n",
        "\u001b[0;31mAttributeError\u001b[0m: Cannot access attribute 'shape' of 'DataFrameGroupBy' objects, try using the 'apply' method"
       ]
      }
     ],
     "prompt_number": 128
    },
    {
     "cell_type": "code",
     "collapsed": false,
     "input": [
      "scoreGrByClassMean=groups['score'].mean()\n",
      "scoreGrByClassSTD=groups['score'].std()"
     ],
     "language": "python",
     "metadata": {},
     "outputs": [
      {
       "ename": "DataError",
       "evalue": "No numeric types to aggregate",
       "output_type": "pyerr",
       "traceback": [
        "\u001b[0;31m---------------------------------------------------------------------------\u001b[0m\n\u001b[0;31mDataError\u001b[0m                                 Traceback (most recent call last)",
        "\u001b[0;32m<ipython-input-127-8b1810f8daad>\u001b[0m in \u001b[0;36m<module>\u001b[0;34m()\u001b[0m\n\u001b[0;32m----> 1\u001b[0;31m \u001b[0mscoreGrByClassMean\u001b[0m\u001b[0;34m=\u001b[0m\u001b[0mgroups\u001b[0m\u001b[0;34m[\u001b[0m\u001b[0;34m'score'\u001b[0m\u001b[0;34m]\u001b[0m\u001b[0;34m.\u001b[0m\u001b[0mmean\u001b[0m\u001b[0;34m(\u001b[0m\u001b[0;34m)\u001b[0m\u001b[0;34m\u001b[0m\u001b[0m\n\u001b[0m\u001b[1;32m      2\u001b[0m \u001b[0mscoreGrByClassSTD\u001b[0m\u001b[0;34m=\u001b[0m\u001b[0mgroups\u001b[0m\u001b[0;34m[\u001b[0m\u001b[0;34m'score'\u001b[0m\u001b[0;34m]\u001b[0m\u001b[0;34m.\u001b[0m\u001b[0mstd\u001b[0m\u001b[0;34m(\u001b[0m\u001b[0;34m)\u001b[0m\u001b[0;34m\u001b[0m\u001b[0m\n",
        "\u001b[0;32m/Users/mehdijamei/anaconda/lib/python2.7/site-packages/pandas/core/groupby.pyc\u001b[0m in \u001b[0;36mmean\u001b[0;34m(self)\u001b[0m\n\u001b[1;32m    662\u001b[0m         \"\"\"\n\u001b[1;32m    663\u001b[0m         \u001b[0;32mtry\u001b[0m\u001b[0;34m:\u001b[0m\u001b[0;34m\u001b[0m\u001b[0m\n\u001b[0;32m--> 664\u001b[0;31m             \u001b[0;32mreturn\u001b[0m \u001b[0mself\u001b[0m\u001b[0;34m.\u001b[0m\u001b[0m_cython_agg_general\u001b[0m\u001b[0;34m(\u001b[0m\u001b[0;34m'mean'\u001b[0m\u001b[0;34m)\u001b[0m\u001b[0;34m\u001b[0m\u001b[0m\n\u001b[0m\u001b[1;32m    665\u001b[0m         \u001b[0;32mexcept\u001b[0m \u001b[0mGroupByError\u001b[0m\u001b[0;34m:\u001b[0m\u001b[0;34m\u001b[0m\u001b[0m\n\u001b[1;32m    666\u001b[0m             \u001b[0;32mraise\u001b[0m\u001b[0;34m\u001b[0m\u001b[0m\n",
        "\u001b[0;32m/Users/mehdijamei/anaconda/lib/python2.7/site-packages/pandas/core/groupby.pyc\u001b[0m in \u001b[0;36m_cython_agg_general\u001b[0;34m(self, how, numeric_only)\u001b[0m\n\u001b[1;32m   1002\u001b[0m \u001b[0;34m\u001b[0m\u001b[0m\n\u001b[1;32m   1003\u001b[0m         \u001b[0;32mif\u001b[0m \u001b[0mlen\u001b[0m\u001b[0;34m(\u001b[0m\u001b[0moutput\u001b[0m\u001b[0;34m)\u001b[0m \u001b[0;34m==\u001b[0m \u001b[0;36m0\u001b[0m\u001b[0;34m:\u001b[0m\u001b[0;34m\u001b[0m\u001b[0m\n\u001b[0;32m-> 1004\u001b[0;31m             \u001b[0;32mraise\u001b[0m \u001b[0mDataError\u001b[0m\u001b[0;34m(\u001b[0m\u001b[0;34m'No numeric types to aggregate'\u001b[0m\u001b[0;34m)\u001b[0m\u001b[0;34m\u001b[0m\u001b[0m\n\u001b[0m\u001b[1;32m   1005\u001b[0m \u001b[0;34m\u001b[0m\u001b[0m\n\u001b[1;32m   1006\u001b[0m         \u001b[0;32mreturn\u001b[0m \u001b[0mself\u001b[0m\u001b[0;34m.\u001b[0m\u001b[0m_wrap_aggregated_output\u001b[0m\u001b[0;34m(\u001b[0m\u001b[0moutput\u001b[0m\u001b[0;34m,\u001b[0m \u001b[0mnames\u001b[0m\u001b[0;34m)\u001b[0m\u001b[0;34m\u001b[0m\u001b[0m\n",
        "\u001b[0;31mDataError\u001b[0m: No numeric types to aggregate"
       ]
      }
     ],
     "prompt_number": 127
    },
    {
     "cell_type": "code",
     "collapsed": false,
     "input": [],
     "language": "python",
     "metadata": {},
     "outputs": []
    }
   ],
   "metadata": {}
  }
 ]
}